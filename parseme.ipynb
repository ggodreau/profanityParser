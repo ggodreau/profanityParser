{
 "cells": [
  {
   "cell_type": "code",
   "execution_count": 97,
   "metadata": {
    "code_folding": []
   },
   "outputs": [],
   "source": [
    "from io import open as openio # used for parsing the SpamAssassin dataset, needed for \n",
    "import os\n",
    "import re\n",
    "import pandas as pd\n",
    "from tqdm import tqdm\n",
    "\n",
    "class Zerofucks:\n",
    "    \n",
    "    def __init__(self):\n",
    "        self.df = pd.DataFrame(\n",
    "            {'file': [], 'line_no': [], 'badword': [], 'content': []}, \n",
    "            columns=['file', 'line_no', 'badword', 'content']\n",
    "        )\n",
    "    \n",
    "    def __makeRegex__(self, shitToFind=[\"fuck\", \"shit\"]):\n",
    "        '''\n",
    "        shitToFind is a list of word literals,\n",
    "        uses word boundary \\b\n",
    "\n",
    "        returns a regex string\n",
    "        '''\n",
    "        shitString = ''\n",
    "        for word in shitToFind:\n",
    "            # shitString += r\"\\b\" + word + r\"\\b|\"\n",
    "            \n",
    "            # case insensitive (?i) has deprecation warning:\n",
    "            # https://github.com/bottlepy/bottle/issues/949\n",
    "            shitString += r\"(?i)\\b\" + word + r\"\\b|\"\n",
    "        return shitString[:-1]\n",
    "        \n",
    "    def write_df(self, path='./', filename='out.csv'):\n",
    "        '''\n",
    "        path: path to where you want to put the file\n",
    "        filename: name of file\n",
    "        \n",
    "        Writes the csv from self.df to a csv file\n",
    "        '''\n",
    "        try:\n",
    "            self.df.to_csv(path_or_buf=path + filename, index=False, chunksize=1000)\n",
    "            print(\"File written to {}\".format(path + filename))\n",
    "        except:\n",
    "            print(\"Unable to write csv, did you run .find_shit() yet?\")\n",
    "            \n",
    "    def erase_shit(self, input_file, postfix='', bad_words=['fuck', 'shit']):\n",
    "        '''\n",
    "        Erases any bad words from the user specified files.\n",
    "        \n",
    "        Takes an input file and writes to an outputfile.\n",
    "        ALSO returns a dictionary for forensic - what did you change - purposes\n",
    "        \n",
    "        input_file: full path to the file you want to process / remove bad words from\n",
    "        postfix: optional string value you want to add to the end of the outputfile. If blank, it'll overwrite the input file.\n",
    "        '''\n",
    "        \n",
    "        print('Replacing bad words in {}...'.format(input_file))\n",
    "        try:\n",
    "            #infile = open(input_file, mode='r').readlines()\n",
    "            tempfile = open(input_file + '.tmp', mode='w')\n",
    "            with open(input_file, 'r', encoding='iso-8859-15') as infile:\n",
    "#                 outfile = open(output_file, mode='w')\n",
    "                shit_dict = {}\n",
    "                for content in tqdm(infile):\n",
    "                    if len(re.findall(self.__makeRegex__(bad_words), content)) > 0:\n",
    "        #                 print('Replacing {}...'.format(re.findall(self.__makeRegex__(bad_words), content)[0]))\n",
    "                        if re.findall(self.__makeRegex__(bad_words), content)[0] in shit_dict:\n",
    "                            shit_dict[re.findall(self.__makeRegex__(bad_words), content)[0]] += 1\n",
    "                        else:\n",
    "                            shit_dict[re.findall(self.__makeRegex__(bad_words), content)[0]] = 1\n",
    "                    # the '' in this line is what to replace the bad words with. In this case, nothing at all.\n",
    "                    tempfile.write(re.sub(self.__makeRegex__(bad_words), '', content))\n",
    "            # write the tempfile contents to the original file  \n",
    "            print('overwriting {} with {}'.format(input_file+'.tmp', input_file+postfix))\n",
    "            os.rename(input_file + '.tmp', input_file+postfix)\n",
    "            return shit_dict\n",
    "        except ValueError:\n",
    "            print(f'Unable to replace bad words in {input_file}.')\n",
    "            \n",
    "    def erase_shit_test(self, root_paths, postfix='', bad_words=['fuck', 'shit']):\n",
    "        '''\n",
    "        root_paths: LIST of directories to replace shit in. Must be a list. Cannot be a specific file.\n",
    "        postfix: string to add to the end of the name of the output file. If input is 'myFile.csv' with a postfix of '_new', the scrubbed file would be 'myFile.csv_new'. No prefix overwrites the existing file.\n",
    "        bad_words: optional list of words to replace in the files within root_paths\n",
    "        '''\n",
    "        for root_path in root_paths:\n",
    "            for (root, dirs, files) in os.walk(root_path):\n",
    "                 for name in files:\n",
    "                    self.erase_shit(root+'/'+name, postfix, bad_words)\n",
    "    \n",
    "    def find_shit(self, root='./', bad_words=['fuck', 'shit'], include_content=True):\n",
    "        '''\n",
    "        root: the directory root where you want the crawl to start\n",
    "        bad_words: list of words you want to search for.\n",
    "            These can also be regular expressions. It will\n",
    "            match partials, so 'fuck' will match 'fucking',\n",
    "            'unfuckingbelievable', etc. Use \\b and similar\n",
    "            to constrain to word boundaries.\n",
    "        \n",
    "        The meat and potatoes, this is what conducts the walk\n",
    "        and writes the resultant dataframe to self.df.\n",
    "        \n",
    "        To export the df to a csv, use the write_df() method.\n",
    "        '''        \n",
    "        for item in os.walk(root):\n",
    "            \n",
    "            # keep records for each directory parsed\n",
    "            file_df = []\n",
    "            line_no_df = []\n",
    "            badword_df = []\n",
    "            if include_content:\n",
    "                content_df = []\n",
    "            \n",
    "            for file in item[2]:\n",
    "                print('Searching {}'.format(item[0]+'/'+file))\n",
    "                try:\n",
    "                    openfile = open(item[0] + '/' + file, \"r\").readlines()\n",
    "                    for line_no, content in enumerate(openfile):\n",
    "                        if len(re.findall(self.__makeRegex__(bad_words), content)) > 0:\n",
    "                            for i, badword in enumerate(re.findall(self.__makeRegex__(bad_words), content)):\n",
    "                                file_df.append(item[0]+'/'+file)\n",
    "                                line_no_df.append(line_no)\n",
    "                                badword_df.append(re.findall(self.__makeRegex__(bad_words),content)[i])\n",
    "                                # rstrip to remove newline character\n",
    "                                if include_content:\n",
    "                                    content_df.append(content.rstrip())\n",
    "                except:\n",
    "                    pass\n",
    "                            \n",
    "#             print(content_df)\n",
    "\n",
    "            # write the records to the dataframe with each dir parsed\n",
    "            if include_content:\n",
    "                self.df = self.df.append(pd.DataFrame({'file': file_df, \n",
    "                                'line_no': line_no_df, \n",
    "                                'badword': badword_df,\n",
    "                                'content': content_df},\n",
    "                                columns=['file', 'line_no', 'badword', 'content']),\n",
    "                                ignore_index=True)\n",
    "            else:\n",
    "                self.df = self.df.append(pd.DataFrame({'file': file_df, \n",
    "                    'line_no': line_no_df, \n",
    "                    'badword': badword_df},\n",
    "                    columns=['file', 'line_no', 'badword']),\n",
    "                    ignore_index=True)\n",
    "        \n",
    "        # change the silly auto-detected float line_no to an integer\n",
    "        self.df['line_no'] = self.df.copy()['line_no'].apply(lambda x: int(x))\n",
    "        # return self.df\n",
    "        print(\"Dataframe successfully created, \\n \\\n",
    "            use <obj>.df to print the df, or \\n \\\n",
    "            .write_df() method to write to file.\")"
   ]
  },
  {
   "cell_type": "code",
   "execution_count": null,
   "metadata": {},
   "outputs": [],
   "source": [
    "# ERASE SHIT BACKUP\n",
    "    def erase_shit(self, input_file, output_file, bad_words=['fuck', 'shit']):\n",
    "        '''\n",
    "        Erases any bad words from the user specified files.\n",
    "        \n",
    "        Takes an input file and writes to an outputfile.\n",
    "        ALSO returns a dictionary for forensic - what did you change - purposes\n",
    "        '''\n",
    "        \n",
    "        print('Replacing bad words in {}...'.format(input_file))\n",
    "        try:\n",
    "            #infile = open(input_file, mode='r').readlines()\n",
    "            with open(input_file, 'r', encoding='iso-8859-15') as infile:\n",
    "                outfile = open(output_file, mode='w')\n",
    "                shit_dict = {}\n",
    "                for content in tqdm(infile):\n",
    "                    if len(re.findall(self.__makeRegex__(bad_words), content)) > 0:\n",
    "        #                 print('Replacing {}...'.format(re.findall(self.__makeRegex__(bad_words), content)[0]))\n",
    "                        if re.findall(self.__makeRegex__(bad_words), content)[0] in shit_dict:\n",
    "                            shit_dict[re.findall(self.__makeRegex__(bad_words), content)[0]] += 1\n",
    "                        else:\n",
    "                            shit_dict[re.findall(self.__makeRegex__(bad_words), content)[0]] = 1\n",
    "                    outfile.write(re.sub(self.__makeRegex__(bad_words), ' ', content))\n",
    "                return shit_dict\n",
    "        except ValueError:\n",
    "            print(f'Unable to replace bad words in {input_file}.')"
   ]
  },
  {
   "cell_type": "markdown",
   "metadata": {},
   "source": [
    "Find words in files\n",
    "\n",
    "Use this to find bad words in multiple files"
   ]
  },
  {
   "cell_type": "code",
   "execution_count": 98,
   "metadata": {},
   "outputs": [],
   "source": [
    "# instantiate class\n",
    "myFinder = Zerofucks()\n",
    "\n",
    "# load in bad words list from file,\n",
    "# write to list my_badwords\n",
    "my_badwords = []\n",
    "badwords_file = open('./bad_words.txt', \"r\").readlines()\n",
    "for line in badwords_file:\n",
    "    my_badwords.append(line.rstrip())"
   ]
  },
  {
   "cell_type": "code",
   "execution_count": 4,
   "metadata": {},
   "outputs": [
    {
     "name": "stderr",
     "output_type": "stream",
     "text": [
      "/home/greg/miniconda3/envs/utc/lib/python3.6/site-packages/pandas/core/frame.py:6211: FutureWarning: Sorting because non-concatenation axis is not aligned. A future version\n",
      "of pandas will change to not sort by default.\n",
      "\n",
      "To accept the future behavior, pass 'sort=False'.\n",
      "\n",
      "To retain the current behavior and silence the warning, pass 'sort=True'.\n",
      "\n",
      "  sort=sort)\n",
      "/home/greg/miniconda3/envs/utc/lib/python3.6/site-packages/ipykernel_launcher.py:93: DeprecationWarning: Flags not at the start of the expression '(?i)\\\\ba55\\\\b|(?i)\\\\ban' (truncated)\n"
     ]
    },
    {
     "name": "stdout",
     "output_type": "stream",
     "text": [
      "Searching ./course_dump/week12/day1_neural_networks/nnet-intro-sklearn/intro_to_neural_networks.ipynb\n",
      "Searching ./course_dump/week12/day1_neural_networks/nnet-intro-sklearn/readme.md\n",
      "Searching ./course_dump/week12/day1_neural_networks/nnet-intro-sklearn/assets/images/relu.png\n",
      "Searching ./course_dump/week12/day1_neural_networks/nnet-intro-sklearn/assets/images/neuralnet.png\n",
      "Searching ./course_dump/week12/day1_neural_networks/nnet-intro-sklearn/assets/datasets/titanic_test.csv\n",
      "Searching ./course_dump/week12/day1_neural_networks/nnet-intro-sklearn/assets/datasets/titanic_train.csv\n",
      "Searching ./course_dump/week12/day1_neural_networks/nnet-intro-sklearn/images/ann-perceptron-update.png\n",
      "Searching ./course_dump/week12/day1_neural_networks/nnet-intro-sklearn/images/ann-perceptron-math.png\n",
      "Searching ./course_dump/week12/day1_neural_networks/nnet-intro-sklearn/images/ann-layers.png\n",
      "Searching ./course_dump/week12/day1_neural_networks/nnet-intro-sklearn/images/ann-perceptron.png\n",
      "Searching ./course_dump/week12/day4_recommender_systems/surprise_lab/surprise-lab-starter-code.ipynb\n",
      "Searching ./course_dump/week12/day4_recommender_systems/surprise_lab/surprise-lab-solution-code.ipynb\n",
      "Searching ./course_dump/week12/day3_recommender_systems_intro/recommendation_systems_intro/recommendation-engines.pdf\n",
      "Searching ./course_dump/week12/day3_recommender_systems_intro/recommendation_systems_intro/Recommendation-systems-intro-starter-code.ipynb\n",
      "Searching ./course_dump/week12/day3_recommender_systems_intro/recommendation_systems_intro/readme.md\n",
      "Searching ./course_dump/week12/day3_recommender_systems_intro/recommendation_systems_intro/Recommendation-systems-intro-solution-code.ipynb\n",
      "Searching ./course_dump/week12/day2_tensorflow/tensorflow-lab/nnet_regression_starter-code.ipynb\n",
      "Searching ./course_dump/week12/day2_tensorflow/tensorflow-lab/nnet_regression_solution-code.ipynb\n",
      "Searching ./course_dump/week12/day2_tensorflow/tensorflow-lesson/readme.md\n",
      "Searching ./course_dump/week12/day2_tensorflow/tensorflow-lesson/intro_to_tensorflow.ipynb\n",
      "Searching ./course_dump/week12/day2_tensorflow/tensorflow-lesson/assets/images/neuralnet.png\n",
      "Searching ./course_dump/week12/day2_tensorflow/tensorflow-lesson/assets/datasets/titanic_test.csv\n",
      "Searching ./course_dump/week12/day2_tensorflow/tensorflow-lesson/assets/datasets/titanic_train.csv\n",
      "Searching ./course_dump/week10/day4_aws_and_hadoop/hadoop-big-data-lab/readme.md\n",
      "Searching ./course_dump/week10/day4_aws_and_hadoop/hadoop-big-data-lab/hadoop-on-aws.ipynb\n",
      "Searching ./course_dump/week10/day4_aws_and_hadoop/hadoop-big-data-lab/assets/scripts/hadoop-streaming.jar\n",
      "Searching ./course_dump/week10/day4_aws_and_hadoop/hadoop-big-data-lab/assets/scripts/hadoop-mapreduce.jar\n",
      "Searching ./course_dump/week10/day4_aws_and_hadoop/hadoop-big-data-lab/assets/scripts/mapper.py\n",
      "Searching ./course_dump/week10/day4_aws_and_hadoop/hadoop-big-data-lab/assets/scripts/reducer.py\n",
      "Searching ./course_dump/week10/day4_aws_and_hadoop/hadoop-big-data-lab/assets/images/clusterstart.png\n",
      "Searching ./course_dump/week10/day4_aws_and_hadoop/hadoop-big-data-lab/assets/images/bigdata-vm.png\n",
      "Searching ./course_dump/week10/day4_aws_and_hadoop/hadoop-big-data-lab/assets/images/terminate.png\n",
      "Searching ./course_dump/week10/day4_aws_and_hadoop/hadoop-big-data-lab/assets/images/sshtunnel.png\n",
      "Searching ./course_dump/week10/day4_aws_and_hadoop/hadoop-big-data-lab/assets/images/virtualbox.png\n",
      "Searching ./course_dump/week10/day4_aws_and_hadoop/hadoop-big-data-lab/assets/images/clusterlist.png\n",
      "Searching ./course_dump/week10/day4_aws_and_hadoop/hadoop-big-data-lab/assets/images/clusterready.png\n",
      "Searching ./course_dump/week10/day4_aws_and_hadoop/hadoop-big-data-lab/assets/images/launch.png\n",
      "Searching ./course_dump/week10/day4_aws_and_hadoop/hadoop-big-data-lab/assets/images/webconnection.png\n",
      "Searching ./course_dump/week10/day4_aws_and_hadoop/hadoop-big-data-lab/assets/images/clusterstarting.png\n",
      "Searching ./course_dump/week10/day4_aws_and_hadoop/hadoop-big-data-lab/assets/images/hdwcshell.png\n",
      "Searching ./course_dump/week10/day4_aws_and_hadoop/hadoop-big-data-lab/assets/images/hdfsweb.png\n",
      "Searching ./course_dump/week10/day4_aws_and_hadoop/hadoop-big-data-lab/assets/images/emr.png\n",
      "Searching ./course_dump/week10/day4_aws_and_hadoop/hadoop-big-data-lab/assets/images/runningvm.png\n",
      "Searching ./course_dump/week10/day4_aws_and_hadoop/hadoop-big-data-lab/assets/images/securitygroups.png\n",
      "Searching ./course_dump/week10/day4_aws_and_hadoop/hadoop-big-data-lab/assets/images/hdwcyarn.png\n",
      "Searching ./course_dump/week10/day4_aws_and_hadoop/hadoop-big-data-lab/assets/images/emrcost.png\n",
      "Searching ./course_dump/week10/day4_aws_and_hadoop/hadoop-big-data-lab/assets/images/yarn.png\n",
      "Searching ./course_dump/week10/day4_aws_and_hadoop/hadoop-big-data-lab/assets/images/import.png\n",
      "Searching ./course_dump/week10/day4_aws_and_hadoop/AWS_intro/walkthrough-intro-to-aws.ipynb\n",
      "Searching ./course_dump/week10/day4_aws_and_hadoop/AWS_intro/readme.md\n",
      "Searching ./course_dump/week10/day4_aws_and_hadoop/AWS_intro/instructions/boto3_configuration.ipynb\n",
      "Searching ./course_dump/week10/day4_aws_and_hadoop/AWS_intro/instructions/AWS-console-setup.ipynb\n",
      "Searching ./course_dump/week10/day4_aws_and_hadoop/AWS_intro/instructions/ec2-with-jupyter-notebook.ipynb\n",
      "Searching ./course_dump/week10/day4_aws_and_hadoop/AWS_intro/instructions/ec2_setup.ipynb\n",
      "Searching ./course_dump/week10/day4_aws_and_hadoop/AWS_intro/assets/images/terminatedspot.png\n",
      "Searching ./course_dump/week10/day4_aws_and_hadoop/AWS_intro/assets/images/aws3.png\n",
      "Searching ./course_dump/week10/day4_aws_and_hadoop/AWS_intro/assets/images/launched1.png\n",
      "Searching ./course_dump/week10/day4_aws_and_hadoop/AWS_intro/assets/images/terminate.png\n",
      "Searching ./course_dump/week10/day4_aws_and_hadoop/AWS_intro/assets/images/costcalculator.png\n",
      "Searching ./course_dump/week10/day4_aws_and_hadoop/AWS_intro/assets/images/connected.png\n",
      "Searching ./course_dump/week10/day4_aws_and_hadoop/AWS_intro/assets/images/identitymanager.png\n",
      "Searching ./course_dump/week10/day4_aws_and_hadoop/AWS_intro/assets/images/instancerequest.png\n",
      "Searching ./course_dump/week10/day4_aws_and_hadoop/AWS_intro/assets/images/python.png\n",
      "Searching ./course_dump/week10/day4_aws_and_hadoop/AWS_intro/assets/images/amis.png\n",
      "Searching ./course_dump/week10/day4_aws_and_hadoop/AWS_intro/assets/images/terminated.png\n",
      "Searching ./course_dump/week10/day4_aws_and_hadoop/AWS_intro/assets/images/createimage.png\n",
      "Searching ./course_dump/week10/day4_aws_and_hadoop/AWS_intro/assets/images/aws1.png\n",
      "Searching ./course_dump/week10/day4_aws_and_hadoop/AWS_intro/assets/images/spotinstance.png\n",
      "Searching ./course_dump/week10/day4_aws_and_hadoop/AWS_intro/assets/images/services1.png\n",
      "Searching ./course_dump/week10/day4_aws_and_hadoop/AWS_intro/assets/images/aws4.png\n",
      "Searching ./course_dump/week10/day4_aws_and_hadoop/AWS_intro/assets/images/launch-instance.png\n",
      "Searching ./course_dump/week10/day4_aws_and_hadoop/AWS_intro/assets/images/aws2.png\n",
      "Searching ./course_dump/week10/day4_aws_and_hadoop/AWS_intro/exercises/AWS_ex.ipynb\n",
      "Searching ./course_dump/week10/day5_emr_and_hive/AWS-Elastic-Map-Reduce/AWS-Elastic-Map-Reduce.ipynb\n",
      "Searching ./course_dump/week10/day5_emr_and_hive/AWS-Elastic-Map-Reduce/instructions/Elastic-Map-Reduce-Notes.ipynb\n",
      "Searching ./course_dump/week10/day5_emr_and_hive/AWS-Elastic-Map-Reduce/assets/foxyproxy/foxyproxy-settings.xml\n",
      "Searching ./course_dump/week10/day5_emr_and_hive/AWS-Elastic-Map-Reduce/assets/images/huecloudfront.png\n",
      "Searching ./course_dump/week10/day5_emr_and_hive/AWS-Elastic-Map-Reduce/assets/images/deletebucket.png\n",
      "Searching ./course_dump/week10/day5_emr_and_hive/AWS-Elastic-Map-Reduce/assets/images/clusterstart.png\n",
      "Searching ./course_dump/week10/day5_emr_and_hive/AWS-Elastic-Map-Reduce/assets/images/terminate.png\n",
      "Searching ./course_dump/week10/day5_emr_and_hive/AWS-Elastic-Map-Reduce/assets/images/hdfs.png\n",
      "Searching ./course_dump/week10/day5_emr_and_hive/AWS-Elastic-Map-Reduce/assets/images/sshtunnel.png\n",
      "Searching ./course_dump/week10/day5_emr_and_hive/AWS-Elastic-Map-Reduce/assets/images/clusterlist.png\n",
      "Searching ./course_dump/week10/day5_emr_and_hive/AWS-Elastic-Map-Reduce/assets/images/steppending.png\n",
      "Searching ./course_dump/week10/day5_emr_and_hive/AWS-Elastic-Map-Reduce/assets/images/clusterready.png\n",
      "Searching ./course_dump/week10/day5_emr_and_hive/AWS-Elastic-Map-Reduce/assets/images/results.png\n",
      "Searching ./course_dump/week10/day5_emr_and_hive/AWS-Elastic-Map-Reduce/assets/images/webconnection.png\n",
      "Searching ./course_dump/week10/day5_emr_and_hive/AWS-Elastic-Map-Reduce/assets/images/huechart.png\n",
      "Searching ./course_dump/week10/day5_emr_and_hive/AWS-Elastic-Map-Reduce/assets/images/huecfresults.png\n",
      "Searching ./course_dump/week10/day5_emr_and_hive/AWS-Elastic-Map-Reduce/assets/images/clusterstarting.png\n",
      "Searching ./course_dump/week10/day5_emr_and_hive/AWS-Elastic-Map-Reduce/assets/images/hueuser.png\n",
      "Searching ./course_dump/week10/day5_emr_and_hive/AWS-Elastic-Map-Reduce/assets/images/emr.png\n",
      "Searching ./course_dump/week10/day5_emr_and_hive/AWS-Elastic-Map-Reduce/assets/images/securitygroups.png\n",
      "Searching ./course_dump/week10/day5_emr_and_hive/AWS-Elastic-Map-Reduce/assets/images/bucket.png\n",
      "Searching ./course_dump/week10/day5_emr_and_hive/AWS-Elastic-Map-Reduce/assets/images/huehome.png\n",
      "Searching ./course_dump/week10/day5_emr_and_hive/AWS-Elastic-Map-Reduce/assets/images/emrcost.png\n",
      "Searching ./course_dump/week10/day5_emr_and_hive/AWS-Elastic-Map-Reduce/assets/images/steprunning.png\n",
      "Searching ./course_dump/week10/day5_emr_and_hive/AWS-Elastic-Map-Reduce/assets/images/hueinstall.png\n",
      "Searching ./course_dump/week10/day5_emr_and_hive/Hive-Queries-Bikedata-lab/Hive-EMR-bikedata-startercode.ipynb\n",
      "Searching ./course_dump/week10/day5_emr_and_hive/Hive-Queries-Bikedata-lab/solution-code/Hive-EMR-bikedata-solutioncode.ipynb\n",
      "Searching ./course_dump/week10/day5_emr_and_hive/Hive-Queries-Bikedata-lab/assets/images/popular_stations.png\n",
      "Searching ./course_dump/week10/day5_emr_and_hive/Hive-Queries-Bikedata-lab/assets/images/average_duration.png\n",
      "Searching ./course_dump/week10/day5_emr_and_hive/Hive-Queries-Bikedata-lab/assets/images/map.png\n",
      "Searching ./course_dump/week10/day5_emr_and_hive/Hive-Queries-Bikedata-lab/assets/images/filebrowser.png\n",
      "Searching ./course_dump/week10/day5_emr_and_hive/Hive-Queries-Bikedata-lab/assets/images/metastore.png\n",
      "Searching ./course_dump/week10/day5_emr_and_hive/Hive-Queries-Bikedata-lab/assets/images/trips_by_hour.png\n",
      "Searching ./course_dump/week10/day5_emr_and_hive/Hive-lab/AWS-Hive-startercode.ipynb\n"
     ]
    },
    {
     "name": "stdout",
     "output_type": "stream",
     "text": [
      "Searching ./course_dump/week10/day5_emr_and_hive/Hive-lab/AWS-Hive-solutioncode.ipynb\n",
      "Searching ./course_dump/week10/day2_big_data_intro/readme.md\n",
      "Searching ./course_dump/week10/day2_big_data_intro/spark_lab/spark-practice-caltrain-starter.ipynb\n",
      "Searching ./course_dump/week10/day2_big_data_intro/spark_lab/spark-lab-EXTRA_solutions.ipynb\n",
      "Searching ./course_dump/week10/day2_big_data_intro/spark_lab/spark-practice-caltrain-solutions.ipynb\n",
      "Searching ./course_dump/week10/day2_big_data_intro/spark_lab/spark-lab-EXTRA_starter.ipynb\n",
      "Searching ./course_dump/week10/day2_big_data_intro/spark_lab/churn.csv\n",
      "Searching ./course_dump/week10/day2_big_data_intro/spark_lab/assets/images/upload.png\n",
      "Searching ./course_dump/week10/day2_big_data_intro/spark_lab/data/201508_trip_data.csv\n",
      "Searching ./course_dump/week10/day2_big_data_intro/intro_to_spark/readme.md\n",
      "Searching ./course_dump/week10/day2_big_data_intro/intro_to_spark/intro-to-spark-solution-code.ipynb\n",
      "Searching ./course_dump/week10/day2_big_data_intro/intro_to_spark/intro-to-spark-starter-code.ipynb\n",
      "Searching ./course_dump/week10/day2_big_data_intro/intro_to_spark/images/rdd_on_cluster.png\n",
      "Searching ./course_dump/week10/day2_big_data_intro/intro_to_spark/images/spark_driver_etc.png\n",
      "Searching ./course_dump/week10/day2_big_data_intro/intro_to_spark/images/from_rdd_to_cluster.png\n",
      "Searching ./course_dump/week10/day2_big_data_intro/intro_to_spark/images/spark_ecosystem.png\n",
      "Searching ./course_dump/week10/day2_big_data_intro/intro_to_spark/images/rdd_narrow_vs_wide_transformations.png\n",
      "Searching ./course_dump/week10/day2_big_data_intro/intro_to_spark/images/spark-architecture.png\n",
      "Searching ./course_dump/week10/day2_big_data_intro/intro_to_spark/images/spark_flow.png\n",
      "Searching ./course_dump/week10/day2_big_data_intro/intro_to_spark/images/apache_hadoop_ecosystem.jpg\n",
      "Searching ./course_dump/week10/day2_big_data_intro/intro_to_spark/images/dag.png\n",
      "Searching ./course_dump/week10/day2_big_data_intro/intro_to_spark/data/sales.csv\n",
      "Searching ./course_dump/week10/day2_big_data_intro/intro_to_spark/data/sales.txt\n",
      "Searching ./course_dump/week10/day2_big_data_intro/intro_to_spark/data/toy_data.txt\n",
      "Searching ./course_dump/week10/day2_big_data_intro/intro_to_spark/data/input.txt\n",
      "Searching ./course_dump/week10/day2_big_data_intro/intro_to_spark/data/cookie_data.txt\n",
      "Searching ./course_dump/week10/day2_big_data_intro/intro_to_spark/data/sales.json\n",
      "Searching ./course_dump/week10/day2_big_data_intro/intro_to_spark/data/toy_dataB.txt\n",
      "Searching ./course_dump/week10/day2_big_data_intro/intro_to_spark/data/aapl.csv\n",
      "Searching ./course_dump/week10/day2_big_data_intro/intro_to_spark/data/sales2.json.gz\n",
      "Searching ./course_dump/week10/day2_big_data_intro/intro_to_spark/data/toy_data.pkl/.part-00000.crc\n",
      "Searching ./course_dump/week10/day2_big_data_intro/intro_to_spark/data/toy_data.pkl/.part-00001.crc\n",
      "Searching ./course_dump/week10/day2_big_data_intro/intro_to_spark/data/toy_data.pkl/part-00000\n",
      "Searching ./course_dump/week10/day2_big_data_intro/intro_to_spark/data/toy_data.pkl/_SUCCESS\n",
      "Searching ./course_dump/week10/day2_big_data_intro/intro_to_spark/data/toy_data.pkl/part-00001\n",
      "Searching ./course_dump/week10/day2_big_data_intro/intro_to_spark/datasets/sentiment_words_simple.csv\n",
      "Searching ./course_dump/week10/day2_big_data_intro/intro_to_spark/datasets/pokedex_basic.csv\n",
      "Searching ./course_dump/week10/day2_big_data_intro/intro_to_big_data-lesson/sales.txt\n",
      "Searching ./course_dump/week10/day2_big_data_intro/intro_to_big_data-lesson/readme.md\n",
      "Searching ./course_dump/week10/day2_big_data_intro/intro_to_big_data-lesson/input_.txt\n",
      "Searching ./course_dump/week10/day2_big_data_intro/intro_to_big_data-lesson/intro-to-big-data.ipynb\n",
      "Searching ./course_dump/week10/day2_big_data_intro/intro_to_big_data-lesson/SaleCount.py\n",
      "Searching ./course_dump/week10/day2_big_data_intro/intro_to_big_data-lesson/WordCount.py\n",
      "Searching ./course_dump/week10/day2_big_data_intro/intro_to_big_data-lesson/output.txt\n",
      "Searching ./course_dump/week10/day2_big_data_intro/intro_to_big_data-lesson/assets/images/commodity_hardware.png\n",
      "Searching ./course_dump/week10/day2_big_data_intro/intro_to_big_data-lesson/assets/images/3vbigdata.png\n",
      "Searching ./course_dump/week10/day2_big_data_intro/intro_to_big_data-lesson/assets/images/supercomputer.png\n",
      "Searching ./course_dump/week10/day2_big_data_intro/intro_to_big_data-lesson/assets/images/word_count_dataflow.jpg\n",
      "Searching ./course_dump/week10/day2_big_data_intro/intro_to_big_data-lesson/images/doug-cutting.png\n",
      "Searching ./course_dump/week10/day2_big_data_intro/intro_to_big_data-lesson/images/yellow-elephant-hadoop.jpg\n",
      "Searching ./course_dump/week10/day2_big_data_intro/intro_to_big_data-lesson/images/hdfs-data-distribution.png\n",
      "Searching ./course_dump/week10/day2_big_data_intro/intro_to_big_data-lesson/images/map-reduce-key-partition.png\n",
      "Searching ./course_dump/week10/day2_big_data_intro/intro_to_big_data-lesson/images/hdfs_architecture.png\n",
      "Searching ./course_dump/week10/day2_big_data_intro/intro_to_big_data-lesson/images/board-hadoop-cluster.jpg\n",
      "Searching ./course_dump/week10/day2_big_data_intro/intro_to_big_data-lesson/images/word_count.png\n",
      "Searching ./course_dump/week10/day2_big_data_intro/intro_to_big_data-lesson/images/logo_mrjob.png\n",
      "Searching ./course_dump/week10/day2_big_data_intro/intro_to_big_data-lesson/images/devastator-transformer.jpg\n",
      "Searching ./course_dump/week10/day2_big_data_intro/intro_to_big_data-lesson/code/results.txt\n",
      "Searching ./course_dump/week10/day2_big_data_intro/intro_to_big_data-lesson/code/mapper.py\n",
      "Searching ./course_dump/week10/day2_big_data_intro/intro_to_big_data-lesson/code/reducer.py\n",
      "Searching ./course_dump/week10/day2_big_data_intro/intro_to_big_data-lesson/code/5000.txt.utf-8.txt\n",
      "Searching ./course_dump/week08/day1_intro_to_bayesian_statistics/intro_to_bayesian_stats-lab/bayes_problems-starter_code.ipynb\n",
      "Searching ./course_dump/week08/day1_intro_to_bayesian_statistics/intro_to_bayesian_stats-lab/bayes_problems-solution_code.ipynb\n",
      "Searching ./course_dump/week08/day1_intro_to_bayesian_statistics/intro_to_bayesian_stats-lab/assets/images/output_27_0.png\n",
      "Searching ./course_dump/week08/day1_intro_to_bayesian_statistics/naive-bayes-spam-lab/naive-bayes-spam-lab-starter.ipynb\n",
      "Searching ./course_dump/week08/day1_intro_to_bayesian_statistics/naive-bayes-spam-lab/20021010_easy_ham.tar.bz2\n",
      "Searching ./course_dump/week08/day1_intro_to_bayesian_statistics/naive-bayes-spam-lab/solutions/naive-bayes-spam-lab-solution.ipynb\n",
      "Searching ./course_dump/week08/day1_intro_to_bayesian_statistics/naive-bayes-spam-lab/datasets/20021010_hard_ham.tar.bz2\n",
      "Searching ./course_dump/week08/day1_intro_to_bayesian_statistics/naive-bayes-spam-lab/datasets/.keep\n",
      "Searching ./course_dump/week08/day1_intro_to_bayesian_statistics/naive-bayes-spam-lab/datasets/easy_ham/1026.b2ee7b3cb90365641e465cfede58a672\n",
      "Searching ./course_dump/week08/day1_intro_to_bayesian_statistics/naive-bayes-spam-lab/datasets/easy_ham/0652.5ed46908836bacba742b337197ce3499\n",
      "Searching ./course_dump/week08/day1_intro_to_bayesian_statistics/naive-bayes-spam-lab/datasets/easy_ham/1508.334b2eb6c70ba66605ebefc97924e7b3\n",
      "Searching ./course_dump/week08/day1_intro_to_bayesian_statistics/naive-bayes-spam-lab/datasets/easy_ham/1595.fa533692bb0d635d6d1219663ee0f82c\n",
      "Searching ./course_dump/week08/day1_intro_to_bayesian_statistics/naive-bayes-spam-lab/datasets/easy_ham/0109.4ccc46c546b93015aafdfc40495f187d\n",
      "Searching ./course_dump/week08/day1_intro_to_bayesian_statistics/naive-bayes-spam-lab/datasets/easy_ham/1504.f77b2dc9ad8c875d8edc67b180e2f878\n",
      "Searching ./course_dump/week08/day1_intro_to_bayesian_statistics/naive-bayes-spam-lab/datasets/easy_ham/1231.9a7db322df8f2bdf4eeb2d589cb51e34\n",
      "Searching ./course_dump/week08/day1_intro_to_bayesian_statistics/naive-bayes-spam-lab/datasets/easy_ham/1195.4cad51ea61eee58c9b4496ebba828692\n",
      "Searching ./course_dump/week08/day1_intro_to_bayesian_statistics/naive-bayes-spam-lab/datasets/easy_ham/0598.1ac8a662753f1bba429f52eb184ba794\n",
      "Searching ./course_dump/week08/day1_intro_to_bayesian_statistics/naive-bayes-spam-lab/datasets/easy_ham/2328.da7bcb9a3752151e475ed0b137f3e863\n",
      "Searching ./course_dump/week08/day1_intro_to_bayesian_statistics/naive-bayes-spam-lab/datasets/easy_ham/0714.7f83c20969cae40090108707e0bd7cef\n",
      "Searching ./course_dump/week08/day1_intro_to_bayesian_statistics/naive-bayes-spam-lab/datasets/easy_ham/0978.3abc52be262e3631f31cd4aee5a1b901\n"
     ]
    },
    {
     "name": "stdout",
     "output_type": "stream",
     "text": [
      "Searching ./course_dump/week08/day1_intro_to_bayesian_statistics/naive-bayes-spam-lab/datasets/easy_ham/0131.b715566061ab90d0f8745ce0ac010832\n",
      "Searching ./course_dump/week08/day1_intro_to_bayesian_statistics/naive-bayes-spam-lab/datasets/easy_ham/0681.a0c682a61d47a58820ffa73d5555f3fb\n",
      "Searching ./course_dump/week08/day1_intro_to_bayesian_statistics/naive-bayes-spam-lab/datasets/easy_ham/1149.68dbf497c1a8748757b6acc50fb74ed0\n",
      "Searching ./course_dump/week08/day1_intro_to_bayesian_statistics/naive-bayes-spam-lab/datasets/easy_ham/1401.2d453d45aa06dec5a5a98bba8d81fdc5\n",
      "Searching ./course_dump/week08/day1_intro_to_bayesian_statistics/naive-bayes-spam-lab/datasets/easy_ham/2281.ce69a29fc23c4a9990ccc723e4da6898\n",
      "Searching ./course_dump/week08/day1_intro_to_bayesian_statistics/naive-bayes-spam-lab/datasets/easy_ham/0517.a379a642533f85c04e63d9f3a0813b63\n",
      "Searching ./course_dump/week08/day1_intro_to_bayesian_statistics/naive-bayes-spam-lab/datasets/easy_ham/0545.f3614ca8b5095f9b69b7a3ff336d5aac\n",
      "Searching ./course_dump/week08/day1_intro_to_bayesian_statistics/naive-bayes-spam-lab/datasets/easy_ham/1656.2c519e6e148cca3020e50c723bbc200e\n",
      "Searching ./course_dump/week08/day1_intro_to_bayesian_statistics/naive-bayes-spam-lab/datasets/easy_ham/0500.26e81584fd9c739be4898acd4870143e\n",
      "Searching ./course_dump/week08/day1_intro_to_bayesian_statistics/naive-bayes-spam-lab/datasets/easy_ham/0605.0b692301193854c686d6c257203c9976\n",
      "Searching ./course_dump/week08/day1_intro_to_bayesian_statistics/naive-bayes-spam-lab/datasets/easy_ham/0080.7c3a836baaa732cd915546442c0fef1a\n",
      "Searching ./course_dump/week08/day1_intro_to_bayesian_statistics/naive-bayes-spam-lab/datasets/easy_ham/2219.a6bcfc52346ca02a2add2951167549c5\n",
      "Searching ./course_dump/week08/day1_intro_to_bayesian_statistics/naive-bayes-spam-lab/datasets/easy_ham/0969.c872e57098d18f1588a9e0b1307cee42\n",
      "Searching ./course_dump/week08/day1_intro_to_bayesian_statistics/naive-bayes-spam-lab/datasets/easy_ham/0847.00a64e95e9b26dd792571a8213a90c78\n",
      "Searching ./course_dump/week08/day1_intro_to_bayesian_statistics/naive-bayes-spam-lab/datasets/easy_ham/1119.ce22f4a2ffbc03cd2625cb10ba561058\n",
      "Searching ./course_dump/week08/day1_intro_to_bayesian_statistics/naive-bayes-spam-lab/datasets/easy_ham/2201.eefdaf79beaca1667b7067ebbf9df781\n",
      "Searching ./course_dump/week08/day1_intro_to_bayesian_statistics/naive-bayes-spam-lab/datasets/easy_ham/0722.8aba37e84c5a58cdfe72fc9ed03089ae\n",
      "Searching ./course_dump/week08/day1_intro_to_bayesian_statistics/naive-bayes-spam-lab/datasets/easy_ham/1415.92155ef4a4f97a787d636892dd1a0219\n",
      "Searching ./course_dump/week08/day1_intro_to_bayesian_statistics/naive-bayes-spam-lab/datasets/easy_ham/0893.535c68823a7692562371ccebf36fb7b7\n",
      "Searching ./course_dump/week08/day1_intro_to_bayesian_statistics/naive-bayes-spam-lab/datasets/easy_ham/1179.2cebdef3b31479afbfdb2c230046f84b\n",
      "Searching ./course_dump/week08/day1_intro_to_bayesian_statistics/naive-bayes-spam-lab/datasets/easy_ham/2123.434d5b6c8f3e861ae0d04a9db749e734\n",
      "Searching ./course_dump/week08/day1_intro_to_bayesian_statistics/naive-bayes-spam-lab/datasets/easy_ham/0298.fb2fe4458efbd24753b011bf6db2deab\n",
      "Searching ./course_dump/week08/day1_intro_to_bayesian_statistics/naive-bayes-spam-lab/datasets/easy_ham/0478.41ae16e74ab25e02113c5da21efd2804\n",
      "Searching ./course_dump/week08/day1_intro_to_bayesian_statistics/naive-bayes-spam-lab/datasets/easy_ham/1460.8ad306210b1538d37993a51b69544e5b\n",
      "Searching ./course_dump/week08/day1_intro_to_bayesian_statistics/naive-bayes-spam-lab/datasets/easy_ham/1894.feeadafed8d22fbefccef31f2a2eb74a\n",
      "Searching ./course_dump/week08/day1_intro_to_bayesian_statistics/naive-bayes-spam-lab/datasets/easy_ham/1982.896a7f0768d957cb97d487b7c4525683\n",
      "Searching ./course_dump/week08/day1_intro_to_bayesian_statistics/naive-bayes-spam-lab/datasets/easy_ham/0990.7c68a426e051d8f04aa42d1c2d2e6cf4\n",
      "Searching ./course_dump/week08/day1_intro_to_bayesian_statistics/naive-bayes-spam-lab/datasets/easy_ham/1238.af17c6dc01076c3f5fd80b0aaf13b70a\n",
      "Searching ./course_dump/week08/day1_intro_to_bayesian_statistics/naive-bayes-spam-lab/datasets/easy_ham/0412.a141da0849f5295c2a6230fd3ed9647c\n",
      "Searching ./course_dump/week08/day1_intro_to_bayesian_statistics/naive-bayes-spam-lab/datasets/easy_ham/0542.9a7c09acf3e7748e4ae90a48959e731f\n",
      "Searching ./course_dump/week08/day1_intro_to_bayesian_statistics/naive-bayes-spam-lab/datasets/easy_ham/0224.17430432fb67f4f3278eac9cba4714aa\n",
      "Searching ./course_dump/week08/day1_intro_to_bayesian_statistics/naive-bayes-spam-lab/datasets/easy_ham/1625.08690a3d25fcaacc8929c31657f85c8f\n",
      "Searching ./course_dump/week08/day1_intro_to_bayesian_statistics/naive-bayes-spam-lab/datasets/easy_ham/2239.cc8e1bac692f0485c46475711ea6b0a2\n",
      "Searching ./course_dump/week08/day1_intro_to_bayesian_statistics/naive-bayes-spam-lab/datasets/easy_ham/0711.27203d4f43e71f7e1ced0cdd7f8685c8\n",
      "Searching ./course_dump/week08/day1_intro_to_bayesian_statistics/naive-bayes-spam-lab/datasets/easy_ham/2263.cdbea6cbb8b91203226eeaef8b251ad1\n",
      "Searching ./course_dump/week08/day1_intro_to_bayesian_statistics/naive-bayes-spam-lab/datasets/easy_ham/0610.77f0b010c4ee1f527c40a320223e5e3d\n",
      "Searching ./course_dump/week08/day1_intro_to_bayesian_statistics/naive-bayes-spam-lab/datasets/easy_ham/0426.9239b06238f5128c209bbdd252e0fb8f\n",
      "Searching ./course_dump/week08/day1_intro_to_bayesian_statistics/naive-bayes-spam-lab/datasets/easy_ham/2473.2d70d3fac740804c6a280009e0418f13\n",
      "Searching ./course_dump/week08/day1_intro_to_bayesian_statistics/naive-bayes-spam-lab/datasets/easy_ham/1088.3386ac349cead5b5be4f4fad8ed998c1\n",
      "Searching ./course_dump/week08/day1_intro_to_bayesian_statistics/naive-bayes-spam-lab/datasets/easy_ham/1007.b3eb1e8894835634935873cecdb4e845\n",
      "Searching ./course_dump/week08/day1_intro_to_bayesian_statistics/naive-bayes-spam-lab/datasets/easy_ham/2061.19ee158fcad270f48386e9a54e903dac\n",
      "Searching ./course_dump/week08/day1_intro_to_bayesian_statistics/naive-bayes-spam-lab/datasets/easy_ham/0869.3974462c46476759fb788a0b354a0f3a\n",
      "Searching ./course_dump/week08/day1_intro_to_bayesian_statistics/naive-bayes-spam-lab/datasets/easy_ham/1126.b707ed79d4930e8b4fda1eb0dcd5add8\n",
      "Searching ./course_dump/week08/day1_intro_to_bayesian_statistics/naive-bayes-spam-lab/datasets/easy_ham/1849.06fb7b96d18dae121abb94e8a7624f4b\n",
      "Searching ./course_dump/week08/day1_intro_to_bayesian_statistics/naive-bayes-spam-lab/datasets/easy_ham/0946.eb5e7c2de78b6fec81e509923689a7a4\n",
      "Searching ./course_dump/week08/day1_intro_to_bayesian_statistics/naive-bayes-spam-lab/datasets/easy_ham/0654.e2ac2ca047fa228203d83f0f094cc529\n",
      "Searching ./course_dump/week08/day1_intro_to_bayesian_statistics/naive-bayes-spam-lab/datasets/easy_ham/1173.097a84308fc696d14a7063aecfe489d2\n",
      "Searching ./course_dump/week08/day1_intro_to_bayesian_statistics/naive-bayes-spam-lab/datasets/easy_ham/0028.54cf7aa229456fb33194b3a12a713e3e\n",
      "Searching ./course_dump/week08/day1_intro_to_bayesian_statistics/naive-bayes-spam-lab/datasets/easy_ham/0706.ef90d85cf26d95101f9f5071ac457a81\n",
      "Searching ./course_dump/week08/day1_intro_to_bayesian_statistics/naive-bayes-spam-lab/datasets/easy_ham/2493.67725941996521d187945dfaa2f19ed4\n",
      "Searching ./course_dump/week08/day1_intro_to_bayesian_statistics/naive-bayes-spam-lab/datasets/easy_ham/1295.0a074d85f629ec018959632659ee31ee\n",
      "Searching ./course_dump/week08/day1_intro_to_bayesian_statistics/naive-bayes-spam-lab/datasets/easy_ham/1559.ed17f96c32605795f5d5f88af0c79093\n",
      "Searching ./course_dump/week08/day1_intro_to_bayesian_statistics/naive-bayes-spam-lab/datasets/easy_ham/1330.2e2ec961c9022cd26a555e4779726a05\n",
      "Searching ./course_dump/week08/day1_intro_to_bayesian_statistics/naive-bayes-spam-lab/datasets/easy_ham/1645.60a80c94ae8fec2ef1f1ef0915445400\n",
      "Searching ./course_dump/week08/day1_intro_to_bayesian_statistics/naive-bayes-spam-lab/datasets/easy_ham/1569.5a4e7eeca40257722ccbe4dee1d636fa\n",
      "Searching ./course_dump/week08/day1_intro_to_bayesian_statistics/naive-bayes-spam-lab/datasets/easy_ham/0059.b3b1b1d95976b70d9bbd6c39c6b8d5d2\n",
      "Searching ./course_dump/week08/day1_intro_to_bayesian_statistics/naive-bayes-spam-lab/datasets/easy_ham/1668.c077f4f038fbdccf01f1d37a3db6f2e4\n",
      "Searching ./course_dump/week08/day1_intro_to_bayesian_statistics/naive-bayes-spam-lab/datasets/easy_ham/2483.9eb471e8645403dda2bd70c08b463faf\n",
      "Searching ./course_dump/week08/day1_intro_to_bayesian_statistics/naive-bayes-spam-lab/datasets/easy_ham/0074.78000652dcb19856e85ff9637f0e52dd\n",
      "Searching ./course_dump/week08/day1_intro_to_bayesian_statistics/naive-bayes-spam-lab/datasets/easy_ham/0389.1fe03acd5f135ac67ed7a7f35c4b3347\n",
      "Searching ./course_dump/week08/day1_intro_to_bayesian_statistics/naive-bayes-spam-lab/datasets/easy_ham/0884.f4a7181c5337229d1e70c587cbae9567\n",
      "Searching ./course_dump/week08/day1_intro_to_bayesian_statistics/naive-bayes-spam-lab/datasets/easy_ham/2208.77129b5469360a31de10a9f23fd7a64c\n",
      "Searching ./course_dump/week08/day1_intro_to_bayesian_statistics/naive-bayes-spam-lab/datasets/easy_ham/2179.8f1ee5b4ce8900e6d9992fa232c9286b\n",
      "Searching ./course_dump/week08/day1_intro_to_bayesian_statistics/naive-bayes-spam-lab/datasets/easy_ham/0987.4ad8a98bfcc3968dfae0f8c4f1821d2c\n",
      "Searching ./course_dump/week08/day1_intro_to_bayesian_statistics/naive-bayes-spam-lab/datasets/easy_ham/1474.3de55dbbe581bcc06d4f5e2aa0f7b8c3\n",
      "Searching ./course_dump/week08/day1_intro_to_bayesian_statistics/naive-bayes-spam-lab/datasets/easy_ham/1930.0965a4aa5ecfe3ab06526520f7eae63a\n"
     ]
    },
    {
     "name": "stdout",
     "output_type": "stream",
     "text": [
      "Searching ./course_dump/week08/day1_intro_to_bayesian_statistics/naive-bayes-spam-lab/datasets/easy_ham/2066.dce0718b87da2153138f0037c89fb38a\n",
      "Searching ./course_dump/week08/day1_intro_to_bayesian_statistics/naive-bayes-spam-lab/datasets/easy_ham/0376.c0225fd19682f7ac58d090b6528af380\n",
      "Searching ./course_dump/week08/day1_intro_to_bayesian_statistics/naive-bayes-spam-lab/datasets/easy_ham/1288.9235f568fa35fd2fcda2c067543fbd0e\n",
      "Searching ./course_dump/week08/day1_intro_to_bayesian_statistics/naive-bayes-spam-lab/datasets/easy_ham/1778.5e3a4fdad399e2557d6921d7e938faef\n",
      "Searching ./course_dump/week08/day1_intro_to_bayesian_statistics/naive-bayes-spam-lab/datasets/easy_ham/1275.7f5370e380b5cedb37bad38bb1ea1484\n",
      "Searching ./course_dump/week08/day1_intro_to_bayesian_statistics/naive-bayes-spam-lab/datasets/easy_ham/1794.6057cf5e982869286b4742cee5639a4b\n",
      "Searching ./course_dump/week08/day1_intro_to_bayesian_statistics/naive-bayes-spam-lab/datasets/easy_ham/1284.bacf47285c3f6a514443b4d013d5736a\n",
      "Searching ./course_dump/week08/day1_intro_to_bayesian_statistics/naive-bayes-spam-lab/datasets/easy_ham/0278.11523c7a537578530720c5a697c916c7\n",
      "Searching ./course_dump/week08/day1_intro_to_bayesian_statistics/naive-bayes-spam-lab/datasets/easy_ham/1687.e69fa74557118313b26108f91a9cd6fa\n",
      "Searching ./course_dump/week08/day1_intro_to_bayesian_statistics/naive-bayes-spam-lab/datasets/easy_ham/1545.f12974e0310c366731631a0a62980b5c\n",
      "Searching ./course_dump/week08/day1_intro_to_bayesian_statistics/naive-bayes-spam-lab/datasets/easy_ham/1734.8ce5e8ddf445f56cb18afa778b07df0b\n",
      "Searching ./course_dump/week08/day1_intro_to_bayesian_statistics/naive-bayes-spam-lab/datasets/easy_ham/1201.ecb357d3156544c58b58b4552635629d\n",
      "Searching ./course_dump/week08/day1_intro_to_bayesian_statistics/naive-bayes-spam-lab/datasets/easy_ham/2021.adcaa7be43b7bdc9828ada336c0eb7ec\n",
      "Searching ./course_dump/week08/day1_intro_to_bayesian_statistics/naive-bayes-spam-lab/datasets/easy_ham/0263.ffa4db454754b3c66fd025e92912941e\n",
      "Searching ./course_dump/week08/day1_intro_to_bayesian_statistics/naive-bayes-spam-lab/datasets/easy_ham/0026.6baf1aea162ccb9a6e9f142c0715ceb4\n",
      "Searching ./course_dump/week08/day1_intro_to_bayesian_statistics/naive-bayes-spam-lab/datasets/easy_ham/1348.79cf2ab14db2301670710f9d1feaddda\n",
      "Searching ./course_dump/week08/day1_intro_to_bayesian_statistics/naive-bayes-spam-lab/datasets/easy_ham/0313.6668b975a285edaaecc0aac3b36d3fa8\n",
      "Searching ./course_dump/week08/day1_intro_to_bayesian_statistics/naive-bayes-spam-lab/datasets/easy_ham/0176.bd5ef61e0c89ec035829f06f3fe5c7f8\n",
      "Searching ./course_dump/week08/day1_intro_to_bayesian_statistics/naive-bayes-spam-lab/datasets/easy_ham/2102.3e4d0d62c48f88848cae23194ca6f859\n",
      "Searching ./course_dump/week08/day1_intro_to_bayesian_statistics/naive-bayes-spam-lab/datasets/easy_ham/1283.15624a2ea079397d2638caa74f8bd17d\n",
      "Searching ./course_dump/week08/day1_intro_to_bayesian_statistics/naive-bayes-spam-lab/datasets/easy_ham/0670.4d4f5d10e1bcf26a5438defe1188dc57\n",
      "Searching ./course_dump/week08/day1_intro_to_bayesian_statistics/naive-bayes-spam-lab/datasets/easy_ham/1744.af4f10c1dad2aea2637aa8cd093adc34\n",
      "Searching ./course_dump/week08/day1_intro_to_bayesian_statistics/naive-bayes-spam-lab/datasets/easy_ham/1797.5bae1500a6c23344cde8b81dd95a2dd7\n",
      "Searching ./course_dump/week08/day1_intro_to_bayesian_statistics/naive-bayes-spam-lab/datasets/easy_ham/1073.3c644d088e1e9201208b906f0f062c48\n",
      "Searching ./course_dump/week08/day1_intro_to_bayesian_statistics/naive-bayes-spam-lab/datasets/easy_ham/0264.a1183a59e4f0a71e80378d9404a3212f\n",
      "Searching ./course_dump/week08/day1_intro_to_bayesian_statistics/naive-bayes-spam-lab/datasets/easy_ham/0688.0c95af46930f4b1c6917030045619a50\n",
      "Searching ./course_dump/week08/day1_intro_to_bayesian_statistics/naive-bayes-spam-lab/datasets/easy_ham/2120.81c9273dfa6150205f929cd334593818\n",
      "Searching ./course_dump/week08/day1_intro_to_bayesian_statistics/naive-bayes-spam-lab/datasets/easy_ham/2188.1443da009610f008935853cd3473f1dd\n",
      "Searching ./course_dump/week08/day1_intro_to_bayesian_statistics/naive-bayes-spam-lab/datasets/easy_ham/1030.9a38ec315e2e8926085a560e36f977b8\n",
      "Searching ./course_dump/week08/day1_intro_to_bayesian_statistics/naive-bayes-spam-lab/datasets/easy_ham/0004.e8d5727378ddde5c3be181df593f1712\n",
      "Searching ./course_dump/week08/day1_intro_to_bayesian_statistics/naive-bayes-spam-lab/datasets/easy_ham/1305.079d27bad970916d43f450d17afb2be2\n",
      "Searching ./course_dump/week08/day1_intro_to_bayesian_statistics/naive-bayes-spam-lab/datasets/easy_ham/0015.a9ff8d7550759f6ab62cc200bdf156e7\n",
      "Searching ./course_dump/week08/day1_intro_to_bayesian_statistics/naive-bayes-spam-lab/datasets/easy_ham/2506.7acaf086619d33409b90223fe066589a\n",
      "Searching ./course_dump/week08/day1_intro_to_bayesian_statistics/naive-bayes-spam-lab/datasets/easy_ham/0563.cc76540c47ac49aa8dcbe801e8380b36\n",
      "Searching ./course_dump/week08/day1_intro_to_bayesian_statistics/naive-bayes-spam-lab/datasets/easy_ham/0704.f62f0ee295a7f648249c8104a8e45843\n",
      "Searching ./course_dump/week08/day1_intro_to_bayesian_statistics/naive-bayes-spam-lab/datasets/easy_ham/1446.bc3115f3d75b0ce0461b74a9c136831b\n",
      "Searching ./course_dump/week08/day1_intro_to_bayesian_statistics/naive-bayes-spam-lab/datasets/easy_ham/1554.879f87b39484ac517e0950eeb5f7e0e8\n",
      "Searching ./course_dump/week08/day1_intro_to_bayesian_statistics/naive-bayes-spam-lab/datasets/easy_ham/1874.465e3ebd33979810b218e99812b4cb72\n",
      "Searching ./course_dump/week08/day1_intro_to_bayesian_statistics/naive-bayes-spam-lab/datasets/easy_ham/1036.8c6e8c189738f671c5fd1cb2b1791317\n",
      "Searching ./course_dump/week08/day1_intro_to_bayesian_statistics/naive-bayes-spam-lab/datasets/easy_ham/1792.f3dfa7db118b7738bcdaa1cd81a0f1e2\n",
      "Searching ./course_dump/week08/day1_intro_to_bayesian_statistics/naive-bayes-spam-lab/datasets/easy_ham/0408.3e476c9b90944c3b5fccdb2055bce897\n",
      "Searching ./course_dump/week08/day1_intro_to_bayesian_statistics/naive-bayes-spam-lab/datasets/easy_ham/1166.8a9dbee6ac67226f58a80c0993a700e2\n",
      "Searching ./course_dump/week08/day1_intro_to_bayesian_statistics/naive-bayes-spam-lab/datasets/easy_ham/2172.356c6cdae52c866f32e0e62ab082801c\n",
      "Searching ./course_dump/week08/day1_intro_to_bayesian_statistics/naive-bayes-spam-lab/datasets/easy_ham/2532.8b61e23f6e94d8b2303554395d0374e5\n",
      "Searching ./course_dump/week08/day1_intro_to_bayesian_statistics/naive-bayes-spam-lab/datasets/easy_ham/0701.d1b59654f45ee3ccfcc3c6fe257daaf8\n",
      "Searching ./course_dump/week08/day1_intro_to_bayesian_statistics/naive-bayes-spam-lab/datasets/easy_ham/0611.4a47b06e83edee6c61ba37d1be2a09d0\n",
      "Searching ./course_dump/week08/day1_intro_to_bayesian_statistics/naive-bayes-spam-lab/datasets/easy_ham/1012.71b3b80343e48636bae04ff93a4446bf\n",
      "Searching ./course_dump/week08/day1_intro_to_bayesian_statistics/naive-bayes-spam-lab/datasets/easy_ham/2226.e9d405fa9921c5adcce9436a26f5bff4\n",
      "Searching ./course_dump/week08/day1_intro_to_bayesian_statistics/naive-bayes-spam-lab/datasets/easy_ham/1590.8d27eaf596403ade34f593db10eb8f28\n",
      "Searching ./course_dump/week08/day1_intro_to_bayesian_statistics/naive-bayes-spam-lab/datasets/easy_ham/0071.75403094cab986a246c1e7ce3460e827\n",
      "Searching ./course_dump/week08/day1_intro_to_bayesian_statistics/naive-bayes-spam-lab/datasets/easy_ham/1530.fda9cfd3e1881b3e8c823a35b618f897\n",
      "Searching ./course_dump/week08/day1_intro_to_bayesian_statistics/naive-bayes-spam-lab/datasets/easy_ham/0195.9805aa7e0cec44d00677990ad4db450d\n",
      "Searching ./course_dump/week08/day1_intro_to_bayesian_statistics/naive-bayes-spam-lab/datasets/easy_ham/2134.6cdd3f522ea2e84ddbc75ad2d594b3a5\n",
      "Searching ./course_dump/week08/day1_intro_to_bayesian_statistics/naive-bayes-spam-lab/datasets/easy_ham/1048.8944cf897b72c824c5a144378cd0c4b3\n",
      "Searching ./course_dump/week08/day1_intro_to_bayesian_statistics/naive-bayes-spam-lab/datasets/easy_ham/0841.c178b14279ed5f5f9e5be2abac186b3c\n",
      "Searching ./course_dump/week08/day1_intro_to_bayesian_statistics/naive-bayes-spam-lab/datasets/easy_ham/1860.994c77afc8d6fb072d8b95ccfdf09627\n",
      "Searching ./course_dump/week08/day1_intro_to_bayesian_statistics/naive-bayes-spam-lab/datasets/easy_ham/1141.42ab0fa28e1e4653f538879dcf15a368\n",
      "Searching ./course_dump/week08/day1_intro_to_bayesian_statistics/naive-bayes-spam-lab/datasets/easy_ham/0815.a212f32e210b815e2663ca5fd624aa58\n",
      "Searching ./course_dump/week08/day1_intro_to_bayesian_statistics/naive-bayes-spam-lab/datasets/easy_ham/1374.58a88abf493ddcd871bafea6b40fee7d\n",
      "Searching ./course_dump/week08/day1_intro_to_bayesian_statistics/naive-bayes-spam-lab/datasets/easy_ham/0922.a8294319249f0b1dc50067de2cf937db\n",
      "Searching ./course_dump/week08/day1_intro_to_bayesian_statistics/naive-bayes-spam-lab/datasets/easy_ham/1586.f2032491ca27076af18575e9ab78abcb\n",
      "Searching ./course_dump/week08/day1_intro_to_bayesian_statistics/naive-bayes-spam-lab/datasets/easy_ham/0887.95cafbddb7fce33aada0e9d9bb329aa5\n",
      "Searching ./course_dump/week08/day1_intro_to_bayesian_statistics/naive-bayes-spam-lab/datasets/easy_ham/0277.43d8f575fabb051cc7041c02c9f002a8\n"
     ]
    },
    {
     "name": "stdout",
     "output_type": "stream",
     "text": [
      "Searching ./course_dump/week08/day1_intro_to_bayesian_statistics/naive-bayes-spam-lab/datasets/easy_ham/1206.c2cc53dbf20904a052845fd3db08b072\n",
      "Searching ./course_dump/week08/day1_intro_to_bayesian_statistics/naive-bayes-spam-lab/datasets/easy_ham/1782.e027f2af78c05f8498f09d7979cd127d\n",
      "Searching ./course_dump/week08/day1_intro_to_bayesian_statistics/naive-bayes-spam-lab/datasets/easy_ham/1335.57112a05c5a5ba633707ed3fdecfd88c\n",
      "Searching ./course_dump/week08/day1_intro_to_bayesian_statistics/naive-bayes-spam-lab/datasets/easy_ham/2104.1e0b700ebc0d9500c4aaea23a9bd8c10\n",
      "Searching ./course_dump/week08/day1_intro_to_bayesian_statistics/naive-bayes-spam-lab/datasets/easy_ham/2161.044851c0caf13b43b3c1ba4acee6ea8d\n",
      "Searching ./course_dump/week08/day1_intro_to_bayesian_statistics/naive-bayes-spam-lab/datasets/easy_ham/0708.fe13d44640fb0f6e7d9d6a50c813a01f\n",
      "Searching ./course_dump/week08/day1_intro_to_bayesian_statistics/naive-bayes-spam-lab/datasets/easy_ham/1755.864cc509960bb627696e65943038856e\n",
      "Searching ./course_dump/week08/day1_intro_to_bayesian_statistics/naive-bayes-spam-lab/datasets/easy_ham/0522.19fc2c700f36b246f3e1fb0807ce03fa\n",
      "Searching ./course_dump/week08/day1_intro_to_bayesian_statistics/naive-bayes-spam-lab/datasets/easy_ham/0380.7479693323d404f78e18d20d3b677e14\n",
      "Searching ./course_dump/week08/day1_intro_to_bayesian_statistics/naive-bayes-spam-lab/datasets/easy_ham/0073.cd29b8202a4b05db3c6f0d71b72a3260\n",
      "Searching ./course_dump/week08/day1_intro_to_bayesian_statistics/naive-bayes-spam-lab/datasets/easy_ham/1035.a3cdb2fe04945379483b12640bdb19d4\n",
      "Searching ./course_dump/week08/day1_intro_to_bayesian_statistics/naive-bayes-spam-lab/datasets/easy_ham/0370.de5338e5d218cbd21c5eab37794b3d47\n",
      "Searching ./course_dump/week08/day1_intro_to_bayesian_statistics/naive-bayes-spam-lab/datasets/easy_ham/1627.6e01ae785063460c6a1227465ae3c85b\n",
      "Searching ./course_dump/week08/day1_intro_to_bayesian_statistics/naive-bayes-spam-lab/datasets/easy_ham/1397.75ebdbdb545c2376e9869203c0c612a8\n",
      "Searching ./course_dump/week08/day1_intro_to_bayesian_statistics/naive-bayes-spam-lab/datasets/easy_ham/1570.a0b2e109e4f244de9538fed3b472f1db\n",
      "Searching ./course_dump/week08/day1_intro_to_bayesian_statistics/naive-bayes-spam-lab/datasets/easy_ham/1416.651cdba6e04f9c3593f6d634a70312e8\n",
      "Searching ./course_dump/week08/day1_intro_to_bayesian_statistics/naive-bayes-spam-lab/datasets/easy_ham/0755.c0a93a818f6d7b78583dfecb6a2a5ea9\n",
      "Searching ./course_dump/week08/day1_intro_to_bayesian_statistics/naive-bayes-spam-lab/datasets/easy_ham/0679.0395351a76c9b311808536a2bfa5961c\n",
      "Searching ./course_dump/week08/day1_intro_to_bayesian_statistics/naive-bayes-spam-lab/datasets/easy_ham/0937.48b048dffa327b97d0ca68cd19d254ea\n",
      "Searching ./course_dump/week08/day1_intro_to_bayesian_statistics/naive-bayes-spam-lab/datasets/easy_ham/2211.36674c8f8ad0cccd398909c857bdde50\n",
      "Searching ./course_dump/week08/day1_intro_to_bayesian_statistics/naive-bayes-spam-lab/datasets/easy_ham/2335.3d993d80cc19564416e607f82b4a6422\n",
      "Searching ./course_dump/week08/day1_intro_to_bayesian_statistics/naive-bayes-spam-lab/datasets/easy_ham/1485.466b9731651b090d2ecee034e696cda1\n",
      "Searching ./course_dump/week08/day1_intro_to_bayesian_statistics/naive-bayes-spam-lab/datasets/easy_ham/0954.fadb0b68f0246b3aafcc1ff134ff1065\n",
      "Searching ./course_dump/week08/day1_intro_to_bayesian_statistics/naive-bayes-spam-lab/datasets/easy_ham/1338.6656824f5801ca79629b3374e834ad04\n",
      "Searching ./course_dump/week08/day1_intro_to_bayesian_statistics/naive-bayes-spam-lab/datasets/easy_ham/0956.fb35140cb684b750a0b652251bf9f7df\n",
      "Searching ./course_dump/week08/day1_intro_to_bayesian_statistics/naive-bayes-spam-lab/datasets/easy_ham/0559.2c60829e4147cdc981cf7131088b851d\n",
      "Searching ./course_dump/week08/day1_intro_to_bayesian_statistics/naive-bayes-spam-lab/datasets/easy_ham/0989.5c5812e631227a1a0873bc3fc9455c10\n",
      "Searching ./course_dump/week08/day1_intro_to_bayesian_statistics/naive-bayes-spam-lab/datasets/easy_ham/1918.e1d8a7c0bcef6834bba337b0d13078ba\n",
      "Searching ./course_dump/week08/day1_intro_to_bayesian_statistics/naive-bayes-spam-lab/datasets/easy_ham/2332.d3e1169779b1313070c82de262c30635\n",
      "Searching ./course_dump/week08/day1_intro_to_bayesian_statistics/naive-bayes-spam-lab/datasets/easy_ham/0194.1f268aec480b5dcc15dcfd1b3ba5f005\n",
      "Searching ./course_dump/week08/day1_intro_to_bayesian_statistics/naive-bayes-spam-lab/datasets/easy_ham/1966.a6ad55fc6cdaf28e047c333dd5a55b7e\n",
      "Searching ./course_dump/week08/day1_intro_to_bayesian_statistics/naive-bayes-spam-lab/datasets/easy_ham/2089.3ee44b35315e3e3c58807d125acaccd9\n",
      "Searching ./course_dump/week08/day1_intro_to_bayesian_statistics/naive-bayes-spam-lab/datasets/easy_ham/1889.07ff07f84507a0b2be0bd27b091736d8\n",
      "Searching ./course_dump/week08/day1_intro_to_bayesian_statistics/naive-bayes-spam-lab/datasets/easy_ham/1169.b4991cd8416f8f9c29bf9e5359f667f5\n",
      "Searching ./course_dump/week08/day1_intro_to_bayesian_statistics/naive-bayes-spam-lab/datasets/easy_ham/0034.4be53f8dac3bd651ace83a38b6313c45\n",
      "Searching ./course_dump/week08/day1_intro_to_bayesian_statistics/naive-bayes-spam-lab/datasets/easy_ham/1877.3b830d0451dd084e5c125436ac07871e\n",
      "Searching ./course_dump/week08/day1_intro_to_bayesian_statistics/naive-bayes-spam-lab/datasets/easy_ham/0425.bc356b284544c185e4ac9e11f4ec1d4a\n",
      "Searching ./course_dump/week08/day1_intro_to_bayesian_statistics/naive-bayes-spam-lab/datasets/easy_ham/0219.c885fbe9fa7e255d6f589b373c8608e3\n",
      "Searching ./course_dump/week08/day1_intro_to_bayesian_statistics/naive-bayes-spam-lab/datasets/easy_ham/0324.d425c24d444091807e283e66449853b0\n",
      "Searching ./course_dump/week08/day1_intro_to_bayesian_statistics/naive-bayes-spam-lab/datasets/easy_ham/0332.daed28f33b65dd9f1c91fa3737d21340\n",
      "Searching ./course_dump/week08/day1_intro_to_bayesian_statistics/naive-bayes-spam-lab/datasets/easy_ham/0632.5a55cc359e591b1264cefa42b228df98\n",
      "Searching ./course_dump/week08/day1_intro_to_bayesian_statistics/naive-bayes-spam-lab/datasets/easy_ham/0385.86c7c23ec4e9892f6bbfa377760fd303\n",
      "Searching ./course_dump/week08/day1_intro_to_bayesian_statistics/naive-bayes-spam-lab/datasets/easy_ham/1787.94ca5ccaec9be05c252bf32961a86a3d\n",
      "Searching ./course_dump/week08/day1_intro_to_bayesian_statistics/naive-bayes-spam-lab/datasets/easy_ham/0782.03d024d74f36ef492a9d8d5de300fb94\n",
      "Searching ./course_dump/week08/day1_intro_to_bayesian_statistics/naive-bayes-spam-lab/datasets/easy_ham/1667.aa251c5e7789a550ed91cdacb0d58649\n",
      "Searching ./course_dump/week08/day1_intro_to_bayesian_statistics/naive-bayes-spam-lab/datasets/easy_ham/1477.c0b267d577c674023fec3244f351df06\n",
      "Searching ./course_dump/week08/day1_intro_to_bayesian_statistics/naive-bayes-spam-lab/datasets/easy_ham/1934.8e30ec46365bab9766f9d4ad5bfc88f8\n",
      "Searching ./course_dump/week08/day1_intro_to_bayesian_statistics/naive-bayes-spam-lab/datasets/easy_ham/0700.5a134a606e773c40b71ec59a599e61ad\n",
      "Searching ./course_dump/week08/day1_intro_to_bayesian_statistics/naive-bayes-spam-lab/datasets/easy_ham/1167.9006901f5178e82edffb4f9167f7c586\n",
      "Searching ./course_dump/week08/day1_intro_to_bayesian_statistics/naive-bayes-spam-lab/datasets/easy_ham/2055.bf3873bdfb04c1fc4b4e88f4794f8260\n",
      "Searching ./course_dump/week08/day1_intro_to_bayesian_statistics/naive-bayes-spam-lab/datasets/easy_ham/2440.041d0de1683ab08bbd1c626e7d0d3beb\n",
      "Searching ./course_dump/week08/day1_intro_to_bayesian_statistics/naive-bayes-spam-lab/datasets/easy_ham/0247.98ed5d80f80da3915b5a1d10ee19c50a\n",
      "Searching ./course_dump/week08/day1_intro_to_bayesian_statistics/naive-bayes-spam-lab/datasets/easy_ham/1897.91a261359b5537a465fa0164ec1d95c6\n",
      "Searching ./course_dump/week08/day1_intro_to_bayesian_statistics/naive-bayes-spam-lab/datasets/easy_ham/2240.fd1d72c726b2e17528622fde97fc0377\n",
      "Searching ./course_dump/week08/day1_intro_to_bayesian_statistics/naive-bayes-spam-lab/datasets/easy_ham/0288.3ae040d2c993ea997470df41f31aebcb\n",
      "Searching ./course_dump/week08/day1_intro_to_bayesian_statistics/naive-bayes-spam-lab/datasets/easy_ham/2262.e4636c98650a8e9b6f53c193cbd5180c\n",
      "Searching ./course_dump/week08/day1_intro_to_bayesian_statistics/naive-bayes-spam-lab/datasets/easy_ham/0473.c16661c43da07d0a3a9baaca5e14292d\n",
      "Searching ./course_dump/week08/day1_intro_to_bayesian_statistics/naive-bayes-spam-lab/datasets/easy_ham/2452.462af6aad417a792d50847cddb590f90\n",
      "Searching ./course_dump/week08/day1_intro_to_bayesian_statistics/naive-bayes-spam-lab/datasets/easy_ham/0427.0a5cdbfdb46be2bfac7cff1cae89dc25\n",
      "Searching ./course_dump/week08/day1_intro_to_bayesian_statistics/naive-bayes-spam-lab/datasets/easy_ham/1828.80327e3b2580e1e277165899b2532871\n",
      "Searching ./course_dump/week08/day1_intro_to_bayesian_statistics/naive-bayes-spam-lab/datasets/easy_ham/1875.dbed554328b768bf307fecf3b4491ce2\n",
      "Searching ./course_dump/week08/day1_intro_to_bayesian_statistics/naive-bayes-spam-lab/datasets/easy_ham/0724.789e078e8d5286dcb7da0df2f47e6886\n"
     ]
    },
    {
     "name": "stdout",
     "output_type": "stream",
     "text": [
      "Searching ./course_dump/week08/day1_intro_to_bayesian_statistics/naive-bayes-spam-lab/datasets/easy_ham/0538.59939f403bfb0f553e02f77abfb38846\n",
      "Searching ./course_dump/week08/day1_intro_to_bayesian_statistics/naive-bayes-spam-lab/datasets/easy_ham/1732.f90c4a8e1ef88d4802f7fc139a85fc13\n",
      "Searching ./course_dump/week08/day1_intro_to_bayesian_statistics/naive-bayes-spam-lab/datasets/easy_ham/2155.9febcd6b448dba76de404c1c57f8d239\n",
      "Searching ./course_dump/week08/day1_intro_to_bayesian_statistics/naive-bayes-spam-lab/datasets/easy_ham/1258.2cc28fb57d46ea73e9b1842f2c427e21\n",
      "Searching ./course_dump/week08/day1_intro_to_bayesian_statistics/naive-bayes-spam-lab/datasets/easy_ham/2127.215dcd2e641c5baa6ea7d056ebd3461d\n",
      "Searching ./course_dump/week08/day1_intro_to_bayesian_statistics/naive-bayes-spam-lab/datasets/easy_ham/1932.e94c6220cb5e6a61437ac4ebf873b68f\n",
      "Searching ./course_dump/week08/day1_intro_to_bayesian_statistics/naive-bayes-spam-lab/datasets/easy_ham/1720.b17e78a9a5d7145aa8deffc671ace997\n",
      "Searching ./course_dump/week08/day1_intro_to_bayesian_statistics/naive-bayes-spam-lab/datasets/easy_ham/1901.5fb290d69c23e53e5e299ad81af93e8b\n",
      "Searching ./course_dump/week08/day1_intro_to_bayesian_statistics/naive-bayes-spam-lab/datasets/easy_ham/2406.6c1c9cb7a7c4ef856b8890a99866dfa3\n",
      "Searching ./course_dump/week08/day1_intro_to_bayesian_statistics/naive-bayes-spam-lab/datasets/easy_ham/2426.ba29d4b97bc1e42b7b12f678cf41d981\n",
      "Searching ./course_dump/week08/day1_intro_to_bayesian_statistics/naive-bayes-spam-lab/datasets/easy_ham/1050.d80975f7f6f0f55faea4dc84c938f415\n",
      "Searching ./course_dump/week08/day1_intro_to_bayesian_statistics/naive-bayes-spam-lab/datasets/easy_ham/0889.19010d78004033878d170ffbcd3b1053\n",
      "Searching ./course_dump/week08/day1_intro_to_bayesian_statistics/naive-bayes-spam-lab/datasets/easy_ham/0521.56b24a33e65cd045de37e6bec5ec30e3\n",
      "Searching ./course_dump/week08/day1_intro_to_bayesian_statistics/naive-bayes-spam-lab/datasets/easy_ham/1807.7f2b82a41322fa94c43a0dbb75472ff4\n",
      "Searching ./course_dump/week08/day1_intro_to_bayesian_statistics/naive-bayes-spam-lab/datasets/easy_ham/1812.f25ce16131a4a1e9b4eb4e04f748509a\n",
      "Searching ./course_dump/week08/day1_intro_to_bayesian_statistics/naive-bayes-spam-lab/datasets/easy_ham/0461.7609029b07acf65f40bd93882aa35887\n",
      "Searching ./course_dump/week08/day1_intro_to_bayesian_statistics/naive-bayes-spam-lab/datasets/easy_ham/2550.963956a866a2e00b3d5b353ecc9216ae\n",
      "Searching ./course_dump/week08/day1_intro_to_bayesian_statistics/naive-bayes-spam-lab/datasets/easy_ham/2501.36311f6ceac129fa31540555ffe3cc97\n",
      "Searching ./course_dump/week08/day1_intro_to_bayesian_statistics/naive-bayes-spam-lab/datasets/easy_ham/1111.682637cab441c4614d42314d8c82c2c6\n",
      "Searching ./course_dump/week08/day1_intro_to_bayesian_statistics/naive-bayes-spam-lab/datasets/easy_ham/1347.b74ed7bb44086b2b4721bce965ac8273\n",
      "Searching ./course_dump/week08/day1_intro_to_bayesian_statistics/naive-bayes-spam-lab/datasets/easy_ham/0252.274e70cd31fb5c72b9e7aee909c53cb1\n",
      "Searching ./course_dump/week08/day1_intro_to_bayesian_statistics/naive-bayes-spam-lab/datasets/easy_ham/0808.426e30e31a3d3fab634e31e8aeb30c34\n",
      "Searching ./course_dump/week08/day1_intro_to_bayesian_statistics/naive-bayes-spam-lab/datasets/easy_ham/1396.70a22c019be6a7cb4949e015fedb8bf0\n",
      "Searching ./course_dump/week08/day1_intro_to_bayesian_statistics/naive-bayes-spam-lab/datasets/easy_ham/1171.0e43e655cee3e8aa703995f8f929b9f1\n",
      "Searching ./course_dump/week08/day1_intro_to_bayesian_statistics/naive-bayes-spam-lab/datasets/easy_ham/1430.340721c84f45f79eeef6fcae18c82f20\n",
      "Searching ./course_dump/week08/day1_intro_to_bayesian_statistics/naive-bayes-spam-lab/datasets/easy_ham/2520.554ec4788bbcc1ed13c453719c8d698e\n",
      "Searching ./course_dump/week08/day1_intro_to_bayesian_statistics/naive-bayes-spam-lab/datasets/easy_ham/0008.20bc0b4ba2d99aae1c7098069f611a9b\n",
      "Searching ./course_dump/week08/day1_intro_to_bayesian_statistics/naive-bayes-spam-lab/datasets/easy_ham/0474.0b5f82aa1324baf9cf718849c48d679e\n",
      "Searching ./course_dump/week08/day1_intro_to_bayesian_statistics/naive-bayes-spam-lab/datasets/easy_ham/0816.b3fb75007d4e83784b06dc8202028bbf\n",
      "Searching ./course_dump/week08/day1_intro_to_bayesian_statistics/naive-bayes-spam-lab/datasets/easy_ham/0396.0922332b5ca3f934481ab4c275a79001\n",
      "Searching ./course_dump/week08/day1_intro_to_bayesian_statistics/naive-bayes-spam-lab/datasets/easy_ham/1690.0b46c8163c389f96d88717fcbe93684c\n",
      "Searching ./course_dump/week08/day1_intro_to_bayesian_statistics/naive-bayes-spam-lab/datasets/easy_ham/0562.7dea96e851b897ea041ea242a9d3c119\n",
      "Searching ./course_dump/week08/day1_intro_to_bayesian_statistics/naive-bayes-spam-lab/datasets/easy_ham/0044.f1db2c76854ee58bc73d0c85ca6a86d2\n",
      "Searching ./course_dump/week08/day1_intro_to_bayesian_statistics/naive-bayes-spam-lab/datasets/easy_ham/0867.bd08bc5bff86a732422082ed7861416b\n",
      "Searching ./course_dump/week08/day1_intro_to_bayesian_statistics/naive-bayes-spam-lab/datasets/easy_ham/1308.f86cade0799b6d8cf98818a1bc598f7d\n",
      "Searching ./course_dump/week08/day1_intro_to_bayesian_statistics/naive-bayes-spam-lab/datasets/easy_ham/2171.a86d3fc0e0dbc1d4a829381e554fce82\n",
      "Searching ./course_dump/week08/day1_intro_to_bayesian_statistics/naive-bayes-spam-lab/datasets/easy_ham/0471.55f1c6122fd60d151c2c42182ecb734a\n",
      "Searching ./course_dump/week08/day1_intro_to_bayesian_statistics/naive-bayes-spam-lab/datasets/easy_ham/1505.7cc0d1e500937105c1503d63bd0b5161\n",
      "Searching ./course_dump/week08/day1_intro_to_bayesian_statistics/naive-bayes-spam-lab/datasets/easy_ham/0614.b5bf667c7ffd59fca7f26a8ca1f8deea\n",
      "Searching ./course_dump/week08/day1_intro_to_bayesian_statistics/naive-bayes-spam-lab/datasets/easy_ham/0173.3898127723ae4ac964f41c1a555c6ecb\n",
      "Searching ./course_dump/week08/day1_intro_to_bayesian_statistics/naive-bayes-spam-lab/datasets/easy_ham/1815.c20d5899b4b27415389a10cd4f400019\n",
      "Searching ./course_dump/week08/day1_intro_to_bayesian_statistics/naive-bayes-spam-lab/datasets/easy_ham/0201.9381ed9aa6cd60f2111acb409240a00b\n",
      "Searching ./course_dump/week08/day1_intro_to_bayesian_statistics/naive-bayes-spam-lab/datasets/easy_ham/0839.12075b1a4eb499ff6a0d7fd0e9d776db\n",
      "Searching ./course_dump/week08/day1_intro_to_bayesian_statistics/naive-bayes-spam-lab/datasets/easy_ham/0757.c32bb650e588ceb29f2256b012caabae\n",
      "Searching ./course_dump/week08/day1_intro_to_bayesian_statistics/naive-bayes-spam-lab/datasets/easy_ham/0286.25aefc468274fe144edb1ee788d6c999\n",
      "Searching ./course_dump/week08/day1_intro_to_bayesian_statistics/naive-bayes-spam-lab/datasets/easy_ham/0267.218a528c448166d39f853cf75d8890dd\n",
      "Searching ./course_dump/week08/day1_intro_to_bayesian_statistics/naive-bayes-spam-lab/datasets/easy_ham/2539.466ecd08a54bf64e857522423a33108a\n",
      "Searching ./course_dump/week08/day1_intro_to_bayesian_statistics/naive-bayes-spam-lab/datasets/easy_ham/2370.798d5a7c04b417c51bc86de7509e4503\n",
      "Searching ./course_dump/week08/day1_intro_to_bayesian_statistics/naive-bayes-spam-lab/datasets/easy_ham/2030.24e53d05c56b58c3de6ef15c92140c10\n",
      "Searching ./course_dump/week08/day1_intro_to_bayesian_statistics/naive-bayes-spam-lab/datasets/easy_ham/2100.df0d7bf93b86d3cb7795c3dbd3f0200d\n",
      "Searching ./course_dump/week08/day1_intro_to_bayesian_statistics/naive-bayes-spam-lab/datasets/easy_ham/2078.9bb650992dad02cef6105da91f7cf807\n",
      "Searching ./course_dump/week08/day1_intro_to_bayesian_statistics/naive-bayes-spam-lab/datasets/easy_ham/1187.e5fee75dd86128e81186369567522f61\n",
      "Searching ./course_dump/week08/day1_intro_to_bayesian_statistics/naive-bayes-spam-lab/datasets/easy_ham/0541.ab739b149f085a5830ec76c633db2850\n",
      "Searching ./course_dump/week08/day1_intro_to_bayesian_statistics/naive-bayes-spam-lab/datasets/easy_ham/1573.2fa3928a9828d1c51517565a833b9f18\n",
      "Searching ./course_dump/week08/day1_intro_to_bayesian_statistics/naive-bayes-spam-lab/datasets/easy_ham/1833.3d930e2d4968f325cc6a773df09e8969\n",
      "Searching ./course_dump/week08/day1_intro_to_bayesian_statistics/naive-bayes-spam-lab/datasets/easy_ham/1072.f4f42529de5e15b3a123e5ec89f4dc49\n",
      "Searching ./course_dump/week08/day1_intro_to_bayesian_statistics/naive-bayes-spam-lab/datasets/easy_ham/0799.eb9fe164fe9541253b4ab806626ab171\n",
      "Searching ./course_dump/week08/day1_intro_to_bayesian_statistics/naive-bayes-spam-lab/datasets/easy_ham/0323.d28819c84ee48388f5a58021028385dc\n",
      "Searching ./course_dump/week08/day1_intro_to_bayesian_statistics/naive-bayes-spam-lab/datasets/easy_ham/1312.cb81f191343dc4f26a8a601cf73d790f\n",
      "Searching ./course_dump/week08/day1_intro_to_bayesian_statistics/naive-bayes-spam-lab/datasets/easy_ham/1685.cd6b27de2307413e47e0212f8d4fc9bb\n",
      "Searching ./course_dump/week08/day1_intro_to_bayesian_statistics/naive-bayes-spam-lab/datasets/easy_ham/2218.4627a0ebd744927f2957e7e014fb82fe\n",
      "Searching ./course_dump/week08/day1_intro_to_bayesian_statistics/naive-bayes-spam-lab/datasets/easy_ham/0100.1728f45047ff2a1601d4e3ee91f26a00\n"
     ]
    },
    {
     "name": "stdout",
     "output_type": "stream",
     "text": [
      "Searching ./course_dump/week08/day1_intro_to_bayesian_statistics/naive-bayes-spam-lab/datasets/easy_ham/0158.05f321b3cb42b6b62bc8a250a7bad59f\n",
      "Searching ./course_dump/week08/day1_intro_to_bayesian_statistics/naive-bayes-spam-lab/datasets/easy_ham/0928.bb2dbf50d5b36b5f621764e2ed1cf417\n",
      "Searching ./course_dump/week08/day1_intro_to_bayesian_statistics/naive-bayes-spam-lab/datasets/easy_ham/0760.15302b8ee38651c2da6e4df6a7358c98\n",
      "Searching ./course_dump/week08/day1_intro_to_bayesian_statistics/naive-bayes-spam-lab/datasets/easy_ham/1202.f08961f34260e8c17e28d788641f21c5\n",
      "Searching ./course_dump/week08/day1_intro_to_bayesian_statistics/naive-bayes-spam-lab/datasets/easy_ham/2205.de62f007c5cc4e08cae87d1c81b24937\n",
      "Searching ./course_dump/week08/day1_intro_to_bayesian_statistics/naive-bayes-spam-lab/datasets/easy_ham/1377.b6f9379076911dc30e73da8e76893923\n",
      "Searching ./course_dump/week08/day1_intro_to_bayesian_statistics/naive-bayes-spam-lab/datasets/easy_ham/0540.e0eb7ff6a98c054571e07addde3cc4de\n",
      "Searching ./course_dump/week08/day1_intro_to_bayesian_statistics/naive-bayes-spam-lab/datasets/easy_ham/0914.77308dfba976d8491bad00bb7e616166\n",
      "Searching ./course_dump/week08/day1_intro_to_bayesian_statistics/naive-bayes-spam-lab/datasets/easy_ham/0296.42216a75e0256510b216eaba6893d40d\n",
      "Searching ./course_dump/week08/day1_intro_to_bayesian_statistics/naive-bayes-spam-lab/datasets/easy_ham/1251.6ea8eef15987f10def40abffda965da9\n",
      "Searching ./course_dump/week08/day1_intro_to_bayesian_statistics/naive-bayes-spam-lab/datasets/easy_ham/2400.49e310283d53c6a1d475fafb88e0e424\n",
      "Searching ./course_dump/week08/day1_intro_to_bayesian_statistics/naive-bayes-spam-lab/datasets/easy_ham/1064.cc185e02744782aa86371b064d602e62\n",
      "Searching ./course_dump/week08/day1_intro_to_bayesian_statistics/naive-bayes-spam-lab/datasets/easy_ham/1509.dd0b9717ec7e25f4adb5a5aefa204ba1\n",
      "Searching ./course_dump/week08/day1_intro_to_bayesian_statistics/naive-bayes-spam-lab/datasets/easy_ham/2220.47fdcb48672a1f836c88bb76344fae46\n",
      "Searching ./course_dump/week08/day1_intro_to_bayesian_statistics/naive-bayes-spam-lab/datasets/easy_ham/0666.d26ea575aa017100f7caa40a0462fcc4\n",
      "Searching ./course_dump/week08/day1_intro_to_bayesian_statistics/naive-bayes-spam-lab/datasets/easy_ham/1600.7d1caa5855ff06f37269178401aff693\n",
      "Searching ./course_dump/week08/day1_intro_to_bayesian_statistics/naive-bayes-spam-lab/datasets/easy_ham/0750.afa51a5a148c9744496447cf28d7483c\n",
      "Searching ./course_dump/week08/day1_intro_to_bayesian_statistics/naive-bayes-spam-lab/datasets/easy_ham/1257.955825e253f61831ee071109a66f0fe9\n",
      "Searching ./course_dump/week08/day1_intro_to_bayesian_statistics/naive-bayes-spam-lab/datasets/easy_ham/2470.e2f55eaf9c7aed2b85c4b4ca65781d3d\n",
      "Searching ./course_dump/week08/day1_intro_to_bayesian_statistics/naive-bayes-spam-lab/datasets/easy_ham/0140.009d880f185eca560c8496da54b447ae\n",
      "Searching ./course_dump/week08/day1_intro_to_bayesian_statistics/naive-bayes-spam-lab/datasets/easy_ham/1886.bfb82bb59d7af53e18c36ad736c7d99b\n",
      "Searching ./course_dump/week08/day1_intro_to_bayesian_statistics/naive-bayes-spam-lab/datasets/easy_ham/0549.59f3057eef31f2b8ebb02446556a3f37\n",
      "Searching ./course_dump/week08/day1_intro_to_bayesian_statistics/naive-bayes-spam-lab/datasets/easy_ham/2166.1b4ee93f256355cb32c60aaddc07e90a\n",
      "Searching ./course_dump/week08/day1_intro_to_bayesian_statistics/naive-bayes-spam-lab/datasets/easy_ham/0751.58282452f1adc8ad703ddc4cf12c2e37\n",
      "Searching ./course_dump/week08/day1_intro_to_bayesian_statistics/naive-bayes-spam-lab/datasets/easy_ham/0049.bda43370915afa1f557f7edab6913e04\n",
      "Searching ./course_dump/week08/day1_intro_to_bayesian_statistics/naive-bayes-spam-lab/datasets/easy_ham/0900.b7895454aeb2924c3d6aabf1dc5d16dd\n",
      "Searching ./course_dump/week08/day1_intro_to_bayesian_statistics/naive-bayes-spam-lab/datasets/easy_ham/2455.a8172ce70c990c52ba73c2f2cb17b5f2\n",
      "Searching ./course_dump/week08/day1_intro_to_bayesian_statistics/naive-bayes-spam-lab/datasets/easy_ham/0713.cef5181b3dfde07e06fd81c8cfc7d39e\n",
      "Searching ./course_dump/week08/day1_intro_to_bayesian_statistics/naive-bayes-spam-lab/datasets/easy_ham/2129.3d86d3c841fb61e241b77634c774c7fa\n",
      "Searching ./course_dump/week08/day1_intro_to_bayesian_statistics/naive-bayes-spam-lab/datasets/easy_ham/1150.7c0819a67445e3b16a94c43e003d74db\n",
      "Searching ./course_dump/week08/day1_intro_to_bayesian_statistics/naive-bayes-spam-lab/datasets/easy_ham/2261.db40430b71ffa3e8f18a564181567788\n",
      "Searching ./course_dump/week08/day1_intro_to_bayesian_statistics/naive-bayes-spam-lab/datasets/easy_ham/1148.78b528d4233a8f6f6e43fdd6e7e97a53\n",
      "Searching ./course_dump/week08/day1_intro_to_bayesian_statistics/naive-bayes-spam-lab/datasets/easy_ham/2041.4b394c6659275d7d2a0b8b9b1c997d8c\n",
      "Searching ./course_dump/week08/day1_intro_to_bayesian_statistics/naive-bayes-spam-lab/datasets/easy_ham/1900.73b47a5794b96f4bdf4fc4cabee59637\n",
      "Searching ./course_dump/week08/day1_intro_to_bayesian_statistics/naive-bayes-spam-lab/datasets/easy_ham/2098.9d58021c6b424395a17fabfc0cf0cfca\n",
      "Searching ./course_dump/week08/day1_intro_to_bayesian_statistics/naive-bayes-spam-lab/datasets/easy_ham/1005.aaca009bb6cf75da8456c570bad6ad08\n",
      "Searching ./course_dump/week08/day1_intro_to_bayesian_statistics/naive-bayes-spam-lab/datasets/easy_ham/2045.23236c16f102098247b10ca305a9a6b5\n",
      "Searching ./course_dump/week08/day1_intro_to_bayesian_statistics/naive-bayes-spam-lab/datasets/easy_ham/0411.315b5c32101916ae2192760585b71763\n",
      "Searching ./course_dump/week08/day1_intro_to_bayesian_statistics/naive-bayes-spam-lab/datasets/easy_ham/0843.6e5323ee268f72a690f5e5af60643e73\n",
      "Searching ./course_dump/week08/day1_intro_to_bayesian_statistics/naive-bayes-spam-lab/datasets/easy_ham/0119.98b90763eec7b4e91c06939eea2d2361\n",
      "Searching ./course_dump/week08/day1_intro_to_bayesian_statistics/naive-bayes-spam-lab/datasets/easy_ham/0921.5a4eee7f38a1451abb6054901280b699\n",
      "Searching ./course_dump/week08/day1_intro_to_bayesian_statistics/naive-bayes-spam-lab/datasets/easy_ham/0424.607e8523fa3516a6dc513c8a20682fc3\n",
      "Searching ./course_dump/week08/day1_intro_to_bayesian_statistics/naive-bayes-spam-lab/datasets/easy_ham/1677.0a982c2dd05563772b84243adbe8a720\n",
      "Searching ./course_dump/week08/day1_intro_to_bayesian_statistics/naive-bayes-spam-lab/datasets/easy_ham/1612.17083808deba0447726df856cbb574aa\n",
      "Searching ./course_dump/week08/day1_intro_to_bayesian_statistics/naive-bayes-spam-lab/datasets/easy_ham/1054.4f64b125bf2f8a6657780878d455a859\n",
      "Searching ./course_dump/week08/day1_intro_to_bayesian_statistics/naive-bayes-spam-lab/datasets/easy_ham/1185.b83ac460b08616796da67d3bc57b76df\n",
      "Searching ./course_dump/week08/day1_intro_to_bayesian_statistics/naive-bayes-spam-lab/datasets/easy_ham/2408.9d2e0a6592738da2aad3f0657d436895\n",
      "Searching ./course_dump/week08/day1_intro_to_bayesian_statistics/naive-bayes-spam-lab/datasets/easy_ham/1947.711930fb110762620017cee7cdb93a1a\n",
      "Searching ./course_dump/week08/day1_intro_to_bayesian_statistics/naive-bayes-spam-lab/datasets/easy_ham/1384.0791f1d9a72262517deabbf25a2de75a\n",
      "Searching ./course_dump/week08/day1_intro_to_bayesian_statistics/naive-bayes-spam-lab/datasets/easy_ham/0852.cab2623799815a32681d15c6c82a41c5\n",
      "Searching ./course_dump/week08/day1_intro_to_bayesian_statistics/naive-bayes-spam-lab/datasets/easy_ham/1237.4bb6dda7449161c5c971565261b5bf22\n",
      "Searching ./course_dump/week08/day1_intro_to_bayesian_statistics/naive-bayes-spam-lab/datasets/easy_ham/2256.192fda174ac98dde837f5e2651bb07f1\n",
      "Searching ./course_dump/week08/day1_intro_to_bayesian_statistics/naive-bayes-spam-lab/datasets/easy_ham/1593.de7504b4655691f11b3e807e42a2b82c\n",
      "Searching ./course_dump/week08/day1_intro_to_bayesian_statistics/naive-bayes-spam-lab/datasets/easy_ham/2421.aa75fb78c4f596e7ee91808fbdc34ab8\n",
      "Searching ./course_dump/week08/day1_intro_to_bayesian_statistics/naive-bayes-spam-lab/datasets/easy_ham/1921.fa34fb56fd0a04ce46ac71d176e6ec55\n",
      "Searching ./course_dump/week08/day1_intro_to_bayesian_statistics/naive-bayes-spam-lab/datasets/easy_ham/0539.6430d7b1bde02782a28fef081b4224fc\n",
      "Searching ./course_dump/week08/day1_intro_to_bayesian_statistics/naive-bayes-spam-lab/datasets/easy_ham/0775.380d5908cc272338fc163b1d1a748e8c\n",
      "Searching ./course_dump/week08/day1_intro_to_bayesian_statistics/naive-bayes-spam-lab/datasets/easy_ham/0817.bcee0d97a59953c5e6086df74d4ed665\n",
      "Searching ./course_dump/week08/day1_intro_to_bayesian_statistics/naive-bayes-spam-lab/datasets/easy_ham/0606.246043a69d2c710dde0e67eedb1fd853\n",
      "Searching ./course_dump/week08/day1_intro_to_bayesian_statistics/naive-bayes-spam-lab/datasets/easy_ham/0214.2d5f01a083341062ac55f45a123f2dcd\n"
     ]
    },
    {
     "name": "stdout",
     "output_type": "stream",
     "text": [
      "Searching ./course_dump/week08/day1_intro_to_bayesian_statistics/naive-bayes-spam-lab/datasets/easy_ham/0373.24b5313473b0c23decb6632ca5e22237\n",
      "Searching ./course_dump/week08/day1_intro_to_bayesian_statistics/naive-bayes-spam-lab/datasets/easy_ham/1970.43fa8f1222f87f472c94d1c11cbaf36e\n",
      "Searching ./course_dump/week08/day1_intro_to_bayesian_statistics/naive-bayes-spam-lab/datasets/easy_ham/2136.a8504a5e292f715028c581ae28f1186d\n",
      "Searching ./course_dump/week08/day1_intro_to_bayesian_statistics/naive-bayes-spam-lab/datasets/easy_ham/1747.77c7add87dfb454c2bcc8ce9f60482bd\n",
      "Searching ./course_dump/week08/day1_intro_to_bayesian_statistics/naive-bayes-spam-lab/datasets/easy_ham/1650.3d76995e778ef56fcf4ff76b02d485ed\n",
      "Searching ./course_dump/week08/day1_intro_to_bayesian_statistics/naive-bayes-spam-lab/datasets/easy_ham/1217.df546955abccc6542862dfdf365d4d0f\n",
      "Searching ./course_dump/week08/day1_intro_to_bayesian_statistics/naive-bayes-spam-lab/datasets/easy_ham/0052.40794e238104d6b01f36b0f4d5145175\n",
      "Searching ./course_dump/week08/day1_intro_to_bayesian_statistics/naive-bayes-spam-lab/datasets/easy_ham/2368.b0434248d8b7f5b7d4c0572541f37832\n",
      "Searching ./course_dump/week08/day1_intro_to_bayesian_statistics/naive-bayes-spam-lab/datasets/easy_ham/1350.e386afc23b51f446e2f6779c1ade0a68\n",
      "Searching ./course_dump/week08/day1_intro_to_bayesian_statistics/naive-bayes-spam-lab/datasets/easy_ham/1079.3d222257b98d7d58a0f970d101be3ad7\n",
      "Searching ./course_dump/week08/day1_intro_to_bayesian_statistics/naive-bayes-spam-lab/datasets/easy_ham/1358.d784d0be4e4e9b4267e6a1165929b762\n",
      "Searching ./course_dump/week08/day1_intro_to_bayesian_statistics/naive-bayes-spam-lab/datasets/easy_ham/1228.0e851b082d2c4200347accef882549eb\n",
      "Searching ./course_dump/week08/day1_intro_to_bayesian_statistics/naive-bayes-spam-lab/datasets/easy_ham/1971.1967681a51fd3f560ba230b4f1f010e2\n",
      "Searching ./course_dump/week08/day1_intro_to_bayesian_statistics/naive-bayes-spam-lab/datasets/easy_ham/1089.8c0c02d20cf78372808b29860b4e406a\n",
      "Searching ./course_dump/week08/day1_intro_to_bayesian_statistics/naive-bayes-spam-lab/datasets/easy_ham/0096.0446f3ed63b550a8622c8671d8ae9a9c\n",
      "Searching ./course_dump/week08/day1_intro_to_bayesian_statistics/naive-bayes-spam-lab/datasets/easy_ham/2306.286dad51732ff19316bdef986cab29f5\n",
      "Searching ./course_dump/week08/day1_intro_to_bayesian_statistics/naive-bayes-spam-lab/datasets/easy_ham/2019.c804962e51245b7ec2353667b9171d7b\n",
      "Searching ./course_dump/week08/day1_intro_to_bayesian_statistics/naive-bayes-spam-lab/datasets/easy_ham/0454.c215b0f3f009fca9e6f019a5cbd00765\n",
      "Searching ./course_dump/week08/day1_intro_to_bayesian_statistics/naive-bayes-spam-lab/datasets/easy_ham/2169.8b7b5f65ef9511d96214e3648d3956b0\n",
      "Searching ./course_dump/week08/day1_intro_to_bayesian_statistics/naive-bayes-spam-lab/datasets/easy_ham/1523.59e3f881f7536e0a90d98797f6c509e3\n",
      "Searching ./course_dump/week08/day1_intro_to_bayesian_statistics/naive-bayes-spam-lab/datasets/easy_ham/0415.6dfea45b8aef7d6ef6a462974d61ce3e\n",
      "Searching ./course_dump/week08/day1_intro_to_bayesian_statistics/naive-bayes-spam-lab/datasets/easy_ham/1632.eda28ab249a9f3dcad3f7a343e6b76fb\n",
      "Searching ./course_dump/week08/day1_intro_to_bayesian_statistics/naive-bayes-spam-lab/datasets/easy_ham/1476.003708da8e0f35d91264c7aa737031a4\n",
      "Searching ./course_dump/week08/day1_intro_to_bayesian_statistics/naive-bayes-spam-lab/datasets/easy_ham/1461.7a96cf16c999d9db5e0cf0369203866d\n",
      "Searching ./course_dump/week08/day1_intro_to_bayesian_statistics/naive-bayes-spam-lab/datasets/easy_ham/1334.2c9c592fd955e975f86e536b6ac5cadd\n",
      "Searching ./course_dump/week08/day1_intro_to_bayesian_statistics/naive-bayes-spam-lab/datasets/easy_ham/1140.58310046747fc9cf38a43349d2461870\n",
      "Searching ./course_dump/week08/day1_intro_to_bayesian_statistics/naive-bayes-spam-lab/datasets/easy_ham/1578.0c18da688c1ae54f27a3a4eb27d4005b\n",
      "Searching ./course_dump/week08/day1_intro_to_bayesian_statistics/naive-bayes-spam-lab/datasets/easy_ham/0486.62b08ccbd58add2e635494c114f1173b\n",
      "Searching ./course_dump/week08/day1_intro_to_bayesian_statistics/naive-bayes-spam-lab/datasets/easy_ham/1765.4257318f87e53aa246882d00e42c67d5\n",
      "Searching ./course_dump/week08/day1_intro_to_bayesian_statistics/naive-bayes-spam-lab/datasets/easy_ham/1705.d042ec093f873897ebf5146274dc2a20\n",
      "Searching ./course_dump/week08/day1_intro_to_bayesian_statistics/naive-bayes-spam-lab/datasets/easy_ham/2407.c9318bb61b808a141780fa5067d53a05\n",
      "Searching ./course_dump/week08/day1_intro_to_bayesian_statistics/naive-bayes-spam-lab/datasets/easy_ham/0175.dd1831e0f3322282d3efa5da7aec74f9\n",
      "Searching ./course_dump/week08/day1_intro_to_bayesian_statistics/naive-bayes-spam-lab/datasets/easy_ham/1214.1a66983fafc885a13fb7301e76d9af04\n",
      "Searching ./course_dump/week08/day1_intro_to_bayesian_statistics/naive-bayes-spam-lab/datasets/easy_ham/0551.5bdfb0c299c60e442e39346dc08bad68\n",
      "Searching ./course_dump/week08/day1_intro_to_bayesian_statistics/naive-bayes-spam-lab/datasets/easy_ham/1718.dd3ab0a21ff132982fbde9b8712d5258\n",
      "Searching ./course_dump/week08/day1_intro_to_bayesian_statistics/naive-bayes-spam-lab/datasets/easy_ham/2524.c06019b7e085875e69ff55f43defeb83\n",
      "Searching ./course_dump/week08/day1_intro_to_bayesian_statistics/naive-bayes-spam-lab/datasets/easy_ham/0781.cbbfe78e21c332b56c7e3630aeaa9585\n",
      "Searching ./course_dump/week08/day1_intro_to_bayesian_statistics/naive-bayes-spam-lab/datasets/easy_ham/1922.b0fed0fd3b2a0044158514836a172732\n",
      "Searching ./course_dump/week08/day1_intro_to_bayesian_statistics/naive-bayes-spam-lab/datasets/easy_ham/0698.a99cb214459f43d26a20d34eec3f0b45\n",
      "Searching ./course_dump/week08/day1_intro_to_bayesian_statistics/naive-bayes-spam-lab/datasets/easy_ham/0245.39190ace43266b978a8561863c8841c0\n",
      "Searching ./course_dump/week08/day1_intro_to_bayesian_statistics/naive-bayes-spam-lab/datasets/easy_ham/2040.d3f0b94750bc5473a3c103ad037bbc22\n",
      "Searching ./course_dump/week08/day1_intro_to_bayesian_statistics/naive-bayes-spam-lab/datasets/easy_ham/0532.0a4c127cb659ebad1f4366cf3eb93b83\n",
      "Searching ./course_dump/week08/day1_intro_to_bayesian_statistics/naive-bayes-spam-lab/datasets/easy_ham/1845.e5c02ab6101d2a7759f059da0e6385ca\n",
      "Searching ./course_dump/week08/day1_intro_to_bayesian_statistics/naive-bayes-spam-lab/datasets/easy_ham/0650.98f5c18e05ccd24028b10fa7317d67e8\n",
      "Searching ./course_dump/week08/day1_intro_to_bayesian_statistics/naive-bayes-spam-lab/datasets/easy_ham/1391.9cf584eba8880793c405082f2dbab06f\n",
      "Searching ./course_dump/week08/day1_intro_to_bayesian_statistics/naive-bayes-spam-lab/datasets/easy_ham/0495.5c4fb5aab57f610e00c4d3b951216f16\n",
      "Searching ./course_dump/week08/day1_intro_to_bayesian_statistics/naive-bayes-spam-lab/datasets/easy_ham/0014.532e0a17d0674ba7a9baa7b0afe5fb52\n",
      "Searching ./course_dump/week08/day1_intro_to_bayesian_statistics/naive-bayes-spam-lab/datasets/easy_ham/0306.7e8d58915713dcad975ed5591b31bdf4\n",
      "Searching ./course_dump/week08/day1_intro_to_bayesian_statistics/naive-bayes-spam-lab/datasets/easy_ham/0944.17f20b8ad4ea51e366873fa551ad20da\n",
      "Searching ./course_dump/week08/day1_intro_to_bayesian_statistics/naive-bayes-spam-lab/datasets/easy_ham/1337.eb38bf81b8a24991252e451208c24ecd\n",
      "Searching ./course_dump/week08/day1_intro_to_bayesian_statistics/naive-bayes-spam-lab/datasets/easy_ham/1131.7f31a18433046205b44e6b46f9677f9a\n",
      "Searching ./course_dump/week08/day1_intro_to_bayesian_statistics/naive-bayes-spam-lab/datasets/easy_ham/0117.fbc79c02a2c13d6c9b36f9ba38a09170\n",
      "Searching ./course_dump/week08/day1_intro_to_bayesian_statistics/naive-bayes-spam-lab/datasets/easy_ham/0746.eb20a810f43c9bd9663c0da5e553ccc4\n",
      "Searching ./course_dump/week08/day1_intro_to_bayesian_statistics/naive-bayes-spam-lab/datasets/easy_ham/0365.5351f6327efeedb441147904b04bd96a\n",
      "Searching ./course_dump/week08/day1_intro_to_bayesian_statistics/naive-bayes-spam-lab/datasets/easy_ham/0644.465fabd80d5659bce12a75942fc62c06\n",
      "Searching ./course_dump/week08/day1_intro_to_bayesian_statistics/naive-bayes-spam-lab/datasets/easy_ham/0807.f71b636c06421f0cddb167eed4c0be82\n",
      "Searching ./course_dump/week08/day1_intro_to_bayesian_statistics/naive-bayes-spam-lab/datasets/easy_ham/1260.ed1791f5738995cd9420a9fc169be0d1\n",
      "Searching ./course_dump/week08/day1_intro_to_bayesian_statistics/naive-bayes-spam-lab/datasets/easy_ham/1331.6ad39d03e006435853139ea69757b8f4\n",
      "Searching ./course_dump/week08/day1_intro_to_bayesian_statistics/naive-bayes-spam-lab/datasets/easy_ham/0348.3b405d7ce51b88004e6106862f9e3ac4\n",
      "Searching ./course_dump/week08/day1_intro_to_bayesian_statistics/naive-bayes-spam-lab/datasets/easy_ham/0860.891fbb986b6531d3390a1e9035d571e1\n",
      "Searching ./course_dump/week08/day1_intro_to_bayesian_statistics/naive-bayes-spam-lab/datasets/easy_ham/1721.2f654b5e99867bebf86ebb0280fb8e48\n"
     ]
    },
    {
     "name": "stdout",
     "output_type": "stream",
     "text": [
      "Searching ./course_dump/week08/day1_intro_to_bayesian_statistics/naive-bayes-spam-lab/datasets/easy_ham/0342.16612b49bb48a41b6bdba8dff6bb2399\n",
      "Searching ./course_dump/week08/day1_intro_to_bayesian_statistics/naive-bayes-spam-lab/datasets/easy_ham/1753.f51bd31e8f0e63be278c22d7a4d2bf10\n",
      "Searching ./course_dump/week08/day1_intro_to_bayesian_statistics/naive-bayes-spam-lab/datasets/easy_ham/1808.54f25b5c3ce8b81c56da0ef6693c5ffb\n",
      "Searching ./course_dump/week08/day1_intro_to_bayesian_statistics/naive-bayes-spam-lab/datasets/easy_ham/0220.1cca495dc30f98fc43adb00683029dbf\n",
      "Searching ./course_dump/week08/day1_intro_to_bayesian_statistics/naive-bayes-spam-lab/datasets/easy_ham/1696.7e22fd3302271b7e8cb745edb9254c71\n",
      "Searching ./course_dump/week08/day1_intro_to_bayesian_statistics/naive-bayes-spam-lab/datasets/easy_ham/1852.da79f6e9c4f07174e5dec173c9481b99\n",
      "Searching ./course_dump/week08/day1_intro_to_bayesian_statistics/naive-bayes-spam-lab/datasets/easy_ham/0920.cad45fa889324a42667e6da8d3a8006f\n",
      "Searching ./course_dump/week08/day1_intro_to_bayesian_statistics/naive-bayes-spam-lab/datasets/easy_ham/1133.4b5a4ac1c2bd770e63cc85059145ebe1\n",
      "Searching ./course_dump/week08/day1_intro_to_bayesian_statistics/naive-bayes-spam-lab/datasets/easy_ham/0354.297d496266df9171aace690c7483f35c\n",
      "Searching ./course_dump/week08/day1_intro_to_bayesian_statistics/naive-bayes-spam-lab/datasets/easy_ham/1715.7e47339df52b3d0c131273f1c58ba4eb\n",
      "Searching ./course_dump/week08/day1_intro_to_bayesian_statistics/naive-bayes-spam-lab/datasets/easy_ham/2364.3e4ea188baa5301f26758bee4aeeae57\n",
      "Searching ./course_dump/week08/day1_intro_to_bayesian_statistics/naive-bayes-spam-lab/datasets/easy_ham/1553.057f1ee3da7c975523f475fc0c4fae71\n",
      "Searching ./course_dump/week08/day1_intro_to_bayesian_statistics/naive-bayes-spam-lab/datasets/easy_ham/2095.c0d4fbeea4942b5c55a59655694bdb9e\n",
      "Searching ./course_dump/week08/day1_intro_to_bayesian_statistics/naive-bayes-spam-lab/datasets/easy_ham/2133.d3d4f15eb898bffe360f99678d9cae2c\n",
      "Searching ./course_dump/week08/day1_intro_to_bayesian_statistics/naive-bayes-spam-lab/datasets/easy_ham/2291.3560a8bef18a21ce572bab2c364571d7\n",
      "Searching ./course_dump/week08/day1_intro_to_bayesian_statistics/naive-bayes-spam-lab/datasets/easy_ham/0294.145bbce5c541610ee520838637d2e112\n",
      "Searching ./course_dump/week08/day1_intro_to_bayesian_statistics/naive-bayes-spam-lab/datasets/easy_ham/1425.7ed3569c34399b07b158eaead1c85cc8\n",
      "Searching ./course_dump/week08/day1_intro_to_bayesian_statistics/naive-bayes-spam-lab/datasets/easy_ham/1022.73ab70b91862d709897cfe3dd5bb22a0\n",
      "Searching ./course_dump/week08/day1_intro_to_bayesian_statistics/naive-bayes-spam-lab/datasets/easy_ham/0325.2de3d7f6cb27edcb0bcc965b3353a5ed\n",
      "Searching ./course_dump/week08/day1_intro_to_bayesian_statistics/naive-bayes-spam-lab/datasets/easy_ham/0622.aa081cbcc4734cedebbe0084f1988921\n",
      "Searching ./course_dump/week08/day1_intro_to_bayesian_statistics/naive-bayes-spam-lab/datasets/easy_ham/1423.e988ffdfe0c87956e90f32a59aea6d9e\n",
      "Searching ./course_dump/week08/day1_intro_to_bayesian_statistics/naive-bayes-spam-lab/datasets/easy_ham/0848.ef1b9b43e194c1650d7722ffcc7b20ad\n",
      "Searching ./course_dump/week08/day1_intro_to_bayesian_statistics/naive-bayes-spam-lab/datasets/easy_ham/2152.d8dd8a2810797c245f91ae73868e72c8\n",
      "Searching ./course_dump/week08/day1_intro_to_bayesian_statistics/naive-bayes-spam-lab/datasets/easy_ham/1635.52b59f11291134697f3604f9dfd72080\n",
      "Searching ./course_dump/week08/day1_intro_to_bayesian_statistics/naive-bayes-spam-lab/datasets/easy_ham/0394.1c86a541cac55ed69e47b32b325352cb\n",
      "Searching ./course_dump/week08/day1_intro_to_bayesian_statistics/naive-bayes-spam-lab/datasets/easy_ham/1725.4b7434da4269db27bd237dde1d03db92\n",
      "Searching ./course_dump/week08/day1_intro_to_bayesian_statistics/naive-bayes-spam-lab/datasets/easy_ham/1663.3cda52dac479d2b668e3410feb916e38\n",
      "Searching ./course_dump/week08/day1_intro_to_bayesian_statistics/naive-bayes-spam-lab/datasets/easy_ham/0786.c64c284e8fb2b88945969afd14bc6d78\n",
      "Searching ./course_dump/week08/day1_intro_to_bayesian_statistics/naive-bayes-spam-lab/datasets/easy_ham/0040.930593a7e616570a2b63f2d774847316\n",
      "Searching ./course_dump/week08/day1_intro_to_bayesian_statistics/naive-bayes-spam-lab/datasets/easy_ham/2381.b2da2e96c499fbf2c4cc0ff9491cf337\n",
      "Searching ./course_dump/week08/day1_intro_to_bayesian_statistics/naive-bayes-spam-lab/datasets/easy_ham/1592.e024e5de503dcf463bad5cd5c8c64210\n",
      "Searching ./course_dump/week08/day1_intro_to_bayesian_statistics/naive-bayes-spam-lab/datasets/easy_ham/2367.4c7d1d3b8b2f0467a4ed5e9ef5f17980\n",
      "Searching ./course_dump/week08/day1_intro_to_bayesian_statistics/naive-bayes-spam-lab/datasets/easy_ham/1963.314e60fa6f1e6559eee98d1b3b21a6d3\n",
      "Searching ./course_dump/week08/day1_intro_to_bayesian_statistics/naive-bayes-spam-lab/datasets/easy_ham/0033.e3fd617544226dc06abf36c95a9a2d11\n",
      "Searching ./course_dump/week08/day1_intro_to_bayesian_statistics/naive-bayes-spam-lab/datasets/easy_ham/0942.dde76db87ad1670783cc76def075f6c0\n",
      "Searching ./course_dump/week08/day1_intro_to_bayesian_statistics/naive-bayes-spam-lab/datasets/easy_ham/1371.163cff388de55b3d4f3ac817fd8a3dd9\n",
      "Searching ./course_dump/week08/day1_intro_to_bayesian_statistics/naive-bayes-spam-lab/datasets/easy_ham/1189.e69e458af7eefebc70d658dd2e6d23df\n",
      "Searching ./course_dump/week08/day1_intro_to_bayesian_statistics/naive-bayes-spam-lab/datasets/easy_ham/0368.85ad0c76c076fbb624c7adfebc928d84\n",
      "Searching ./course_dump/week08/day1_intro_to_bayesian_statistics/naive-bayes-spam-lab/datasets/easy_ham/0906.2e604cc2a15e9f2a68c302861ac42ec5\n",
      "Searching ./course_dump/week08/day1_intro_to_bayesian_statistics/naive-bayes-spam-lab/datasets/easy_ham/1722.0ace94ca1a8eebbca0c096f2bfc89cc3\n",
      "Searching ./course_dump/week08/day1_intro_to_bayesian_statistics/naive-bayes-spam-lab/datasets/easy_ham/0491.4d902a53799cc4c52b72c0c41367a96b\n",
      "Searching ./course_dump/week08/day1_intro_to_bayesian_statistics/naive-bayes-spam-lab/datasets/easy_ham/1955.29f186d81a38a1a4a249c7d84182bb90\n",
      "Searching ./course_dump/week08/day1_intro_to_bayesian_statistics/naive-bayes-spam-lab/datasets/easy_ham/0828.244d3a6c6cef70fc0025906b05b069ac\n",
      "Searching ./course_dump/week08/day1_intro_to_bayesian_statistics/naive-bayes-spam-lab/datasets/easy_ham/0218.9fc48080321710ad8478e7c1c61e4bf0\n",
      "Searching ./course_dump/week08/day1_intro_to_bayesian_statistics/naive-bayes-spam-lab/datasets/easy_ham/1893.f4e1f04673f39ec1714ca2e3056684a0\n",
      "Searching ./course_dump/week08/day1_intro_to_bayesian_statistics/naive-bayes-spam-lab/datasets/easy_ham/1372.b25e5803cd96db85050c5c31ad3d58c5\n",
      "Searching ./course_dump/week08/day1_intro_to_bayesian_statistics/naive-bayes-spam-lab/datasets/easy_ham/1831.0bbb7ccf73587c7f02655596e7fa6477\n",
      "Searching ./course_dump/week08/day1_intro_to_bayesian_statistics/naive-bayes-spam-lab/datasets/easy_ham/2432.16b94633e0023cece6e08a08effe7714\n",
      "Searching ./course_dump/week08/day1_intro_to_bayesian_statistics/naive-bayes-spam-lab/datasets/easy_ham/1629.a65b12c5ddbee4016ecda63b404149d8\n",
      "Searching ./course_dump/week08/day1_intro_to_bayesian_statistics/naive-bayes-spam-lab/datasets/easy_ham/0134.56b4bed3bd3a696ab5b271a6e37fa005\n",
      "Searching ./course_dump/week08/day1_intro_to_bayesian_statistics/naive-bayes-spam-lab/datasets/easy_ham/2016.822832b4cec1368c373fb8065cab6d7e\n",
      "Searching ./course_dump/week08/day1_intro_to_bayesian_statistics/naive-bayes-spam-lab/datasets/easy_ham/2191.7e6d60764803b91bc8811ea198a3b80d\n",
      "Searching ./course_dump/week08/day1_intro_to_bayesian_statistics/naive-bayes-spam-lab/datasets/easy_ham/2382.58498a8689b84bdf430e14fdb44bc128\n",
      "Searching ./course_dump/week08/day1_intro_to_bayesian_statistics/naive-bayes-spam-lab/datasets/easy_ham/2386.756b3e8e1feccdec0e7b480e9e923147\n",
      "Searching ./course_dump/week08/day1_intro_to_bayesian_statistics/naive-bayes-spam-lab/datasets/easy_ham/2249.8cb268b72e28cb7a5ff8d500e6f332cf\n",
      "Searching ./course_dump/week08/day1_intro_to_bayesian_statistics/naive-bayes-spam-lab/datasets/easy_ham/0796.8d8d5b4019a279811294da009a57ba7d\n",
      "Searching ./course_dump/week08/day1_intro_to_bayesian_statistics/naive-bayes-spam-lab/datasets/easy_ham/1684.925bdc970b65949bf11a0aea4a853b03\n",
      "Searching ./course_dump/week08/day1_intro_to_bayesian_statistics/naive-bayes-spam-lab/datasets/easy_ham/2362.7000c27b1ff8d8539c46fdfec032d708\n",
      "Searching ./course_dump/week08/day1_intro_to_bayesian_statistics/naive-bayes-spam-lab/datasets/easy_ham/1802.235f7aea351e2aa201447c134468f723\n",
      "Searching ./course_dump/week08/day1_intro_to_bayesian_statistics/naive-bayes-spam-lab/datasets/easy_ham/1444.9c769de9af58bfba4b3e6b0ca034f2b8\n",
      "Searching ./course_dump/week08/day1_intro_to_bayesian_statistics/naive-bayes-spam-lab/datasets/easy_ham/1247.b5d92ac3d2ae89f0edc14514ca366207\n"
     ]
    },
    {
     "name": "stdout",
     "output_type": "stream",
     "text": [
      "Searching ./course_dump/week08/day1_intro_to_bayesian_statistics/naive-bayes-spam-lab/datasets/easy_ham/2346.1939a40fba00b400341fd09b7c8365b2\n",
      "Searching ./course_dump/week08/day1_intro_to_bayesian_statistics/naive-bayes-spam-lab/datasets/easy_ham/1046.06207e3824a4024e41215defe29e1ddf\n",
      "Searching ./course_dump/week08/day1_intro_to_bayesian_statistics/naive-bayes-spam-lab/datasets/easy_ham/0268.77ef28e27a9ee085646f260418072111\n",
      "Searching ./course_dump/week08/day1_intro_to_bayesian_statistics/naive-bayes-spam-lab/datasets/easy_ham/1779.b1039d148dbb347b468973dc6bfe0319\n",
      "Searching ./course_dump/week08/day1_intro_to_bayesian_statistics/naive-bayes-spam-lab/datasets/easy_ham/0181.d16658bb110eb37495081efa07319db1\n",
      "Searching ./course_dump/week08/day1_intro_to_bayesian_statistics/naive-bayes-spam-lab/datasets/easy_ham/1969.08d3334c15f2c9c6b41676d715d78d8a\n",
      "Searching ./course_dump/week08/day1_intro_to_bayesian_statistics/naive-bayes-spam-lab/datasets/easy_ham/0084.e84ff95488fab22c26801bcd5bae337e\n",
      "Searching ./course_dump/week08/day1_intro_to_bayesian_statistics/naive-bayes-spam-lab/datasets/easy_ham/2028.376e3e27123560237f00a7936cc8de05\n",
      "Searching ./course_dump/week08/day1_intro_to_bayesian_statistics/naive-bayes-spam-lab/datasets/easy_ham/0658.0e24e5ee1cfb7ee361c794aa043b416a\n",
      "Searching ./course_dump/week08/day1_intro_to_bayesian_statistics/naive-bayes-spam-lab/datasets/easy_ham/0462.6b066ed01f1856371a7ca52580774a20\n",
      "Searching ./course_dump/week08/day1_intro_to_bayesian_statistics/naive-bayes-spam-lab/datasets/easy_ham/0316.0b7a8e1acbd09115574dc58120d93000\n",
      "Searching ./course_dump/week08/day1_intro_to_bayesian_statistics/naive-bayes-spam-lab/datasets/easy_ham/1658.5668754ea9f7c62c42b2555e0ca7cdac\n",
      "Searching ./course_dump/week08/day1_intro_to_bayesian_statistics/naive-bayes-spam-lab/datasets/easy_ham/2517.2dbd54c3580b5fb8e12dea4d876348f3\n",
      "Searching ./course_dump/week08/day1_intro_to_bayesian_statistics/naive-bayes-spam-lab/datasets/easy_ham/0367.b5b7e46c0cd3cee620aa699eca0359c6\n",
      "Searching ./course_dump/week08/day1_intro_to_bayesian_statistics/naive-bayes-spam-lab/datasets/easy_ham/0740.fb7c09644e29a443a4effe8ad0ccfa2a\n",
      "Searching ./course_dump/week08/day1_intro_to_bayesian_statistics/naive-bayes-spam-lab/datasets/easy_ham/0235.3c824d680d31b3710d8f3475730dc42d\n",
      "Searching ./course_dump/week08/day1_intro_to_bayesian_statistics/naive-bayes-spam-lab/datasets/easy_ham/0647.3e7d91fa18377c667aedf719bc1b2c5a\n",
      "Searching ./course_dump/week08/day1_intro_to_bayesian_statistics/naive-bayes-spam-lab/datasets/easy_ham/0905.2460d014dcdcdaaa26313066df702677\n",
      "Searching ./course_dump/week08/day1_intro_to_bayesian_statistics/naive-bayes-spam-lab/datasets/easy_ham/0619.1eebcb2010962026f9e985efaf54c54c\n",
      "Searching ./course_dump/week08/day1_intro_to_bayesian_statistics/naive-bayes-spam-lab/datasets/easy_ham/0600.5c058c763f0c2053e70d2a6ddd5afd1e\n",
      "Searching ./course_dump/week08/day1_intro_to_bayesian_statistics/naive-bayes-spam-lab/datasets/easy_ham/0138.5bc0323b8aa075bd1e99610b50aa1150\n",
      "Searching ./course_dump/week08/day1_intro_to_bayesian_statistics/naive-bayes-spam-lab/datasets/easy_ham/0147.16b764c5bd3e419cc5b6d0145b2d8145\n",
      "Searching ./course_dump/week08/day1_intro_to_bayesian_statistics/naive-bayes-spam-lab/datasets/easy_ham/0215.201f7adff1b30b986939a5fa17a80a86\n",
      "Searching ./course_dump/week08/day1_intro_to_bayesian_statistics/naive-bayes-spam-lab/datasets/easy_ham/0879.267af96ab014056d029ea42fd1ecf2bd\n",
      "Searching ./course_dump/week08/day1_intro_to_bayesian_statistics/naive-bayes-spam-lab/datasets/easy_ham/2418.6ac869fbb6afa9c38fbcf48e1e49ad3a\n",
      "Searching ./course_dump/week08/day1_intro_to_bayesian_statistics/naive-bayes-spam-lab/datasets/easy_ham/1170.c4b2c469732c9fb5366078ecfc5c5823\n",
      "Searching ./course_dump/week08/day1_intro_to_bayesian_statistics/naive-bayes-spam-lab/datasets/easy_ham/2451.1ccaf9bc09a2b8e339f02d21ac62f437\n",
      "Searching ./course_dump/week08/day1_intro_to_bayesian_statistics/naive-bayes-spam-lab/datasets/easy_ham/2296.9d1646355d75f4b2dcdd497200c8544c\n",
      "Searching ./course_dump/week08/day1_intro_to_bayesian_statistics/naive-bayes-spam-lab/datasets/easy_ham/1489.d724933540e63e324268925f6c803361\n",
      "Searching ./course_dump/week08/day1_intro_to_bayesian_statistics/naive-bayes-spam-lab/datasets/easy_ham/0099.9f54be08406e67fd8944f2f1d0fbdd90\n",
      "Searching ./course_dump/week08/day1_intro_to_bayesian_statistics/naive-bayes-spam-lab/datasets/easy_ham/0602.af33589441908011e53b55d4702012cd\n",
      "Searching ./course_dump/week08/day1_intro_to_bayesian_statistics/naive-bayes-spam-lab/datasets/easy_ham/0876.22140b6b06918d04fc07c3d992a6b846\n",
      "Searching ./course_dump/week08/day1_intro_to_bayesian_statistics/naive-bayes-spam-lab/datasets/easy_ham/1630.f16808d817c720df2c97122c2c62d4a2\n",
      "Searching ./course_dump/week08/day1_intro_to_bayesian_statistics/naive-bayes-spam-lab/datasets/easy_ham/2090.1cc5d751bc6c360a07a2a9660359a549\n",
      "Searching ./course_dump/week08/day1_intro_to_bayesian_statistics/naive-bayes-spam-lab/datasets/easy_ham/1279.66eab31d61b430bc9c4a11511b965e60\n",
      "Searching ./course_dump/week08/day1_intro_to_bayesian_statistics/naive-bayes-spam-lab/datasets/easy_ham/1524.d18213f1cf68518e719dccd3717e4255\n",
      "Searching ./course_dump/week08/day1_intro_to_bayesian_statistics/naive-bayes-spam-lab/datasets/easy_ham/1234.30168dbefeafcbbd7649c9153a182482\n",
      "Searching ./course_dump/week08/day1_intro_to_bayesian_statistics/naive-bayes-spam-lab/datasets/easy_ham/1102.25a9175170413ba941d49db2e99ebd0c\n",
      "Searching ./course_dump/week08/day1_intro_to_bayesian_statistics/naive-bayes-spam-lab/datasets/easy_ham/1703.7c5ad732db66343c7c8c05b7bc66e811\n",
      "Searching ./course_dump/week08/day1_intro_to_bayesian_statistics/naive-bayes-spam-lab/datasets/easy_ham/0998.9b9e34483f3588514be24dd97961764b\n",
      "Searching ./course_dump/week08/day1_intro_to_bayesian_statistics/naive-bayes-spam-lab/datasets/easy_ham/1139.44ea8e749419ab215aab3810e4deea83\n",
      "Searching ./course_dump/week08/day1_intro_to_bayesian_statistics/naive-bayes-spam-lab/datasets/easy_ham/0849.84e6b16e331d3e5bcd798ca0f5374624\n",
      "Searching ./course_dump/week08/day1_intro_to_bayesian_statistics/naive-bayes-spam-lab/datasets/easy_ham/0973.89427fb666841ff5794e403f199002af\n",
      "Searching ./course_dump/week08/day1_intro_to_bayesian_statistics/naive-bayes-spam-lab/datasets/easy_ham/0991.f273a70df275a44e46f4544897eaee23\n",
      "Searching ./course_dump/week08/day1_intro_to_bayesian_statistics/naive-bayes-spam-lab/datasets/easy_ham/1789.146b27f3890e3350b0e596b42e18a985\n",
      "Searching ./course_dump/week08/day1_intro_to_bayesian_statistics/naive-bayes-spam-lab/datasets/easy_ham/0965.ba396065e5cc872d89cb197e4773f372\n",
      "Searching ./course_dump/week08/day1_intro_to_bayesian_statistics/naive-bayes-spam-lab/datasets/easy_ham/1599.1f738c1f2512f6179f1d94e2949cce00\n",
      "Searching ./course_dump/week08/day1_intro_to_bayesian_statistics/naive-bayes-spam-lab/datasets/easy_ham/0728.7d37495ed88e5edd68f2c868e451b68e\n",
      "Searching ./course_dump/week08/day1_intro_to_bayesian_statistics/naive-bayes-spam-lab/datasets/easy_ham/1659.e94135f919552d1bc8bf35f0a84b483c\n",
      "Searching ./course_dump/week08/day1_intro_to_bayesian_statistics/naive-bayes-spam-lab/datasets/easy_ham/2146.c87b60b5d82b08ad158555b96a042b7a\n",
      "Searching ./course_dump/week08/day1_intro_to_bayesian_statistics/naive-bayes-spam-lab/datasets/easy_ham/1398.02fd0caad73d10ee02aebd13b761f135\n",
      "Searching ./course_dump/week08/day1_intro_to_bayesian_statistics/naive-bayes-spam-lab/datasets/easy_ham/2482.67146ca47d2cb5e4657d54c66bf68a69\n",
      "Searching ./course_dump/week08/day1_intro_to_bayesian_statistics/naive-bayes-spam-lab/datasets/easy_ham/0061.20319a885b8cf6c88c8098eafd731396\n",
      "Searching ./course_dump/week08/day1_intro_to_bayesian_statistics/naive-bayes-spam-lab/datasets/easy_ham/0271.349d737f101674586c61996593772a63\n",
      "Searching ./course_dump/week08/day1_intro_to_bayesian_statistics/naive-bayes-spam-lab/datasets/easy_ham/2128.c2c0ae4f6f228da05bb9694ee864946f\n",
      "Searching ./course_dump/week08/day1_intro_to_bayesian_statistics/naive-bayes-spam-lab/datasets/easy_ham/0238.7b9b9b2e3b3ca24ae8960f03aab57964\n",
      "Searching ./course_dump/week08/day1_intro_to_bayesian_statistics/naive-bayes-spam-lab/datasets/easy_ham/1750.c5afcba50538a5f49d6e261f6bcfed40\n",
      "Searching ./course_dump/week08/day1_intro_to_bayesian_statistics/naive-bayes-spam-lab/datasets/easy_ham/0696.5115510438ad02471df930ada920d7dc\n",
      "Searching ./course_dump/week08/day1_intro_to_bayesian_statistics/naive-bayes-spam-lab/datasets/easy_ham/0476.ef07b997be9a011cba687d11ce274756\n",
      "Searching ./course_dump/week08/day1_intro_to_bayesian_statistics/naive-bayes-spam-lab/datasets/easy_ham/0851.b7c6fc9da1800afe4eed1a0807dbdccc\n",
      "Searching ./course_dump/week08/day1_intro_to_bayesian_statistics/naive-bayes-spam-lab/datasets/easy_ham/1227.db607f1de371e44ebc4bbf08ab036241\n",
      "Searching ./course_dump/week08/day1_intro_to_bayesian_statistics/naive-bayes-spam-lab/datasets/easy_ham/2014.90d4717c17eb5d162dd7230a1576b4a5\n",
      "Searching ./course_dump/week08/day1_intro_to_bayesian_statistics/naive-bayes-spam-lab/datasets/easy_ham/2433.a058c43e5eb916e0c788dd9be2678fbb\n",
      "Searching ./course_dump/week08/day1_intro_to_bayesian_statistics/naive-bayes-spam-lab/datasets/easy_ham/0574.2059f95c47876cb8f6db440751b0cfc9\n"
     ]
    },
    {
     "name": "stdout",
     "output_type": "stream",
     "text": [
      "Searching ./course_dump/week08/day1_intro_to_bayesian_statistics/naive-bayes-spam-lab/datasets/easy_ham/1814.95d3ab2beeba9b96666d25c09de2143f\n",
      "Searching ./course_dump/week08/day1_intro_to_bayesian_statistics/naive-bayes-spam-lab/datasets/easy_ham/0932.13ae6a0c179018c3e955c626b48fd069\n",
      "Searching ./course_dump/week08/day1_intro_to_bayesian_statistics/naive-bayes-spam-lab/datasets/easy_ham/1962.2fde400b715a0609b9f2150026168da1\n",
      "Searching ./course_dump/week08/day1_intro_to_bayesian_statistics/naive-bayes-spam-lab/datasets/easy_ham/1711.eabd48daa0f2d3949b60908cd93fe9cd\n",
      "Searching ./course_dump/week08/day1_intro_to_bayesian_statistics/naive-bayes-spam-lab/datasets/easy_ham/1584.bb777200011a887b5e7cbc0de0f84d64\n",
      "Searching ./course_dump/week08/day1_intro_to_bayesian_statistics/naive-bayes-spam-lab/datasets/easy_ham/1924.d7349b933e38f743e65b39f648ecae1e\n",
      "Searching ./course_dump/week08/day1_intro_to_bayesian_statistics/naive-bayes-spam-lab/datasets/easy_ham/1047.816db4421a9757ddbb0acbe7baecd0b0\n",
      "Searching ./course_dump/week08/day1_intro_to_bayesian_statistics/naive-bayes-spam-lab/datasets/easy_ham/1672.2c743f29bd6260387b1022d586513d02\n",
      "Searching ./course_dump/week08/day1_intro_to_bayesian_statistics/naive-bayes-spam-lab/datasets/easy_ham/1199.5ec73158a8a2f5c74523d8eb88871653\n",
      "Searching ./course_dump/week08/day1_intro_to_bayesian_statistics/naive-bayes-spam-lab/datasets/easy_ham/0013.ff597adee000d073ae72200b0af00cd1\n",
      "Searching ./course_dump/week08/day1_intro_to_bayesian_statistics/naive-bayes-spam-lab/datasets/easy_ham/2003.cab84732937d71e57c872ab3c97893ac\n",
      "Searching ./course_dump/week08/day1_intro_to_bayesian_statistics/naive-bayes-spam-lab/datasets/easy_ham/1210.9cb04a991a1fa7e2c6bd49aa89fb9ca2\n",
      "Searching ./course_dump/week08/day1_intro_to_bayesian_statistics/naive-bayes-spam-lab/datasets/easy_ham/1939.f619d25a4c8a6f451c28382f0ad34373\n",
      "Searching ./course_dump/week08/day1_intro_to_bayesian_statistics/naive-bayes-spam-lab/datasets/easy_ham/2184.a85600551a54fe5470c755feb9062027\n",
      "Searching ./course_dump/week08/day1_intro_to_bayesian_statistics/naive-bayes-spam-lab/datasets/easy_ham/0705.1830e9bc42a6a72f3bb5806dd9e09e5c\n",
      "Searching ./course_dump/week08/day1_intro_to_bayesian_statistics/naive-bayes-spam-lab/datasets/easy_ham/1132.44b959af317d959f6a497675f9df6444\n",
      "Searching ./course_dump/week08/day1_intro_to_bayesian_statistics/naive-bayes-spam-lab/datasets/easy_ham/1890.ef9fda5365db0f817f62d6934b14ab77\n",
      "Searching ./course_dump/week08/day1_intro_to_bayesian_statistics/naive-bayes-spam-lab/datasets/easy_ham/1193.8805a7218e81db9893ee2b704d9ebeb1\n",
      "Searching ./course_dump/week08/day1_intro_to_bayesian_statistics/naive-bayes-spam-lab/datasets/easy_ham/0210.35f5f8aef973035bc4ec4ad13d717ebf\n",
      "Searching ./course_dump/week08/day1_intro_to_bayesian_statistics/naive-bayes-spam-lab/datasets/easy_ham/0180.5790a5f746fbfb83381a28a45889fd6d\n",
      "Searching ./course_dump/week08/day1_intro_to_bayesian_statistics/naive-bayes-spam-lab/datasets/easy_ham/1933.f9a004de32087d7b8c150135aff4f42d\n",
      "Searching ./course_dump/week08/day1_intro_to_bayesian_statistics/naive-bayes-spam-lab/datasets/easy_ham/0451.91577b6958781643d55de1d239570131\n",
      "Searching ./course_dump/week08/day1_intro_to_bayesian_statistics/naive-bayes-spam-lab/datasets/easy_ham/2064.a4f725da0d1875a96c4f76bf20d71283\n",
      "Searching ./course_dump/week08/day1_intro_to_bayesian_statistics/naive-bayes-spam-lab/datasets/easy_ham/2124.6a0ca069f77dd04c1cb2a24df9a3f59e\n",
      "Searching ./course_dump/week08/day1_intro_to_bayesian_statistics/naive-bayes-spam-lab/datasets/easy_ham/1394.3ed871ba71edd281c9dbf0d5db738842\n",
      "Searching ./course_dump/week08/day1_intro_to_bayesian_statistics/naive-bayes-spam-lab/datasets/easy_ham/0615.935b5a30e35ec46502a33a445443c124\n",
      "Searching ./course_dump/week08/day1_intro_to_bayesian_statistics/naive-bayes-spam-lab/datasets/easy_ham/2000.f5754a180fc6394657dc27921f88aaae\n",
      "Searching ./course_dump/week08/day1_intro_to_bayesian_statistics/naive-bayes-spam-lab/datasets/easy_ham/0592.217bf33fe765d8cf064a732d56a51ba3\n",
      "Searching ./course_dump/week08/day1_intro_to_bayesian_statistics/naive-bayes-spam-lab/datasets/easy_ham/2427.2e44be16705ea1d39a01befda3915eb7\n",
      "Searching ./course_dump/week08/day1_intro_to_bayesian_statistics/naive-bayes-spam-lab/datasets/easy_ham/1063.1efa0c16fac1c545a6cec35f06f38d2a\n",
      "Searching ./course_dump/week08/day1_intro_to_bayesian_statistics/naive-bayes-spam-lab/datasets/easy_ham/1188.1f6d5c1960b4d2d50e9745073559284e\n",
      "Searching ./course_dump/week08/day1_intro_to_bayesian_statistics/naive-bayes-spam-lab/datasets/easy_ham/0472.7754e8093e51b661160153403b2915c4\n",
      "Searching ./course_dump/week08/day1_intro_to_bayesian_statistics/naive-bayes-spam-lab/datasets/easy_ham/0336.d8d6d93ff9918e7a6b4b83a5bda3043e\n",
      "Searching ./course_dump/week08/day1_intro_to_bayesian_statistics/naive-bayes-spam-lab/datasets/easy_ham/2389.af658dd4bdf389ab5277f39579e0310a\n",
      "Searching ./course_dump/week08/day1_intro_to_bayesian_statistics/naive-bayes-spam-lab/datasets/easy_ham/1359.a4f9b2b4bbae9e1d2ab34ba5fec9eb35\n",
      "Searching ./course_dump/week08/day1_intro_to_bayesian_statistics/naive-bayes-spam-lab/datasets/easy_ham/0070.4f269f2d783b479971f31006fe17ce62\n",
      "Searching ./course_dump/week08/day1_intro_to_bayesian_statistics/naive-bayes-spam-lab/datasets/easy_ham/0720.9b70b163d69018e7aee73cf86459265d\n",
      "Searching ./course_dump/week08/day1_intro_to_bayesian_statistics/naive-bayes-spam-lab/datasets/easy_ham/1597.e85265a0da41a962b316d117548bb3ea\n",
      "Searching ./course_dump/week08/day1_intro_to_bayesian_statistics/naive-bayes-spam-lab/datasets/easy_ham/1209.8d537f01328f65ebd018e0e4e77ebc10\n",
      "Searching ./course_dump/week08/day1_intro_to_bayesian_statistics/naive-bayes-spam-lab/datasets/easy_ham/0528.bb4c2a959983406354ff8d5b8f499eb8\n",
      "Searching ./course_dump/week08/day1_intro_to_bayesian_statistics/naive-bayes-spam-lab/datasets/easy_ham/2474.e7fce1af310d8b7a2c87dfaeec71c172\n",
      "Searching ./course_dump/week08/day1_intro_to_bayesian_statistics/naive-bayes-spam-lab/datasets/easy_ham/0721.9798746ace52b039545cfcb5dd5df9fa\n",
      "Searching ./course_dump/week08/day1_intro_to_bayesian_statistics/naive-bayes-spam-lab/datasets/easy_ham/1223.6f20be4e92f37aaa7117c0a30a19207d\n",
      "Searching ./course_dump/week08/day1_intro_to_bayesian_statistics/naive-bayes-spam-lab/datasets/easy_ham/0640.95f677f7c53a182c30e068eaab74950e\n",
      "Searching ./course_dump/week08/day1_intro_to_bayesian_statistics/naive-bayes-spam-lab/datasets/easy_ham/0804.7c961dbb9d03dce55e6d4330a7de92c6\n",
      "Searching ./course_dump/week08/day1_intro_to_bayesian_statistics/naive-bayes-spam-lab/datasets/easy_ham/2039.8737172ff7a6577876bbdcd440a2d7f4\n",
      "Searching ./course_dump/week08/day1_intro_to_bayesian_statistics/naive-bayes-spam-lab/datasets/easy_ham/0734.7dc0b0b5f6fb1977f0a146a44c4750aa\n",
      "Searching ./course_dump/week08/day1_intro_to_bayesian_statistics/naive-bayes-spam-lab/datasets/easy_ham/2142.bfdc73e4caefdf633f73be997633533f\n",
      "Searching ./course_dump/week08/day1_intro_to_bayesian_statistics/naive-bayes-spam-lab/datasets/easy_ham/0628.731724cb11140a651d8ad58451ea5c79\n",
      "Searching ./course_dump/week08/day1_intro_to_bayesian_statistics/naive-bayes-spam-lab/datasets/easy_ham/2187.0759738c28fef69687d1a732f8860ac4\n",
      "Searching ./course_dump/week08/day1_intro_to_bayesian_statistics/naive-bayes-spam-lab/datasets/easy_ham/1968.f87084e6892b5184d7cb629bb2b382f0\n",
      "Searching ./course_dump/week08/day1_intro_to_bayesian_statistics/naive-bayes-spam-lab/datasets/easy_ham/1609.d3849c49c9377d824b5ab007f36e96f8\n",
      "Searching ./course_dump/week08/day1_intro_to_bayesian_statistics/naive-bayes-spam-lab/datasets/easy_ham/0148.565dd83aaebb66fe284de9342a6a5c09\n",
      "Searching ./course_dump/week08/day1_intro_to_bayesian_statistics/naive-bayes-spam-lab/datasets/easy_ham/2112.6e75ea06b30797027470e19c65ecd4d8\n",
      "Searching ./course_dump/week08/day1_intro_to_bayesian_statistics/naive-bayes-spam-lab/datasets/easy_ham/0597.658c7632c57e9f07a7bc28b58b97529e\n",
      "Searching ./course_dump/week08/day1_intro_to_bayesian_statistics/naive-bayes-spam-lab/datasets/easy_ham/2108.58ad8210efb0029659fbbc41d939b414\n",
      "Searching ./course_dump/week08/day1_intro_to_bayesian_statistics/naive-bayes-spam-lab/datasets/easy_ham/1561.b968a0929d29009dbb76603323c1862f\n",
      "Searching ./course_dump/week08/day1_intro_to_bayesian_statistics/naive-bayes-spam-lab/datasets/easy_ham/1664.e67aee25046de6fd0243b8c6fec81c5b\n"
     ]
    },
    {
     "name": "stdout",
     "output_type": "stream",
     "text": [
      "Searching ./course_dump/week08/day1_intro_to_bayesian_statistics/naive-bayes-spam-lab/datasets/easy_ham/2471.9bc6c0ad8e1151925d35ad52c6667d62\n",
      "Searching ./course_dump/week08/day1_intro_to_bayesian_statistics/naive-bayes-spam-lab/datasets/easy_ham/0487.dfff66b5d13f537cc4535d860d297c0c\n",
      "Searching ./course_dump/week08/day1_intro_to_bayesian_statistics/naive-bayes-spam-lab/datasets/easy_ham/1406.8be30026528bc5fabe63b16b834d426f\n",
      "Searching ./course_dump/week08/day1_intro_to_bayesian_statistics/naive-bayes-spam-lab/datasets/easy_ham/2294.2611a5cba9ad4cec5dc2a5c749c6238f\n",
      "Searching ./course_dump/week08/day1_intro_to_bayesian_statistics/naive-bayes-spam-lab/datasets/easy_ham/2195.ace9e44f336ea7ac2d1286ea79524058\n",
      "Searching ./course_dump/week08/day1_intro_to_bayesian_statistics/naive-bayes-spam-lab/datasets/easy_ham/1385.be576b43bd3da84b5752402ef0acf1d4\n",
      "Searching ./course_dump/week08/day1_intro_to_bayesian_statistics/naive-bayes-spam-lab/datasets/easy_ham/1740.cd9dec755fc9e6d819137b8e0111e031\n",
      "Searching ./course_dump/week08/day1_intro_to_bayesian_statistics/naive-bayes-spam-lab/datasets/easy_ham/1772.d4ebf95243e3b22d80ea63a1f2be06cc\n",
      "Searching ./course_dump/week08/day1_intro_to_bayesian_statistics/naive-bayes-spam-lab/datasets/easy_ham/2361.5af7754ab0b6fffb139ebc6e063f2b2f\n",
      "Searching ./course_dump/week08/day1_intro_to_bayesian_statistics/naive-bayes-spam-lab/datasets/easy_ham/0383.62511f9f1c1817dc6df14eb4912163c2\n",
      "Searching ./course_dump/week08/day1_intro_to_bayesian_statistics/naive-bayes-spam-lab/datasets/easy_ham/0111.e10679164e671fd9211c0303af7ee9f0\n",
      "Searching ./course_dump/week08/day1_intro_to_bayesian_statistics/naive-bayes-spam-lab/datasets/easy_ham/0882.1fc35ed593366d26e06112250d18678a\n",
      "Searching ./course_dump/week08/day1_intro_to_bayesian_statistics/naive-bayes-spam-lab/datasets/easy_ham/0655.62691c84d110fdfa26e8579cd00c1a68\n",
      "Searching ./course_dump/week08/day1_intro_to_bayesian_statistics/naive-bayes-spam-lab/datasets/easy_ham/1059.5b0713200efcabb71c7005b32e726a60\n",
      "Searching ./course_dump/week08/day1_intro_to_bayesian_statistics/naive-bayes-spam-lab/datasets/easy_ham/2230.c744cb0709d0a4d920d4fc5145a072a4\n",
      "Searching ./course_dump/week08/day1_intro_to_bayesian_statistics/naive-bayes-spam-lab/datasets/easy_ham/2544.1a95794a767c776e71893fda91f59efb\n",
      "Searching ./course_dump/week08/day1_intro_to_bayesian_statistics/naive-bayes-spam-lab/datasets/easy_ham/2419.104f029a2c2f3ddb0c756e7dd26501da\n",
      "Searching ./course_dump/week08/day1_intro_to_bayesian_statistics/naive-bayes-spam-lab/datasets/easy_ham/1451.64eda615fc56b4bbfdce6291a59c12f4\n",
      "Searching ./course_dump/week08/day1_intro_to_bayesian_statistics/naive-bayes-spam-lab/datasets/easy_ham/0657.277ad7f9191a5cb65e5e9f6c303de296\n",
      "Searching ./course_dump/week08/day1_intro_to_bayesian_statistics/naive-bayes-spam-lab/datasets/easy_ham/2008.104cbf95bca77edcf27dd90b2b74b1b8\n",
      "Searching ./course_dump/week08/day1_intro_to_bayesian_statistics/naive-bayes-spam-lab/datasets/easy_ham/1344.c12652263fc21b75dd4298a3d1bfcf53\n",
      "Searching ./course_dump/week08/day1_intro_to_bayesian_statistics/naive-bayes-spam-lab/datasets/easy_ham/2513.753d70e90eb4759d73d67ea6b9b12617\n",
      "Searching ./course_dump/week08/day1_intro_to_bayesian_statistics/naive-bayes-spam-lab/datasets/easy_ham/0767.da57f04c8030dce67142b9480e532b30\n",
      "Searching ./course_dump/week08/day1_intro_to_bayesian_statistics/naive-bayes-spam-lab/datasets/easy_ham/1469.792c1b929baaf14e1572437347925cc0\n",
      "Searching ./course_dump/week08/day1_intro_to_bayesian_statistics/naive-bayes-spam-lab/datasets/easy_ham/1455.6e48dfed80732a341f02ac33d5f93378\n",
      "Searching ./course_dump/week08/day1_intro_to_bayesian_statistics/naive-bayes-spam-lab/datasets/easy_ham/0065.b72ddcc517cc317f3fc1e79c3feeca15\n",
      "Searching ./course_dump/week08/day1_intro_to_bayesian_statistics/naive-bayes-spam-lab/datasets/easy_ham/1842.f57fcc3356b4c910af8ac2ce06d7301c\n",
      "Searching ./course_dump/week08/day1_intro_to_bayesian_statistics/naive-bayes-spam-lab/datasets/easy_ham/2424.ef94e4767df08bd382aea26ff29774bc\n",
      "Searching ./course_dump/week08/day1_intro_to_bayesian_statistics/naive-bayes-spam-lab/datasets/easy_ham/2259.4f15b8b9bb88d4e85e2a0ba552ca65ca\n",
      "Searching ./course_dump/week08/day1_intro_to_bayesian_statistics/naive-bayes-spam-lab/datasets/easy_ham/1159.b8870925b809f91e1940798973103a81\n",
      "Searching ./course_dump/week08/day1_intro_to_bayesian_statistics/naive-bayes-spam-lab/datasets/easy_ham/2238.419d4e0abe0cf364cd6d518c0ae5f3be\n",
      "Searching ./course_dump/week08/day1_intro_to_bayesian_statistics/naive-bayes-spam-lab/datasets/easy_ham/1278.d6395388e0e11e622c6c348603c4ef74\n",
      "Searching ./course_dump/week08/day1_intro_to_bayesian_statistics/naive-bayes-spam-lab/datasets/easy_ham/0571.d336e43297da0069689d70dec6ff7870\n",
      "Searching ./course_dump/week08/day1_intro_to_bayesian_statistics/naive-bayes-spam-lab/datasets/easy_ham/1549.929f73150d87a253b519a286d3dab77e\n",
      "Searching ./course_dump/week08/day1_intro_to_bayesian_statistics/naive-bayes-spam-lab/datasets/easy_ham/0200.f2cdb426806f3a924340a62789b6add9\n",
      "Searching ./course_dump/week08/day1_intro_to_bayesian_statistics/naive-bayes-spam-lab/datasets/easy_ham/2415.28f9ed10a01fb7ff5dbb400d3b2bb00a\n",
      "Searching ./course_dump/week08/day1_intro_to_bayesian_statistics/naive-bayes-spam-lab/datasets/easy_ham/1207.8c832e207c141f927b0810c9ae5ce857\n",
      "Searching ./course_dump/week08/day1_intro_to_bayesian_statistics/naive-bayes-spam-lab/datasets/easy_ham/1859.0e8cedd7ff0e281e2da6e6c40fd177a8\n",
      "Searching ./course_dump/week08/day1_intro_to_bayesian_statistics/naive-bayes-spam-lab/datasets/easy_ham/1268.0a4d5ea5ca61460fc95b01dff4224767\n",
      "Searching ./course_dump/week08/day1_intro_to_bayesian_statistics/naive-bayes-spam-lab/datasets/easy_ham/2529.c3856b9d7d098309eb71e3ed1993aa31\n",
      "Searching ./course_dump/week08/day1_intro_to_bayesian_statistics/naive-bayes-spam-lab/datasets/easy_ham/1547.5a820118fa0555c1c9735e3f2cde4b7f\n",
      "Searching ./course_dump/week08/day1_intro_to_bayesian_statistics/naive-bayes-spam-lab/datasets/easy_ham/0686.be9e16843bcf570a9e7e9549f770d3ac\n",
      "Searching ./course_dump/week08/day1_intro_to_bayesian_statistics/naive-bayes-spam-lab/datasets/easy_ham/0838.4f78deeabc13a2826a0d6c9c86236f48\n",
      "Searching ./course_dump/week08/day1_intro_to_bayesian_statistics/naive-bayes-spam-lab/datasets/easy_ham/0363.52461bc133cd3bf0b95a4e40ddb28a7e\n",
      "Searching ./course_dump/week08/day1_intro_to_bayesian_statistics/naive-bayes-spam-lab/datasets/easy_ham/1926.015beeecce2dc9c81309671f1f490f0b\n",
      "Searching ./course_dump/week08/day1_intro_to_bayesian_statistics/naive-bayes-spam-lab/datasets/easy_ham/2495.8adeb962ec89dedb809a2a314b8a9fef\n",
      "Searching ./course_dump/week08/day1_intro_to_bayesian_statistics/naive-bayes-spam-lab/datasets/easy_ham/0400.bc26e5bca8b09db7b496d47715baacad\n",
      "Searching ./course_dump/week08/day1_intro_to_bayesian_statistics/naive-bayes-spam-lab/datasets/easy_ham/1938.844c886b9cc04763e6c2c9a6c8b88c0d\n",
      "Searching ./course_dump/week08/day1_intro_to_bayesian_statistics/naive-bayes-spam-lab/datasets/easy_ham/1652.d6f822887fdfa0d184c6303d28b97acf\n",
      "Searching ./course_dump/week08/day1_intro_to_bayesian_statistics/naive-bayes-spam-lab/datasets/easy_ham/2531.8f40eb6fd94f9e48d56f6374ddc3427a\n",
      "Searching ./course_dump/week08/day1_intro_to_bayesian_statistics/naive-bayes-spam-lab/datasets/easy_ham/0959.2ff04e46681e4aa8f3be0f186d6a408e\n",
      "Searching ./course_dump/week08/day1_intro_to_bayesian_statistics/naive-bayes-spam-lab/datasets/easy_ham/0554.54333f9154d05593aa58b146b2c717c8\n",
      "Searching ./course_dump/week08/day1_intro_to_bayesian_statistics/naive-bayes-spam-lab/datasets/easy_ham/1282.e55809fc9341e2e88ac96b58a7129c82\n",
      "Searching ./course_dump/week08/day1_intro_to_bayesian_statistics/naive-bayes-spam-lab/datasets/easy_ham/2397.9491b18b38e40aa651c7ef9b6291222d\n",
      "Searching ./course_dump/week08/day1_intro_to_bayesian_statistics/naive-bayes-spam-lab/datasets/easy_ham/0749.63721d934e13093d300263cb31da380b\n",
      "Searching ./course_dump/week08/day1_intro_to_bayesian_statistics/naive-bayes-spam-lab/datasets/easy_ham/1261.edad140fb507fd35411ae458b009c39c\n",
      "Searching ./course_dump/week08/day1_intro_to_bayesian_statistics/naive-bayes-spam-lab/datasets/easy_ham/0961.06496acb4b3a9db5434d7c68ff5376e0\n",
      "Searching ./course_dump/week08/day1_intro_to_bayesian_statistics/naive-bayes-spam-lab/datasets/easy_ham/2186.9dc59321a95e53d5e0ebaf3524858913\n"
     ]
    },
    {
     "name": "stdout",
     "output_type": "stream",
     "text": [
      "Searching ./course_dump/week08/day1_intro_to_bayesian_statistics/naive-bayes-spam-lab/datasets/easy_ham/0827.33652ea92e79ab2149c188646b4ae0d4\n",
      "Searching ./course_dump/week08/day1_intro_to_bayesian_statistics/naive-bayes-spam-lab/datasets/easy_ham/1174.92cf3d9c75add5883005eae0732c5a85\n",
      "Searching ./course_dump/week08/day1_intro_to_bayesian_statistics/naive-bayes-spam-lab/datasets/easy_ham/1638.0ac4bcc3695f59f140556e976cf76443\n",
      "Searching ./course_dump/week08/day1_intro_to_bayesian_statistics/naive-bayes-spam-lab/datasets/easy_ham/2122.687e20ef89e6c2fb7f6a3ce98970de3e\n",
      "Searching ./course_dump/week08/day1_intro_to_bayesian_statistics/naive-bayes-spam-lab/datasets/easy_ham/2443.2378d372705c7f64f101b68e6d7a0b5a\n",
      "Searching ./course_dump/week08/day1_intro_to_bayesian_statistics/naive-bayes-spam-lab/datasets/easy_ham/1895.cb9fb06a3bc791664ca52cef59045bee\n",
      "Searching ./course_dump/week08/day1_intro_to_bayesian_statistics/naive-bayes-spam-lab/datasets/easy_ham/1266.52a2bf88987e97b6f4d5a743e353d50a\n",
      "Searching ./course_dump/week08/day1_intro_to_bayesian_statistics/naive-bayes-spam-lab/datasets/easy_ham/0498.5ab81a2472012da0dca18090925d6524\n",
      "Searching ./course_dump/week08/day1_intro_to_bayesian_statistics/naive-bayes-spam-lab/datasets/easy_ham/0842.5d790576a819e435b41abe9c0af61ec5\n",
      "Searching ./course_dump/week08/day1_intro_to_bayesian_statistics/naive-bayes-spam-lab/datasets/easy_ham/2331.9c7939928702d2df3e4a435030e24191\n",
      "Searching ./course_dump/week08/day1_intro_to_bayesian_statistics/naive-bayes-spam-lab/datasets/easy_ham/0733.782a236e90e0e7a55b3c67be6f7bef23\n",
      "Searching ./course_dump/week08/day1_intro_to_bayesian_statistics/naive-bayes-spam-lab/datasets/easy_ham/0314.105a762fc4c2f6b46bc40fdbd14e5754\n",
      "Searching ./course_dump/week08/day1_intro_to_bayesian_statistics/naive-bayes-spam-lab/datasets/easy_ham/1991.0deeba11c7b0fbfa76f73e385fe60956\n",
      "Searching ./course_dump/week08/day1_intro_to_bayesian_statistics/naive-bayes-spam-lab/datasets/easy_ham/1354.0cbd2821c28f742dfdcf33ffbfaeebac\n",
      "Searching ./course_dump/week08/day1_intro_to_bayesian_statistics/naive-bayes-spam-lab/datasets/easy_ham/1117.571c1399a9b49bf25062fcd2242d72f1\n",
      "Searching ./course_dump/week08/day1_intro_to_bayesian_statistics/naive-bayes-spam-lab/datasets/easy_ham/0835.21423890177aefe5eae8d27d8f18735d\n",
      "Searching ./course_dump/week08/day1_intro_to_bayesian_statistics/naive-bayes-spam-lab/datasets/easy_ham/0513.c04bc05369ac4583d82e9a6b6ffc3972\n",
      "Searching ./course_dump/week08/day1_intro_to_bayesian_statistics/naive-bayes-spam-lab/datasets/easy_ham/2229.ddcb88c6c7abcd2920def23ab4624e0e\n",
      "Searching ./course_dump/week08/day1_intro_to_bayesian_statistics/naive-bayes-spam-lab/datasets/easy_ham/1925.7a2a85df917680fae73bb7ea68c0027a\n",
      "Searching ./course_dump/week08/day1_intro_to_bayesian_statistics/naive-bayes-spam-lab/datasets/easy_ham/0283.469fc9946c6d920af042b022bd63a2f9\n",
      "Searching ./course_dump/week08/day1_intro_to_bayesian_statistics/naive-bayes-spam-lab/datasets/easy_ham/1691.dc18b18697ac2c2d7e5024eb8be84ecb\n",
      "Searching ./course_dump/week08/day1_intro_to_bayesian_statistics/naive-bayes-spam-lab/datasets/easy_ham/0904.281bae2420e1d4491270fb4ccfe7c4e6\n",
      "Searching ./course_dump/week08/day1_intro_to_bayesian_statistics/naive-bayes-spam-lab/datasets/easy_ham/2241.5343e51c03105bced01939170c94c51d\n",
      "Searching ./course_dump/week08/day1_intro_to_bayesian_statistics/naive-bayes-spam-lab/datasets/easy_ham/0090.314ec4268af7a3a1974d5eab84ea65af\n",
      "Searching ./course_dump/week08/day1_intro_to_bayesian_statistics/naive-bayes-spam-lab/datasets/easy_ham/0744.8148cbab42e9b5a4f31f22017b3eccc4\n",
      "Searching ./course_dump/week08/day1_intro_to_bayesian_statistics/naive-bayes-spam-lab/datasets/easy_ham/1137.3724caf191c2493a4754198cdbbd62c0\n",
      "Searching ./course_dump/week08/day1_intro_to_bayesian_statistics/naive-bayes-spam-lab/datasets/easy_ham/0496.397e015dabee7ac3c6e655ad9bf66052\n",
      "Searching ./course_dump/week08/day1_intro_to_bayesian_statistics/naive-bayes-spam-lab/datasets/easy_ham/1830.d6713b65baf275582be556a87a824dd4\n",
      "Searching ./course_dump/week08/day1_intro_to_bayesian_statistics/naive-bayes-spam-lab/datasets/easy_ham/1989.703a765c5ae445a62fc39596da8cb7c3\n",
      "Searching ./course_dump/week08/day1_intro_to_bayesian_statistics/naive-bayes-spam-lab/datasets/easy_ham/1942.ba8554a3a929a4c9a42c0a23bebffc82\n",
      "Searching ./course_dump/week08/day1_intro_to_bayesian_statistics/naive-bayes-spam-lab/datasets/easy_ham/1898.ef7d61da92cc8da0b91e45162d4ddaf1\n",
      "Searching ./course_dump/week08/day1_intro_to_bayesian_statistics/naive-bayes-spam-lab/datasets/easy_ham/1885.e0fe9e7b4cc8d708983598de04545ed5\n",
      "Searching ./course_dump/week08/day1_intro_to_bayesian_statistics/naive-bayes-spam-lab/datasets/easy_ham/0617.5b8410959a7bc173315e3d59d978ba2c\n",
      "Searching ./course_dump/week08/day1_intro_to_bayesian_statistics/naive-bayes-spam-lab/datasets/easy_ham/1598.d9a96d6e7aa7c5a7001cf43ec39f44f6\n",
      "Searching ./course_dump/week08/day1_intro_to_bayesian_statistics/naive-bayes-spam-lab/datasets/easy_ham/1571.5cc089d07e3c447b7be3a24b36fbd07a\n",
      "Searching ./course_dump/week08/day1_intro_to_bayesian_statistics/naive-bayes-spam-lab/datasets/easy_ham/0402.a511fb74deca95f59d4eff5daa45a9b8\n",
      "Searching ./course_dump/week08/day1_intro_to_bayesian_statistics/naive-bayes-spam-lab/datasets/easy_ham/0229.49528f1403038d8d080420b023aa8d4f\n",
      "Searching ./course_dump/week08/day1_intro_to_bayesian_statistics/naive-bayes-spam-lab/datasets/easy_ham/2504.9fc1898ab2a75d2d9e9810318bb4e90a\n",
      "Searching ./course_dump/week08/day1_intro_to_bayesian_statistics/naive-bayes-spam-lab/datasets/easy_ham/0854.6fc80acdb73b0ab60c3f316f646c0546\n",
      "Searching ./course_dump/week08/day1_intro_to_bayesian_statistics/naive-bayes-spam-lab/datasets/easy_ham/1857.8fbef0589564bb19c088156227772fb9\n",
      "Searching ./course_dump/week08/day1_intro_to_bayesian_statistics/naive-bayes-spam-lab/datasets/easy_ham/0590.163e32d267b894e61f0386e879cde23b\n",
      "Searching ./course_dump/week08/day1_intro_to_bayesian_statistics/naive-bayes-spam-lab/datasets/easy_ham/1135.55ab9518e8b987f67ed8b5b85e8543e8\n",
      "Searching ./course_dump/week08/day1_intro_to_bayesian_statistics/naive-bayes-spam-lab/datasets/easy_ham/2077.eba992ea7cedb65c1fddbf9ea01484f3\n",
      "Searching ./course_dump/week08/day1_intro_to_bayesian_statistics/naive-bayes-spam-lab/datasets/easy_ham/1144.105b5e507aa84b76d4b580be8b0bcd90\n",
      "Searching ./course_dump/week08/day1_intro_to_bayesian_statistics/naive-bayes-spam-lab/datasets/easy_ham/0165.60d0c03c63a588f58ca91b791610e43c\n",
      "Searching ./course_dump/week08/day1_intro_to_bayesian_statistics/naive-bayes-spam-lab/datasets/easy_ham/0603.4582f2bcf4795cdd8136e04313f0c0fc\n",
      "Searching ./course_dump/week08/day1_intro_to_bayesian_statistics/naive-bayes-spam-lab/datasets/easy_ham/2060.1eed50ed5c2474a737bf37d43d713ead\n",
      "Searching ./course_dump/week08/day1_intro_to_bayesian_statistics/naive-bayes-spam-lab/datasets/easy_ham/0938.f0908eafe6ec23a6f3067e2f19432fb2\n",
      "Searching ./course_dump/week08/day1_intro_to_bayesian_statistics/naive-bayes-spam-lab/datasets/easy_ham/2527.fad44667449822628022a95a7cf83ac0\n",
      "Searching ./course_dump/week08/day1_intro_to_bayesian_statistics/naive-bayes-spam-lab/datasets/easy_ham/1463.92f97ef2ccc550773ac1ca0fb3feac52\n",
      "Searching ./course_dump/week08/day1_intro_to_bayesian_statistics/naive-bayes-spam-lab/datasets/easy_ham/2085.989d3abd458840ebc7d859721a34c40a\n",
      "Searching ./course_dump/week08/day1_intro_to_bayesian_statistics/naive-bayes-spam-lab/datasets/easy_ham/1826.26284dbbc6f595fdc9c388008e5aa72c\n",
      "Searching ./course_dump/week08/day1_intro_to_bayesian_statistics/naive-bayes-spam-lab/datasets/easy_ham/2388.71932ed900ca758c39d3d0dce82d4e36\n",
      "Searching ./course_dump/week08/day1_intro_to_bayesian_statistics/naive-bayes-spam-lab/datasets/easy_ham/1121.51f7e5e557bde451a6b36e527211ed04\n",
      "Searching ./course_dump/week08/day1_intro_to_bayesian_statistics/naive-bayes-spam-lab/datasets/easy_ham/0016.d82758030e304d41fb3f4ebbb7d9dd91\n",
      "Searching ./course_dump/week08/day1_intro_to_bayesian_statistics/naive-bayes-spam-lab/datasets/easy_ham/0999.693cdb369d548fedfd9ad794b8b6b882\n",
      "Searching ./course_dump/week08/day1_intro_to_bayesian_statistics/naive-bayes-spam-lab/datasets/easy_ham/2301.12cd963ea74e881168b6bb865dedb892\n",
      "Searching ./course_dump/week08/day1_intro_to_bayesian_statistics/naive-bayes-spam-lab/datasets/easy_ham/0416.6071df16fc9f7c45f65163f5b10a16d2\n",
      "Searching ./course_dump/week08/day1_intro_to_bayesian_statistics/naive-bayes-spam-lab/datasets/easy_ham/1264.c8e0a9ae674a3b16ef93c8b41013d1ee\n",
      "Searching ./course_dump/week08/day1_intro_to_bayesian_statistics/naive-bayes-spam-lab/datasets/easy_ham/1233.f19ee9e6ffb986dd0dd2691401e237ae\n",
      "Searching ./course_dump/week08/day1_intro_to_bayesian_statistics/naive-bayes-spam-lab/datasets/easy_ham/0311.de3984f9da9dba841ba515681fa065a6\n"
     ]
    },
    {
     "name": "stdout",
     "output_type": "stream",
     "text": [
      "Searching ./course_dump/week08/day1_intro_to_bayesian_statistics/naive-bayes-spam-lab/datasets/easy_ham/0182.6a44fa290eebac4c52eb17292623b630\n",
      "Searching ./course_dump/week08/day1_intro_to_bayesian_statistics/naive-bayes-spam-lab/datasets/easy_ham/0729.70d1cec4f8f949fc7ef64fc3ed85f950\n",
      "Searching ./course_dump/week08/day1_intro_to_bayesian_statistics/naive-bayes-spam-lab/datasets/easy_ham/1560.7e2353b8cfa54eec7a467743eaed5afd\n",
      "Searching ./course_dump/week08/day1_intro_to_bayesian_statistics/naive-bayes-spam-lab/datasets/easy_ham/1008.87e9d3ab2ce099480e2704aaa5cbd493\n",
      "Searching ./course_dump/week08/day1_intro_to_bayesian_statistics/naive-bayes-spam-lab/datasets/easy_ham/2313.bb42a208d00004e3e915fbb9e098585d\n",
      "Searching ./course_dump/week08/day1_intro_to_bayesian_statistics/naive-bayes-spam-lab/datasets/easy_ham/2071.fe91cbaba0f2ad7c725d9614721e7ab6\n",
      "Searching ./course_dump/week08/day1_intro_to_bayesian_statistics/naive-bayes-spam-lab/datasets/easy_ham/0723.e326ddd50487b33418a053b67df5ab5d\n",
      "Searching ./course_dump/week08/day1_intro_to_bayesian_statistics/naive-bayes-spam-lab/datasets/easy_ham/1903.c07e63d841ecc3071e93d8ac71798661\n",
      "Searching ./course_dump/week08/day1_intro_to_bayesian_statistics/naive-bayes-spam-lab/datasets/easy_ham/1357.c307e11b21bba14e568cd03731de0119\n",
      "Searching ./course_dump/week08/day1_intro_to_bayesian_statistics/naive-bayes-spam-lab/datasets/easy_ham/0456.6902449f33fafc3cf77ec2d4e2a3851e\n",
      "Searching ./course_dump/week08/day1_intro_to_bayesian_statistics/naive-bayes-spam-lab/datasets/easy_ham/0330.5bb543263217abfd949c7c2060ab0a7e\n",
      "Searching ./course_dump/week08/day1_intro_to_bayesian_statistics/naive-bayes-spam-lab/datasets/easy_ham/2305.52534ae9c6df39a69aec3fe839d8d4a0\n",
      "Searching ./course_dump/week08/day1_intro_to_bayesian_statistics/naive-bayes-spam-lab/datasets/easy_ham/0629.8a0d84ac5694ddcc8474e5a1d55b53d3\n",
      "Searching ./course_dump/week08/day1_intro_to_bayesian_statistics/naive-bayes-spam-lab/datasets/easy_ham/2202.689fbd0ef569291fa197e1a31abfbb77\n",
      "Searching ./course_dump/week08/day1_intro_to_bayesian_statistics/naive-bayes-spam-lab/datasets/easy_ham/0739.88b6bb31404ad7f4802e4002d4e6ad66\n",
      "Searching ./course_dump/week08/day1_intro_to_bayesian_statistics/naive-bayes-spam-lab/datasets/easy_ham/2347.044af29d1e9948d73e546402899ed5ac\n",
      "Searching ./course_dump/week08/day1_intro_to_bayesian_statistics/naive-bayes-spam-lab/datasets/easy_ham/1395.923c820448824387b21877293d3d1462\n",
      "Searching ./course_dump/week08/day1_intro_to_bayesian_statistics/naive-bayes-spam-lab/datasets/easy_ham/1707.5c6277e057c0b3238b03d60de3109e8e\n",
      "Searching ./course_dump/week08/day1_intro_to_bayesian_statistics/naive-bayes-spam-lab/datasets/easy_ham/1155.08c63446a38f2603d099ae25aff92c55\n",
      "Searching ./course_dump/week08/day1_intro_to_bayesian_statistics/naive-bayes-spam-lab/datasets/easy_ham/1349.d05ca7b269c99915562d3e448f7b8afa\n",
      "Searching ./course_dump/week08/day1_intro_to_bayesian_statistics/naive-bayes-spam-lab/datasets/easy_ham/0003.acfc5ad94bbd27118a0d8685d18c89dd\n",
      "Searching ./course_dump/week08/day1_intro_to_bayesian_statistics/naive-bayes-spam-lab/datasets/easy_ham/1564.8631d760e58b96dbd506f4bbc0a020f0\n",
      "Searching ./course_dump/week08/day1_intro_to_bayesian_statistics/naive-bayes-spam-lab/datasets/easy_ham/0261.45da0560dfe8183b3433e2cf2f3a7835\n",
      "Searching ./course_dump/week08/day1_intro_to_bayesian_statistics/naive-bayes-spam-lab/datasets/easy_ham/0493.5517cd8d833b17156176a79149073a46\n",
      "Searching ./course_dump/week08/day1_intro_to_bayesian_statistics/naive-bayes-spam-lab/datasets/easy_ham/1622.91772e8eb2efcbfe9ee14aabaaa65a2e\n",
      "Searching ./course_dump/week08/day1_intro_to_bayesian_statistics/naive-bayes-spam-lab/datasets/easy_ham/0259.434a3208757e9738f7af6a004f42c5f1\n",
      "Searching ./course_dump/week08/day1_intro_to_bayesian_statistics/naive-bayes-spam-lab/datasets/easy_ham/0469.8b40f778677e8d001ca14bcc4268b41b\n",
      "Searching ./course_dump/week08/day1_intro_to_bayesian_statistics/naive-bayes-spam-lab/datasets/easy_ham/1639.9abec21910adc16386517d83c04cf051\n",
      "Searching ./course_dump/week08/day1_intro_to_bayesian_statistics/naive-bayes-spam-lab/datasets/easy_ham/0805.f275674c050884c5ad02c1b6fac94e30\n",
      "Searching ./course_dump/week08/day1_intro_to_bayesian_statistics/naive-bayes-spam-lab/datasets/easy_ham/0785.87d89ef541ee6678a7ec3e7009bebffb\n",
      "Searching ./course_dump/week08/day1_intro_to_bayesian_statistics/naive-bayes-spam-lab/datasets/easy_ham/1851.69dcabe5a5fe6ffc5e20522e4c5477e4\n",
      "Searching ./course_dump/week08/day1_intro_to_bayesian_statistics/naive-bayes-spam-lab/datasets/easy_ham/1978.9e384f828b5c1d538c7758ffda11e3a1\n",
      "Searching ./course_dump/week08/day1_intro_to_bayesian_statistics/naive-bayes-spam-lab/datasets/easy_ham/1471.2aa0881a829097828a279ffd6ff20ed3\n",
      "Searching ./course_dump/week08/day1_intro_to_bayesian_statistics/naive-bayes-spam-lab/datasets/easy_ham/2444.825099d851d45e7c2b34e197d6812323\n",
      "Searching ./course_dump/week08/day1_intro_to_bayesian_statistics/naive-bayes-spam-lab/datasets/easy_ham/1068.3a4e8387265236bd326736c63dfa1ce0\n",
      "Searching ./course_dump/week08/day1_intro_to_bayesian_statistics/naive-bayes-spam-lab/datasets/easy_ham/0947.9c6bd8643ae9c4b42fb7292840103704\n",
      "Searching ./course_dump/week08/day1_intro_to_bayesian_statistics/naive-bayes-spam-lab/datasets/easy_ham/0066.dcf72ba90be7570f2f7edab45b23ae36\n",
      "Searching ./course_dump/week08/day1_intro_to_bayesian_statistics/naive-bayes-spam-lab/datasets/easy_ham/2379.a6b19b663f5329208f357b7851c197b8\n",
      "Searching ./course_dump/week08/day1_intro_to_bayesian_statistics/naive-bayes-spam-lab/datasets/easy_ham/1655.7a0d7700a207ef6f66686f94b02c7a8f\n",
      "Searching ./course_dump/week08/day1_intro_to_bayesian_statistics/naive-bayes-spam-lab/datasets/easy_ham/0387.38b98a83546245da45d8aeb3ff4b1098\n",
      "Searching ./course_dump/week08/day1_intro_to_bayesian_statistics/naive-bayes-spam-lab/datasets/easy_ham/2130.195623b2a5a8f7c796ed92d031471e22\n",
      "Searching ./course_dump/week08/day1_intro_to_bayesian_statistics/naive-bayes-spam-lab/datasets/easy_ham/0012.d354b2d2f24d1036caf1374dd94f4c94\n",
      "Searching ./course_dump/week08/day1_intro_to_bayesian_statistics/naive-bayes-spam-lab/datasets/easy_ham/1853.73b4d9ab83de83ae58707c8bdcda0fc5\n",
      "Searching ./course_dump/week08/day1_intro_to_bayesian_statistics/naive-bayes-spam-lab/datasets/easy_ham/2023.c2d30553247c5cb1e90f72d3333cae8b\n",
      "Searching ./course_dump/week08/day1_intro_to_bayesian_statistics/naive-bayes-spam-lab/datasets/easy_ham/0228.b83f2f4ef114c69d9ca927d1082b393f\n",
      "Searching ./course_dump/week08/day1_intro_to_bayesian_statistics/naive-bayes-spam-lab/datasets/easy_ham/0062.b675bdb7b9e2321dfe97e48037fe7782\n",
      "Searching ./course_dump/week08/day1_intro_to_bayesian_statistics/naive-bayes-spam-lab/datasets/easy_ham/1319.58000a90a0ce3ea98762d31df028af02\n",
      "Searching ./course_dump/week08/day1_intro_to_bayesian_statistics/naive-bayes-spam-lab/datasets/easy_ham/0125.1ada59664dfcb7a5a31e9820f9604fea\n",
      "Searching ./course_dump/week08/day1_intro_to_bayesian_statistics/naive-bayes-spam-lab/datasets/easy_ham/2180.88d59369ba5887b4261ed9ab2d7df389\n",
      "Searching ./course_dump/week08/day1_intro_to_bayesian_statistics/naive-bayes-spam-lab/datasets/easy_ham/1738.7ee140ca2744c34a2ed33de3ceecb016\n",
      "Searching ./course_dump/week08/day1_intro_to_bayesian_statistics/naive-bayes-spam-lab/datasets/easy_ham/1579.2b2d92136109e10122b2af311a414783\n",
      "Searching ./course_dump/week08/day1_intro_to_bayesian_statistics/naive-bayes-spam-lab/datasets/easy_ham/0129.00f1783f1c15a77f1c5ec212f5bcf1d1\n",
      "Searching ./course_dump/week08/day1_intro_to_bayesian_statistics/naive-bayes-spam-lab/datasets/easy_ham/1215.9f79476eec512247f66e7fd9ef3b41c8\n",
      "Searching ./course_dump/week08/day1_intro_to_bayesian_statistics/naive-bayes-spam-lab/datasets/easy_ham/2318.150e3ecc4f38db3099d332e2f364a571\n",
      "Searching ./course_dump/week08/day1_intro_to_bayesian_statistics/naive-bayes-spam-lab/datasets/easy_ham/1915.893a0df57d80ba1af2d3af1c591ea66b\n",
      "Searching ./course_dump/week08/day1_intro_to_bayesian_statistics/naive-bayes-spam-lab/datasets/easy_ham/1192.1d7f09a0119d74789f1918f9c02beb45\n",
      "Searching ./course_dump/week08/day1_intro_to_bayesian_statistics/naive-bayes-spam-lab/datasets/easy_ham/1042.5089423fc172a53a687d43ad6b432caf\n",
      "Searching ./course_dump/week08/day1_intro_to_bayesian_statistics/naive-bayes-spam-lab/datasets/easy_ham/0663.202ef7d7fb966db47f818a7b09b89b0e\n",
      "Searching ./course_dump/week08/day1_intro_to_bayesian_statistics/naive-bayes-spam-lab/datasets/easy_ham/2068.2f532eee36ce04932cb6293ae3ec41d6\n",
      "Searching ./course_dump/week08/day1_intro_to_bayesian_statistics/naive-bayes-spam-lab/datasets/easy_ham/1028.a139c4ec44f9dd8286a8333d934ced4e\n",
      "Searching ./course_dump/week08/day1_intro_to_bayesian_statistics/naive-bayes-spam-lab/datasets/easy_ham/2015.b96ad514add8b5a601830d8c9d776cde\n",
      "Searching ./course_dump/week08/day1_intro_to_bayesian_statistics/naive-bayes-spam-lab/datasets/easy_ham/0976.3da1d276c9603bdf777d80e0e74ec148\n"
     ]
    },
    {
     "name": "stdout",
     "output_type": "stream",
     "text": [
      "Searching ./course_dump/week08/day1_intro_to_bayesian_statistics/naive-bayes-spam-lab/datasets/easy_ham/2043.17d3228812a027a1ffd1c5170b184178\n",
      "Searching ./course_dump/week08/day1_intro_to_bayesian_statistics/naive-bayes-spam-lab/datasets/easy_ham/0952.6f0f3423c7dc865f508bb35e2cc1bf8d\n",
      "Searching ./course_dump/week08/day1_intro_to_bayesian_statistics/naive-bayes-spam-lab/datasets/easy_ham/0971.0442a60e9294a07934b67f751cb1177e\n",
      "Searching ./course_dump/week08/day1_intro_to_bayesian_statistics/naive-bayes-spam-lab/datasets/easy_ham/0516.3b4b9b147de3e2b7ee1ca08792a9d948\n",
      "Searching ./course_dump/week08/day1_intro_to_bayesian_statistics/naive-bayes-spam-lab/datasets/easy_ham/2392.e264d42be089df7d12fae209d04595f9\n",
      "Searching ./course_dump/week08/day1_intro_to_bayesian_statistics/naive-bayes-spam-lab/datasets/easy_ham/1432.0b1b8088c9a4e04cff33f6919f340402\n",
      "Searching ./course_dump/week08/day1_intro_to_bayesian_statistics/naive-bayes-spam-lab/datasets/easy_ham/0885.edd07a1946446122321ba10a01eda39a\n",
      "Searching ./course_dump/week08/day1_intro_to_bayesian_statistics/naive-bayes-spam-lab/datasets/easy_ham/1242.570c92b17b81753d832ac94dbd8f4b4e\n",
      "Searching ./course_dump/week08/day1_intro_to_bayesian_statistics/naive-bayes-spam-lab/datasets/easy_ham/0248.a7515095844cf4106ed86f1348b8c85d\n",
      "Searching ./course_dump/week08/day1_intro_to_bayesian_statistics/naive-bayes-spam-lab/datasets/easy_ham/1439.6ed10d0d0a15ece643b718880874a713\n",
      "Searching ./course_dump/week08/day1_intro_to_bayesian_statistics/naive-bayes-spam-lab/datasets/easy_ham/1280.542b6637621390bff1378f93bbbc8f6b\n",
      "Searching ./course_dump/week08/day1_intro_to_bayesian_statistics/naive-bayes-spam-lab/datasets/easy_ham/2007.52f6b2592f14ac82581df53aac6bfe68\n",
      "Searching ./course_dump/week08/day1_intro_to_bayesian_statistics/naive-bayes-spam-lab/datasets/easy_ham/2253.253c06a52eec701a5f77c89f712f0ca7\n",
      "Searching ./course_dump/week08/day1_intro_to_bayesian_statistics/naive-bayes-spam-lab/datasets/easy_ham/0555.1c625d1145e0bce09ed40f363b26ac73\n",
      "Searching ./course_dump/week08/day1_intro_to_bayesian_statistics/naive-bayes-spam-lab/datasets/easy_ham/0955.aeb04c1ac6bb728a6561da1da8b73995\n",
      "Searching ./course_dump/week08/day1_intro_to_bayesian_statistics/naive-bayes-spam-lab/datasets/easy_ham/0576.f32636c8fb4d4f4fde3c891f9fdee39c\n",
      "Searching ./course_dump/week08/day1_intro_to_bayesian_statistics/naive-bayes-spam-lab/datasets/easy_ham/0874.f17f5355a2abf8cb83fb09069c9460bc\n",
      "Searching ./course_dump/week08/day1_intro_to_bayesian_statistics/naive-bayes-spam-lab/datasets/easy_ham/2248.5b6cc51b48ed4726a95d1c4d65a30a43\n",
      "Searching ./course_dump/week08/day1_intro_to_bayesian_statistics/naive-bayes-spam-lab/datasets/easy_ham/2545.6ddb98905ca38f1dc76e5266427c0574\n",
      "Searching ./course_dump/week08/day1_intro_to_bayesian_statistics/naive-bayes-spam-lab/datasets/easy_ham/1606.3dc1298108c79723735fefb01991f22d\n",
      "Searching ./course_dump/week08/day1_intro_to_bayesian_statistics/naive-bayes-spam-lab/datasets/easy_ham/1448.deb1e7a1f52da85e25ff1462d4f87089\n",
      "Searching ./course_dump/week08/day1_intro_to_bayesian_statistics/naive-bayes-spam-lab/datasets/easy_ham/0046.05e8a863eaf20f90374d0a15427d9a16\n",
      "Searching ./course_dump/week08/day1_intro_to_bayesian_statistics/naive-bayes-spam-lab/datasets/easy_ham/0814.1d2d3dedc0e3e216225f4af0e9323fb5\n",
      "Searching ./course_dump/week08/day1_intro_to_bayesian_statistics/naive-bayes-spam-lab/datasets/easy_ham/1386.bf3a96041aeac7950ee23a553e1fd186\n",
      "Searching ./course_dump/week08/day1_intro_to_bayesian_statistics/naive-bayes-spam-lab/datasets/easy_ham/2497.0cbb23e8858a0e33bcf2cf6fe158deb3\n",
      "Searching ./course_dump/week08/day1_intro_to_bayesian_statistics/naive-bayes-spam-lab/datasets/easy_ham/2503.43a0b463302d0c595b9829dda18245fc\n",
      "Searching ./course_dump/week08/day1_intro_to_bayesian_statistics/naive-bayes-spam-lab/datasets/easy_ham/1660.f4b2e5b394c3aaf2589c49c205ca05d7\n",
      "Searching ./course_dump/week08/day1_intro_to_bayesian_statistics/naive-bayes-spam-lab/datasets/easy_ham/1974.add969b0f792d9e31605097f8c1beaf6\n",
      "Searching ./course_dump/week08/day1_intro_to_bayesian_statistics/naive-bayes-spam-lab/datasets/easy_ham/1181.e94c4c98963c99b42be08be341418d57\n",
      "Searching ./course_dump/week08/day1_intro_to_bayesian_statistics/naive-bayes-spam-lab/datasets/easy_ham/0793.d39943e77b6404bf634356296c94f409\n",
      "Searching ./course_dump/week08/day1_intro_to_bayesian_statistics/naive-bayes-spam-lab/datasets/easy_ham/0968.0be9064c59a1e2ff57a88a6254fc5c27\n",
      "Searching ./course_dump/week08/day1_intro_to_bayesian_statistics/naive-bayes-spam-lab/datasets/easy_ham/1835.6c654f95a549a4f09daff21def44f511\n",
      "Searching ./course_dump/week08/day1_intro_to_bayesian_statistics/naive-bayes-spam-lab/datasets/easy_ham/1793.c20b0ff2930d9b36d7aa70e54939d12c\n",
      "Searching ./course_dump/week08/day1_intro_to_bayesian_statistics/naive-bayes-spam-lab/datasets/easy_ham/2518.9c2a50b66e91110fae3c27851e9ec1dd\n",
      "Searching ./course_dump/week08/day1_intro_to_bayesian_statistics/naive-bayes-spam-lab/datasets/easy_ham/1001.6d9880fcc649355d3c7faebf01c61d42\n",
      "Searching ./course_dump/week08/day1_intro_to_bayesian_statistics/naive-bayes-spam-lab/datasets/easy_ham/1229.e662c283c2f313d577e186c1712b52df\n",
      "Searching ./course_dump/week08/day1_intro_to_bayesian_statistics/naive-bayes-spam-lab/datasets/easy_ham/1603.c0963552df600d961b960f710d6ffaa7\n",
      "Searching ./course_dump/week08/day1_intro_to_bayesian_statistics/naive-bayes-spam-lab/datasets/easy_ham/1953.cd45102de667a9e4d0374f45875c91a5\n",
      "Searching ./course_dump/week08/day1_intro_to_bayesian_statistics/naive-bayes-spam-lab/datasets/easy_ham/1031.cfbae64b0894abd4ef88ddbf253fa704\n",
      "Searching ./course_dump/week08/day1_intro_to_bayesian_statistics/naive-bayes-spam-lab/datasets/easy_ham/0205.84f75723dcf7639ed057a32283048bdf\n",
      "Searching ./course_dump/week08/day1_intro_to_bayesian_statistics/naive-bayes-spam-lab/datasets/easy_ham/1727.42ebaf7a8a31234ef70a9066b1579592\n",
      "Searching ./course_dump/week08/day1_intro_to_bayesian_statistics/naive-bayes-spam-lab/datasets/easy_ham/1360.18758d232e8b6937d5d62ce0e0aa2d8e\n",
      "Searching ./course_dump/week08/day1_intro_to_bayesian_statistics/naive-bayes-spam-lab/datasets/easy_ham/1324.23790be4ea2123dffefeb4a363035788\n",
      "Searching ./course_dump/week08/day1_intro_to_bayesian_statistics/naive-bayes-spam-lab/datasets/easy_ham/1066.45693bec27d1b4b1651e236bd4366cdc\n",
      "Searching ./course_dump/week08/day1_intro_to_bayesian_statistics/naive-bayes-spam-lab/datasets/easy_ham/0777.5c0e911c29651cdea8729a23d3d5b203\n",
      "Searching ./course_dump/week08/day1_intro_to_bayesian_statistics/naive-bayes-spam-lab/datasets/easy_ham/2372.8c8060e5f9bff3051ad59484d4145ea6\n",
      "Searching ./course_dump/week08/day1_intro_to_bayesian_statistics/naive-bayes-spam-lab/datasets/easy_ham/1861.ace2433031b3ea150e728b34850cdceb\n",
      "Searching ./course_dump/week08/day1_intro_to_bayesian_statistics/naive-bayes-spam-lab/datasets/easy_ham/1980.09dbdd823733ac23a4adf89d4fc03a95\n",
      "Searching ./course_dump/week08/day1_intro_to_bayesian_statistics/naive-bayes-spam-lab/datasets/easy_ham/0438.2c8e5278416ba90daef0c4874b5f00bb\n",
      "Searching ./course_dump/week08/day1_intro_to_bayesian_statistics/naive-bayes-spam-lab/datasets/easy_ham/0089.8b3fea141f5b2f2e5b66a9f12148b7d0\n",
      "Searching ./course_dump/week08/day1_intro_to_bayesian_statistics/naive-bayes-spam-lab/datasets/easy_ham/0840.fa01ffae1e9fef46ad0044b265fc6667\n",
      "Searching ./course_dump/week08/day1_intro_to_bayesian_statistics/naive-bayes-spam-lab/datasets/easy_ham/1218.190735ca00def4ad757ea5786115f832\n",
      "Searching ./course_dump/week08/day1_intro_to_bayesian_statistics/naive-bayes-spam-lab/datasets/easy_ham/0829.8d4c26619530e36bfb855f5afb08876c\n",
      "Searching ./course_dump/week08/day1_intro_to_bayesian_statistics/naive-bayes-spam-lab/datasets/easy_ham/1531.fe3474ea8fb4195ac74e644161f47c76\n",
      "Searching ./course_dump/week08/day1_intro_to_bayesian_statistics/naive-bayes-spam-lab/datasets/easy_ham/2355.00eb81a74e130b74f5252af1cd45897a\n",
      "Searching ./course_dump/week08/day1_intro_to_bayesian_statistics/naive-bayes-spam-lab/datasets/easy_ham/0518.def6dfc3c2204dda12270b0ca97f0fc5\n",
      "Searching ./course_dump/week08/day1_intro_to_bayesian_statistics/naive-bayes-spam-lab/datasets/easy_ham/2378.afc0668317b786ef363f8a166455e91a\n",
      "Searching ./course_dump/week08/day1_intro_to_bayesian_statistics/naive-bayes-spam-lab/datasets/easy_ham/1421.de48021cb7ef96adfb4ead44c1f0f37e\n",
      "Searching ./course_dump/week08/day1_intro_to_bayesian_statistics/naive-bayes-spam-lab/datasets/easy_ham/1565.f6d00c2ee66b5687a153affd23870524\n",
      "Searching ./course_dump/week08/day1_intro_to_bayesian_statistics/naive-bayes-spam-lab/datasets/easy_ham/1346.e172cd7f334b27ed0aeb288ca6436f7d\n",
      "Searching ./course_dump/week08/day1_intro_to_bayesian_statistics/naive-bayes-spam-lab/datasets/easy_ham/2065.9f67df3ea0e08df6d36c0b6f927bcdcb\n",
      "Searching ./course_dump/week08/day1_intro_to_bayesian_statistics/naive-bayes-spam-lab/datasets/easy_ham/0221.32f8ba14e3285ddafb44327f88a70aa5\n",
      "Searching ./course_dump/week08/day1_intro_to_bayesian_statistics/naive-bayes-spam-lab/datasets/easy_ham/0272.c3e06e3aa72f63dee68faaed6fbaaa1a\n",
      "Searching ./course_dump/week08/day1_intro_to_bayesian_statistics/naive-bayes-spam-lab/datasets/easy_ham/0353.f4c84bdca20621cd5aa9bf8d6210e0b4\n",
      "Searching ./course_dump/week08/day1_intro_to_bayesian_statistics/naive-bayes-spam-lab/datasets/easy_ham/1979.3e2071d1c381de05d3395a56623f39d7\n",
      "Searching ./course_dump/week08/day1_intro_to_bayesian_statistics/naive-bayes-spam-lab/datasets/easy_ham/0727.a398f36f56d924dc775138b61dffbfb2\n"
     ]
    },
    {
     "name": "stdout",
     "output_type": "stream",
     "text": [
      "Searching ./course_dump/week08/day1_intro_to_bayesian_statistics/naive-bayes-spam-lab/datasets/easy_ham/2275.4f027f6ea3b77c8691bc80bd28d14159\n",
      "Searching ./course_dump/week08/day1_intro_to_bayesian_statistics/naive-bayes-spam-lab/datasets/easy_ham/1269.7820a9dc465e4d9eb8b2184d98fb9b3b\n",
      "Searching ./course_dump/week08/day1_intro_to_bayesian_statistics/naive-bayes-spam-lab/datasets/easy_ham/0055.b5509ace7ed62c900779c0c51cca92a3\n",
      "Searching ./course_dump/week08/day1_intro_to_bayesian_statistics/naive-bayes-spam-lab/datasets/easy_ham/0631.6a6516bb19c38ae705d06f9518231f49\n",
      "Searching ./course_dump/week08/day1_intro_to_bayesian_statistics/naive-bayes-spam-lab/datasets/easy_ham/1697.d4f2eb98768cbc4c3600f6ca68e7ef03\n",
      "Searching ./course_dump/week08/day1_intro_to_bayesian_statistics/naive-bayes-spam-lab/datasets/easy_ham/2303.3e767f2ef515f1e64c67026c5502a57e\n",
      "Searching ./course_dump/week08/day1_intro_to_bayesian_statistics/naive-bayes-spam-lab/datasets/easy_ham/0347.0e43f8ba3aadeed419f512188e5d8aa4\n",
      "Searching ./course_dump/week08/day1_intro_to_bayesian_statistics/naive-bayes-spam-lab/datasets/easy_ham/0855.5b51f55bb80a0889f3d7071b99f8cdef\n",
      "Searching ./course_dump/week08/day1_intro_to_bayesian_statistics/naive-bayes-spam-lab/datasets/easy_ham/0447.a195d9d55e47f858ccf5755550258b40\n",
      "Searching ./course_dump/week08/day1_intro_to_bayesian_statistics/naive-bayes-spam-lab/datasets/easy_ham/2107.ae8483d56d7013224420396c93b674d1\n",
      "Searching ./course_dump/week08/day1_intro_to_bayesian_statistics/naive-bayes-spam-lab/datasets/easy_ham/0019.a8a1b2767e83b3be653e4af0148e1897\n",
      "Searching ./course_dump/week08/day1_intro_to_bayesian_statistics/naive-bayes-spam-lab/datasets/easy_ham/1405.d33d54d33d52ebf10870baeb7a03999c\n",
      "Searching ./course_dump/week08/day1_intro_to_bayesian_statistics/naive-bayes-spam-lab/datasets/easy_ham/1138.f044795ad01dc8592e1571539f800719\n",
      "Searching ./course_dump/week08/day1_intro_to_bayesian_statistics/naive-bayes-spam-lab/datasets/easy_ham/0168.91cce4c84906ce507bd5e6362dd345c4\n",
      "Searching ./course_dump/week08/day1_intro_to_bayesian_statistics/naive-bayes-spam-lab/datasets/easy_ham/1203.cce79b97ab6e3ebbd6861b40ea6df234\n",
      "Searching ./course_dump/week08/day1_intro_to_bayesian_statistics/naive-bayes-spam-lab/datasets/easy_ham/2413.da7ee8c166b4ad01e4fca703f80bab01\n",
      "Searching ./course_dump/week08/day1_intro_to_bayesian_statistics/naive-bayes-spam-lab/datasets/easy_ham/0824.87d1cb4a849c742b78ef5f51aff82935\n",
      "Searching ./course_dump/week08/day1_intro_to_bayesian_statistics/naive-bayes-spam-lab/datasets/easy_ham/1879.cf7e58d9357d945a1d7381703b70d91a\n",
      "Searching ./course_dump/week08/day1_intro_to_bayesian_statistics/naive-bayes-spam-lab/datasets/easy_ham/1950.6efb69934715d6e12d3ce0cb4e8e4782\n",
      "Searching ./course_dump/week08/day1_intro_to_bayesian_statistics/naive-bayes-spam-lab/datasets/easy_ham/0573.afc1bc63378e7961549e4bf789461719\n",
      "Searching ./course_dump/week08/day1_intro_to_bayesian_statistics/naive-bayes-spam-lab/datasets/easy_ham/2246.b66caa903ee41f0f8d81281f1ab1bd8e\n",
      "Searching ./course_dump/week08/day1_intro_to_bayesian_statistics/naive-bayes-spam-lab/datasets/easy_ham/0656.dd2af7ab5d99adf717056893adb12a20\n",
      "Searching ./course_dump/week08/day1_intro_to_bayesian_statistics/naive-bayes-spam-lab/datasets/easy_ham/2439.c8c3aa25791710ac30aaaa49cb276f12\n",
      "Searching ./course_dump/week08/day1_intro_to_bayesian_statistics/naive-bayes-spam-lab/datasets/easy_ham/1273.eb9f0b877dc669691c45314b5b6ff605\n",
      "Searching ./course_dump/week08/day1_intro_to_bayesian_statistics/naive-bayes-spam-lab/datasets/easy_ham/0457.dc1691cbb334cc33a1f1eb3060b8e02e\n",
      "Searching ./course_dump/week08/day1_intro_to_bayesian_statistics/naive-bayes-spam-lab/datasets/easy_ham/2357.dcb44bf1756c182b251234780db37eb7\n",
      "Searching ./course_dump/week08/day1_intro_to_bayesian_statistics/naive-bayes-spam-lab/datasets/easy_ham/1454.88f9d20d76cccc7f1bde4e4d0794b69d\n",
      "Searching ./course_dump/week08/day1_intro_to_bayesian_statistics/naive-bayes-spam-lab/datasets/easy_ham/2081.25b324be67de8e843c9e090654758cf7\n",
      "Searching ./course_dump/week08/day1_intro_to_bayesian_statistics/naive-bayes-spam-lab/datasets/easy_ham/0216.d46ac2cc3fa5d42e1a9b7d8b4339f789\n",
      "Searching ./course_dump/week08/day1_intro_to_bayesian_statistics/naive-bayes-spam-lab/datasets/easy_ham/1424.99bed488956252e02c4ec7ff578c42d5\n",
      "Searching ./course_dump/week08/day1_intro_to_bayesian_statistics/naive-bayes-spam-lab/datasets/easy_ham/0584.f667c1b60fb4a592ef72138de5ec4c00\n",
      "Searching ./course_dump/week08/day1_intro_to_bayesian_statistics/naive-bayes-spam-lab/datasets/easy_ham/1574.b1f0d9b40506000be4910e25a7c3ac3c\n",
      "Searching ./course_dump/week08/day1_intro_to_bayesian_statistics/naive-bayes-spam-lab/datasets/easy_ham/2093.0be5ef6832d49a69e18b527d837607e6\n",
      "Searching ./course_dump/week08/day1_intro_to_bayesian_statistics/naive-bayes-spam-lab/datasets/easy_ham/1512.97da4f8a986b55cbe1f81bb22836ac58\n",
      "Searching ./course_dump/week08/day1_intro_to_bayesian_statistics/naive-bayes-spam-lab/datasets/easy_ham/0635.9df0cec793507fcd3cab877c7d7616be\n",
      "Searching ./course_dump/week08/day1_intro_to_bayesian_statistics/naive-bayes-spam-lab/datasets/easy_ham/0035.50b257408356cfcfce8cf2afe9fd7959\n",
      "Searching ./course_dump/week08/day1_intro_to_bayesian_statistics/naive-bayes-spam-lab/datasets/easy_ham/1507.381db954fc6fe8df9646172b53db92ad\n",
      "Searching ./course_dump/week08/day1_intro_to_bayesian_statistics/naive-bayes-spam-lab/datasets/easy_ham/0525.e70ff5bbd69f7400b460ebe5ed77398f\n",
      "Searching ./course_dump/week08/day1_intro_to_bayesian_statistics/naive-bayes-spam-lab/datasets/easy_ham/1378.12eda7069e9d8a08ba37f0e4679f23ea\n",
      "Searching ./course_dump/week08/day1_intro_to_bayesian_statistics/naive-bayes-spam-lab/datasets/easy_ham/1326.5f4584fd2f3f2d4a4b0989b7d5c7963f\n",
      "Searching ./course_dump/week08/day1_intro_to_bayesian_statistics/naive-bayes-spam-lab/datasets/easy_ham/2398.28b39e53d2a685ead6f2045f6d7b121c\n",
      "Searching ./course_dump/week08/day1_intro_to_bayesian_statistics/naive-bayes-spam-lab/datasets/easy_ham/0684.f0f0e8e9d0c203b93278c58447e3ce88\n",
      "Searching ./course_dump/week08/day1_intro_to_bayesian_statistics/naive-bayes-spam-lab/datasets/easy_ham/1412.ef6317e6ede59d84a07d10de6891ac37\n",
      "Searching ./course_dump/week08/day1_intro_to_bayesian_statistics/naive-bayes-spam-lab/datasets/easy_ham/0499.48dbec905e8b9da9434b9802132576c1\n",
      "Searching ./course_dump/week08/day1_intro_to_bayesian_statistics/naive-bayes-spam-lab/datasets/easy_ham/1534.9422e1b77d4239d246fc1d8a79d62d07\n",
      "Searching ./course_dump/week08/day1_intro_to_bayesian_statistics/naive-bayes-spam-lab/datasets/easy_ham/1222.c6701f56a4fe6d8e66e652ee35a6dc75\n",
      "Searching ./course_dump/week08/day1_intro_to_bayesian_statistics/naive-bayes-spam-lab/datasets/easy_ham/2135.bb604c195ad3bf3e2875f889ab46f39b\n",
      "Searching ./course_dump/week08/day1_intro_to_bayesian_statistics/naive-bayes-spam-lab/datasets/easy_ham/1381.3c5527db01789ad42005006ac2ed2fcc\n",
      "Searching ./course_dump/week08/day1_intro_to_bayesian_statistics/naive-bayes-spam-lab/datasets/easy_ham/2360.d6c0de8e2c018bdb6b99eae690d87e38\n",
      "Searching ./course_dump/week08/day1_intro_to_bayesian_statistics/naive-bayes-spam-lab/datasets/easy_ham/1846.07f7f47e25de2b8f08cabfc5ef3e3709\n",
      "Searching ./course_dump/week08/day1_intro_to_bayesian_statistics/naive-bayes-spam-lab/datasets/easy_ham/1178.0bd8c8c1cf63d08849c504af3535f635\n",
      "Searching ./course_dump/week08/day1_intro_to_bayesian_statistics/naive-bayes-spam-lab/datasets/easy_ham/1055.d8032f77bbc5aab8f5a9b75cb4652e06\n",
      "Searching ./course_dump/week08/day1_intro_to_bayesian_statistics/naive-bayes-spam-lab/datasets/easy_ham/2330.854fdf89bd1ad6013aa5188ca205f6ba\n",
      "Searching ./course_dump/week08/day1_intro_to_bayesian_statistics/naive-bayes-spam-lab/datasets/easy_ham/0101.48557f7f38d947eab77aefc03d0520a3\n",
      "Searching ./course_dump/week08/day1_intro_to_bayesian_statistics/naive-bayes-spam-lab/datasets/easy_ham/0058.a7c28223050c35c3a22ac4e2b5969111\n",
      "Searching ./course_dump/week08/day1_intro_to_bayesian_statistics/naive-bayes-spam-lab/datasets/easy_ham/0820.28def4e42460f6194152556fb05f915d\n",
      "Searching ./course_dump/week08/day1_intro_to_bayesian_statistics/naive-bayes-spam-lab/datasets/easy_ham/2469.1135462b65bc58a05522e86383b7943c\n",
      "Searching ./course_dump/week08/day1_intro_to_bayesian_statistics/naive-bayes-spam-lab/datasets/easy_ham/1961.d8777f629b1de74809f97f94180ffc00\n",
      "Searching ./course_dump/week08/day1_intro_to_bayesian_statistics/naive-bayes-spam-lab/datasets/easy_ham/1433.164926797999228bbd4fae986a02ae4d\n"
     ]
    },
    {
     "name": "stdout",
     "output_type": "stream",
     "text": [
      "Searching ./course_dump/week08/day1_intro_to_bayesian_statistics/naive-bayes-spam-lab/datasets/easy_ham/1954.5e99943978d64989611d5bd4814126ab\n",
      "Searching ./course_dump/week08/day1_intro_to_bayesian_statistics/naive-bayes-spam-lab/datasets/easy_ham/0024.771af861a302951df7630ec4ff1965a2\n",
      "Searching ./course_dump/week08/day1_intro_to_bayesian_statistics/naive-bayes-spam-lab/datasets/easy_ham/0178.8405bbe39a5eb6c1814e3c16602099a4\n",
      "Searching ./course_dump/week08/day1_intro_to_bayesian_statistics/naive-bayes-spam-lab/datasets/easy_ham/2034.84e8945b5bf480a2ebef1961a64b8060\n",
      "Searching ./course_dump/week08/day1_intro_to_bayesian_statistics/naive-bayes-spam-lab/datasets/easy_ham/2491.7b6a8fff32b29e04a8638dbb67cd85b9\n",
      "Searching ./course_dump/week08/day1_intro_to_bayesian_statistics/naive-bayes-spam-lab/datasets/easy_ham/2292.280a5c73c09974136e1f31c118ed6b2f\n",
      "Searching ./course_dump/week08/day1_intro_to_bayesian_statistics/naive-bayes-spam-lab/datasets/easy_ham/0198.62d2556d8ae158aa2b1410cb82bfff59\n",
      "Searching ./course_dump/week08/day1_intro_to_bayesian_statistics/naive-bayes-spam-lab/datasets/easy_ham/2199.443731070c341a3a2d676304635c4978\n",
      "Searching ./course_dump/week08/day1_intro_to_bayesian_statistics/naive-bayes-spam-lab/datasets/easy_ham/1136.b12b9479134d3bab39dd5101720b062f\n",
      "Searching ./course_dump/week08/day1_intro_to_bayesian_statistics/naive-bayes-spam-lab/datasets/easy_ham/1124.ca18e9fe0618bbac33ef2156d047cc7d\n",
      "Searching ./course_dump/week08/day1_intro_to_bayesian_statistics/naive-bayes-spam-lab/datasets/easy_ham/1104.9ade312a3932dca487c70d8c4ea81585\n",
      "Searching ./course_dump/week08/day1_intro_to_bayesian_statistics/naive-bayes-spam-lab/datasets/easy_ham/1702.cbf24a3d72463a352831af8e23b02cc1\n",
      "Searching ./course_dump/week08/day1_intro_to_bayesian_statistics/naive-bayes-spam-lab/datasets/easy_ham/0568.112e1928cfa88de3901d08715fd2e3b3\n",
      "Searching ./course_dump/week08/day1_intro_to_bayesian_statistics/naive-bayes-spam-lab/datasets/easy_ham/1462.ef8fdbd441dade85c95fa014b058b896\n",
      "Searching ./course_dump/week08/day1_intro_to_bayesian_statistics/naive-bayes-spam-lab/datasets/easy_ham/1519.6074b997fafe25f524f2e2334f7ae45e\n",
      "Searching ./course_dump/week08/day1_intro_to_bayesian_statistics/naive-bayes-spam-lab/datasets/easy_ham/0752.17c76022e66852f8a3cff5745f5937d4\n",
      "Searching ./course_dump/week08/day1_intro_to_bayesian_statistics/naive-bayes-spam-lab/datasets/easy_ham/0512.17bff8553d7e8f6c668166afe149795b\n",
      "Searching ./course_dump/week08/day1_intro_to_bayesian_statistics/naive-bayes-spam-lab/datasets/easy_ham/0790.bad21961212b5cfb7d75bf3c45c840c6\n",
      "Searching ./course_dump/week08/day1_intro_to_bayesian_statistics/naive-bayes-spam-lab/datasets/easy_ham/1709.beab5cca12dcf10c94ed9ce7f8951444\n",
      "Searching ./course_dump/week08/day1_intro_to_bayesian_statistics/naive-bayes-spam-lab/datasets/easy_ham/1010.1bc4545387a6a526b351a330b4aca16c\n",
      "Searching ./course_dump/week08/day1_intro_to_bayesian_statistics/naive-bayes-spam-lab/datasets/easy_ham/1866.e473fa8286a321cf128ca40407cec067\n",
      "Searching ./course_dump/week08/day1_intro_to_bayesian_statistics/naive-bayes-spam-lab/datasets/easy_ham/1644.ba26918a1837fcadae2327adc12a797d\n",
      "Searching ./course_dump/week08/day1_intro_to_bayesian_statistics/naive-bayes-spam-lab/datasets/easy_ham/0009.435ae292d75abb1ca492dcc2d5cf1570\n",
      "Searching ./course_dump/week08/day1_intro_to_bayesian_statistics/naive-bayes-spam-lab/datasets/easy_ham/0190.41da72c46bce52a15056a0171b56a917\n",
      "Searching ./course_dump/week08/day1_intro_to_bayesian_statistics/naive-bayes-spam-lab/datasets/easy_ham/2257.495361f7bad7bdd4d5eb0224bc6356c3\n",
      "Searching ./course_dump/week08/day1_intro_to_bayesian_statistics/naive-bayes-spam-lab/datasets/easy_ham/0646.5b8ef44185fab30abb58d0f440885d00\n",
      "Searching ./course_dump/week08/day1_intro_to_bayesian_statistics/naive-bayes-spam-lab/datasets/easy_ham/1805.3a7add5306fcbf4ac7eb42c57c125e85\n",
      "Searching ./course_dump/week08/day1_intro_to_bayesian_statistics/naive-bayes-spam-lab/datasets/easy_ham/2315.6fc3d0e44b9f9917184b5e578217cebf\n",
      "Searching ./course_dump/week08/day1_intro_to_bayesian_statistics/naive-bayes-spam-lab/datasets/easy_ham/1032.725446990feeb941bce8a383943cd2a2\n",
      "Searching ./course_dump/week08/day1_intro_to_bayesian_statistics/naive-bayes-spam-lab/datasets/easy_ham/1490.e80cf700ef4de2385ada6ae149e7498c\n",
      "Searching ./course_dump/week08/day1_intro_to_bayesian_statistics/naive-bayes-spam-lab/datasets/easy_ham/1943.d1cf11c72e02c4c94cbd3a4b52c71ff0\n",
      "Searching ./course_dump/week08/day1_intro_to_bayesian_statistics/naive-bayes-spam-lab/datasets/easy_ham/0997.df0c214721243248b9421e3c0ba9e453\n",
      "Searching ./course_dump/week08/day1_intro_to_bayesian_statistics/naive-bayes-spam-lab/datasets/easy_ham/2075.711e8f761dd164a7bcafc3ab23c96735\n",
      "Searching ./course_dump/week08/day1_intro_to_bayesian_statistics/naive-bayes-spam-lab/datasets/easy_ham/0207.f7d2d40df256d6caea05314f5334a959\n",
      "Searching ./course_dump/week08/day1_intro_to_bayesian_statistics/naive-bayes-spam-lab/datasets/easy_ham/0768.42d3db0f0b763a75183afd06f5db8ce5\n",
      "Searching ./course_dump/week08/day1_intro_to_bayesian_statistics/naive-bayes-spam-lab/datasets/easy_ham/0771.56f1377225cfa1461304bce68e892600\n",
      "Searching ./course_dump/week08/day1_intro_to_bayesian_statistics/naive-bayes-spam-lab/datasets/easy_ham/0778.56a343fa82239badd7e1b750c5963d7d\n",
      "Searching ./course_dump/week08/day1_intro_to_bayesian_statistics/naive-bayes-spam-lab/datasets/easy_ham/0355.2d1f5d2164caea679047233e08a10a58\n",
      "Searching ./course_dump/week08/day1_intro_to_bayesian_statistics/naive-bayes-spam-lab/datasets/easy_ham/1492.fcfeff3d31bfad092220ca731a40c05e\n",
      "Searching ./course_dump/week08/day1_intro_to_bayesian_statistics/naive-bayes-spam-lab/datasets/easy_ham/0102.ba8679813c4b5f424fb225f09b2fb1f2\n",
      "Searching ./course_dump/week08/day1_intro_to_bayesian_statistics/naive-bayes-spam-lab/datasets/easy_ham/1993.27048515acdeabc66b9013c97649df28\n",
      "Searching ./course_dump/week08/day1_intro_to_bayesian_statistics/naive-bayes-spam-lab/datasets/easy_ham/0996.a6ea93af44bc21fb704aecfd1bc4d57a\n",
      "Searching ./course_dump/week08/day1_intro_to_bayesian_statistics/naive-bayes-spam-lab/datasets/easy_ham/0633.f47f5c3a3dc10c57366f5715ef33fe3e\n",
      "Searching ./course_dump/week08/day1_intro_to_bayesian_statistics/naive-bayes-spam-lab/datasets/easy_ham/2442.ba0f88eeb7387e4481fabc6cb31d1b30\n",
      "Searching ./course_dump/week08/day1_intro_to_bayesian_statistics/naive-bayes-spam-lab/datasets/easy_ham/0340.aae9e33fb151ae061354b8cfe9f90b3d\n",
      "Searching ./course_dump/week08/day1_intro_to_bayesian_statistics/naive-bayes-spam-lab/datasets/easy_ham/1999.44b34d72c70aad76e23e7e11169894d7\n",
      "Searching ./course_dump/week08/day1_intro_to_bayesian_statistics/naive-bayes-spam-lab/datasets/easy_ham/1479.1ef8029a7d0ea41d3032b6174793a35f\n",
      "Searching ./course_dump/week08/day1_intro_to_bayesian_statistics/naive-bayes-spam-lab/datasets/easy_ham/0083.e506d3273b3dde9ae2d340cb0197a2a0\n",
      "Searching ./course_dump/week08/day1_intro_to_bayesian_statistics/naive-bayes-spam-lab/datasets/easy_ham/0641.6608cb0a3168e2f803b29e3bcdd68c23\n",
      "Searching ./course_dump/week08/day1_intro_to_bayesian_statistics/naive-bayes-spam-lab/datasets/easy_ham/2310.5c05ac6e4c2b473ef5dec9fe794ec853\n",
      "Searching ./course_dump/week08/day1_intro_to_bayesian_statistics/naive-bayes-spam-lab/datasets/easy_ham/1910.77a21facb4e83b48e206ef2c8234562b\n",
      "Searching ./course_dump/week08/day1_intro_to_bayesian_statistics/naive-bayes-spam-lab/datasets/easy_ham/0892.b0cff6bbd5818574a0cd15913ee16970\n",
      "Searching ./course_dump/week08/day1_intro_to_bayesian_statistics/naive-bayes-spam-lab/datasets/easy_ham/1977.28fbce6e72a12724199a85f34bc6e238\n",
      "Searching ./course_dump/week08/day1_intro_to_bayesian_statistics/naive-bayes-spam-lab/datasets/easy_ham/0534.a2b4731ea39251d3db3b433ed81b1087\n",
      "Searching ./course_dump/week08/day1_intro_to_bayesian_statistics/naive-bayes-spam-lab/datasets/easy_ham/1827.9dd46d474cc33df16c9443ac6759e679\n",
      "Searching ./course_dump/week08/day1_intro_to_bayesian_statistics/naive-bayes-spam-lab/datasets/easy_ham/0791.0b633957da3fa40b511d8e56ad877722\n",
      "Searching ./course_dump/week08/day1_intro_to_bayesian_statistics/naive-bayes-spam-lab/datasets/easy_ham/2351.d418f84c3f3e02133b0ce67a243ecff4\n",
      "Searching ./course_dump/week08/day1_intro_to_bayesian_statistics/naive-bayes-spam-lab/datasets/easy_ham/2088.fbacee82368061cab3866a7db4795b32\n",
      "Searching ./course_dump/week08/day1_intro_to_bayesian_statistics/naive-bayes-spam-lab/datasets/easy_ham/0098.5053f669dda8f920e5300ed327cdd986\n",
      "Searching ./course_dump/week08/day1_intro_to_bayesian_statistics/naive-bayes-spam-lab/datasets/easy_ham/1487.0dec4dc8ef9439d54e1605b2a526e2ff\n",
      "Searching ./course_dump/week08/day1_intro_to_bayesian_statistics/naive-bayes-spam-lab/datasets/easy_ham/1923.c70122426d8be452477bc792e6ae4a95\n",
      "Searching ./course_dump/week08/day1_intro_to_bayesian_statistics/naive-bayes-spam-lab/datasets/easy_ham/2083.9698454f238754338c3355e9ff95c422\n",
      "Searching ./course_dump/week08/day1_intro_to_bayesian_statistics/naive-bayes-spam-lab/datasets/easy_ham/0291.b37f92cfbb14d2f6a43c705ef7381702\n",
      "Searching ./course_dump/week08/day1_intro_to_bayesian_statistics/naive-bayes-spam-lab/datasets/easy_ham/0580.61bd3978cddfc54e52fc52925ecb3b4d\n",
      "Searching ./course_dump/week08/day1_intro_to_bayesian_statistics/naive-bayes-spam-lab/datasets/easy_ham/0616.a152505164d471a0cb84ba780c1fb956\n"
     ]
    },
    {
     "name": "stdout",
     "output_type": "stream",
     "text": [
      "Searching ./course_dump/week08/day1_intro_to_bayesian_statistics/naive-bayes-spam-lab/datasets/easy_ham/0903.8b54a580db644a9a23934361d5173610\n",
      "Searching ./course_dump/week08/day1_intro_to_bayesian_statistics/naive-bayes-spam-lab/datasets/easy_ham/2514.f2c8376ccb20e0255fd97cab426f0c3a\n",
      "Searching ./course_dump/week08/day1_intro_to_bayesian_statistics/naive-bayes-spam-lab/datasets/easy_ham/1567.eeb0beaf2f749c8281d93d1536cce247\n",
      "Searching ./course_dump/week08/day1_intro_to_bayesian_statistics/naive-bayes-spam-lab/datasets/easy_ham/0774.cdd7992b853cadd1098b09224e74c728\n",
      "Searching ./course_dump/week08/day1_intro_to_bayesian_statistics/naive-bayes-spam-lab/datasets/easy_ham/1948.b8e3e5fc7ac3c0b862d066125e5d7129\n",
      "Searching ./course_dump/week08/day1_intro_to_bayesian_statistics/naive-bayes-spam-lab/datasets/easy_ham/1034.30d39e880274b0ebb59462ddfff16880\n",
      "Searching ./course_dump/week08/day1_intro_to_bayesian_statistics/naive-bayes-spam-lab/datasets/easy_ham/0546.b6bc744eb32a97fdb4005fc1e513cf85\n",
      "Searching ./course_dump/week08/day1_intro_to_bayesian_statistics/naive-bayes-spam-lab/datasets/easy_ham/2466.4c6ca64a8fb037e9515adc98486a8146\n",
      "Searching ./course_dump/week08/day1_intro_to_bayesian_statistics/naive-bayes-spam-lab/datasets/easy_ham/0488.8fddac859ba93d27a041fe770be65d29\n",
      "Searching ./course_dump/week08/day1_intro_to_bayesian_statistics/naive-bayes-spam-lab/datasets/easy_ham/0691.bdcd311a789b4002c5f1afd663aaa1df\n",
      "Searching ./course_dump/week08/day1_intro_to_bayesian_statistics/naive-bayes-spam-lab/datasets/easy_ham/0912.7951bb152a4106ceff12048a818491a3\n",
      "Searching ./course_dump/week08/day1_intro_to_bayesian_statistics/naive-bayes-spam-lab/datasets/easy_ham/1529.e1a0f5092c93eec245ee211544e6db4b\n",
      "Searching ./course_dump/week08/day1_intro_to_bayesian_statistics/naive-bayes-spam-lab/datasets/easy_ham/1876.820a9b50a434d9a0a0578ee542ad78a3\n",
      "Searching ./course_dump/week08/day1_intro_to_bayesian_statistics/naive-bayes-spam-lab/datasets/easy_ham/0678.98548de034832af64015d60cec0d69c6\n",
      "Searching ./course_dump/week08/day1_intro_to_bayesian_statistics/naive-bayes-spam-lab/datasets/easy_ham/1949.fa3deba2ee6dbc2f045da7f283ad3a3e\n",
      "Searching ./course_dump/week08/day1_intro_to_bayesian_statistics/naive-bayes-spam-lab/datasets/easy_ham/2543.1fa39c8b86bc5ae84b837e8c7ae3717d\n",
      "Searching ./course_dump/week08/day1_intro_to_bayesian_statistics/naive-bayes-spam-lab/datasets/easy_ham/0620.cb5bdeb796ed52ca7474387e39462e87\n",
      "Searching ./course_dump/week08/day1_intro_to_bayesian_statistics/naive-bayes-spam-lab/datasets/easy_ham/0806.2eae7f9f133274ed400a215174b7de1d\n",
      "Searching ./course_dump/week08/day1_intro_to_bayesian_statistics/naive-bayes-spam-lab/datasets/easy_ham/0088.43fa07c598e8b3d272a1a00705398e48\n",
      "Searching ./course_dump/week08/day1_intro_to_bayesian_statistics/naive-bayes-spam-lab/datasets/easy_ham/0802.ad16df843d76e5c7e04b7515dafd6202\n",
      "Searching ./course_dump/week08/day1_intro_to_bayesian_statistics/naive-bayes-spam-lab/datasets/easy_ham/2005.f95c773a32ba576c1da3324820a33f74\n",
      "Searching ./course_dump/week08/day1_intro_to_bayesian_statistics/naive-bayes-spam-lab/datasets/easy_ham/2151.a6512282aa9e19567fed4acac9b7273a\n",
      "Searching ./course_dump/week08/day1_intro_to_bayesian_statistics/naive-bayes-spam-lab/datasets/easy_ham/0233.8ee5f381dff013a0ccac9a01ac2d2976\n",
      "Searching ./course_dump/week08/day1_intro_to_bayesian_statistics/naive-bayes-spam-lab/datasets/easy_ham/2143.8852188c7d3ef07fd9f73b8da822f7a6\n",
      "Searching ./course_dump/week08/day1_intro_to_bayesian_statistics/naive-bayes-spam-lab/datasets/easy_ham/0927.3fda95ccbe3f7818f1dfebfddeb2af66\n",
      "Searching ./course_dump/week08/day1_intro_to_bayesian_statistics/naive-bayes-spam-lab/datasets/easy_ham/0187.3e01234a92697a2a414ed394ad7177ed\n",
      "Searching ./course_dump/week08/day1_intro_to_bayesian_statistics/naive-bayes-spam-lab/datasets/easy_ham/2178.c8c32c1cb7a548e58373aff29aa074ee\n",
      "Searching ./course_dump/week08/day1_intro_to_bayesian_statistics/naive-bayes-spam-lab/datasets/easy_ham/2499.6fc4e078d141a24f3a81bc4936722fbb\n",
      "Searching ./course_dump/week08/day1_intro_to_bayesian_statistics/naive-bayes-spam-lab/datasets/easy_ham/1006.ab21b649d018df12f9f4c5691be621d3\n",
      "Searching ./course_dump/week08/day1_intro_to_bayesian_statistics/naive-bayes-spam-lab/datasets/easy_ham/0360.f47b9aa1071c95031d17821c25d3de78\n",
      "Searching ./course_dump/week08/day1_intro_to_bayesian_statistics/naive-bayes-spam-lab/datasets/easy_ham/2168.78d5d7b3c85d3215edefae196a24bb30\n",
      "Searching ./course_dump/week08/day1_intro_to_bayesian_statistics/naive-bayes-spam-lab/datasets/easy_ham/2414.9762e257ad9e6b6633dba8432ffb90de\n",
      "Searching ./course_dump/week08/day1_intro_to_bayesian_statistics/naive-bayes-spam-lab/datasets/easy_ham/1100.2a253a3a1ec54d9c7d452ea00834bcad\n",
      "Searching ./course_dump/week08/day1_intro_to_bayesian_statistics/naive-bayes-spam-lab/datasets/easy_ham/2516.030f0cecab78d582f6f5be58422acf79\n",
      "Searching ./course_dump/week08/day1_intro_to_bayesian_statistics/naive-bayes-spam-lab/datasets/easy_ham/1733.95212a5ae78a283bf7282d310d7731d7\n",
      "Searching ./course_dump/week08/day1_intro_to_bayesian_statistics/naive-bayes-spam-lab/datasets/easy_ham/0853.79c912aba9155510575bfec3b8123f8e\n",
      "Searching ./course_dump/week08/day1_intro_to_bayesian_statistics/naive-bayes-spam-lab/datasets/easy_ham/2522.dc159c06c191406ece1b0fc98a352bbe\n",
      "Searching ./course_dump/week08/day1_intro_to_bayesian_statistics/naive-bayes-spam-lab/datasets/easy_ham/0361.36332081025aaf122520737c26461a88\n",
      "Searching ./course_dump/week08/day1_intro_to_bayesian_statistics/naive-bayes-spam-lab/datasets/easy_ham/0274.62155dd02f8719d2cfd0f76671549737\n",
      "Searching ./course_dump/week08/day1_intro_to_bayesian_statistics/naive-bayes-spam-lab/datasets/easy_ham/0018.ba70ecbeea6f427b951067f34e23bae6\n",
      "Searching ./course_dump/week08/day1_intro_to_bayesian_statistics/naive-bayes-spam-lab/datasets/easy_ham/2329.f1f6996036dbf14d6388fec63a7c8ab0\n",
      "Searching ./course_dump/week08/day1_intro_to_bayesian_statistics/naive-bayes-spam-lab/datasets/easy_ham/2265.5429651f195f0c499f4998af2eb8c36b\n",
      "Searching ./course_dump/week08/day1_intro_to_bayesian_statistics/naive-bayes-spam-lab/datasets/easy_ham/1320.9e1add26a777cd027f1c9cc94d4980c8\n",
      "Searching ./course_dump/week08/day1_intro_to_bayesian_statistics/naive-bayes-spam-lab/datasets/easy_ham/0421.4df8b9eebae5cbf2d5213e2040d21c9e\n",
      "Searching ./course_dump/week08/day1_intro_to_bayesian_statistics/naive-bayes-spam-lab/datasets/easy_ham/0301.a1d81dfa1becbc6fbf1cec39b45c2a05\n",
      "Searching ./course_dump/week08/day1_intro_to_bayesian_statistics/naive-bayes-spam-lab/datasets/easy_ham/2242.4898246a5209d99655c6dde581123e64\n",
      "Searching ./course_dump/week08/day1_intro_to_bayesian_statistics/naive-bayes-spam-lab/datasets/easy_ham/1558.7f77f46b6272f003f0b588f6a0eddceb\n",
      "Searching ./course_dump/week08/day1_intro_to_bayesian_statistics/naive-bayes-spam-lab/datasets/easy_ham/1871.a36e311004ce012e7e39d64f12082bbb\n",
      "Searching ./course_dump/week08/day1_intro_to_bayesian_statistics/naive-bayes-spam-lab/datasets/easy_ham/0649.60e2fd87157b13643293adc15ff03dd5\n",
      "Searching ./course_dump/week08/day1_intro_to_bayesian_statistics/naive-bayes-spam-lab/datasets/easy_ham/1745.6e47b00b04a6f2cb1cf9c5c86031132d\n",
      "Searching ./course_dump/week08/day1_intro_to_bayesian_statistics/naive-bayes-spam-lab/datasets/easy_ham/0023.b4a61a2990263e8825246e41a8d78399\n",
      "Searching ./course_dump/week08/day1_intro_to_bayesian_statistics/naive-bayes-spam-lab/datasets/easy_ham/1020.7fdf27321484091bd72c08886ab53262\n",
      "Searching ./course_dump/week08/day1_intro_to_bayesian_statistics/naive-bayes-spam-lab/datasets/easy_ham/2280.0aad1f9125deb948d309a1c62714fbf4\n",
      "Searching ./course_dump/week08/day1_intro_to_bayesian_statistics/naive-bayes-spam-lab/datasets/easy_ham/0053.71bcb179e702d98e88fd0bc081ba0f52\n",
      "Searching ./course_dump/week08/day1_intro_to_bayesian_statistics/naive-bayes-spam-lab/datasets/easy_ham/0108.e6e9cb097a3b5e37d94a7ff29bc4412a\n",
      "Searching ./course_dump/week08/day1_intro_to_bayesian_statistics/naive-bayes-spam-lab/datasets/easy_ham/0483.fd69b8130b575cf7522607fc37d2549c\n",
      "Searching ./course_dump/week08/day1_intro_to_bayesian_statistics/naive-bayes-spam-lab/datasets/easy_ham/1783.3c26c587b4fe3b681981c38f90593e02\n",
      "Searching ./course_dump/week08/day1_intro_to_bayesian_statistics/naive-bayes-spam-lab/datasets/easy_ham/1109.50269c75e11405ffa85a38881a36e166\n",
      "Searching ./course_dump/week08/day1_intro_to_bayesian_statistics/naive-bayes-spam-lab/datasets/easy_ham/0410.a5e658e20b48409116fd339f5a8473f7\n"
     ]
    },
    {
     "name": "stdout",
     "output_type": "stream",
     "text": [
      "Searching ./course_dump/week08/day1_intro_to_bayesian_statistics/naive-bayes-spam-lab/datasets/easy_ham/1752.5bcdd9205f59d95e025a2896a38ee2bb\n",
      "Searching ./course_dump/week08/day1_intro_to_bayesian_statistics/naive-bayes-spam-lab/datasets/easy_ham/0060.877bf70a297621b9dc3bab0095f95027\n",
      "Searching ./course_dump/week08/day1_intro_to_bayesian_statistics/naive-bayes-spam-lab/datasets/easy_ham/1548.009504211e34b42d8b878b5c5aec5926\n",
      "Searching ./course_dump/week08/day1_intro_to_bayesian_statistics/naive-bayes-spam-lab/datasets/easy_ham/0359.7f80dc1df7de3b5121e43f29f0a9e911\n",
      "Searching ./course_dump/week08/day1_intro_to_bayesian_statistics/naive-bayes-spam-lab/datasets/easy_ham/2227.977581980ae66fba8552097d6544d7be\n",
      "Searching ./course_dump/week08/day1_intro_to_bayesian_statistics/naive-bayes-spam-lab/datasets/easy_ham/0137.015cd0ece1324c5514e742e224a77213\n",
      "Searching ./course_dump/week08/day1_intro_to_bayesian_statistics/naive-bayes-spam-lab/datasets/easy_ham/2284.878bd0c74c3210a9e3d19a80297ef938\n",
      "Searching ./course_dump/week08/day1_intro_to_bayesian_statistics/naive-bayes-spam-lab/datasets/easy_ham/0031.af5b387661e1f58d3787ac41139106e5\n",
      "Searching ./course_dump/week08/day1_intro_to_bayesian_statistics/naive-bayes-spam-lab/datasets/easy_ham/0130.6007e5b54c03026fd924cf2d6b0b4008\n",
      "Searching ./course_dump/week08/day1_intro_to_bayesian_statistics/naive-bayes-spam-lab/datasets/easy_ham/1376.460393676b2c5ba43650cc2f2ef6875e\n",
      "Searching ./course_dump/week08/day1_intro_to_bayesian_statistics/naive-bayes-spam-lab/datasets/easy_ham/0951.542debe6e20315751c6e2c9bdedff85d\n",
      "Searching ./course_dump/week08/day1_intro_to_bayesian_statistics/naive-bayes-spam-lab/datasets/easy_ham/0436.e455bb708c5f690f929aa5359a0a1411\n",
      "Searching ./course_dump/week08/day1_intro_to_bayesian_statistics/naive-bayes-spam-lab/datasets/easy_ham/2434.477cbb634d8dd2ee4e697f479fa77b24\n",
      "Searching ./course_dump/week08/day1_intro_to_bayesian_statistics/naive-bayes-spam-lab/datasets/easy_ham/0285.c50f8a5a908e21636fe71e522c3e462a\n",
      "Searching ./course_dump/week08/day1_intro_to_bayesian_statistics/naive-bayes-spam-lab/datasets/easy_ham/1542.a5fda7c1725c3f9715d2b0c858ad306e\n",
      "Searching ./course_dump/week08/day1_intro_to_bayesian_statistics/naive-bayes-spam-lab/datasets/easy_ham/1343.c5ead41a4483bd3732e42d52c9163d24\n",
      "Searching ./course_dump/week08/day1_intro_to_bayesian_statistics/naive-bayes-spam-lab/datasets/easy_ham/0299.4634eee63f5808c91c2f30720802a5c5\n",
      "Searching ./course_dump/week08/day1_intro_to_bayesian_statistics/naive-bayes-spam-lab/datasets/easy_ham/1270.d5c74ed6ae742bd031a65859f584f024\n",
      "Searching ./course_dump/week08/day1_intro_to_bayesian_statistics/naive-bayes-spam-lab/datasets/easy_ham/0795.6f8b4da0f06a9c055fc527562fe92330\n",
      "Searching ./course_dump/week08/day1_intro_to_bayesian_statistics/naive-bayes-spam-lab/datasets/easy_ham/0958.f564af86e1a1c10e2f7428899c8543e7\n",
      "Searching ./course_dump/week08/day1_intro_to_bayesian_statistics/naive-bayes-spam-lab/datasets/easy_ham/1067.b872a9f6853971d7190007a64d60e381\n",
      "Searching ./course_dump/week08/day1_intro_to_bayesian_statistics/naive-bayes-spam-lab/datasets/easy_ham/0763.5760c74ddc97ef3acfeb25509fc1a85e\n",
      "Searching ./course_dump/week08/day1_intro_to_bayesian_statistics/naive-bayes-spam-lab/datasets/easy_ham/0378.933eac5ec9a3ef912c40c6a30a11e07d\n",
      "Searching ./course_dump/week08/day1_intro_to_bayesian_statistics/naive-bayes-spam-lab/datasets/easy_ham/0983.c68392ce03bc95afaf1ef76360ee0a88\n",
      "Searching ./course_dump/week08/day1_intro_to_bayesian_statistics/naive-bayes-spam-lab/datasets/easy_ham/2119.68048d777b01f6dc75cb7aa242abe4da\n",
      "Searching ./course_dump/week08/day1_intro_to_bayesian_statistics/naive-bayes-spam-lab/datasets/easy_ham/2110.65f419836d97dbaaa92c441995a69264\n",
      "Searching ./course_dump/week08/day1_intro_to_bayesian_statistics/naive-bayes-spam-lab/datasets/easy_ham/0732.63667434e8712ed16361596f40c468ed\n",
      "Searching ./course_dump/week08/day1_intro_to_bayesian_statistics/naive-bayes-spam-lab/datasets/easy_ham/2200.866fde44a7d7ecab7c0cd1d8e84055fa\n",
      "Searching ./course_dump/week08/day1_intro_to_bayesian_statistics/naive-bayes-spam-lab/datasets/easy_ham/1244.00a547243dc2054b271e9a8e1ca6f577\n",
      "Searching ./course_dump/week08/day1_intro_to_bayesian_statistics/naive-bayes-spam-lab/datasets/easy_ham/1062.aa014dbebbc0ab2df502e9a03f140599\n",
      "Searching ./course_dump/week08/day1_intro_to_bayesian_statistics/naive-bayes-spam-lab/datasets/easy_ham/0351.a7381397d31e8511581dc5cd59f39959\n",
      "Searching ./course_dump/week08/day1_intro_to_bayesian_statistics/naive-bayes-spam-lab/datasets/easy_ham/1958.2e664403f1d45b88d08abed4ae1b5c80\n",
      "Searching ./course_dump/week08/day1_intro_to_bayesian_statistics/naive-bayes-spam-lab/datasets/easy_ham/1316.e019de5bb870ed83dc036c657cc4ca32\n",
      "Searching ./course_dump/week08/day1_intro_to_bayesian_statistics/naive-bayes-spam-lab/datasets/easy_ham/0405.ef8e0986c113ddf12faa7c1a05ace625\n",
      "Searching ./course_dump/week08/day1_intro_to_bayesian_statistics/naive-bayes-spam-lab/datasets/easy_ham/0417.74bf147587a49c58a67490c0211f7928\n",
      "Searching ./course_dump/week08/day1_intro_to_bayesian_statistics/naive-bayes-spam-lab/datasets/easy_ham/0183.fea0e7b48e16103e73462d5ee52b0d18\n",
      "Searching ./course_dump/week08/day1_intro_to_bayesian_statistics/naive-bayes-spam-lab/datasets/easy_ham/2222.21412f6d911e6718ab62011cbc6d9eea\n",
      "Searching ./course_dump/week08/day1_intro_to_bayesian_statistics/naive-bayes-spam-lab/datasets/easy_ham/2276.8457c2cba3f53db0d700d967cdbea65c\n",
      "Searching ./course_dump/week08/day1_intro_to_bayesian_statistics/naive-bayes-spam-lab/datasets/easy_ham/2121.a09b948bed54d0075b93d57f85b7df1a\n",
      "Searching ./course_dump/week08/day1_intro_to_bayesian_statistics/naive-bayes-spam-lab/datasets/easy_ham/2048.9944a591b5263dcf5726e0217314f029\n",
      "Searching ./course_dump/week08/day1_intro_to_bayesian_statistics/naive-bayes-spam-lab/datasets/easy_ham/1649.00d75963b0db438a7f492b59a5395fc0\n",
      "Searching ./course_dump/week08/day1_intro_to_bayesian_statistics/naive-bayes-spam-lab/datasets/easy_ham/0159.72f1a01f64bfa9e06b21c4e778e14cd2\n",
      "Searching ./course_dump/week08/day1_intro_to_bayesian_statistics/naive-bayes-spam-lab/datasets/easy_ham/2476.26c155346386cbeb36ea1c539b294be3\n",
      "Searching ./course_dump/week08/day1_intro_to_bayesian_statistics/naive-bayes-spam-lab/datasets/easy_ham/1790.305d7c2b4c83864ca868937855ad1b27\n",
      "Searching ./course_dump/week08/day1_intro_to_bayesian_statistics/naive-bayes-spam-lab/datasets/easy_ham/1887.884e4c55dd2c7579be9b0986190a1426\n",
      "Searching ./course_dump/week08/day1_intro_to_bayesian_statistics/naive-bayes-spam-lab/datasets/easy_ham/0150.69bb21344f49b27cec7373599b6e433d\n",
      "Searching ./course_dump/week08/day1_intro_to_bayesian_statistics/naive-bayes-spam-lab/datasets/easy_ham/0880.6aa461d079bb0762af5c94d9af8487ec\n",
      "Searching ./course_dump/week08/day1_intro_to_bayesian_statistics/naive-bayes-spam-lab/datasets/easy_ham/0250.21660c434f8535865d04d112f8105708\n",
      "Searching ./course_dump/week08/day1_intro_to_bayesian_statistics/naive-bayes-spam-lab/datasets/easy_ham/1002.e8313d6b4c83d4bc3ae6c1e1ed210b29\n",
      "Searching ./course_dump/week08/day1_intro_to_bayesian_statistics/naive-bayes-spam-lab/datasets/easy_ham/0377.59c36dc5f85eeda650abcec0bf3ced32\n",
      "Searching ./course_dump/week08/day1_intro_to_bayesian_statistics/naive-bayes-spam-lab/datasets/easy_ham/2500.231666f4f5641227a17a09ba77cd5c18\n",
      "Searching ./course_dump/week08/day1_intro_to_bayesian_statistics/naive-bayes-spam-lab/datasets/easy_ham/0982.3949b69b4c7d0ce7b5baa3cb1075b965\n",
      "Searching ./course_dump/week08/day1_intro_to_bayesian_statistics/naive-bayes-spam-lab/datasets/easy_ham/0557.4a673d945072f8ec9ef08a4366f25bc1\n",
      "Searching ./course_dump/week08/day1_intro_to_bayesian_statistics/naive-bayes-spam-lab/datasets/easy_ham/2338.619a3bb68933a6e1ae01ea6fdd0e09f9\n",
      "Searching ./course_dump/week08/day1_intro_to_bayesian_statistics/naive-bayes-spam-lab/datasets/easy_ham/2515.177e746c09892ea4c2631adcc62d73a7\n",
      "Searching ./course_dump/week08/day1_intro_to_bayesian_statistics/naive-bayes-spam-lab/datasets/easy_ham/0430.4e314d3f69d885ce2c18d2e64eb72a1b\n",
      "Searching ./course_dump/week08/day1_intro_to_bayesian_statistics/naive-bayes-spam-lab/datasets/easy_ham/0984.c155c04486f51644804c5e184a8e2a85\n",
      "Searching ./course_dump/week08/day1_intro_to_bayesian_statistics/naive-bayes-spam-lab/datasets/easy_ham/1038.4a0af891d4474c608eb6a3ffedeb8ada\n",
      "Searching ./course_dump/week08/day1_intro_to_bayesian_statistics/naive-bayes-spam-lab/datasets/easy_ham/1776.6a0570ff6d45b717e0b6352d8fbf7ad4\n",
      "Searching ./course_dump/week08/day1_intro_to_bayesian_statistics/naive-bayes-spam-lab/datasets/easy_ham/2512.d68f3adc32f665ecaf1d096a83d78aa5\n",
      "Searching ./course_dump/week08/day1_intro_to_bayesian_statistics/naive-bayes-spam-lab/datasets/easy_ham/2096.8aecfec50aa2ec00803e8200e0d91399\n"
     ]
    },
    {
     "name": "stdout",
     "output_type": "stream",
     "text": [
      "Searching ./course_dump/week08/day1_intro_to_bayesian_statistics/naive-bayes-spam-lab/datasets/easy_ham/1608.aeda79b0cdb36bdde6d6b275b7484a89\n",
      "Searching ./course_dump/week08/day1_intro_to_bayesian_statistics/naive-bayes-spam-lab/datasets/easy_ham/2026.4cdce207eed54f4f6dc9e6a83b1de237\n",
      "Searching ./course_dump/week08/day1_intro_to_bayesian_statistics/naive-bayes-spam-lab/datasets/easy_ham/1657.41457c98e0009a99d917acfbc8f229cd\n",
      "Searching ./course_dump/week08/day1_intro_to_bayesian_statistics/naive-bayes-spam-lab/datasets/easy_ham/1516.d12eaa7e292c15107171b0eb39ea40df\n",
      "Searching ./course_dump/week08/day1_intro_to_bayesian_statistics/naive-bayes-spam-lab/datasets/easy_ham/1482.75a9c57c2bd53175e33ee6ed037400fd\n",
      "Searching ./course_dump/week08/day1_intro_to_bayesian_statistics/naive-bayes-spam-lab/datasets/easy_ham/0661.123776ef7c55f1119daa8f77075f77cb\n",
      "Searching ./course_dump/week08/day1_intro_to_bayesian_statistics/naive-bayes-spam-lab/datasets/easy_ham/1239.4ac4f511de904aae73d8d5ead6f7fd70\n",
      "Searching ./course_dump/week08/day1_intro_to_bayesian_statistics/naive-bayes-spam-lab/datasets/easy_ham/0567.41bb1a0c6c8c5584844c6baa2612ede2\n",
      "Searching ./course_dump/week08/day1_intro_to_bayesian_statistics/naive-bayes-spam-lab/datasets/easy_ham/1259.d92f1723cffd8ab2d3987feec1904dfe\n",
      "Searching ./course_dump/week08/day1_intro_to_bayesian_statistics/naive-bayes-spam-lab/datasets/easy_ham/1847.add31f8a35fa0fd63e70eacd58c82a44\n",
      "Searching ./course_dump/week08/day1_intro_to_bayesian_statistics/naive-bayes-spam-lab/datasets/easy_ham/1839.c66fbc9c72afb9ea062537d3635d1d6c\n",
      "Searching ./course_dump/week08/day1_intro_to_bayesian_statistics/naive-bayes-spam-lab/datasets/easy_ham/1392.e9ab29c0a3c14e8bba5e057e7af1c2e4\n",
      "Searching ./course_dump/week08/day1_intro_to_bayesian_statistics/naive-bayes-spam-lab/datasets/easy_ham/2126.44971810848293faf930b319d2be68bb\n",
      "Searching ./course_dump/week08/day1_intro_to_bayesian_statistics/naive-bayes-spam-lab/datasets/easy_ham/2334.922fa276236eebb7adc8732d7678e7e6\n",
      "Searching ./course_dump/week08/day1_intro_to_bayesian_statistics/naive-bayes-spam-lab/datasets/easy_ham/2435.1b197d20c88b19fb1ea4c3c51bdf9980\n",
      "Searching ./course_dump/week08/day1_intro_to_bayesian_statistics/naive-bayes-spam-lab/datasets/easy_ham/1108.128f9f0247b131505281874efc8e02f8\n",
      "Searching ./course_dump/week08/day1_intro_to_bayesian_statistics/naive-bayes-spam-lab/datasets/easy_ham/0501.343d33b8816a38b17fa642fbf07457fc\n",
      "Searching ./course_dump/week08/day1_intro_to_bayesian_statistics/naive-bayes-spam-lab/datasets/easy_ham/0872.b39e14fc64a28f30b5c413d51ed9dea1\n",
      "Searching ./course_dump/week08/day1_intro_to_bayesian_statistics/naive-bayes-spam-lab/datasets/easy_ham/2067.eb3f787db4153ba2097300731731f1b4\n",
      "Searching ./course_dump/week08/day1_intro_to_bayesian_statistics/naive-bayes-spam-lab/datasets/easy_ham/1243.e8761b4169cb50de371e2bfe83dd4b0c\n",
      "Searching ./course_dump/week08/day1_intro_to_bayesian_statistics/naive-bayes-spam-lab/datasets/easy_ham/0192.550b44c030296255a8b7ac293f296a01\n",
      "Searching ./course_dump/week08/day1_intro_to_bayesian_statistics/naive-bayes-spam-lab/datasets/easy_ham/1075.3de216ecf7ce7145a20445d504976e2d\n",
      "Searching ./course_dump/week08/day1_intro_to_bayesian_statistics/naive-bayes-spam-lab/datasets/easy_ham/0254.d40c629a02c7361e674d0d96ca130fe0\n",
      "Searching ./course_dump/week08/day1_intro_to_bayesian_statistics/naive-bayes-spam-lab/datasets/easy_ham/1085.868ec696162f19a3a6b8993b1d675c5d\n",
      "Searching ./course_dump/week08/day1_intro_to_bayesian_statistics/naive-bayes-spam-lab/datasets/easy_ham/2225.5ff5d55de3cf9742cda5d78cdffd1ced\n",
      "Searching ./course_dump/week08/day1_intro_to_bayesian_statistics/naive-bayes-spam-lab/datasets/easy_ham/0709.fdcec3f216a4caf2a548940569372d10\n",
      "Searching ./course_dump/week08/day1_intro_to_bayesian_statistics/naive-bayes-spam-lab/datasets/easy_ham/0609.2b39e149425abf7a4a84933aad236189\n",
      "Searching ./course_dump/week08/day1_intro_to_bayesian_statistics/naive-bayes-spam-lab/datasets/easy_ham/2092.c0125a6072f052e3096698b85fc3d1fd\n",
      "Searching ./course_dump/week08/day1_intro_to_bayesian_statistics/naive-bayes-spam-lab/datasets/easy_ham/0185.2ed7f65beefa89e31abb4fbc75c18956\n",
      "Searching ./course_dump/week08/day1_intro_to_bayesian_statistics/naive-bayes-spam-lab/datasets/easy_ham/2425.9cef8b6162d888cdb9d7af1f21e788f2\n",
      "Searching ./course_dump/week08/day1_intro_to_bayesian_statistics/naive-bayes-spam-lab/datasets/easy_ham/2182.7ea62c1f7694f7f4a9ee9d189bcf3155\n",
      "Searching ./course_dump/week08/day1_intro_to_bayesian_statistics/naive-bayes-spam-lab/datasets/easy_ham/2412.07ac8dd0d5031b11cf24b9f8949fe5f0\n",
      "Searching ./course_dump/week08/day1_intro_to_bayesian_statistics/naive-bayes-spam-lab/datasets/easy_ham/1248.8ce46227810a3ac37f9fc83a21242daf\n",
      "Searching ./course_dump/week08/day1_intro_to_bayesian_statistics/naive-bayes-spam-lab/datasets/easy_ham/0613.78f3bc8ff059d262ac436be34a962c6b\n",
      "Searching ./course_dump/week08/day1_intro_to_bayesian_statistics/naive-bayes-spam-lab/datasets/easy_ham/0225.80a615200726ed2da1bfd347dcfd648c\n",
      "Searching ./course_dump/week08/day1_intro_to_bayesian_statistics/naive-bayes-spam-lab/datasets/easy_ham/2387.84613a387b02e64a0950ebd372630739\n",
      "Searching ./course_dump/week08/day1_intro_to_bayesian_statistics/naive-bayes-spam-lab/datasets/easy_ham/1840.0adb46c649c37f8f26c46c6d1b0d8d93\n",
      "Searching ./course_dump/week08/day1_intro_to_bayesian_statistics/naive-bayes-spam-lab/datasets/easy_ham/1453.1089ed990307329cb4527b6835b2259c\n",
      "Searching ./course_dump/week08/day1_intro_to_bayesian_statistics/naive-bayes-spam-lab/datasets/easy_ham/1973.21f4b99039d60b759d1bb452dd5f6b46\n",
      "Searching ./course_dump/week08/day1_intro_to_bayesian_statistics/naive-bayes-spam-lab/datasets/easy_ham/0206.074e2d251c644abdbd8dab68d035e209\n",
      "Searching ./course_dump/week08/day1_intro_to_bayesian_statistics/naive-bayes-spam-lab/datasets/easy_ham/0756.9c7d7bcc51790af9b83192fe8d7f1f85\n",
      "Searching ./course_dump/week08/day1_intro_to_bayesian_statistics/naive-bayes-spam-lab/datasets/easy_ham/1899.008dec310f96f23c34bd577427554cf3\n",
      "Searching ./course_dump/week08/day1_intro_to_bayesian_statistics/naive-bayes-spam-lab/datasets/easy_ham/0878.24186e5267a8ec179a2e07f2da013932\n",
      "Searching ./course_dump/week08/day1_intro_to_bayesian_statistics/naive-bayes-spam-lab/datasets/easy_ham/0133.fe269b4e9538d5cb9907625c4b63dc2f\n",
      "Searching ./course_dump/week08/day1_intro_to_bayesian_statistics/naive-bayes-spam-lab/datasets/easy_ham/0113.55a6bf6a4534d447af2060b174c0d70a\n",
      "Searching ./course_dump/week08/day1_intro_to_bayesian_statistics/naive-bayes-spam-lab/datasets/easy_ham/1044.69004045b2942eac5b0136f672626f7a\n",
      "Searching ./course_dump/week08/day1_intro_to_bayesian_statistics/naive-bayes-spam-lab/datasets/easy_ham/2080.ab6696366fc705cbf1519da0d572e988\n",
      "Searching ./course_dump/week08/day1_intro_to_bayesian_statistics/naive-bayes-spam-lab/datasets/easy_ham/0244.82d1da61c4fd05691083eeb9886e0788\n",
      "Searching ./course_dump/week08/day1_intro_to_bayesian_statistics/naive-bayes-spam-lab/datasets/easy_ham/2283.d3fcca4cc0478a5b3cc83334479e703a\n",
      "Searching ./course_dump/week08/day1_intro_to_bayesian_statistics/naive-bayes-spam-lab/datasets/easy_ham/0141.911fa855ce043ee41b450e6a1b0096d0\n",
      "Searching ./course_dump/week08/day1_intro_to_bayesian_statistics/naive-bayes-spam-lab/datasets/easy_ham/0612.f6d6b7e1dc1e063f1fd95991aa452d05\n",
      "Searching ./course_dump/week08/day1_intro_to_bayesian_statistics/naive-bayes-spam-lab/datasets/easy_ham/1990.c01dffa98f203ef507e25ec37f4c413c\n",
      "Searching ./course_dump/week08/day1_intro_to_bayesian_statistics/naive-bayes-spam-lab/datasets/easy_ham/2541.892b976061b9ea684b9b3009d0b87dab\n",
      "Searching ./course_dump/week08/day1_intro_to_bayesian_statistics/naive-bayes-spam-lab/datasets/easy_ham/0669.2d5135216a15406b161ca553a4612b2b\n",
      "Searching ./course_dump/week08/day1_intro_to_bayesian_statistics/naive-bayes-spam-lab/datasets/easy_ham/1458.41929f2d84553fee75ee83a78d735972\n",
      "Searching ./course_dump/week08/day1_intro_to_bayesian_statistics/naive-bayes-spam-lab/datasets/easy_ham/1495.965bf18408e31d93d3fd256d2c6e8b64\n",
      "Searching ./course_dump/week08/day1_intro_to_bayesian_statistics/naive-bayes-spam-lab/datasets/easy_ham/2148.7cbb3ecf9ed0bfffb85941e87f49e501\n",
      "Searching ./course_dump/week08/day1_intro_to_bayesian_statistics/naive-bayes-spam-lab/datasets/easy_ham/1908.030d5fb106c7bbbc9491f92d9b64fd64\n",
      "Searching ./course_dump/week08/day1_intro_to_bayesian_statistics/naive-bayes-spam-lab/datasets/easy_ham/0621.feb00fa392669a54bc5602f927fbae12\n",
      "Searching ./course_dump/week08/day1_intro_to_bayesian_statistics/naive-bayes-spam-lab/datasets/easy_ham/1502.1376704c3bd9c110fe3a5d0768745d91\n",
      "Searching ./course_dump/week08/day1_intro_to_bayesian_statistics/naive-bayes-spam-lab/datasets/easy_ham/0844.6aab9e4919f6524f88591d6ef1e3f445\n",
      "Searching ./course_dump/week08/day1_intro_to_bayesian_statistics/naive-bayes-spam-lab/datasets/easy_ham/1535.92d5d08b41907f13b4553115c772506b\n",
      "Searching ./course_dump/week08/day1_intro_to_bayesian_statistics/naive-bayes-spam-lab/datasets/easy_ham/2282.0d102fad2c79a83bef590c669666f298\n",
      "Searching ./course_dump/week08/day1_intro_to_bayesian_statistics/naive-bayes-spam-lab/datasets/easy_ham/0673.1850e124a4ef3beb85071e67d7f8bf6d\n",
      "Searching ./course_dump/week08/day1_intro_to_bayesian_statistics/naive-bayes-spam-lab/datasets/easy_ham/0184.9006c74135af56c874879f0d45c1a689\n",
      "Searching ./course_dump/week08/day1_intro_to_bayesian_statistics/naive-bayes-spam-lab/datasets/easy_ham/0444.58dd409fb0fc0d853c6b9042560c6ae1\n",
      "Searching ./course_dump/week08/day1_intro_to_bayesian_statistics/naive-bayes-spam-lab/datasets/easy_ham/0823.3df96732430857f696c452a05d7cee94\n",
      "Searching ./course_dump/week08/day1_intro_to_bayesian_statistics/naive-bayes-spam-lab/datasets/easy_ham/1679.b783b8e80886ae5592280e655058813d\n"
     ]
    },
    {
     "name": "stdout",
     "output_type": "stream",
     "text": [
      "Searching ./course_dump/week08/day1_intro_to_bayesian_statistics/naive-bayes-spam-lab/datasets/easy_ham/0642.297a1718a1180f8419c4e4232d4c30b5\n",
      "Searching ./course_dump/week08/day1_intro_to_bayesian_statistics/naive-bayes-spam-lab/datasets/easy_ham/1255.471b16ac442ca5fd6e94eecf29582676\n",
      "Searching ./course_dump/week08/day1_intro_to_bayesian_statistics/naive-bayes-spam-lab/datasets/easy_ham/2279.3ed61b76cbe29d2ac01fea0a1c524d6e\n",
      "Searching ./course_dump/week08/day1_intro_to_bayesian_statistics/naive-bayes-spam-lab/datasets/easy_ham/2004.026ca4acaa07ff5fd9a5512393cded81\n",
      "Searching ./course_dump/week08/day1_intro_to_bayesian_statistics/naive-bayes-spam-lab/datasets/easy_ham/1318.d5b97eb2ad5aaa5b11c2c1ea00c34194\n",
      "Searching ./course_dump/week08/day1_intro_to_bayesian_statistics/naive-bayes-spam-lab/datasets/easy_ham/0464.9699fdf835af939a7e52e229a2d62d8d\n",
      "Searching ./course_dump/week08/day1_intro_to_bayesian_statistics/naive-bayes-spam-lab/datasets/easy_ham/0213.ee51a591f777be501b45101a6fe01776\n",
      "Searching ./course_dump/week08/day1_intro_to_bayesian_statistics/naive-bayes-spam-lab/datasets/easy_ham/0672.a8927156ce344160530dc0e918a42472\n",
      "Searching ./course_dump/week08/day1_intro_to_bayesian_statistics/naive-bayes-spam-lab/datasets/easy_ham/0826.082e92a79a15aa7f6dd5b85a40327abd\n",
      "Searching ./course_dump/week08/day1_intro_to_bayesian_statistics/naive-bayes-spam-lab/datasets/easy_ham/1029.cfdcc9c1ab54e77b18da7164b324178a\n",
      "Searching ./course_dump/week08/day1_intro_to_bayesian_statistics/naive-bayes-spam-lab/datasets/easy_ham/0915.50f33ca8972e7e8be40c70edb7c4be73\n",
      "Searching ./course_dump/week08/day1_intro_to_bayesian_statistics/naive-bayes-spam-lab/datasets/easy_ham/0589.8646984ed76a8df2811750d151f56b1e\n",
      "Searching ./course_dump/week08/day1_intro_to_bayesian_statistics/naive-bayes-spam-lab/datasets/easy_ham/0519.3a28a99fa8dd275d13742144dc05ff57\n",
      "Searching ./course_dump/week08/day1_intro_to_bayesian_statistics/naive-bayes-spam-lab/datasets/easy_ham/0953.31be50aa4dfd43d0f597afe9968977b7\n",
      "Searching ./course_dump/week08/day1_intro_to_bayesian_statistics/naive-bayes-spam-lab/datasets/easy_ham/1693.7f09ce3481097bd97b4962a24068465a\n",
      "Searching ./course_dump/week08/day1_intro_to_bayesian_statistics/naive-bayes-spam-lab/datasets/easy_ham/1557.ca393b0c2ccca10ee02981cf20cea52a\n",
      "Searching ./course_dump/week08/day1_intro_to_bayesian_statistics/naive-bayes-spam-lab/datasets/easy_ham/1435.450895e9e4b9c337afe2e04809840143\n",
      "Searching ./course_dump/week08/day1_intro_to_bayesian_statistics/naive-bayes-spam-lab/datasets/easy_ham/0401.9ab0bcc81e70d6930acfefc2854a0172\n",
      "Searching ./course_dump/week08/day1_intro_to_bayesian_statistics/naive-bayes-spam-lab/datasets/easy_ham/0406.9f6672caace4903c3d6180f2e95a3153\n",
      "Searching ./course_dump/week08/day1_intro_to_bayesian_statistics/naive-bayes-spam-lab/datasets/easy_ham/2189.c5d8814f90dfb50e7798be9c8b9bf2f8\n",
      "Searching ./course_dump/week08/day1_intro_to_bayesian_statistics/naive-bayes-spam-lab/datasets/easy_ham/1575.b4d0187663f37a4c6863e4aa2d594444\n",
      "Searching ./course_dump/week08/day1_intro_to_bayesian_statistics/naive-bayes-spam-lab/datasets/easy_ham/1113.13231f60c358f003d7a4ee9c678bcf66\n",
      "Searching ./course_dump/week08/day1_intro_to_bayesian_statistics/naive-bayes-spam-lab/datasets/easy_ham/0735.2739927d718aa07e0f3c1c32ee9a11e8\n",
      "Searching ./course_dump/week08/day1_intro_to_bayesian_statistics/naive-bayes-spam-lab/datasets/easy_ham/0759.063f18d8df64aaf029d8d9925828b52c\n",
      "Searching ./course_dump/week08/day1_intro_to_bayesian_statistics/naive-bayes-spam-lab/datasets/easy_ham/2059.69f72dcafe2f8c1b4ac35a6903c3ce95\n",
      "Searching ./course_dump/week08/day1_intro_to_bayesian_statistics/naive-bayes-spam-lab/datasets/easy_ham/0375.54d0a570b81851127b73cebb8741a2df\n",
      "Searching ./course_dump/week08/day1_intro_to_bayesian_statistics/naive-bayes-spam-lab/datasets/easy_ham/1824.33f28d80618a37469e4530603d6f8b5b\n",
      "Searching ./course_dump/week08/day1_intro_to_bayesian_statistics/naive-bayes-spam-lab/datasets/easy_ham/0414.06408c603660212989180dd086b0f460\n",
      "Searching ./course_dump/week08/day1_intro_to_bayesian_statistics/naive-bayes-spam-lab/datasets/easy_ham/2340.40c9d3c3940d1c4a9ec570ce144798d2\n",
      "Searching ./course_dump/week08/day1_intro_to_bayesian_statistics/naive-bayes-spam-lab/datasets/easy_ham/0585.b4410217f9fefbb9a9c18df5a4aa621a\n",
      "Searching ./course_dump/week08/day1_intro_to_bayesian_statistics/naive-bayes-spam-lab/datasets/easy_ham/1618.07459a459f6163e2dd40cbd207ee6ba5\n",
      "Searching ./course_dump/week08/day1_intro_to_bayesian_statistics/naive-bayes-spam-lab/datasets/easy_ham/1272.812e1f9e9143c336f6a351d8abf6fdc5\n",
      "Searching ./course_dump/week08/day1_intro_to_bayesian_statistics/naive-bayes-spam-lab/datasets/easy_ham/1142.a9639f4250d907e182cf4e3a41e4b636\n",
      "Searching ./course_dump/week08/day1_intro_to_bayesian_statistics/naive-bayes-spam-lab/datasets/easy_ham/0420.be62f32c2be92df5f22deacf5c399407\n",
      "Searching ./course_dump/week08/day1_intro_to_bayesian_statistics/naive-bayes-spam-lab/datasets/easy_ham/0798.120c7f5263021bbdf183e1e304ef4a44\n",
      "Searching ./course_dump/week08/day1_intro_to_bayesian_statistics/naive-bayes-spam-lab/datasets/easy_ham/0160.0040550972ece2c27ed01745f93b474b\n",
      "Searching ./course_dump/week08/day1_intro_to_bayesian_statistics/naive-bayes-spam-lab/datasets/easy_ham/2031.81bbf025232d0d1f70571c9169091565\n",
      "Searching ./course_dump/week08/day1_intro_to_bayesian_statistics/naive-bayes-spam-lab/datasets/easy_ham/0409.7fdf4f0f8aad0b0ad4654b10afae9225\n",
      "Searching ./course_dump/week08/day1_intro_to_bayesian_statistics/naive-bayes-spam-lab/datasets/easy_ham/1987.c891203fbc1f19431e30d96928aec430\n",
      "Searching ./course_dump/week08/day1_intro_to_bayesian_statistics/naive-bayes-spam-lab/datasets/easy_ham/0386.8c0d37a52e39414045665d969233d6eb\n",
      "Searching ./course_dump/week08/day1_intro_to_bayesian_statistics/naive-bayes-spam-lab/datasets/easy_ham/0765.7dc679a77d756d8404d793f18d307ffe\n",
      "Searching ./course_dump/week08/day1_intro_to_bayesian_statistics/naive-bayes-spam-lab/datasets/easy_ham/1162.0ac7999a1814c6e79d6da0f6fb8ec301\n",
      "Searching ./course_dump/week08/day1_intro_to_bayesian_statistics/naive-bayes-spam-lab/datasets/easy_ham/1695.647eca914347c9a615c5a1bd1453319b\n",
      "Searching ./course_dump/week08/day1_intro_to_bayesian_statistics/naive-bayes-spam-lab/datasets/easy_ham/1411.a455fcdcc40a1a29551cc0153a9450bf\n",
      "Searching ./course_dump/week08/day1_intro_to_bayesian_statistics/naive-bayes-spam-lab/datasets/easy_ham/0069.7173de1d2da14306c5a20e8abda7a6e2\n",
      "Searching ./course_dump/week08/day1_intro_to_bayesian_statistics/naive-bayes-spam-lab/datasets/easy_ham/1784.0e74974631f665395f5e6b01148b4bee\n",
      "Searching ./course_dump/week08/day1_intro_to_bayesian_statistics/naive-bayes-spam-lab/datasets/easy_ham/2170.78c282a5e417d6d231dc75aa8588ebb7\n",
      "Searching ./course_dump/week08/day1_intro_to_bayesian_statistics/naive-bayes-spam-lab/datasets/easy_ham/0505.724c1270fd6c1382c93cc208c05dc9dc\n",
      "Searching ./course_dump/week08/day1_intro_to_bayesian_statistics/naive-bayes-spam-lab/datasets/easy_ham/0005.8c3b9e9c0f3f183ddaf7592a11b99957\n",
      "Searching ./course_dump/week08/day1_intro_to_bayesian_statistics/naive-bayes-spam-lab/datasets/easy_ham/2488.8e2706d02807ec4fe59ebf7aaf77a1e7\n",
      "Searching ./course_dump/week08/day1_intro_to_bayesian_statistics/naive-bayes-spam-lab/datasets/easy_ham/2233.08aa00540e1347de9a335cc8aaf10c80\n",
      "Searching ./course_dump/week08/day1_intro_to_bayesian_statistics/naive-bayes-spam-lab/datasets/easy_ham/0715.6209671b4aec7159b71320b0c462ce8e\n",
      "Searching ./course_dump/week08/day1_intro_to_bayesian_statistics/naive-bayes-spam-lab/datasets/easy_ham/2160.51e6e82e73593cb2317ebea3b7301b65\n",
      "Searching ./course_dump/week08/day1_intro_to_bayesian_statistics/naive-bayes-spam-lab/datasets/easy_ham/0510.4c08a0b5d860b948679e50edc7220e02\n",
      "Searching ./course_dump/week08/day1_intro_to_bayesian_statistics/naive-bayes-spam-lab/datasets/easy_ham/0193.74f52046990258e5eb60e561dcd8c2fd\n",
      "Searching ./course_dump/week08/day1_intro_to_bayesian_statistics/naive-bayes-spam-lab/datasets/easy_ham/0758.84f1c5bbacc2184d06eb79e4c3a81552\n",
      "Searching ./course_dump/week08/day1_intro_to_bayesian_statistics/naive-bayes-spam-lab/datasets/easy_ham/0856.53c342f04272fa2b9c1f63829301e96b\n",
      "Searching ./course_dump/week08/day1_intro_to_bayesian_statistics/naive-bayes-spam-lab/datasets/easy_ham/1754.7cafcb2d9dcaadd665afabc65c267f36\n",
      "Searching ./course_dump/week08/day1_intro_to_bayesian_statistics/naive-bayes-spam-lab/datasets/easy_ham/2307.1dad26fc0f8a86b6ba5c8bcea78e1002\n",
      "Searching ./course_dump/week08/day1_intro_to_bayesian_statistics/naive-bayes-spam-lab/datasets/easy_ham/1620.4e348b4994896c22848d0b7bb8e8aedb\n",
      "Searching ./course_dump/week08/day1_intro_to_bayesian_statistics/naive-bayes-spam-lab/datasets/easy_ham/2480.d652d7fb8b29ab26269aa5668f3e0035\n",
      "Searching ./course_dump/week08/day1_intro_to_bayesian_statistics/naive-bayes-spam-lab/datasets/easy_ham/1352.dde8603b55106a1e7fe9508e972b24d2\n",
      "Searching ./course_dump/week08/day1_intro_to_bayesian_statistics/naive-bayes-spam-lab/datasets/easy_ham/2484.634d1d98cd2c7d4ae85bc5413c399c44\n",
      "Searching ./course_dump/week08/day1_intro_to_bayesian_statistics/naive-bayes-spam-lab/datasets/easy_ham/0766.41207e11478fa4b0f4747f635e0542c0\n",
      "Searching ./course_dump/week08/day1_intro_to_bayesian_statistics/naive-bayes-spam-lab/datasets/easy_ham/0223.a009cff7a913fae0e58d901e5e847a82\n",
      "Searching ./course_dump/week08/day1_intro_to_bayesian_statistics/naive-bayes-spam-lab/datasets/easy_ham/0599.dcd037ac7e916599160fc182080defe3\n"
     ]
    },
    {
     "name": "stdout",
     "output_type": "stream",
     "text": [
      "Searching ./course_dump/week08/day1_intro_to_bayesian_statistics/naive-bayes-spam-lab/datasets/easy_ham/0702.3612af1b8e5d8fcb512f20e4340530a7\n",
      "Searching ./course_dump/week08/day1_intro_to_bayesian_statistics/naive-bayes-spam-lab/datasets/easy_ham/2111.f1d55acfddf3a3b55f3d68002bf4cebe\n",
      "Searching ./course_dump/week08/day1_intro_to_bayesian_statistics/naive-bayes-spam-lab/datasets/easy_ham/0738.1a5a2f7c0b47ed1c9f7038706e7d5d01\n",
      "Searching ./course_dump/week08/day1_intro_to_bayesian_statistics/naive-bayes-spam-lab/datasets/easy_ham/1363.8c11ccc4af2f95df4bc78e6dacd96a73\n",
      "Searching ./course_dump/week08/day1_intro_to_bayesian_statistics/naive-bayes-spam-lab/datasets/easy_ham/0494.cd5e6c1b93cf9492002689b4ea2e8520\n",
      "Searching ./course_dump/week08/day1_intro_to_bayesian_statistics/naive-bayes-spam-lab/datasets/easy_ham/1093.b1db4ecf90ab3a08c60b551311c47ed0\n",
      "Searching ./course_dump/week08/day1_intro_to_bayesian_statistics/naive-bayes-spam-lab/datasets/easy_ham/0627.c9ad8730dad7bda1e1169ee00c4006fc\n",
      "Searching ./course_dump/week08/day1_intro_to_bayesian_statistics/naive-bayes-spam-lab/datasets/easy_ham/0151.4d1c8772327e44b20af6420e1d1c0a75\n",
      "Searching ./course_dump/week08/day1_intro_to_bayesian_statistics/naive-bayes-spam-lab/datasets/easy_ham/0834.36dab5acc512c15f3d6840b44e958b2a\n",
      "Searching ./course_dump/week08/day1_intro_to_bayesian_statistics/naive-bayes-spam-lab/datasets/easy_ham/1777.6bb054bf786bfbfeacc78dd1918ffbfa\n",
      "Searching ./course_dump/week08/day1_intro_to_bayesian_statistics/naive-bayes-spam-lab/datasets/easy_ham/1768.e849ebd7ee95f02a6f4d937acb7575e2\n",
      "Searching ./course_dump/week08/day1_intro_to_bayesian_statistics/naive-bayes-spam-lab/datasets/easy_ham/2479.a918c490f758e2421f35b66077f2699a\n",
      "Searching ./course_dump/week08/day1_intro_to_bayesian_statistics/naive-bayes-spam-lab/datasets/easy_ham/2020.453860b261d8451301e6eb518938cda5\n",
      "Searching ./course_dump/week08/day1_intro_to_bayesian_statistics/naive-bayes-spam-lab/datasets/easy_ham/0392.2763fc795021223f9cfc870a5ce0bc25\n",
      "Searching ./course_dump/week08/day1_intro_to_bayesian_statistics/naive-bayes-spam-lab/datasets/easy_ham/0754.3228129a4d3d1cd84b1577670488e72a\n",
      "Searching ./course_dump/week08/day1_intro_to_bayesian_statistics/naive-bayes-spam-lab/datasets/easy_ham/0142.bcc958dabbad574174becaa16334a7e6\n",
      "Searching ./course_dump/week08/day1_intro_to_bayesian_statistics/naive-bayes-spam-lab/datasets/easy_ham/2509.96e57ee2a1f9741a7d09e431f59bb049\n",
      "Searching ./course_dump/week08/day1_intro_to_bayesian_statistics/naive-bayes-spam-lab/datasets/easy_ham/2342.f3a2998bb86db89f22971aceca333a98\n",
      "Searching ./course_dump/week08/day1_intro_to_bayesian_statistics/naive-bayes-spam-lab/datasets/easy_ham/1114.3ee361561ee25d914e377dd8473a9cb6\n",
      "Searching ./course_dump/week08/day1_intro_to_bayesian_statistics/naive-bayes-spam-lab/datasets/easy_ham/1843.22ff82ab4b9265075924f41abe0460f7\n",
      "Searching ./course_dump/week08/day1_intro_to_bayesian_statistics/naive-bayes-spam-lab/datasets/easy_ham/1717.788ae3994073913e51498a96cd1d3662\n",
      "Searching ./course_dump/week08/day1_intro_to_bayesian_statistics/naive-bayes-spam-lab/datasets/easy_ham/0671.ea82754ba3b836e43d376b32c07b79f0\n",
      "Searching ./course_dump/week08/day1_intro_to_bayesian_statistics/naive-bayes-spam-lab/datasets/easy_ham/0950.11a0d8e3ec6c9a15acd578868f7508b0\n",
      "Searching ./course_dump/week08/day1_intro_to_bayesian_statistics/naive-bayes-spam-lab/datasets/easy_ham/2087.0bfbd54693a9c1b9898c96b430865d13\n",
      "Searching ./course_dump/week08/day1_intro_to_bayesian_statistics/naive-bayes-spam-lab/datasets/easy_ham/1902.3954c84ea238973e581494170bb9d1d8\n",
      "Searching ./course_dump/week08/day1_intro_to_bayesian_statistics/naive-bayes-spam-lab/datasets/easy_ham/0459.2c0709ef91a247c38217a7f881c26c42\n",
      "Searching ./course_dump/week08/day1_intro_to_bayesian_statistics/naive-bayes-spam-lab/datasets/easy_ham/0779.ec05ef8309cad3fd18a806c11c812bf1\n",
      "Searching ./course_dump/week08/day1_intro_to_bayesian_statistics/naive-bayes-spam-lab/datasets/easy_ham/0866.e437291998aab90004d6cde6eb85ea18\n",
      "Searching ./course_dump/week08/day1_intro_to_bayesian_statistics/naive-bayes-spam-lab/datasets/easy_ham/2445.631e9fa95e78d7f56fce09a4e6da56fd\n",
      "Searching ./course_dump/week08/day1_intro_to_bayesian_statistics/naive-bayes-spam-lab/datasets/easy_ham/0917.d223f4992983dd7eda98b30b60356046\n",
      "Searching ./course_dump/week08/day1_intro_to_bayesian_statistics/naive-bayes-spam-lab/datasets/easy_ham/2546.dd6480d3f87f7d525f797d17ac1a0bc8\n",
      "Searching ./course_dump/week08/day1_intro_to_bayesian_statistics/naive-bayes-spam-lab/datasets/easy_ham/0719.078bfec7d10d50405c5213fdcfe069f4\n",
      "Searching ./course_dump/week08/day1_intro_to_bayesian_statistics/naive-bayes-spam-lab/datasets/easy_ham/0241.f1989a8ee4ea188e90f3a5d4d40f4e36\n",
      "Searching ./course_dump/week08/day1_intro_to_bayesian_statistics/naive-bayes-spam-lab/datasets/easy_ham/1225.4ce87f5bbc885a3801a23cd692038c2e\n",
      "Searching ./course_dump/week08/day1_intro_to_bayesian_statistics/naive-bayes-spam-lab/datasets/easy_ham/1719.2b32c9b1de123d4084f9555e8bbfbfe1\n",
      "Searching ./course_dump/week08/day1_intro_to_bayesian_statistics/naive-bayes-spam-lab/datasets/easy_ham/2138.e9ae7c69cdbfec0ee85fe0248fbdbd69\n",
      "Searching ./course_dump/week08/day1_intro_to_bayesian_statistics/naive-bayes-spam-lab/datasets/easy_ham/1329.e3ef761ca36621fa1095cb6f942886c9\n",
      "Searching ./course_dump/week08/day1_intro_to_bayesian_statistics/naive-bayes-spam-lab/datasets/easy_ham/2373.477bdb5654c00761f3131016a6c4dbcd\n",
      "Searching ./course_dump/week08/day1_intro_to_bayesian_statistics/naive-bayes-spam-lab/datasets/easy_ham/1743.75e754f7e80ce9c9e26898513069d35f\n",
      "Searching ./course_dump/week08/day1_intro_to_bayesian_statistics/naive-bayes-spam-lab/datasets/easy_ham/0276.394eddb373972d985cabf6f63953a3d0\n",
      "Searching ./course_dump/week08/day1_intro_to_bayesian_statistics/naive-bayes-spam-lab/datasets/easy_ham/0502.9e78d7d003ceeef52c70ac7e7b786ef9\n",
      "Searching ./course_dump/week08/day1_intro_to_bayesian_statistics/naive-bayes-spam-lab/datasets/easy_ham/2422.92290ec1e364f69c42ee8b867601b9fc\n",
      "Searching ./course_dump/week08/day1_intro_to_bayesian_statistics/naive-bayes-spam-lab/datasets/easy_ham/0106.808c5e5ed0b801f667a34ead8221972e\n",
      "Searching ./course_dump/week08/day1_intro_to_bayesian_statistics/naive-bayes-spam-lab/datasets/easy_ham/1297.1a1fe868f3533a56ec611d93345d65e7\n",
      "Searching ./course_dump/week08/day1_intro_to_bayesian_statistics/naive-bayes-spam-lab/datasets/easy_ham/1236.4f668a267ed4bfb3c9038c638ee7258b\n",
      "Searching ./course_dump/week08/day1_intro_to_bayesian_statistics/naive-bayes-spam-lab/datasets/easy_ham/2273.87495068f6ba1084d30befc2913afacf\n",
      "Searching ./course_dump/week08/day1_intro_to_bayesian_statistics/naive-bayes-spam-lab/datasets/easy_ham/0398.d44804f613ef8d8ddd5ae7aa8329c1b0\n",
      "Searching ./course_dump/week08/day1_intro_to_bayesian_statistics/naive-bayes-spam-lab/datasets/easy_ham/2103.9b9673343881a5e554364e75ea4ebb33\n",
      "Searching ./course_dump/week08/day1_intro_to_bayesian_statistics/naive-bayes-spam-lab/datasets/easy_ham/0871.79be1926ade2b8fc591f9f51abf66224\n",
      "Searching ./course_dump/week08/day1_intro_to_bayesian_statistics/naive-bayes-spam-lab/datasets/easy_ham/2450.4eba9e73d4d29b754a60647748c9a2d9\n",
      "Searching ./course_dump/week08/day1_intro_to_bayesian_statistics/naive-bayes-spam-lab/datasets/easy_ham/2212.1f18dd012ff40c3be511acf583b72ad6\n",
      "Searching ./course_dump/week08/day1_intro_to_bayesian_statistics/naive-bayes-spam-lab/datasets/easy_ham/0145.7400cf6ab4cfe5ffeaab582c9730c656\n",
      "Searching ./course_dump/week08/day1_intro_to_bayesian_statistics/naive-bayes-spam-lab/datasets/easy_ham/0648.35cbc1bb7547966c1171f83d2312d4a9\n",
      "Searching ./course_dump/week08/day1_intro_to_bayesian_statistics/naive-bayes-spam-lab/datasets/easy_ham/1527.3fc7d5b03f0c34d1f51a55a0e10b8026\n",
      "Searching ./course_dump/week08/day1_intro_to_bayesian_statistics/naive-bayes-spam-lab/datasets/easy_ham/0718.68f8a85adbdadbd8959876992d001c5c\n",
      "Searching ./course_dump/week08/day1_intro_to_bayesian_statistics/naive-bayes-spam-lab/datasets/easy_ham/1106.e8f11a2a435c86f57edaf08a726bb72a\n",
      "Searching ./course_dump/week08/day1_intro_to_bayesian_statistics/naive-bayes-spam-lab/datasets/easy_ham/1506.df1d0b609d034c834e290e7e3732e392\n",
      "Searching ./course_dump/week08/day1_intro_to_bayesian_statistics/naive-bayes-spam-lab/datasets/easy_ham/0047.5c3e049737a2813d4ac6f13f02362fb1\n",
      "Searching ./course_dump/week08/day1_intro_to_bayesian_statistics/naive-bayes-spam-lab/datasets/easy_ham/0037.0c57a93c0241775d406efecf43ba19cf\n",
      "Searching ./course_dump/week08/day1_intro_to_bayesian_statistics/naive-bayes-spam-lab/datasets/easy_ham/2316.2d6bc229796fe7a7dd725fd7211374fe\n",
      "Searching ./course_dump/week08/day1_intro_to_bayesian_statistics/naive-bayes-spam-lab/datasets/easy_ham/0963.5c8f4d192ae6da76be5fcf3d63a7124e\n"
     ]
    },
    {
     "name": "stdout",
     "output_type": "stream",
     "text": [
      "Searching ./course_dump/week08/day1_intro_to_bayesian_statistics/naive-bayes-spam-lab/datasets/easy_ham/0434.0f6c124ba411ccbf48ed5ff2e19c4603\n",
      "Searching ./course_dump/week08/day1_intro_to_bayesian_statistics/naive-bayes-spam-lab/datasets/easy_ham/1070.08b260e66ee072ebac13b66969730352\n",
      "Searching ./course_dump/week08/day1_intro_to_bayesian_statistics/naive-bayes-spam-lab/datasets/easy_ham/2255.463dc21974a72556359d2f902e0ee54b\n",
      "Searching ./course_dump/week08/day1_intro_to_bayesian_statistics/naive-bayes-spam-lab/datasets/easy_ham/1499.37d7a1b89dcf94a9b123ad584c2fa149\n",
      "Searching ./course_dump/week08/day1_intro_to_bayesian_statistics/naive-bayes-spam-lab/datasets/easy_ham/0941.1277e2e301e3e7663705ffb922215395\n",
      "Searching ./course_dump/week08/day1_intro_to_bayesian_statistics/naive-bayes-spam-lab/datasets/easy_ham/1370.394569ba936fe18d6d9f2723e8c2d99f\n",
      "Searching ./course_dump/week08/day1_intro_to_bayesian_statistics/naive-bayes-spam-lab/datasets/easy_ham/2384.835c56e56932e88a89271d2d13df9a8c\n",
      "Searching ./course_dump/week08/day1_intro_to_bayesian_statistics/naive-bayes-spam-lab/datasets/easy_ham/0188.a7f061d0c2c0395922993a874d534dcb\n",
      "Searching ./course_dump/week08/day1_intro_to_bayesian_statistics/naive-bayes-spam-lab/datasets/easy_ham/2478.d8deadfe2c1d046587d57a1b03fff346\n",
      "Searching ./course_dump/week08/day1_intro_to_bayesian_statistics/naive-bayes-spam-lab/datasets/easy_ham/1863.bfe819f6abc823642064dc200a54be39\n",
      "Searching ./course_dump/week08/day1_intro_to_bayesian_statistics/naive-bayes-spam-lab/datasets/easy_ham/0429.507724a2bf64d0cfb77a9521b6e7c616\n",
      "Searching ./course_dump/week08/day1_intro_to_bayesian_statistics/naive-bayes-spam-lab/datasets/easy_ham/2268.f54fff69ebc455812e62859d5b305a6f\n",
      "Searching ./course_dump/week08/day1_intro_to_bayesian_statistics/naive-bayes-spam-lab/datasets/easy_ham/0850.37218bc58cdc1cf2502010a098c77965\n",
      "Searching ./course_dump/week08/day1_intro_to_bayesian_statistics/naive-bayes-spam-lab/datasets/easy_ham/1786.59383d91430d9cb58e7d0aa4e25b1320\n",
      "Searching ./course_dump/week08/day1_intro_to_bayesian_statistics/naive-bayes-spam-lab/datasets/easy_ham/0191.314e2f68086989044e631e347a03b979\n",
      "Searching ./course_dump/week08/day1_intro_to_bayesian_statistics/naive-bayes-spam-lab/datasets/easy_ham/0319.d519b69614d9182047e448e4d96db712\n",
      "Searching ./course_dump/week08/day1_intro_to_bayesian_statistics/naive-bayes-spam-lab/datasets/easy_ham/1211.84b0b651923557c12187ec32ed8d5c24\n",
      "Searching ./course_dump/week08/day1_intro_to_bayesian_statistics/naive-bayes-spam-lab/datasets/easy_ham/1992.3e5d0678bc7aea746e1303b40f3bb961\n",
      "Searching ./course_dump/week08/day1_intro_to_bayesian_statistics/naive-bayes-spam-lab/datasets/easy_ham/0275.42292c1f2e4d6db665ed49a551960b3b\n",
      "Searching ./course_dump/week08/day1_intro_to_bayesian_statistics/naive-bayes-spam-lab/datasets/easy_ham/2196.398bf8908844f5f3beb83f270f4bc198\n",
      "Searching ./course_dump/week08/day1_intro_to_bayesian_statistics/naive-bayes-spam-lab/datasets/easy_ham/2431.73b1c36d5c643ad44e91562f4063c197\n",
      "Searching ./course_dump/week08/day1_intro_to_bayesian_statistics/naive-bayes-spam-lab/datasets/easy_ham/0104.cbb1681451b2525d7aeec9eeb285306d\n",
      "Searching ./course_dump/week08/day1_intro_to_bayesian_statistics/naive-bayes-spam-lab/datasets/easy_ham/0725.2c1c01215a3c8c4936f8cfea181092d1\n",
      "Searching ./course_dump/week08/day1_intro_to_bayesian_statistics/naive-bayes-spam-lab/datasets/easy_ham/1037.1285e23706448e51cb9be399cd0546ed\n",
      "Searching ./course_dump/week08/day1_intro_to_bayesian_statistics/naive-bayes-spam-lab/datasets/easy_ham/1820.7b6864b6307973a30ec24e69fc4a466a\n",
      "Searching ./course_dump/week08/day1_intro_to_bayesian_statistics/naive-bayes-spam-lab/datasets/easy_ham/0465.e7cf144bbb6013653c38e838fd68f581\n",
      "Searching ./course_dump/week08/day1_intro_to_bayesian_statistics/naive-bayes-spam-lab/datasets/easy_ham/1191.f8b145ebabbd42450c292e448cf44f15\n",
      "Searching ./course_dump/week08/day1_intro_to_bayesian_statistics/naive-bayes-spam-lab/datasets/easy_ham/2006.65d9202fe457e8c8eb1510926632d148\n",
      "Searching ./course_dump/week08/day1_intro_to_bayesian_statistics/naive-bayes-spam-lab/datasets/easy_ham/1366.200cc41f250f28147c5db07ea933f26a\n",
      "Searching ./course_dump/week08/day1_intro_to_bayesian_statistics/naive-bayes-spam-lab/datasets/easy_ham/2363.33946657f5bd53e8453bfa83b58746ba\n",
      "Searching ./course_dump/week08/day1_intro_to_bayesian_statistics/naive-bayes-spam-lab/datasets/easy_ham/1965.974ec59d9cbc6bb705f5c3907d6a5b24\n",
      "Searching ./course_dump/week08/day1_intro_to_bayesian_statistics/naive-bayes-spam-lab/datasets/easy_ham/1882.b2b08c2869320b81591f1ca1f710b6a4\n",
      "Searching ./course_dump/week08/day1_intro_to_bayesian_statistics/naive-bayes-spam-lab/datasets/easy_ham/0883.1c07a9bc574c386fbd893edbb24ea4e6\n",
      "Searching ./course_dump/week08/day1_intro_to_bayesian_statistics/naive-bayes-spam-lab/datasets/easy_ham/0041.af4e0891f17484c10c032f713bce43de\n",
      "Searching ./course_dump/week08/day1_intro_to_bayesian_statistics/naive-bayes-spam-lab/datasets/easy_ham/1760.a57fd76dcafe47299543685aa2387d32\n",
      "Searching ./course_dump/week08/day1_intro_to_bayesian_statistics/naive-bayes-spam-lab/datasets/easy_ham/1351.c176f7e5d80492c34cad40bc9e939012\n",
      "Searching ./course_dump/week08/day1_intro_to_bayesian_statistics/naive-bayes-spam-lab/datasets/easy_ham/1543.d8b77b54627b605a9be40ba163b6dd70\n",
      "Searching ./course_dump/week08/day1_intro_to_bayesian_statistics/naive-bayes-spam-lab/datasets/easy_ham/0092.a1560d2416687b2db8204c2fa69163f2\n",
      "Searching ./course_dump/week08/day1_intro_to_bayesian_statistics/naive-bayes-spam-lab/datasets/easy_ham/1383.4e6c2c19a9c9ff985a966f06ea87ed76\n",
      "Searching ./course_dump/week08/day1_intro_to_bayesian_statistics/naive-bayes-spam-lab/datasets/easy_ham/1019.beedf67e23635b02918f624bae1cba33\n",
      "Searching ./course_dump/week08/day1_intro_to_bayesian_statistics/naive-bayes-spam-lab/datasets/easy_ham/1994.229d82d8a3ec1e099e6c8904faaaa32a\n",
      "Searching ./course_dump/week08/day1_intro_to_bayesian_statistics/naive-bayes-spam-lab/datasets/easy_ham/2336.a6a6cccc3cda00f9a557856368dce284\n",
      "Searching ./course_dump/week08/day1_intro_to_bayesian_statistics/naive-bayes-spam-lab/datasets/easy_ham/1997.3153cb4a5f2bc8052891b6d9e8bfceee\n",
      "Searching ./course_dump/week08/day1_intro_to_bayesian_statistics/naive-bayes-spam-lab/datasets/easy_ham/1583.11883906b08a91ecad2910a1e5d869e1\n",
      "Searching ./course_dump/week08/day1_intro_to_bayesian_statistics/naive-bayes-spam-lab/datasets/easy_ham/0453.783e494dbe429698f152a49c0ff0d719\n",
      "Searching ./course_dump/week08/day1_intro_to_bayesian_statistics/naive-bayes-spam-lab/datasets/easy_ham/1946.4cdca8955809890336b02e8a6b5a9b1e\n",
      "Searching ./course_dump/week08/day1_intro_to_bayesian_statistics/naive-bayes-spam-lab/datasets/easy_ham/1914.d2230228f70b1889cc9e23ac921bb969\n",
      "Searching ./course_dump/week08/day1_intro_to_bayesian_statistics/naive-bayes-spam-lab/datasets/easy_ham/2022.e161d62bc9d2e571e432b385a906097f\n",
      "Searching ./course_dump/week08/day1_intro_to_bayesian_statistics/naive-bayes-spam-lab/datasets/easy_ham/0242.a02f8a0ce9077130c10d33db2a16ec36\n",
      "Searching ./course_dump/week08/day1_intro_to_bayesian_statistics/naive-bayes-spam-lab/datasets/easy_ham/2174.ee8fcfba2ef21c8cc97429a9f9c31f2f\n",
      "Searching ./course_dump/week08/day1_intro_to_bayesian_statistics/naive-bayes-spam-lab/datasets/easy_ham/0419.baeaada19ebce19874d17d5ef73ced0d\n",
      "Searching ./course_dump/week08/day1_intro_to_bayesian_statistics/naive-bayes-spam-lab/datasets/easy_ham/1972.e109de76776dd3dffa5b5c34ae93b531\n",
      "Searching ./course_dump/week08/day1_intro_to_bayesian_statistics/naive-bayes-spam-lab/datasets/easy_ham/1541.1c5cac401a046fc68ba4594692631a41\n",
      "Searching ./course_dump/week08/day1_intro_to_bayesian_statistics/naive-bayes-spam-lab/datasets/easy_ham/1198.b0a1f43fd2c1b88883e597b6446e8ab1\n",
      "Searching ./course_dump/week08/day1_intro_to_bayesian_statistics/naive-bayes-spam-lab/datasets/easy_ham/1984.5c2851a21ec8effb64aed38a4d535616\n",
      "Searching ./course_dump/week08/day1_intro_to_bayesian_statistics/naive-bayes-spam-lab/datasets/easy_ham/0029.7119e865bff73aca46681d96a451cb60\n",
      "Searching ./course_dump/week08/day1_intro_to_bayesian_statistics/naive-bayes-spam-lab/datasets/easy_ham/0027.11da06d9130a188bf0ffb2060881dbe9\n",
      "Searching ./course_dump/week08/day1_intro_to_bayesian_statistics/naive-bayes-spam-lab/datasets/easy_ham/1764.1393ea887720c777d1429b07fce98ab4\n",
      "Searching ./course_dump/week08/day1_intro_to_bayesian_statistics/naive-bayes-spam-lab/datasets/easy_ham/2140.6fbc988095074138c040158b12948483\n",
      "Searching ./course_dump/week08/day1_intro_to_bayesian_statistics/naive-bayes-spam-lab/datasets/easy_ham/1300.1205d98fa8824ba6fcdf0b04f68d4baf\n",
      "Searching ./course_dump/week08/day1_intro_to_bayesian_statistics/naive-bayes-spam-lab/datasets/easy_ham/2352.9ef6a72d0d08983801d7f050fc243e1b\n",
      "Searching ./course_dump/week08/day1_intro_to_bayesian_statistics/naive-bayes-spam-lab/datasets/easy_ham/0001.ea7e79d3153e7469e7a9c3e0af6a357e\n",
      "Searching ./course_dump/week08/day1_intro_to_bayesian_statistics/naive-bayes-spam-lab/datasets/easy_ham/1576.9fc27f643c41595b2801b4b7962bd6c0\n",
      "Searching ./course_dump/week08/day1_intro_to_bayesian_statistics/naive-bayes-spam-lab/datasets/easy_ham/0511.7c59aca5d737ae0f1a94b8e08d5def67\n",
      "Searching ./course_dump/week08/day1_intro_to_bayesian_statistics/naive-bayes-spam-lab/datasets/easy_ham/0988.0743b9293ec2636dbc6065acd9b646fb\n"
     ]
    },
    {
     "name": "stdout",
     "output_type": "stream",
     "text": [
      "Searching ./course_dump/week08/day1_intro_to_bayesian_statistics/naive-bayes-spam-lab/datasets/easy_ham/0341.e8a70f3df9757b1df7d8e36de3e01b0d\n",
      "Searching ./course_dump/week08/day1_intro_to_bayesian_statistics/naive-bayes-spam-lab/datasets/easy_ham/0583.5165cf3ccd9404fade3014b0d00c97e6\n",
      "Searching ./course_dump/week08/day1_intro_to_bayesian_statistics/naive-bayes-spam-lab/datasets/easy_ham/1015.f399ba43c22e3fdb1a22261714062cbd\n",
      "Searching ./course_dump/week08/day1_intro_to_bayesian_statistics/naive-bayes-spam-lab/datasets/easy_ham/2401.4e7aed94d1a109b0b98f0d9e3f5fbde7\n",
      "Searching ./course_dump/week08/day1_intro_to_bayesian_statistics/naive-bayes-spam-lab/datasets/easy_ham/2177.e47377131d2204e0b6830211bd69ac40\n",
      "Searching ./course_dump/week08/day1_intro_to_bayesian_statistics/naive-bayes-spam-lab/datasets/easy_ham/1184.152999961bd0606fb0dcb6d6f95cc96d\n",
      "Searching ./course_dump/week08/day1_intro_to_bayesian_statistics/naive-bayes-spam-lab/datasets/easy_ham/2298.4cc2b00ffe4157b63358fadc3dfa689f\n",
      "Searching ./course_dump/week08/day1_intro_to_bayesian_statistics/naive-bayes-spam-lab/datasets/easy_ham/1781.8f5053b1fda58d8224b0fb4827413912\n",
      "Searching ./course_dump/week08/day1_intro_to_bayesian_statistics/naive-bayes-spam-lab/datasets/easy_ham/0523.ae1df35c0bf85f059e5a08b9b7453999\n",
      "Searching ./course_dump/week08/day1_intro_to_bayesian_statistics/naive-bayes-spam-lab/datasets/easy_ham/1692.56e3001bcfb5d947babc892cda37ab3d\n",
      "Searching ./course_dump/week08/day1_intro_to_bayesian_statistics/naive-bayes-spam-lab/datasets/easy_ham/1686.4b992ea5041794476920fc2199b18ac9\n",
      "Searching ./course_dump/week08/day1_intro_to_bayesian_statistics/naive-bayes-spam-lab/datasets/easy_ham/2505.550c8b2240659bb8bf54b17edea4a96b\n",
      "Searching ./course_dump/week08/day1_intro_to_bayesian_statistics/naive-bayes-spam-lab/datasets/easy_ham/1436.b6274330d7d8fd92eb9cfc2f999555cb\n",
      "Searching ./course_dump/week08/day1_intro_to_bayesian_statistics/naive-bayes-spam-lab/datasets/easy_ham/1212.b8a6ce9e2f0d2075ace38710d356c7af\n",
      "Searching ./course_dump/week08/day1_intro_to_bayesian_statistics/naive-bayes-spam-lab/datasets/easy_ham/1213.b121b45b8b82aab9b9c203d3bc49e384\n",
      "Searching ./course_dump/week08/day1_intro_to_bayesian_statistics/naive-bayes-spam-lab/datasets/easy_ham/2530.31d1d0691296d715441ab4e2890d3780\n",
      "Searching ./course_dump/week08/day1_intro_to_bayesian_statistics/naive-bayes-spam-lab/datasets/easy_ham/0381.040644bb43a533c43f40361bd1d35355\n",
      "Searching ./course_dump/week08/day1_intro_to_bayesian_statistics/naive-bayes-spam-lab/datasets/easy_ham/1220.e6eee9362673cdce393c0e2570328f28\n",
      "Searching ./course_dump/week08/day1_intro_to_bayesian_statistics/naive-bayes-spam-lab/datasets/easy_ham/0949.1cee872e94767b14f2211bf240ccb459\n",
      "Searching ./course_dump/week08/day1_intro_to_bayesian_statistics/naive-bayes-spam-lab/datasets/easy_ham/1219.c4cc23fc1dcc1809a3dc65c58fc51d65\n",
      "Searching ./course_dump/week08/day1_intro_to_bayesian_statistics/naive-bayes-spam-lab/datasets/easy_ham/1960.0b9004a526b1841630610c2baf33ac85\n",
      "Searching ./course_dump/week08/day1_intro_to_bayesian_statistics/naive-bayes-spam-lab/datasets/easy_ham/0831.0162ac7b4cc1c62fb35803bc4e8db70d\n",
      "Searching ./course_dump/week08/day1_intro_to_bayesian_statistics/naive-bayes-spam-lab/datasets/easy_ham/2118.760801b1fdfbae4456fa81a7c7316e2d\n",
      "Searching ./course_dump/week08/day1_intro_to_bayesian_statistics/naive-bayes-spam-lab/datasets/easy_ham/0694.81370eede2be95453ba67195c8619c60\n",
      "Searching ./course_dump/week08/day1_intro_to_bayesian_statistics/naive-bayes-spam-lab/datasets/easy_ham/2147.45f983522c770a6d369e6a992bdc2329\n",
      "Searching ./course_dump/week08/day1_intro_to_bayesian_statistics/naive-bayes-spam-lab/datasets/easy_ham/1716.fabf67851c347abee56594b9873b2d9a\n",
      "Searching ./course_dump/week08/day1_intro_to_bayesian_statistics/naive-bayes-spam-lab/datasets/easy_ham/0812.6169d140cd30064a857c2e3ad20b31c2\n",
      "Searching ./course_dump/week08/day1_intro_to_bayesian_statistics/naive-bayes-spam-lab/datasets/easy_ham/0258.f47b7f8872a17204171574c20fb546ab\n",
      "Searching ./course_dump/week08/day1_intro_to_bayesian_statistics/naive-bayes-spam-lab/datasets/easy_ham/2228.6a8e7296030921e6cc2cdbea41212577\n",
      "Searching ./course_dump/week08/day1_intro_to_bayesian_statistics/naive-bayes-spam-lab/datasets/easy_ham/1310.2e2ac50f5a9535c6727c5d8a44f0ebda\n",
      "Searching ./course_dump/week08/day1_intro_to_bayesian_statistics/naive-bayes-spam-lab/datasets/easy_ham/0697.19351a0b5670fb30cc1a2c9eed90a26b\n",
      "Searching ./course_dump/week08/day1_intro_to_bayesian_statistics/naive-bayes-spam-lab/datasets/easy_ham/0870.e7254d91187938f2f0b2fa1ff117f822\n",
      "Searching ./course_dump/week08/day1_intro_to_bayesian_statistics/naive-bayes-spam-lab/datasets/easy_ham/0320.6c54ea1bb991c6fae395588219cfce37\n",
      "Searching ./course_dump/week08/day1_intro_to_bayesian_statistics/naive-bayes-spam-lab/datasets/easy_ham/1304.10546e3c5e1352134ff26c0e49f72864\n",
      "Searching ./course_dump/week08/day1_intro_to_bayesian_statistics/naive-bayes-spam-lab/datasets/easy_ham/0736.0c8647e849c1d900b6af3a6c7024752d\n",
      "Searching ./course_dump/week08/day1_intro_to_bayesian_statistics/naive-bayes-spam-lab/datasets/easy_ham/1365.83f365382e725776956f137a4600117e\n",
      "Searching ./course_dump/week08/day1_intro_to_bayesian_statistics/naive-bayes-spam-lab/datasets/easy_ham/0139.4a3f2cb7efe7318e1ed9b698d1d4a1db\n",
      "Searching ./course_dump/week08/day1_intro_to_bayesian_statistics/naive-bayes-spam-lab/datasets/easy_ham/1083.cd4daaf03a683446a6c47fdc2c5eda7e\n",
      "Searching ./course_dump/week08/day1_intro_to_bayesian_statistics/naive-bayes-spam-lab/datasets/easy_ham/2029.5b449b4f31033db259423df004da2e00\n",
      "Searching ./course_dump/week08/day1_intro_to_bayesian_statistics/naive-bayes-spam-lab/datasets/easy_ham/0520.db2ae930623e1db4c9cf60676f96c4e5\n",
      "Searching ./course_dump/week08/day1_intro_to_bayesian_statistics/naive-bayes-spam-lab/datasets/easy_ham/2243.513e9282cb2d858393bc959ff81100e6\n",
      "Searching ./course_dump/week08/day1_intro_to_bayesian_statistics/naive-bayes-spam-lab/datasets/easy_ham/1078.f47613951afe10b6b663ee4e16816072\n",
      "Searching ./course_dump/week08/day1_intro_to_bayesian_statistics/naive-bayes-spam-lab/datasets/easy_ham/1175.64ee4ff0daf4a24fff53583ad2648bc2\n",
      "Searching ./course_dump/week08/day1_intro_to_bayesian_statistics/naive-bayes-spam-lab/datasets/easy_ham/0006.ee8b0dba12856155222be180ba122058\n",
      "Searching ./course_dump/week08/day1_intro_to_bayesian_statistics/naive-bayes-spam-lab/datasets/easy_ham/0566.97120c2bc957702e0e1606025799951e\n",
      "Searching ./course_dump/week08/day1_intro_to_bayesian_statistics/naive-bayes-spam-lab/datasets/easy_ham/1848.46a467858b1369e9513a8a369a67a70b\n",
      "Searching ./course_dump/week08/day1_intro_to_bayesian_statistics/naive-bayes-spam-lab/datasets/easy_ham/0251.f9d83ac9ced9eab63df7da2bccb83bc8\n",
      "Searching ./course_dump/week08/day1_intro_to_bayesian_statistics/naive-bayes-spam-lab/datasets/easy_ham/1309.a63c188095d5f70604ec9c3a5f96ce0e\n",
      "Searching ./course_dump/week08/day1_intro_to_bayesian_statistics/naive-bayes-spam-lab/datasets/easy_ham/0970.f10c0a8d0caea18d4fe49bef77099b7e\n",
      "Searching ./course_dump/week08/day1_intro_to_bayesian_statistics/naive-bayes-spam-lab/datasets/easy_ham/0637.2eadb44dff5eb5df1615ff5e826bc69e\n",
      "Searching ./course_dump/week08/day1_intro_to_bayesian_statistics/naive-bayes-spam-lab/datasets/easy_ham/0056.6ac9eb23e2ef6c7e7eabc3fb0ac3038a\n",
      "Searching ./course_dump/week08/day1_intro_to_bayesian_statistics/naive-bayes-spam-lab/datasets/easy_ham/1120.bec3610a9fcdb3cf5c74d9e60bfbfa1d\n",
      "Searching ./course_dump/week08/day1_intro_to_bayesian_statistics/naive-bayes-spam-lab/datasets/easy_ham/2010.7f0408659307f6d8856726681ac95337\n",
      "Searching ./course_dump/week08/day1_intro_to_bayesian_statistics/naive-bayes-spam-lab/datasets/easy_ham/0582.adc6095d8af63a380672cfd1e881a586\n",
      "Searching ./course_dump/week08/day1_intro_to_bayesian_statistics/naive-bayes-spam-lab/datasets/easy_ham/1291.971dfb411b0cf9d2536772d1f62e3a4c\n",
      "Searching ./course_dump/week08/day1_intro_to_bayesian_statistics/naive-bayes-spam-lab/datasets/easy_ham/1286.02bd8e853e68affa8f7d5fda314b4bd4\n",
      "Searching ./course_dump/week08/day1_intro_to_bayesian_statistics/naive-bayes-spam-lab/datasets/easy_ham/0078.8481bc92aa3ab9d23ca30c0eaecfc5e4\n",
      "Searching ./course_dump/week08/day1_intro_to_bayesian_statistics/naive-bayes-spam-lab/datasets/easy_ham/1748.f61b77d47c074402d1ee5976e9a4fd7d\n",
      "Searching ./course_dump/week08/day1_intro_to_bayesian_statistics/naive-bayes-spam-lab/datasets/easy_ham/2025.d02c808f704b98db9eff4b691ad7265d\n",
      "Searching ./course_dump/week08/day1_intro_to_bayesian_statistics/naive-bayes-spam-lab/datasets/easy_ham/2523.7b5518a502b8a309e42770179d71626c\n",
      "Searching ./course_dump/week08/day1_intro_to_bayesian_statistics/naive-bayes-spam-lab/datasets/easy_ham/0604.5ce333fc713b6c6f85386d8be149c1b4\n",
      "Searching ./course_dump/week08/day1_intro_to_bayesian_statistics/naive-bayes-spam-lab/datasets/easy_ham/2073.c141c0e2fb130f861a8eb1414d297b08\n",
      "Searching ./course_dump/week08/day1_intro_to_bayesian_statistics/naive-bayes-spam-lab/datasets/easy_ham/2354.3aef377f043267a660f4795f3560507f\n",
      "Searching ./course_dump/week08/day1_intro_to_bayesian_statistics/naive-bayes-spam-lab/datasets/easy_ham/1065.966bd4583cf8a6dcd4d8dcfe20120041\n",
      "Searching ./course_dump/week08/day1_intro_to_bayesian_statistics/naive-bayes-spam-lab/datasets/easy_ham/1503.f1fc48f16902a097113fa60aaeb35245\n"
     ]
    },
    {
     "name": "stdout",
     "output_type": "stream",
     "text": [
      "Searching ./course_dump/week08/day1_intro_to_bayesian_statistics/naive-bayes-spam-lab/datasets/easy_ham/1125.32b3964c09cb6a90f69b0631171283e3\n",
      "Searching ./course_dump/week08/day1_intro_to_bayesian_statistics/naive-bayes-spam-lab/datasets/easy_ham/0506.8ebe39ef91080b2445bef0118d7c9b0c\n",
      "Searching ./course_dump/week08/day1_intro_to_bayesian_statistics/naive-bayes-spam-lab/datasets/easy_ham/0783.0d6a8bdec2d44f848cebb2e00e930f1a\n",
      "Searching ./course_dump/week08/day1_intro_to_bayesian_statistics/naive-bayes-spam-lab/datasets/easy_ham/1551.8d00d37ef39bf157ccbc2eeeea811ece\n",
      "Searching ./course_dump/week08/day1_intro_to_bayesian_statistics/naive-bayes-spam-lab/datasets/easy_ham/0379.c363b44b5543959823a61e9d7c1a7252\n",
      "Searching ./course_dump/week08/day1_intro_to_bayesian_statistics/naive-bayes-spam-lab/datasets/easy_ham/1254.d6a2581736fbaa0dec1593effdfc9af4\n",
      "Searching ./course_dump/week08/day1_intro_to_bayesian_statistics/naive-bayes-spam-lab/datasets/easy_ham/0926.927a96948e055489893b88ba752c7fae\n",
      "Searching ./course_dump/week08/day1_intro_to_bayesian_statistics/naive-bayes-spam-lab/datasets/easy_ham/2109.094078fcb88b4e1fa5eb9fc67ba998bc\n",
      "Searching ./course_dump/week08/day1_intro_to_bayesian_statistics/naive-bayes-spam-lab/datasets/easy_ham/0651.28519f3986ee75e6f2ccb5e51995a875\n",
      "Searching ./course_dump/week08/day1_intro_to_bayesian_statistics/naive-bayes-spam-lab/datasets/easy_ham/0891.44f5cad6f0dfa66277e1a0aec55e7bf6\n",
      "Searching ./course_dump/week08/day1_intro_to_bayesian_statistics/naive-bayes-spam-lab/datasets/easy_ham/1510.ce7b07a2114218dbac682b599785820d\n",
      "Searching ./course_dump/week08/day1_intro_to_bayesian_statistics/naive-bayes-spam-lab/datasets/easy_ham/2069.b54234bb10a912c9846378026d37ece9\n",
      "Searching ./course_dump/week08/day1_intro_to_bayesian_statistics/naive-bayes-spam-lab/datasets/easy_ham/1881.7a4b4e4c68a852fb5fb5876ec76899ab\n",
      "Searching ./course_dump/week08/day1_intro_to_bayesian_statistics/naive-bayes-spam-lab/datasets/easy_ham/1514.e01ad8fa7bcb36e969c838578051d684\n",
      "Searching ./course_dump/week08/day1_intro_to_bayesian_statistics/naive-bayes-spam-lab/datasets/easy_ham/0745.3e54df3c4f199b6b8aed76eefd11c660\n",
      "Searching ./course_dump/week08/day1_intro_to_bayesian_statistics/naive-bayes-spam-lab/datasets/easy_ham/1437.8bf8819fa24490f892b73ba41821d950\n",
      "Searching ./course_dump/week08/day1_intro_to_bayesian_statistics/naive-bayes-spam-lab/datasets/easy_ham/0801.d432213b6f824b0542ce97ae154a15c8\n",
      "Searching ./course_dump/week08/day1_intro_to_bayesian_statistics/naive-bayes-spam-lab/datasets/easy_ham/0022.7241da4491c49b50c0470a3638ee35c4\n",
      "Searching ./course_dump/week08/day1_intro_to_bayesian_statistics/naive-bayes-spam-lab/datasets/easy_ham/1009.7c9b90533c1766f51b93cb4c940d7317\n",
      "Searching ./course_dump/week08/day1_intro_to_bayesian_statistics/naive-bayes-spam-lab/datasets/easy_ham/1041.c96194d26968c693aca4f4ef5f4a6a61\n",
      "Searching ./course_dump/week08/day1_intro_to_bayesian_statistics/naive-bayes-spam-lab/datasets/easy_ham/0300.2e30b3bffb4f2887df203c197d11e936\n",
      "Searching ./course_dump/week08/day1_intro_to_bayesian_statistics/naive-bayes-spam-lab/datasets/easy_ham/0222.160c5b2e2a80f71367b4d9a47f8f9d4e\n",
      "Searching ./course_dump/week08/day1_intro_to_bayesian_statistics/naive-bayes-spam-lab/datasets/easy_ham/1596.313021ceff8185c1fad0d2d8d9e2342b\n",
      "Searching ./course_dump/week08/day1_intro_to_bayesian_statistics/naive-bayes-spam-lab/datasets/easy_ham/1798.5914721a121b85cfdc0e39bf4b4e8970\n",
      "Searching ./course_dump/week08/day1_intro_to_bayesian_statistics/naive-bayes-spam-lab/datasets/easy_ham/2467.5c3cff250c85a50dd75b0b9e1ffaac3f\n",
      "Searching ./course_dump/week08/day1_intro_to_bayesian_statistics/naive-bayes-spam-lab/datasets/easy_ham/0761.e0096025fc83e5704a05d505cf96cca5\n",
      "Searching ./course_dump/week08/day1_intro_to_bayesian_statistics/naive-bayes-spam-lab/datasets/easy_ham/0338.b09f1384db1376a00e1c885adf9a1e05\n",
      "Searching ./course_dump/week08/day1_intro_to_bayesian_statistics/naive-bayes-spam-lab/datasets/easy_ham/0504.0e89cec7d885514336483e016e07ccec\n",
      "Searching ./course_dump/week08/day1_intro_to_bayesian_statistics/naive-bayes-spam-lab/datasets/easy_ham/2417.ac9300f260df31bebda16e48e81ffa41\n",
      "Searching ./course_dump/week08/day1_intro_to_bayesian_statistics/naive-bayes-spam-lab/datasets/easy_ham/2411.debe2dcb9f09b73d42f985bdd7913bb6\n",
      "Searching ./course_dump/week08/day1_intro_to_bayesian_statistics/naive-bayes-spam-lab/datasets/easy_ham/1726.dcd76e312ad123a4882c12b77f0b92c3\n",
      "Searching ./course_dump/week08/day1_intro_to_bayesian_statistics/naive-bayes-spam-lab/datasets/easy_ham/2185.5721c1192a54c646cdfe02998e5fbae3\n",
      "Searching ./course_dump/week08/day1_intro_to_bayesian_statistics/naive-bayes-spam-lab/datasets/easy_ham/2056.0fd1b3fc03eea7295b13b1a8ba785ce5\n",
      "Searching ./course_dump/week08/day1_intro_to_bayesian_statistics/naive-bayes-spam-lab/datasets/easy_ham/1115.e88f46679ef431c8b88cafdd3d21b8ac\n",
      "Searching ./course_dump/week08/day1_intro_to_bayesian_statistics/naive-bayes-spam-lab/datasets/easy_ham/0262.4b1558b6e0d2e4edd9e8bed23afb9d40\n",
      "Searching ./course_dump/week08/day1_intro_to_bayesian_statistics/naive-bayes-spam-lab/datasets/easy_ham/1200.9409eddf74ede560b5e33ce381d9a00a\n",
      "Searching ./course_dump/week08/day1_intro_to_bayesian_statistics/naive-bayes-spam-lab/datasets/easy_ham/0581.b249b5db741f2691a42653eab71795fe\n",
      "Searching ./course_dump/week08/day1_intro_to_bayesian_statistics/naive-bayes-spam-lab/datasets/easy_ham/2437.35d0ef84e97135b9bbc945193344c307\n",
      "Searching ./course_dump/week08/day1_intro_to_bayesian_statistics/naive-bayes-spam-lab/datasets/easy_ham/2214.d6f07108378ad8df9560f54e148dfd4f\n",
      "Searching ./course_dump/week08/day1_intro_to_bayesian_statistics/naive-bayes-spam-lab/datasets/easy_ham/1292.2f4d5b454214579535ccc3831f2fb37a\n",
      "Searching ./course_dump/week08/day1_intro_to_bayesian_statistics/naive-bayes-spam-lab/datasets/easy_ham/1647.e868de6866be80866e13b1660d95537c\n",
      "Searching ./course_dump/week08/day1_intro_to_bayesian_statistics/naive-bayes-spam-lab/datasets/easy_ham/1683.f2844e0cae274ae1be662d38631cd0c8\n",
      "Searching ./course_dump/week08/day1_intro_to_bayesian_statistics/naive-bayes-spam-lab/datasets/easy_ham/1143.aabb3e2c8b41d8aa5f02c1dc00a0a8a2\n",
      "Searching ./course_dump/week08/day1_intro_to_bayesian_statistics/naive-bayes-spam-lab/datasets/easy_ham/0153.f78ed3d22e441ab7bd6d006323a83621\n",
      "Searching ./course_dump/week08/day1_intro_to_bayesian_statistics/naive-bayes-spam-lab/datasets/easy_ham/1473.e93e78909cb4c5fb6092e767671be761\n",
      "Searching ./course_dump/week08/day1_intro_to_bayesian_statistics/naive-bayes-spam-lab/datasets/easy_ham/0682.d34b905308dfbc89c0175ffcd5646113\n",
      "Searching ./course_dump/week08/day1_intro_to_bayesian_statistics/naive-bayes-spam-lab/datasets/easy_ham/1373.1be55997fc239abb638116534d32e94a\n",
      "Searching ./course_dump/week08/day1_intro_to_bayesian_statistics/naive-bayes-spam-lab/datasets/easy_ham/1873.ca66981e04ecb411738d47442a3aedaf\n",
      "Searching ./course_dump/week08/day1_intro_to_bayesian_statistics/naive-bayes-spam-lab/datasets/easy_ham/1724.fd2c1f2000f8b5b8042872435656619d\n",
      "Searching ./course_dump/week08/day1_intro_to_bayesian_statistics/naive-bayes-spam-lab/datasets/easy_ham/1694.597f15f5a0b581adc3126199cc7ed066\n",
      "Searching ./course_dump/week08/day1_intro_to_bayesian_statistics/naive-bayes-spam-lab/datasets/easy_ham/0269.5a74b38284c7e9d85338eca0a25cb191\n",
      "Searching ./course_dump/week08/day1_intro_to_bayesian_statistics/naive-bayes-spam-lab/datasets/easy_ham/1153.7b47e0e617c7b0c1e9f3acc37588a890\n",
      "Searching ./course_dump/week08/day1_intro_to_bayesian_statistics/naive-bayes-spam-lab/datasets/easy_ham/0038.f2ffa1197c969d067be4d01c26fa9b5e\n",
      "Searching ./course_dump/week08/day1_intro_to_bayesian_statistics/naive-bayes-spam-lab/datasets/easy_ham/1673.be7fb2decb75d04a65ef85f30f678060\n",
      "Searching ./course_dump/week08/day1_intro_to_bayesian_statistics/naive-bayes-spam-lab/datasets/easy_ham/1540.e6859a3f2b7d4347f84df81b2398ae58\n",
      "Searching ./course_dump/week08/day1_intro_to_bayesian_statistics/naive-bayes-spam-lab/datasets/easy_ham/1221.a0bef61f14f60b8a74f76f6a20651731\n",
      "Searching ./course_dump/week08/day1_intro_to_bayesian_statistics/naive-bayes-spam-lab/datasets/easy_ham/0933.60c6d3ae44d1762d461652d5d0ccb285\n",
      "Searching ./course_dump/week08/day1_intro_to_bayesian_statistics/naive-bayes-spam-lab/datasets/easy_ham/0662.edbb54c8f940c4cf54b4a61e930691d7\n",
      "Searching ./course_dump/week08/day1_intro_to_bayesian_statistics/naive-bayes-spam-lab/datasets/easy_ham/1834.48b91fabd8e14b220898d3daef4ff0b1\n",
      "Searching ./course_dump/week08/day1_intro_to_bayesian_statistics/naive-bayes-spam-lab/datasets/easy_ham/0163.1aff5d9dc36e51a0b43f1c31c4d5b28c\n"
     ]
    },
    {
     "name": "stdout",
     "output_type": "stream",
     "text": [
      "Searching ./course_dump/week08/day1_intro_to_bayesian_statistics/naive-bayes-spam-lab/datasets/easy_ham/2086.4fa0d1182b0415c0ff3ec5313f2612cd\n",
      "Searching ./course_dump/week08/day1_intro_to_bayesian_statistics/naive-bayes-spam-lab/datasets/easy_ham/2084.94bb62299cb34413917b4d85a6fea315\n",
      "Searching ./course_dump/week08/day1_intro_to_bayesian_statistics/naive-bayes-spam-lab/datasets/easy_ham/1896.4dd6d65470c53453c52754a130999d10\n",
      "Searching ./course_dump/week08/day1_intro_to_bayesian_statistics/naive-bayes-spam-lab/datasets/easy_ham/1468.b214bf3ffdffb1c95702580a58ae9aea\n",
      "Searching ./course_dump/week08/day1_intro_to_bayesian_statistics/naive-bayes-spam-lab/datasets/easy_ham/2181.3f950d2c7e806d81476ecbd529759d0e\n",
      "Searching ./course_dump/week08/day1_intro_to_bayesian_statistics/naive-bayes-spam-lab/datasets/easy_ham/1799.70dc9da58ada190c2c66f34986636594\n",
      "Searching ./course_dump/week08/day1_intro_to_bayesian_statistics/naive-bayes-spam-lab/datasets/easy_ham/1087.512badc5c555eb050c83ceb7faef9b61\n",
      "Searching ./course_dump/week08/day1_intro_to_bayesian_statistics/naive-bayes-spam-lab/datasets/easy_ham/1090.9fda543ea022ae10968dd56d2c710b9d\n",
      "Searching ./course_dump/week08/day1_intro_to_bayesian_statistics/naive-bayes-spam-lab/datasets/easy_ham/0577.7297b06fde913833e96aca4385826c29\n",
      "Searching ./course_dump/week08/day1_intro_to_bayesian_statistics/naive-bayes-spam-lab/datasets/easy_ham/0789.3dfa0525c97f1a875fc55edcbc71422c\n",
      "Searching ./course_dump/week08/day1_intro_to_bayesian_statistics/naive-bayes-spam-lab/datasets/easy_ham/1197.d2b11de4c8eb13e1fcc1d444665d0d1c\n",
      "Searching ./course_dump/week08/day1_intro_to_bayesian_statistics/naive-bayes-spam-lab/datasets/easy_ham/0689.0b105c87d5d0ac5638013457882d917b\n",
      "Searching ./course_dump/week08/day1_intro_to_bayesian_statistics/naive-bayes-spam-lab/datasets/easy_ham/2164.1a46ee8b5542d762cb2f364fe48207ae\n",
      "Searching ./course_dump/week08/day1_intro_to_bayesian_statistics/naive-bayes-spam-lab/datasets/easy_ham/0508.4f7509bdf6a597ddb34f15df3bf2c227\n",
      "Searching ./course_dump/week08/day1_intro_to_bayesian_statistics/naive-bayes-spam-lab/datasets/easy_ham/0643.2c10d49ca3fc564fd6993c1504b7de1a\n",
      "Searching ./course_dump/week08/day1_intro_to_bayesian_statistics/naive-bayes-spam-lab/datasets/easy_ham/1613.19c5758c67f8ba03cd7412c56c979390\n",
      "Searching ./course_dump/week08/day1_intro_to_bayesian_statistics/naive-bayes-spam-lab/datasets/easy_ham/1610.adfdd3cbb3bad46220490cf0d9c26396\n",
      "Searching ./course_dump/week08/day1_intro_to_bayesian_statistics/naive-bayes-spam-lab/datasets/easy_ham/1321.a524e96163e61358635db777ca978d0e\n",
      "Searching ./course_dump/week08/day1_intro_to_bayesian_statistics/naive-bayes-spam-lab/datasets/easy_ham/1382.91f90e365d7046c57789061a27cf62cf\n",
      "Searching ./course_dump/week08/day1_intro_to_bayesian_statistics/naive-bayes-spam-lab/datasets/easy_ham/0174.a916896b6119d1b8a138dfbbeeee7fa1\n",
      "Searching ./course_dump/week08/day1_intro_to_bayesian_statistics/naive-bayes-spam-lab/datasets/easy_ham/1501.5c83f8ccf80ccff0b82b04a8e09d69ec\n",
      "Searching ./course_dump/week08/day1_intro_to_bayesian_statistics/naive-bayes-spam-lab/datasets/easy_ham/2207.cd15ad8e0e79e05ea58995dcb9d84eec\n",
      "Searching ./course_dump/week08/day1_intro_to_bayesian_statistics/naive-bayes-spam-lab/datasets/easy_ham/2311.bb14a70f28038ba499c3deea13275460\n",
      "Searching ./course_dump/week08/day1_intro_to_bayesian_statistics/naive-bayes-spam-lab/datasets/easy_ham/0792.aed10efc4504d5991f7894ffbd496ab4\n",
      "Searching ./course_dump/week08/day1_intro_to_bayesian_statistics/naive-bayes-spam-lab/datasets/easy_ham/1160.7ee82d03d42b984ccc3ec82e26077e95\n",
      "Searching ./course_dump/week08/day1_intro_to_bayesian_statistics/naive-bayes-spam-lab/datasets/easy_ham/2206.533117a0e7f5c975be45c7ccdc006d86\n",
      "Searching ./course_dump/week08/day1_intro_to_bayesian_statistics/naive-bayes-spam-lab/datasets/easy_ham/0077.dc5578862c0e716ee82e78b0dffbc8d2\n",
      "Searching ./course_dump/week08/day1_intro_to_bayesian_statistics/naive-bayes-spam-lab/datasets/easy_ham/1465.1bb092b8dafbc6290d3884172d0d49c7\n",
      "Searching ./course_dump/week08/day1_intro_to_bayesian_statistics/naive-bayes-spam-lab/datasets/easy_ham/1928.3a8d4a589532c26762138d711aac81f0\n",
      "Searching ./course_dump/week08/day1_intro_to_bayesian_statistics/naive-bayes-spam-lab/datasets/easy_ham/2454.927f352b226246d7bca7badfc2d7aa50\n",
      "Searching ./course_dump/week08/day1_intro_to_bayesian_statistics/naive-bayes-spam-lab/datasets/easy_ham/1182.3156d66c268869ee74f080a7c7523be8\n",
      "Searching ./course_dump/week08/day1_intro_to_bayesian_statistics/naive-bayes-spam-lab/datasets/easy_ham/0784.ef6fd2c8cbdbfd6e8b95db4658190bb6\n",
      "Searching ./course_dump/week08/day1_intro_to_bayesian_statistics/naive-bayes-spam-lab/datasets/easy_ham/1156.526d3b7c28d6e06d2672f8d9058d5e93\n",
      "Searching ./course_dump/week08/day1_intro_to_bayesian_statistics/naive-bayes-spam-lab/datasets/easy_ham/0901.9f7871c3213d421e802debe94f33b09e\n",
      "Searching ./course_dump/week08/day1_intro_to_bayesian_statistics/naive-bayes-spam-lab/datasets/easy_ham/1803.03a577fc11e0a5121098e0dc83c97d6c\n",
      "Searching ./course_dump/week08/day1_intro_to_bayesian_statistics/naive-bayes-spam-lab/datasets/easy_ham/0683.782e26a57d2ef6f0d8f9e82b658563e0\n",
      "Searching ./course_dump/week08/day1_intro_to_bayesian_statistics/naive-bayes-spam-lab/datasets/easy_ham/1194.ee628dd00ae3eea31232d0e78a39c9b2\n",
      "Searching ./course_dump/week08/day1_intro_to_bayesian_statistics/naive-bayes-spam-lab/datasets/easy_ham/1736.9ae2cf6f768fe1d218ddb61cea78e523\n",
      "Searching ./course_dump/week08/day1_intro_to_bayesian_statistics/naive-bayes-spam-lab/datasets/easy_ham/1480.ea8e1a4bb0cfd66e9f04c4f3c1c3379e\n",
      "Searching ./course_dump/week08/day1_intro_to_bayesian_statistics/naive-bayes-spam-lab/datasets/easy_ham/0437.b5837ab1d2b764157464b0557b4aad93\n",
      "Searching ./course_dump/week08/day1_intro_to_bayesian_statistics/naive-bayes-spam-lab/datasets/easy_ham/1375.2a62b057a9e7fa1cffc53cb60af4cd32\n",
      "Searching ./course_dump/week08/day1_intro_to_bayesian_statistics/naive-bayes-spam-lab/datasets/easy_ham/0154.9e065ee6214360e43b9873e39880159e\n",
      "Searching ./course_dump/week08/day1_intro_to_bayesian_statistics/naive-bayes-spam-lab/datasets/easy_ham/1484.b12cd10a9234dd4c294f93ba7b3944d4\n",
      "Searching ./course_dump/week08/day1_intro_to_bayesian_statistics/naive-bayes-spam-lab/datasets/easy_ham/0431.26f19fa47fab85e813b1aba8ff6139d6\n",
      "Searching ./course_dump/week08/day1_intro_to_bayesian_statistics/naive-bayes-spam-lab/datasets/easy_ham/1263.b8e6ea5b6f483ce15f2194bed93b6b29\n",
      "Searching ./course_dump/week08/day1_intro_to_bayesian_statistics/naive-bayes-spam-lab/datasets/easy_ham/2215.a3624a6a4e9a63e73a4bece8302538bb\n",
      "Searching ./course_dump/week08/day1_intro_to_bayesian_statistics/naive-bayes-spam-lab/datasets/easy_ham/0833.8b8a773585ed6039efda26f9923a2913\n",
      "Searching ./course_dump/week08/day1_intro_to_bayesian_statistics/naive-bayes-spam-lab/datasets/easy_ham/0156.3d3293a5da919cf65959e6bd63feaf27\n",
      "Searching ./course_dump/week08/day1_intro_to_bayesian_statistics/naive-bayes-spam-lab/datasets/easy_ham/0623.548822dc41bd6d1d7b5896c185874a5f\n",
      "Searching ./course_dump/week08/day1_intro_to_bayesian_statistics/naive-bayes-spam-lab/datasets/easy_ham/1095.60cfb65a74ce7c100cb31a7fbada7520\n",
      "Searching ./course_dump/week08/day1_intro_to_bayesian_statistics/naive-bayes-spam-lab/datasets/easy_ham/2428.d0ebfd677cd78292f198d292d4cb61c4\n",
      "Searching ./course_dump/week08/day1_intro_to_bayesian_statistics/naive-bayes-spam-lab/datasets/easy_ham/2438.a99d09c02269744f20cb1ee2cbbe2728\n",
      "Searching ./course_dump/week08/day1_intro_to_bayesian_statistics/naive-bayes-spam-lab/datasets/easy_ham/1959.27ef2109bcf0f706c42a4977db5f0dc8\n",
      "Searching ./course_dump/week08/day1_intro_to_bayesian_statistics/naive-bayes-spam-lab/datasets/easy_ham/0692.06fd7c0113c3a271483073ec9f102c53\n",
      "Searching ./course_dump/week08/day1_intro_to_bayesian_statistics/naive-bayes-spam-lab/datasets/easy_ham/0232.12e1f1709e19a9dcd8a0bc051ceeb2c4\n",
      "Searching ./course_dump/week08/day1_intro_to_bayesian_statistics/naive-bayes-spam-lab/datasets/easy_ham/1253.fb48d5c703a0ab8144c54d42db32c641\n",
      "Searching ./course_dump/week08/day1_intro_to_bayesian_statistics/naive-bayes-spam-lab/datasets/easy_ham/0308.5c3218cf2a6260c6178cbea1b9e345f7\n",
      "Searching ./course_dump/week08/day1_intro_to_bayesian_statistics/naive-bayes-spam-lab/datasets/easy_ham/0085.1a80e2b1720bd5cbeb900554a5477d0b\n"
     ]
    },
    {
     "name": "stdout",
     "output_type": "stream",
     "text": [
      "Searching ./course_dump/week08/day1_intro_to_bayesian_statistics/naive-bayes-spam-lab/datasets/easy_ham/0021.f8e73bdba7277d967af4d561f0402129\n",
      "Searching ./course_dump/week08/day1_intro_to_bayesian_statistics/naive-bayes-spam-lab/datasets/easy_ham/1256.53bfb1e9b31d6cf24a29203610bc28b2\n",
      "Searching ./course_dump/week08/day1_intro_to_bayesian_statistics/naive-bayes-spam-lab/datasets/easy_ham/1862.9f36557559ed64908479a42411c17b4b\n",
      "Searching ./course_dump/week08/day1_intro_to_bayesian_statistics/naive-bayes-spam-lab/datasets/easy_ham/1488.6694aa49b517656806a631deeb8f89a8\n",
      "Searching ./course_dump/week08/day1_intro_to_bayesian_statistics/naive-bayes-spam-lab/datasets/easy_ham/0533.adb2f50e664e9db319a7e802c862ba31\n",
      "Searching ./course_dump/week08/day1_intro_to_bayesian_statistics/naive-bayes-spam-lab/datasets/easy_ham/2247.56a0de186cb216277810d65d4abca57f\n",
      "Searching ./course_dump/week08/day1_intro_to_bayesian_statistics/naive-bayes-spam-lab/datasets/easy_ham/1045.d3795766f46aafeb8dbe1375fad0ca5c\n",
      "Searching ./course_dump/week08/day1_intro_to_bayesian_statistics/naive-bayes-spam-lab/datasets/easy_ham/1700.5c99dfbb4caa577151e510bab9e018e4\n",
      "Searching ./course_dump/week08/day1_intro_to_bayesian_statistics/naive-bayes-spam-lab/datasets/easy_ham/1018.2533f2c820fcf490638969e5504102dd\n",
      "Searching ./course_dump/week08/day1_intro_to_bayesian_statistics/naive-bayes-spam-lab/datasets/easy_ham/0364.558e46276655a18fd2be3beb81c945c1\n",
      "Searching ./course_dump/week08/day1_intro_to_bayesian_statistics/naive-bayes-spam-lab/datasets/easy_ham/0144.150618690d46b8b2207c8a27ca5ab837\n",
      "Searching ./course_dump/week08/day1_intro_to_bayesian_statistics/naive-bayes-spam-lab/datasets/easy_ham/1795.3349a6670b58d2a39307e87ae0012294\n",
      "Searching ./course_dump/week08/day1_intro_to_bayesian_statistics/naive-bayes-spam-lab/datasets/easy_ham/1339.57de97732c190bf4575276eb054e0e79\n",
      "Searching ./course_dump/week08/day1_intro_to_bayesian_statistics/naive-bayes-spam-lab/datasets/easy_ham/0665.92e4e88458a94d0f02cfa34985127107\n",
      "Searching ./course_dump/week08/day1_intro_to_bayesian_statistics/naive-bayes-spam-lab/datasets/easy_ham/1074.3f586c8b4870fb60157afbad2e076b17\n",
      "Searching ./course_dump/week08/day1_intro_to_bayesian_statistics/naive-bayes-spam-lab/datasets/easy_ham/0273.b76b7b918548a82372b04341746503e7\n",
      "Searching ./course_dump/week08/day1_intro_to_bayesian_statistics/naive-bayes-spam-lab/datasets/easy_ham/0265.84c034d3d76a3d069732c02e1101fe23\n",
      "Searching ./course_dump/week08/day1_intro_to_bayesian_statistics/naive-bayes-spam-lab/datasets/easy_ham/2535.4d4a1eed6617e6df7c1a5d4ac7d368a2\n",
      "Searching ./course_dump/week08/day1_intro_to_bayesian_statistics/naive-bayes-spam-lab/datasets/easy_ham/0064.7160290efcb7320ac8852369a695bcaf\n",
      "Searching ./course_dump/week08/day1_intro_to_bayesian_statistics/naive-bayes-spam-lab/datasets/easy_ham/0846.c64497babd4cafa18571fd484fd44e9d\n",
      "Searching ./course_dump/week08/day1_intro_to_bayesian_statistics/naive-bayes-spam-lab/datasets/easy_ham/1445.57f9856f348cda1656331372731701eb\n",
      "Searching ./course_dump/week08/day1_intro_to_bayesian_statistics/naive-bayes-spam-lab/datasets/easy_ham/0328.dd38a12b955002695e7a0ec81129b043\n",
      "Searching ./course_dump/week08/day1_intro_to_bayesian_statistics/naive-bayes-spam-lab/datasets/easy_ham/0011.07b11073b53634cff892a7988289a72e\n",
      "Searching ./course_dump/week08/day1_intro_to_bayesian_statistics/naive-bayes-spam-lab/datasets/easy_ham/2145.c986f253379064227829b00592359c15\n",
      "Searching ./course_dump/week08/day1_intro_to_bayesian_statistics/naive-bayes-spam-lab/datasets/easy_ham/1572.6b71d37ef29a804f1b0b65b90eee0d0e\n",
      "Searching ./course_dump/week08/day1_intro_to_bayesian_statistics/naive-bayes-spam-lab/datasets/easy_ham/0443.9a9e4c025d607ce0c5d103c02ca3c178\n",
      "Searching ./course_dump/week08/day1_intro_to_bayesian_statistics/naive-bayes-spam-lab/datasets/easy_ham/1271.1af7c90a1459165ff18d621de40239c5\n",
      "Searching ./course_dump/week08/day1_intro_to_bayesian_statistics/naive-bayes-spam-lab/datasets/easy_ham/0343.6e7c6e5766528e1cf49b6dfb904b8182\n",
      "Searching ./course_dump/week08/day1_intro_to_bayesian_statistics/naive-bayes-spam-lab/datasets/easy_ham/2162.98dd059bc733c48b26e52ba59cdbe574\n",
      "Searching ./course_dump/week08/day1_intro_to_bayesian_statistics/naive-bayes-spam-lab/datasets/easy_ham/1161.9bcd69bccfeb05378e3e36fa62b16f7d\n",
      "Searching ./course_dump/week08/day1_intro_to_bayesian_statistics/naive-bayes-spam-lab/datasets/easy_ham/0152.10d3220188413990b1deb862c509c818\n",
      "Searching ./course_dump/week08/day1_intro_to_bayesian_statistics/naive-bayes-spam-lab/datasets/easy_ham/0279.42cd63d15451f9b7dbe750ea896ed78b\n",
      "Searching ./course_dump/week08/day1_intro_to_bayesian_statistics/naive-bayes-spam-lab/datasets/easy_ham/0226.aafb7854f8f17e90f7e5e5f99c54e76e\n",
      "Searching ./course_dump/week08/day1_intro_to_bayesian_statistics/naive-bayes-spam-lab/datasets/easy_ham/2430.07f067ef6e156d06699718e8927d58d2\n",
      "Searching ./course_dump/week08/day1_intro_to_bayesian_statistics/naive-bayes-spam-lab/datasets/easy_ham/1419.21567426907fe2711bcb2cbff50a46e8\n",
      "Searching ./course_dump/week08/day1_intro_to_bayesian_statistics/naive-bayes-spam-lab/datasets/easy_ham/1053.d961ccf25520c4e5cd4bd25b5dd08647\n",
      "Searching ./course_dump/week08/day1_intro_to_bayesian_statistics/naive-bayes-spam-lab/datasets/easy_ham/1648.feab1eecf41d21e438b3658a5ab15f80\n",
      "Searching ./course_dump/week08/day1_intro_to_bayesian_statistics/naive-bayes-spam-lab/datasets/easy_ham/0776.a9eef2414831a611b294174f440c77ea\n",
      "Searching ./course_dump/week08/day1_intro_to_bayesian_statistics/naive-bayes-spam-lab/datasets/easy_ham/1323.b8406cf8686ef1e3c1ac2ffb69f6ce40\n",
      "Searching ./course_dump/week08/day1_intro_to_bayesian_statistics/naive-bayes-spam-lab/datasets/easy_ham/2204.10ad821cb53a4ab7f04e6cce9a711874\n",
      "Searching ./course_dump/week08/day1_intro_to_bayesian_statistics/naive-bayes-spam-lab/datasets/easy_ham/1624.d73f5a35be403b0532263e72ccdab448\n",
      "Searching ./course_dump/week08/day1_intro_to_bayesian_statistics/naive-bayes-spam-lab/datasets/easy_ham/0636.e678baa8a0acb4e6b95c11f37d7541b0\n",
      "Searching ./course_dump/week08/day1_intro_to_bayesian_statistics/naive-bayes-spam-lab/datasets/easy_ham/2496.b8dd0beb971f9a82a8cdebf562f8dc1f\n",
      "Searching ./course_dump/week08/day1_intro_to_bayesian_statistics/naive-bayes-spam-lab/datasets/easy_ham/1129.50af16cc80052d1d25f28edcd3d1f439\n",
      "Searching ./course_dump/week08/day1_intro_to_bayesian_statistics/naive-bayes-spam-lab/datasets/easy_ham/0742.65f3bb623bd6a6e49a9d1e0f9ee66279\n",
      "Searching ./course_dump/week08/day1_intro_to_bayesian_statistics/naive-bayes-spam-lab/datasets/easy_ham/1084.c773b581863827faac61d6727562dc54\n",
      "Searching ./course_dump/week08/day1_intro_to_bayesian_statistics/naive-bayes-spam-lab/datasets/easy_ham/2511.1982adbc74d9a84a5ff8db7e7c722028\n",
      "Searching ./course_dump/week08/day1_intro_to_bayesian_statistics/naive-bayes-spam-lab/datasets/easy_ham/1710.d0eb0dff243846772b43c3b6e377b2be\n",
      "Searching ./course_dump/week08/day1_intro_to_bayesian_statistics/naive-bayes-spam-lab/datasets/easy_ham/1544.011827fa2f89828e83bae7f6995576df\n",
      "Searching ./course_dump/week08/day1_intro_to_bayesian_statistics/naive-bayes-spam-lab/datasets/easy_ham/2461.20f3b1b3e7e2bd1bd6a016f9f09374d3\n",
      "Searching ./course_dump/week08/day1_intro_to_bayesian_statistics/naive-bayes-spam-lab/datasets/easy_ham/2183.ebea6267d5822c2f0c3f82556ea3c438\n",
      "Searching ./course_dump/week08/day1_intro_to_bayesian_statistics/naive-bayes-spam-lab/datasets/easy_ham/1307.e200557eef5893f75746c1876b337152\n",
      "Searching ./course_dump/week08/day1_intro_to_bayesian_statistics/naive-bayes-spam-lab/datasets/easy_ham/2157.f89b3083fea3eaceabba7a30ca82369a\n",
      "Searching ./course_dump/week08/day1_intro_to_bayesian_statistics/naive-bayes-spam-lab/datasets/easy_ham/1689.5a669baf8c4fe834e29840d6e6bfd443\n",
      "Searching ./course_dump/week08/day1_intro_to_bayesian_statistics/naive-bayes-spam-lab/datasets/easy_ham/0157.18c5e181c72acfc3a501a82907e58a59\n",
      "Searching ./course_dump/week08/day1_intro_to_bayesian_statistics/naive-bayes-spam-lab/datasets/easy_ham/0452.3121141cfedff2994e3c2db2249dd6c7\n",
      "Searching ./course_dump/week08/day1_intro_to_bayesian_statistics/naive-bayes-spam-lab/datasets/easy_ham/1431.dbd1ebf9ac8e49dd42b0ee206a8d309c\n",
      "Searching ./course_dump/week08/day1_intro_to_bayesian_statistics/naive-bayes-spam-lab/datasets/easy_ham/2193.8220cdccae38ad8e4984999416bc3c92\n",
      "Searching ./course_dump/week08/day1_intro_to_bayesian_statistics/naive-bayes-spam-lab/datasets/easy_ham/1927.40edefd2f8ca788645da340d2e2a1502\n",
      "Searching ./course_dump/week08/day1_intro_to_bayesian_statistics/naive-bayes-spam-lab/datasets/easy_ham/0146.2d301a1e07672538d669f5e571180d32\n",
      "Searching ./course_dump/week08/day1_intro_to_bayesian_statistics/naive-bayes-spam-lab/datasets/easy_ham/1311.1b2aa5b1599ab89a91f09ef1f1dc9989\n",
      "Searching ./course_dump/week08/day1_intro_to_bayesian_statistics/naive-bayes-spam-lab/datasets/easy_ham/1907.511fe95273f35d03c3262d815daacc4c\n",
      "Searching ./course_dump/week08/day1_intro_to_bayesian_statistics/naive-bayes-spam-lab/datasets/easy_ham/1342.6770473802a7dc7ab14a212f95573c15\n",
      "Searching ./course_dump/week08/day1_intro_to_bayesian_statistics/naive-bayes-spam-lab/datasets/easy_ham/0626.190b1e937ba59bffd08f6acaee61417d\n",
      "Searching ./course_dump/week08/day1_intro_to_bayesian_statistics/naive-bayes-spam-lab/datasets/easy_ham/2380.106606551f4a5c1e0065eeb0f3a331a2\n",
      "Searching ./course_dump/week08/day1_intro_to_bayesian_statistics/naive-bayes-spam-lab/datasets/easy_ham/1654.1ed94c5f40b704e5b4977c0c595a31ee\n"
     ]
    },
    {
     "name": "stdout",
     "output_type": "stream",
     "text": [
      "Searching ./course_dump/week08/day1_intro_to_bayesian_statistics/naive-bayes-spam-lab/datasets/easy_ham/1262.6826573e4fe12221d02721aa9817da24\n",
      "Searching ./course_dump/week08/day1_intro_to_bayesian_statistics/naive-bayes-spam-lab/datasets/easy_ham/1393.5464ef1fa4caa53c28737e607e2bee31\n",
      "Searching ./course_dump/week08/day1_intro_to_bayesian_statistics/naive-bayes-spam-lab/datasets/easy_ham/1472.817651cadec68cf13d9b23d336825269\n",
      "Searching ./course_dump/week08/day1_intro_to_bayesian_statistics/naive-bayes-spam-lab/datasets/easy_ham/0918.2de8c6d8251d30c06be407bd701bb412\n",
      "Searching ./course_dump/week08/day1_intro_to_bayesian_statistics/naive-bayes-spam-lab/datasets/easy_ham/2489.b76d126a6aef85219a4ac8d6df5f4963\n",
      "Searching ./course_dump/week08/day1_intro_to_bayesian_statistics/naive-bayes-spam-lab/datasets/easy_ham/0161.5703ef6933a7f189ab48da12a925f5e4\n",
      "Searching ./course_dump/week08/day1_intro_to_bayesian_statistics/naive-bayes-spam-lab/datasets/easy_ham/2375.5faad60d386ab68428e38cb8d24e2c67\n",
      "Searching ./course_dump/week08/day1_intro_to_bayesian_statistics/naive-bayes-spam-lab/datasets/easy_ham/0544.6498586c31db44aac98902ffc6cee696\n",
      "Searching ./course_dump/week08/day1_intro_to_bayesian_statistics/naive-bayes-spam-lab/datasets/easy_ham/0595.2e433fbc3ba01f085d54b39e4b695a62\n",
      "Searching ./course_dump/week08/day1_intro_to_bayesian_statistics/naive-bayes-spam-lab/datasets/easy_ham/1995.fa031be950098e730d0c0c1cbaf756e7\n",
      "Searching ./course_dump/week08/day1_intro_to_bayesian_statistics/naive-bayes-spam-lab/datasets/easy_ham/1240.cd4dbc60dd0c19e65f2e36f098462793\n",
      "Searching ./course_dump/week08/day1_intro_to_bayesian_statistics/naive-bayes-spam-lab/datasets/easy_ham/0093.0c71febfdf6f3acbc4d0c76b777a8530\n",
      "Searching ./course_dump/week08/day1_intro_to_bayesian_statistics/naive-bayes-spam-lab/datasets/easy_ham/1417.cc31f571d364ed7214cdcc48917f97f4\n",
      "Searching ./course_dump/week08/day1_intro_to_bayesian_statistics/naive-bayes-spam-lab/datasets/easy_ham/1985.3eca383d64f3229f8d70bf6f344b2d95\n",
      "Searching ./course_dump/week08/day1_intro_to_bayesian_statistics/naive-bayes-spam-lab/datasets/easy_ham/0246.3422f94c01ebd283ffac23522268f3f8\n",
      "Searching ./course_dump/week08/day1_intro_to_bayesian_statistics/naive-bayes-spam-lab/datasets/easy_ham/1919.cf8a285d68ba4ce64b50b5b463a80808\n",
      "Searching ./course_dump/week08/day1_intro_to_bayesian_statistics/naive-bayes-spam-lab/datasets/easy_ham/1957.0fd661cae9ba750c8d2005ca5f5f2075\n",
      "Searching ./course_dump/week08/day1_intro_to_bayesian_statistics/naive-bayes-spam-lab/datasets/easy_ham/2324.65b1fb56947693e7618b40f57c49c61b\n",
      "Searching ./course_dump/week08/day1_intro_to_bayesian_statistics/naive-bayes-spam-lab/datasets/easy_ham/2395.670f023abb4c213102c48d9b2d1963f5\n",
      "Searching ./course_dump/week08/day1_intro_to_bayesian_statistics/naive-bayes-spam-lab/datasets/easy_ham/2525.9559a3f0d4d17d33379acdf5bf356435\n",
      "Searching ./course_dump/week08/day1_intro_to_bayesian_statistics/naive-bayes-spam-lab/datasets/easy_ham/1929.fa582e5442852bbe2cf2e0ff990bfbc5\n",
      "Searching ./course_dump/week08/day1_intro_to_bayesian_statistics/naive-bayes-spam-lab/datasets/easy_ham/1775.dd744a40e87e0715cd0153fef3a63a99\n",
      "Searching ./course_dump/week08/day1_intro_to_bayesian_statistics/naive-bayes-spam-lab/datasets/easy_ham/1788.26beacaa0fa03cb6199c57b8a99a2852\n",
      "Searching ./course_dump/week08/day1_intro_to_bayesian_statistics/naive-bayes-spam-lab/datasets/easy_ham/0797.b6a29c752d725a91f6edb2a46fa21be6\n",
      "Searching ./course_dump/week08/day1_intro_to_bayesian_statistics/naive-bayes-spam-lab/datasets/easy_ham/1522.3f4e272c9d12eb60b890f0dd065e650b\n",
      "Searching ./course_dump/week08/day1_intro_to_bayesian_statistics/naive-bayes-spam-lab/datasets/easy_ham/0310.e43b2f0e48c428fa52100f29a9e0d5ac\n",
      "Searching ./course_dump/week08/day1_intro_to_bayesian_statistics/naive-bayes-spam-lab/datasets/easy_ham/2216.bb6066e5acc2a423eb7515a665dc1a64\n",
      "Searching ./course_dump/week08/day1_intro_to_bayesian_statistics/naive-bayes-spam-lab/datasets/easy_ham/1676.63b01735cee30cb278549725c0955728\n",
      "Searching ./course_dump/week08/day1_intro_to_bayesian_statistics/naive-bayes-spam-lab/datasets/easy_ham/0477.b7958d4d9cb312c16965859705826a7e\n",
      "Searching ./course_dump/week08/day1_intro_to_bayesian_statistics/naive-bayes-spam-lab/datasets/easy_ham/1057.3f02467f2419b7400e5afa8c8df961de\n",
      "Searching ./course_dump/week08/day1_intro_to_bayesian_statistics/naive-bayes-spam-lab/datasets/easy_ham/2353.20ff0a748f861a24c0e3ba224bad267a\n",
      "Searching ./course_dump/week08/day1_intro_to_bayesian_statistics/naive-bayes-spam-lab/datasets/easy_ham/1408.c202263092b223a607078977ed7aa6c3\n",
      "Searching ./course_dump/week08/day1_intro_to_bayesian_statistics/naive-bayes-spam-lab/datasets/easy_ham/0564.d200fee3d675d75d79f14c8308d631d1\n",
      "Searching ./course_dump/week08/day1_intro_to_bayesian_statistics/naive-bayes-spam-lab/datasets/easy_ham/0707.bf65d1743592ac78606c57cea2908866\n",
      "Searching ./course_dump/week08/day1_intro_to_bayesian_statistics/naive-bayes-spam-lab/datasets/easy_ham/2441.8b6ac53af9cab970afa13ff99ecaf8da\n",
      "Searching ./course_dump/week08/day1_intro_to_bayesian_statistics/naive-bayes-spam-lab/datasets/easy_ham/1452.81f3e3d1b40f978cd3c0125e7020dd17\n",
      "Searching ./course_dump/week08/day1_intro_to_bayesian_statistics/naive-bayes-spam-lab/datasets/easy_ham/0186.5abf85594c3b8c40a105eed1154569ed\n",
      "Searching ./course_dump/week08/day1_intro_to_bayesian_statistics/naive-bayes-spam-lab/datasets/easy_ham/1998.25f428334e65c83e59f238ef6e90ab85\n",
      "Searching ./course_dump/week08/day1_intro_to_bayesian_statistics/naive-bayes-spam-lab/datasets/easy_ham/0479.0af91f2b2adbdfb00edf424dfeedfdaf\n",
      "Searching ./course_dump/week08/day1_intro_to_bayesian_statistics/naive-bayes-spam-lab/datasets/easy_ham/1388.48788e5ee763c1cc1320a5bd2fc41ea4\n",
      "Searching ./course_dump/week08/day1_intro_to_bayesian_statistics/naive-bayes-spam-lab/datasets/easy_ham/1434.a626ce397e7a295eea36a996cdaa5f40\n",
      "Searching ./course_dump/week08/day1_intro_to_bayesian_statistics/naive-bayes-spam-lab/datasets/easy_ham/0639.3462e01cf21a5b919a58b6e70e96ccb4\n",
      "Searching ./course_dump/week08/day1_intro_to_bayesian_statistics/naive-bayes-spam-lab/datasets/easy_ham/1983.d260d5a28ff1ef0d9c81e1a509d6d99f\n",
      "Searching ./course_dump/week08/day1_intro_to_bayesian_statistics/naive-bayes-spam-lab/datasets/easy_ham/0560.c422e330f8ff3ecf8fdfb5f00e691bf9\n",
      "Searching ./course_dump/week08/day1_intro_to_bayesian_statistics/naive-bayes-spam-lab/datasets/easy_ham/0536.ba3a7bb7f4797867867494246c8f6dec\n",
      "Searching ./course_dump/week08/day1_intro_to_bayesian_statistics/naive-bayes-spam-lab/datasets/easy_ham/0072.d1c080832388ae81835ca069e2efffa3\n",
      "Searching ./course_dump/week08/day1_intro_to_bayesian_statistics/naive-bayes-spam-lab/datasets/easy_ham/2436.6d5122b7964e63cbf7b656d21bb77c50\n",
      "Searching ./course_dump/week08/day1_intro_to_bayesian_statistics/naive-bayes-spam-lab/datasets/easy_ham/0527.fb030532024e5534f13993d88b5923a0\n",
      "Searching ./course_dump/week08/day1_intro_to_bayesian_statistics/naive-bayes-spam-lab/datasets/easy_ham/0076.f565b68778786f9b9736f779489331f0\n",
      "Searching ./course_dump/week08/day1_intro_to_bayesian_statistics/naive-bayes-spam-lab/datasets/easy_ham/2286.ec772b2f3090667fe82120b653bf3d87\n",
      "Searching ./course_dump/week08/day1_intro_to_bayesian_statistics/naive-bayes-spam-lab/datasets/easy_ham/1086.b51953361efc50df363334b72a566863\n",
      "Searching ./course_dump/week08/day1_intro_to_bayesian_statistics/naive-bayes-spam-lab/datasets/easy_ham/2508.c2a4352b3d889e87d3493e5aff6b571c\n",
      "Searching ./course_dump/week08/day1_intro_to_bayesian_statistics/naive-bayes-spam-lab/datasets/easy_ham/2377.f6c4df0e5b3b3b591d06ab0a47f0d74b\n",
      "Searching ./course_dump/week08/day1_intro_to_bayesian_statistics/naive-bayes-spam-lab/datasets/easy_ham/0845.eb2eb66b172d250b0b35f971bab702c4\n",
      "Searching ./course_dump/week08/day1_intro_to_bayesian_statistics/naive-bayes-spam-lab/datasets/easy_ham/0712.b34faf400b5f68d87b2fb9e83b4c5e80\n",
      "Searching ./course_dump/week08/day1_intro_to_bayesian_statistics/naive-bayes-spam-lab/datasets/easy_ham/0717.211b19b47bd1c85001dddbe5768d79a1\n",
      "Searching ./course_dump/week08/day1_intro_to_bayesian_statistics/naive-bayes-spam-lab/datasets/easy_ham/0121.b475478456e52de66ef0b0fb501bbfd3\n",
      "Searching ./course_dump/week08/day1_intro_to_bayesian_statistics/naive-bayes-spam-lab/datasets/easy_ham/1052.8051605033d37d59b100fdef7dfc0ffc\n",
      "Searching ./course_dump/week08/day1_intro_to_bayesian_statistics/naive-bayes-spam-lab/datasets/easy_ham/0295.27b3176967da2ccf237679a15788d821\n",
      "Searching ./course_dump/week08/day1_intro_to_bayesian_statistics/naive-bayes-spam-lab/datasets/easy_ham/1641.7555c5920365e6315e3f20d83211d558\n"
     ]
    },
    {
     "name": "stdout",
     "output_type": "stream",
     "text": [
      "Searching ./course_dump/week08/day1_intro_to_bayesian_statistics/naive-bayes-spam-lab/datasets/easy_ham/0875.990a5210c2586a027e13b10bf9d3e4ae\n",
      "Searching ./course_dump/week08/day1_intro_to_bayesian_statistics/naive-bayes-spam-lab/datasets/easy_ham/0237.a21d745179e22d780194543b7ad765ec\n",
      "Searching ./course_dump/week08/day1_intro_to_bayesian_statistics/naive-bayes-spam-lab/datasets/easy_ham/0764.ba8f49f7a4dd4d9a9bb28e5c96e46463\n",
      "Searching ./course_dump/week08/day1_intro_to_bayesian_statistics/naive-bayes-spam-lab/datasets/easy_ham/1742.9ebb5f33ccd9bcfb089d758b7523f0c5\n",
      "Searching ./course_dump/week08/day1_intro_to_bayesian_statistics/naive-bayes-spam-lab/datasets/easy_ham/0935.69777ef80c3f27b435944189c6f07bc0\n",
      "Searching ./course_dump/week08/day1_intro_to_bayesian_statistics/naive-bayes-spam-lab/datasets/easy_ham/0393.0b4def24fd1835de40d83f2a8e43bd7d\n",
      "Searching ./course_dump/week08/day1_intro_to_bayesian_statistics/naive-bayes-spam-lab/datasets/easy_ham/2538.e3f596927fd5dd74ad23a0792a449241\n",
      "Searching ./course_dump/week08/day1_intro_to_bayesian_statistics/naive-bayes-spam-lab/datasets/easy_ham/1364.679f0da47cd44783dedd4e95bc942b27\n",
      "Searching ./course_dump/week08/day1_intro_to_bayesian_statistics/naive-bayes-spam-lab/datasets/easy_ham/0569.ef10ce803ff212d76f9dd6148b84a823\n",
      "Searching ./course_dump/week08/day1_intro_to_bayesian_statistics/naive-bayes-spam-lab/datasets/easy_ham/1481.a18fd231d1a79f6984910a05780356a5\n",
      "Searching ./course_dump/week08/day1_intro_to_bayesian_statistics/naive-bayes-spam-lab/datasets/easy_ham/0977.d0e3f4e7fd0a8c2bdd26888af1ca3a0b\n",
      "Searching ./course_dump/week08/day1_intro_to_bayesian_statistics/naive-bayes-spam-lab/datasets/easy_ham/2323.28b476aaf8253812fe4dab4c3ec7b06f\n",
      "Searching ./course_dump/week08/day1_intro_to_bayesian_statistics/naive-bayes-spam-lab/datasets/easy_ham/1706.7b84ac072540d25d70de818843a1e921\n",
      "Searching ./course_dump/week08/day1_intro_to_bayesian_statistics/naive-bayes-spam-lab/datasets/easy_ham/1774.572d5d58699f0b03e959bbdc6ee14e83\n",
      "Searching ./course_dump/week08/day1_intro_to_bayesian_statistics/naive-bayes-spam-lab/datasets/easy_ham/0079.083beadce354774290a4a5bc4175366e\n",
      "Searching ./course_dump/week08/day1_intro_to_bayesian_statistics/naive-bayes-spam-lab/datasets/easy_ham/1403.344e5c5b7eb1469d645c1840552a3bf7\n",
      "Searching ./course_dump/week08/day1_intro_to_bayesian_statistics/naive-bayes-spam-lab/datasets/easy_ham/2001.741b26ed34a4c4c1a00cd13fab78b174\n",
      "Searching ./course_dump/week08/day1_intro_to_bayesian_statistics/naive-bayes-spam-lab/datasets/easy_ham/0458.0b0d38bea678ef5d832293332cba1fcd\n",
      "Searching ./course_dump/week08/day1_intro_to_bayesian_statistics/naive-bayes-spam-lab/datasets/easy_ham/2252.922a618f1b375c6392e72b0d4c61e4dc\n",
      "Searching ./course_dump/week08/day1_intro_to_bayesian_statistics/naive-bayes-spam-lab/datasets/easy_ham/2049.b39e5d6c944e14add62b71862b2f2d41\n",
      "Searching ./course_dump/week08/day1_intro_to_bayesian_statistics/naive-bayes-spam-lab/datasets/easy_ham/1888.57a8696540933098cc8c8235542bf042\n",
      "Searching ./course_dump/week08/day1_intro_to_bayesian_statistics/naive-bayes-spam-lab/datasets/easy_ham/2300.29824392b05521ed9b3fc5f9e8095613\n",
      "Searching ./course_dump/week08/day1_intro_to_bayesian_statistics/naive-bayes-spam-lab/datasets/easy_ham/2058.223e1c8e29bf95617ce84cebf836351e\n",
      "Searching ./course_dump/week08/day1_intro_to_bayesian_statistics/naive-bayes-spam-lab/datasets/easy_ham/1633.c1b90a09ff40266eef2b0b60587a3881\n",
      "Searching ./course_dump/week08/day1_intro_to_bayesian_statistics/naive-bayes-spam-lab/datasets/easy_ham/0677.16c583f992f1c13c9f2eb2aa58f84214\n",
      "Searching ./course_dump/week08/day1_intro_to_bayesian_statistics/naive-bayes-spam-lab/datasets/easy_ham/0624.8461f3c63dd4843912d9f4807e7d68ad\n",
      "Searching ./course_dump/week08/day1_intro_to_bayesian_statistics/naive-bayes-spam-lab/datasets/easy_ham/1289.84eadde1bbefccfa683dbe80e2a7b9be\n",
      "Searching ./course_dump/week08/day1_intro_to_bayesian_statistics/naive-bayes-spam-lab/datasets/easy_ham/0333.b702dbd33bcec7b614b9f223b2487688\n",
      "Searching ./course_dump/week08/day1_intro_to_bayesian_statistics/naive-bayes-spam-lab/datasets/easy_ham/1621.e0c43e18cb0b93910128e85a0a0a936f\n",
      "Searching ./course_dump/week08/day1_intro_to_bayesian_statistics/naive-bayes-spam-lab/datasets/easy_ham/0025.64d0382de54b9e4c5b4200173133b8d7\n",
      "Searching ./course_dump/week08/day1_intro_to_bayesian_statistics/naive-bayes-spam-lab/datasets/easy_ham/1341.91bc30d50566e71807217c8977f7a793\n",
      "Searching ./course_dump/week08/day1_intro_to_bayesian_statistics/naive-bayes-spam-lab/datasets/easy_ham/0209.ce176e249d1b3d1bf97d02aaddb1ffd4\n",
      "Searching ./course_dump/week08/day1_intro_to_bayesian_statistics/naive-bayes-spam-lab/datasets/easy_ham/0936.fd3d57ba85e83cca7b17ff92667a05eb\n",
      "Searching ./course_dump/week08/day1_intro_to_bayesian_statistics/naive-bayes-spam-lab/datasets/easy_ham/1493.0e19ac93ca8fe935323151417bc2e959\n",
      "Searching ./course_dump/week08/day1_intro_to_bayesian_statistics/naive-bayes-spam-lab/datasets/easy_ham/0303.e334b6aaad7609a7613e33bb21cc9636\n",
      "Searching ./course_dump/week08/day1_intro_to_bayesian_statistics/naive-bayes-spam-lab/datasets/easy_ham/1532.7629e5bf068e857d0149f49caf32df6f\n",
      "Searching ./course_dump/week08/day1_intro_to_bayesian_statistics/naive-bayes-spam-lab/datasets/easy_ham/0068.f1c604a78739e4f966253d762c972dde\n",
      "Searching ./course_dump/week08/day1_intro_to_bayesian_statistics/naive-bayes-spam-lab/datasets/easy_ham/0112.b6c2ea75f9f7efcd3d0e4c43a751479c\n",
      "Searching ./course_dump/week08/day1_intro_to_bayesian_statistics/naive-bayes-spam-lab/datasets/easy_ham/1241.7bc7f4b48ba3328fe2ef672da8c9930e\n",
      "Searching ./course_dump/week08/day1_intro_to_bayesian_statistics/naive-bayes-spam-lab/datasets/easy_ham/1163.3ad31ba9c55ae030d3d708b5987f889e\n",
      "Searching ./course_dump/week08/day1_intro_to_bayesian_statistics/naive-bayes-spam-lab/datasets/easy_ham/1517.14cf0162b6bf5274305b7b573a0c3a82\n",
      "Searching ./course_dump/week08/day1_intro_to_bayesian_statistics/naive-bayes-spam-lab/datasets/easy_ham/0794.cf41a55933ae8896b668864d7b57b177\n",
      "Searching ./course_dump/week08/day1_intro_to_bayesian_statistics/naive-bayes-spam-lab/datasets/easy_ham/2236.c7f35929d21a2a8b4a41dd13d756c964\n",
      "Searching ./course_dump/week08/day1_intro_to_bayesian_statistics/naive-bayes-spam-lab/datasets/easy_ham/1588.61ee71063f18d59f7c0326aa48ebec99\n",
      "Searching ./course_dump/week08/day1_intro_to_bayesian_statistics/naive-bayes-spam-lab/datasets/easy_ham/1314.b6bab34941436986743c446720b95d75\n",
      "Searching ./course_dump/week08/day1_intro_to_bayesian_statistics/naive-bayes-spam-lab/datasets/easy_ham/1634.272759499861b548d69fb7377157ea79\n",
      "Searching ./course_dump/week08/day1_intro_to_bayesian_statistics/naive-bayes-spam-lab/datasets/easy_ham/2042.82efc2a52ba6bb772d106cea75485b08\n",
      "Searching ./course_dump/week08/day1_intro_to_bayesian_statistics/naive-bayes-spam-lab/datasets/easy_ham/0667.9e0b1ad2888b8d638be9d486637eb445\n",
      "Searching ./course_dump/week08/day1_intro_to_bayesian_statistics/naive-bayes-spam-lab/datasets/easy_ham/1577.da07880d399d5552771d328aea473928\n",
      "Searching ./course_dump/week08/day1_intro_to_bayesian_statistics/naive-bayes-spam-lab/datasets/easy_ham/1450.c0ce160e1b285899424541ccd82b71b1\n",
      "Searching ./course_dump/week08/day1_intro_to_bayesian_statistics/naive-bayes-spam-lab/datasets/easy_ham/1619.cd1eb30a6bd51a230fb0bc79195ad18f\n",
      "Searching ./course_dump/week08/day1_intro_to_bayesian_statistics/naive-bayes-spam-lab/datasets/easy_ham/1643.6376ec92af99da9b90e5a3ab60f9fd09\n",
      "Searching ./course_dump/week08/day1_intro_to_bayesian_statistics/naive-bayes-spam-lab/datasets/easy_ham/1944.44e0f13a1592901884bd9b1c73c1023d\n",
      "Searching ./course_dump/week08/day1_intro_to_bayesian_statistics/naive-bayes-spam-lab/datasets/easy_ham/1069.7e96836785285547e3c01a6db4daa9d0\n",
      "Searching ./course_dump/week08/day1_intro_to_bayesian_statistics/naive-bayes-spam-lab/datasets/easy_ham/1699.de71400a0100dbf05e05230d7e422a29\n",
      "Searching ./course_dump/week08/day1_intro_to_bayesian_statistics/naive-bayes-spam-lab/datasets/easy_ham/1328.cccf5939c5844ebccd4f7b4bdad42e63\n",
      "Searching ./course_dump/week08/day1_intro_to_bayesian_statistics/naive-bayes-spam-lab/datasets/easy_ham/0120.27898b8f966a9c687b1f93fcba5afd43\n",
      "Searching ./course_dump/week08/day1_intro_to_bayesian_statistics/naive-bayes-spam-lab/datasets/easy_ham/1670.da702de4cb6dce6d1f62c93bc30e71ff\n",
      "Searching ./course_dump/week08/day1_intro_to_bayesian_statistics/naive-bayes-spam-lab/datasets/easy_ham/0350.dabd503455d16db68a0e4bad24ffc736\n",
      "Searching ./course_dump/week08/day1_intro_to_bayesian_statistics/naive-bayes-spam-lab/datasets/easy_ham/2457.5fba5a23aa428e3201526f7c978c88c6\n",
      "Searching ./course_dump/week08/day1_intro_to_bayesian_statistics/naive-bayes-spam-lab/datasets/easy_ham/0455.f738e592a578bdfe866563c84443940e\n",
      "Searching ./course_dump/week08/day1_intro_to_bayesian_statistics/naive-bayes-spam-lab/datasets/easy_ham/2250.48c181d56dfe9e889beed80e50a27f15\n"
     ]
    },
    {
     "name": "stdout",
     "output_type": "stream",
     "text": [
      "Searching ./course_dump/week08/day1_intro_to_bayesian_statistics/naive-bayes-spam-lab/datasets/easy_ham/1806.db99848ddb40f4d5a0694557363c7250\n",
      "Searching ./course_dump/week08/day1_intro_to_bayesian_statistics/naive-bayes-spam-lab/datasets/easy_ham/2383.eb56138ab20d3747c95e7e0dc4e07158\n",
      "Searching ./course_dump/week08/day1_intro_to_bayesian_statistics/naive-bayes-spam-lab/datasets/easy_ham/1040.0975203bad39968cfceadfcd68a9242b\n",
      "Searching ./course_dump/week08/day1_intro_to_bayesian_statistics/naive-bayes-spam-lab/datasets/easy_ham/0067.d77af11e9b2a74048c073462efecca12\n",
      "Searching ./course_dump/week08/day1_intro_to_bayesian_statistics/naive-bayes-spam-lab/datasets/easy_ham/2485.0d0140da769ebe4de6c1851fb7017352\n",
      "Searching ./course_dump/week08/day1_intro_to_bayesian_statistics/naive-bayes-spam-lab/datasets/easy_ham/1838.d038cbb36f734c5ddbb023d074711d10\n",
      "Searching ./course_dump/week08/day1_intro_to_bayesian_statistics/naive-bayes-spam-lab/datasets/easy_ham/0094.b7bf14fae9c31d0516cfe00dd9ab068d\n",
      "Searching ./course_dump/week08/day1_intro_to_bayesian_statistics/naive-bayes-spam-lab/datasets/easy_ham/2254.9fd6598139ad233102f3924882f53d17\n",
      "Searching ./course_dump/week08/day1_intro_to_bayesian_statistics/naive-bayes-spam-lab/datasets/easy_ham/2044.44bf59ea8589daeadc7af5f5c4d7827a\n",
      "Searching ./course_dump/week08/day1_intro_to_bayesian_statistics/naive-bayes-spam-lab/datasets/easy_ham/2217.901fa53ad7732a9244462d73f7ed5f5f\n",
      "Searching ./course_dump/week08/day1_intro_to_bayesian_statistics/naive-bayes-spam-lab/datasets/easy_ham/2074.f3d515d412b9afe36b37e9e9fcaf1614\n",
      "Searching ./course_dump/week08/day1_intro_to_bayesian_statistics/naive-bayes-spam-lab/datasets/easy_ham/1580.108304b0d17fc6c34436e63e5f30fc47\n",
      "Searching ./course_dump/week08/day1_intro_to_bayesian_statistics/naive-bayes-spam-lab/datasets/easy_ham/0730.9570ee3b6bf144198297b23bca5044e9\n",
      "Searching ./course_dump/week08/day1_intro_to_bayesian_statistics/naive-bayes-spam-lab/datasets/easy_ham/1145.34a6c095d84e586da2b0177b7914882f\n",
      "Searching ./course_dump/week08/day1_intro_to_bayesian_statistics/naive-bayes-spam-lab/datasets/easy_ham/0358.b93b0089eb452cabfbaa0a77cb3461fd\n",
      "Searching ./course_dump/week08/day1_intro_to_bayesian_statistics/naive-bayes-spam-lab/datasets/easy_ham/0075.faa4a28fdd9a82edd6d35ebb6bae3085\n",
      "Searching ./course_dump/week08/day1_intro_to_bayesian_statistics/naive-bayes-spam-lab/datasets/easy_ham/0676.80208e9973e3ec09a0377e1342c0a3a5\n",
      "Searching ./course_dump/week08/day1_intro_to_bayesian_statistics/naive-bayes-spam-lab/datasets/easy_ham/1986.8a619b33224fdfd6a3209a84e95c50f7\n",
      "Searching ./course_dump/week08/day1_intro_to_bayesian_statistics/naive-bayes-spam-lab/datasets/easy_ham/0445.bca3c6c6a0dc8f7e0c3bd140936897a8\n",
      "Searching ./course_dump/week08/day1_intro_to_bayesian_statistics/naive-bayes-spam-lab/datasets/easy_ham/0809.371aae7cab194e25613d5b4b2cd8b6ea\n",
      "Searching ./course_dump/week08/day1_intro_to_bayesian_statistics/naive-bayes-spam-lab/datasets/easy_ham/2116.eec6976677828cf9e6cbad4ed700dc00\n",
      "Searching ./course_dump/week08/day1_intro_to_bayesian_statistics/naive-bayes-spam-lab/datasets/easy_ham/0994.744ef88f9e8a7c41eb69e25950a8fc41\n",
      "Searching ./course_dump/week08/day1_intro_to_bayesian_statistics/naive-bayes-spam-lab/datasets/easy_ham/0114.72c7d2d85d9d99ce3ce268d09147bdea\n",
      "Searching ./course_dump/week08/day1_intro_to_bayesian_statistics/naive-bayes-spam-lab/datasets/easy_ham/0366.a26fbe93fe54eeac188cb8ce2d96460a\n",
      "Searching ./course_dump/week08/day1_intro_to_bayesian_statistics/naive-bayes-spam-lab/datasets/easy_ham/1892.82c1d57eff76129d5883976011d79bce\n",
      "Searching ./course_dump/week08/day1_intro_to_bayesian_statistics/naive-bayes-spam-lab/datasets/easy_ham/0322.1f9c23ccba1c0408c648f6cb0b392e93\n",
      "Searching ./course_dump/week08/day1_intro_to_bayesian_statistics/naive-bayes-spam-lab/datasets/easy_ham/1566.513fb571511122853df82c890115f8e9\n",
      "Searching ./course_dump/week08/day1_intro_to_bayesian_statistics/naive-bayes-spam-lab/datasets/easy_ham/2018.92f706785305106c82198f4df443cb30\n",
      "Searching ./course_dump/week08/day1_intro_to_bayesian_statistics/naive-bayes-spam-lab/datasets/easy_ham/0446.321425772cd75481e72bd8c30d1bd78c\n",
      "Searching ./course_dump/week08/day1_intro_to_bayesian_statistics/naive-bayes-spam-lab/datasets/easy_ham/0143.20b19246597ddb47db7da83f7a140e73\n",
      "Searching ./course_dump/week08/day1_intro_to_bayesian_statistics/naive-bayes-spam-lab/datasets/easy_ham/0992.a7884a746d675de27a0ca535685e8d6d\n",
      "Searching ./course_dump/week08/day1_intro_to_bayesian_statistics/naive-bayes-spam-lab/datasets/easy_ham/2235.2c1ba5a3c31ceaf711a04c69a5ee5647\n",
      "Searching ./course_dump/week08/day1_intro_to_bayesian_statistics/naive-bayes-spam-lab/datasets/easy_ham/1368.3293e84198b7ac13250a63da9437e2e3\n",
      "Searching ./course_dump/week08/day1_intro_to_bayesian_statistics/naive-bayes-spam-lab/datasets/easy_ham/1443.f5558679d8d2abd2165d96149a4de59b\n",
      "Searching ./course_dump/week08/day1_intro_to_bayesian_statistics/naive-bayes-spam-lab/datasets/easy_ham/0321.b100345ae7b5e980f41d9c6e0ff3159a\n",
      "Searching ./course_dump/week08/day1_intro_to_bayesian_statistics/naive-bayes-spam-lab/datasets/easy_ham/1024.2ec2a5954337a9a35a3c169caa5d947a\n",
      "Searching ./course_dump/week08/day1_intro_to_bayesian_statistics/naive-bayes-spam-lab/datasets/easy_ham/0397.bdea17c7f90068a763d191914770f6d6\n",
      "Searching ./course_dump/week08/day1_intro_to_bayesian_statistics/naive-bayes-spam-lab/datasets/easy_ham/1333.e9f5229e15c55a75e02a92fe42324bce\n",
      "Searching ./course_dump/week08/day1_intro_to_bayesian_statistics/naive-bayes-spam-lab/datasets/easy_ham/2141.1297ad634fdb16e4272387250a901f5d\n",
      "Searching ./course_dump/week08/day1_intro_to_bayesian_statistics/naive-bayes-spam-lab/datasets/easy_ham/1004.5929fd886f8e9544a98c383b41f554bb\n",
      "Searching ./course_dump/week08/day1_intro_to_bayesian_statistics/naive-bayes-spam-lab/datasets/easy_ham/1467.59a3ea5497660ce75f4b6c3d794cdc33\n",
      "Searching ./course_dump/week08/day1_intro_to_bayesian_statistics/naive-bayes-spam-lab/datasets/easy_ham/1186.fcd93eee19319006fece61d0d3a0bc13\n",
      "Searching ./course_dump/week08/day1_intro_to_bayesian_statistics/naive-bayes-spam-lab/datasets/easy_ham/1552.397ac9c4693e0e39de3c115fe7ded51f\n",
      "Searching ./course_dump/week08/day1_intro_to_bayesian_statistics/naive-bayes-spam-lab/datasets/easy_ham/1556.9649e5e9ca6adb64eadad468e458ab1b\n",
      "Searching ./course_dump/week08/day1_intro_to_bayesian_statistics/naive-bayes-spam-lab/datasets/easy_ham/2091.1a1d629678aa1ab8953772a2cd006183\n",
      "Searching ./course_dump/week08/day1_intro_to_bayesian_statistics/naive-bayes-spam-lab/datasets/easy_ham/0135.73f72161ad5758f0645151e87f5ff4b2\n",
      "Searching ./course_dump/week08/day1_intro_to_bayesian_statistics/naive-bayes-spam-lab/datasets/easy_ham/2057.678c692b49b657abde1a5fcb861dd37b\n",
      "Searching ./course_dump/week08/day1_intro_to_bayesian_statistics/naive-bayes-spam-lab/datasets/easy_ham/1356.14e3ab9f37daa13ce7a15770017c4863\n",
      "Searching ./course_dump/week08/day1_intro_to_bayesian_statistics/naive-bayes-spam-lab/datasets/easy_ham/2024.095702af0ac6e07d7dd2027da62b800c\n",
      "Searching ./course_dump/week08/day1_intro_to_bayesian_statistics/naive-bayes-spam-lab/datasets/easy_ham/0503.5364d68940343b854595410487aaa1ba\n",
      "Searching ./course_dump/week08/day1_intro_to_bayesian_statistics/naive-bayes-spam-lab/datasets/easy_ham/2260.4c998ebf55883e7b7c67b23e5f3be3ce\n",
      "Searching ./course_dump/week08/day1_intro_to_bayesian_statistics/naive-bayes-spam-lab/datasets/easy_ham/0552.1ce63d212148c58723cc1f7150b27157\n",
      "Searching ./course_dump/week08/day1_intro_to_bayesian_statistics/naive-bayes-spam-lab/datasets/easy_ham/0382.2572938f55199fad41fe22683d469d00\n",
      "Searching ./course_dump/week08/day1_intro_to_bayesian_statistics/naive-bayes-spam-lab/datasets/easy_ham/0352.632edfcf333b87a4994c49313b4d515a\n",
      "Searching ./course_dump/week08/day1_intro_to_bayesian_statistics/naive-bayes-spam-lab/datasets/easy_ham/1975.a7abcc87330dc1705f587b11d38d4cca\n",
      "Searching ./course_dump/week08/day1_intro_to_bayesian_statistics/naive-bayes-spam-lab/datasets/easy_ham/2231.e445a726e4506b0f12a314345e57f4a0\n",
      "Searching ./course_dump/week08/day1_intro_to_bayesian_statistics/naive-bayes-spam-lab/datasets/easy_ham/1427.db4dce8eaebc4a3d836d2328137c7ac0\n",
      "Searching ./course_dump/week08/day1_intro_to_bayesian_statistics/naive-bayes-spam-lab/datasets/easy_ham/1400.2e82a3803e51f420c6398d963052469f\n",
      "Searching ./course_dump/week08/day1_intro_to_bayesian_statistics/naive-bayes-spam-lab/datasets/easy_ham/1607.d2f250ddf3a443a4a10c5ea9825da694\n"
     ]
    },
    {
     "name": "stdout",
     "output_type": "stream",
     "text": [
      "Searching ./course_dump/week08/day1_intro_to_bayesian_statistics/naive-bayes-spam-lab/datasets/easy_ham/0772.f6e3d3c433121335121efc42f2d81aa7\n",
      "Searching ./course_dump/week08/day1_intro_to_bayesian_statistics/naive-bayes-spam-lab/datasets/easy_ham/1496.c48399a0c3abb60acd00322bdbb97565\n",
      "Searching ./course_dump/week08/day1_intro_to_bayesian_statistics/naive-bayes-spam-lab/datasets/easy_ham/2333.4632abb5df000cd505ca4516b2dba0cf\n",
      "Searching ./course_dump/week08/day1_intro_to_bayesian_statistics/naive-bayes-spam-lab/datasets/easy_ham/0864.5814f29d8b4689b925cc4179392bd341\n",
      "Searching ./course_dump/week08/day1_intro_to_bayesian_statistics/naive-bayes-spam-lab/datasets/easy_ham/2320.a1cdd2b0e2af68c83d759ffc8b4393d2\n",
      "Searching ./course_dump/week08/day1_intro_to_bayesian_statistics/naive-bayes-spam-lab/datasets/easy_ham/2374.7c47a12739991813706251d0de22bc79\n",
      "Searching ./course_dump/week08/day1_intro_to_bayesian_statistics/naive-bayes-spam-lab/datasets/easy_ham/0481.3a50c09230e74743965ddec5ad754fa6\n",
      "Searching ./course_dump/week08/day1_intro_to_bayesian_statistics/naive-bayes-spam-lab/datasets/easy_ham/1390.6e72b8ce6b837d6072790479e742fb4a\n",
      "Searching ./course_dump/week08/day1_intro_to_bayesian_statistics/naive-bayes-spam-lab/datasets/easy_ham/0171.284f310dea6316d8971a18ff66a1a8dc\n",
      "Searching ./course_dump/week08/day1_intro_to_bayesian_statistics/naive-bayes-spam-lab/datasets/easy_ham/1904.2eabf76b86fe83b4c5617fcf41b42c79\n",
      "Searching ./course_dump/week08/day1_intro_to_bayesian_statistics/naive-bayes-spam-lab/datasets/easy_ham/2194.146d97c64662ed368e4476b97c8ea5f7\n",
      "Searching ./course_dump/week08/day1_intro_to_bayesian_statistics/naive-bayes-spam-lab/datasets/easy_ham/2548.b2259f104edd1ecbc9dc0327df387147\n",
      "Searching ./course_dump/week08/day1_intro_to_bayesian_statistics/naive-bayes-spam-lab/datasets/easy_ham/0825.50304b4fb153c18166fd8e9244659167\n",
      "Searching ./course_dump/week08/day1_intro_to_bayesian_statistics/naive-bayes-spam-lab/datasets/easy_ham/1800.75f57c5146462b574d13349e5c0c4bcc\n",
      "Searching ./course_dump/week08/day1_intro_to_bayesian_statistics/naive-bayes-spam-lab/datasets/easy_ham/0039.5bf1ec6602c4657bac8d566604572ad5\n",
      "Searching ./course_dump/week08/day1_intro_to_bayesian_statistics/naive-bayes-spam-lab/datasets/easy_ham/0526.615f918b4860d437577f6aa66c9b37cf\n",
      "Searching ./course_dump/week08/day1_intro_to_bayesian_statistics/naive-bayes-spam-lab/datasets/easy_ham/2350.e336f35efb4d1193ec7ba34e8093e182\n",
      "Searching ./course_dump/week08/day1_intro_to_bayesian_statistics/naive-bayes-spam-lab/datasets/easy_ham/2125.ee1e93366c2199584cfbd4cbb353d918\n",
      "Searching ./course_dump/week08/day1_intro_to_bayesian_statistics/naive-bayes-spam-lab/datasets/easy_ham/1555.52c8b37d4f76bb274a73e2b6609e9655\n",
      "Searching ./course_dump/week08/day1_intro_to_bayesian_statistics/naive-bayes-spam-lab/datasets/easy_ham/1854.bff303bb4466a91b0f88491b207e8ed8\n",
      "Searching ./course_dump/week08/day1_intro_to_bayesian_statistics/naive-bayes-spam-lab/datasets/easy_ham/0674.491042298959b1aed91c95ae2beaece2\n",
      "Searching ./course_dump/week08/day1_intro_to_bayesian_statistics/naive-bayes-spam-lab/datasets/easy_ham/0675.6af6c3451a0d2caed7a332366aa3ddd8\n",
      "Searching ./course_dump/week08/day1_intro_to_bayesian_statistics/naive-bayes-spam-lab/datasets/easy_ham/0596.5826fb71adb141704275e2cb8fdddb4f\n",
      "Searching ./course_dump/week08/day1_intro_to_bayesian_statistics/naive-bayes-spam-lab/datasets/easy_ham/2295.e84ec70f3e8ec47c77536f28d5b9c92d\n",
      "Searching ./course_dump/week08/day1_intro_to_bayesian_statistics/naive-bayes-spam-lab/datasets/easy_ham/2359.180792e98777a31826a0cc0214e7e98c\n",
      "Searching ./course_dump/week08/day1_intro_to_bayesian_statistics/naive-bayes-spam-lab/datasets/easy_ham/1128.03b2776407c0cc561ab9fa6bb46bd9ef\n",
      "Searching ./course_dump/week08/day1_intro_to_bayesian_statistics/naive-bayes-spam-lab/datasets/easy_ham/2036.6d6802d956648b98383d9188257a364f\n",
      "Searching ./course_dump/week08/day1_intro_to_bayesian_statistics/naive-bayes-spam-lab/datasets/easy_ham/1604.051f662e3490b712974e5af2cc90043a\n",
      "Searching ./course_dump/week08/day1_intro_to_bayesian_statistics/naive-bayes-spam-lab/datasets/easy_ham/1850.147241797a056a32e99562b240ebb283\n",
      "Searching ./course_dump/week08/day1_intro_to_bayesian_statistics/naive-bayes-spam-lab/datasets/easy_ham/2106.dce3a5c38eb0d3ad8ef8a2e559cfd0fb\n",
      "Searching ./course_dump/week08/day1_intro_to_bayesian_statistics/naive-bayes-spam-lab/datasets/easy_ham/1550.bf1bd1651e108ceb8637a006d6861789\n",
      "Searching ./course_dump/week08/day1_intro_to_bayesian_statistics/naive-bayes-spam-lab/datasets/easy_ham/1533.cdca6023330291efad8880619bc3c68e\n",
      "Searching ./course_dump/week08/day1_intro_to_bayesian_statistics/naive-bayes-spam-lab/datasets/easy_ham/0304.73bb5ec3f02f4db15750531e226b1cb8\n",
      "Searching ./course_dump/week08/day1_intro_to_bayesian_statistics/naive-bayes-spam-lab/datasets/easy_ham/0489.73eb492555409d2c07aed7c524845d8c\n",
      "Searching ./course_dump/week08/day1_intro_to_bayesian_statistics/naive-bayes-spam-lab/datasets/easy_ham/0482.b16742fbfb4ed41734f06279232dd8b0\n",
      "Searching ./course_dump/week08/day1_intro_to_bayesian_statistics/naive-bayes-spam-lab/datasets/easy_ham/1190.99eaa82bada000ca0ada9512a3f590e2\n",
      "Searching ./course_dump/week08/day1_intro_to_bayesian_statistics/naive-bayes-spam-lab/datasets/easy_ham/1518.94c41662e1101b46c74bfb14b84b34c4\n",
      "Searching ./course_dump/week08/day1_intro_to_bayesian_statistics/naive-bayes-spam-lab/datasets/easy_ham/1224.7917f240eb278ea2028d92515d8c3dbc\n",
      "Searching ./course_dump/week08/day1_intro_to_bayesian_statistics/naive-bayes-spam-lab/datasets/easy_ham/2369.490b37114daf4bba803abe57c307dfd2\n",
      "Searching ./course_dump/week08/day1_intro_to_bayesian_statistics/naive-bayes-spam-lab/datasets/easy_ham/1837.e1c6a4364e0762f323cd69d23e030fc8\n",
      "Searching ./course_dump/week08/day1_intro_to_bayesian_statistics/naive-bayes-spam-lab/datasets/easy_ham/2343.7c59e6951b7e6eac7cc58941604cd63f\n",
      "Searching ./course_dump/week08/day1_intro_to_bayesian_statistics/naive-bayes-spam-lab/datasets/easy_ham/1091.0bade8676340d304cae87dad02efa8ce\n",
      "Searching ./course_dump/week08/day1_intro_to_bayesian_statistics/naive-bayes-spam-lab/datasets/easy_ham/2312.2fa61e6e4c98cb8bc45ae247b144d8f1\n",
      "Searching ./course_dump/week08/day1_intro_to_bayesian_statistics/naive-bayes-spam-lab/datasets/easy_ham/0653.68f91129d7292df3acc78eb6d575130f\n",
      "Searching ./course_dump/week08/day1_intro_to_bayesian_statistics/naive-bayes-spam-lab/datasets/easy_ham/2156.be3e49ec0cd70317cfd27ec8e7d0a9b4\n",
      "Searching ./course_dump/week08/day1_intro_to_bayesian_statistics/naive-bayes-spam-lab/datasets/easy_ham/0787.38cb6e76b84f342ff95c30c099848cd9\n",
      "Searching ./course_dump/week08/day1_intro_to_bayesian_statistics/naive-bayes-spam-lab/datasets/easy_ham/0266.387a672eb91910a913cde6ebdf33ef05\n",
      "Searching ./course_dump/week08/day1_intro_to_bayesian_statistics/naive-bayes-spam-lab/datasets/easy_ham/1409.9c1ef3088d2c1f8b9d458f0d516ce435\n",
      "Searching ./course_dump/week08/day1_intro_to_bayesian_statistics/naive-bayes-spam-lab/datasets/easy_ham/2533.ba0ac203656046766a368dbc29cf36a6\n",
      "Searching ./course_dump/week08/day1_intro_to_bayesian_statistics/naive-bayes-spam-lab/datasets/easy_ham/0490.f05cd53148e296861dd5c9f5df9a6225\n",
      "Searching ./course_dump/week08/day1_intro_to_bayesian_statistics/naive-bayes-spam-lab/datasets/easy_ham/0309.f8e4b246af5b6e995aef2cae7f325a1c\n",
      "Searching ./course_dump/week08/day1_intro_to_bayesian_statistics/naive-bayes-spam-lab/datasets/easy_ham/1563.4869bc6713ad6960f9b607c03dfa1c23\n",
      "Searching ./course_dump/week08/day1_intro_to_bayesian_statistics/naive-bayes-spam-lab/datasets/easy_ham/0239.58f51c99b02fc8b49664f15a855af780\n",
      "Searching ./course_dump/week08/day1_intro_to_bayesian_statistics/naive-bayes-spam-lab/datasets/easy_ham/0166.f4acdf86d261b60094536bf5a654cc33\n",
      "Searching ./course_dump/week08/day1_intro_to_bayesian_statistics/naive-bayes-spam-lab/datasets/easy_ham/1917.ad9c0d9da9c49cf27bfb916fb6506594\n",
      "Searching ./course_dump/week08/day1_intro_to_bayesian_statistics/naive-bayes-spam-lab/datasets/easy_ham/1602.a6d0709065f52668e973ba89f32def7a\n",
      "Searching ./course_dump/week08/day1_intro_to_bayesian_statistics/naive-bayes-spam-lab/datasets/easy_ham/2453.3c30230578edacb961366df72c6fd2ac\n",
      "Searching ./course_dump/week08/day1_intro_to_bayesian_statistics/naive-bayes-spam-lab/datasets/easy_ham/1092.8d0dea0481c9364381de6277614ac9bf\n",
      "Searching ./course_dump/week08/day1_intro_to_bayesian_statistics/naive-bayes-spam-lab/datasets/easy_ham/1758.c3fc45d31d7f105f7baa0d7617f71402\n",
      "Searching ./course_dump/week08/day1_intro_to_bayesian_statistics/naive-bayes-spam-lab/datasets/easy_ham/0535.e5e6e90ce659ed0f9d4063350a836201\n"
     ]
    },
    {
     "name": "stdout",
     "output_type": "stream",
     "text": [
      "Searching ./course_dump/week08/day1_intro_to_bayesian_statistics/naive-bayes-spam-lab/datasets/easy_ham/2393.9ba2bbda6af818512632047ddd5aea4a\n",
      "Searching ./course_dump/week08/day1_intro_to_bayesian_statistics/naive-bayes-spam-lab/datasets/easy_ham/0048.6dbad96d78f9dd6100a4ad2a8b8086b6\n",
      "Searching ./course_dump/week08/day1_intro_to_bayesian_statistics/naive-bayes-spam-lab/datasets/easy_ham/1180.9d441ee49eef8ba99c54ff8ec4ea9096\n",
      "Searching ./course_dump/week08/day1_intro_to_bayesian_statistics/naive-bayes-spam-lab/datasets/easy_ham/0865.4b2110ced3bc59bb5684c5ecfa980dd1\n",
      "Searching ./course_dump/week08/day1_intro_to_bayesian_statistics/naive-bayes-spam-lab/datasets/easy_ham/0966.20a99be33fcc43b63c8b082d9348ee02\n",
      "Searching ./course_dump/week08/day1_intro_to_bayesian_statistics/naive-bayes-spam-lab/datasets/easy_ham/0881.316c03b1dbd637537a4035f8470c6c12\n",
      "Searching ./course_dump/week08/day1_intro_to_bayesian_statistics/naive-bayes-spam-lab/datasets/easy_ham/1276.833510ba5d9158c1172f5edf1277d41c\n",
      "Searching ./course_dump/week08/day1_intro_to_bayesian_statistics/naive-bayes-spam-lab/datasets/easy_ham/2547.18ce2b2d4f757e70154b5c8cfe6e684f\n",
      "Searching ./course_dump/week08/day1_intro_to_bayesian_statistics/naive-bayes-spam-lab/datasets/easy_ham/2460.8a782dd603bfe327c2f7adadf590a094\n",
      "Searching ./course_dump/week08/day1_intro_to_bayesian_statistics/naive-bayes-spam-lab/datasets/easy_ham/0608.ee46655dde2d5d95579711e1a849cb34\n",
      "Searching ./course_dump/week08/day1_intro_to_bayesian_statistics/naive-bayes-spam-lab/datasets/easy_ham/1880.ebecd898b60abef68261b8ae5b05a198\n",
      "Searching ./course_dump/week08/day1_intro_to_bayesian_statistics/naive-bayes-spam-lab/datasets/easy_ham/2490.f03277d54faea3974942b3213f38268f\n",
      "Searching ./course_dump/week08/day1_intro_to_bayesian_statistics/naive-bayes-spam-lab/datasets/easy_ham/2477.9b5f251639293269f0980399c10a70d1\n",
      "Searching ./course_dump/week08/day1_intro_to_bayesian_statistics/naive-bayes-spam-lab/datasets/easy_ham/1749.6943600e0de67c472ee13c9f14345e0f\n",
      "Searching ./course_dump/week08/day1_intro_to_bayesian_statistics/naive-bayes-spam-lab/datasets/easy_ham/2153.f903e3e2bd4778389eded3c8337b5bf7\n",
      "Searching ./course_dump/week08/day1_intro_to_bayesian_statistics/naive-bayes-spam-lab/datasets/easy_ham/1296.7a96b5d20d551aa58e3cd3c404b4e2f5\n",
      "Searching ./course_dump/week08/day1_intro_to_bayesian_statistics/naive-bayes-spam-lab/datasets/easy_ham/1836.7b8c9da065dd15894b0c6f851ac461e8\n",
      "Searching ./course_dump/week08/day1_intro_to_bayesian_statistics/naive-bayes-spam-lab/datasets/easy_ham/1591.6b6ae63033581aaf40cb6a6d08da2662\n",
      "Searching ./course_dump/week08/day1_intro_to_bayesian_statistics/naive-bayes-spam-lab/datasets/easy_ham/0289.cb9c0595bddae2c25357ce5c9fbaf687\n",
      "Searching ./course_dump/week08/day1_intro_to_bayesian_statistics/naive-bayes-spam-lab/datasets/easy_ham/1379.8f1e63f3902da72388600d360b8579b1\n",
      "Searching ./course_dump/week08/day1_intro_to_bayesian_statistics/naive-bayes-spam-lab/datasets/easy_ham/2396.8126a8ee1ebb7fe484a5709f96192b02\n",
      "Searching ./course_dump/week08/day1_intro_to_bayesian_statistics/naive-bayes-spam-lab/datasets/easy_ham/2099.f02255a3e671b498c68e6c282292dbe6\n",
      "Searching ./course_dump/week08/day1_intro_to_bayesian_statistics/naive-bayes-spam-lab/datasets/easy_ham/0413.c4ecec1b9ca5e6bd1fd9bc7fa6c29b2d\n",
      "Searching ./course_dump/week08/day1_intro_to_bayesian_statistics/naive-bayes-spam-lab/datasets/easy_ham/2144.5f8c751957529e6ad26a7514434bddf0\n",
      "Searching ./course_dump/week08/day1_intro_to_bayesian_statistics/naive-bayes-spam-lab/datasets/easy_ham/1637.d9ae62cb17b80f3ae47d18a6d7100c51\n",
      "Searching ./course_dump/week08/day1_intro_to_bayesian_statistics/naive-bayes-spam-lab/datasets/easy_ham/1429.3c60313af6a2a5c79bb97e06855a4af7\n",
      "Searching ./course_dump/week08/day1_intro_to_bayesian_statistics/naive-bayes-spam-lab/datasets/easy_ham/1299.072df7fa1fc07de40459983f730b82ca\n",
      "Searching ./course_dump/week08/day1_intro_to_bayesian_statistics/naive-bayes-spam-lab/datasets/easy_ham/1277.3b713b4f04b00064858517857347bcba\n",
      "Searching ./course_dump/week08/day1_intro_to_bayesian_statistics/naive-bayes-spam-lab/datasets/easy_ham/1017.d946df144440633b63b4df3fa3c6082b\n",
      "Searching ./course_dump/week08/day1_intro_to_bayesian_statistics/naive-bayes-spam-lab/datasets/easy_ham/0449.4166ac284c694dba775d01cb7f667947\n",
      "Searching ./course_dump/week08/day1_intro_to_bayesian_statistics/naive-bayes-spam-lab/datasets/easy_ham/1033.4155e06c0fb104b96ec6c5d656264fa7\n",
      "Searching ./course_dump/week08/day1_intro_to_bayesian_statistics/naive-bayes-spam-lab/datasets/easy_ham/2304.50a83c8fa470ff996c268764133b19e7\n",
      "Searching ./course_dump/week08/day1_intro_to_bayesian_statistics/naive-bayes-spam-lab/datasets/easy_ham/0579.1220a78a48fabb67052c021782ae7720\n",
      "Searching ./course_dump/week08/day1_intro_to_bayesian_statistics/naive-bayes-spam-lab/datasets/easy_ham/0236.8af79b4e6416a984668d3f9c272a2822\n",
      "Searching ./course_dump/week08/day1_intro_to_bayesian_statistics/naive-bayes-spam-lab/datasets/easy_ham/1317.1f1768dfe09568d0096b0bca8987e467\n",
      "Searching ./course_dump/week08/day1_intro_to_bayesian_statistics/naive-bayes-spam-lab/datasets/easy_ham/0312.d17a25919e7985a270c6fdee37a8f83e\n",
      "Searching ./course_dump/week08/day1_intro_to_bayesian_statistics/naive-bayes-spam-lab/datasets/easy_ham/2149.0433d818006a650f384c28b22a646b5f\n",
      "Searching ./course_dump/week08/day1_intro_to_bayesian_statistics/naive-bayes-spam-lab/datasets/easy_ham/1642.c4eea2387cc6850b5e1cb84529535f8b\n",
      "Searching ./course_dump/week08/day1_intro_to_bayesian_statistics/naive-bayes-spam-lab/datasets/easy_ham/1061.88a372affb7c0cadfe3062af414ff7a4\n",
      "Searching ./course_dump/week08/day1_intro_to_bayesian_statistics/naive-bayes-spam-lab/datasets/easy_ham/0967.4e58795717c8348425fd06d48c7acc9e\n",
      "Searching ./course_dump/week08/day1_intro_to_bayesian_statistics/naive-bayes-spam-lab/datasets/easy_ham/2270.dee760d3f688f3a97ccdde2da3c5c863\n",
      "Searching ./course_dump/week08/day1_intro_to_bayesian_statistics/naive-bayes-spam-lab/datasets/easy_ham/2269.30cbe052ffb57936e490009a23adf3eb\n",
      "Searching ./course_dump/week08/day1_intro_to_bayesian_statistics/naive-bayes-spam-lab/datasets/easy_ham/2468.897a44a9936163da20ab13ce60d5e153\n",
      "Searching ./course_dump/week08/day1_intro_to_bayesian_statistics/naive-bayes-spam-lab/datasets/easy_ham/1916.de9bd1f5764cf1615cfdfa0d7ecffeb1\n",
      "Searching ./course_dump/week08/day1_intro_to_bayesian_statistics/naive-bayes-spam-lab/datasets/easy_ham/2163.0ccb16a07546a6528885233e0a7ddfd3\n",
      "Searching ./course_dump/week08/day1_intro_to_bayesian_statistics/naive-bayes-spam-lab/datasets/easy_ham/0057.be5e34dcebd922928045634015e3ed78\n",
      "Searching ./course_dump/week08/day1_intro_to_bayesian_statistics/naive-bayes-spam-lab/datasets/easy_ham/2404.7f57c938107c071b9c390ddfc23719d3\n",
      "Searching ./course_dump/week08/day1_intro_to_bayesian_statistics/naive-bayes-spam-lab/datasets/easy_ham/1105.6f46ad31778d293c889baaefab4db271\n",
      "Searching ./course_dump/week08/day1_intro_to_bayesian_statistics/naive-bayes-spam-lab/datasets/easy_ham/0331.f9bcb003e6d1710da66b329d2eba303a\n",
      "Searching ./course_dump/week08/day1_intro_to_bayesian_statistics/naive-bayes-spam-lab/datasets/easy_ham/0217.36d91fd462703996ea8b15571a778f5b\n",
      "Searching ./course_dump/week08/day1_intro_to_bayesian_statistics/naive-bayes-spam-lab/datasets/easy_ham/1868.1fef6580cc8a54d91796a011d44e3ffc\n",
      "Searching ./course_dump/week08/day1_intro_to_bayesian_statistics/naive-bayes-spam-lab/datasets/easy_ham/1466.f7d9619d0f8ed31c43b8311a11472db5\n",
      "Searching ./course_dump/week08/day1_intro_to_bayesian_statistics/naive-bayes-spam-lab/datasets/easy_ham/0399.20be4fa82cc4b6342cf49fc6606c492e\n",
      "Searching ./course_dump/week08/day1_intro_to_bayesian_statistics/naive-bayes-spam-lab/datasets/easy_ham/1941.a36b85a4d1e7b2898662ebb36e7c1072\n",
      "Searching ./course_dump/week08/day1_intro_to_bayesian_statistics/naive-bayes-spam-lab/datasets/easy_ham/0811.ec8f54c9328755f7208f3ec1717e60de\n",
      "Searching ./course_dump/week08/day1_intro_to_bayesian_statistics/naive-bayes-spam-lab/datasets/easy_ham/0561.7e0c08933efe38c91d293454976e4977\n",
      "Searching ./course_dump/week08/day1_intro_to_bayesian_statistics/naive-bayes-spam-lab/datasets/easy_ham/1773.2f86bbeac16f343c0c9e8d9d363cabb2\n",
      "Searching ./course_dump/week08/day1_intro_to_bayesian_statistics/naive-bayes-spam-lab/datasets/easy_ham/1246.30234e4c9aedace42e5472e1a21aaf64\n",
      "Searching ./course_dump/week08/day1_intro_to_bayesian_statistics/naive-bayes-spam-lab/datasets/easy_ham/0045.910fa2e79f96c646f1b6c987c65cbe3f\n",
      "Searching ./course_dump/week08/day1_intro_to_bayesian_statistics/naive-bayes-spam-lab/datasets/easy_ham/2464.0c973fb4c6105b3cdc0ce5c786ed6b0c\n",
      "Searching ./course_dump/week08/day1_intro_to_bayesian_statistics/naive-bayes-spam-lab/datasets/easy_ham/0962.2fb2ffd2e80f2dc290149d36a47cef24\n",
      "Searching ./course_dump/week08/day1_intro_to_bayesian_statistics/naive-bayes-spam-lab/datasets/easy_ham/1611.e83818d7655d711bee3f320bd19e6f6d\n",
      "Searching ./course_dump/week08/day1_intro_to_bayesian_statistics/naive-bayes-spam-lab/datasets/easy_ham/0107.2447a90f32ab7642ff8309d41c242db2\n",
      "Searching ./course_dump/week08/day1_intro_to_bayesian_statistics/naive-bayes-spam-lab/datasets/easy_ham/1678.a3c22194f3f334941d900a4bbf249f96\n",
      "Searching ./course_dump/week08/day1_intro_to_bayesian_statistics/naive-bayes-spam-lab/datasets/easy_ham/2167.9588865b97e81346cee53865b19d559b\n"
     ]
    },
    {
     "name": "stdout",
     "output_type": "stream",
     "text": [
      "Searching ./course_dump/week08/day1_intro_to_bayesian_statistics/naive-bayes-spam-lab/datasets/easy_ham/1402.e74c8db27ea79025c2afa3b7298d8ebb\n",
      "Searching ./course_dump/week08/day1_intro_to_bayesian_statistics/naive-bayes-spam-lab/datasets/easy_ham/2033.913c874ffe0179b83d8a1579bb712c81\n",
      "Searching ./course_dump/week08/day1_intro_to_bayesian_statistics/naive-bayes-spam-lab/datasets/easy_ham/1909.97cbba56dde3e037c13ff2911be560fd\n",
      "Searching ./course_dump/week08/day1_intro_to_bayesian_statistics/naive-bayes-spam-lab/datasets/easy_ham/1122.0306e263408d376f3abc5eddba544a59\n",
      "Searching ./course_dump/week08/day1_intro_to_bayesian_statistics/naive-bayes-spam-lab/datasets/easy_ham/2420.907cd1772df173393e1df5c1f4364a9c\n",
      "Searching ./course_dump/week08/day1_intro_to_bayesian_statistics/naive-bayes-spam-lab/datasets/easy_ham/0290.3dc3f5442e351aea16d027b6c5a44e65\n",
      "Searching ./course_dump/week08/day1_intro_to_bayesian_statistics/naive-bayes-spam-lab/datasets/easy_ham/2326.73396f0421612c54d1c9727ed953582e\n",
      "Searching ./course_dump/week08/day1_intro_to_bayesian_statistics/naive-bayes-spam-lab/datasets/easy_ham/0862.91f1d92f60d5789a201c14f2034bbdaa\n",
      "Searching ./course_dump/week08/day1_intro_to_bayesian_statistics/naive-bayes-spam-lab/datasets/easy_ham/1756.b13797de35037c4f26356e89ba3f9fb1\n",
      "Searching ./course_dump/week08/day1_intro_to_bayesian_statistics/naive-bayes-spam-lab/datasets/easy_ham/1250.d091586ae91eafbabb9c3dbc556697e6\n",
      "Searching ./course_dump/week08/day1_intro_to_bayesian_statistics/naive-bayes-spam-lab/datasets/easy_ham/1735.767c727c118916606982501980deb249\n",
      "Searching ./course_dump/week08/day1_intro_to_bayesian_statistics/naive-bayes-spam-lab/datasets/easy_ham/0284.4af1f0641ea6aae6a9645dcbeabe95e9\n",
      "Searching ./course_dump/week08/day1_intro_to_bayesian_statistics/naive-bayes-spam-lab/datasets/easy_ham/0773.e1edafa86a1670e9515d4d9c1bb288c9\n",
      "Searching ./course_dump/week08/day1_intro_to_bayesian_statistics/naive-bayes-spam-lab/datasets/easy_ham/0979.d3eaa275a74abc971eabaf1650d97bda\n",
      "Searching ./course_dump/week08/day1_intro_to_bayesian_statistics/naive-bayes-spam-lab/datasets/easy_ham/0570.17bb9eeb6562425ac2aee464a84f0e4a\n",
      "Searching ./course_dump/week08/day1_intro_to_bayesian_statistics/naive-bayes-spam-lab/datasets/easy_ham/2027.aa2db5ca652b0b600b96fb82387ac9f9\n",
      "Searching ./course_dump/week08/day1_intro_to_bayesian_statistics/naive-bayes-spam-lab/datasets/easy_ham/1818.30f57f8851044a464064eec4c938963d\n",
      "Searching ./course_dump/week08/day1_intro_to_bayesian_statistics/naive-bayes-spam-lab/datasets/easy_ham/1976.e5cc37d360e7f0720c6bc1a6f658c11d\n",
      "Searching ./course_dump/week08/day1_intro_to_bayesian_statistics/naive-bayes-spam-lab/datasets/easy_ham/1361.3851fdfcb5a5f99e2e47fd8150641280\n",
      "Searching ./course_dump/week08/day1_intro_to_bayesian_statistics/naive-bayes-spam-lab/datasets/easy_ham/0428.de24142d3236bb96f3ef6542c7dd98e8\n",
      "Searching ./course_dump/week08/day1_intro_to_bayesian_statistics/naive-bayes-spam-lab/datasets/easy_ham/2521.8e5616c36de4145286f63b8ddd50f429\n",
      "Searching ./course_dump/week08/day1_intro_to_bayesian_statistics/naive-bayes-spam-lab/datasets/easy_ham/1101.746ef58163a737e92d65d20b0e928120\n",
      "Searching ./course_dump/week08/day1_intro_to_bayesian_statistics/naive-bayes-spam-lab/datasets/easy_ham/0547.48bed4a66cbab49616e6d2a8f04a170b\n",
      "Searching ./course_dump/week08/day1_intro_to_bayesian_statistics/naive-bayes-spam-lab/datasets/easy_ham/1988.d2374814cd3906436597e3499bb02e4c\n",
      "Searching ./course_dump/week08/day1_intro_to_bayesian_statistics/naive-bayes-spam-lab/datasets/easy_ham/0260.b68400a28ee29cb2f24149a03db1fd9e\n",
      "Searching ./course_dump/week08/day1_intro_to_bayesian_statistics/naive-bayes-spam-lab/datasets/easy_ham/0280.6dca279b3e6aa252197d8439841032b4\n",
      "Searching ./course_dump/week08/day1_intro_to_bayesian_statistics/naive-bayes-spam-lab/datasets/easy_ham/1675.550f474e8aea76f79d203152aac1767f\n",
      "Searching ./course_dump/week08/day1_intro_to_bayesian_statistics/naive-bayes-spam-lab/datasets/easy_ham/0836.249730de164ba4999f1ab6ec2d3cb2d1\n",
      "Searching ./course_dump/week08/day1_intro_to_bayesian_statistics/naive-bayes-spam-lab/datasets/easy_ham/0868.a7f0eab61f87e815b082348fe914b86f\n",
      "Searching ./course_dump/week08/day1_intro_to_bayesian_statistics/naive-bayes-spam-lab/datasets/easy_ham/1940.a50f7af9a2b291721d17dff887604026\n",
      "Searching ./course_dump/week08/day1_intro_to_bayesian_statistics/naive-bayes-spam-lab/datasets/easy_ham/1498.578d31b0aab137aa9d79b455a6def5cd\n",
      "Searching ./course_dump/week08/day1_intro_to_bayesian_statistics/naive-bayes-spam-lab/datasets/easy_ham/0036.7ca216a105267375948e13b460d1fb8f\n",
      "Searching ./course_dump/week08/day1_intro_to_bayesian_statistics/naive-bayes-spam-lab/datasets/easy_ham/1322.7faaa22a10e2eab022719a868f587686\n",
      "Searching ./course_dump/week08/day1_intro_to_bayesian_statistics/naive-bayes-spam-lab/datasets/easy_ham/2278.4b1725f297a28cc4201e126b5cc0802f\n",
      "Searching ./course_dump/week08/day1_intro_to_bayesian_statistics/naive-bayes-spam-lab/datasets/easy_ham/0172.464b84890a849676c036baccf0f2344e\n",
      "Searching ./course_dump/week08/day1_intro_to_bayesian_statistics/naive-bayes-spam-lab/datasets/easy_ham/2117.d0ce36a8b096fff94266db762fe0dc7f\n",
      "Searching ./course_dump/week08/day1_intro_to_bayesian_statistics/naive-bayes-spam-lab/datasets/easy_ham/0335.fcbba7ed1ebfb6dc83ba2f65d555240e\n",
      "Searching ./course_dump/week08/day1_intro_to_bayesian_statistics/naive-bayes-spam-lab/datasets/easy_ham/0169.b19a689237947db7b9e244277e075edc\n",
      "Searching ./course_dump/week08/day1_intro_to_bayesian_statistics/naive-bayes-spam-lab/datasets/easy_ham/0234.4d23ca5049f3349529f5612ab5e2120d\n",
      "Searching ./course_dump/week08/day1_intro_to_bayesian_statistics/naive-bayes-spam-lab/datasets/easy_ham/0731.59e8a707586a8b3cfe89bff4024dead7\n",
      "Searching ./course_dump/week08/day1_intro_to_bayesian_statistics/naive-bayes-spam-lab/datasets/easy_ham/2197.ee9a24fff312f9634690428c61a9503e\n",
      "Searching ./course_dump/week08/day1_intro_to_bayesian_statistics/naive-bayes-spam-lab/datasets/easy_ham/1623.72d038c7896dc6d5b1ed6086a4ae2872\n",
      "Searching ./course_dump/week08/day1_intro_to_bayesian_statistics/naive-bayes-spam-lab/datasets/easy_ham/2465.2586b48935009c0fcea80ef5d89f4e20\n",
      "Searching ./course_dump/week08/day1_intro_to_bayesian_statistics/naive-bayes-spam-lab/datasets/easy_ham/1913.7cd33343ce0d77f610058bb8d3ff6863\n",
      "Searching ./course_dump/week08/day1_intro_to_bayesian_statistics/naive-bayes-spam-lab/datasets/easy_ham/0593.3c0b49542cfd173508426513c02483c6\n",
      "Searching ./course_dump/week08/day1_intro_to_bayesian_statistics/naive-bayes-spam-lab/datasets/easy_ham/2272.9b8411be19d932252fc3a66478f556e4\n",
      "Searching ./course_dump/week08/day1_intro_to_bayesian_statistics/naive-bayes-spam-lab/datasets/easy_ham/2349.3555a9d44c166a666e2708d576dbb163\n",
      "Searching ./course_dump/week08/day1_intro_to_bayesian_statistics/naive-bayes-spam-lab/datasets/easy_ham/0703.3654d01671685fc22993eae582a55152\n",
      "Searching ./course_dump/week08/day1_intro_to_bayesian_statistics/naive-bayes-spam-lab/datasets/easy_ham/2175.5e6bad4f0f6bc954e5883edc34a0e22c\n",
      "Searching ./course_dump/week08/day1_intro_to_bayesian_statistics/naive-bayes-spam-lab/datasets/easy_ham/1313.921e45a5265e4d5d55f1245fe4399824\n",
      "Searching ./course_dump/week08/day1_intro_to_bayesian_statistics/naive-bayes-spam-lab/datasets/easy_ham/0439.44081ab02df438a46002b412aee32fbc\n",
      "Searching ./course_dump/week08/day1_intro_to_bayesian_statistics/naive-bayes-spam-lab/datasets/easy_ham/0558.38c3bacad7e79fdf03dfdfcbfd19e787\n",
      "Searching ./course_dump/week08/day1_intro_to_bayesian_statistics/naive-bayes-spam-lab/datasets/easy_ham/2366.eb6da43296b0a8cadc1068709857d55e\n",
      "Searching ./course_dump/week08/day1_intro_to_bayesian_statistics/naive-bayes-spam-lab/datasets/easy_ham/1666.822fe7bdc3780066edfa4847f6399477\n",
      "Searching ./course_dump/week08/day1_intro_to_bayesian_statistics/naive-bayes-spam-lab/datasets/easy_ham/0243.7cc0334826a0571058dc604dce04c446\n",
      "Searching ./course_dump/week08/day1_intro_to_bayesian_statistics/naive-bayes-spam-lab/datasets/easy_ham/2462.5ae37f6f0ec68fd1c2dbcec70b6413c9\n",
      "Searching ./course_dump/week08/day1_intro_to_bayesian_statistics/naive-bayes-spam-lab/datasets/easy_ham/0813.9c59b6b0d4e221ca29d576cd2f170f06\n",
      "Searching ./course_dump/week08/day1_intro_to_bayesian_statistics/naive-bayes-spam-lab/datasets/easy_ham/0020.ef397cef16f8041242e3b6560e168053\n",
      "Searching ./course_dump/week08/day1_intro_to_bayesian_statistics/naive-bayes-spam-lab/datasets/easy_ham/2475.8572d77868481d0fe409eedd8fa6d443\n",
      "Searching ./course_dump/week08/day1_intro_to_bayesian_statistics/naive-bayes-spam-lab/datasets/easy_ham/1981.2482770c04473ab0060a30b04366cf37\n",
      "Searching ./course_dump/week08/day1_intro_to_bayesian_statistics/naive-bayes-spam-lab/datasets/easy_ham/1714.da964dedb8592fbfd3b07819607def62\n"
     ]
    },
    {
     "name": "stdout",
     "output_type": "stream",
     "text": [
      "Searching ./course_dump/week08/day1_intro_to_bayesian_statistics/naive-bayes-spam-lab/datasets/easy_ham/2365.3213a2f82f944bdc6faddf9fad3b32d3\n",
      "Searching ./course_dump/week08/day1_intro_to_bayesian_statistics/naive-bayes-spam-lab/datasets/easy_ham/1521.692de69e480a819f6d32578f93fca74b\n",
      "Searching ./course_dump/week08/day1_intro_to_bayesian_statistics/naive-bayes-spam-lab/datasets/easy_ham/0943.8e0d99659137e5ae2a5b47a557029095\n",
      "Searching ./course_dump/week08/day1_intro_to_bayesian_statistics/naive-bayes-spam-lab/datasets/easy_ham/1587.846578886a749978ec4a3f8cc44d9424\n",
      "Searching ./course_dump/week08/day1_intro_to_bayesian_statistics/naive-bayes-spam-lab/datasets/easy_ham/1003.c7f304574ba9fc075adee3caff7d770c\n",
      "Searching ./course_dump/week08/day1_intro_to_bayesian_statistics/naive-bayes-spam-lab/datasets/easy_ham/1232.2e3d43a305269573c1d4bd6bc0b6b103\n",
      "Searching ./course_dump/week08/day1_intro_to_bayesian_statistics/naive-bayes-spam-lab/datasets/easy_ham/2416.77fd4434a9abdaed5b53307fa16a7e2a\n",
      "Searching ./course_dump/week08/day1_intro_to_bayesian_statistics/naive-bayes-spam-lab/datasets/easy_ham/1804.a28b76746a64d3d352375a462f4f8404\n",
      "Searching ./course_dump/week08/day1_intro_to_bayesian_statistics/naive-bayes-spam-lab/datasets/easy_ham/0017.d81093a2182fc9135df6d9158a8ebfd6\n",
      "Searching ./course_dump/week08/day1_intro_to_bayesian_statistics/naive-bayes-spam-lab/datasets/easy_ham/0898.7ae0747c5a557c5362ba43b0fbfef22c\n",
      "Searching ./course_dump/week08/day1_intro_to_bayesian_statistics/naive-bayes-spam-lab/datasets/easy_ham/0919.7cc4e3008c6788cc7675d1662ea4df75\n",
      "Searching ./course_dump/week08/day1_intro_to_bayesian_statistics/naive-bayes-spam-lab/datasets/easy_ham/0149.d59bb0d23ca8ad3a87e549d3e6172f26\n",
      "Searching ./course_dump/week08/day1_intro_to_bayesian_statistics/naive-bayes-spam-lab/datasets/easy_ham/1817.822fd92abf93a33969943a291d819fdf\n",
      "Searching ./course_dump/week08/day1_intro_to_bayesian_statistics/naive-bayes-spam-lab/datasets/easy_ham/0780.a3cf52b9eac79db4f3d95e1735261df4\n",
      "Searching ./course_dump/week08/day1_intro_to_bayesian_statistics/naive-bayes-spam-lab/datasets/easy_ham/2032.898d3300f0d3d3011cc030aa1cfc24a6\n",
      "Searching ./course_dump/week08/day1_intro_to_bayesian_statistics/naive-bayes-spam-lab/datasets/easy_ham/0087.dd5f3aa35f50008bf7dfc5059ac8a239\n",
      "Searching ./course_dump/week08/day1_intro_to_bayesian_statistics/naive-bayes-spam-lab/datasets/easy_ham/0179.dee566fc951284d1d3bd3a0fdae63f4d\n",
      "Searching ./course_dump/week08/day1_intro_to_bayesian_statistics/naive-bayes-spam-lab/datasets/easy_ham/2390.0f7b7d202c0301fe0c19b45036e5018b\n",
      "Searching ./course_dump/week08/day1_intro_to_bayesian_statistics/naive-bayes-spam-lab/datasets/easy_ham/0861.6d286bd240426caa250c29aae36f9eab\n",
      "Searching ./course_dump/week08/day1_intro_to_bayesian_statistics/naive-bayes-spam-lab/datasets/easy_ham/2302.8d02dcc517d6da5c30cea81337abbb4b\n",
      "Searching ./course_dump/week08/day1_intro_to_bayesian_statistics/naive-bayes-spam-lab/datasets/easy_ham/0531.f459d23aa065d859c1cc4a6b2c19cddb\n",
      "Searching ./course_dump/week08/day1_intro_to_bayesian_statistics/naive-bayes-spam-lab/datasets/easy_ham/1526.084c29eaad19c537fc8dce129ec30744\n",
      "Searching ./course_dump/week08/day1_intro_to_bayesian_statistics/naive-bayes-spam-lab/datasets/easy_ham/1615.bb0721aadf9f170a979323adf11c22d5\n",
      "Searching ./course_dump/week08/day1_intro_to_bayesian_statistics/naive-bayes-spam-lab/datasets/easy_ham/0924.82e1631cf6ff85106c0d301b99b4e523\n",
      "Searching ./course_dump/week08/day1_intro_to_bayesian_statistics/naive-bayes-spam-lab/datasets/easy_ham/0450.8c49e2b6003571f6fa2911c172bec2c9\n",
      "Searching ./course_dump/week08/day1_intro_to_bayesian_statistics/naive-bayes-spam-lab/datasets/easy_ham/2054.0bc74ce9eff995567528d17ac987f506\n",
      "Searching ./course_dump/week08/day1_intro_to_bayesian_statistics/naive-bayes-spam-lab/datasets/easy_ham/0103.3fc5444196f4726ee138fbabc5086ea1\n",
      "Searching ./course_dump/week08/day1_intro_to_bayesian_statistics/naive-bayes-spam-lab/datasets/easy_ham/2190.bb3a7c01cc0fa4d7e2cb8237b593c570\n",
      "Searching ./course_dump/week08/day1_intro_to_bayesian_statistics/naive-bayes-spam-lab/datasets/easy_ham/1766.16e55768065036480deaa72ebb3bd8d5\n",
      "Searching ./course_dump/week08/day1_intro_to_bayesian_statistics/naive-bayes-spam-lab/datasets/easy_ham/0822.3ebf2e0f82aa0195233b0221d665410d\n",
      "Searching ./course_dump/week08/day1_intro_to_bayesian_statistics/naive-bayes-spam-lab/datasets/easy_ham/0390.d1ecb44eef90f33245ee0835d94e80ad\n",
      "Searching ./course_dump/week08/day1_intro_to_bayesian_statistics/naive-bayes-spam-lab/datasets/easy_ham/1013.8355d120301841c6b601bee02bb4c14f\n",
      "Searching ./course_dump/week08/day1_intro_to_bayesian_statistics/naive-bayes-spam-lab/datasets/easy_ham/2487.68761726d5f3f00dca1dded48e089e68\n",
      "Searching ./course_dump/week08/day1_intro_to_bayesian_statistics/naive-bayes-spam-lab/datasets/easy_ham/2209.81f0feff96d3c780aeaabb787fee38c1\n",
      "Searching ./course_dump/week08/day1_intro_to_bayesian_statistics/naive-bayes-spam-lab/datasets/easy_ham/1464.1bf98a5939c5dccf46f3e7c482e7e906\n",
      "Searching ./course_dump/week08/day1_intro_to_bayesian_statistics/naive-bayes-spam-lab/datasets/easy_ham/2290.e1d0fcd64ff40f42e222a9342cb9c822\n",
      "Searching ./course_dump/week08/day1_intro_to_bayesian_statistics/naive-bayes-spam-lab/datasets/easy_ham/2277.481836b537d072e0a7f4374797dae6b6\n",
      "Searching ./course_dump/week08/day1_intro_to_bayesian_statistics/naive-bayes-spam-lab/datasets/easy_ham/0550.8e86f9859287ac9846e3c179b29e0fc1\n",
      "Searching ./course_dump/week08/day1_intro_to_bayesian_statistics/naive-bayes-spam-lab/datasets/easy_ham/1345.df3d6d8a5d9e6bba6484fbef2dae9102\n",
      "Searching ./course_dump/week08/day1_intro_to_bayesian_statistics/naive-bayes-spam-lab/datasets/easy_ham/1951.c2e97ca6bd086d1944332980c1f64b65\n",
      "Searching ./course_dump/week08/day1_intro_to_bayesian_statistics/naive-bayes-spam-lab/datasets/easy_ham/1537.61e8d9ec6d8fe200987abca9969c2afb\n",
      "Searching ./course_dump/week08/day1_intro_to_bayesian_statistics/naive-bayes-spam-lab/datasets/easy_ham/1762.1d4646886358156accce640171c77c1d\n",
      "Searching ./course_dump/week08/day1_intro_to_bayesian_statistics/naive-bayes-spam-lab/datasets/easy_ham/1646.b241667d03a7ff89619c30cbe2f8dab2\n",
      "Searching ./course_dump/week08/day1_intro_to_bayesian_statistics/naive-bayes-spam-lab/datasets/easy_ham/0356.b70fca5029fcd82a09ec6b960f4920af\n",
      "Searching ./course_dump/week08/day1_intro_to_bayesian_statistics/naive-bayes-spam-lab/datasets/easy_ham/1801.906dd11cca6bee22c6843afb597c87a3\n",
      "Searching ./course_dump/week08/day1_intro_to_bayesian_statistics/naive-bayes-spam-lab/datasets/easy_ham/0042.7ef6c72f88de15d72b1c0d9c164ccb78\n",
      "Searching ./course_dump/week08/day1_intro_to_bayesian_statistics/naive-bayes-spam-lab/datasets/easy_ham/1631.83be0168863d5e67ce580ac556150ed2\n",
      "Searching ./course_dump/week08/day1_intro_to_bayesian_statistics/naive-bayes-spam-lab/datasets/easy_ham/2047.4766cf419e857e8607dd61aa15a7ab3c\n",
      "Searching ./course_dump/week08/day1_intro_to_bayesian_statistics/naive-bayes-spam-lab/datasets/easy_ham/0317.6db6d4e89fecd143caaf99e030792bd1\n",
      "Searching ./course_dump/week08/day1_intro_to_bayesian_statistics/naive-bayes-spam-lab/datasets/easy_ham/1945.da4e2be4c3804460bd43c2ab2aed19a8\n",
      "Searching ./course_dump/week08/day1_intro_to_bayesian_statistics/naive-bayes-spam-lab/datasets/easy_ham/1077.5967a2892063a3470f32596403b095aa\n",
      "Searching ./course_dump/week08/day1_intro_to_bayesian_statistics/naive-bayes-spam-lab/datasets/easy_ham/1661.ea88a58a5adbb42b5f456544688849ad\n",
      "Searching ./course_dump/week08/day1_intro_to_bayesian_statistics/naive-bayes-spam-lab/datasets/easy_ham/2062.00a15e0970e59bea61ce471713af3f34\n",
      "Searching ./course_dump/week08/day1_intro_to_bayesian_statistics/naive-bayes-spam-lab/datasets/easy_ham/1456.c3d6fc8d95ff2e649889cefaec7920f3\n",
      "Searching ./course_dump/week08/day1_intro_to_bayesian_statistics/naive-bayes-spam-lab/datasets/easy_ham/0345.c30e766af45337ac505a52ad592ab954\n",
      "Searching ./course_dump/week08/day1_intro_to_bayesian_statistics/naive-bayes-spam-lab/datasets/easy_ham/1123.bad0078427c9876eb7986cd7e9000553\n",
      "Searching ./course_dump/week08/day1_intro_to_bayesian_statistics/naive-bayes-spam-lab/datasets/easy_ham/0578.a91b2f2cc20b7a68d5e340cac03da3ee\n",
      "Searching ./course_dump/week08/day1_intro_to_bayesian_statistics/naive-bayes-spam-lab/datasets/easy_ham/0339.45c8c8ff5b106eddd657973d07462c82\n",
      "Searching ./course_dump/week08/day1_intro_to_bayesian_statistics/naive-bayes-spam-lab/datasets/easy_ham/1920.3a0ab24e273f9a6f48d2168575425fcd\n",
      "Searching ./course_dump/week08/day1_intro_to_bayesian_statistics/naive-bayes-spam-lab/datasets/easy_ham/2046.3f95a61d81925dfddbb0fb1de0a1caf4\n",
      "Searching ./course_dump/week08/day1_intro_to_bayesian_statistics/naive-bayes-spam-lab/datasets/easy_ham/0371.9d01da72c49d57814fa8a37c7b981bf1\n",
      "Searching ./course_dump/week08/day1_intro_to_bayesian_statistics/naive-bayes-spam-lab/datasets/easy_ham/2339.156bc9a5abab7543af15b23d02f1196c\n",
      "Searching ./course_dump/week08/day1_intro_to_bayesian_statistics/naive-bayes-spam-lab/datasets/easy_ham/0337.9ae9f15c4dceca867140e95cad506234\n",
      "Searching ./course_dump/week08/day1_intro_to_bayesian_statistics/naive-bayes-spam-lab/datasets/easy_ham/2309.79490ce6b415bc4e9326f3e2e65874f4\n",
      "Searching ./course_dump/week08/day1_intro_to_bayesian_statistics/naive-bayes-spam-lab/datasets/easy_ham/0803.87956a6c8c2637ad52cb670a5385faf2\n",
      "Searching ./course_dump/week08/day1_intro_to_bayesian_statistics/naive-bayes-spam-lab/datasets/easy_ham/0818.c7f83ef6692e7bcec3fc31d04880f51f\n",
      "Searching ./course_dump/week08/day1_intro_to_bayesian_statistics/naive-bayes-spam-lab/datasets/easy_ham/1546.2bf79dda9e1450d2be84ab65f5c3ca6d\n",
      "Searching ./course_dump/week08/day1_intro_to_bayesian_statistics/naive-bayes-spam-lab/datasets/easy_ham/1936.8cc99e560c5a9d5a45dda7015adf539a\n"
     ]
    },
    {
     "name": "stdout",
     "output_type": "stream",
     "text": [
      "Searching ./course_dump/week08/day1_intro_to_bayesian_statistics/naive-bayes-spam-lab/datasets/easy_ham/0441.ceab9dcbd4892de96af3e38b96205f54\n",
      "Searching ./course_dump/week08/day1_intro_to_bayesian_statistics/naive-bayes-spam-lab/datasets/easy_ham/1389.447a639594555183f1643cb44d9f8ce2\n",
      "Searching ./course_dump/week08/day1_intro_to_bayesian_statistics/naive-bayes-spam-lab/datasets/easy_ham/0909.6e3ac55814e0630adcbe7e91f131e18c\n",
      "Searching ./course_dump/week08/day1_intro_to_bayesian_statistics/naive-bayes-spam-lab/datasets/easy_ham/1823.edac63c7227d89192cc41c922d689d22\n",
      "Searching ./course_dump/week08/day1_intro_to_bayesian_statistics/naive-bayes-spam-lab/datasets/easy_ham/0051.9281d3f8a3faf47d09a7fafdf2caf26e\n",
      "Searching ./course_dump/week08/day1_intro_to_bayesian_statistics/naive-bayes-spam-lab/datasets/easy_ham/1605.95c19e87a7c394abe0e459ba511935e5\n",
      "Searching ./course_dump/week08/day1_intro_to_bayesian_statistics/naive-bayes-spam-lab/datasets/easy_ham/2448.b0f260e47f1853702da3918968a3588e\n",
      "Searching ./course_dump/week08/day1_intro_to_bayesian_statistics/naive-bayes-spam-lab/datasets/easy_ham/0645.10b54fc6ea0ff6afea35a0dc440cc2d1\n",
      "Searching ./course_dump/week08/day1_intro_to_bayesian_statistics/naive-bayes-spam-lab/datasets/easy_ham/2267.816224149ebb21f829d9e39f8ad00f4e\n",
      "Searching ./course_dump/week08/day1_intro_to_bayesian_statistics/naive-bayes-spam-lab/datasets/easy_ham/2105.b5a33b8a9bb69d17d1b2201aaf5978b2\n",
      "Searching ./course_dump/week08/day1_intro_to_bayesian_statistics/naive-bayes-spam-lab/datasets/easy_ham/0468.0b81ecd8710adb4c1ed9920b5fd03e88\n",
      "Searching ./course_dump/week08/day1_intro_to_bayesian_statistics/naive-bayes-spam-lab/datasets/easy_ham/0230.a6e285288a40fccdbea8cf93de581ad2\n",
      "Searching ./course_dump/week08/day1_intro_to_bayesian_statistics/naive-bayes-spam-lab/datasets/easy_ham/0529.39faaedc75738c375b3de0c0a5766498\n",
      "Searching ./course_dump/week08/day1_intro_to_bayesian_statistics/naive-bayes-spam-lab/datasets/easy_ham/0212.28ec74e3e60f9ea866ee8ef8e429254b\n",
      "Searching ./course_dump/week08/day1_intro_to_bayesian_statistics/naive-bayes-spam-lab/datasets/easy_ham/2210.fa8009fc379535ff811863bbf3dcac4f\n",
      "Searching ./course_dump/week08/day1_intro_to_bayesian_statistics/naive-bayes-spam-lab/datasets/easy_ham/1500.2e6e497d8947d6125050b838efe4cf1f\n",
      "Searching ./course_dump/week08/day1_intro_to_bayesian_statistics/naive-bayes-spam-lab/datasets/easy_ham/0327.bf6719c9c1709b6da832232acb1ee97f\n",
      "Searching ./course_dump/week08/day1_intro_to_bayesian_statistics/naive-bayes-spam-lab/datasets/easy_ham/2337.f9b3f7fca5d81b0c44d65c8963974f64\n",
      "Searching ./course_dump/week08/day1_intro_to_bayesian_statistics/naive-bayes-spam-lab/datasets/easy_ham/1701.39d6d3507aa62320295032f0c0e4435c\n",
      "Searching ./course_dump/week08/day1_intro_to_bayesian_statistics/naive-bayes-spam-lab/datasets/easy_ham/2341.23fc100bad93aab582c5fe870225bac2\n",
      "Searching ./course_dump/week08/day1_intro_to_bayesian_statistics/naive-bayes-spam-lab/datasets/easy_ham/1116.e30f22bbdea56cb1ba244a559564ddde\n",
      "Searching ./course_dump/week08/day1_intro_to_bayesian_statistics/naive-bayes-spam-lab/datasets/easy_ham/0985.1325fda30e2108d0b397796b11234f85\n",
      "Searching ./course_dump/week08/day1_intro_to_bayesian_statistics/naive-bayes-spam-lab/datasets/easy_ham/1332.64cca4cfc08e86b88c4974237e7c2a5a\n",
      "Searching ./course_dump/week08/day1_intro_to_bayesian_statistics/naive-bayes-spam-lab/datasets/easy_ham/1729.f1819fca167a26d35e31087bf27324f8\n",
      "Searching ./course_dump/week08/day1_intro_to_bayesian_statistics/naive-bayes-spam-lab/datasets/easy_ham/2203.eec5537a68a269c41b4a81fce7237e0b\n",
      "Searching ./course_dump/week08/day1_intro_to_bayesian_statistics/naive-bayes-spam-lab/datasets/easy_ham/0136.25b4244e9510e810f89f6570d476c0e8\n",
      "Searching ./course_dump/week08/day1_intro_to_bayesian_statistics/naive-bayes-spam-lab/datasets/easy_ham/1539.3492ab4db8fc4cb31731e0eafcee6839\n",
      "Searching ./course_dump/week08/day1_intro_to_bayesian_statistics/naive-bayes-spam-lab/datasets/easy_ham/1039.28e0f6b0f1e09bbcebc01183bd3557c4\n",
      "Searching ./course_dump/week08/day1_intro_to_bayesian_statistics/naive-bayes-spam-lab/datasets/easy_ham/0981.c8d50b71ed6245f895b58c29d60c09be\n",
      "Searching ./course_dump/week08/day1_intro_to_bayesian_statistics/naive-bayes-spam-lab/datasets/easy_ham/0484.9c63b894f85b12f32ad5e5b97cd5c49c\n",
      "Searching ./course_dump/week08/day1_intro_to_bayesian_statistics/naive-bayes-spam-lab/datasets/easy_ham/2258.4f25aa8ad2f15bf052ed996d40bca9a0\n",
      "Searching ./course_dump/week08/day1_intro_to_bayesian_statistics/naive-bayes-spam-lab/datasets/easy_ham/2510.4de2705ed127d2de3f3b5cd1b8043ba6\n",
      "Searching ./course_dump/week08/day1_intro_to_bayesian_statistics/naive-bayes-spam-lab/datasets/easy_ham/1154.674eb8b1b601caf93e93010364a5a715\n",
      "Searching ./course_dump/week08/day1_intro_to_bayesian_statistics/naive-bayes-spam-lab/datasets/easy_ham/0305.99f57ae578aceda0433b60cb35fd4ea2\n",
      "Searching ./course_dump/week08/day1_intro_to_bayesian_statistics/naive-bayes-spam-lab/datasets/easy_ham/1832.01f5d745e5bca5dcb35f0f863f4b0bdf\n",
      "Searching ./course_dump/week08/day1_intro_to_bayesian_statistics/naive-bayes-spam-lab/datasets/easy_ham/0253.f8c6edd67ecdabe677a8f5cd082e3fc5\n",
      "Searching ./course_dump/week08/day1_intro_to_bayesian_statistics/naive-bayes-spam-lab/datasets/easy_ham/1780.35908078146d2d19fccf8b786aa83cf7\n",
      "Searching ./course_dump/week08/day1_intro_to_bayesian_statistics/naive-bayes-spam-lab/datasets/easy_ham/1098.0f56b798157b9bd933814ba687e722f1\n",
      "Searching ./course_dump/week08/day1_intro_to_bayesian_statistics/naive-bayes-spam-lab/datasets/easy_ham/1151.29e4a84f607ead7d55a50aeef2c3f574\n",
      "Searching ./course_dump/week08/day1_intro_to_bayesian_statistics/naive-bayes-spam-lab/datasets/easy_ham/0859.c5de7d55c638b365941e5077d598ff6a\n",
      "Searching ./course_dump/week08/day1_intro_to_bayesian_statistics/naive-bayes-spam-lab/datasets/easy_ham/2050.24cc1daa8d252a81f59a09e8f69e9c71\n",
      "Searching ./course_dump/week08/day1_intro_to_bayesian_statistics/naive-bayes-spam-lab/datasets/easy_ham/0743.11737315524334fda4487c948caab0a0\n",
      "Searching ./course_dump/week08/day1_intro_to_bayesian_statistics/naive-bayes-spam-lab/datasets/easy_ham/0588.cb6d96aaef48d53bc690e780276d6595\n",
      "Searching ./course_dump/week08/day1_intro_to_bayesian_statistics/naive-bayes-spam-lab/datasets/easy_ham/1867.fd43077a27b6e0bff531d55a475902ca\n",
      "Searching ./course_dump/week08/day1_intro_to_bayesian_statistics/naive-bayes-spam-lab/datasets/easy_ham/2528.8b6dd74e9b8d04f5f1338bcec51b0b11\n",
      "Searching ./course_dump/week08/day1_intro_to_bayesian_statistics/naive-bayes-spam-lab/datasets/easy_ham/1058.f26006b375cfbfb03f4903683f585808\n",
      "Searching ./course_dump/week08/day1_intro_to_bayesian_statistics/naive-bayes-spam-lab/datasets/easy_ham/2540.9527f844d218311f91ec4d87fd2035ca\n",
      "Searching ./course_dump/week08/day1_intro_to_bayesian_statistics/naive-bayes-spam-lab/datasets/easy_ham/1000.348e8a82897b05d584de019f4dd5c7e2\n",
      "Searching ./course_dump/week08/day1_intro_to_bayesian_statistics/naive-bayes-spam-lab/datasets/easy_ham/2113.b1a292a55bfb009ad4b70518d7399249\n",
      "Searching ./course_dump/week08/day1_intro_to_bayesian_statistics/naive-bayes-spam-lab/datasets/easy_ham/0902.056094d922ad63d0d84ad331469a3b37\n",
      "Searching ./course_dump/week08/day1_intro_to_bayesian_statistics/naive-bayes-spam-lab/datasets/easy_ham/0164.ae42a102de7318dc4876af403b6e5956\n",
      "Searching ./course_dump/week08/day1_intro_to_bayesian_statistics/naive-bayes-spam-lab/datasets/easy_ham/0800.ade9f54d2342efc6cd3ab051eeb6770a\n",
      "Searching ./course_dump/week08/day1_intro_to_bayesian_statistics/naive-bayes-spam-lab/datasets/easy_ham/2494.ad5de9e5dc49e51155a6d444e772b671\n",
      "Searching ./course_dump/week08/day1_intro_to_bayesian_statistics/naive-bayes-spam-lab/datasets/easy_ham/1708.0c3b6a8fbd582be37cb1fc8438a3ed84\n",
      "Searching ./course_dump/week08/day1_intro_to_bayesian_statistics/naive-bayes-spam-lab/datasets/easy_ham/2449.d06b13a245cc7eb0f5bd7ae0b4f3c2f9\n",
      "Searching ./course_dump/week08/day1_intro_to_bayesian_statistics/naive-bayes-spam-lab/datasets/easy_ham/0680.7f29d3e313c7bf2b543c6fa48b43e77e\n",
      "Searching ./course_dump/week08/day1_intro_to_bayesian_statistics/naive-bayes-spam-lab/datasets/easy_ham/0249.d591bcf606114a502b4d41e8f4dde95a\n",
      "Searching ./course_dump/week08/day1_intro_to_bayesian_statistics/naive-bayes-spam-lab/datasets/easy_ham/1935.323e3a0e8b8ecafaf86e9fa18db016fd\n",
      "Searching ./course_dump/week08/day1_intro_to_bayesian_statistics/naive-bayes-spam-lab/datasets/easy_ham/2405.6e9650560fd0949f45dfa090e2588fb0\n",
      "Searching ./course_dump/week08/day1_intro_to_bayesian_statistics/naive-bayes-spam-lab/datasets/easy_ham/0830.36efbaa51125bf5c1697fd795b3a26a2\n"
     ]
    },
    {
     "name": "stdout",
     "output_type": "stream",
     "text": [
      "Searching ./course_dump/week08/day1_intro_to_bayesian_statistics/naive-bayes-spam-lab/datasets/easy_ham/1158.99fa7ccbe31c36e259370ffbb2789c82\n",
      "Searching ./course_dump/week08/day1_intro_to_bayesian_statistics/naive-bayes-spam-lab/datasets/easy_ham/2502.1b59b45ca1fe56edf35ae8a398636806\n",
      "Searching ./course_dump/week08/day1_intro_to_bayesian_statistics/naive-bayes-spam-lab/datasets/easy_ham/1470.31e4ece4f510b5b908162fe1f1904ef2\n",
      "Searching ./course_dump/week08/day1_intro_to_bayesian_statistics/naive-bayes-spam-lab/datasets/easy_ham/1739.07c82f37d072bce96820af0bbef80eff\n",
      "Searching ./course_dump/week08/day1_intro_to_bayesian_statistics/naive-bayes-spam-lab/datasets/easy_ham/0334.c59bc33795d3a1b56747297a900bd0ce\n",
      "Searching ./course_dump/week08/day1_intro_to_bayesian_statistics/naive-bayes-spam-lab/datasets/easy_ham/2224.07aac9706fc57ce094f3cd93cb05cd0d\n",
      "Searching ./course_dump/week08/day1_intro_to_bayesian_statistics/naive-bayes-spam-lab/datasets/easy_ham/0687.e47c95556602cc66337c90bc82efa66a\n",
      "Searching ./course_dump/week08/day1_intro_to_bayesian_statistics/naive-bayes-spam-lab/datasets/easy_ham/1883.c01cf3c82533724234cb1e6ae871027d\n",
      "Searching ./course_dump/week08/day1_intro_to_bayesian_statistics/naive-bayes-spam-lab/datasets/easy_ham/2223.87c179a36eac549816ca5abe8e0eba2c\n",
      "Searching ./course_dump/week08/day1_intro_to_bayesian_statistics/naive-bayes-spam-lab/datasets/easy_ham/2287.0b1fb73371b1d056d6285d88053481da\n",
      "Searching ./course_dump/week08/day1_intro_to_bayesian_statistics/naive-bayes-spam-lab/datasets/easy_ham/0974.12d5f785a949c7cd9c0c81a34a370842\n",
      "Searching ./course_dump/week08/day1_intro_to_bayesian_statistics/naive-bayes-spam-lab/datasets/easy_ham/0660.72cd510cc3e2813ce5fa531d7cc31440\n",
      "Searching ./course_dump/week08/day1_intro_to_bayesian_statistics/naive-bayes-spam-lab/datasets/easy_ham/0888.a8cf27198dd5b8612b47fe3f8f19266f\n",
      "Searching ./course_dump/week08/day1_intro_to_bayesian_statistics/naive-bayes-spam-lab/datasets/easy_ham/2137.0f7a7520bac29f7b0f65a8f44350aaa1\n",
      "Searching ./course_dump/week08/day1_intro_to_bayesian_statistics/naive-bayes-spam-lab/datasets/easy_ham/1176.5069b991bdfa80bc965015a7a94c3a4b\n",
      "Searching ./course_dump/week08/day1_intro_to_bayesian_statistics/naive-bayes-spam-lab/datasets/easy_ham/0326.703aa5be82f6586d348723b732176418\n",
      "Searching ./course_dump/week08/day1_intro_to_bayesian_statistics/naive-bayes-spam-lab/datasets/easy_ham/0422.cf8753c2ab03fedf1c9a2d8fb1c1578f\n",
      "Searching ./course_dump/week08/day1_intro_to_bayesian_statistics/naive-bayes-spam-lab/datasets/easy_ham/1731.5dc6289341b8bccf7a1b7b976f96e005\n",
      "Searching ./course_dump/week08/day1_intro_to_bayesian_statistics/naive-bayes-spam-lab/datasets/easy_ham/0934.e85452a78cc528b9b99dac7ae0af5d82\n",
      "Searching ./course_dump/week08/day1_intro_to_bayesian_statistics/naive-bayes-spam-lab/datasets/easy_ham/1751.7758ab9d9eb224bcb73e0e8e803e92c9\n",
      "Searching ./course_dump/week08/day1_intro_to_bayesian_statistics/naive-bayes-spam-lab/datasets/easy_ham/2456.1b028dbafc21c1169e554a1ca612743f\n",
      "Searching ./course_dump/week08/day1_intro_to_bayesian_statistics/naive-bayes-spam-lab/datasets/easy_ham/0204.d0d4480181d7f3becf6f755de8a21019\n",
      "Searching ./course_dump/week08/day1_intro_to_bayesian_statistics/naive-bayes-spam-lab/datasets/easy_ham/0127.2ac0e9f6527f224201604786789540b2\n",
      "Searching ./course_dump/week08/day1_intro_to_bayesian_statistics/naive-bayes-spam-lab/datasets/easy_ham/0710.3005b6bc245758d98c9a9626c1de69a7\n",
      "Searching ./course_dump/week08/day1_intro_to_bayesian_statistics/naive-bayes-spam-lab/datasets/easy_ham/2070.812cfc32f3b181d9065454b27aa7c498\n",
      "Searching ./course_dump/week08/day1_intro_to_bayesian_statistics/naive-bayes-spam-lab/datasets/easy_ham/0315.15b9ae14057d961ba4ccec2283b8d90a\n",
      "Searching ./course_dump/week08/day1_intro_to_bayesian_statistics/naive-bayes-spam-lab/datasets/easy_ham/0095.b51416f612ac5737e0f4a5529ce453d1\n",
      "Searching ./course_dump/week08/day1_intro_to_bayesian_statistics/naive-bayes-spam-lab/datasets/easy_ham/0302.fdd70fa4825d589e4646798a785f6902\n",
      "Searching ./course_dump/week08/day1_intro_to_bayesian_statistics/naive-bayes-spam-lab/datasets/easy_ham/0346.99d1bb3416a43eaa05b6162d7f38eb71\n",
      "Searching ./course_dump/week08/day1_intro_to_bayesian_statistics/naive-bayes-spam-lab/datasets/easy_ham/2131.87a32fea62016d67931fa6138ad51748\n",
      "Searching ./course_dump/week08/day1_intro_to_bayesian_statistics/naive-bayes-spam-lab/datasets/easy_ham/1528.e2fa148e32e3c975b3afff6959c2ab6b\n",
      "Searching ./course_dump/week08/day1_intro_to_bayesian_statistics/naive-bayes-spam-lab/datasets/easy_ham/1856.ae52e350b9847d6f5c6ca350c4f4eacb\n",
      "Searching ./course_dump/week08/day1_intro_to_bayesian_statistics/naive-bayes-spam-lab/datasets/easy_ham/0197.59ea60c031993abdccb762f9dbb35340\n",
      "Searching ./course_dump/week08/day1_intro_to_bayesian_statistics/naive-bayes-spam-lab/datasets/easy_ham/2447.e93a9792f68b12cbc322eba2353b3c8e\n",
      "Searching ./course_dump/week08/day1_intro_to_bayesian_statistics/naive-bayes-spam-lab/datasets/easy_ham/1049.dd8e9af1e92bc41d998cc4159e5588d5\n",
      "Searching ./course_dump/week08/day1_intro_to_bayesian_statistics/naive-bayes-spam-lab/datasets/easy_ham/0907.f0d5881329abda19ea946cf5c2e15d63\n",
      "Searching ./course_dump/week08/day1_intro_to_bayesian_statistics/naive-bayes-spam-lab/datasets/easy_ham/0668.d9eabdd9363513f9740355970eff7ae6\n",
      "Searching ./course_dump/week08/day1_intro_to_bayesian_statistics/naive-bayes-spam-lab/datasets/easy_ham/1025.77dcf4ff92802ab3af94b9516d25b02a\n",
      "Searching ./course_dump/week08/day1_intro_to_bayesian_statistics/naive-bayes-spam-lab/datasets/easy_ham/1298.d2696bf43cfe971dae857c2d0946ad20\n",
      "Searching ./course_dump/week08/day1_intro_to_bayesian_statistics/naive-bayes-spam-lab/datasets/easy_ham/0132.bcd23223120c0be6b991ae0349cd127c\n",
      "Searching ./course_dump/week08/day1_intro_to_bayesian_statistics/naive-bayes-spam-lab/datasets/easy_ham/0625.42179d43c513cf5c4e9d9ef00e9235a1\n",
      "Searching ./course_dump/week08/day1_intro_to_bayesian_statistics/naive-bayes-spam-lab/datasets/easy_ham/1713.3572d2093ff4f9c24db5cf4a7a9a7ae6\n",
      "Searching ./course_dump/week08/day1_intro_to_bayesian_statistics/naive-bayes-spam-lab/datasets/easy_ham/1399.5ee3b9902af076cc63e0c4e612f99ba0\n",
      "Searching ./course_dump/week08/day1_intro_to_bayesian_statistics/naive-bayes-spam-lab/datasets/easy_ham/2297.8d74f69a4188439b893c12936837707d\n",
      "Searching ./course_dump/week08/day1_intro_to_bayesian_statistics/naive-bayes-spam-lab/datasets/easy_ham/2345.f7e1e6af67f433af40d8f153ee5fa446\n",
      "Searching ./course_dump/week08/day1_intro_to_bayesian_statistics/naive-bayes-spam-lab/datasets/easy_ham/1051.cf81a19208b703f18497a0d6fedb1f13\n",
      "Searching ./course_dump/week08/day1_intro_to_bayesian_statistics/naive-bayes-spam-lab/datasets/easy_ham/1252.01338681a590fb6bd30ef412a98a2993\n",
      "Searching ./course_dump/week08/day1_intro_to_bayesian_statistics/naive-bayes-spam-lab/datasets/easy_ham/0913.40f91b03e40a8c45819dabbfd5dc8158\n",
      "Searching ./course_dump/week08/day1_intro_to_bayesian_statistics/naive-bayes-spam-lab/datasets/easy_ham/2192.8b18ba01caeb845ee9204b43cd7e8dd6\n",
      "Searching ./course_dump/week08/day1_intro_to_bayesian_statistics/naive-bayes-spam-lab/datasets/easy_ham/1562.6aca6138ec917241b64782a98697c17f\n",
      "Searching ./course_dump/week08/day1_intro_to_bayesian_statistics/naive-bayes-spam-lab/datasets/easy_ham/0693.34e853f55e9434e84268d25d2f0a6f91\n",
      "Searching ./course_dump/week08/day1_intro_to_bayesian_statistics/naive-bayes-spam-lab/datasets/easy_ham/0282.fd87e7b9765004f6123ebe981bc16a1c\n",
      "Searching ./course_dump/week08/day1_intro_to_bayesian_statistics/naive-bayes-spam-lab/datasets/easy_ham/2537.2769f2836293c4c9105e6a89fc14fd8e\n",
      "Searching ./course_dump/week08/day1_intro_to_bayesian_statistics/naive-bayes-spam-lab/datasets/easy_ham/2429.ba3172b8bb1849e4ef208584b4fa51dd\n",
      "Searching ./course_dump/week08/day1_intro_to_bayesian_statistics/naive-bayes-spam-lab/datasets/easy_ham/1043.701d8a6b948c0e1406a85fc621497237\n",
      "Searching ./course_dump/week08/day1_intro_to_bayesian_statistics/naive-bayes-spam-lab/datasets/easy_ham/0030.77828e31de08ebb58b583688b87524cc\n",
      "Searching ./course_dump/week08/day1_intro_to_bayesian_statistics/naive-bayes-spam-lab/datasets/easy_ham/1362.0a5bfcffd711edd195f14820b0677c44\n",
      "Searching ./course_dump/week08/day1_intro_to_bayesian_statistics/naive-bayes-spam-lab/datasets/easy_ham/2403.7fd62c5d5507dd023dfb3141b4d84602\n",
      "Searching ./course_dump/week08/day1_intro_to_bayesian_statistics/naive-bayes-spam-lab/datasets/easy_ham/0908.ed1a6d5d837cf45b48c47dfb105607e9\n",
      "Searching ./course_dump/week08/day1_intro_to_bayesian_statistics/naive-bayes-spam-lab/datasets/easy_ham/1130.17bf22bf823f2f45dca52f9933300160\n",
      "Searching ./course_dump/week08/day1_intro_to_bayesian_statistics/naive-bayes-spam-lab/datasets/easy_ham/0945.1a86d4f67991ad5793a17ba1863edd17\n",
      "Searching ./course_dump/week08/day1_intro_to_bayesian_statistics/naive-bayes-spam-lab/datasets/easy_ham/0748.b144313155aeba13b5eda936e120daae\n",
      "Searching ./course_dump/week08/day1_intro_to_bayesian_statistics/naive-bayes-spam-lab/datasets/easy_ham/1027.35033a975b9979f1a2eb34db590b32ac\n"
     ]
    },
    {
     "name": "stdout",
     "output_type": "stream",
     "text": [
      "Searching ./course_dump/week08/day1_intro_to_bayesian_statistics/naive-bayes-spam-lab/datasets/easy_ham/0972.58234e68337a7a333ca40560900f82d9\n",
      "Searching ./course_dump/week08/day1_intro_to_bayesian_statistics/naive-bayes-spam-lab/datasets/easy_ham/2319.ea6f1029883040d12f7355a83cd0326e\n",
      "Searching ./course_dump/week08/day1_intro_to_bayesian_statistics/naive-bayes-spam-lab/datasets/easy_ham/1441.8344939e17984af793af15791dc9ffb8\n",
      "Searching ./course_dump/week08/day1_intro_to_bayesian_statistics/naive-bayes-spam-lab/datasets/easy_ham/0810.0b45692b95f22dd7373a9f464e96a518\n",
      "Searching ./course_dump/week08/day1_intro_to_bayesian_statistics/naive-bayes-spam-lab/datasets/easy_ham/1475.e7844d0026786e6b2828a0434860f7f6\n",
      "Searching ./course_dump/week08/day1_intro_to_bayesian_statistics/naive-bayes-spam-lab/datasets/easy_ham/1265.44012a15af306a59078f2873b92a855f\n",
      "Searching ./course_dump/week08/day1_intro_to_bayesian_statistics/naive-bayes-spam-lab/datasets/easy_ham/1380.c3103ee67e5faa8447f8bd57f845f58d\n",
      "Searching ./course_dump/week08/day1_intro_to_bayesian_statistics/naive-bayes-spam-lab/datasets/easy_ham/1669.4bcc4cd50bc3d03cba237953480ffefb\n",
      "Searching ./course_dump/week08/day1_intro_to_bayesian_statistics/naive-bayes-spam-lab/datasets/easy_ham/0897.c0fe033806bfaf60f935e01aec04eec6\n",
      "Searching ./course_dump/week08/day1_intro_to_bayesian_statistics/naive-bayes-spam-lab/datasets/easy_ham/0925.c1066ea70b0e714fcea10b379e32d573\n",
      "Searching ./course_dump/week08/day1_intro_to_bayesian_statistics/naive-bayes-spam-lab/datasets/easy_ham/0463.c5c77cc5a816139109a96702b323b6b3\n",
      "Searching ./course_dump/week08/day1_intro_to_bayesian_statistics/naive-bayes-spam-lab/datasets/easy_ham/2459.f9df87daac76e5eab06b4afa37b3921d\n",
      "Searching ./course_dump/week08/day1_intro_to_bayesian_statistics/naive-bayes-spam-lab/datasets/easy_ham/2221.13e25582abf522bfe1afc5c9ad180bde\n",
      "Searching ./course_dump/week08/day1_intro_to_bayesian_statistics/naive-bayes-spam-lab/datasets/easy_ham/0391.e1f15b5f5a6dbbb8cde6571055be3127\n",
      "Searching ./course_dump/week08/day1_intro_to_bayesian_statistics/naive-bayes-spam-lab/datasets/easy_ham/2011.9604a6dfecb37414590009d7c0c04f30\n",
      "Searching ./course_dump/week08/day1_intro_to_bayesian_statistics/naive-bayes-spam-lab/datasets/easy_ham/1712.ac9408d8e56446c8bd0a917aed234b87\n",
      "Searching ./course_dump/week08/day1_intro_to_bayesian_statistics/naive-bayes-spam-lab/datasets/easy_ham/2082.a64b76ffad320677e6f8143c56205455\n",
      "Searching ./course_dump/week08/day1_intro_to_bayesian_statistics/naive-bayes-spam-lab/datasets/easy_ham/0858.23f1e5976dae32b0061a6e206aa73241\n",
      "Searching ./course_dump/week08/day1_intro_to_bayesian_statistics/naive-bayes-spam-lab/datasets/easy_ham/1811.49621617c6fee0551ce210e30094898a\n",
      "Searching ./course_dump/week08/day1_intro_to_bayesian_statistics/naive-bayes-spam-lab/datasets/easy_ham/1071.91f54390dd8c0706ed1b657fb0598ba7\n",
      "Searching ./course_dump/week08/day1_intro_to_bayesian_statistics/naive-bayes-spam-lab/datasets/easy_ham/1014.8262a256b8f2e481dcae966b0c5088e8\n",
      "Searching ./course_dump/week08/day1_intro_to_bayesian_statistics/naive-bayes-spam-lab/datasets/easy_ham/2176.71c9df46ed8e77885083e1b9bb7f6276\n",
      "Searching ./course_dump/week08/day1_intro_to_bayesian_statistics/naive-bayes-spam-lab/datasets/easy_ham/0054.a6fa82d1b26c7772829e54ec41a1fbd3\n",
      "Searching ./course_dump/week08/day1_intro_to_bayesian_statistics/naive-bayes-spam-lab/datasets/easy_ham/1911.bcd8913fc0feb8f2a32f80d1498d3718\n",
      "Searching ./course_dump/week08/day1_intro_to_bayesian_statistics/naive-bayes-spam-lab/datasets/easy_ham/0448.5f7f638ed6f6f14736efc14439d6780a\n",
      "Searching ./course_dump/week08/day1_intro_to_bayesian_statistics/naive-bayes-spam-lab/datasets/easy_ham/0403.1e5eeaca6a82f4eeccc65c179efe2c7c\n",
      "Searching ./course_dump/week08/day1_intro_to_bayesian_statistics/naive-bayes-spam-lab/datasets/easy_ham/0362.1ce94200cfcb544dc62bbc1134c8676e\n",
      "Searching ./course_dump/week08/day1_intro_to_bayesian_statistics/naive-bayes-spam-lab/datasets/easy_ham/1103.e4d34070786a4d46da1061628bef2b57\n",
      "Searching ./course_dump/week08/day1_intro_to_bayesian_statistics/naive-bayes-spam-lab/datasets/easy_ham/1841.780eecf7f0db1db00bd0a6248de51260\n",
      "Searching ./course_dump/week08/day1_intro_to_bayesian_statistics/naive-bayes-spam-lab/datasets/easy_ham/2251.a284a9922dc539519f276a4cbdf59a9d\n",
      "Searching ./course_dump/week08/day1_intro_to_bayesian_statistics/naive-bayes-spam-lab/datasets/easy_ham/0556.f2a384f62a88105a5ea0dee646cf6609\n",
      "Searching ./course_dump/week08/day1_intro_to_bayesian_statistics/naive-bayes-spam-lab/datasets/easy_ham/0170.154c82ae0e1ccc4c9290aa1fa4de7b43\n",
      "Searching ./course_dump/week08/day1_intro_to_bayesian_statistics/naive-bayes-spam-lab/datasets/easy_ham/2542.1a940f58e68fa8a84a3f83e30a624e8d\n",
      "Searching ./course_dump/week08/day1_intro_to_bayesian_statistics/naive-bayes-spam-lab/datasets/easy_ham/0788.cd3f2ceda8c91bd8bcf537a7421605e6\n",
      "Searching ./course_dump/week08/day1_intro_to_bayesian_statistics/naive-bayes-spam-lab/datasets/easy_ham/0543.5070e5e197736112782da156d46f6357\n",
      "Searching ./course_dump/week08/day1_intro_to_bayesian_statistics/naive-bayes-spam-lab/datasets/easy_ham/0423.353c3de8f5c7114179771f9b44e70b9e\n",
      "Searching ./course_dump/week08/day1_intro_to_bayesian_statistics/naive-bayes-spam-lab/datasets/easy_ham/2013.97a746151eb8ad69fe4af5e3598ebed0\n",
      "Searching ./course_dump/week08/day1_intro_to_bayesian_statistics/naive-bayes-spam-lab/datasets/easy_ham/0292.6599ff4b0c1593297dd17247919b3fcf\n",
      "Searching ./course_dump/week08/day1_intro_to_bayesian_statistics/naive-bayes-spam-lab/datasets/easy_ham/1653.19b45239333519205611b669843294cd\n",
      "Searching ./course_dump/week08/day1_intro_to_bayesian_statistics/naive-bayes-spam-lab/datasets/easy_ham/1281.a9eedbc574256d332af3e15d2dc8fc0b\n",
      "Searching ./course_dump/week08/day1_intro_to_bayesian_statistics/naive-bayes-spam-lab/datasets/easy_ham/0270.5a7d9b20e00fc24d6c929c198718f5a3\n",
      "Searching ./course_dump/week08/day1_intro_to_bayesian_statistics/naive-bayes-spam-lab/datasets/easy_ham/1080.8b94422c246c5503b91521d41d552bdc\n",
      "Searching ./course_dump/week08/day1_intro_to_bayesian_statistics/naive-bayes-spam-lab/datasets/easy_ham/1094.01d0cbf9f63dd83cdae62a98ec351d70\n",
      "Searching ./course_dump/week08/day1_intro_to_bayesian_statistics/naive-bayes-spam-lab/datasets/easy_ham/0940.459f634086ae8d4e277d7e9281406685\n",
      "Searching ./course_dump/week08/day1_intro_to_bayesian_statistics/naive-bayes-spam-lab/datasets/easy_ham/2463.4120f7bdd5fe52177c1d78f371b69c76\n",
      "Searching ./course_dump/week08/day1_intro_to_bayesian_statistics/naive-bayes-spam-lab/datasets/easy_ham/1274.a44315970d569047925df38e03c62d4e\n",
      "Searching ./course_dump/week08/day1_intro_to_bayesian_statistics/naive-bayes-spam-lab/datasets/easy_ham/2052.26af2a75e1e49e4ce02a01912ca86601\n",
      "Searching ./course_dump/week08/day1_intro_to_bayesian_statistics/naive-bayes-spam-lab/datasets/easy_ham/2409.b8bf0affa6c8cd49157e7c845b2d15ac\n",
      "Searching ./course_dump/week08/day1_intro_to_bayesian_statistics/naive-bayes-spam-lab/datasets/easy_ham/2317.16836d0298c740b64ec1d2f2d834dcbd\n",
      "Searching ./course_dump/week08/day1_intro_to_bayesian_statistics/naive-bayes-spam-lab/datasets/easy_ham/2308.8b4818fe0a951cd1c03cfad294778951\n",
      "Searching ./course_dump/week08/day1_intro_to_bayesian_statistics/naive-bayes-spam-lab/datasets/easy_ham/0986.1e2f19247a82ecf9458801167232ee0a\n",
      "Searching ./course_dump/week08/day1_intro_to_bayesian_statistics/naive-bayes-spam-lab/datasets/easy_ham/0716.ce0270837e944df9396a45d6389d2225\n",
      "Searching ./course_dump/week08/day1_intro_to_bayesian_statistics/naive-bayes-spam-lab/datasets/easy_ham/1520.227b74e7890079e47c5c8890d64c1383\n",
      "Searching ./course_dump/week08/day1_intro_to_bayesian_statistics/naive-bayes-spam-lab/datasets/easy_ham/2519.4b5c7eea59a27b30bb33503d1be85950\n",
      "Searching ./course_dump/week08/day1_intro_to_bayesian_statistics/naive-bayes-spam-lab/datasets/easy_ham/0995.9298a05fd3411fb40a7c3b9768b72438\n",
      "Searching ./course_dump/week08/day1_intro_to_bayesian_statistics/naive-bayes-spam-lab/datasets/easy_ham/1076.da788224ea4526c1e8e2a5840c9acf73\n",
      "Searching ./course_dump/week08/day1_intro_to_bayesian_statistics/naive-bayes-spam-lab/datasets/easy_ham/0374.ee8aa01327991442d06f41641b7b2fac\n",
      "Searching ./course_dump/week08/day1_intro_to_bayesian_statistics/naive-bayes-spam-lab/datasets/easy_ham/2159.5ab12cc141927fdd9fbf5f9d17bb2533\n",
      "Searching ./course_dump/week08/day1_intro_to_bayesian_statistics/naive-bayes-spam-lab/datasets/easy_ham/2150.3878da48e45c808f8de1a78afe8e68da\n",
      "Searching ./course_dump/week08/day1_intro_to_bayesian_statistics/naive-bayes-spam-lab/datasets/easy_ham/2271.b2af80ed47b6d1559aa437a52f6757e6\n",
      "Searching ./course_dump/week08/day1_intro_to_bayesian_statistics/naive-bayes-spam-lab/datasets/easy_ham/0634.2da7e83d50baee90c3c9defd2aa30b72\n",
      "Searching ./course_dump/week08/day1_intro_to_bayesian_statistics/naive-bayes-spam-lab/datasets/easy_ham/0601.ecc0277d1962fad8005495cd09dea1aa\n",
      "Searching ./course_dump/week08/day1_intro_to_bayesian_statistics/naive-bayes-spam-lab/datasets/easy_ham/1440.d7c632e28e33a2bdfd9afd121319277d\n"
     ]
    },
    {
     "name": "stdout",
     "output_type": "stream",
     "text": [
      "Searching ./course_dump/week08/day1_intro_to_bayesian_statistics/naive-bayes-spam-lab/datasets/easy_ham/2245.25e219cc9b0bca96b5169a2cfba03934\n",
      "Searching ./course_dump/week08/day1_intro_to_bayesian_statistics/naive-bayes-spam-lab/datasets/easy_ham/0388.c91d0f2ec4ba6d7647a48ebe7cf2f736\n",
      "Searching ./course_dump/week08/day1_intro_to_bayesian_statistics/naive-bayes-spam-lab/datasets/easy_ham/2391.40efcd4ee4a50355cfe8a84c327122c1\n",
      "Searching ./course_dump/week08/day1_intro_to_bayesian_statistics/naive-bayes-spam-lab/datasets/easy_ham/0010.4996141de3f21e858c22f88231a9f463\n",
      "Searching ./course_dump/week08/day1_intro_to_bayesian_statistics/naive-bayes-spam-lab/datasets/easy_ham/0384.7de3630b963522fb78746aaf543529c0\n",
      "Searching ./course_dump/week08/day1_intro_to_bayesian_statistics/naive-bayes-spam-lab/datasets/easy_ham/0509.905ad1e9516c02082472a79f474f726c\n",
      "Searching ./course_dump/week08/day1_intro_to_bayesian_statistics/naive-bayes-spam-lab/datasets/easy_ham/1457.8bdec7ac0e8bbe2ed09f7863a3807312\n",
      "Searching ./course_dump/week08/day1_intro_to_bayesian_statistics/naive-bayes-spam-lab/datasets/easy_ham/0110.0bb9a36c3037be09867c0251e0fd6a3a\n",
      "Searching ./course_dump/week08/day1_intro_to_bayesian_statistics/naive-bayes-spam-lab/datasets/easy_ham/0357.1dbdc4d7a9e7e290455af62c1df78649\n",
      "Searching ./course_dump/week08/day1_intro_to_bayesian_statistics/naive-bayes-spam-lab/datasets/easy_ham/0587.20a4cd974ded4a9d366f23106aaf593f\n",
      "Searching ./course_dump/week08/day1_intro_to_bayesian_statistics/naive-bayes-spam-lab/datasets/easy_ham/1267.3641b74038e9f1bc91bbf8318572ffd1\n",
      "Searching ./course_dump/week08/day1_intro_to_bayesian_statistics/naive-bayes-spam-lab/datasets/easy_ham/1422.c9ae8a81f72163d979f52510f5efb82c\n",
      "Searching ./course_dump/week08/day1_intro_to_bayesian_statistics/naive-bayes-spam-lab/datasets/easy_ham/0128.f2500674ec39065ae8a1f643c7100a2b\n",
      "Searching ./course_dump/week08/day1_intro_to_bayesian_statistics/naive-bayes-spam-lab/datasets/easy_ham/2534.2804e0302718cda7783689fa2a6d90d9\n",
      "Searching ./course_dump/week08/day1_intro_to_bayesian_statistics/naive-bayes-spam-lab/datasets/easy_ham/0257.d09e74208e9cb40c0eacbb77afa80e74\n",
      "Searching ./course_dump/week08/day1_intro_to_bayesian_statistics/naive-bayes-spam-lab/datasets/easy_ham/1447.fda5fab9b91617921e5b7d5097214c6c\n",
      "Searching ./course_dump/week08/day1_intro_to_bayesian_statistics/naive-bayes-spam-lab/datasets/easy_ham/2101.c893f322ac6643c10615dfb3c466041d\n",
      "Searching ./course_dump/week08/day1_intro_to_bayesian_statistics/naive-bayes-spam-lab/datasets/easy_ham/0939.dea3b07c7536e3b74578ba6f878dfcba\n",
      "Searching ./course_dump/week08/day1_intro_to_bayesian_statistics/naive-bayes-spam-lab/datasets/easy_ham/1336.7ea005648426a4f5815e0bb42230a595\n",
      "Searching ./course_dump/week08/day1_intro_to_bayesian_statistics/naive-bayes-spam-lab/datasets/easy_ham/0177.fd72517a2ed2a2c29c9822b7124a8f0a\n",
      "Searching ./course_dump/week08/day1_intro_to_bayesian_statistics/naive-bayes-spam-lab/datasets/easy_ham/2402.f17c22d527836faa1f808a37f22f1b46\n",
      "Searching ./course_dump/week08/day1_intro_to_bayesian_statistics/naive-bayes-spam-lab/datasets/easy_ham/0548.02f295e25e8268967c4f00b24ec03236\n",
      "Searching ./course_dump/week08/day1_intro_to_bayesian_statistics/naive-bayes-spam-lab/datasets/easy_ham/2507.e7c3831cab3bc377bd62de9912c076f8\n",
      "Searching ./course_dump/week08/day1_intro_to_bayesian_statistics/naive-bayes-spam-lab/datasets/easy_ham/2154.0949f10e9c0050803f5e324f72641e80\n",
      "Searching ./course_dump/week08/day1_intro_to_bayesian_statistics/naive-bayes-spam-lab/datasets/easy_ham/1407.883b440a7cb776b7ae2ee632f4244cf9\n",
      "Searching ./course_dump/week08/day1_intro_to_bayesian_statistics/naive-bayes-spam-lab/datasets/easy_ham/2139.9ba6145b574aaa5184fbe919d9a64fb4\n",
      "Searching ./course_dump/week08/day1_intro_to_bayesian_statistics/naive-bayes-spam-lab/datasets/easy_ham/1728.cbb5a97d679712664e7cc3025d05c1ca\n",
      "Searching ./course_dump/week08/day1_intro_to_bayesian_statistics/naive-bayes-spam-lab/datasets/easy_ham/1478.493c4ba8cee0986a8cabb3953a40fb5b\n",
      "Searching ./course_dump/week08/day1_intro_to_bayesian_statistics/naive-bayes-spam-lab/datasets/easy_ham/1617.75b61ae83ecff7b45a80cac6cc8c9192\n",
      "Searching ./course_dump/week08/day1_intro_to_bayesian_statistics/naive-bayes-spam-lab/datasets/easy_ham/2037.8eee0e6738beed8805727cca45c8b29b\n",
      "Searching ./course_dump/week08/day1_intro_to_bayesian_statistics/naive-bayes-spam-lab/datasets/easy_ham/2198.161bc9ce9471f604149d2468b2bc198d\n",
      "Searching ./course_dump/week08/day1_intro_to_bayesian_statistics/naive-bayes-spam-lab/datasets/easy_ham/1157.c9a61837e0193ee50609b6412cac5bdf\n",
      "Searching ./course_dump/week08/day1_intro_to_bayesian_statistics/naive-bayes-spam-lab/datasets/easy_ham/2492.a60a61ef3280f7b68df65d4d7cf3afd0\n",
      "Searching ./course_dump/week08/day1_intro_to_bayesian_statistics/naive-bayes-spam-lab/datasets/easy_ham/2356.fe4338d8a23bb7fcf17a95b425a119a2\n",
      "Searching ./course_dump/week08/day1_intro_to_bayesian_statistics/naive-bayes-spam-lab/datasets/easy_ham/0002.b3120c4bcbf3101e661161ee7efcb8bf\n",
      "Searching ./course_dump/week08/day1_intro_to_bayesian_statistics/naive-bayes-spam-lab/datasets/easy_ham/1491.2e82a3803e51f420c6398d963052469f\n",
      "Searching ./course_dump/week08/day1_intro_to_bayesian_statistics/naive-bayes-spam-lab/datasets/easy_ham/0929.78a3fcddf914132d873019c8925b0669\n",
      "Searching ./course_dump/week08/day1_intro_to_bayesian_statistics/naive-bayes-spam-lab/datasets/easy_ham/1387.ed6c5677ce998a2c37e43f3771c088d7\n",
      "Searching ./course_dump/week08/day1_intro_to_bayesian_statistics/naive-bayes-spam-lab/datasets/easy_ham/0329.0479ba224116953d0c94c30edbc91b55\n",
      "Searching ./course_dump/week08/day1_intro_to_bayesian_statistics/naive-bayes-spam-lab/datasets/easy_ham/1081.8c0f0b598d40adc80393d5d049a2a1f1\n",
      "Searching ./course_dump/week08/day1_intro_to_bayesian_statistics/naive-bayes-spam-lab/datasets/easy_ham/1023.909ebf9dc802a8f97b0d722ad443dd42\n",
      "Searching ./course_dump/week08/day1_intro_to_bayesian_statistics/naive-bayes-spam-lab/datasets/easy_ham/0857.c5290c6dee60d45314e519678e96735c\n",
      "Searching ./course_dump/week08/day1_intro_to_bayesian_statistics/naive-bayes-spam-lab/datasets/easy_ham/1413.2d82c3f6a31f15ead58a64ed3c122f71\n",
      "Searching ./course_dump/week08/day1_intro_to_bayesian_statistics/naive-bayes-spam-lab/datasets/easy_ham/0896.cf28f52e82954eb5d05ed5f17df4262f\n",
      "Searching ./course_dump/week08/day1_intro_to_bayesian_statistics/naive-bayes-spam-lab/datasets/easy_ham/1769.531649d2c834408569b5aba7d5b2b9fb\n",
      "Searching ./course_dump/week08/day1_intro_to_bayesian_statistics/naive-bayes-spam-lab/datasets/easy_ham/1906.edfc03da8e4c420d9ce26428eb6f7149\n",
      "Searching ./course_dump/week08/day1_intro_to_bayesian_statistics/naive-bayes-spam-lab/datasets/easy_ham/0167.13f1e71a8070d4d34e65ec7a25d9e164\n",
      "Searching ./course_dump/week08/day1_intro_to_bayesian_statistics/naive-bayes-spam-lab/datasets/easy_ham/2002.4aee6e78ce794e84f44ccde11f46fd4c\n",
      "Searching ./course_dump/week08/day1_intro_to_bayesian_statistics/naive-bayes-spam-lab/datasets/easy_ham/0122.4c48475d458bbca7a14270745e452dd7\n",
      "Searching ./course_dump/week08/day1_intro_to_bayesian_statistics/naive-bayes-spam-lab/datasets/easy_ham/1112.2e9833f8ba14f5c8fb76c35322ed4a8c\n",
      "Searching ./course_dump/week08/day1_intro_to_bayesian_statistics/naive-bayes-spam-lab/datasets/easy_ham/1294.13f4a38babc2d7f26fc0f6867694cbd4\n",
      "Searching ./course_dump/week08/day1_intro_to_bayesian_statistics/naive-bayes-spam-lab/datasets/easy_ham/2264.df776aafd5a6ddf82fb876ea512ce0fd\n",
      "Searching ./course_dump/week08/day1_intro_to_bayesian_statistics/naive-bayes-spam-lab/datasets/easy_ham/2394.cda81aa093088e4a7d1619d62fe85e9f\n",
      "Searching ./course_dump/week08/day1_intro_to_bayesian_statistics/naive-bayes-spam-lab/datasets/easy_ham/1097.8c06e645fdaab234454bf0b72217700d\n",
      "Searching ./course_dump/week08/day1_intro_to_bayesian_statistics/naive-bayes-spam-lab/datasets/easy_ham/1287.afc17883053e6731bc1ee67bee4ceca0\n",
      "Searching ./course_dump/week08/day1_intro_to_bayesian_statistics/naive-bayes-spam-lab/datasets/easy_ham/0747.0ae2c1995e3f8c30bd2f69a5e51196ba\n",
      "Searching ./course_dump/week08/day1_intro_to_bayesian_statistics/naive-bayes-spam-lab/datasets/easy_ham/0255.98492176173fd6951086bb7af9e0008a\n",
      "Searching ./course_dump/week08/day1_intro_to_bayesian_statistics/naive-bayes-spam-lab/datasets/easy_ham/1937.fbd8353134542a7443e2fb57c78995e0\n",
      "Searching ./course_dump/week08/day1_intro_to_bayesian_statistics/naive-bayes-spam-lab/datasets/easy_ham/0685.1658351aa8cc515f74fb3eee7418d143\n",
      "Searching ./course_dump/week08/day1_intro_to_bayesian_statistics/naive-bayes-spam-lab/datasets/easy_ham/1340.763507dad3b921f972640d4d76172f7e\n",
      "Searching ./course_dump/week08/day1_intro_to_bayesian_statistics/naive-bayes-spam-lab/datasets/easy_ham/1581.c8719428ba4a8c4655281826b878ddd0\n",
      "Searching ./course_dump/week08/day1_intro_to_bayesian_statistics/naive-bayes-spam-lab/datasets/easy_ham/2285.c1d506666044a4903f107ba8c7e58d56\n",
      "Searching ./course_dump/week08/day1_intro_to_bayesian_statistics/naive-bayes-spam-lab/datasets/easy_ham/1168.624b64b63fb0dcf81b58856f0618c3a0\n",
      "Searching ./course_dump/week08/day1_intro_to_bayesian_statistics/naive-bayes-spam-lab/datasets/easy_ham/1723.b0f1f64188b8bac77aacad3b27b749d5\n",
      "Searching ./course_dump/week08/day1_intro_to_bayesian_statistics/naive-bayes-spam-lab/datasets/easy_ham/1809.582f22e10f4f792eb0efe0499d37db30\n",
      "Searching ./course_dump/week08/day1_intro_to_bayesian_statistics/naive-bayes-spam-lab/datasets/easy_ham/2234.2aa8e92a3a3cef678437167df6b0afec\n",
      "Searching ./course_dump/week08/day1_intro_to_bayesian_statistics/naive-bayes-spam-lab/datasets/easy_ham/1172.bdc831d97e06b2539209e0ad04e671e9\n"
     ]
    },
    {
     "name": "stdout",
     "output_type": "stream",
     "text": [
      "Searching ./course_dump/week08/day1_intro_to_bayesian_statistics/naive-bayes-spam-lab/datasets/easy_ham/0699.aa5a19152162e3fc22bfd5ec60973619\n",
      "Searching ./course_dump/week08/day1_intro_to_bayesian_statistics/naive-bayes-spam-lab/datasets/easy_ham/0832.e4325e0432c958e4cf5a36fef3bf8573\n",
      "Searching ./course_dump/week08/day1_intro_to_bayesian_statistics/naive-bayes-spam-lab/datasets/easy_ham/1704.98026ace6376f17790b5fa811ed10d34\n",
      "Searching ./course_dump/week08/day1_intro_to_bayesian_statistics/naive-bayes-spam-lab/datasets/easy_ham/2481.03fe35f728922f8cf6d9b69771da462e\n",
      "Searching ./course_dump/week08/day1_intro_to_bayesian_statistics/naive-bayes-spam-lab/datasets/easy_ham/2289.aa88bd333912e409c55f38542357f2a1\n",
      "Searching ./course_dump/week08/day1_intro_to_bayesian_statistics/naive-bayes-spam-lab/datasets/easy_ham/2325.cc16427dcac808a8d7e9c7aeaa6dc684\n",
      "Searching ./course_dump/week08/day1_intro_to_bayesian_statistics/naive-bayes-spam-lab/datasets/easy_ham/0082.7f7858a1a7360410ed120899504c3a25\n",
      "Searching ./course_dump/week08/day1_intro_to_bayesian_statistics/naive-bayes-spam-lab/datasets/easy_ham/0960.ef7ed4755c4f2630aea5bf4074829bbb\n",
      "Searching ./course_dump/week08/day1_intro_to_bayesian_statistics/naive-bayes-spam-lab/datasets/easy_ham/1147.744811b2ba3a95401f70b17e9fade217\n",
      "Searching ./course_dump/week08/day1_intro_to_bayesian_statistics/naive-bayes-spam-lab/datasets/easy_ham/1353.bd9fa1be6b135e4aea436dc7957c7e37\n",
      "Searching ./course_dump/week08/day1_intro_to_bayesian_statistics/naive-bayes-spam-lab/datasets/easy_ham/2385.20f2c233c24c8e31a1da9bf12fa382cd\n",
      "Searching ./course_dump/week08/day1_intro_to_bayesian_statistics/naive-bayes-spam-lab/datasets/easy_ham/1418.5c36d043127ec0c29964b54b5ba4173c\n",
      "Searching ./course_dump/week08/day1_intro_to_bayesian_statistics/naive-bayes-spam-lab/datasets/easy_ham/2053.f61808e7e505202075cbcdb4fd4ef532\n",
      "Searching ./course_dump/week08/day1_intro_to_bayesian_statistics/naive-bayes-spam-lab/datasets/easy_ham/0630.fe9381ba8a0b28e57cc0f481d658e0d0\n",
      "Searching ./course_dump/week08/day1_intro_to_bayesian_statistics/naive-bayes-spam-lab/datasets/easy_ham/0118.4ebb343d73a83dc935197850e507aad6\n",
      "Searching ./course_dump/week08/day1_intro_to_bayesian_statistics/naive-bayes-spam-lab/datasets/easy_ham/0404.eceb4a64a9ef4c1d738782efde23c09b\n",
      "Searching ./course_dump/week08/day1_intro_to_bayesian_statistics/naive-bayes-spam-lab/datasets/easy_ham/0126.fc7d58812b4c004ee457355c9baf2e1e\n",
      "Searching ./course_dump/week08/day1_intro_to_bayesian_statistics/naive-bayes-spam-lab/datasets/easy_ham/0726.b9cf1bbdedddc254ac0a78e9fdb22a8e\n",
      "Searching ./course_dump/week08/day1_intro_to_bayesian_statistics/naive-bayes-spam-lab/datasets/easy_ham/1741.1025c8d81a3ce398f65fb401537214fb\n",
      "Searching ./course_dump/week08/day1_intro_to_bayesian_statistics/naive-bayes-spam-lab/datasets/easy_ham/1056.40e105e66c28374d4fffa209a7176959\n",
      "Searching ./course_dump/week08/day1_intro_to_bayesian_statistics/naive-bayes-spam-lab/datasets/easy_ham/0821.479ffdea3cc5f259f453afe16dd27e4a\n",
      "Searching ./course_dump/week08/day1_intro_to_bayesian_statistics/naive-bayes-spam-lab/datasets/easy_ham/2009.9f155332772871c05e2b980a153ff31e\n",
      "Searching ./course_dump/week08/day1_intro_to_bayesian_statistics/naive-bayes-spam-lab/datasets/easy_ham/1096.1ed72c081c54694040d74a28a7d0d8fd\n",
      "Searching ./course_dump/week08/day1_intro_to_bayesian_statistics/naive-bayes-spam-lab/datasets/easy_ham/2486.5801c079150004024c1e2a0a21fa4521\n",
      "Searching ./course_dump/week08/day1_intro_to_bayesian_statistics/naive-bayes-spam-lab/datasets/easy_ham/2232.e830a09abb3c2ecb8cc7f23318165903\n",
      "Searching ./course_dump/week08/day1_intro_to_bayesian_statistics/naive-bayes-spam-lab/datasets/easy_ham/2012.d580077db083dd3febe9ead582869204\n",
      "Searching ./course_dump/week08/day1_intro_to_bayesian_statistics/naive-bayes-spam-lab/datasets/easy_ham/1746.e3c2e047714a395c583f80730acd3762\n",
      "Searching ./course_dump/week08/day1_intro_to_bayesian_statistics/naive-bayes-spam-lab/datasets/easy_ham/0231.1bc071b16de2cc1e2adab334be65f7c6\n",
      "Searching ./course_dump/week08/day1_intro_to_bayesian_statistics/naive-bayes-spam-lab/datasets/easy_ham/2288.8ca5aa3a562f097ada2a1c13796a0c65\n",
      "Searching ./course_dump/week08/day1_intro_to_bayesian_statistics/naive-bayes-spam-lab/datasets/easy_ham/1513.4ee4b7db2ca10b3f5ec512d26bf8b3f9\n",
      "Searching ./course_dump/week08/day1_intro_to_bayesian_statistics/naive-bayes-spam-lab/datasets/easy_ham/2132.559afb271ce8b31e8e3a0c32e668cbbe\n",
      "Searching ./course_dump/week08/day1_intro_to_bayesian_statistics/naive-bayes-spam-lab/datasets/easy_ham/0307.d7beae100d2ee2557b7fed18b6050a49\n",
      "Searching ./course_dump/week08/day1_intro_to_bayesian_statistics/naive-bayes-spam-lab/datasets/easy_ham/0433.17677985f6ef28591870fe906db93f8b\n",
      "Searching ./course_dump/week08/day1_intro_to_bayesian_statistics/naive-bayes-spam-lab/datasets/easy_ham/0155.56e909508466675c86032e9f031cd09a\n",
      "Searching ./course_dump/week08/day1_intro_to_bayesian_statistics/naive-bayes-spam-lab/datasets/easy_ham/1626.3c8c730d8741c9357da8984dd1057665\n",
      "Searching ./course_dump/week08/day1_intro_to_bayesian_statistics/naive-bayes-spam-lab/datasets/easy_ham/0514.ddb5b986101b81aa277dda7a6032019c\n",
      "Searching ./course_dump/week08/day1_intro_to_bayesian_statistics/naive-bayes-spam-lab/datasets/easy_ham/1829.1c598ff775a4de81c391eb9bb738d0c9\n",
      "Searching ./course_dump/week08/day1_intro_to_bayesian_statistics/naive-bayes-spam-lab/datasets/easy_ham/2321.7945011d4ec69fdf731ebf38e9d2c1af\n",
      "Searching ./course_dump/week08/day1_intro_to_bayesian_statistics/naive-bayes-spam-lab/datasets/easy_ham/0769.3925a280a492a9354ad0ab9e338412cf\n",
      "Searching ./course_dump/week08/day1_intro_to_bayesian_statistics/naive-bayes-spam-lab/datasets/easy_ham/2299.c928b7bad131d78430d84f5518fc6c59\n",
      "Searching ./course_dump/week08/day1_intro_to_bayesian_statistics/naive-bayes-spam-lab/datasets/easy_ham/0407.3436b9e83d36200b38a97b7fa179b6aa\n",
      "Searching ./course_dump/week08/day1_intro_to_bayesian_statistics/naive-bayes-spam-lab/datasets/easy_ham/2344.45d6efa4dcc957ef888b88e5017e850b\n",
      "Searching ./course_dump/week08/day1_intro_to_bayesian_statistics/naive-bayes-spam-lab/datasets/easy_ham/1146.bf3f0043f371245c3f6253361acb3156\n",
      "Searching ./course_dump/week08/day1_intro_to_bayesian_statistics/naive-bayes-spam-lab/datasets/easy_ham/1737.159f94d09e451f53a35a8b03ea5e7dd2\n",
      "Searching ./course_dump/week08/day1_intro_to_bayesian_statistics/naive-bayes-spam-lab/datasets/easy_ham/0115.41825f367f7f1efcc31e12376d82a994\n",
      "Searching ./course_dump/week08/day1_intro_to_bayesian_statistics/naive-bayes-spam-lab/datasets/easy_ham/0659.81f1a5072ceecb246d133ec78a8e33eb\n",
      "Searching ./course_dump/week08/day1_intro_to_bayesian_statistics/naive-bayes-spam-lab/datasets/easy_ham/0032.f07a3f2152f2bedfc9492459c171012c\n",
      "Searching ./course_dump/week08/day1_intro_to_bayesian_statistics/naive-bayes-spam-lab/datasets/easy_ham/0695.938b36dec489bf6860a534c70f5853a8\n",
      "Searching ./course_dump/week08/day1_intro_to_bayesian_statistics/naive-bayes-spam-lab/datasets/easy_ham/1671.a2d7c7639df071620b481223ecab75c2\n",
      "Searching ./course_dump/week08/day1_intro_to_bayesian_statistics/naive-bayes-spam-lab/datasets/easy_ham/1616.cedc09d67c941d1541cf598e0007509e\n",
      "Searching ./course_dump/week08/day1_intro_to_bayesian_statistics/naive-bayes-spam-lab/datasets/easy_ham/1589.5459ec44404ef9d0258edb476622bc45\n",
      "Searching ./course_dump/week08/day1_intro_to_bayesian_statistics/naive-bayes-spam-lab/datasets/easy_ham/1698.53a703c3eabf4f1a547ffec14e09405d\n",
      "Searching ./course_dump/week08/day1_intro_to_bayesian_statistics/naive-bayes-spam-lab/datasets/easy_ham/1594.f552f47fa01a4ca29e34182de6f0cca7\n",
      "Searching ./course_dump/week08/day1_intro_to_bayesian_statistics/naive-bayes-spam-lab/datasets/easy_ham/2376.9d8ac81ad1e80c5baa1237877eed0899\n",
      "Searching ./course_dump/week08/day1_intro_to_bayesian_statistics/naive-bayes-spam-lab/datasets/easy_ham/1165.aadda731590fa41de3e8c5926bb5744b\n",
      "Searching ./course_dump/week08/day1_intro_to_bayesian_statistics/naive-bayes-spam-lab/datasets/easy_ham/2158.2eccab8fd3dc9b3e333e83c0bf550210\n",
      "Searching ./course_dump/week08/day1_intro_to_bayesian_statistics/naive-bayes-spam-lab/datasets/easy_ham/1483.0e8f2eee9641c6af54fb45495cb65018\n",
      "Searching ./course_dump/week08/day1_intro_to_bayesian_statistics/naive-bayes-spam-lab/datasets/easy_ham/1249.0ce204b14c6f28907f57045f57ecdfbe\n",
      "Searching ./course_dump/week08/day1_intro_to_bayesian_statistics/naive-bayes-spam-lab/datasets/easy_ham/0196.0e960d0db312a26fade743e699ac5428\n",
      "Searching ./course_dump/week08/day1_intro_to_bayesian_statistics/naive-bayes-spam-lab/datasets/easy_ham/1681.b17d16768d9543099dd7fe511f14ca9e\n",
      "Searching ./course_dump/week08/day1_intro_to_bayesian_statistics/naive-bayes-spam-lab/datasets/easy_ham/1585.82fb57152be63c79b28e68ae0ad319d9\n",
      "Searching ./course_dump/week08/day1_intro_to_bayesian_statistics/naive-bayes-spam-lab/datasets/easy_ham/0819.337934ad4a28fb473915e323d3866edc\n"
     ]
    },
    {
     "name": "stdout",
     "output_type": "stream",
     "text": [
      "Searching ./course_dump/week08/day1_intro_to_bayesian_statistics/naive-bayes-spam-lab/datasets/easy_ham/2038.326b26998e0dcc010ec7f808225903e8\n",
      "Searching ./course_dump/week08/day1_intro_to_bayesian_statistics/naive-bayes-spam-lab/datasets/easy_ham/0203.5f055220d95eaa1de71c7f24e004a7f5\n",
      "Searching ./course_dump/week08/day1_intro_to_bayesian_statistics/naive-bayes-spam-lab/datasets/easy_ham/1878.0c34817869d72b7cd32a8f3ebe79c272\n",
      "Searching ./course_dump/week08/day1_intro_to_bayesian_statistics/naive-bayes-spam-lab/datasets/easy_ham/1327.732de5c513bb352139c28a17740f4128\n",
      "Searching ./course_dump/week08/day1_intro_to_bayesian_statistics/naive-bayes-spam-lab/datasets/easy_ham/0395.9974c2f067b24a73a2cd3f9d1af21e57\n",
      "Searching ./course_dump/week08/day1_intro_to_bayesian_statistics/naive-bayes-spam-lab/datasets/easy_ham/2293.d029729e7ce15981e1ca2e7bf99aeb90\n",
      "Searching ./course_dump/week08/day1_intro_to_bayesian_statistics/naive-bayes-spam-lab/datasets/easy_ham/0515.7c5179be4289820f5b060e1ff2a38ab3\n",
      "Searching ./course_dump/week08/day1_intro_to_bayesian_statistics/naive-bayes-spam-lab/datasets/easy_ham/1410.8a6f57da7baff41f04a9d273a8dcf8c6\n",
      "Searching ./course_dump/week08/day1_intro_to_bayesian_statistics/naive-bayes-spam-lab/datasets/easy_ham/0975.e49c2453f33ce748a8d9128708ce0a81\n",
      "Searching ./course_dump/week08/day1_intro_to_bayesian_statistics/naive-bayes-spam-lab/datasets/easy_ham/1497.82b5d123cc0c3630a6ecd3d0eefe7c08\n",
      "Searching ./course_dump/week08/day1_intro_to_bayesian_statistics/naive-bayes-spam-lab/datasets/easy_ham/1785.aabc3014dc8e7bbf3748d1e1b2afbf56\n",
      "Searching ./course_dump/week08/day1_intro_to_bayesian_statistics/naive-bayes-spam-lab/datasets/easy_ham/0466.831f4b97805c8e03cf6630716309e89e\n",
      "Searching ./course_dump/week08/day1_intro_to_bayesian_statistics/naive-bayes-spam-lab/datasets/easy_ham/2244.deb30a1b3567d250bf149bd1515529dc\n",
      "Searching ./course_dump/week08/day1_intro_to_bayesian_statistics/naive-bayes-spam-lab/datasets/easy_ham/0297.738b9e94deb4bf077221292f071de345\n",
      "Searching ./course_dump/week08/day1_intro_to_bayesian_statistics/naive-bayes-spam-lab/datasets/easy_ham/0470.d5ad7286cd913b0cfdff5b954b9338ac\n",
      "Searching ./course_dump/week08/day1_intro_to_bayesian_statistics/naive-bayes-spam-lab/datasets/easy_ham/0873.bd6a6b2911a0dedccee495aaf0fb248d\n",
      "Searching ./course_dump/week08/day1_intro_to_bayesian_statistics/naive-bayes-spam-lab/datasets/easy_ham/0524.1276996048a3e02ffbed1e2df5d13848\n",
      "Searching ./course_dump/week08/day1_intro_to_bayesian_statistics/naive-bayes-spam-lab/datasets/easy_ham/1107.7f3b20213d2397c966dfc7defebee2e7\n",
      "Searching ./course_dump/week08/day1_intro_to_bayesian_statistics/naive-bayes-spam-lab/datasets/easy_ham/0369.7027b551cd8af46e011e2f2c53da03e9\n",
      "Searching ./course_dump/week08/day1_intro_to_bayesian_statistics/naive-bayes-spam-lab/datasets/easy_ham/0737.aa298505cb31aac78d0dbf229fc45fb9\n",
      "Searching ./course_dump/week08/day1_intro_to_bayesian_statistics/naive-bayes-spam-lab/datasets/easy_ham/0957.5f66d7beec0698b8ff48735f2477c7fe\n",
      "Searching ./course_dump/week08/day1_intro_to_bayesian_statistics/naive-bayes-spam-lab/datasets/easy_ham/2498.462ad5291e185d0288f4a70313e3cfe0\n",
      "Searching ./course_dump/week08/day1_intro_to_bayesian_statistics/naive-bayes-spam-lab/datasets/easy_ham/1582.ea28e13144adb7ec8718cad39728984b\n",
      "Searching ./course_dump/week08/day1_intro_to_bayesian_statistics/naive-bayes-spam-lab/datasets/easy_ham/0690.d6ab63f165b36f3bac2873fec24a797b\n",
      "Searching ./course_dump/week08/day1_intro_to_bayesian_statistics/naive-bayes-spam-lab/datasets/easy_ham/0575.2f6d5a053932e0900b329a15c5f78e38\n",
      "Searching ./course_dump/week08/day1_intro_to_bayesian_statistics/naive-bayes-spam-lab/datasets/easy_ham/1770.4aac42588f98c49a6d4c39c4e65d3387\n",
      "Searching ./course_dump/week08/day1_intro_to_bayesian_statistics/naive-bayes-spam-lab/datasets/easy_ham/1822.a401ddc61fc3d89fbaee70ea107a9956\n",
      "Searching ./course_dump/week08/day1_intro_to_bayesian_statistics/naive-bayes-spam-lab/datasets/easy_ham/1216.95e5ecab7fd902419ab5b4f95ef0d4bb\n",
      "Searching ./course_dump/week08/day1_intro_to_bayesian_statistics/naive-bayes-spam-lab/datasets/easy_ham/1796.5f6c04f93ace9da3b5f9e0906ba608c2\n",
      "Searching ./course_dump/week08/day1_intro_to_bayesian_statistics/naive-bayes-spam-lab/datasets/easy_ham/1177.4c55e4b4a905e15e392e4a001f06ecd7\n",
      "Searching ./course_dump/week08/day1_intro_to_bayesian_statistics/naive-bayes-spam-lab/datasets/easy_ham/0432.4428728444aeb681db1d4382bfeb8d02\n",
      "Searching ./course_dump/week08/day1_intro_to_bayesian_statistics/naive-bayes-spam-lab/datasets/easy_ham/0492.3aa3aaa0ac9343fd1aa11864e8c281b1\n",
      "Searching ./course_dump/week08/day1_intro_to_bayesian_statistics/naive-bayes-spam-lab/datasets/easy_ham/0770.2133e3c539e404d26e8278c7f44fab07\n",
      "Searching ./course_dump/week08/day1_intro_to_bayesian_statistics/naive-bayes-spam-lab/datasets/easy_ham/1858.51e8b76626231abf27c682904ee4b4c1\n",
      "Searching ./course_dump/week08/day1_intro_to_bayesian_statistics/naive-bayes-spam-lab/datasets/easy_ham/0497.d2e2ede58f425a59fef51395e0248b1b\n",
      "Searching ./course_dump/week08/day1_intro_to_bayesian_statistics/naive-bayes-spam-lab/datasets/easy_ham/0916.69d1ff308a747f25c6ffaf7a6004dfb8\n",
      "Searching ./course_dump/week08/day1_intro_to_bayesian_statistics/naive-bayes-spam-lab/datasets/easy_ham/0895.22cf8120994972bcbe9125e842cb27ff\n",
      "Searching ./course_dump/week08/day1_intro_to_bayesian_statistics/naive-bayes-spam-lab/datasets/easy_ham/1931.40262a40ae79c16da33681e3c718cb90\n",
      "Searching ./course_dump/week08/day1_intro_to_bayesian_statistics/naive-bayes-spam-lab/datasets/easy_ham/0485.4657c96dd864d02d6273cb268b631015\n",
      "Searching ./course_dump/week08/day1_intro_to_bayesian_statistics/naive-bayes-spam-lab/datasets/easy_ham/1367.924aa29f6473628504527f28ec2fcf3b\n",
      "Searching ./course_dump/week08/day1_intro_to_bayesian_statistics/naive-bayes-spam-lab/datasets/easy_ham/0281.b12d42ee9c0659d41d852c277bff8cde\n",
      "Searching ./course_dump/week08/day1_intro_to_bayesian_statistics/naive-bayes-spam-lab/datasets/easy_ham/0930.e6b90edda75a110d7cc7335c110cfa1c\n",
      "Searching ./course_dump/week08/day1_intro_to_bayesian_statistics/naive-bayes-spam-lab/datasets/easy_ham/1511.de6a5fe900081a0492fb84f6bfae46a1\n",
      "Searching ./course_dump/week08/day1_intro_to_bayesian_statistics/naive-bayes-spam-lab/datasets/easy_ham/1956.c5282d8e2280070c5b5230239de77d0b\n",
      "Searching ./course_dump/week08/day1_intro_to_bayesian_statistics/naive-bayes-spam-lab/datasets/easy_ham/0530.014c92ec73f7fcebe322a69b59fbe205\n",
      "Searching ./course_dump/week08/day1_intro_to_bayesian_statistics/naive-bayes-spam-lab/datasets/easy_ham/1891.4bd1b844e2c796506ae9f3181c14cfcf\n",
      "Searching ./course_dump/week08/day1_intro_to_bayesian_statistics/naive-bayes-spam-lab/datasets/easy_ham/1813.c86ae674674567c5779cfb7a30385e45\n",
      "Searching ./course_dump/week08/day1_intro_to_bayesian_statistics/naive-bayes-spam-lab/datasets/easy_ham/2165.e70044bb021cbe032cec4c24ccf0c78d\n",
      "Searching ./course_dump/week08/day1_intro_to_bayesian_statistics/naive-bayes-spam-lab/datasets/easy_ham/0440.59f6365d96fda96ac8b48059358e18b0\n",
      "Searching ./course_dump/week08/day1_intro_to_bayesian_statistics/naive-bayes-spam-lab/datasets/easy_ham/0565.881770e64b20fa8ee779d12aeda1fc54\n",
      "Searching ./course_dump/week08/day1_intro_to_bayesian_statistics/naive-bayes-spam-lab/datasets/easy_ham/0189.01e4dc6ee1379e5ee100b4c33c9c3afd\n",
      "Searching ./course_dump/week08/day1_intro_to_bayesian_statistics/naive-bayes-spam-lab/datasets/easy_ham/2423.fa4019d241ed7886c8d138565751930e\n",
      "Searching ./course_dump/week08/day1_intro_to_bayesian_statistics/naive-bayes-spam-lab/datasets/easy_ham/1515.cbcae309928553721fdf49cdf98541db\n",
      "Searching ./course_dump/week08/day1_intro_to_bayesian_statistics/naive-bayes-spam-lab/datasets/easy_ham/1204.952a12e8daae26a03acf5f9c8e08c113\n",
      "Searching ./course_dump/week08/day1_intro_to_bayesian_statistics/naive-bayes-spam-lab/datasets/easy_ham/1414.c9aa0ebdc370411948a0c8bf4a7e6b14\n",
      "Searching ./course_dump/week08/day1_intro_to_bayesian_statistics/naive-bayes-spam-lab/datasets/hard_ham/0220.eb242d1945f31e1c05ae1df9b3bf2537\n",
      "Searching ./course_dump/week08/day1_intro_to_bayesian_statistics/naive-bayes-spam-lab/datasets/hard_ham/0013.f35f66ce3e2c580dbb32b105e0f70c7d\n",
      "Searching ./course_dump/week08/day1_intro_to_bayesian_statistics/naive-bayes-spam-lab/datasets/hard_ham/0208.df5d7a4e950a3aa80a71fbb5186b0f87\n"
     ]
    },
    {
     "name": "stdout",
     "output_type": "stream",
     "text": [
      "Searching ./course_dump/week08/day1_intro_to_bayesian_statistics/naive-bayes-spam-lab/datasets/hard_ham/0149.e1ec56ec424ba53efb7b0a20cf50bec1\n",
      "Searching ./course_dump/week08/day1_intro_to_bayesian_statistics/naive-bayes-spam-lab/datasets/hard_ham/0009.2bc1d4efa31fc78edb6e4bd82f68023f\n",
      "Searching ./course_dump/week08/day1_intro_to_bayesian_statistics/naive-bayes-spam-lab/datasets/hard_ham/0186.4d84e4bcd7c9ee568f5b33f8883a54ab\n",
      "Searching ./course_dump/week08/day1_intro_to_bayesian_statistics/naive-bayes-spam-lab/datasets/hard_ham/0206.6a591b7b90744a8a411dd6f8c0e73ca6\n",
      "Searching ./course_dump/week08/day1_intro_to_bayesian_statistics/naive-bayes-spam-lab/datasets/hard_ham/0148.014cfdedea92c36045cd5a966f1e3796\n",
      "Searching ./course_dump/week08/day1_intro_to_bayesian_statistics/naive-bayes-spam-lab/datasets/hard_ham/0073.f27080aade7899011067836222260a45\n",
      "Searching ./course_dump/week08/day1_intro_to_bayesian_statistics/naive-bayes-spam-lab/datasets/hard_ham/0192.cf20f9fad988387e4cf44390a7f2a2b4\n",
      "Searching ./course_dump/week08/day1_intro_to_bayesian_statistics/naive-bayes-spam-lab/datasets/hard_ham/0004.409015be23edf1c42f319a870114664c\n",
      "Searching ./course_dump/week08/day1_intro_to_bayesian_statistics/naive-bayes-spam-lab/datasets/hard_ham/0137.e182dacf304ecdeb76230d7c5374aed3\n",
      "Searching ./course_dump/week08/day1_intro_to_bayesian_statistics/naive-bayes-spam-lab/datasets/hard_ham/0108.fb6dd14733e5d6ea5b43a18d2ae30643\n",
      "Searching ./course_dump/week08/day1_intro_to_bayesian_statistics/naive-bayes-spam-lab/datasets/hard_ham/0025.15d4566a6f33d21e7f2fe5c452e1a9fe\n",
      "Searching ./course_dump/week08/day1_intro_to_bayesian_statistics/naive-bayes-spam-lab/datasets/hard_ham/0002.2fe846db6e3249836abdbfcae459bf2a\n",
      "Searching ./course_dump/week08/day1_intro_to_bayesian_statistics/naive-bayes-spam-lab/datasets/hard_ham/0224.62765917ab1fc98fe9e118aef0894765\n",
      "Searching ./course_dump/week08/day1_intro_to_bayesian_statistics/naive-bayes-spam-lab/datasets/hard_ham/0179.b2b936a8501444b213f61f9ff193b480\n",
      "Searching ./course_dump/week08/day1_intro_to_bayesian_statistics/naive-bayes-spam-lab/datasets/hard_ham/0040.2dd88939d59c472d733cdaf1f49e075a\n",
      "Searching ./course_dump/week08/day1_intro_to_bayesian_statistics/naive-bayes-spam-lab/datasets/hard_ham/0140.0d1eca4253384df024692c75f8540c4f\n",
      "Searching ./course_dump/week08/day1_intro_to_bayesian_statistics/naive-bayes-spam-lab/datasets/hard_ham/0117.fddcee5e4df575edc769d13a84cb32fe\n",
      "Searching ./course_dump/week08/day1_intro_to_bayesian_statistics/naive-bayes-spam-lab/datasets/hard_ham/0045.de344c9b463eb9f9e363afff3a323e11\n",
      "Searching ./course_dump/week08/day1_intro_to_bayesian_statistics/naive-bayes-spam-lab/datasets/hard_ham/0019.ae2729d4b8ec4324da2fe392fe4429d6\n",
      "Searching ./course_dump/week08/day1_intro_to_bayesian_statistics/naive-bayes-spam-lab/datasets/hard_ham/0043.bab3a56e1280de37538e023d2feb1f5b\n",
      "Searching ./course_dump/week08/day1_intro_to_bayesian_statistics/naive-bayes-spam-lab/datasets/hard_ham/0036.87385983942b734179f43c0d6a98877a\n",
      "Searching ./course_dump/week08/day1_intro_to_bayesian_statistics/naive-bayes-spam-lab/datasets/hard_ham/0074.b6030281bdc89e6b039b77b49a130867\n",
      "Searching ./course_dump/week08/day1_intro_to_bayesian_statistics/naive-bayes-spam-lab/datasets/hard_ham/0203.c5cd59a6164b565d92a6861f6491cac4\n",
      "Searching ./course_dump/week08/day1_intro_to_bayesian_statistics/naive-bayes-spam-lab/datasets/hard_ham/0235.a4ac9d7b43ea2bbf8dbb763e9160ee95\n",
      "Searching ./course_dump/week08/day1_intro_to_bayesian_statistics/naive-bayes-spam-lab/datasets/hard_ham/0011.f05ea98120d5d24b79119896b16cef66\n",
      "Searching ./course_dump/week08/day1_intro_to_bayesian_statistics/naive-bayes-spam-lab/datasets/hard_ham/0056.5a2d7682765ade8f025450dfc82be013\n",
      "Searching ./course_dump/week08/day1_intro_to_bayesian_statistics/naive-bayes-spam-lab/datasets/hard_ham/0123.9d19f1f1473ce11154e898d5fd9e83da\n",
      "Searching ./course_dump/week08/day1_intro_to_bayesian_statistics/naive-bayes-spam-lab/datasets/hard_ham/0015.83cd6f657e9603870fae4eb810bc5995\n",
      "Searching ./course_dump/week08/day1_intro_to_bayesian_statistics/naive-bayes-spam-lab/datasets/hard_ham/0233.cecc5d590b4439a306e218b773adac08\n",
      "Searching ./course_dump/week08/day1_intro_to_bayesian_statistics/naive-bayes-spam-lab/datasets/hard_ham/0180.d0c8419e4982b2fa0c716508fb783a68\n",
      "Searching ./course_dump/week08/day1_intro_to_bayesian_statistics/naive-bayes-spam-lab/datasets/hard_ham/0157.09827ed42b5f694067929fc00393630e\n",
      "Searching ./course_dump/week08/day1_intro_to_bayesian_statistics/naive-bayes-spam-lab/datasets/hard_ham/0087.6412e8694e9acaba1c61029437002a99\n",
      "Searching ./course_dump/week08/day1_intro_to_bayesian_statistics/naive-bayes-spam-lab/datasets/hard_ham/0201.a69d994a7a76f49be4f4e8b839adc00a\n",
      "Searching ./course_dump/week08/day1_intro_to_bayesian_statistics/naive-bayes-spam-lab/datasets/hard_ham/0135.b09cf763aa3b510180a239fb6e103718\n",
      "Searching ./course_dump/week08/day1_intro_to_bayesian_statistics/naive-bayes-spam-lab/datasets/hard_ham/0081.bd5e31379a156bee77022a672548d34b\n",
      "Searching ./course_dump/week08/day1_intro_to_bayesian_statistics/naive-bayes-spam-lab/datasets/hard_ham/0054.a1ec171dcbc37d0b4f68e7e2074f33ca\n",
      "Searching ./course_dump/week08/day1_intro_to_bayesian_statistics/naive-bayes-spam-lab/datasets/hard_ham/0021.7c2e9c94ea3ec3a3ea116f01d1a5e539\n",
      "Searching ./course_dump/week08/day1_intro_to_bayesian_statistics/naive-bayes-spam-lab/datasets/hard_ham/0097.8b611c66f47a5dfc476a015fc2395e12\n",
      "Searching ./course_dump/week08/day1_intro_to_bayesian_statistics/naive-bayes-spam-lab/datasets/hard_ham/0227.34e6b6125909c0d998370aacc82daefe\n",
      "Searching ./course_dump/week08/day1_intro_to_bayesian_statistics/naive-bayes-spam-lab/datasets/hard_ham/0248.0e24cff47672d14846badc564585a93e\n",
      "Searching ./course_dump/week08/day1_intro_to_bayesian_statistics/naive-bayes-spam-lab/datasets/hard_ham/0053.ccd1056dc3ff533d76a97044bac52087\n",
      "Searching ./course_dump/week08/day1_intro_to_bayesian_statistics/naive-bayes-spam-lab/datasets/hard_ham/0187.6559101f460c8314781b71609d62ac9f\n",
      "Searching ./course_dump/week08/day1_intro_to_bayesian_statistics/naive-bayes-spam-lab/datasets/hard_ham/0119.3286c319826c8a681e0dd0598da947c1\n",
      "Searching ./course_dump/week08/day1_intro_to_bayesian_statistics/naive-bayes-spam-lab/datasets/hard_ham/0181.4750eb0bfa983cb33844255f8f6a2094\n",
      "Searching ./course_dump/week08/day1_intro_to_bayesian_statistics/naive-bayes-spam-lab/datasets/hard_ham/0128.cec40637e142496b2603c0ee474d05e7\n",
      "Searching ./course_dump/week08/day1_intro_to_bayesian_statistics/naive-bayes-spam-lab/datasets/hard_ham/0222.c0f66f67b77b7c0e9ad66bd7abaf5f55\n",
      "Searching ./course_dump/week08/day1_intro_to_bayesian_statistics/naive-bayes-spam-lab/datasets/hard_ham/0155.4b7d1d147b6a15245d7ce572ef804b74\n",
      "Searching ./course_dump/week08/day1_intro_to_bayesian_statistics/naive-bayes-spam-lab/datasets/hard_ham/0229.603a14ce10e319ac433b686a3f9e9999\n",
      "Searching ./course_dump/week08/day1_intro_to_bayesian_statistics/naive-bayes-spam-lab/datasets/hard_ham/0112.c4b72b2b2c41d649c3bd0da4230b8209\n",
      "Searching ./course_dump/week08/day1_intro_to_bayesian_statistics/naive-bayes-spam-lab/datasets/hard_ham/0086.04312590605a3ce851e6b050f6f2de57\n",
      "Searching ./course_dump/week08/day1_intro_to_bayesian_statistics/naive-bayes-spam-lab/datasets/hard_ham/0012.4886c21374847658730208b7804fe483\n",
      "Searching ./course_dump/week08/day1_intro_to_bayesian_statistics/naive-bayes-spam-lab/datasets/hard_ham/0231.7c6cc716ce3f3bfad7130dd3c8d7b072\n",
      "Searching ./course_dump/week08/day1_intro_to_bayesian_statistics/naive-bayes-spam-lab/datasets/hard_ham/0191.47a4267102621d60e7de985f0f738f96\n",
      "Searching ./course_dump/week08/day1_intro_to_bayesian_statistics/naive-bayes-spam-lab/datasets/hard_ham/0076.a01ff724c532fc577e147fa5067a98b0\n",
      "Searching ./course_dump/week08/day1_intro_to_bayesian_statistics/naive-bayes-spam-lab/datasets/hard_ham/0030.76c4bd87d3ccc6da6916ec5a5e08800d\n",
      "Searching ./course_dump/week08/day1_intro_to_bayesian_statistics/naive-bayes-spam-lab/datasets/hard_ham/0047.4bd712df1ecd85521703fc4d8e11b3bc\n",
      "Searching ./course_dump/week08/day1_intro_to_bayesian_statistics/naive-bayes-spam-lab/datasets/hard_ham/0162.5258f5bbb6d86187bbd7b58851ce3b06\n",
      "Searching ./course_dump/week08/day1_intro_to_bayesian_statistics/naive-bayes-spam-lab/datasets/hard_ham/0129.187d5f6eb8880e76a396afb77e9a7241\n",
      "Searching ./course_dump/week08/day1_intro_to_bayesian_statistics/naive-bayes-spam-lab/datasets/hard_ham/0127.a26e8e698f479e0baf3d41c47ffcd33c\n"
     ]
    },
    {
     "name": "stdout",
     "output_type": "stream",
     "text": [
      "Searching ./course_dump/week08/day1_intro_to_bayesian_statistics/naive-bayes-spam-lab/datasets/hard_ham/0048.4e73c67f3a4096ba479d25a5edd240e1\n",
      "Searching ./course_dump/week08/day1_intro_to_bayesian_statistics/naive-bayes-spam-lab/datasets/hard_ham/0124.c62aedaf5026c8308691697beff88744\n",
      "Searching ./course_dump/week08/day1_intro_to_bayesian_statistics/naive-bayes-spam-lab/datasets/hard_ham/0103.bc00398d739e5fcaee7def4053a1a325\n",
      "Searching ./course_dump/week08/day1_intro_to_bayesian_statistics/naive-bayes-spam-lab/datasets/hard_ham/0145.f3857becbb757216bd6224a2c217d1f7\n",
      "Searching ./course_dump/week08/day1_intro_to_bayesian_statistics/naive-bayes-spam-lab/datasets/hard_ham/0204.9cc1bb260964bd6c5c5e4736f5f1ecd6\n",
      "Searching ./course_dump/week08/day1_intro_to_bayesian_statistics/naive-bayes-spam-lab/datasets/hard_ham/0249.62d4972416adbbd0e9fd583835622980\n",
      "Searching ./course_dump/week08/day1_intro_to_bayesian_statistics/naive-bayes-spam-lab/datasets/hard_ham/0035.4fe7648654fa3fa1ae5379894f00474f\n",
      "Searching ./course_dump/week08/day1_intro_to_bayesian_statistics/naive-bayes-spam-lab/datasets/hard_ham/0241.603a14ce10e319ac433b686a3f9e9999\n",
      "Searching ./course_dump/week08/day1_intro_to_bayesian_statistics/naive-bayes-spam-lab/datasets/hard_ham/0075.b233a905fb7f4cc8f9f878aeb9f7b36d\n",
      "Searching ./course_dump/week08/day1_intro_to_bayesian_statistics/naive-bayes-spam-lab/datasets/hard_ham/0088.48d3bb634ecf0709b146a7575e9d6d22\n",
      "Searching ./course_dump/week08/day1_intro_to_bayesian_statistics/naive-bayes-spam-lab/datasets/hard_ham/0094.b3c07fb6511124bee5482743dbb9b2a1\n",
      "Searching ./course_dump/week08/day1_intro_to_bayesian_statistics/naive-bayes-spam-lab/datasets/hard_ham/0018.4c0db481993d05a5a0d1ff09eb9faace\n",
      "Searching ./course_dump/week08/day1_intro_to_bayesian_statistics/naive-bayes-spam-lab/datasets/hard_ham/0050.055a745d0040ad87b4695a1f23502a81\n",
      "Searching ./course_dump/week08/day1_intro_to_bayesian_statistics/naive-bayes-spam-lab/datasets/hard_ham/0096.35188664501272e51fd054e157bc6e24\n",
      "Searching ./course_dump/week08/day1_intro_to_bayesian_statistics/naive-bayes-spam-lab/datasets/hard_ham/0049.4fa50cd805f98094b0523c763ec15d43\n",
      "Searching ./course_dump/week08/day1_intro_to_bayesian_statistics/naive-bayes-spam-lab/datasets/hard_ham/0109.a7cf1e85d45487b4b1eb01326ef7340e\n",
      "Searching ./course_dump/week08/day1_intro_to_bayesian_statistics/naive-bayes-spam-lab/datasets/hard_ham/0159.bcc0a572f666161e68caf5313590bd3b\n",
      "Searching ./course_dump/week08/day1_intro_to_bayesian_statistics/naive-bayes-spam-lab/datasets/hard_ham/0067.e68ea49deda9195d0ed5a76fead4ed10\n",
      "Searching ./course_dump/week08/day1_intro_to_bayesian_statistics/naive-bayes-spam-lab/datasets/hard_ham/0184.290d2aac65ac6b71689d7f223f1bb5fd\n",
      "Searching ./course_dump/week08/day1_intro_to_bayesian_statistics/naive-bayes-spam-lab/datasets/hard_ham/0071.67b73cb2972c6e868f8e4da7c1e00728\n",
      "Searching ./course_dump/week08/day1_intro_to_bayesian_statistics/naive-bayes-spam-lab/datasets/hard_ham/0170.71dbfb9d9c57413a67cd865d58c776de\n",
      "Searching ./course_dump/week08/day1_intro_to_bayesian_statistics/naive-bayes-spam-lab/datasets/hard_ham/0173.7020d254bb5a5582cac3c174523e6f77\n",
      "Searching ./course_dump/week08/day1_intro_to_bayesian_statistics/naive-bayes-spam-lab/datasets/hard_ham/0205.48ffcce8693fbd4db12efb61a2c2d841\n",
      "Searching ./course_dump/week08/day1_intro_to_bayesian_statistics/naive-bayes-spam-lab/datasets/hard_ham/0243.10129f7ac3cdf7aaf98bec60f1f3a2ef\n",
      "Searching ./course_dump/week08/day1_intro_to_bayesian_statistics/naive-bayes-spam-lab/datasets/hard_ham/0167.e069a1be61effd430e3eea8441f5ae90\n",
      "Searching ./course_dump/week08/day1_intro_to_bayesian_statistics/naive-bayes-spam-lab/datasets/hard_ham/0068.f68cf801185aa7338a1d9c4f7f94f9e3\n",
      "Searching ./course_dump/week08/day1_intro_to_bayesian_statistics/naive-bayes-spam-lab/datasets/hard_ham/0178.5b7f2a0e87c853e8c8e13d556c1320d2\n",
      "Searching ./course_dump/week08/day1_intro_to_bayesian_statistics/naive-bayes-spam-lab/datasets/hard_ham/0190.5a3b0581835fba34b28985bbea2c8f41\n",
      "Searching ./course_dump/week08/day1_intro_to_bayesian_statistics/naive-bayes-spam-lab/datasets/hard_ham/0069.1619d00c647317402bd8fa9a52208059\n",
      "Searching ./course_dump/week08/day1_intro_to_bayesian_statistics/naive-bayes-spam-lab/datasets/hard_ham/0029.cebbcfd6de93eb527880fdc53e71c9f1\n",
      "Searching ./course_dump/week08/day1_intro_to_bayesian_statistics/naive-bayes-spam-lab/datasets/hard_ham/0093.cfcd17be3040443dac38f2ac62a5e6da\n",
      "Searching ./course_dump/week08/day1_intro_to_bayesian_statistics/naive-bayes-spam-lab/datasets/hard_ham/0210.aa264fefcd8fe85855dc2f400c4683e7\n",
      "Searching ./course_dump/week08/day1_intro_to_bayesian_statistics/naive-bayes-spam-lab/datasets/hard_ham/0023.cb5d5eef370b20c455e62dd60f071fd9\n",
      "Searching ./course_dump/week08/day1_intro_to_bayesian_statistics/naive-bayes-spam-lab/datasets/hard_ham/0138.6f5a6164234f79dfaaa530134395bef1\n",
      "Searching ./course_dump/week08/day1_intro_to_bayesian_statistics/naive-bayes-spam-lab/datasets/hard_ham/0017.24b9a958860c4e29ddf4e58b4dc31c7e\n",
      "Searching ./course_dump/week08/day1_intro_to_bayesian_statistics/naive-bayes-spam-lab/datasets/hard_ham/0239.34e6b6125909c0d998370aacc82daefe\n",
      "Searching ./course_dump/week08/day1_intro_to_bayesian_statistics/naive-bayes-spam-lab/datasets/hard_ham/0008.aa277082dc0b40dedc51b2e758a115a9\n",
      "Searching ./course_dump/week08/day1_intro_to_bayesian_statistics/naive-bayes-spam-lab/datasets/hard_ham/0196.9dc01775acba34e580ddf9a56ea6891e\n",
      "Searching ./course_dump/week08/day1_intro_to_bayesian_statistics/naive-bayes-spam-lab/datasets/hard_ham/0016.78bb8fe3937725c2fa25f4c35049cbff\n",
      "Searching ./course_dump/week08/day1_intro_to_bayesian_statistics/naive-bayes-spam-lab/datasets/hard_ham/0230.cc7e33f6fb35ec73315649e151d66111\n",
      "Searching ./course_dump/week08/day1_intro_to_bayesian_statistics/naive-bayes-spam-lab/datasets/hard_ham/0188.7fc83c7dcf3fa40cb98e61a8e8661a03\n",
      "Searching ./course_dump/week08/day1_intro_to_bayesian_statistics/naive-bayes-spam-lab/datasets/hard_ham/0160.6afa0b4b6fd169beb74a46759a413fda\n",
      "Searching ./course_dump/week08/day1_intro_to_bayesian_statistics/naive-bayes-spam-lab/datasets/hard_ham/0037.31bd6e9b2333e081b4edcaa5db136f22\n",
      "Searching ./course_dump/week08/day1_intro_to_bayesian_statistics/naive-bayes-spam-lab/datasets/hard_ham/0102.b695d3ad06a93e2582942191f2625775\n",
      "Searching ./course_dump/week08/day1_intro_to_bayesian_statistics/naive-bayes-spam-lab/datasets/hard_ham/0032.72c3e5f2fa8153c666ac73ce1fe69301\n",
      "Searching ./course_dump/week08/day1_intro_to_bayesian_statistics/naive-bayes-spam-lab/datasets/hard_ham/0098.e9afe23402251639779bbc1fa0476a9e\n",
      "Searching ./course_dump/week08/day1_intro_to_bayesian_statistics/naive-bayes-spam-lab/datasets/hard_ham/0238.7c7d6921e671bbe18ebb5f893cd9bb35\n",
      "Searching ./course_dump/week08/day1_intro_to_bayesian_statistics/naive-bayes-spam-lab/datasets/hard_ham/0055.4c0a6eb2a79113071b05b84bf3851050\n",
      "Searching ./course_dump/week08/day1_intro_to_bayesian_statistics/naive-bayes-spam-lab/datasets/hard_ham/0062.e3a985be60ba49bf4b084159189f7376\n",
      "Searching ./course_dump/week08/day1_intro_to_bayesian_statistics/naive-bayes-spam-lab/datasets/hard_ham/0147.a8f9704ac90938addc69c4c09c14eb5e\n",
      "Searching ./course_dump/week08/day1_intro_to_bayesian_statistics/naive-bayes-spam-lab/datasets/hard_ham/0245.1ffcedd5f17f05e48d04a0a634154c93\n",
      "Searching ./course_dump/week08/day1_intro_to_bayesian_statistics/naive-bayes-spam-lab/datasets/hard_ham/0052.ae8ff272d7ef31c406cad02f476fefed\n",
      "Searching ./course_dump/week08/day1_intro_to_bayesian_statistics/naive-bayes-spam-lab/datasets/hard_ham/0176.f2008afaf29620e7f07bb6853809d55a\n",
      "Searching ./course_dump/week08/day1_intro_to_bayesian_statistics/naive-bayes-spam-lab/datasets/hard_ham/0061.6483b12feb81e79827e8b39a98e1a6a7\n",
      "Searching ./course_dump/week08/day1_intro_to_bayesian_statistics/naive-bayes-spam-lab/datasets/hard_ham/0042.a6e6bbb86e12badb0f0cb871176e7493\n",
      "Searching ./course_dump/week08/day1_intro_to_bayesian_statistics/naive-bayes-spam-lab/datasets/hard_ham/0057.717eebaa7c78882c834af60986732047\n",
      "Searching ./course_dump/week08/day1_intro_to_bayesian_statistics/naive-bayes-spam-lab/datasets/hard_ham/0083.1c3e3b1aaf3ae5007653c6b007e884c5\n",
      "Searching ./course_dump/week08/day1_intro_to_bayesian_statistics/naive-bayes-spam-lab/datasets/hard_ham/0215.1ffcedd5f17f05e48d04a0a634154c93\n",
      "Searching ./course_dump/week08/day1_intro_to_bayesian_statistics/naive-bayes-spam-lab/datasets/hard_ham/0150.1a4004bb9fde0616def0888607679f9d\n"
     ]
    },
    {
     "name": "stdout",
     "output_type": "stream",
     "text": [
      "Searching ./course_dump/week08/day1_intro_to_bayesian_statistics/naive-bayes-spam-lab/datasets/hard_ham/0218.0e24cff47672d14846badc564585a93e\n",
      "Searching ./course_dump/week08/day1_intro_to_bayesian_statistics/naive-bayes-spam-lab/datasets/hard_ham/0120.472f6d6d8c73039c595840dd32206781\n",
      "Searching ./course_dump/week08/day1_intro_to_bayesian_statistics/naive-bayes-spam-lab/datasets/hard_ham/0217.9afc6950aad655603a1f70edf4ba2bb7\n",
      "Searching ./course_dump/week08/day1_intro_to_bayesian_statistics/naive-bayes-spam-lab/datasets/hard_ham/0006.b14155850b5d2dd221534f5595515459\n",
      "Searching ./course_dump/week08/day1_intro_to_bayesian_statistics/naive-bayes-spam-lab/datasets/hard_ham/0101.cd2b8042ad679e164e16512ab4448c79\n",
      "Searching ./course_dump/week08/day1_intro_to_bayesian_statistics/naive-bayes-spam-lab/datasets/hard_ham/0172.6ee66cdc7ca685330f84d09379c995dd\n",
      "Searching ./course_dump/week08/day1_intro_to_bayesian_statistics/naive-bayes-spam-lab/datasets/hard_ham/0142.0220f772ab37ba8d5899fc62f6878edf\n",
      "Searching ./course_dump/week08/day1_intro_to_bayesian_statistics/naive-bayes-spam-lab/datasets/hard_ham/0080.e44805299d6fa2525a63dbd61b46ca12\n",
      "Searching ./course_dump/week08/day1_intro_to_bayesian_statistics/naive-bayes-spam-lab/datasets/hard_ham/0207.b84fe135fb77395651a5b88a1f808cf9\n",
      "Searching ./course_dump/week08/day1_intro_to_bayesian_statistics/naive-bayes-spam-lab/datasets/hard_ham/0134.ca96f74042d05c1a1d29ca30467cfcd5\n",
      "Searching ./course_dump/week08/day1_intro_to_bayesian_statistics/naive-bayes-spam-lab/datasets/hard_ham/0211.bd3cf04241bf141dff4739b94b29f61c\n",
      "Searching ./course_dump/week08/day1_intro_to_bayesian_statistics/naive-bayes-spam-lab/datasets/hard_ham/0164.82c660c5e1f778f96a4e36ab9aec323b\n",
      "Searching ./course_dump/week08/day1_intro_to_bayesian_statistics/naive-bayes-spam-lab/datasets/hard_ham/0044.27a8944e81a2e9238f2de89eca51321d\n",
      "Searching ./course_dump/week08/day1_intro_to_bayesian_statistics/naive-bayes-spam-lab/datasets/hard_ham/0156.d8a5e5bc0173393fb1e169921e1c3ee6\n",
      "Searching ./course_dump/week08/day1_intro_to_bayesian_statistics/naive-bayes-spam-lab/datasets/hard_ham/0005.ebf0581994d57466ee431c7e5cf7794d\n",
      "Searching ./course_dump/week08/day1_intro_to_bayesian_statistics/naive-bayes-spam-lab/datasets/hard_ham/0177.7bf03ee9001454f9f3b4d258cd926098\n",
      "Searching ./course_dump/week08/day1_intro_to_bayesian_statistics/naive-bayes-spam-lab/datasets/hard_ham/0059.25b37bae69bc0677f978d000dd27b0ba\n",
      "Searching ./course_dump/week08/day1_intro_to_bayesian_statistics/naive-bayes-spam-lab/datasets/hard_ham/0223.a4ac9d7b43ea2bbf8dbb763e9160ee95\n",
      "Searching ./course_dump/week08/day1_intro_to_bayesian_statistics/naive-bayes-spam-lab/datasets/hard_ham/0022.2988baa63bae8377269759384f4d73bc\n",
      "Searching ./course_dump/week08/day1_intro_to_bayesian_statistics/naive-bayes-spam-lab/datasets/hard_ham/0039.3607c74dc1b009386c48b366593ab199\n",
      "Searching ./course_dump/week08/day1_intro_to_bayesian_statistics/naive-bayes-spam-lab/datasets/hard_ham/0092.713381323ace2b4dcfd199b0a6e37d1f\n",
      "Searching ./course_dump/week08/day1_intro_to_bayesian_statistics/naive-bayes-spam-lab/datasets/hard_ham/0121.05eb8cf2ea8592ffd4be29698e07f67b\n",
      "Searching ./course_dump/week08/day1_intro_to_bayesian_statistics/naive-bayes-spam-lab/datasets/hard_ham/0105.715d378af3c7a2d96650489d6b31d44e\n",
      "Searching ./course_dump/week08/day1_intro_to_bayesian_statistics/naive-bayes-spam-lab/datasets/hard_ham/0219.62d4972416adbbd0e9fd583835622980\n",
      "Searching ./course_dump/week08/day1_intro_to_bayesian_statistics/naive-bayes-spam-lab/datasets/hard_ham/0144.ac882e3f2cd7c60dfa9c061637ba7ef7\n",
      "Searching ./course_dump/week08/day1_intro_to_bayesian_statistics/naive-bayes-spam-lab/datasets/hard_ham/0072.f402a6a3597d1febbba535bf17345b22\n",
      "Searching ./course_dump/week08/day1_intro_to_bayesian_statistics/naive-bayes-spam-lab/datasets/hard_ham/0066.d168110777d3c36b0e47114d37ea7ac9\n",
      "Searching ./course_dump/week08/day1_intro_to_bayesian_statistics/naive-bayes-spam-lab/datasets/hard_ham/0070.5deaf32310b325587f24b037b0453293\n",
      "Searching ./course_dump/week08/day1_intro_to_bayesian_statistics/naive-bayes-spam-lab/datasets/hard_ham/0126.d002ec3f8a9aff31258bf03d62abdafa\n",
      "Searching ./course_dump/week08/day1_intro_to_bayesian_statistics/naive-bayes-spam-lab/datasets/hard_ham/0064.e734509b9d9c377ce658371aaf23cb9c\n",
      "Searching ./course_dump/week08/day1_intro_to_bayesian_statistics/naive-bayes-spam-lab/datasets/hard_ham/0136.bd2d54da3eaadd1f4428f48a28844d39\n",
      "Searching ./course_dump/week08/day1_intro_to_bayesian_statistics/naive-bayes-spam-lab/datasets/hard_ham/0091.e58454a15b042d784ac1b882e84d1a91\n",
      "Searching ./course_dump/week08/day1_intro_to_bayesian_statistics/naive-bayes-spam-lab/datasets/hard_ham/0197.68819fc91d34c82433074d7bd3127dcc\n",
      "Searching ./course_dump/week08/day1_intro_to_bayesian_statistics/naive-bayes-spam-lab/datasets/hard_ham/0240.651a40f1c0b2ba19122eccebccbae788\n",
      "Searching ./course_dump/week08/day1_intro_to_bayesian_statistics/naive-bayes-spam-lab/datasets/hard_ham/0079.394974089196bddcfb45e9afe5de4729\n",
      "Searching ./course_dump/week08/day1_intro_to_bayesian_statistics/naive-bayes-spam-lab/datasets/hard_ham/0139.37c6b32ba39eaa510af007deef725ec2\n",
      "Searching ./course_dump/week08/day1_intro_to_bayesian_statistics/naive-bayes-spam-lab/datasets/hard_ham/0194.d25929908330db4d7f1d959a295651e0\n",
      "Searching ./course_dump/week08/day1_intro_to_bayesian_statistics/naive-bayes-spam-lab/datasets/hard_ham/0110.ee703cc28c9764a0d059472260ddc2f7\n",
      "Searching ./course_dump/week08/day1_intro_to_bayesian_statistics/naive-bayes-spam-lab/datasets/hard_ham/0051.6977edf4fd92543b1c9af246ebdc00cb\n",
      "Searching ./course_dump/week08/day1_intro_to_bayesian_statistics/naive-bayes-spam-lab/datasets/hard_ham/0232.eb242d1945f31e1c05ae1df9b3bf2537\n",
      "Searching ./course_dump/week08/day1_intro_to_bayesian_statistics/naive-bayes-spam-lab/datasets/hard_ham/0020.e5ece82dbfb6bc8e293f42622847cf4a\n",
      "Searching ./course_dump/week08/day1_intro_to_bayesian_statistics/naive-bayes-spam-lab/datasets/hard_ham/0084.ba0c10521c2c57d8047425d27b715d82\n",
      "Searching ./course_dump/week08/day1_intro_to_bayesian_statistics/naive-bayes-spam-lab/datasets/hard_ham/0031.6d5310f0ef66bc099725be92aab80398\n",
      "Searching ./course_dump/week08/day1_intro_to_bayesian_statistics/naive-bayes-spam-lab/datasets/hard_ham/0199.bdcf433ea9d96d36e5a564d787aaa926\n",
      "Searching ./course_dump/week08/day1_intro_to_bayesian_statistics/naive-bayes-spam-lab/datasets/hard_ham/0182.b7ddf319da0b2846f1f78a20e7a6fc9c\n",
      "Searching ./course_dump/week08/day1_intro_to_bayesian_statistics/naive-bayes-spam-lab/datasets/hard_ham/0214.4a88cbb01e5c7f05db4e12180bc122db\n",
      "Searching ./course_dump/week08/day1_intro_to_bayesian_statistics/naive-bayes-spam-lab/datasets/hard_ham/0007.7f2ea3a532284cff3321e5ba159cdb50\n",
      "Searching ./course_dump/week08/day1_intro_to_bayesian_statistics/naive-bayes-spam-lab/datasets/hard_ham/0063.d84fa51cf5329f5e5b2f0c83b7ec94d0\n",
      "Searching ./course_dump/week08/day1_intro_to_bayesian_statistics/naive-bayes-spam-lab/datasets/hard_ham/0131.fa0961b38faf5f7e1a9ec384074a7142\n",
      "Searching ./course_dump/week08/day1_intro_to_bayesian_statistics/naive-bayes-spam-lab/datasets/hard_ham/0198.9938b1b97c018592ea6fcec265fb5ef7\n",
      "Searching ./course_dump/week08/day1_intro_to_bayesian_statistics/naive-bayes-spam-lab/datasets/hard_ham/0213.10129f7ac3cdf7aaf98bec60f1f3a2ef\n",
      "Searching ./course_dump/week08/day1_intro_to_bayesian_statistics/naive-bayes-spam-lab/datasets/hard_ham/0183.d354a2c8435e0bf4fa6ba98a1a46ed35\n",
      "Searching ./course_dump/week08/day1_intro_to_bayesian_statistics/naive-bayes-spam-lab/datasets/hard_ham/0038.9fc6b97854121a9c1dc34b0160620558\n",
      "Searching ./course_dump/week08/day1_intro_to_bayesian_statistics/naive-bayes-spam-lab/datasets/hard_ham/0143.078ced89f2de25e9423f53798e6e3a70\n",
      "Searching ./course_dump/week08/day1_intro_to_bayesian_statistics/naive-bayes-spam-lab/datasets/hard_ham/0107.2a822005f2b0fb70922c690ae6c2b4bf\n",
      "Searching ./course_dump/week08/day1_intro_to_bayesian_statistics/naive-bayes-spam-lab/datasets/hard_ham/0146.e49cd86bb6e497e11c9ca1ca27cd5893\n",
      "Searching ./course_dump/week08/day1_intro_to_bayesian_statistics/naive-bayes-spam-lab/datasets/hard_ham/0185.704c2b14ea22ac4937c30e0c25e253b3\n",
      "Searching ./course_dump/week08/day1_intro_to_bayesian_statistics/naive-bayes-spam-lab/datasets/hard_ham/0200.b3ec97a024684e66fd16c530f2e0a4f6\n",
      "Searching ./course_dump/week08/day1_intro_to_bayesian_statistics/naive-bayes-spam-lab/datasets/hard_ham/0165.18c2e9e1217c3a39dc3b2b9199c061ff\n",
      "Searching ./course_dump/week08/day1_intro_to_bayesian_statistics/naive-bayes-spam-lab/datasets/hard_ham/0225.57081800f804ace547318b1bc499f4c6\n"
     ]
    },
    {
     "name": "stdout",
     "output_type": "stream",
     "text": [
      "Searching ./course_dump/week08/day1_intro_to_bayesian_statistics/naive-bayes-spam-lab/datasets/hard_ham/0027.67c81ed875f5095080aec2de21d50d70\n",
      "Searching ./course_dump/week08/day1_intro_to_bayesian_statistics/naive-bayes-spam-lab/datasets/hard_ham/0163.0123b1afbae948c7fa80a8ab79786e16\n",
      "Searching ./course_dump/week08/day1_intro_to_bayesian_statistics/naive-bayes-spam-lab/datasets/hard_ham/0058.4bec4e6fb854edf50efcc42c7398895e\n",
      "Searching ./course_dump/week08/day1_intro_to_bayesian_statistics/naive-bayes-spam-lab/datasets/hard_ham/0154.b7e55edcd1795f418e9949a9092b8018\n",
      "Searching ./course_dump/week08/day1_intro_to_bayesian_statistics/naive-bayes-spam-lab/datasets/hard_ham/0089.3d9fb6a3389140f0c6820b7b9f306082\n",
      "Searching ./course_dump/week08/day1_intro_to_bayesian_statistics/naive-bayes-spam-lab/datasets/hard_ham/0175.9da6791d7966edcb9afaab078736deb1\n",
      "Searching ./course_dump/week08/day1_intro_to_bayesian_statistics/naive-bayes-spam-lab/datasets/hard_ham/0114.bdb2ef06777c7fd65c3e8f0ab90c899a\n",
      "Searching ./course_dump/week08/day1_intro_to_bayesian_statistics/naive-bayes-spam-lab/datasets/hard_ham/0026.3824ad4c30f4e1bd3e3d37057e9359a6\n",
      "Searching ./course_dump/week08/day1_intro_to_bayesian_statistics/naive-bayes-spam-lab/datasets/hard_ham/0195.cc05aaf538fa33658a78098cebfbcc25\n",
      "Searching ./course_dump/week08/day1_intro_to_bayesian_statistics/naive-bayes-spam-lab/datasets/hard_ham/0130.44765f110b4eae780ec00770d8062ae8\n",
      "Searching ./course_dump/week08/day1_intro_to_bayesian_statistics/naive-bayes-spam-lab/datasets/hard_ham/0153.569daf40165213f3b4116b586362b142\n",
      "Searching ./course_dump/week08/day1_intro_to_bayesian_statistics/naive-bayes-spam-lab/datasets/hard_ham/0174.b78c73f91532150a15ced38fddbbedf4\n",
      "Searching ./course_dump/week08/day1_intro_to_bayesian_statistics/naive-bayes-spam-lab/datasets/hard_ham/0247.9afc6950aad655603a1f70edf4ba2bb7\n",
      "Searching ./course_dump/week08/day1_intro_to_bayesian_statistics/naive-bayes-spam-lab/datasets/hard_ham/0034.3b223f26d69f641451a5d95faa9cb564\n",
      "Searching ./course_dump/week08/day1_intro_to_bayesian_statistics/naive-bayes-spam-lab/datasets/hard_ham/0028.fd45453350359f2fca8fbf13ee44bf2d\n",
      "Searching ./course_dump/week08/day1_intro_to_bayesian_statistics/naive-bayes-spam-lab/datasets/hard_ham/0065.52a367dec6ebe3bbe92b08f2a2c0fd7e\n",
      "Searching ./course_dump/week08/day1_intro_to_bayesian_statistics/naive-bayes-spam-lab/datasets/hard_ham/0001.f0cf04027e74802f09f723cb8916b48e\n",
      "Searching ./course_dump/week08/day1_intro_to_bayesian_statistics/naive-bayes-spam-lab/datasets/hard_ham/0024.aed7657369f5d6cffe71818d06a8de42\n",
      "Searching ./course_dump/week08/day1_intro_to_bayesian_statistics/naive-bayes-spam-lab/datasets/hard_ham/0060.a19a223f84a35ed42e2f297c18e25a01\n",
      "Searching ./course_dump/week08/day1_intro_to_bayesian_statistics/naive-bayes-spam-lab/datasets/hard_ham/0125.708a97786a1fe270ac3fc8f7a3a533ef\n",
      "Searching ./course_dump/week08/day1_intro_to_bayesian_statistics/naive-bayes-spam-lab/datasets/hard_ham/0250.7c6cc716ce3f3bfad7130dd3c8d7b072\n",
      "Searching ./course_dump/week08/day1_intro_to_bayesian_statistics/naive-bayes-spam-lab/datasets/hard_ham/0152.11f72139fb68f9d4fdc1d72d6803437c\n",
      "Searching ./course_dump/week08/day1_intro_to_bayesian_statistics/naive-bayes-spam-lab/datasets/hard_ham/0226.7c7d6921e671bbe18ebb5f893cd9bb35\n",
      "Searching ./course_dump/week08/day1_intro_to_bayesian_statistics/naive-bayes-spam-lab/datasets/hard_ham/0202.9b71c90c298d453025eae7bbcc46018b\n",
      "Searching ./course_dump/week08/day1_intro_to_bayesian_statistics/naive-bayes-spam-lab/datasets/hard_ham/0132.2893a03c7ec608a1416bef197a3ac13c\n",
      "Searching ./course_dump/week08/day1_intro_to_bayesian_statistics/naive-bayes-spam-lab/datasets/hard_ham/0085.4fb964cb2196252ba42e56c3fa73dfc0\n",
      "Searching ./course_dump/week08/day1_intro_to_bayesian_statistics/naive-bayes-spam-lab/datasets/hard_ham/0237.57081800f804ace547318b1bc499f4c6\n",
      "Searching ./course_dump/week08/day1_intro_to_bayesian_statistics/naive-bayes-spam-lab/datasets/hard_ham/0234.c0f66f67b77b7c0e9ad66bd7abaf5f55\n",
      "Searching ./course_dump/week08/day1_intro_to_bayesian_statistics/naive-bayes-spam-lab/datasets/hard_ham/0158.ea156bc818540dd76784fac2f6969783\n",
      "Searching ./course_dump/week08/day1_intro_to_bayesian_statistics/naive-bayes-spam-lab/datasets/hard_ham/0099.cbdd0b8a16893d7f13c2b753d5c67844\n",
      "Searching ./course_dump/week08/day1_intro_to_bayesian_statistics/naive-bayes-spam-lab/datasets/hard_ham/0168.763c69f3bcd63f717973b33bd623c0cf\n",
      "Searching ./course_dump/week08/day1_intro_to_bayesian_statistics/naive-bayes-spam-lab/datasets/hard_ham/0141.82c48bdf90cb29370a2783a3523f3b04\n",
      "Searching ./course_dump/week08/day1_intro_to_bayesian_statistics/naive-bayes-spam-lab/datasets/hard_ham/0046.21f3118a4e2dcbd69da205122a74c9a4\n",
      "Searching ./course_dump/week08/day1_intro_to_bayesian_statistics/naive-bayes-spam-lab/datasets/hard_ham/0161.199b3947c40a3a72ab6407d91eee0557\n",
      "Searching ./course_dump/week08/day1_intro_to_bayesian_statistics/naive-bayes-spam-lab/datasets/hard_ham/0169.6ba188c524a39a3795a12518b0b27a4b\n",
      "Searching ./course_dump/week08/day1_intro_to_bayesian_statistics/naive-bayes-spam-lab/datasets/hard_ham/0033.6a01f21844e78eba1202be887c1d9473\n",
      "Searching ./course_dump/week08/day1_intro_to_bayesian_statistics/naive-bayes-spam-lab/datasets/hard_ham/0100.677049857629e4f2399fc01ab8085e26\n",
      "Searching ./course_dump/week08/day1_intro_to_bayesian_statistics/naive-bayes-spam-lab/datasets/hard_ham/0113.0b75c7040df645232a1a3ad2c12d6648\n",
      "Searching ./course_dump/week08/day1_intro_to_bayesian_statistics/naive-bayes-spam-lab/datasets/hard_ham/0116.5bba95bae3a932fe0d9ced8093ea5e3b\n",
      "Searching ./course_dump/week08/day1_intro_to_bayesian_statistics/naive-bayes-spam-lab/datasets/hard_ham/0221.cecc5d590b4439a306e218b773adac08\n",
      "Searching ./course_dump/week08/day1_intro_to_bayesian_statistics/naive-bayes-spam-lab/datasets/hard_ham/0151.0402ce39c606a9988884acd4707463cf\n",
      "Searching ./course_dump/week08/day1_intro_to_bayesian_statistics/naive-bayes-spam-lab/datasets/hard_ham/0236.62765917ab1fc98fe9e118aef0894765\n",
      "Searching ./course_dump/week08/day1_intro_to_bayesian_statistics/naive-bayes-spam-lab/datasets/hard_ham/0133.d4a1ca8e0fcb12df4042bd8df916d69a\n",
      "Searching ./course_dump/week08/day1_intro_to_bayesian_statistics/naive-bayes-spam-lab/datasets/hard_ham/0118.a5ef40817ff77d4c51fe1c3344a22772\n",
      "Searching ./course_dump/week08/day1_intro_to_bayesian_statistics/naive-bayes-spam-lab/datasets/hard_ham/0082.d90dad45eec3020fbc0c8ffed76ae12d\n",
      "Searching ./course_dump/week08/day1_intro_to_bayesian_statistics/naive-bayes-spam-lab/datasets/hard_ham/0003.0aa92b5f121c27c6e094fd89c6c89448\n",
      "Searching ./course_dump/week08/day1_intro_to_bayesian_statistics/naive-bayes-spam-lab/datasets/hard_ham/0212.303d36b53cbcad976738908b7c7ea688\n",
      "Searching ./course_dump/week08/day1_intro_to_bayesian_statistics/naive-bayes-spam-lab/datasets/hard_ham/0014.97d87718c6480f977d58fc65d985ca7e\n",
      "Searching ./course_dump/week08/day1_intro_to_bayesian_statistics/naive-bayes-spam-lab/datasets/hard_ham/0242.cc7e33f6fb35ec73315649e151d66111\n",
      "Searching ./course_dump/week08/day1_intro_to_bayesian_statistics/naive-bayes-spam-lab/datasets/hard_ham/0115.32aa502e928becbe2db939baa9697928\n",
      "Searching ./course_dump/week08/day1_intro_to_bayesian_statistics/naive-bayes-spam-lab/datasets/spam/0490.5fc0d6e9adcaf702bb7dd303ff2d59e2\n",
      "Searching ./course_dump/week08/day1_intro_to_bayesian_statistics/naive-bayes-spam-lab/datasets/spam/0377.31267c80e042b22be0436c044c13513a\n",
      "Searching ./course_dump/week08/day1_intro_to_bayesian_statistics/naive-bayes-spam-lab/datasets/spam/0083.a042c7512d5db5f9fc1857fdc6bbdcc3\n",
      "Searching ./course_dump/week08/day1_intro_to_bayesian_statistics/naive-bayes-spam-lab/datasets/spam/0133.95454d70cc62190c0e167d4c3cb591af\n",
      "Searching ./course_dump/week08/day1_intro_to_bayesian_statistics/naive-bayes-spam-lab/datasets/spam/0364.8e5f3385c2deb2c0c32794b403851ec4\n",
      "Searching ./course_dump/week08/day1_intro_to_bayesian_statistics/naive-bayes-spam-lab/datasets/spam/0447.badf14ca8ec589b0b2d25369573ffe84\n",
      "Searching ./course_dump/week08/day1_intro_to_bayesian_statistics/naive-bayes-spam-lab/datasets/spam/0268.1aee52bc302bf1d5c2030229b5dbd63e\n",
      "Searching ./course_dump/week08/day1_intro_to_bayesian_statistics/naive-bayes-spam-lab/datasets/spam/0161.00e60d1a3478f1ae99ff49fbd4b30605\n",
      "Searching ./course_dump/week08/day1_intro_to_bayesian_statistics/naive-bayes-spam-lab/datasets/spam/0115.d7c257361675ee5d45baa552205fb472\n",
      "Searching ./course_dump/week08/day1_intro_to_bayesian_statistics/naive-bayes-spam-lab/datasets/spam/0184.a2109736d2f15cde3747a6f335c6f24c\n",
      "Searching ./course_dump/week08/day1_intro_to_bayesian_statistics/naive-bayes-spam-lab/datasets/spam/0183.4aaadeb40e3362e71e3e4aba15624e3a\n"
     ]
    },
    {
     "name": "stdout",
     "output_type": "stream",
     "text": [
      "Searching ./course_dump/week08/day1_intro_to_bayesian_statistics/naive-bayes-spam-lab/datasets/spam/0308.1245e8fa9e6092687b535e36b367d8fb\n",
      "Searching ./course_dump/week08/day1_intro_to_bayesian_statistics/naive-bayes-spam-lab/datasets/spam/0227.4266b9e8c02a2c7b13d4d8661a76f75a\n",
      "Searching ./course_dump/week08/day1_intro_to_bayesian_statistics/naive-bayes-spam-lab/datasets/spam/0493.c82e983c32e4888b4fbb0084cb303608\n",
      "Searching ./course_dump/week08/day1_intro_to_bayesian_statistics/naive-bayes-spam-lab/datasets/spam/0350.0f2ef01282cb99a4eeb9a19923597b3f\n",
      "Searching ./course_dump/week08/day1_intro_to_bayesian_statistics/naive-bayes-spam-lab/datasets/spam/0279.4ef122899a70a2225ffb9b5c54fde1fc\n",
      "Searching ./course_dump/week08/day1_intro_to_bayesian_statistics/naive-bayes-spam-lab/datasets/spam/0064.d700742b9815d990b2e5a7921e8d854c\n",
      "Searching ./course_dump/week08/day1_intro_to_bayesian_statistics/naive-bayes-spam-lab/datasets/spam/0099.c4ff6dba0a5177d3c7d8ef54c8920496\n",
      "Searching ./course_dump/week08/day1_intro_to_bayesian_statistics/naive-bayes-spam-lab/datasets/spam/0251.d542591a25f8fe8c4accd692113a0554\n",
      "Searching ./course_dump/week08/day1_intro_to_bayesian_statistics/naive-bayes-spam-lab/datasets/spam/0077.a5c41f056918bde0d5f9be424714766e\n",
      "Searching ./course_dump/week08/day1_intro_to_bayesian_statistics/naive-bayes-spam-lab/datasets/spam/0484.cd802b94da9c80db5e4432bb661effd1\n",
      "Searching ./course_dump/week08/day1_intro_to_bayesian_statistics/naive-bayes-spam-lab/datasets/spam/0320.e34c9c6f982b8ce353c10aa362d6da17\n",
      "Searching ./course_dump/week08/day1_intro_to_bayesian_statistics/naive-bayes-spam-lab/datasets/spam/0001.bfc8d64d12b325ff385cca8d07b84288\n",
      "Searching ./course_dump/week08/day1_intro_to_bayesian_statistics/naive-bayes-spam-lab/datasets/spam/0132.7ac2141ed9a163f934ac65b3f59a2a03\n",
      "Searching ./course_dump/week08/day1_intro_to_bayesian_statistics/naive-bayes-spam-lab/datasets/spam/0248.b639977f45a5b1e39b5aa3c4abc2edf6\n",
      "Searching ./course_dump/week08/day1_intro_to_bayesian_statistics/naive-bayes-spam-lab/datasets/spam/0142.1fd05cffaba260b9ecd3e75b6dddaf73\n",
      "Searching ./course_dump/week08/day1_intro_to_bayesian_statistics/naive-bayes-spam-lab/datasets/spam/0406.4b29229820cc5e9675ad369a3a000f43\n",
      "Searching ./course_dump/week08/day1_intro_to_bayesian_statistics/naive-bayes-spam-lab/datasets/spam/0385.8db8e827e6fec2fae5f7e407fe0e0ca3\n",
      "Searching ./course_dump/week08/day1_intro_to_bayesian_statistics/naive-bayes-spam-lab/datasets/spam/0292.3e12964912377bd9b52d223e37812e56\n",
      "Searching ./course_dump/week08/day1_intro_to_bayesian_statistics/naive-bayes-spam-lab/datasets/spam/0339.873b4fc31bb79ebea51fdea5cde75b3c\n",
      "Searching ./course_dump/week08/day1_intro_to_bayesian_statistics/naive-bayes-spam-lab/datasets/spam/0144.58d3de25279e1938f24502d70dfa9754\n",
      "Searching ./course_dump/week08/day1_intro_to_bayesian_statistics/naive-bayes-spam-lab/datasets/spam/0262.c996a3709ca616fce1bfc6d50cf5bda3\n",
      "Searching ./course_dump/week08/day1_intro_to_bayesian_statistics/naive-bayes-spam-lab/datasets/spam/0067.02c6e51107f39ee60453ff8e7372101d\n",
      "Searching ./course_dump/week08/day1_intro_to_bayesian_statistics/naive-bayes-spam-lab/datasets/spam/0096.b2cb600e893f7a663ea5f9bff3a6276e\n",
      "Searching ./course_dump/week08/day1_intro_to_bayesian_statistics/naive-bayes-spam-lab/datasets/spam/0031.e68d1195ad2c1900a44de8631f8acd91\n",
      "Searching ./course_dump/week08/day1_intro_to_bayesian_statistics/naive-bayes-spam-lab/datasets/spam/0373.2171ee7f8e73e1092279077df2910ff6\n",
      "Searching ./course_dump/week08/day1_intro_to_bayesian_statistics/naive-bayes-spam-lab/datasets/spam/0082.705cdc08c2ee77821391a847d9c1a4e3\n",
      "Searching ./course_dump/week08/day1_intro_to_bayesian_statistics/naive-bayes-spam-lab/datasets/spam/0056.0f99dde58a7c4e18944397ab47e0412c\n",
      "Searching ./course_dump/week08/day1_intro_to_bayesian_statistics/naive-bayes-spam-lab/datasets/spam/0080.77af9ca7f967f055062aade45001129e\n",
      "Searching ./course_dump/week08/day1_intro_to_bayesian_statistics/naive-bayes-spam-lab/datasets/spam/0354.457f41d0d6af931597b5137a061cde62\n",
      "Searching ./course_dump/week08/day1_intro_to_bayesian_statistics/naive-bayes-spam-lab/datasets/spam/0173.f7902a7780f163e3896861983cd700c6\n",
      "Searching ./course_dump/week08/day1_intro_to_bayesian_statistics/naive-bayes-spam-lab/datasets/spam/0440.16a3caff5b5788f2ae378850041252d7\n",
      "Searching ./course_dump/week08/day1_intro_to_bayesian_statistics/naive-bayes-spam-lab/datasets/spam/0388.23ff533336b63fb45d267b8cbe59b7b4\n",
      "Searching ./course_dump/week08/day1_intro_to_bayesian_statistics/naive-bayes-spam-lab/datasets/spam/0100.c60d1c697136b07c947fa180ba3e0441\n",
      "Searching ./course_dump/week08/day1_intro_to_bayesian_statistics/naive-bayes-spam-lab/datasets/spam/0382.8f4cd77d3b521fa679ed62a9dda23d9a\n",
      "Searching ./course_dump/week08/day1_intro_to_bayesian_statistics/naive-bayes-spam-lab/datasets/spam/0376.d87b4313e6c43a986060d57a0b8515a6\n",
      "Searching ./course_dump/week08/day1_intro_to_bayesian_statistics/naive-bayes-spam-lab/datasets/spam/0306.521d917ac6509c499c406647fd0d336b\n",
      "Searching ./course_dump/week08/day1_intro_to_bayesian_statistics/naive-bayes-spam-lab/datasets/spam/0092.bf7453c6b7917ca30074a3030d84e36d\n",
      "Searching ./course_dump/week08/day1_intro_to_bayesian_statistics/naive-bayes-spam-lab/datasets/spam/0409.09cb28cd8753bff06fc8a547c3ed8fe2\n",
      "Searching ./course_dump/week08/day1_intro_to_bayesian_statistics/naive-bayes-spam-lab/datasets/spam/0150.30c44c205041fd95f00ef524ea54e356\n",
      "Searching ./course_dump/week08/day1_intro_to_bayesian_statistics/naive-bayes-spam-lab/datasets/spam/0355.94ebf637e4bd3db8a81c8ce68ecf681d\n",
      "Searching ./course_dump/week08/day1_intro_to_bayesian_statistics/naive-bayes-spam-lab/datasets/spam/0301.ad155a30cca1f9d16e75e8934030edae\n",
      "Searching ./course_dump/week08/day1_intro_to_bayesian_statistics/naive-bayes-spam-lab/datasets/spam/0323.badf0273f656afd0dfebaa63af1c81f6\n",
      "Searching ./course_dump/week08/day1_intro_to_bayesian_statistics/naive-bayes-spam-lab/datasets/spam/0151.6f8f0ec4d897a5285d662ef4ec31d924\n",
      "Searching ./course_dump/week08/day1_intro_to_bayesian_statistics/naive-bayes-spam-lab/datasets/spam/0111.a163d41592b3a52747d7521341a961af\n",
      "Searching ./course_dump/week08/day1_intro_to_bayesian_statistics/naive-bayes-spam-lab/datasets/spam/0410.be908008e0e27722a177b289227f5fc1\n",
      "Searching ./course_dump/week08/day1_intro_to_bayesian_statistics/naive-bayes-spam-lab/datasets/spam/0027.028e0b165e8ea6f479e09a8f8cc7e50d\n",
      "Searching ./course_dump/week08/day1_intro_to_bayesian_statistics/naive-bayes-spam-lab/datasets/spam/0476.0530ef1b33305fdf919489946570685b\n",
      "Searching ./course_dump/week08/day1_intro_to_bayesian_statistics/naive-bayes-spam-lab/datasets/spam/0223.8ab642208d33d7f9ac50bc2e42c02732\n",
      "Searching ./course_dump/week08/day1_intro_to_bayesian_statistics/naive-bayes-spam-lab/datasets/spam/0454.943161603b1eb6da5187194b5a75186a\n",
      "Searching ./course_dump/week08/day1_intro_to_bayesian_statistics/naive-bayes-spam-lab/datasets/spam/0307.2e4dc0cdb1e3b49f0986c19c1f324224\n",
      "Searching ./course_dump/week08/day1_intro_to_bayesian_statistics/naive-bayes-spam-lab/datasets/spam/0482.d2338d94e40e6028a89c0a197ed7c470\n",
      "Searching ./course_dump/week08/day1_intro_to_bayesian_statistics/naive-bayes-spam-lab/datasets/spam/0420.6112350c5fb3dcf5a67a4fafac80702e\n",
      "Searching ./course_dump/week08/day1_intro_to_bayesian_statistics/naive-bayes-spam-lab/datasets/spam/0112.ec411d26d1f4decc16af7ef73e69a227\n",
      "Searching ./course_dump/week08/day1_intro_to_bayesian_statistics/naive-bayes-spam-lab/datasets/spam/0147.65cf30538f09402e4d1bd4aa91d9532a\n",
      "Searching ./course_dump/week08/day1_intro_to_bayesian_statistics/naive-bayes-spam-lab/datasets/spam/0451.588b22df28f4036ff3895447afbcb7f3\n",
      "Searching ./course_dump/week08/day1_intro_to_bayesian_statistics/naive-bayes-spam-lab/datasets/spam/0444.f81c80c3f2d43ecd8b117213f3e60c53\n",
      "Searching ./course_dump/week08/day1_intro_to_bayesian_statistics/naive-bayes-spam-lab/datasets/spam/0222.6ad799703d958681d6e427762f86f179\n",
      "Searching ./course_dump/week08/day1_intro_to_bayesian_statistics/naive-bayes-spam-lab/datasets/spam/0261.93d7dab5dc0c469b58aa9b0e5e25bb25\n",
      "Searching ./course_dump/week08/day1_intro_to_bayesian_statistics/naive-bayes-spam-lab/datasets/spam/0469.c1d9ab5918d50dac4242ef53c4aaf678\n",
      "Searching ./course_dump/week08/day1_intro_to_bayesian_statistics/naive-bayes-spam-lab/datasets/spam/0020.4120dc06a0124a8688e96f8cff029113\n",
      "Searching ./course_dump/week08/day1_intro_to_bayesian_statistics/naive-bayes-spam-lab/datasets/spam/0429.b1077599c85314135e6d82d654c98d55\n",
      "Searching ./course_dump/week08/day1_intro_to_bayesian_statistics/naive-bayes-spam-lab/datasets/spam/0411.e6e37cbb02ad33b4e0ba5fb6caf2bbcf\n",
      "Searching ./course_dump/week08/day1_intro_to_bayesian_statistics/naive-bayes-spam-lab/datasets/spam/0233.e9834d55f8185a84ce8a047b2eba2139\n",
      "Searching ./course_dump/week08/day1_intro_to_bayesian_statistics/naive-bayes-spam-lab/datasets/spam/0300.fa3ece84a195f3d36a70f2550824071f\n"
     ]
    },
    {
     "name": "stdout",
     "output_type": "stream",
     "text": [
      "Searching ./course_dump/week08/day1_intro_to_bayesian_statistics/naive-bayes-spam-lab/datasets/spam/0381.492ed1e5eed1b631560e2009be5b8c9a\n",
      "Searching ./course_dump/week08/day1_intro_to_bayesian_statistics/naive-bayes-spam-lab/datasets/spam/0483.488a059db4a731caae8143bf298d6ac4\n",
      "Searching ./course_dump/week08/day1_intro_to_bayesian_statistics/naive-bayes-spam-lab/datasets/spam/0117.33011fddf61efe5f453a14468ff7e629\n",
      "Searching ./course_dump/week08/day1_intro_to_bayesian_statistics/naive-bayes-spam-lab/datasets/spam/0267.0bf79a17115bffdf00bb0997f773dfc5\n",
      "Searching ./course_dump/week08/day1_intro_to_bayesian_statistics/naive-bayes-spam-lab/datasets/spam/0336.b864dd710e659f0ef5826dc4d80714f8\n",
      "Searching ./course_dump/week08/day1_intro_to_bayesian_statistics/naive-bayes-spam-lab/datasets/spam/0212.9a9f009a6d601e2e34c1b95353983352\n",
      "Searching ./course_dump/week08/day1_intro_to_bayesian_statistics/naive-bayes-spam-lab/datasets/spam/0486.348918a564335556b4fdd8b82f939918\n",
      "Searching ./course_dump/week08/day1_intro_to_bayesian_statistics/naive-bayes-spam-lab/datasets/spam/0041.21cc985cc36d931916863aed24de8c27\n",
      "Searching ./course_dump/week08/day1_intro_to_bayesian_statistics/naive-bayes-spam-lab/datasets/spam/0495.a13bce4369913c929a48b073f2b320c9\n",
      "Searching ./course_dump/week08/day1_intro_to_bayesian_statistics/naive-bayes-spam-lab/datasets/spam/0330.a4df526233e524104c3b3554dd8ab5a8\n",
      "Searching ./course_dump/week08/day1_intro_to_bayesian_statistics/naive-bayes-spam-lab/datasets/spam/0107.f1d4194b57840ea6587b9a73ed88e075\n",
      "Searching ./course_dump/week08/day1_intro_to_bayesian_statistics/naive-bayes-spam-lab/datasets/spam/0291.65fa7c79bc3a75c50655cb044011c50a\n",
      "Searching ./course_dump/week08/day1_intro_to_bayesian_statistics/naive-bayes-spam-lab/datasets/spam/0007.859c901719011d56f8b652ea071c1f8b\n",
      "Searching ./course_dump/week08/day1_intro_to_bayesian_statistics/naive-bayes-spam-lab/datasets/spam/0415.e241b6184464107168656739bf96c6b9\n",
      "Searching ./course_dump/week08/day1_intro_to_bayesian_statistics/naive-bayes-spam-lab/datasets/spam/0116.8e13644b995f98dbab198b71e26f67ec\n",
      "Searching ./course_dump/week08/day1_intro_to_bayesian_statistics/naive-bayes-spam-lab/datasets/spam/0460.532703440c6f7df067d1ba5054da7f11\n",
      "Searching ./course_dump/week08/day1_intro_to_bayesian_statistics/naive-bayes-spam-lab/datasets/spam/0148.7641581f551a1bf533b995087a8a91db\n",
      "Searching ./course_dump/week08/day1_intro_to_bayesian_statistics/naive-bayes-spam-lab/datasets/spam/0338.033c0109da096486c7d797cccd2c3198\n",
      "Searching ./course_dump/week08/day1_intro_to_bayesian_statistics/naive-bayes-spam-lab/datasets/spam/0084.df5ac85de3405b6d07c9fa7ba3eecf6a\n",
      "Searching ./course_dump/week08/day1_intro_to_bayesian_statistics/naive-bayes-spam-lab/datasets/spam/0424.b283405aeac6a8ff4c4a4e4e85310268\n",
      "Searching ./course_dump/week08/day1_intro_to_bayesian_statistics/naive-bayes-spam-lab/datasets/spam/0055.8b2154bb7ec1f411495f37f519f1835d\n",
      "Searching ./course_dump/week08/day1_intro_to_bayesian_statistics/naive-bayes-spam-lab/datasets/spam/0036.8e582263070076dfe6000411d9b13ce6\n",
      "Searching ./course_dump/week08/day1_intro_to_bayesian_statistics/naive-bayes-spam-lab/datasets/spam/0371.e4ca4edd7d69a9b54cac7f364f5f2079\n",
      "Searching ./course_dump/week08/day1_intro_to_bayesian_statistics/naive-bayes-spam-lab/datasets/spam/0136.7e7d6adf293fa0a3dc56b3f796cf00d1\n",
      "Searching ./course_dump/week08/day1_intro_to_bayesian_statistics/naive-bayes-spam-lab/datasets/spam/0070.977e083b104717202fe944ae6065624e\n",
      "Searching ./course_dump/week08/day1_intro_to_bayesian_statistics/naive-bayes-spam-lab/datasets/spam/0366.539843bed9a06ae77966ccbc9dc2e103\n",
      "Searching ./course_dump/week08/day1_intro_to_bayesian_statistics/naive-bayes-spam-lab/datasets/spam/0459.5d8701dbedee666b885d456475f0301d\n",
      "Searching ./course_dump/week08/day1_intro_to_bayesian_statistics/naive-bayes-spam-lab/datasets/spam/0003.4b3d943b8df71af248d12f8b2e7a224a\n",
      "Searching ./course_dump/week08/day1_intro_to_bayesian_statistics/naive-bayes-spam-lab/datasets/spam/0234.1594b3a348279e71c8b769db9aa96b5b\n",
      "Searching ./course_dump/week08/day1_intro_to_bayesian_statistics/naive-bayes-spam-lab/datasets/spam/0050.b8200e218e5a5a433f897e9495253a30\n",
      "Searching ./course_dump/week08/day1_intro_to_bayesian_statistics/naive-bayes-spam-lab/datasets/spam/0154.e39fc51ffdb9c2ecd480ce972078aeaa\n",
      "Searching ./course_dump/week08/day1_intro_to_bayesian_statistics/naive-bayes-spam-lab/datasets/spam/0317.0bea188e5bd639ae421f07b3ad68c5e0\n",
      "Searching ./course_dump/week08/day1_intro_to_bayesian_statistics/naive-bayes-spam-lab/datasets/spam/0128.4da9b2cfacbe9bfd128aacbb526d68d4\n",
      "Searching ./course_dump/week08/day1_intro_to_bayesian_statistics/naive-bayes-spam-lab/datasets/spam/0341.7c13df68bb4feae35d9ea86001a3ecad\n",
      "Searching ./course_dump/week08/day1_intro_to_bayesian_statistics/naive-bayes-spam-lab/datasets/spam/0498.863566df8e5f17f979edca79d1e87187\n",
      "Searching ./course_dump/week08/day1_intro_to_bayesian_statistics/naive-bayes-spam-lab/datasets/spam/0045.75baa6797e2a65053a8373d5aa96f594\n",
      "Searching ./course_dump/week08/day1_intro_to_bayesian_statistics/naive-bayes-spam-lab/datasets/spam/0433.8977506bae8028f48290ea0fb2f54ddd\n",
      "Searching ./course_dump/week08/day1_intro_to_bayesian_statistics/naive-bayes-spam-lab/datasets/spam/0033.489e59d3c7060b70e166ef7317c86807\n",
      "Searching ./course_dump/week08/day1_intro_to_bayesian_statistics/naive-bayes-spam-lab/datasets/spam/0397.c02eba1386b00d640c954e5117dd1aa0\n",
      "Searching ./course_dump/week08/day1_intro_to_bayesian_statistics/naive-bayes-spam-lab/datasets/spam/0114.c104ada3a249e1e1846c0cd156a303e9\n",
      "Searching ./course_dump/week08/day1_intro_to_bayesian_statistics/naive-bayes-spam-lab/datasets/spam/0106.fa6df8609cebb6f0f37aec3f70aa5b9a\n",
      "Searching ./course_dump/week08/day1_intro_to_bayesian_statistics/naive-bayes-spam-lab/datasets/spam/0104.886f4a22362f4d3528c3e675878f17f7\n",
      "Searching ./course_dump/week08/day1_intro_to_bayesian_statistics/naive-bayes-spam-lab/datasets/spam/0088.f421d8c380fb0c48483f026d243df9d9\n",
      "Searching ./course_dump/week08/day1_intro_to_bayesian_statistics/naive-bayes-spam-lab/datasets/spam/0095.e1db2d3556c2863ef7355faf49160219\n",
      "Searching ./course_dump/week08/day1_intro_to_bayesian_statistics/naive-bayes-spam-lab/datasets/spam/0427.8136588f1befaccc01f0405513be6186\n",
      "Searching ./course_dump/week08/day1_intro_to_bayesian_statistics/naive-bayes-spam-lab/datasets/spam/0367.c6d1767b20048ef840cf83f8fb2cff68\n",
      "Searching ./course_dump/week08/day1_intro_to_bayesian_statistics/naive-bayes-spam-lab/datasets/spam/0103.8c39bfed2079f865e9dfb75f4416a468\n",
      "Searching ./course_dump/week08/day1_intro_to_bayesian_statistics/naive-bayes-spam-lab/datasets/spam/0198.43bac6df7ea16e4c4b0026779341f14b\n",
      "Searching ./course_dump/week08/day1_intro_to_bayesian_statistics/naive-bayes-spam-lab/datasets/spam/0016.f9c349935955e1ccc7626270da898445\n",
      "Searching ./course_dump/week08/day1_intro_to_bayesian_statistics/naive-bayes-spam-lab/datasets/spam/0029.2b149de91fef9f40880d27ce8c27aeb2\n",
      "Searching ./course_dump/week08/day1_intro_to_bayesian_statistics/naive-bayes-spam-lab/datasets/spam/0110.20934dc65c9a88fc9c6afda9952ce2c5\n",
      "Searching ./course_dump/week08/day1_intro_to_bayesian_statistics/naive-bayes-spam-lab/datasets/spam/0230.035bbcbe1235cb6fdd0a5d6d626dc5c4\n",
      "Searching ./course_dump/week08/day1_intro_to_bayesian_statistics/naive-bayes-spam-lab/datasets/spam/0060.140f80780520fa19b360ddcb05838a67\n",
      "Searching ./course_dump/week08/day1_intro_to_bayesian_statistics/naive-bayes-spam-lab/datasets/spam/0438.77cb3de3ddbb68012f0dbe370c4e71dc\n",
      "Searching ./course_dump/week08/day1_intro_to_bayesian_statistics/naive-bayes-spam-lab/datasets/spam/0091.113ec7122d4046a2754bcf70b9fb5299\n",
      "Searching ./course_dump/week08/day1_intro_to_bayesian_statistics/naive-bayes-spam-lab/datasets/spam/0051.374f4d4300a5d39544b2f052e7a9429d\n",
      "Searching ./course_dump/week08/day1_intro_to_bayesian_statistics/naive-bayes-spam-lab/datasets/spam/0465.5d27c24cf1797e87a346c02f9bc42587\n",
      "Searching ./course_dump/week08/day1_intro_to_bayesian_statistics/naive-bayes-spam-lab/datasets/spam/0006.7a32642f8c22bbeb85d6c3b5f3890a2c\n",
      "Searching ./course_dump/week08/day1_intro_to_bayesian_statistics/naive-bayes-spam-lab/datasets/spam/0052.f12ac251d1fbdc679daadc6b97229e63\n",
      "Searching ./course_dump/week08/day1_intro_to_bayesian_statistics/naive-bayes-spam-lab/datasets/spam/0009.c05e264fbf18783099b53dbc9a9aacda\n",
      "Searching ./course_dump/week08/day1_intro_to_bayesian_statistics/naive-bayes-spam-lab/datasets/spam/0414.4b85e87c5b9235c72f189bf044057f15\n",
      "Searching ./course_dump/week08/day1_intro_to_bayesian_statistics/naive-bayes-spam-lab/datasets/spam/0346.8c8e3c5107bf6bf30b940f79d598c1b9\n",
      "Searching ./course_dump/week08/day1_intro_to_bayesian_statistics/naive-bayes-spam-lab/datasets/spam/0213.5f17fdf863726d4704840f86f698d10b\n",
      "Searching ./course_dump/week08/day1_intro_to_bayesian_statistics/naive-bayes-spam-lab/datasets/spam/0428.8fc153d0c9cbc406fbd9bdf1c4ed9b13\n",
      "Searching ./course_dump/week08/day1_intro_to_bayesian_statistics/naive-bayes-spam-lab/datasets/spam/0497.9307bd1fb5347f9fbf1f54ebe95b1d20\n"
     ]
    },
    {
     "name": "stdout",
     "output_type": "stream",
     "text": [
      "Searching ./course_dump/week08/day1_intro_to_bayesian_statistics/naive-bayes-spam-lab/datasets/spam/0021.15185fdb3fb02dffd041fa8f70d19791\n",
      "Searching ./course_dump/week08/day1_intro_to_bayesian_statistics/naive-bayes-spam-lab/datasets/spam/0322.77dd826a00ebd4b54a6036394d41da55\n",
      "Searching ./course_dump/week08/day1_intro_to_bayesian_statistics/naive-bayes-spam-lab/datasets/spam/0269.5b147e2f10b02f4a478036a0b495323e\n",
      "Searching ./course_dump/week08/day1_intro_to_bayesian_statistics/naive-bayes-spam-lab/datasets/spam/0179.3a4c735c7c1e494f4e7a7b9465043280\n",
      "Searching ./course_dump/week08/day1_intro_to_bayesian_statistics/naive-bayes-spam-lab/datasets/spam/0294.8dde5983e6dcd314a8aa3f89e01c1ec2\n",
      "Searching ./course_dump/week08/day1_intro_to_bayesian_statistics/naive-bayes-spam-lab/datasets/spam/0395.bb934e8b4c39d5eab38f828a26f760b4\n",
      "Searching ./course_dump/week08/day1_intro_to_bayesian_statistics/naive-bayes-spam-lab/datasets/spam/0278.229f1cdd03eb4e6ff86e9fd29551f577\n",
      "Searching ./course_dump/week08/day1_intro_to_bayesian_statistics/naive-bayes-spam-lab/datasets/spam/0199.955edee89f34960c033c4d1072841356\n",
      "Searching ./course_dump/week08/day1_intro_to_bayesian_statistics/naive-bayes-spam-lab/datasets/spam/0277.4b6ea2e210cacce0e46064da22a05549\n",
      "Searching ./course_dump/week08/day1_intro_to_bayesian_statistics/naive-bayes-spam-lab/datasets/spam/0108.4506c2ef846b80b9a7beb90315b22701\n",
      "Searching ./course_dump/week08/day1_intro_to_bayesian_statistics/naive-bayes-spam-lab/datasets/spam/0360.5f5fc66c831d845705efac502121308a\n",
      "Searching ./course_dump/week08/day1_intro_to_bayesian_statistics/naive-bayes-spam-lab/datasets/spam/0249.c429ab5c1413c4386bf64b228a68e768\n",
      "Searching ./course_dump/week08/day1_intro_to_bayesian_statistics/naive-bayes-spam-lab/datasets/spam/0157.3f95804da86ee79dbb076c47ed29984c\n",
      "Searching ./course_dump/week08/day1_intro_to_bayesian_statistics/naive-bayes-spam-lab/datasets/spam/0074.9948514a1f3aac3f27ba2c20db7b0441\n",
      "Searching ./course_dump/week08/day1_intro_to_bayesian_statistics/naive-bayes-spam-lab/datasets/spam/0342.babb5045c49b585808041391599bc05d\n",
      "Searching ./course_dump/week08/day1_intro_to_bayesian_statistics/naive-bayes-spam-lab/datasets/spam/0215.57c4f4d8e2f582088f8aca38239059f7\n",
      "Searching ./course_dump/week08/day1_intro_to_bayesian_statistics/naive-bayes-spam-lab/datasets/spam/0022.4b5cf3c16feb88dd6932a8c46a41946c\n",
      "Searching ./course_dump/week08/day1_intro_to_bayesian_statistics/naive-bayes-spam-lab/datasets/spam/0266.99e95dc7251843f7a2015cb602775694\n",
      "Searching ./course_dump/week08/day1_intro_to_bayesian_statistics/naive-bayes-spam-lab/datasets/spam/0032.081c3615bc9b91d09b6cbb9239ba8c99\n",
      "Searching ./course_dump/week08/day1_intro_to_bayesian_statistics/naive-bayes-spam-lab/datasets/spam/0430.17440122811305f78e499d2ed0a1fe46\n",
      "Searching ./course_dump/week08/day1_intro_to_bayesian_statistics/naive-bayes-spam-lab/datasets/spam/0228.23fc5aadfceb81d121d77dfe37f6929a\n",
      "Searching ./course_dump/week08/day1_intro_to_bayesian_statistics/naive-bayes-spam-lab/datasets/spam/0226.409b6577c79d85773d50cb37fde4ba79\n",
      "Searching ./course_dump/week08/day1_intro_to_bayesian_statistics/naive-bayes-spam-lab/datasets/spam/0359.2794a4ec8f226ea59a009e972d012f64\n",
      "Searching ./course_dump/week08/day1_intro_to_bayesian_statistics/naive-bayes-spam-lab/datasets/spam/0155.829bab9379cfe32fe4b5af15ca99361b\n",
      "Searching ./course_dump/week08/day1_intro_to_bayesian_statistics/naive-bayes-spam-lab/datasets/spam/0058.abb13c5db31d26a58607aac809573ed4\n",
      "Searching ./course_dump/week08/day1_intro_to_bayesian_statistics/naive-bayes-spam-lab/datasets/spam/0196.16da0dc3452b7407d4f89a0b2efcff0c\n",
      "Searching ./course_dump/week08/day1_intro_to_bayesian_statistics/naive-bayes-spam-lab/datasets/spam/0245.39c15852204971c72e8d89f9f3f9bb38\n",
      "Searching ./course_dump/week08/day1_intro_to_bayesian_statistics/naive-bayes-spam-lab/datasets/spam/0369.2530542de47d461ccb925fcafc6f0ad5\n",
      "Searching ./course_dump/week08/day1_intro_to_bayesian_statistics/naive-bayes-spam-lab/datasets/spam/0137.42d5881a50744e24d9280701bb534cfb\n",
      "Searching ./course_dump/week08/day1_intro_to_bayesian_statistics/naive-bayes-spam-lab/datasets/spam/0015.1b871d654560011a0aaa29bb4e9054f7\n",
      "Searching ./course_dump/week08/day1_intro_to_bayesian_statistics/naive-bayes-spam-lab/datasets/spam/0244.7e5d917c8a76d52cc694c5cf8ab8497d\n",
      "Searching ./course_dump/week08/day1_intro_to_bayesian_statistics/naive-bayes-spam-lab/datasets/spam/0345.b8ba4d6a115368132d1d580c4c9e0307\n",
      "Searching ./course_dump/week08/day1_intro_to_bayesian_statistics/naive-bayes-spam-lab/datasets/spam/0458.8c9d2363547ebaf997282910cf21e95c\n",
      "Searching ./course_dump/week08/day1_intro_to_bayesian_statistics/naive-bayes-spam-lab/datasets/spam/0242.a8ba01c4d998005e3ad3495293582bb6\n",
      "Searching ./course_dump/week08/day1_intro_to_bayesian_statistics/naive-bayes-spam-lab/datasets/spam/0260.737eefb83e7eedbd531117c273c56241\n",
      "Searching ./course_dump/week08/day1_intro_to_bayesian_statistics/naive-bayes-spam-lab/datasets/spam/0464.c1345cc18f1944b61a219dcdfe54088a\n",
      "Searching ./course_dump/week08/day1_intro_to_bayesian_statistics/naive-bayes-spam-lab/datasets/spam/0061.c148ebba16540e48c7aae2e3f733a8a3\n",
      "Searching ./course_dump/week08/day1_intro_to_bayesian_statistics/naive-bayes-spam-lab/datasets/spam/0374.ed17ed71f8d321cf8505672678c56e71\n",
      "Searching ./course_dump/week08/day1_intro_to_bayesian_statistics/naive-bayes-spam-lab/datasets/spam/0408.87f7a3c9c29aaf97b413126029aacc6a\n",
      "Searching ./course_dump/week08/day1_intro_to_bayesian_statistics/naive-bayes-spam-lab/datasets/spam/0113.ff113297f0ed07536d288c7b2193a8ec\n",
      "Searching ./course_dump/week08/day1_intro_to_bayesian_statistics/naive-bayes-spam-lab/datasets/spam/0439.2c6d4d3e8b817c5315a1c61e4eeb7ee9\n",
      "Searching ./course_dump/week08/day1_intro_to_bayesian_statistics/naive-bayes-spam-lab/datasets/spam/0331.1de50a02d91a4e0c6daf5e2cc28a60c6\n",
      "Searching ./course_dump/week08/day1_intro_to_bayesian_statistics/naive-bayes-spam-lab/datasets/spam/0344.8bbe5c7c8269a039761968a1b10a936a\n",
      "Searching ./course_dump/week08/day1_intro_to_bayesian_statistics/naive-bayes-spam-lab/datasets/spam/0384.e25b766bea2f1efe35eccb7eb6f54e37\n",
      "Searching ./course_dump/week08/day1_intro_to_bayesian_statistics/naive-bayes-spam-lab/datasets/spam/0023.4299adbda55862876440ecbc2fce6a67\n",
      "Searching ./course_dump/week08/day1_intro_to_bayesian_statistics/naive-bayes-spam-lab/datasets/spam/0065.18d2edcf9aa0e940651b5fdd218ac019\n",
      "Searching ./course_dump/week08/day1_intro_to_bayesian_statistics/naive-bayes-spam-lab/datasets/spam/0413.4c74110f6640067c2172a04543dea670\n",
      "Searching ./course_dump/week08/day1_intro_to_bayesian_statistics/naive-bayes-spam-lab/datasets/spam/0012.7bc8e619ad0264979edce15083e70a02\n",
      "Searching ./course_dump/week08/day1_intro_to_bayesian_statistics/naive-bayes-spam-lab/datasets/spam/0210.285d263b1a18e67c68ec9fe005253dd0\n",
      "Searching ./course_dump/week08/day1_intro_to_bayesian_statistics/naive-bayes-spam-lab/datasets/spam/0216.feb2a8df9887bc2d84e80c9d2a8faf56\n",
      "Searching ./course_dump/week08/day1_intro_to_bayesian_statistics/naive-bayes-spam-lab/datasets/spam/0378.36f7856d38f84ffea7f1fd98044f756e\n",
      "Searching ./course_dump/week08/day1_intro_to_bayesian_statistics/naive-bayes-spam-lab/datasets/spam/0131.0b7281078874ca88f95d6fdf5d905d50\n",
      "Searching ./course_dump/week08/day1_intro_to_bayesian_statistics/naive-bayes-spam-lab/datasets/spam/0039.256602e2cb5a5b373bdd1fb631d9f452\n",
      "Searching ./course_dump/week08/day1_intro_to_bayesian_statistics/naive-bayes-spam-lab/datasets/spam/0485.9021367278833179285091e5201f5854\n",
      "Searching ./course_dump/week08/day1_intro_to_bayesian_statistics/naive-bayes-spam-lab/datasets/spam/0487.b57549dc531f50c1ff1e3356bc38b390\n",
      "Searching ./course_dump/week08/day1_intro_to_bayesian_statistics/naive-bayes-spam-lab/datasets/spam/0343.0630afbe4ee1ffd0db0ffb81c6de98de\n",
      "Searching ./course_dump/week08/day1_intro_to_bayesian_statistics/naive-bayes-spam-lab/datasets/spam/0361.eb828b44c428fcecd4e95e8799a9ee11\n",
      "Searching ./course_dump/week08/day1_intro_to_bayesian_statistics/naive-bayes-spam-lab/datasets/spam/0480.fc9323682825f7d93ed78a82970ceaea\n",
      "Searching ./course_dump/week08/day1_intro_to_bayesian_statistics/naive-bayes-spam-lab/datasets/spam/0202.f1c9a17fe805c50677c104743e4f8be2\n",
      "Searching ./course_dump/week08/day1_intro_to_bayesian_statistics/naive-bayes-spam-lab/datasets/spam/0247.aee6d7984b3dab9a6b0eed524e7a3686\n"
     ]
    },
    {
     "name": "stdout",
     "output_type": "stream",
     "text": [
      "Searching ./course_dump/week08/day1_intro_to_bayesian_statistics/naive-bayes-spam-lab/datasets/spam/0416.112b010a30255d7d14ee9465d4fe804c\n",
      "Searching ./course_dump/week08/day1_intro_to_bayesian_statistics/naive-bayes-spam-lab/datasets/spam/0237.4716d6d5a4e89997c6ffc2d56951d57a\n",
      "Searching ./course_dump/week08/day1_intro_to_bayesian_statistics/naive-bayes-spam-lab/datasets/spam/0468.8edb99340b9a96a81813be2d3362605d\n",
      "Searching ./course_dump/week08/day1_intro_to_bayesian_statistics/naive-bayes-spam-lab/datasets/spam/0295.717c906cda92746007b9098e16c727b2\n",
      "Searching ./course_dump/week08/day1_intro_to_bayesian_statistics/naive-bayes-spam-lab/datasets/spam/0489.013cd8eb1a0a545e5c6ed066bad0cad7\n",
      "Searching ./course_dump/week08/day1_intro_to_bayesian_statistics/naive-bayes-spam-lab/datasets/spam/0102.2e3969075728dde7a328e05d19b35976\n",
      "Searching ./course_dump/week08/day1_intro_to_bayesian_statistics/naive-bayes-spam-lab/datasets/spam/0448.809b59ce6292db666ef457e3cb08bb39\n",
      "Searching ./course_dump/week08/day1_intro_to_bayesian_statistics/naive-bayes-spam-lab/datasets/spam/0221.ee1d208001fd30265827fb309441d662\n",
      "Searching ./course_dump/week08/day1_intro_to_bayesian_statistics/naive-bayes-spam-lab/datasets/spam/0450.a828f09ee44e716e6931866e4743e32a\n",
      "Searching ./course_dump/week08/day1_intro_to_bayesian_statistics/naive-bayes-spam-lab/datasets/spam/0171.495412eb56506d9668b9dacf46860978\n",
      "Searching ./course_dump/week08/day1_intro_to_bayesian_statistics/naive-bayes-spam-lab/datasets/spam/0109.601a9cd8272f22236b27e95dbe2fa22d\n",
      "Searching ./course_dump/week08/day1_intro_to_bayesian_statistics/naive-bayes-spam-lab/datasets/spam/0034.d5a5e526aa6b249ed6ca184548a44b1a\n",
      "Searching ./course_dump/week08/day1_intro_to_bayesian_statistics/naive-bayes-spam-lab/datasets/spam/0337.4e2d92485e5b880d494821c1fcee790a\n",
      "Searching ./course_dump/week08/day1_intro_to_bayesian_statistics/naive-bayes-spam-lab/datasets/spam/0069.a0b6cfde0e477af7f406ee756ba53826\n",
      "Searching ./course_dump/week08/day1_intro_to_bayesian_statistics/naive-bayes-spam-lab/datasets/spam/0391.a52ab775baefe8b277a285560cac7d78\n",
      "Searching ./course_dump/week08/day1_intro_to_bayesian_statistics/naive-bayes-spam-lab/datasets/spam/0000.7b1b73cf36cf9dbc3d64e3f2ee2b91f1\n",
      "Searching ./course_dump/week08/day1_intro_to_bayesian_statistics/naive-bayes-spam-lab/datasets/spam/0046.0b4fff9cd7cffe94cc4f04bbf3928c28\n",
      "Searching ./course_dump/week08/day1_intro_to_bayesian_statistics/naive-bayes-spam-lab/datasets/spam/0017.49ab70c7a4042cb1c695a0e59a6ede54\n",
      "Searching ./course_dump/week08/day1_intro_to_bayesian_statistics/naive-bayes-spam-lab/datasets/spam/0062.41f708df91642411f0fd8f91e28d3521\n",
      "Searching ./course_dump/week08/day1_intro_to_bayesian_statistics/naive-bayes-spam-lab/datasets/spam/0160.b6b241d37fa9d5f772afca9ef30034c3\n",
      "Searching ./course_dump/week08/day1_intro_to_bayesian_statistics/naive-bayes-spam-lab/datasets/spam/0252.c90694cf3f09ef0111b761eefd95cc3f\n",
      "Searching ./course_dump/week08/day1_intro_to_bayesian_statistics/naive-bayes-spam-lab/datasets/spam/0303.c18c1a0222b07f2b2250fbda5a961b7e\n",
      "Searching ./course_dump/week08/day1_intro_to_bayesian_statistics/naive-bayes-spam-lab/datasets/spam/0321.89f41bbace08275ee298ed419e22bc9a\n",
      "Searching ./course_dump/week08/day1_intro_to_bayesian_statistics/naive-bayes-spam-lab/datasets/spam/0467.b59a3337d0979ba8d587bf4c166db8b1\n",
      "Searching ./course_dump/week08/day1_intro_to_bayesian_statistics/naive-bayes-spam-lab/datasets/spam/0422.cce79e048419b788816e8a2c28525afb\n",
      "Searching ./course_dump/week08/day1_intro_to_bayesian_statistics/naive-bayes-spam-lab/datasets/spam/0123.68e87f8b736959b1ab5c4b5f2ce7484a\n",
      "Searching ./course_dump/week08/day1_intro_to_bayesian_statistics/naive-bayes-spam-lab/datasets/spam/0185.9f02f77f7f5a2724c109f598b2245675\n",
      "Searching ./course_dump/week08/day1_intro_to_bayesian_statistics/naive-bayes-spam-lab/datasets/spam/0296.c9b10ba5ae2e480e37a6e2e1455671eb\n",
      "Searching ./course_dump/week08/day1_intro_to_bayesian_statistics/naive-bayes-spam-lab/datasets/spam/0316.018282fecc304f005e952d7c5c181dad\n",
      "Searching ./course_dump/week08/day1_intro_to_bayesian_statistics/naive-bayes-spam-lab/datasets/spam/0442.03f023d080136fd537ff369de5dcae10\n",
      "Searching ./course_dump/week08/day1_intro_to_bayesian_statistics/naive-bayes-spam-lab/datasets/spam/0119.07aedc59172c0c25ef617188ada9b80f\n",
      "Searching ./course_dump/week08/day1_intro_to_bayesian_statistics/naive-bayes-spam-lab/datasets/spam/0075.4568998f41d50bccf8f7c3d4aeb7a425\n",
      "Searching ./course_dump/week08/day1_intro_to_bayesian_statistics/naive-bayes-spam-lab/datasets/spam/0297.9e6095368b4e8258e967798cea8fe40e\n",
      "Searching ./course_dump/week08/day1_intro_to_bayesian_statistics/naive-bayes-spam-lab/datasets/spam/0286.68b939e20e5b9fd6839471f6e9bc07ed\n",
      "Searching ./course_dump/week08/day1_intro_to_bayesian_statistics/naive-bayes-spam-lab/datasets/spam/0101.2dfd7ee79ae439b8d9c38e783a137efa\n",
      "Searching ./course_dump/week08/day1_intro_to_bayesian_statistics/naive-bayes-spam-lab/datasets/spam/0143.260a940290dcb61f9327b224a368d4af\n",
      "Searching ./course_dump/week08/day1_intro_to_bayesian_statistics/naive-bayes-spam-lab/datasets/spam/0334.3e4946e69031f3860ac6de3d3f27aadd\n",
      "Searching ./course_dump/week08/day1_intro_to_bayesian_statistics/naive-bayes-spam-lab/datasets/spam/0076.770f0e7b8378a47a945043434f6f43df\n",
      "Searching ./course_dump/week08/day1_intro_to_bayesian_statistics/naive-bayes-spam-lab/datasets/spam/0141.516a4fe92f63469bd4a21d46dd6bb3be\n",
      "Searching ./course_dump/week08/day1_intro_to_bayesian_statistics/naive-bayes-spam-lab/datasets/spam/0180.afdbcd7acb65828c217eea90ff92c3b0\n",
      "Searching ./course_dump/week08/day1_intro_to_bayesian_statistics/naive-bayes-spam-lab/datasets/spam/0399.b9eab4251d9263129290cf7fc2aa4c7a\n",
      "Searching ./course_dump/week08/day1_intro_to_bayesian_statistics/naive-bayes-spam-lab/datasets/spam/0167.1665f2336b63debb3463fcf4d37e8485\n",
      "Searching ./course_dump/week08/day1_intro_to_bayesian_statistics/naive-bayes-spam-lab/datasets/spam/0434.e86d28a69c9228080a3f0ecbde5ea5fa\n",
      "Searching ./course_dump/week08/day1_intro_to_bayesian_statistics/naive-bayes-spam-lab/datasets/spam/0375.ad5939ae436ed745d5222893d5ffe191\n",
      "Searching ./course_dump/week08/day1_intro_to_bayesian_statistics/naive-bayes-spam-lab/datasets/spam/0232.0edc8786183135557c0f2da5a4460508\n",
      "Searching ./course_dump/week08/day1_intro_to_bayesian_statistics/naive-bayes-spam-lab/datasets/spam/0025.97302502dc8e20ab7e7eb05f926e1bab\n",
      "Searching ./course_dump/week08/day1_intro_to_bayesian_statistics/naive-bayes-spam-lab/datasets/spam/0166.a2e4d6ec3078b619ca38927ca69fc94d\n",
      "Searching ./course_dump/week08/day1_intro_to_bayesian_statistics/naive-bayes-spam-lab/datasets/spam/0243.458c8e32e405b69f561fd77bc16f440c\n",
      "Searching ./course_dump/week08/day1_intro_to_bayesian_statistics/naive-bayes-spam-lab/datasets/spam/0187.e2178f6d01a70dfbdf9c84c4dcaf58dc\n",
      "Searching ./course_dump/week08/day1_intro_to_bayesian_statistics/naive-bayes-spam-lab/datasets/spam/0423.3b9b432fa25a7ac8c494db8d2e42cc73\n",
      "Searching ./course_dump/week08/day1_intro_to_bayesian_statistics/naive-bayes-spam-lab/datasets/spam/0203.beb1b157fc74672074061434cc7bad3c\n",
      "Searching ./course_dump/week08/day1_intro_to_bayesian_statistics/naive-bayes-spam-lab/datasets/spam/0370.6caa3885378bbaf0856bd9712629ab51\n",
      "Searching ./course_dump/week08/day1_intro_to_bayesian_statistics/naive-bayes-spam-lab/datasets/spam/0394.9c882c72ddfd810b56776fdaa1c727a6\n",
      "Searching ./course_dump/week08/day1_intro_to_bayesian_statistics/naive-bayes-spam-lab/datasets/spam/0026.4f10fab6e6776379c17ee9c9ac7da4a8\n",
      "Searching ./course_dump/week08/day1_intro_to_bayesian_statistics/naive-bayes-spam-lab/datasets/spam/0387.c2b993b46377256bdcb2314c2553b6f0\n",
      "Searching ./course_dump/week08/day1_intro_to_bayesian_statistics/naive-bayes-spam-lab/datasets/spam/0333.492c1809f9755e305774bed2aaa3aa9b\n",
      "Searching ./course_dump/week08/day1_intro_to_bayesian_statistics/naive-bayes-spam-lab/datasets/spam/0124.37afd066a74d18b7f14bea0b1fb43d4d\n",
      "Searching ./course_dump/week08/day1_intro_to_bayesian_statistics/naive-bayes-spam-lab/datasets/spam/0393.d3a4d296a35c6a7f39429247c007eeae\n",
      "Searching ./course_dump/week08/day1_intro_to_bayesian_statistics/naive-bayes-spam-lab/datasets/spam/0435.2078783521379b81a45f1a5c48ca131f\n",
      "Searching ./course_dump/week08/day1_intro_to_bayesian_statistics/naive-bayes-spam-lab/datasets/spam/0214.b5ba0ff48cee07a36c6f312de7f77207\n",
      "Searching ./course_dump/week08/day1_intro_to_bayesian_statistics/naive-bayes-spam-lab/datasets/spam/0326.80f15e07265a22b78068bab5b56b01c7\n",
      "Searching ./course_dump/week08/day1_intro_to_bayesian_statistics/naive-bayes-spam-lab/datasets/spam/0285.b44ae825681c0f28db2e742ab790b191\n",
      "Searching ./course_dump/week08/day1_intro_to_bayesian_statistics/naive-bayes-spam-lab/datasets/spam/0314.5b03e0718373f3319eadaec592308aba\n",
      "Searching ./course_dump/week08/day1_intro_to_bayesian_statistics/naive-bayes-spam-lab/datasets/spam/0134.83a63d7a1589ba4cd6aefe20c8e6385f\n",
      "Searching ./course_dump/week08/day1_intro_to_bayesian_statistics/naive-bayes-spam-lab/datasets/spam/0365.212dff15cc46d4650d9a270bf595b42f\n"
     ]
    },
    {
     "name": "stdout",
     "output_type": "stream",
     "text": [
      "Searching ./course_dump/week08/day1_intro_to_bayesian_statistics/naive-bayes-spam-lab/datasets/spam/0068.1626952077798d4f2d5eb30e48bc49b3\n",
      "Searching ./course_dump/week08/day1_intro_to_bayesian_statistics/naive-bayes-spam-lab/datasets/spam/0491.f47154f78397c57b14e05450a16745d5\n",
      "Searching ./course_dump/week08/day1_intro_to_bayesian_statistics/naive-bayes-spam-lab/datasets/spam/0368.3a53888c2f7fbe52a7293f223375c245\n",
      "Searching ./course_dump/week08/day1_intro_to_bayesian_statistics/naive-bayes-spam-lab/datasets/spam/0246.3b997087302d48ff57ab5afb3d400d5b\n",
      "Searching ./course_dump/week08/day1_intro_to_bayesian_statistics/naive-bayes-spam-lab/datasets/spam/0272.97ecf97bd5f1563ac88d9eb4c8a51062\n",
      "Searching ./course_dump/week08/day1_intro_to_bayesian_statistics/naive-bayes-spam-lab/datasets/spam/0125.44381546181fc6c5d7ea59e917f232c5\n",
      "Searching ./course_dump/week08/day1_intro_to_bayesian_statistics/naive-bayes-spam-lab/datasets/spam/0302.10798aa48d25b3f61778f379964a57e5\n",
      "Searching ./course_dump/week08/day1_intro_to_bayesian_statistics/naive-bayes-spam-lab/datasets/spam/0405.18a5c3d971e1def2c3b4a2df122f3583\n",
      "Searching ./course_dump/week08/day1_intro_to_bayesian_statistics/naive-bayes-spam-lab/datasets/spam/0353.27effabff54bfbed52d2c93a1bf0e48a\n",
      "Searching ./course_dump/week08/day1_intro_to_bayesian_statistics/naive-bayes-spam-lab/datasets/spam/0229.2c64df059013c03812139543389a836b\n",
      "Searching ./course_dump/week08/day1_intro_to_bayesian_statistics/naive-bayes-spam-lab/datasets/spam/0178.bf2ab7492e5080b07d7397b0662821a7\n",
      "Searching ./course_dump/week08/day1_intro_to_bayesian_statistics/naive-bayes-spam-lab/datasets/spam/0462.2cfe24a32d1b480eab70b099b4a8a919\n",
      "Searching ./course_dump/week08/day1_intro_to_bayesian_statistics/naive-bayes-spam-lab/datasets/spam/0402.1290489e7e62ac9bb500677606540e5d\n",
      "Searching ./course_dump/week08/day1_intro_to_bayesian_statistics/naive-bayes-spam-lab/datasets/spam/0407.157349d43c03e008f2448e1f37c510aa\n",
      "Searching ./course_dump/week08/day1_intro_to_bayesian_statistics/naive-bayes-spam-lab/datasets/spam/0224.486269968d3ad880a016b600dc366393\n",
      "Searching ./course_dump/week08/day1_intro_to_bayesian_statistics/naive-bayes-spam-lab/datasets/spam/0287.37dd6b1a54993de94495643ead4fd2cf\n",
      "Searching ./course_dump/week08/day1_intro_to_bayesian_statistics/naive-bayes-spam-lab/datasets/spam/0048.462325dc69a8dc74462723ec0d20a5cd\n",
      "Searching ./course_dump/week08/day1_intro_to_bayesian_statistics/naive-bayes-spam-lab/datasets/spam/0276.7e2fed586e292a7ad8cde7cb095a2601\n",
      "Searching ./course_dump/week08/day1_intro_to_bayesian_statistics/naive-bayes-spam-lab/datasets/spam/0097.dce08392ba6bc552d13394fa73974b62\n",
      "Searching ./course_dump/week08/day1_intro_to_bayesian_statistics/naive-bayes-spam-lab/datasets/spam/0220.15583875f5ef9e2cf6450ebc821f0dff\n",
      "Searching ./course_dump/week08/day1_intro_to_bayesian_statistics/naive-bayes-spam-lab/datasets/spam/0500.2e8762b67913d1b07bc8da293448d27f\n",
      "Searching ./course_dump/week08/day1_intro_to_bayesian_statistics/naive-bayes-spam-lab/datasets/spam/0280.2507969221ea95a019506366f6c361d8\n",
      "Searching ./course_dump/week08/day1_intro_to_bayesian_statistics/naive-bayes-spam-lab/datasets/spam/0472.40695f88feb07754e40b1008aeb47bd1\n",
      "Searching ./course_dump/week08/day1_intro_to_bayesian_statistics/naive-bayes-spam-lab/datasets/spam/0129.78a705ff6b3bde3395d067459e6e46e2\n",
      "Searching ./course_dump/week08/day1_intro_to_bayesian_statistics/naive-bayes-spam-lab/datasets/spam/0191.cd23170803a4680d6dbd798a4cd1e5dd\n",
      "Searching ./course_dump/week08/day1_intro_to_bayesian_statistics/naive-bayes-spam-lab/datasets/spam/0325.78b93ee9713b6594d03c86993286e6c5\n",
      "Searching ./course_dump/week08/day1_intro_to_bayesian_statistics/naive-bayes-spam-lab/datasets/spam/0205.d3c294d833fd7c79edd96dac71039821\n",
      "Searching ./course_dump/week08/day1_intro_to_bayesian_statistics/naive-bayes-spam-lab/datasets/spam/0002.24b47bb3ce90708ae29d0aec1da08610\n",
      "Searching ./course_dump/week08/day1_intro_to_bayesian_statistics/naive-bayes-spam-lab/datasets/spam/0130.e258624171c813fc6057728c0ff0c059\n",
      "Searching ./course_dump/week08/day1_intro_to_bayesian_statistics/naive-bayes-spam-lab/datasets/spam/0211.195957199f6e9f694f9811ad83eda5c4\n",
      "Searching ./course_dump/week08/day1_intro_to_bayesian_statistics/naive-bayes-spam-lab/datasets/spam/0363.bafc8f5920a1e35acb4b06d6f6daa74c\n",
      "Searching ./course_dump/week08/day1_intro_to_bayesian_statistics/naive-bayes-spam-lab/datasets/spam/0304.88cf1d3ce0e138fd9ffb801e675f69b3\n",
      "Searching ./course_dump/week08/day1_intro_to_bayesian_statistics/naive-bayes-spam-lab/datasets/spam/0270.d50e186af7a00114ad967b8f77b70338\n",
      "Searching ./course_dump/week08/day1_intro_to_bayesian_statistics/naive-bayes-spam-lab/datasets/spam/0437.b2ad4f589c9ca2ef65432465a12915b4\n",
      "Searching ./course_dump/week08/day1_intro_to_bayesian_statistics/naive-bayes-spam-lab/datasets/spam/0412.4e18b948471feca1fa1610ce7c1259a2\n",
      "Searching ./course_dump/week08/day1_intro_to_bayesian_statistics/naive-bayes-spam-lab/datasets/spam/0256.ad88c1a165392a509a8b0b8df6d56cbd\n",
      "Searching ./course_dump/week08/day1_intro_to_bayesian_statistics/naive-bayes-spam-lab/datasets/spam/0018.259154a52bc55dcae491cfded60a5cd2\n",
      "Searching ./course_dump/week08/day1_intro_to_bayesian_statistics/naive-bayes-spam-lab/datasets/spam/0319.e4a20802d12937998f3b3bf805362a3f\n",
      "Searching ./course_dump/week08/day1_intro_to_bayesian_statistics/naive-bayes-spam-lab/datasets/spam/0098.01d2958ccb7c2e4c02d0920593962436\n",
      "Searching ./course_dump/week08/day1_intro_to_bayesian_statistics/naive-bayes-spam-lab/datasets/spam/0197.6968d98720065059247cefe4e5bcd192\n",
      "Searching ./course_dump/week08/day1_intro_to_bayesian_statistics/naive-bayes-spam-lab/datasets/spam/0250.80b7bd444753246734e015af7b6d2d65\n",
      "Searching ./course_dump/week08/day1_intro_to_bayesian_statistics/naive-bayes-spam-lab/datasets/spam/0425.d7a3b1ae59479bc986057a03d057615d\n",
      "Searching ./course_dump/week08/day1_intro_to_bayesian_statistics/naive-bayes-spam-lab/datasets/spam/0310.23036f6ae05720b052b73117b6ecb957\n",
      "Searching ./course_dump/week08/day1_intro_to_bayesian_statistics/naive-bayes-spam-lab/datasets/spam/0059.a633106e3ce62fa7b46c2e4dc8c666d3\n",
      "Searching ./course_dump/week08/day1_intro_to_bayesian_statistics/naive-bayes-spam-lab/datasets/spam/0217.2a937e0b9912e1e40dbf17bad6026372\n",
      "Searching ./course_dump/week08/day1_intro_to_bayesian_statistics/naive-bayes-spam-lab/datasets/spam/0479.558d7491db4238443bc549ec06021bae\n",
      "Searching ./course_dump/week08/day1_intro_to_bayesian_statistics/naive-bayes-spam-lab/datasets/spam/0177.d62ac309d8030ef816f7831c3d5d3f7d\n",
      "Searching ./course_dump/week08/day1_intro_to_bayesian_statistics/naive-bayes-spam-lab/datasets/spam/0452.63e7d2b55fd5301d2c5d2f48c9a783f6\n",
      "Searching ./course_dump/week08/day1_intro_to_bayesian_statistics/naive-bayes-spam-lab/datasets/spam/0054.839a9c0a07f13718570da944986a898a\n",
      "Searching ./course_dump/week08/day1_intro_to_bayesian_statistics/naive-bayes-spam-lab/datasets/spam/0165.6eedc001155da3cbd75a60eba2b19448\n",
      "Searching ./course_dump/week08/day1_intro_to_bayesian_statistics/naive-bayes-spam-lab/datasets/spam/0138.eab076de94bd9f1d19908f682e58031f\n",
      "Searching ./course_dump/week08/day1_intro_to_bayesian_statistics/naive-bayes-spam-lab/datasets/spam/0126.713b324e028cc69213e67ad3d7319f5d\n",
      "Searching ./course_dump/week08/day1_intro_to_bayesian_statistics/naive-bayes-spam-lab/datasets/spam/0379.5b1c7a295af5ccb0a58c5a41d5c5ad04\n",
      "Searching ./course_dump/week08/day1_intro_to_bayesian_statistics/naive-bayes-spam-lab/datasets/spam/0182.0fe8b40b189a7bc1ec68b3df5125c602\n",
      "Searching ./course_dump/week08/day1_intro_to_bayesian_statistics/naive-bayes-spam-lab/datasets/spam/0175.bf85f34d953215bca7d0004aca087812\n",
      "Searching ./course_dump/week08/day1_intro_to_bayesian_statistics/naive-bayes-spam-lab/datasets/spam/0401.450b38785db348f7d8c83c64304dd6e3\n",
      "Searching ./course_dump/week08/day1_intro_to_bayesian_statistics/naive-bayes-spam-lab/datasets/spam/0257.554324ab4a8f7093f5222303a4c59a8b\n",
      "Searching ./course_dump/week08/day1_intro_to_bayesian_statistics/naive-bayes-spam-lab/datasets/spam/0153.eddc658b08a04641a2494ba6b6eb0a3c\n",
      "Searching ./course_dump/week08/day1_intro_to_bayesian_statistics/naive-bayes-spam-lab/datasets/spam/0305.2252f3b41c7fd3a43ac132a6b3391a3b\n",
      "Searching ./course_dump/week08/day1_intro_to_bayesian_statistics/naive-bayes-spam-lab/datasets/spam/0349.d87df6b95f0ee4e36364e9d71223485a\n",
      "Searching ./course_dump/week08/day1_intro_to_bayesian_statistics/naive-bayes-spam-lab/datasets/spam/0271.24302cf2e759401d1f9975fe4fc1def9\n",
      "Searching ./course_dump/week08/day1_intro_to_bayesian_statistics/naive-bayes-spam-lab/datasets/spam/0449.066d44ef3e1ff26103ea1b35b0a2e6d5\n",
      "Searching ./course_dump/week08/day1_intro_to_bayesian_statistics/naive-bayes-spam-lab/datasets/spam/0318.da63a8488410932cf780238ec0ba59eb\n",
      "Searching ./course_dump/week08/day1_intro_to_bayesian_statistics/naive-bayes-spam-lab/datasets/spam/0398.93e6be09b12b93697185c881c739605d\n",
      "Searching ./course_dump/week08/day1_intro_to_bayesian_statistics/naive-bayes-spam-lab/datasets/spam/0475.f3c5fb57463eb715fa93e9ce483c49fe\n",
      "Searching ./course_dump/week08/day1_intro_to_bayesian_statistics/naive-bayes-spam-lab/datasets/spam/0463.47a4c19eea5230ff19a42e62a5f59484\n"
     ]
    },
    {
     "name": "stdout",
     "output_type": "stream",
     "text": [
      "Searching ./course_dump/week08/day1_intro_to_bayesian_statistics/naive-bayes-spam-lab/datasets/spam/0274.85756abb8d0bcfe267e464a2f33ce686\n",
      "Searching ./course_dump/week08/day1_intro_to_bayesian_statistics/naive-bayes-spam-lab/datasets/spam/0004.1874ab60c71f0b31b580f313a3f6e777\n",
      "Searching ./course_dump/week08/day1_intro_to_bayesian_statistics/naive-bayes-spam-lab/datasets/spam/0208.a2968a374034368d849b6ed12bdedd37\n",
      "Searching ./course_dump/week08/day1_intro_to_bayesian_statistics/naive-bayes-spam-lab/datasets/spam/0195.8b276e08dd05b0131faa8fb24764f205\n",
      "Searching ./course_dump/week08/day1_intro_to_bayesian_statistics/naive-bayes-spam-lab/datasets/spam/0093.2bb8a2a7e4d2841a14f27f32076dd77e\n",
      "Searching ./course_dump/week08/day1_intro_to_bayesian_statistics/naive-bayes-spam-lab/datasets/spam/0057.92fdae44bdd1d9e5461eef3c852dfd23\n",
      "Searching ./course_dump/week08/day1_intro_to_bayesian_statistics/naive-bayes-spam-lab/datasets/spam/0488.6d41f6d7222978a3ee2b6cfbfce55a02\n",
      "Searching ./course_dump/week08/day1_intro_to_bayesian_statistics/naive-bayes-spam-lab/datasets/spam/0086.4b3a02be9a2561ada188d95b4601c01e\n",
      "Searching ./course_dump/week08/day1_intro_to_bayesian_statistics/naive-bayes-spam-lab/datasets/spam/0053.92bcea73123d0ea0fb26c285d5e045a9\n",
      "Searching ./course_dump/week08/day1_intro_to_bayesian_statistics/naive-bayes-spam-lab/datasets/spam/0162.261bb4a36b195f96fcc7da4038b898a3\n",
      "Searching ./course_dump/week08/day1_intro_to_bayesian_statistics/naive-bayes-spam-lab/datasets/spam/0478.16f274ffd3e884a574c9461012cadea6\n",
      "Searching ./course_dump/week08/day1_intro_to_bayesian_statistics/naive-bayes-spam-lab/datasets/spam/0289.93b23ed2f96babb55c0f2a4e0c0684f7\n",
      "Searching ./course_dump/week08/day1_intro_to_bayesian_statistics/naive-bayes-spam-lab/datasets/spam/0265.1120a7d868b23e83b91ad00ec8b79e08\n",
      "Searching ./course_dump/week08/day1_intro_to_bayesian_statistics/naive-bayes-spam-lab/datasets/spam/0164.c8532626eaab6655e81f4d96b78cc659\n",
      "Searching ./course_dump/week08/day1_intro_to_bayesian_statistics/naive-bayes-spam-lab/datasets/spam/0426.2002be3b0195b54596a5e7fd7d7561d5\n",
      "Searching ./course_dump/week08/day1_intro_to_bayesian_statistics/naive-bayes-spam-lab/datasets/spam/0264.2281c4eb36accd65d9c2cab379de2789\n",
      "Searching ./course_dump/week08/day1_intro_to_bayesian_statistics/naive-bayes-spam-lab/datasets/spam/0441.b820c1999715c2e5ded6418d2b17723c\n",
      "Searching ./course_dump/week08/day1_intro_to_bayesian_statistics/naive-bayes-spam-lab/datasets/spam/0358.8a6a162daac1368fcfe83a5db1084ee1\n",
      "Searching ./course_dump/week08/day1_intro_to_bayesian_statistics/naive-bayes-spam-lab/datasets/spam/0351.517e785af43ffb3f9e66ab25b3ab162c\n",
      "Searching ./course_dump/week08/day1_intro_to_bayesian_statistics/naive-bayes-spam-lab/datasets/spam/0389.ed4ca8aceef91808c783909351c7bdb4\n",
      "Searching ./course_dump/week08/day1_intro_to_bayesian_statistics/naive-bayes-spam-lab/datasets/spam/0105.9790e1c57fcbf7885b7cd1719fb4681b\n",
      "Searching ./course_dump/week08/day1_intro_to_bayesian_statistics/naive-bayes-spam-lab/datasets/spam/0149.3300ef4537e1f6accd4489125bef5b0d\n",
      "Searching ./course_dump/week08/day1_intro_to_bayesian_statistics/naive-bayes-spam-lab/datasets/spam/0140.a2bb669eaf743ed123fca884a40cfbd4\n",
      "Searching ./course_dump/week08/day1_intro_to_bayesian_statistics/naive-bayes-spam-lab/datasets/spam/0417.8e6ff04af5a268d0495259b3f6a24d58\n",
      "Searching ./course_dump/week08/day1_intro_to_bayesian_statistics/naive-bayes-spam-lab/datasets/spam/0010.7f5fb525755c45eb78efc18d7c9ea5aa\n",
      "Searching ./course_dump/week08/day1_intro_to_bayesian_statistics/naive-bayes-spam-lab/datasets/spam/0431.cc38713737ea22e2e329205efd78840a\n",
      "Searching ./course_dump/week08/day1_intro_to_bayesian_statistics/naive-bayes-spam-lab/datasets/spam/0169.bc6e1356af0602fb96dd3f721fb17c48\n",
      "Searching ./course_dump/week08/day1_intro_to_bayesian_statistics/naive-bayes-spam-lab/datasets/spam/0181.e3259c0ef889b5c76054abe2fafddeda\n",
      "Searching ./course_dump/week08/day1_intro_to_bayesian_statistics/naive-bayes-spam-lab/datasets/spam/0298.804507b6d4d03a86e53c63249fe70772\n",
      "Searching ./course_dump/week08/day1_intro_to_bayesian_statistics/naive-bayes-spam-lab/datasets/spam/0172.e524e85cab354337018e1d0d2fc21ffd\n",
      "Searching ./course_dump/week08/day1_intro_to_bayesian_statistics/naive-bayes-spam-lab/datasets/spam/0288.c50b1fb60cac2cca358d7543602623ee\n",
      "Searching ./course_dump/week08/day1_intro_to_bayesian_statistics/naive-bayes-spam-lab/datasets/spam/0192.2d3e74aaf18c1c4193067f025e757507\n",
      "Searching ./course_dump/week08/day1_intro_to_bayesian_statistics/naive-bayes-spam-lab/datasets/spam/0443.c5581d58a801553fee57b2bfe904ea93\n",
      "Searching ./course_dump/week08/day1_intro_to_bayesian_statistics/naive-bayes-spam-lab/datasets/spam/0436.97d3a7bc4377152052dd717581387f36\n",
      "Searching ./course_dump/week08/day1_intro_to_bayesian_statistics/naive-bayes-spam-lab/datasets/spam/0087.1cbd88a0c1564cb5d6c9b12c8c4175d8\n",
      "Searching ./course_dump/week08/day1_intro_to_bayesian_statistics/naive-bayes-spam-lab/datasets/spam/0231.30ae582570716a95e79c87a2de31cb30\n",
      "Searching ./course_dump/week08/day1_intro_to_bayesian_statistics/naive-bayes-spam-lab/datasets/spam/0283.04856c4a6fa4393e976c5aaa2c0533d5\n",
      "Searching ./course_dump/week08/day1_intro_to_bayesian_statistics/naive-bayes-spam-lab/datasets/spam/0313.5126f820bf11ba460e2c1611cee632c1\n",
      "Searching ./course_dump/week08/day1_intro_to_bayesian_statistics/naive-bayes-spam-lab/datasets/spam/0156.279e5f92cf12922fbbf0cbda112b7fcb\n",
      "Searching ./course_dump/week08/day1_intro_to_bayesian_statistics/naive-bayes-spam-lab/datasets/spam/0174.3874b6ff3c86a5ebefb558138a6bfb28\n",
      "Searching ./course_dump/week08/day1_intro_to_bayesian_statistics/naive-bayes-spam-lab/datasets/spam/0043.8d93819b95ff90bf2e2b141c2909bfc9\n",
      "Searching ./course_dump/week08/day1_intro_to_bayesian_statistics/naive-bayes-spam-lab/datasets/spam/0081.3309521659461b743e1bfc3dc688a5f1\n",
      "Searching ./course_dump/week08/day1_intro_to_bayesian_statistics/naive-bayes-spam-lab/datasets/spam/0139.40f371501f8a2a3fb4ff62143c0671b9\n",
      "Searching ./course_dump/week08/day1_intro_to_bayesian_statistics/naive-bayes-spam-lab/datasets/spam/0403.5aa6261d36d1362bcd181ed7738de7f7\n",
      "Searching ./course_dump/week08/day1_intro_to_bayesian_statistics/naive-bayes-spam-lab/datasets/spam/0299.9d0b292172cb787eb2ed9e8855222edd\n",
      "Searching ./course_dump/week08/day1_intro_to_bayesian_statistics/naive-bayes-spam-lab/datasets/spam/0079.4a5fbaf2e531918c44642b3cfae40089\n",
      "Searching ./course_dump/week08/day1_intro_to_bayesian_statistics/naive-bayes-spam-lab/datasets/spam/0275.0404a07cd99e27d569958716f392082b\n",
      "Searching ./course_dump/week08/day1_intro_to_bayesian_statistics/naive-bayes-spam-lab/datasets/spam/0315.26ca39910895a935e2b8bca93a44ebfe\n",
      "Searching ./course_dump/week08/day1_intro_to_bayesian_statistics/naive-bayes-spam-lab/datasets/spam/0327.5df76bb4359800b5408821285677b5cf\n",
      "Searching ./course_dump/week08/day1_intro_to_bayesian_statistics/naive-bayes-spam-lab/datasets/spam/0049.625bab436c7fc6299cfceeaa24e198ae\n",
      "Searching ./course_dump/week08/day1_intro_to_bayesian_statistics/naive-bayes-spam-lab/datasets/spam/0471.f3cd3e181577b34e474bea8c480d1b44\n",
      "Searching ./course_dump/week08/day1_intro_to_bayesian_statistics/naive-bayes-spam-lab/datasets/spam/0019.939e70d8367f315193e4bc5be80dc262\n",
      "Searching ./course_dump/week08/day1_intro_to_bayesian_statistics/naive-bayes-spam-lab/datasets/spam/0492.f2d030fd71d7c3075626195b5c0b56f7\n",
      "Searching ./course_dump/week08/day1_intro_to_bayesian_statistics/naive-bayes-spam-lab/datasets/spam/0072.f97a14d667569ebbc0502bb2c7beec27\n",
      "Searching ./course_dump/week08/day1_intro_to_bayesian_statistics/naive-bayes-spam-lab/datasets/spam/0145.ec89d85ec20f9aeda6fe37c0b6e8bbed\n",
      "Searching ./course_dump/week08/day1_intro_to_bayesian_statistics/naive-bayes-spam-lab/datasets/spam/0254.02daa37a4255a78f2f224f3cd2f8fa99\n",
      "Searching ./course_dump/week08/day1_intro_to_bayesian_statistics/naive-bayes-spam-lab/datasets/spam/0457.fc29b47778cf7dae8206fb24985dd8dd\n",
      "Searching ./course_dump/week08/day1_intro_to_bayesian_statistics/naive-bayes-spam-lab/datasets/spam/0028.83a43dd97923463030349506a56226c1\n",
      "Searching ./course_dump/week08/day1_intro_to_bayesian_statistics/naive-bayes-spam-lab/datasets/spam/0453.622475ac240e9e2cdcdbb1a095cc8d28\n",
      "Searching ./course_dump/week08/day1_intro_to_bayesian_statistics/naive-bayes-spam-lab/datasets/spam/0328.cccf842e57907e25d1584cad03f8d2cb\n",
      "Searching ./course_dump/week08/day1_intro_to_bayesian_statistics/naive-bayes-spam-lab/datasets/spam/0281.7e8c08897b61b9b008238efec9ca8d15\n",
      "Searching ./course_dump/week08/day1_intro_to_bayesian_statistics/naive-bayes-spam-lab/datasets/spam/0218.e3fc04cbcfdf224a5fa652779c01029c\n"
     ]
    },
    {
     "name": "stdout",
     "output_type": "stream",
     "text": [
      "Searching ./course_dump/week08/day1_intro_to_bayesian_statistics/naive-bayes-spam-lab/datasets/spam/0372.216f90ef52558ed24402e192586a40e8\n",
      "Searching ./course_dump/week08/day1_intro_to_bayesian_statistics/naive-bayes-spam-lab/datasets/spam/0005.1f42bb885de0ef7fc5cd09d34dc2ba54\n",
      "Searching ./course_dump/week08/day1_intro_to_bayesian_statistics/naive-bayes-spam-lab/datasets/spam/0170.fe4f77fa9456b48dffa9288074b2bb2a\n",
      "Searching ./course_dump/week08/day1_intro_to_bayesian_statistics/naive-bayes-spam-lab/datasets/spam/0188.6590e73ef71e79c5b6adedbacf91ac8c\n",
      "Searching ./course_dump/week08/day1_intro_to_bayesian_statistics/naive-bayes-spam-lab/datasets/spam/0189.3d89383221aa3fb155a099838ce9c40a\n",
      "Searching ./course_dump/week08/day1_intro_to_bayesian_statistics/naive-bayes-spam-lab/datasets/spam/0085.6e7b1a983ab05445a7eaffcbb6811d3f\n",
      "Searching ./course_dump/week08/day1_intro_to_bayesian_statistics/naive-bayes-spam-lab/datasets/spam/0392.9e194dfff92f7d9957171b04a8d4b957\n",
      "Searching ./course_dump/week08/day1_intro_to_bayesian_statistics/naive-bayes-spam-lab/datasets/spam/0073.d57c16429fa19fbebfb9aec34f391aa2\n",
      "Searching ./course_dump/week08/day1_intro_to_bayesian_statistics/naive-bayes-spam-lab/datasets/spam/0024.fc4bd0b22cd7907e99f8a35b74655b15\n",
      "Searching ./course_dump/week08/day1_intro_to_bayesian_statistics/naive-bayes-spam-lab/datasets/spam/0400.a152ca3d2735f5dfe48601331471c591\n",
      "Searching ./course_dump/week08/day1_intro_to_bayesian_statistics/naive-bayes-spam-lab/datasets/spam/0008.9562918b57e044abfbce260cc875acde\n",
      "Searching ./course_dump/week08/day1_intro_to_bayesian_statistics/naive-bayes-spam-lab/datasets/spam/0456.578afb400f87833c03c4dc2be6fd85bd\n",
      "Searching ./course_dump/week08/day1_intro_to_bayesian_statistics/naive-bayes-spam-lab/datasets/spam/0312.a0e7f2633bd0ceaddf16fba58be54778\n",
      "Searching ./course_dump/week08/day1_intro_to_bayesian_statistics/naive-bayes-spam-lab/datasets/spam/0168.70400165faa695abca4a96241d393f34\n",
      "Searching ./course_dump/week08/day1_intro_to_bayesian_statistics/naive-bayes-spam-lab/datasets/spam/0470.b9e513715695ea1c79c1e5af0fb0eea9\n",
      "Searching ./course_dump/week08/day1_intro_to_bayesian_statistics/naive-bayes-spam-lab/datasets/spam/0225.7082ef8585280a42940bf98f9be50e55\n",
      "Searching ./course_dump/week08/day1_intro_to_bayesian_statistics/naive-bayes-spam-lab/datasets/spam/0332.b82bddb316d2e12418d6ea8791ce5896\n",
      "Searching ./course_dump/week08/day1_intro_to_bayesian_statistics/naive-bayes-spam-lab/datasets/spam/0071.4c3840b98dc207623d0c0e66a6d40af2\n",
      "Searching ./course_dump/week08/day1_intro_to_bayesian_statistics/naive-bayes-spam-lab/datasets/spam/0090.9a7e76d58065e29e709161dbe569fe54\n",
      "Searching ./course_dump/week08/day1_intro_to_bayesian_statistics/naive-bayes-spam-lab/datasets/spam/0240.96467ad3d42ebd44b042599f5aa9c9d9\n",
      "Searching ./course_dump/week08/day1_intro_to_bayesian_statistics/naive-bayes-spam-lab/datasets/spam/0445.2cd5092859b75fdccf3724ab2a4ccafe\n",
      "Searching ./course_dump/week08/day1_intro_to_bayesian_statistics/naive-bayes-spam-lab/datasets/spam/0418.89cb8cbdd1cd4424829658e11ec6a13e\n",
      "Searching ./course_dump/week08/day1_intro_to_bayesian_statistics/naive-bayes-spam-lab/datasets/spam/0432.a2fa136962969f603b363e7509668b49\n",
      "Searching ./course_dump/week08/day1_intro_to_bayesian_statistics/naive-bayes-spam-lab/datasets/spam/0176.70022adaab1a9dfe64ae7588ffa5add9\n",
      "Searching ./course_dump/week08/day1_intro_to_bayesian_statistics/naive-bayes-spam-lab/datasets/spam/0329.5c22249fa35fff050675e7df4433b89f\n",
      "Searching ./course_dump/week08/day1_intro_to_bayesian_statistics/naive-bayes-spam-lab/datasets/spam/0383.5b89d5a9c0152070a77e133734f7cd83\n",
      "Searching ./course_dump/week08/day1_intro_to_bayesian_statistics/naive-bayes-spam-lab/datasets/spam/0163.e4abb3f86aa9fd5bfa85886055fd923d\n",
      "Searching ./course_dump/week08/day1_intro_to_bayesian_statistics/naive-bayes-spam-lab/datasets/spam/0404.a2c9ac35a89a129ce473c5d977409131\n",
      "Searching ./course_dump/week08/day1_intro_to_bayesian_statistics/naive-bayes-spam-lab/datasets/spam/0186.e739e1c9fdc0702762d3583b26b401eb\n",
      "Searching ./course_dump/week08/day1_intro_to_bayesian_statistics/naive-bayes-spam-lab/datasets/spam/0190.c861662876d77491e0dc0e95fb3767cd\n",
      "Searching ./course_dump/week08/day1_intro_to_bayesian_statistics/naive-bayes-spam-lab/datasets/spam/0238.7d0de37650a0c0e2d99e52eef4042602\n",
      "Searching ./course_dump/week08/day1_intro_to_bayesian_statistics/naive-bayes-spam-lab/datasets/spam/0461.27302a2e94d8948f8a81a7d4c8566cf0\n",
      "Searching ./course_dump/week08/day1_intro_to_bayesian_statistics/naive-bayes-spam-lab/datasets/spam/0421.a5e7e7b43acb5501368b8c61221477f1\n",
      "Searching ./course_dump/week08/day1_intro_to_bayesian_statistics/naive-bayes-spam-lab/datasets/spam/0390.176f9525715411d7e2ce36e5bab4c770\n",
      "Searching ./course_dump/week08/day1_intro_to_bayesian_statistics/naive-bayes-spam-lab/datasets/spam/0282.b9f0c6ac87b24a9abac5f2a564c0a6c6\n",
      "Searching ./course_dump/week08/day1_intro_to_bayesian_statistics/naive-bayes-spam-lab/datasets/spam/0258.1d61b380a23168881253ed86bb4f79ac\n",
      "Searching ./course_dump/week08/day1_intro_to_bayesian_statistics/naive-bayes-spam-lab/datasets/spam/0209.59817ef0dc8d05d4b49bd5914fa88afa\n",
      "Searching ./course_dump/week08/day1_intro_to_bayesian_statistics/naive-bayes-spam-lab/datasets/spam/0122.21b041c1ad2be417102d7f5d3f0b7045\n",
      "Searching ./course_dump/week08/day1_intro_to_bayesian_statistics/naive-bayes-spam-lab/datasets/spam/0481.77b1644dfd682bf753d5894ad04f8020\n",
      "Searching ./course_dump/week08/day1_intro_to_bayesian_statistics/naive-bayes-spam-lab/datasets/spam/0040.256602e2cb5a5b373bdd1fb631d9f452\n",
      "Searching ./course_dump/week08/day1_intro_to_bayesian_statistics/naive-bayes-spam-lab/datasets/spam/0239.43b3279a300a122610f91725bb92a538\n",
      "Searching ./course_dump/week08/day1_intro_to_bayesian_statistics/naive-bayes-spam-lab/datasets/spam/0466.11bc31540055c320b62e5886ef27c4b2\n",
      "Searching ./course_dump/week08/day1_intro_to_bayesian_statistics/naive-bayes-spam-lab/datasets/spam/0396.8ea0610e30c94adefd9b3489df436ad9\n",
      "Searching ./course_dump/week08/day1_intro_to_bayesian_statistics/naive-bayes-spam-lab/datasets/spam/0362.d605ea00a259c1245d6e21ecf38264cf\n",
      "Searching ./course_dump/week08/day1_intro_to_bayesian_statistics/naive-bayes-spam-lab/datasets/spam/0357.6ca4760de43f3d29316cf6bb0cab6bf5\n",
      "Searching ./course_dump/week08/day1_intro_to_bayesian_statistics/naive-bayes-spam-lab/datasets/spam/0455.b7a7254a180821d6077a42f7153e12e5\n",
      "Searching ./course_dump/week08/day1_intro_to_bayesian_statistics/naive-bayes-spam-lab/datasets/spam/0078.8ff64b5c77f9c9618bd7b119ae14c8b2\n",
      "Searching ./course_dump/week08/day1_intro_to_bayesian_statistics/naive-bayes-spam-lab/datasets/spam/0044.889d785885f092c269741b11f2124dce\n",
      "Searching ./course_dump/week08/day1_intro_to_bayesian_statistics/naive-bayes-spam-lab/datasets/spam/0255.42a6feb4435a0a68929075c0926f085d\n",
      "Searching ./course_dump/week08/day1_intro_to_bayesian_statistics/naive-bayes-spam-lab/datasets/spam/0135.73d44c9405f00110ae76a3addcb4eed6\n",
      "Searching ./course_dump/week08/day1_intro_to_bayesian_statistics/naive-bayes-spam-lab/datasets/spam/0127.2923761a91d13d3522d8bd077eedc7b7\n",
      "Searching ./course_dump/week08/day1_intro_to_bayesian_statistics/naive-bayes-spam-lab/datasets/spam/0030.5d3444135a8ad95fc4ebf9a884076621\n",
      "Searching ./course_dump/week08/day1_intro_to_bayesian_statistics/naive-bayes-spam-lab/datasets/spam/0159.8a5c778f65ecc30e14507369b9eb8292\n",
      "Searching ./course_dump/week08/day1_intro_to_bayesian_statistics/naive-bayes-spam-lab/datasets/spam/0348.e0b89978fa806cf3e7fd3ba0869b3c65\n",
      "Searching ./course_dump/week08/day1_intro_to_bayesian_statistics/naive-bayes-spam-lab/datasets/spam/0037.7ce3307b56dd90453027a6630179282e\n",
      "Searching ./course_dump/week08/day1_intro_to_bayesian_statistics/naive-bayes-spam-lab/datasets/spam/0473.ab22ff7eb6975783dff18f279a1a8357\n",
      "Searching ./course_dump/week08/day1_intro_to_bayesian_statistics/naive-bayes-spam-lab/datasets/spam/0014.ed99ffe0f452b91be11684cbfe8d349c\n",
      "Searching ./course_dump/week08/day1_intro_to_bayesian_statistics/naive-bayes-spam-lab/datasets/spam/0494.a0865131f55d26362a8efad99c37de01\n",
      "Searching ./course_dump/week08/day1_intro_to_bayesian_statistics/naive-bayes-spam-lab/datasets/spam/0120.4312b48b82c3d018d2d4ccf5b8e9c167\n",
      "Searching ./course_dump/week08/day1_intro_to_bayesian_statistics/naive-bayes-spam-lab/datasets/spam/0293.ef3561f8707f7fcd1de291d4c2ae9609\n",
      "Searching ./course_dump/week08/day1_intro_to_bayesian_statistics/naive-bayes-spam-lab/datasets/spam/0063.3bec5361a5edfdbcc371241b3d74e3bf\n",
      "Searching ./course_dump/week08/day1_intro_to_bayesian_statistics/naive-bayes-spam-lab/datasets/spam/0047.376bd7728ee94b32bc23429d9c51bae5\n",
      "Searching ./course_dump/week08/day1_intro_to_bayesian_statistics/naive-bayes-spam-lab/datasets/spam/0290.13035c75be0d5b447a10e2263f8c1361\n",
      "Searching ./course_dump/week08/day1_intro_to_bayesian_statistics/naive-bayes-spam-lab/datasets/spam/0194.dd4dd86bdd8e1113889af9afaf299d6c\n",
      "Searching ./course_dump/week08/day1_intro_to_bayesian_statistics/naive-bayes-spam-lab/datasets/spam/0340.8e191c37e2d30a639013203aacf60086\n",
      "Searching ./course_dump/week08/day1_intro_to_bayesian_statistics/naive-bayes-spam-lab/datasets/spam/0042.21cc985cc36d931916863aed24de8c27\n"
     ]
    },
    {
     "name": "stdout",
     "output_type": "stream",
     "text": [
      "Searching ./course_dump/week08/day1_intro_to_bayesian_statistics/naive-bayes-spam-lab/datasets/spam/0311.fad7da9629598eaffeaf6896bdf32d9c\n",
      "Searching ./course_dump/week08/day1_intro_to_bayesian_statistics/naive-bayes-spam-lab/datasets/spam/0158.ff5dce5446d2ec91f0caffeffdd48852\n",
      "Searching ./course_dump/week08/day1_intro_to_bayesian_statistics/naive-bayes-spam-lab/datasets/spam/0219.0f66069db1b4e25ba851233ce4a107c4\n",
      "Searching ./course_dump/week08/day1_intro_to_bayesian_statistics/naive-bayes-spam-lab/datasets/spam/0207.3adcb1a14977a49cac8f6e10f64ac6f7\n",
      "Searching ./course_dump/week08/day1_intro_to_bayesian_statistics/naive-bayes-spam-lab/datasets/spam/0035.8e582263070076dfe6000411d9b13ce6\n",
      "Searching ./course_dump/week08/day1_intro_to_bayesian_statistics/naive-bayes-spam-lab/datasets/spam/0309.2a74113b0330ea76cecd28571fc6f7fe\n",
      "Searching ./course_dump/week08/day1_intro_to_bayesian_statistics/naive-bayes-spam-lab/datasets/spam/0419.a42a284750591b454968a76dfab38370\n",
      "Searching ./course_dump/week08/day1_intro_to_bayesian_statistics/naive-bayes-spam-lab/datasets/spam/0200.a56926c058fa84b0ea031b5774e5dcfa\n",
      "Searching ./course_dump/week08/day1_intro_to_bayesian_statistics/intro_to_bayesian_stats-lesson/Frequentism_and_Bayesianism_A_Python-driven_Primer.pdf\n",
      "Searching ./course_dump/week08/day1_intro_to_bayesian_statistics/intro_to_bayesian_stats-lesson/readme.md\n",
      "Searching ./course_dump/week08/day1_intro_to_bayesian_statistics/intro_to_bayesian_stats-lesson/intro-to-bayesian-stats.ipynb\n",
      "Searching ./course_dump/week08/day1_intro_to_bayesian_statistics/intro_to_bayesian_stats-lesson/monty_hall-starter_code.ipynb\n",
      "Searching ./course_dump/week08/day1_intro_to_bayesian_statistics/intro_to_bayesian_stats-lesson/solution-code/bayes-problems-solution-code.ipynb\n",
      "Searching ./course_dump/week08/day1_intro_to_bayesian_statistics/intro_to_bayesian_stats-lesson/solution-code/monty-hall-solution-code.ipynb\n",
      "Searching ./course_dump/week08/day1_intro_to_bayesian_statistics/intro_to_bayesian_stats-lesson/assets/images/output_27_0.png\n",
      "Searching ./course_dump/week08/day1_intro_to_bayesian_statistics/naive-bayes-lesson/naive-bayes-lesson.ipynb\n",
      "Searching ./course_dump/week08/day1_intro_to_bayesian_statistics/naive-bayes-lesson/images/naive-bayes.png\n",
      "Searching ./course_dump/week08/day1_intro_to_bayesian_statistics/naive-bayes-lesson/images/nb_decision_rule.png\n",
      "Searching ./course_dump/week08/day1_intro_to_bayesian_statistics/naive-bayes-lesson/datasets/spam_base.csv\n",
      "Searching ./course_dump/week08/day3_pymc3/pymc3_lab/practice-pymc3-auto-data-startercode.ipynb\n",
      "Searching ./course_dump/week08/day3_pymc3/pymc3_lab/solution-code/practice-pymc3-auto-data-solutioncode.ipynb\n",
      "Searching ./course_dump/week08/day4_nlp_sentiment_analysis_pipeline/sklearn-pipeline-lab/sklearn-pipeline-lab-solution.ipynb\n",
      "Searching ./course_dump/week08/day4_nlp_sentiment_analysis_pipeline/sklearn-pipeline-lab/sklearn-pipeline-lab.ipynb\n",
      "Searching ./course_dump/week08/day4_nlp_sentiment_analysis_pipeline/nlp-sentiment_analysis-lab/sentiment-analysis-naive-bayes-lab.ipynb\n",
      "Searching ./course_dump/week08/day4_nlp_sentiment_analysis_pipeline/nlp-sentiment_analysis-lab/solution-code/sentiment-analysis-naive-bayes-lab-solutions.ipynb\n",
      "Searching ./course_dump/week08/day4_nlp_sentiment_analysis_pipeline/nlp-sentiment_analysis-lab/datasets/sentiment_words_parsed.csv\n",
      "Searching ./course_dump/week08/day4_nlp_sentiment_analysis_pipeline/nlp-sentiment_analysis-lab/datasets/rt_critics.csv\n",
      "Searching ./course_dump/week08/day4_nlp_sentiment_analysis_pipeline/nlp-sentiment_analysis-lesson/sentiment-analysis-spacy-vader.ipynb\n",
      "Searching ./course_dump/week08/day4_nlp_sentiment_analysis_pipeline/nlp-sentiment_analysis-lesson/solution-code/sentiment-analysis-spacy-vader-solutions.ipynb\n",
      "Searching ./course_dump/week08/day4_nlp_sentiment_analysis_pipeline/nlp-sentiment_analysis-lesson/datasets/sentiment_words_simple.csv\n",
      "Searching ./course_dump/week08/day4_nlp_sentiment_analysis_pipeline/nlp-sentiment_analysis-lesson/datasets/sentiment_words_parsed.csv\n",
      "Searching ./course_dump/week08/day4_nlp_sentiment_analysis_pipeline/nlp-sentiment_analysis-lesson/datasets/rt_critics_prep_done.csv\n",
      "Searching ./course_dump/week08/day4_nlp_sentiment_analysis_pipeline/nlp-sentiment_analysis-lesson/datasets/rt_critics.csv\n",
      "Searching ./course_dump/week08/day4_nlp_sentiment_analysis_pipeline/sklearn-pipeline-lesson/python-pipelines_in_sklearn-lesson/readme.md\n",
      "Searching ./course_dump/week08/day4_nlp_sentiment_analysis_pipeline/sklearn-pipeline-lesson/python-pipelines_in_sklearn-lesson/sklearn-pipelines-solutions.ipynb\n",
      "Searching ./course_dump/week08/day4_nlp_sentiment_analysis_pipeline/sklearn-pipeline-lesson/python-pipelines_in_sklearn-lesson/sklearn-pipelines.ipynb\n",
      "Searching ./course_dump/week08/day4_nlp_sentiment_analysis_pipeline/sklearn-pipeline-lesson/python-pipelines_in_sklearn-lesson/assets/pipeline.png\n",
      "Searching ./course_dump/week08/day4_nlp_sentiment_analysis_pipeline/sklearn-pipeline-lesson/python-pipelines_in_sklearn-lesson/datasets/titanic_clean.csv\n",
      "Searching ./course_dump/week08/day4_nlp_sentiment_analysis_pipeline/sklearn-pipeline-lesson/python-pipelines_in_sklearn-lesson/datasets/df_1k_H.csv\n",
      "Searching ./course_dump/week08/day4_nlp_sentiment_analysis_pipeline/sklearn-pipeline-lesson/python-pipelines_in_sklearn-lesson/datasets/df_1k_S.csv\n",
      "Searching ./course_dump/week08/day4_nlp_sentiment_analysis_pipeline/sklearn-pipeline-lesson/python-pipelines_in_sklearn-lesson/datasets/df_1k_W.csv\n",
      "Searching ./course_dump/week08/day4_nlp_sentiment_analysis_pipeline/sklearn-pipeline-lesson/introduction_to_object_oriented_programming/readme.md\n",
      "Searching ./course_dump/week08/day4_nlp_sentiment_analysis_pipeline/sklearn-pipeline-lesson/introduction_to_object_oriented_programming/Introduction to object oriented programming.ipynb\n",
      "Searching ./course_dump/week08/day4_nlp_sentiment_analysis_pipeline/sklearn-pipeline-lesson/introduction_to_object_oriented_programming/Solution introduction to oop.ipynb\n",
      "Searching ./course_dump/week08/day4_nlp_sentiment_analysis_pipeline/nlp-twitter_api_case_study-lab/case-study-twitter-api-nlp.ipynb\n",
      "Searching ./course_dump/week08/day4_nlp_sentiment_analysis_pipeline/nlp-twitter_api_case_study-lab/solution-code/case-study-twitter-api-nlp-solutions.ipynb\n",
      "Searching ./course_dump/week08/day2_beta_binomial_model_and_pymc3/bayes-intro-to-pymc3-lesson/estimation-and-regression-with-pymc3-lesson.ipynb\n",
      "Searching ./course_dump/week08/day2_beta_binomial_model_and_pymc3/bayes-intro-to-pymc3-lesson/readme.md\n",
      "Searching ./course_dump/week08/day2_beta_binomial_model_and_pymc3/bayes-beta-binomial-model-lab/beta-distribution-baseball-hits-startercode.ipynb\n",
      "Searching ./course_dump/week08/day2_beta_binomial_model_and_pymc3/bayes-beta-binomial-model-lab/solution-code/beta-distribution-baseball-hits-solutioncode.ipynb\n",
      "Searching ./course_dump/week08/day2_beta_binomial_model_and_pymc3/bayes_recap_lab/Recap-Bayes-Rule.ipynb\n",
      "Searching ./course_dump/week08/day2_beta_binomial_model_and_pymc3/bayes-beta-binomial-model-lesson/readme.md\n",
      "Searching ./course_dump/week08/day2_beta_binomial_model_and_pymc3/bayes-beta-binomial-model-lesson/beta-binomial-model.ipynb\n",
      "Searching ./course_dump/week08/day5_more_pymc3/bayesian_ab_testing_lab/bayesian-ab-testing-startercode.ipynb\n",
      "Searching ./course_dump/week08/day5_more_pymc3/bayesian_ab_testing_lab/solution-code/frequentist-bayesian-ab-testing-solutioncode.ipynb\n",
      "Searching ./course_dump/week08/day5_more_pymc3/project-4-solution/web_indeed_solution_code_with_multithread.ipynb\n",
      "Searching ./course_dump/week08/day5_more_pymc3/project-4-solution/indeed-scraped-job-postings.csv\n",
      "Searching ./course_dump/week08/day5_more_pymc3/project-4-solution/data/indeed-scraped-job-postings-Belmont-max-50.csv\n",
      "Searching ./course_dump/week08/day5_more_pymc3/project-4-solution/data/indeed-scraped-job-postings-Los Angeles-max-10000.csv\n",
      "Searching ./course_dump/week08/day5_more_pymc3/project-4-solution/data/indeed-scraped-job-postings-El Segundo-max-10000.csv\n",
      "Searching ./course_dump/week08/day5_more_pymc3/project-4-solution/data/indeed-scraped-job-postings-Los+Angeles-max-10000.csv\n",
      "Searching ./course_dump/week08/day5_more_pymc3/project-4-solution/data/indeed-scraped-job-postings-Los Altos-max-10000.csv\n"
     ]
    },
    {
     "name": "stdout",
     "output_type": "stream",
     "text": [
      "Searching ./course_dump/week08/day5_more_pymc3/project-4-solution/data/indeed-scraped-job-postings-Anaheim-max-50.csv\n",
      "Searching ./course_dump/week08/day5_more_pymc3/project-4-solution/data/indeed-scraped-job-postings-Bothell-max-10000.csv\n",
      "Searching ./course_dump/week08/day5_more_pymc3/project-4-solution/data/indeed-scraped-job-postings-Aurora-max-10000.csv\n",
      "Searching ./course_dump/week08/day5_more_pymc3/project-4-solution/data/indeed-scraped-job-postings-Mount Laurel-max-10000.csv\n",
      "Searching ./course_dump/week08/day5_more_pymc3/project-4-solution/data/indeed-scraped-job-postings-Cupertino-max-10000.csv\n",
      "Searching ./course_dump/week08/day5_more_pymc3/project-4-solution/data/indeed-scraped-job-postings-Duluth-max-100.csv\n",
      "Searching ./course_dump/week08/day5_more_pymc3/project-4-solution/data/indeed-scraped-job-postings-Venice-max-10000.csv\n",
      "Searching ./course_dump/week08/day5_more_pymc3/project-4-solution/data/indeed-scraped-job-postings-Bellevue.csv\n",
      "Searching ./course_dump/week08/day5_more_pymc3/project-4-solution/data/indeed-scraped-job-postings-Palo Alto-max-10000.csv\n",
      "Searching ./course_dump/week08/day5_more_pymc3/project-4-solution/data/indeed-scraped-job-postings-San Francisco-max-10000.csv\n",
      "Searching ./course_dump/week08/day5_more_pymc3/project-4-solution/data/indeed-scraped-job-postings-Redwood City-max-10000.csv\n",
      "Searching ./course_dump/week08/day5_more_pymc3/project-4-solution/data/indeed-scraped-job-postings-Farmers Branch-max-10000.csv\n",
      "Searching ./course_dump/week08/day5_more_pymc3/project-4-solution/data/indeed-scraped-job-postings-Plymouth Meeting-max-10000.csv\n",
      "Searching ./course_dump/week08/day5_more_pymc3/project-4-solution/data/indeed-scraped-job-postings-San Diego-max-10000.csv\n",
      "Searching ./course_dump/week08/day5_more_pymc3/project-4-solution/data/indeed-scraped-job-postings-Torrance-max-10000.csv\n",
      "Searching ./course_dump/week08/day5_more_pymc3/project-4-solution/data/indeed-scraped-job-postings-Bellevue-max-50.csv\n",
      "Searching ./course_dump/week08/day5_more_pymc3/project-4-solution/data/indeed-scraped-job-postings-Coral Gables-max-10000.csv\n",
      "Searching ./course_dump/week08/day5_more_pymc3/project-4-solution/data/indeed-scraped-job-postings-Hyde Park-max-100.csv\n",
      "Searching ./course_dump/week08/day5_more_pymc3/project-4-solution/data/indeed-scraped-job-postings-Buffalo-max-10000.csv\n",
      "Searching ./course_dump/week08/day5_more_pymc3/project-4-solution/data/indeed-scraped-job-postings-Stony Brook-max-10000.csv\n",
      "Searching ./course_dump/week08/day5_more_pymc3/project-4-solution/data/indeed-scraped-job-postings-Buckley AFB-max-10000.csv\n",
      "Searching ./course_dump/week08/day5_more_pymc3/project-4-solution/data/indeed-scraped-job-postings-New York-max-10000.csv\n",
      "Searching ./course_dump/week08/day5_more_pymc3/project-4-solution/data/indeed-scraped-job-postings-Mountain View-max-10000.csv\n",
      "Searching ./course_dump/week08/day5_more_pymc3/project-4-solution/data/indeed-scraped-job-postings-Berkeley-max-50.csv\n",
      "Searching ./course_dump/week08/day5_more_pymc3/project-4-solution/data/indeed-scraped-job-postings-Santa Monica-max-10000.csv\n",
      "Searching ./course_dump/week08/day5_more_pymc3/project-4-solution/data/indeed-scraped-job-postings-League City-max-10000.csv\n",
      "Searching ./course_dump/week08/day5_more_pymc3/project-4-solution/data/indeed-scraped-job-postings-Metuchen-max-10000.csv\n",
      "Searching ./course_dump/week08/day5_more_pymc3/project-4-solution/data/indeed-scraped-job-postings-Redmond-max-10000.csv\n",
      "Searching ./course_dump/week08/day5_more_pymc3/project-4-solution/data/indeed-scraped-job-postings-Sunnyvale-max-10000.csv\n",
      "Searching ./course_dump/week08/day5_more_pymc3/project-4-solution/data/indeed-scraped-job-postings-Portland-max-10000.csv\n",
      "Searching ./course_dump/week08/day5_more_pymc3/project-4-solution/data/indeed-scraped-job-postings-Milpitas-max-10000.csv\n",
      "Searching ./course_dump/week08/day5_more_pymc3/project-4-solution/data/indeed-scraped-job-postings-New+York-max-10000.csv\n",
      "Searching ./course_dump/week08/day5_more_pymc3/project-4-solution/data/indeed-scraped-job-postings-Dallas-max-10000.csv\n",
      "Searching ./course_dump/week08/day5_more_pymc3/project-4-solution/data/indeed-scraped-job-postings-Northbrook-max-10000.csv\n",
      "Searching ./course_dump/week08/day5_more_pymc3/project-4-solution/data/indeed-scraped-job-postings-Piscataway-max-10000.csv\n",
      "Searching ./course_dump/week08/day5_more_pymc3/project-4-solution/data/indeed-scraped-job-postings-Boulder-max-10000.csv\n",
      "Searching ./course_dump/week08/day5_more_pymc3/project-4-solution/data/indeed-scraped-job-postings-Atlanta-max-10000.csv\n",
      "Searching ./course_dump/week08/day5_more_pymc3/project-4-solution/data/indeed-scraped-job-postings-Lakewood-max-10000.csv\n",
      "Searching ./course_dump/week08/day5_more_pymc3/project-4-solution/data/indeed-scraped-job-postings-Austin-max-50.csv\n",
      "Searching ./course_dump/week08/day5_more_pymc3/project-4-solution/data/indeed-scraped-job-postings-Wayne-max-10000.csv\n",
      "Searching ./course_dump/week08/day5_more_pymc3/project-4-solution/data/indeed-scraped-job-postings-Oakland-max-10000.csv\n",
      "Searching ./course_dump/week08/day5_more_pymc3/project-4-solution/data/indeed-scraped-job-postings-Broomfield-max-10000.csv\n",
      "Searching ./course_dump/week08/day5_more_pymc3/project-4-solution/data/indeed-scraped-job-postings-Phoenix-max-10000.csv\n",
      "Searching ./course_dump/week08/day5_more_pymc3/project-4-solution/data/indeed-scraped-job-postings-Aurora-max-50.csv\n",
      "Searching ./course_dump/week08/day5_more_pymc3/project-4-solution/data/indeed-scraped-job-postings-Austin-max-10000.csv\n",
      "Searching ./course_dump/week08/day5_more_pymc3/project-4-solution/data/indeed-scraped-job-postings-Santa Clara-max-10000.csv\n",
      "Searching ./course_dump/week08/day5_more_pymc3/project-4-solution/data/indeed-scraped-job-postings-Anaheim-max-10000.csv\n",
      "Searching ./course_dump/week08/day5_more_pymc3/project-4-solution/data/indeed-scraped-job-postings-Seattle-max-10000.csv\n",
      "Searching ./course_dump/week08/day5_more_pymc3/project-4-solution/data/indeed-scraped-job-postings-Englewood-max-10000.csv\n",
      "Searching ./course_dump/week08/day5_more_pymc3/project-4-solution/data/indeed-scraped-job-postings-San Jose-max-10000.csv\n",
      "Searching ./course_dump/week08/day5_more_pymc3/project-4-solution/data/indeed-scraped-job-postings-Berkeley-max-10000.csv\n",
      "Searching ./course_dump/week08/day5_more_pymc3/project-4-solution/data/indeed-scraped-job-postings-Miami-max-10000.csv\n",
      "Searching ./course_dump/week08/day5_more_pymc3/project-4-solution/data/indeed-scraped-job-postings-Cobleskill-max-10000.csv\n",
      "Searching ./course_dump/week08/day5_more_pymc3/project-4-solution/data/indeed-scraped-job-postings-Hillsboro-max-10000.csv\n",
      "Searching ./course_dump/week08/day5_more_pymc3/project-4-solution/data/indeed-scraped-job-postings-Horsham-max-10000.csv\n",
      "Searching ./course_dump/week08/day5_more_pymc3/project-4-solution/data/indeed-scraped-job-postings-Wilmington-max-10000.csv\n",
      "Searching ./course_dump/week08/day5_more_pymc3/project-4-solution/data/indeed-scraped-job-postings-Des Plaines-max-10000.csv\n",
      "Searching ./course_dump/week08/day5_more_pymc3/project-4-solution/data/indeed-scraped-job-postings-Cobleskill-max-100.csv\n",
      "Searching ./course_dump/week08/day5_more_pymc3/project-4-solution/data/indeed-scraped-job-postings-Westminster-max-10000.csv\n",
      "Searching ./course_dump/week08/day5_more_pymc3/project-4-solution/data/indeed-scraped-job-postings-Chicago-max-10000.csv\n",
      "Searching ./course_dump/week08/day5_more_pymc3/project-4-solution/data/indeed-scraped-job-postings-Princeton-max-10000.csv\n",
      "Searching ./course_dump/week08/day5_more_pymc3/project-4-solution/data/indeed-scraped-job-postings-San Mateo-max-10000.csv\n",
      "Searching ./course_dump/week08/day5_more_pymc3/project-4-solution/data/indeed-scraped-job-postings-Conshohocken-max-10000.csv\n",
      "Searching ./course_dump/week08/day5_more_pymc3/project-4-solution/data/indeed-scraped-job-postings-Yardley-max-10000.csv\n",
      "Searching ./course_dump/week08/day5_more_pymc3/project-4-solution/data/indeed-scraped-job-postings-Philadelphia-max-10000.csv\n",
      "Searching ./course_dump/week08/day5_more_pymc3/project-4-solution/data/indeed-scraped-job-postings-Pittsburgh-max-10000.csv\n",
      "Searching ./course_dump/week08/day5_more_pymc3/project-4-solution/data/indeed-scraped-job-postings-Lawrenceville-max-10000.csv\n",
      "Searching ./course_dump/week08/day5_more_pymc3/project-4-solution/data/indeed-scraped-job-postings-Trenton-max-10000.csv\n"
     ]
    },
    {
     "name": "stdout",
     "output_type": "stream",
     "text": [
      "Searching ./course_dump/week08/day5_more_pymc3/project-4-solution/data/indeed-scraped-job-postings-Scottsdale-max-10000.csv\n",
      "Searching ./course_dump/week11/day2_svm_and_flask/flask_lesson/readme.md\n",
      "Searching ./course_dump/week11/day2_svm_and_flask/flask_lesson/flask-lesson-solutions.ipynb\n",
      "Searching ./course_dump/week11/day2_svm_and_flask/flask_lesson/flask-lesson.ipynb\n",
      "Searching ./course_dump/week11/day2_svm_and_flask/flask_lesson/datasets/readme.md\n",
      "Searching ./course_dump/week11/day2_svm_and_flask/flask_lesson/datasets/titanic.csv\n",
      "Searching ./course_dump/week11/day2_svm_and_flask/support-vector-machines-lab-2/svm-lab-starter-code.ipynb\n",
      "Searching ./course_dump/week11/day2_svm_and_flask/support-vector-machines-lab-2/solution-code/svm-lab-solution-code.ipynb\n",
      "Searching ./course_dump/week11/day5_networks/tube_network/London_transport-starter-code.ipynb\n",
      "Searching ./course_dump/week11/day5_networks/tube_network/solution-code/London_transport-solution-code.ipynb\n",
      "Searching ./course_dump/week11/day5_networks/directed_networks/FoodWeb-original.ipynb\n",
      "Searching ./course_dump/week11/day5_networks/directed_networks/assets/datasets/Ythan_Estuary.txt\n",
      "Searching ./course_dump/week11/day5_networks/directed_networks/assets/datasets/Ythan_estuary_species.txt\n",
      "Searching ./course_dump/week11/day3_flask_on_ec2/flask-on-aws-DSI6.ipynb\n",
      "Searching ./course_dump/week11/day3_flask_on_ec2/Flask EC2 (The other way).ipynb\n",
      "Searching ./course_dump/week11/day3_flask_on_ec2/readme.md\n",
      "Searching ./course_dump/week11/day3_flask_on_ec2/flask-lab/form_app.py\n",
      "Searching ./course_dump/week11/day3_flask_on_ec2/flask-lab/build_model.py\n",
      "Searching ./course_dump/week11/day3_flask_on_ec2/flask-lab/readme.md\n",
      "Searching ./course_dump/week11/day3_flask_on_ec2/flask-lab/How to build a text classifier web app.pdf\n",
      "Searching ./course_dump/week11/day3_flask_on_ec2/flask-lab/templates/readme.md\n",
      "Searching ./course_dump/week11/day3_flask_on_ec2/flask-lab/templates/submit.html\n",
      "Searching ./course_dump/week11/day3_flask_on_ec2/flask-lab/templates/index.html\n",
      "Searching ./course_dump/week11/day3_flask_on_ec2/flask-lab/templates/predict.html\n",
      "Searching ./course_dump/week11/day3_flask_on_ec2/flask-lab/data/readme.md\n",
      "Searching ./course_dump/week11/day3_flask_on_ec2/flask-lab/data/articles_small.csv\n",
      "Searching ./course_dump/week11/day3_flask_on_ec2/flask_examples/example_01.py\n",
      "Searching ./course_dump/week11/day3_flask_on_ec2/flask_examples/example_05_with_matplotlib.py\n",
      "Searching ./course_dump/week11/day3_flask_on_ec2/flask_examples/example_06_with_bootstrap.py\n",
      "Searching ./course_dump/week11/day3_flask_on_ec2/flask_examples/readme.md\n",
      "Searching ./course_dump/week11/day3_flask_on_ec2/flask_examples/example_04_with_form.py\n",
      "Searching ./course_dump/week11/day3_flask_on_ec2/flask_examples/example.html\n",
      "Searching ./course_dump/week11/day3_flask_on_ec2/flask_examples/example_02_with_pages.py\n",
      "Searching ./course_dump/week11/day3_flask_on_ec2/flask_examples/example_03_with_template.py\n",
      "Searching ./course_dump/week11/day3_flask_on_ec2/flask_examples/bootstrap/readme.md\n",
      "Searching ./course_dump/week11/day3_flask_on_ec2/flask_examples/bootstrap/css/bootstrap.css\n",
      "Searching ./course_dump/week11/day3_flask_on_ec2/flask_examples/bootstrap/css/bootstrap-theme.min.css\n",
      "Searching ./course_dump/week11/day3_flask_on_ec2/flask_examples/bootstrap/css/bootstrap.css.map\n",
      "Searching ./course_dump/week11/day3_flask_on_ec2/flask_examples/bootstrap/css/readme.md\n",
      "Searching ./course_dump/week11/day3_flask_on_ec2/flask_examples/bootstrap/css/bootstrap-theme.css.map\n",
      "Searching ./course_dump/week11/day3_flask_on_ec2/flask_examples/bootstrap/css/bootstrap.min.css\n",
      "Searching ./course_dump/week11/day3_flask_on_ec2/flask_examples/bootstrap/css/bootstrap-theme.css\n",
      "Searching ./course_dump/week11/day3_flask_on_ec2/flask_examples/bootstrap/js/bootstrap.js\n",
      "Searching ./course_dump/week11/day3_flask_on_ec2/flask_examples/bootstrap/js/npm.js\n",
      "Searching ./course_dump/week11/day3_flask_on_ec2/flask_examples/bootstrap/js/readme.md\n",
      "Searching ./course_dump/week11/day3_flask_on_ec2/flask_examples/bootstrap/js/bootstrap.min.js\n",
      "Searching ./course_dump/week11/day3_flask_on_ec2/flask_examples/bootstrap/fonts/glyphicons-halflings-regular.woff2\n",
      "Searching ./course_dump/week11/day3_flask_on_ec2/flask_examples/bootstrap/fonts/readme.md\n",
      "Searching ./course_dump/week11/day3_flask_on_ec2/flask_examples/bootstrap/fonts/glyphicons-halflings-regular.ttf\n",
      "Searching ./course_dump/week11/day3_flask_on_ec2/flask_examples/bootstrap/fonts/glyphicons-halflings-regular.eot\n",
      "Searching ./course_dump/week11/day3_flask_on_ec2/flask_examples/bootstrap/fonts/glyphicons-halflings-regular.woff\n",
      "Searching ./course_dump/week11/day3_flask_on_ec2/flask_examples/bootstrap/fonts/glyphicons-halflings-regular.svg\n",
      "Searching ./course_dump/week11/day3_flask_on_ec2/images/ec2-6.png\n",
      "Searching ./course_dump/week11/day3_flask_on_ec2/images/Screen_Shot_2018-09-04_at_21_07_31.png\n",
      "Searching ./course_dump/week11/day3_flask_on_ec2/images/browser-1.png\n",
      "Searching ./course_dump/week11/day3_flask_on_ec2/images/ec2-6c.png\n",
      "Searching ./course_dump/week11/day3_flask_on_ec2/images/ec2-1.png\n",
      "Searching ./course_dump/week11/day3_flask_on_ec2/images/browser-2.png\n",
      "Searching ./course_dump/week11/day3_flask_on_ec2/images/readme.md\n",
      "Searching ./course_dump/week11/day3_flask_on_ec2/images/browser-3.png\n",
      "Searching ./course_dump/week11/day3_flask_on_ec2/images/ec2-7.png\n",
      "Searching ./course_dump/week11/day3_flask_on_ec2/images/ec2-5.png\n",
      "Searching ./course_dump/week11/day3_flask_on_ec2/images/ec2-6b.png\n",
      "Searching ./course_dump/week11/day3_flask_on_ec2/images/ec2-3.png\n",
      "Searching ./course_dump/week11/day3_flask_on_ec2/images/ec2-2.png\n",
      "Searching ./course_dump/week11/day3_flask_on_ec2/images/ec2-4.png\n",
      "Searching ./course_dump/week11/day4_networks/networks_lesson/readme.md\n",
      "Searching ./course_dump/week11/day4_networks/networks_lesson/Networks_Introduction.ipynb\n",
      "Searching ./course_dump/week11/day4_networks/networks_lesson/assets/images/tube_map.gif\n",
      "Searching ./course_dump/week11/day4_networks/networks_lesson/assets/images/atlas.png\n",
      "Searching ./course_dump/week11/day4_networks/networks_lesson/assets/datasets/AS-19971108.dat\n",
      "Searching ./course_dump/week11/day4_networks/networks_lab/Networks_dataset_examples_startercode.ipynb\n",
      "Searching ./course_dump/week11/day4_networks/networks_lab/solution-code/Networks_dataset_examples_solutioncode.ipynb\n",
      "Searching ./course_dump/week11/day4_networks/networks_lab/assets/images/Karate_Club_Trophy.jpg\n",
      "Searching ./course_dump/week11/day3_support_vector_regression/support_vector_regression_lab/Support_Vector_Regression.ipynb\n",
      "Searching ./course_dump/week11/day3_support_vector_regression/support_vector_regression_lab/SVM_regression-startercode.ipynb\n",
      "Searching ./course_dump/week11/day3_support_vector_regression/support_vector_regression_lab/solution-code/SVM_regression-solution-bikeshare.ipynb\n",
      "Searching ./course_dump/week11/day3_support_vector_regression/support_vector_regression_lab/solution-code/SVM_regression-solution-bostonhousingdata.ipynb\n",
      "Searching ./course_dump/week11/day3_support_vector_regression/support_vector_regression_lab/solution-code/SVM_regression-solution-autodata.ipynb\n",
      "Searching ./course_dump/week11/day3_support_vector_regression/support_vector_regression_lab/solution-code/SVM_regression-solution-winedata.ipynb\n",
      "Searching ./course_dump/week11/day1_sparkml_and_svm/spark-ml-lab/spark-MLlib-lab-starter-code.ipynb\n",
      "Searching ./course_dump/week11/day1_sparkml_and_svm/spark-ml-lab/flight_delay_sample.jsonl.zip\n",
      "Searching ./course_dump/week11/day1_sparkml_and_svm/spark-ml-lab/solution-code/spark-MLlib-lab-solution-code.ipynb\n",
      "Searching ./course_dump/week11/day1_sparkml_and_svm/support-vector-machines-lesson/introduction-to-svm.ipynb\n",
      "Searching ./course_dump/week11/day1_sparkml_and_svm/support-vector-machines-lesson/readme.md\n",
      "Searching ./course_dump/week11/day1_sparkml_and_svm/support-vector-machines-lesson/svm-interactive-visualization.ipynb\n",
      "Searching ./course_dump/week11/day1_sparkml_and_svm/support-vector-machines-lesson/assets/slack_variables.png\n",
      "Searching ./course_dump/week11/day1_sparkml_and_svm/support-vector-machines-lesson/assets/loss_function.png\n",
      "Searching ./course_dump/week11/day1_sparkml_and_svm/support-vector-machines-lesson/assets/hinge_loss.png\n",
      "Searching ./course_dump/week11/day1_sparkml_and_svm/support-vector-machines-lesson/assets/linear_sep_support_vecs.png\n",
      "Searching ./course_dump/week11/day1_sparkml_and_svm/support-vector-machines-lesson/assets/nonlinear-1.png\n",
      "Searching ./course_dump/week11/day1_sparkml_and_svm/support-vector-machines-lesson/assets/nonlinear-2.png\n",
      "Searching ./course_dump/week11/day1_sparkml_and_svm/support-vector-machines-lesson/assets/kernel_viz.png\n",
      "Searching ./course_dump/week11/day1_sparkml_and_svm/support-vector-machines-lesson/assets/soft_margin.png\n",
      "Searching ./course_dump/week11/day1_sparkml_and_svm/support-vector-machines-lesson/assets/linear_sep_support_vecs_math.png\n",
      "Searching ./course_dump/week11/day1_sparkml_and_svm/support-vector-machines-lesson/assets/kernel_trick.png\n",
      "Searching ./course_dump/week11/day1_sparkml_and_svm/support-vector-machines-lesson/assets/linear_separability_vs_not.png\n",
      "Searching ./course_dump/week11/day1_sparkml_and_svm/support-vector-machines-lesson/assets/mmh.png\n",
      "Searching ./course_dump/week11/day1_sparkml_and_svm/support-vector-machines-lesson/assets/Margin.png\n"
     ]
    },
    {
     "name": "stdout",
     "output_type": "stream",
     "text": [
      "Searching ./course_dump/week11/day1_sparkml_and_svm/support-vector-machines-lesson/code/svm_plotter.py\n",
      "Searching ./course_dump/week11/day1_sparkml_and_svm/spark-ml-lesson/spark_ml_lesson.ipynb\n",
      "Searching ./course_dump/week11/day1_sparkml_and_svm/spark-ml-lesson/readme.md\n",
      "Searching ./course_dump/week11/day1_sparkml_and_svm/spark-ml-lesson/datasets/sample_linear_regression_data.txt\n",
      "Searching ./course_dump/week11/day1_sparkml_and_svm/spark-ml-lesson/datasets/sample_libsvm_data.txt\n",
      "Searching ./course_dump/week11/day1_sparkml_and_svm/spark-ml-lesson/datasets/sample_multiclass_classification_data.txt\n",
      "Searching ./course_dump/week11/day1_sparkml_and_svm/support-vector-machines-lab-1/exploring-svms-sklearn-example.ipynb\n",
      "Searching ./course_dump/week11/day1_sparkml_and_svm/support-vector-machines-lab-1/solution-code/exploring-svms-sklearn-example-solutions.ipynb\n",
      "Searching ./course_dump/week09/day2_arima_models/4_timeseries_arima_lab/ARIMA-lab-startercode.ipynb\n",
      "Searching ./course_dump/week09/day2_arima_models/4_timeseries_arima_lab/ARIMA-lab-solutioncode.ipynb\n",
      "Searching ./course_dump/week09/day2_arima_models/1_trends_and_autocorrelations/timeseries-autocorrelations-solution-code.ipynb\n",
      "Searching ./course_dump/week09/day2_arima_models/1_trends_and_autocorrelations/timeseries-autocorrelations-starter-code.ipynb\n",
      "Searching ./course_dump/week09/day2_arima_models/1_trends_and_autocorrelations/autocorrelation-practice-starter-code.ipynb\n",
      "Searching ./course_dump/week09/day2_arima_models/1_trends_and_autocorrelations/autocorrelation-practice-solution-code.ipynb\n",
      "Searching ./course_dump/week09/day2_arima_models/1_trends_and_autocorrelations/datasets/aapl.csv\n",
      "Searching ./course_dump/week09/day2_arima_models/3_timeseries_ex/arma_function.py\n",
      "Searching ./course_dump/week09/day2_arima_models/3_timeseries_ex/timeseries-ex-starter-code.ipynb\n",
      "Searching ./course_dump/week09/day2_arima_models/3_timeseries_ex/timeseries-ex-solution-code.ipynb\n",
      "Searching ./course_dump/week09/day2_arima_models/3_timeseries_ex/datasets/CRSPday_description.txt\n",
      "Searching ./course_dump/week09/day2_arima_models/3_timeseries_ex/datasets/Mishkin_description.txt\n",
      "Searching ./course_dump/week09/day2_arima_models/3_timeseries_ex/datasets/Mishkin.csv\n",
      "Searching ./course_dump/week09/day2_arima_models/3_timeseries_ex/datasets/CRSPday.csv\n",
      "Searching ./course_dump/week09/day2_arima_models/2_arima_models/timeseries-arima-lesson.ipynb\n",
      "Searching ./course_dump/week09/day2_arima_models/2_arima_models/readme.md\n",
      "Searching ./course_dump/week09/day3_seasonal_arima_models/seasonal_arima_lab/seasonal-arima-startercode.ipynb\n",
      "Searching ./course_dump/week09/day3_seasonal_arima_models/seasonal_arima_lab/seasonal-arima-solutioncode.ipynb\n",
      "Searching ./course_dump/week09/day3_seasonal_arima_models/seasonal_arima_lab/datasets/IncomeUK.csv\n",
      "Searching ./course_dump/week09/day3_seasonal_arima_models/seasonal_arima_lesson/readme.md\n",
      "Searching ./course_dump/week09/day3_seasonal_arima_models/seasonal_arima_lesson/seasonal-arima-forecasting-code.ipynb\n",
      "Searching ./course_dump/week09/day5_garch_models/garch_models/GARCH-lab-starter-code.ipynb\n",
      "Searching ./course_dump/week09/day5_garch_models/garch_models/GARCH_models.ipynb\n",
      "Searching ./course_dump/week09/day5_garch_models/garch_models/GARCH-lab-solution-code.ipynb\n",
      "Searching ./course_dump/week09/day5_garch_models/garch_models/datasets/CRSPday_description.txt\n",
      "Searching ./course_dump/week09/day5_garch_models/garch_models/datasets/aapl.csv\n",
      "Searching ./course_dump/week09/day5_garch_models/garch_models/datasets/Mishkin_description.txt\n",
      "Searching ./course_dump/week09/day5_garch_models/garch_models/datasets/Mishkin.csv\n",
      "Searching ./course_dump/week09/day5_garch_models/garch_models/datasets/CRSPday.csv\n",
      "Searching ./course_dump/week09/day1_timeseries_eda/4_timeseries_fitting/timeseries-fitting-starter-code.ipynb\n",
      "Searching ./course_dump/week09/day1_timeseries_eda/4_timeseries_fitting/timeseries-fitting-solution-code.ipynb\n",
      "Searching ./course_dump/week09/day1_timeseries_eda/4_timeseries_fitting/datasets/aapl.csv\n",
      "Searching ./course_dump/week09/day1_timeseries_eda/2_timeseries_datetime_lesson/timeseries-datetime-lab-solution-code.ipynb\n",
      "Searching ./course_dump/week09/day1_timeseries_eda/2_timeseries_datetime_lesson/readme.md\n",
      "Searching ./course_dump/week09/day1_timeseries_eda/2_timeseries_datetime_lesson/timeseries-datetime-lab-starter-code.ipynb\n",
      "Searching ./course_dump/week09/day1_timeseries_eda/2_timeseries_datetime_lesson/timeseries-and-datetime.ipynb\n",
      "Searching ./course_dump/week09/day1_timeseries_eda/2_timeseries_datetime_lesson/datasets/aapl.csv\n",
      "Searching ./course_dump/week09/day1_timeseries_eda/1_timeseries_intro/timeseries_intro.pdf\n",
      "Searching ./course_dump/week09/day1_timeseries_eda/3_timeseries_resampling_lab/timeseries-resampling-lab-starter-code.ipynb\n",
      "Searching ./course_dump/week09/day1_timeseries_eda/3_timeseries_resampling_lab/timeseries-resampling-lab-solution-code.ipynb\n",
      "Searching ./course_dump/week09/day1_timeseries_eda/3_timeseries_resampling_lab/timeseries-aggregations-solution-code.ipynb\n",
      "Searching ./course_dump/week09/day1_timeseries_eda/3_timeseries_resampling_lab/timeseries-aggregations-starter-code.ipynb\n",
      "Searching ./course_dump/week09/day1_timeseries_eda/3_timeseries_resampling_lab/datasets/aapl.csv\n",
      "Searching ./course_dump/week09/day4_varma_models/VARMA_lesson/VARMA_models.ipynb\n",
      "Searching ./course_dump/week09/day4_varma_models/VARMA_lesson/datasets/CPI.dat.csv\n",
      "Searching ./course_dump/week09/day4_varma_models/VARMA_lesson/datasets/IP.dat.csv\n",
      "Searching ./course_dump/week09/day4_varma_models/VARMA_lab/VARMA_models-ex-startercode.ipynb\n",
      "Searching ./course_dump/week09/day4_varma_models/VARMA_lab/VARMA_models-ex-solutioncode.ipynb\n",
      "Searching ./course_dump/week09/day4_varma_models/VARMA_lab/datasets/TbGdpPi.csv\n",
      "Dataframe successfully created, \n",
      "             use <obj>.df to print the df, or \n",
      "             .write_df() method to write to file.\n"
     ]
    }
   ],
   "source": [
    "# find stuff!\n",
    "myFinder.find_shit('./course_dump', my_badwords, include_content=False)"
   ]
  },
  {
   "cell_type": "markdown",
   "metadata": {},
   "source": [
    "Write the no-output version to a file "
   ]
  },
  {
   "cell_type": "code",
   "execution_count": 5,
   "metadata": {},
   "outputs": [
    {
     "data": {
      "text/html": [
       "<div>\n",
       "<style scoped>\n",
       "    .dataframe tbody tr th:only-of-type {\n",
       "        vertical-align: middle;\n",
       "    }\n",
       "\n",
       "    .dataframe tbody tr th {\n",
       "        vertical-align: top;\n",
       "    }\n",
       "\n",
       "    .dataframe thead th {\n",
       "        text-align: right;\n",
       "    }\n",
       "</style>\n",
       "<table border=\"1\" class=\"dataframe\">\n",
       "  <thead>\n",
       "    <tr style=\"text-align: right;\">\n",
       "      <th></th>\n",
       "      <th>file</th>\n",
       "      <th>badword</th>\n",
       "      <th>line_no</th>\n",
       "    </tr>\n",
       "  </thead>\n",
       "  <tbody>\n",
       "    <tr>\n",
       "      <th>0</th>\n",
       "      <td>./course_dump/week12/day1_neural_networks/nnet...</td>\n",
       "      <td>Sex</td>\n",
       "      <td>1122</td>\n",
       "    </tr>\n",
       "    <tr>\n",
       "      <th>1</th>\n",
       "      <td>./course_dump/week12/day1_neural_networks/nnet...</td>\n",
       "      <td>Sex</td>\n",
       "      <td>0</td>\n",
       "    </tr>\n",
       "    <tr>\n",
       "      <th>2</th>\n",
       "      <td>./course_dump/week12/day1_neural_networks/nnet...</td>\n",
       "      <td>Israel</td>\n",
       "      <td>323</td>\n",
       "    </tr>\n",
       "    <tr>\n",
       "      <th>3</th>\n",
       "      <td>./course_dump/week12/day1_neural_networks/nnet...</td>\n",
       "      <td>Sex</td>\n",
       "      <td>0</td>\n",
       "    </tr>\n",
       "    <tr>\n",
       "      <th>4</th>\n",
       "      <td>./course_dump/week12/day1_neural_networks/nnet...</td>\n",
       "      <td>Butt</td>\n",
       "      <td>537</td>\n",
       "    </tr>\n",
       "  </tbody>\n",
       "</table>\n",
       "</div>"
      ],
      "text/plain": [
       "                                                file badword  line_no\n",
       "0  ./course_dump/week12/day1_neural_networks/nnet...     Sex     1122\n",
       "1  ./course_dump/week12/day1_neural_networks/nnet...     Sex        0\n",
       "2  ./course_dump/week12/day1_neural_networks/nnet...  Israel      323\n",
       "3  ./course_dump/week12/day1_neural_networks/nnet...     Sex        0\n",
       "4  ./course_dump/week12/day1_neural_networks/nnet...    Butt      537"
      ]
     },
     "execution_count": 5,
     "metadata": {},
     "output_type": "execute_result"
    }
   ],
   "source": [
    "# write the no-output version to a file\n",
    "myFinder.df[['file', 'badword', 'line_no']].head()"
   ]
  },
  {
   "cell_type": "code",
   "execution_count": 6,
   "metadata": {},
   "outputs": [],
   "source": [
    "res = myFinder.df[['file', 'badword', 'line_no']]"
   ]
  },
  {
   "cell_type": "code",
   "execution_count": 7,
   "metadata": {},
   "outputs": [
    {
     "name": "stderr",
     "output_type": "stream",
     "text": [
      "/home/greg/miniconda3/envs/utc/lib/python3.6/site-packages/ipykernel_launcher.py:1: SettingWithCopyWarning: \n",
      "A value is trying to be set on a copy of a slice from a DataFrame.\n",
      "Try using .loc[row_indexer,col_indexer] = value instead\n",
      "\n",
      "See the caveats in the documentation: http://pandas.pydata.org/pandas-docs/stable/indexing.html#indexing-view-versus-copy\n",
      "  \"\"\"Entry point for launching an IPython kernel.\n"
     ]
    }
   ],
   "source": [
    "res['badword'] = res['badword'].apply(lambda x: x.lower())"
   ]
  },
  {
   "cell_type": "code",
   "execution_count": 8,
   "metadata": {},
   "outputs": [],
   "source": [
    "res.to_csv('./output_no_content.csv', index=False, chunksize=1000)"
   ]
  },
  {
   "cell_type": "markdown",
   "metadata": {},
   "source": [
    "Just make a snippet of each offense, grouped by the file, with the top 5 offenses for each file"
   ]
  },
  {
   "cell_type": "code",
   "execution_count": 9,
   "metadata": {},
   "outputs": [],
   "source": [
    "myFinder.df.groupby('file', as_index=False).head(5).to_csv('./head5.csv', index=False, chunksize=1000)"
   ]
  },
  {
   "cell_type": "markdown",
   "metadata": {},
   "source": [
    "### Erase badwords from a single file and return a 'cleaned' file\n",
    "\n",
    "Use this to erase badwords from a single file and return a cleaned file"
   ]
  },
  {
   "cell_type": "code",
   "execution_count": 3,
   "metadata": {
    "collapsed": true
   },
   "outputs": [
    {
     "name": "stderr",
     "output_type": "stream",
     "text": [
      "  0%|          | 0/118544 [00:00<?, ?it/s]/home/greg/miniconda3/envs/ga/lib/python3.6/site-packages/ipykernel_launcher.py:54: DeprecationWarning: Flags not at the start of the expression '(?i)\\\\ba55\\\\b|(?i)\\\\ban' (truncated)\n",
      "  0%|          | 34/118544 [00:00<05:54, 333.86it/s]"
     ]
    },
    {
     "name": "stdout",
     "output_type": "stream",
     "text": [
      "Replacing bad words in ./course_dump/10.06-lesson-benfords-law/datasets/Austin_Finance_Online_eCheckbook.csv...\n"
     ]
    },
    {
     "name": "stderr",
     "output_type": "stream",
     "text": [
      "100%|██████████| 118544/118544 [04:08<00:00, 477.37it/s]\n"
     ]
    },
    {
     "data": {
      "text/html": [
       "<div>\n",
       "<style scoped>\n",
       "    .dataframe tbody tr th:only-of-type {\n",
       "        vertical-align: middle;\n",
       "    }\n",
       "\n",
       "    .dataframe tbody tr th {\n",
       "        vertical-align: top;\n",
       "    }\n",
       "\n",
       "    .dataframe thead th {\n",
       "        text-align: right;\n",
       "    }\n",
       "</style>\n",
       "<table border=\"1\" class=\"dataframe\">\n",
       "  <thead>\n",
       "    <tr style=\"text-align: right;\">\n",
       "      <th></th>\n",
       "      <th>count</th>\n",
       "    </tr>\n",
       "  </thead>\n",
       "  <tbody>\n",
       "    <tr>\n",
       "      <th>Drugs</th>\n",
       "      <td>172</td>\n",
       "    </tr>\n",
       "    <tr>\n",
       "      <th>Drug</th>\n",
       "      <td>100</td>\n",
       "    </tr>\n",
       "    <tr>\n",
       "      <th>DRUG</th>\n",
       "      <td>82</td>\n",
       "    </tr>\n",
       "    <tr>\n",
       "      <th>Dog</th>\n",
       "      <td>54</td>\n",
       "    </tr>\n",
       "    <tr>\n",
       "      <th>Crack</th>\n",
       "      <td>28</td>\n",
       "    </tr>\n",
       "    <tr>\n",
       "      <th>MUFF</th>\n",
       "      <td>20</td>\n",
       "    </tr>\n",
       "    <tr>\n",
       "      <th>GUN</th>\n",
       "      <td>18</td>\n",
       "    </tr>\n",
       "    <tr>\n",
       "      <th>COX</th>\n",
       "      <td>16</td>\n",
       "    </tr>\n",
       "    <tr>\n",
       "      <th>Spac</th>\n",
       "      <td>13</td>\n",
       "    </tr>\n",
       "    <tr>\n",
       "      <th>FLANGE</th>\n",
       "      <td>13</td>\n",
       "    </tr>\n",
       "  </tbody>\n",
       "</table>\n",
       "</div>"
      ],
      "text/plain": [
       "        count\n",
       "Drugs     172\n",
       "Drug      100\n",
       "DRUG       82\n",
       "Dog        54\n",
       "Crack      28\n",
       "MUFF       20\n",
       "GUN        18\n",
       "COX        16\n",
       "Spac       13\n",
       "FLANGE     13"
      ]
     },
     "execution_count": 3,
     "metadata": {},
     "output_type": "execute_result"
    }
   ],
   "source": [
    "# erase stuff! (returns a dictionary)\n",
    "out_dict = myFinder.erase_shit('./course_dump/10.06-lesson-benfords-law/datasets/Austin_Finance_Online_eCheckbook.csv', './course_dump/10.06-lesson-benfords-law/datasets/out.csv', my_badwords)\n",
    "# let's get a report of the stuff we replaced in the erase_shit() call:\n",
    "out_df = pd.DataFrame.from_dict(out_dict, orient='index')\n",
    "out_df.columns = ['count']\n",
    "out_df.sort_values('count', ascending=False)[:10]"
   ]
  },
  {
   "cell_type": "markdown",
   "metadata": {},
   "source": [
    "### Erase badwords from multiple files, in-place\n",
    "Use this to erase an entire directory of shitty files full of shit"
   ]
  },
  {
   "cell_type": "code",
   "execution_count": 14,
   "metadata": {},
   "outputs": [],
   "source": [
    "todelete = pd.read_csv('./course_dump/week08/day1_intro_to_bayesian_statistics/naive-bayes-spam-lab/todelete.csv')"
   ]
  },
  {
   "cell_type": "code",
   "execution_count": 16,
   "metadata": {},
   "outputs": [
    {
     "data": {
      "text/html": [
       "<div>\n",
       "<style scoped>\n",
       "    .dataframe tbody tr th:only-of-type {\n",
       "        vertical-align: middle;\n",
       "    }\n",
       "\n",
       "    .dataframe tbody tr th {\n",
       "        vertical-align: top;\n",
       "    }\n",
       "\n",
       "    .dataframe thead th {\n",
       "        text-align: right;\n",
       "    }\n",
       "</style>\n",
       "<table border=\"1\" class=\"dataframe\">\n",
       "  <thead>\n",
       "    <tr style=\"text-align: right;\">\n",
       "      <th></th>\n",
       "      <th>folder</th>\n",
       "      <th>filename</th>\n",
       "      <th>file</th>\n",
       "      <th>badword</th>\n",
       "    </tr>\n",
       "  </thead>\n",
       "  <tbody>\n",
       "    <tr>\n",
       "      <th>0</th>\n",
       "      <td>easy_ham</td>\n",
       "      <td>0094.b7bf14fae9c31d0516cfe00dd9ab068d</td>\n",
       "      <td>./course_dump/week08/day1_intro_to_bayesian_st...</td>\n",
       "      <td>10</td>\n",
       "    </tr>\n",
       "    <tr>\n",
       "      <th>1</th>\n",
       "      <td>easy_ham</td>\n",
       "      <td>0161.5703ef6933a7f189ab48da12a925f5e4</td>\n",
       "      <td>./course_dump/week08/day1_intro_to_bayesian_st...</td>\n",
       "      <td>3</td>\n",
       "    </tr>\n",
       "  </tbody>\n",
       "</table>\n",
       "</div>"
      ],
      "text/plain": [
       "     folder                               filename  \\\n",
       "0  easy_ham  0094.b7bf14fae9c31d0516cfe00dd9ab068d   \n",
       "1  easy_ham  0161.5703ef6933a7f189ab48da12a925f5e4   \n",
       "\n",
       "                                                file  badword  \n",
       "0  ./course_dump/week08/day1_intro_to_bayesian_st...       10  \n",
       "1  ./course_dump/week08/day1_intro_to_bayesian_st...        3  "
      ]
     },
     "execution_count": 16,
     "metadata": {},
     "output_type": "execute_result"
    }
   ],
   "source": [
    "todelete.head(2)"
   ]
  },
  {
   "cell_type": "code",
   "execution_count": 19,
   "metadata": {},
   "outputs": [
    {
     "name": "stdout",
     "output_type": "stream",
     "text": [
      "/home/greg/Documents/ga/profanityParser\r\n"
     ]
    }
   ],
   "source": [
    "# /home/greg/Documents/ga/profanityParser/course_dump/week08/day1_intro_to_bayesian_statistics/naive-bayes-spam-lab\n",
    "!pwd"
   ]
  },
  {
   "cell_type": "code",
   "execution_count": 24,
   "metadata": {},
   "outputs": [
    {
     "name": "stdout",
     "output_type": "stream",
     "text": [
      "./course_dump/week08/day1_intro_to_bayesian_statistics/naive-bayes-spam-lab/datasets/easy_ham/0094.b7bf14fae9c31d0516cfe00dd9ab068d\n",
      "309 ./course_dump/week08/day1_intro_to_bayesian_statistics/naive-bayes-spam-lab/datasets/easy_ham/0094.b7bf14fae9c31d0516cfe00dd9ab068d\n",
      "./course_dump/week08/day1_intro_to_bayesian_statistics/naive-bayes-spam-lab/datasets/easy_ham/0161.5703ef6933a7f189ab48da12a925f5e4\n",
      "127 ./course_dump/week08/day1_intro_to_bayesian_statistics/naive-bayes-spam-lab/datasets/easy_ham/0161.5703ef6933a7f189ab48da12a925f5e4\n"
     ]
    }
   ],
   "source": [
    "for folder, file in zip(todelete['folder'][:2], todelete['filename'][:2]):\n",
    "    path = './course_dump/week08/day1_intro_to_bayesian_statistics/naive-bayes-spam-lab/datasets/' + folder + '/' + file\n",
    "    print(path)\n",
    "    !wc -l $path"
   ]
  },
  {
   "cell_type": "code",
   "execution_count": 48,
   "metadata": {
    "collapsed": true
   },
   "outputs": [
    {
     "name": "stderr",
     "output_type": "stream",
     "text": [
      "74it [00:00, 994.48it/s]\n",
      "88it [00:00, 1707.00it/s]\n",
      "0it [00:00, ?it/s]"
     ]
    },
    {
     "name": "stdout",
     "output_type": "stream",
     "text": [
      "Replacing bad words in ./course_dump/week08/day1_intro_to_bayesian_statistics/naive-bayes-spam-lab/datasets_test/easy_ham/foo0865.4b2110ced3bc59bb5684c5ecfa980dd1...\n",
      "Replacing bad words in ./course_dump/week08/day1_intro_to_bayesian_statistics/naive-bayes-spam-lab/datasets_test/easy_ham/1026.b2ee7b3cb90365641e465cfede58a672...\n",
      "Replacing bad words in ./course_dump/week08/day1_intro_to_bayesian_statistics/naive-bayes-spam-lab/datasets_test/easy_ham/0652.5ed46908836bacba742b337197ce3499...\n"
     ]
    },
    {
     "name": "stderr",
     "output_type": "stream",
     "text": [
      "188it [00:00, 1412.79it/s]\n",
      "66it [00:00, 1176.78it/s]\n",
      "104it [00:00, 1486.36it/s]\n",
      "31it [00:00, 1226.79it/s]\n",
      "0it [00:00, ?it/s]"
     ]
    },
    {
     "name": "stdout",
     "output_type": "stream",
     "text": [
      "Replacing bad words in ./course_dump/week08/day1_intro_to_bayesian_statistics/naive-bayes-spam-lab/datasets_test/easy_ham/1508.334b2eb6c70ba66605ebefc97924e7b3...\n",
      "Replacing bad words in ./course_dump/week08/day1_intro_to_bayesian_statistics/naive-bayes-spam-lab/datasets_test/easy_ham/1595.fa533692bb0d635d6d1219663ee0f82c...\n",
      "Replacing bad words in ./course_dump/week08/day1_intro_to_bayesian_statistics/naive-bayes-spam-lab/datasets_test/easy_ham/foo2411.debe2dcb9f09b73d42f985bdd7913bb6...\n",
      "Replacing bad words in ./course_dump/week08/day1_intro_to_bayesian_statistics/naive-bayes-spam-lab/datasets_test/easy_ham/0109.4ccc46c546b93015aafdfc40495f187d...\n"
     ]
    },
    {
     "name": "stderr",
     "output_type": "stream",
     "text": [
      "75it [00:00, 1563.06it/s]\n",
      "97it [00:00, 1323.56it/s]\n",
      "100it [00:00, 1487.45it/s]\n",
      "0it [00:00, ?it/s]"
     ]
    },
    {
     "name": "stdout",
     "output_type": "stream",
     "text": [
      "Replacing bad words in ./course_dump/week08/day1_intro_to_bayesian_statistics/naive-bayes-spam-lab/datasets_test/easy_ham/1504.f77b2dc9ad8c875d8edc67b180e2f878...\n",
      "Replacing bad words in ./course_dump/week08/day1_intro_to_bayesian_statistics/naive-bayes-spam-lab/datasets_test/easy_ham/foo0717.211b19b47bd1c85001dddbe5768d79a1...\n",
      "Replacing bad words in ./course_dump/week08/day1_intro_to_bayesian_statistics/naive-bayes-spam-lab/datasets_test/easy_ham/1231.9a7db322df8f2bdf4eeb2d589cb51e34...\n"
     ]
    },
    {
     "name": "stderr",
     "output_type": "stream",
     "text": [
      "128it [00:00, 1574.38it/s]\n",
      "91it [00:00, 1209.26it/s]\n",
      "91it [00:00, 1446.60it/s]\n",
      "31it [00:00, 1750.66it/s]\n",
      "0it [00:00, ?it/s]"
     ]
    },
    {
     "name": "stdout",
     "output_type": "stream",
     "text": [
      "Replacing bad words in ./course_dump/week08/day1_intro_to_bayesian_statistics/naive-bayes-spam-lab/datasets_test/easy_ham/1195.4cad51ea61eee58c9b4496ebba828692...\n",
      "Replacing bad words in ./course_dump/week08/day1_intro_to_bayesian_statistics/naive-bayes-spam-lab/datasets_test/easy_ham/foo0145.7400cf6ab4cfe5ffeaab582c9730c656...\n",
      "Replacing bad words in ./course_dump/week08/day1_intro_to_bayesian_statistics/naive-bayes-spam-lab/datasets_test/easy_ham/foofoo2186.9dc59321a95e53d5e0ebaf3524858913...\n",
      "Replacing bad words in ./course_dump/week08/day1_intro_to_bayesian_statistics/naive-bayes-spam-lab/datasets_test/easy_ham/foo0956.fb35140cb684b750a0b652251bf9f7df...\n"
     ]
    },
    {
     "name": "stderr",
     "output_type": "stream",
     "text": [
      "367it [00:00, 1046.52it/s]\n",
      "60it [00:00, 1436.65it/s]\n",
      "159it [00:00, 1373.51it/s]\n",
      "51it [00:00, 1550.66it/s]"
     ]
    },
    {
     "name": "stdout",
     "output_type": "stream",
     "text": [
      "Replacing bad words in ./course_dump/week08/day1_intro_to_bayesian_statistics/naive-bayes-spam-lab/datasets_test/easy_ham/foofoo0263.ffa4db454754b3c66fd025e92912941e...\n",
      "Replacing bad words in ./course_dump/week08/day1_intro_to_bayesian_statistics/naive-bayes-spam-lab/datasets_test/easy_ham/0598.1ac8a662753f1bba429f52eb184ba794...\n",
      "Replacing bad words in ./course_dump/week08/day1_intro_to_bayesian_statistics/naive-bayes-spam-lab/datasets_test/easy_ham/foo2043.17d3228812a027a1ffd1c5170b184178...\n"
     ]
    },
    {
     "name": "stderr",
     "output_type": "stream",
     "text": [
      "\n",
      "32it [00:00, 1006.03it/s]\n",
      "29it [00:00, 982.55it/s]\n",
      "54it [00:00, 1011.41it/s]\n",
      "96it [00:00, 1201.92it/s]\n",
      "0it [00:00, ?it/s]"
     ]
    },
    {
     "name": "stdout",
     "output_type": "stream",
     "text": [
      "Replacing bad words in ./course_dump/week08/day1_intro_to_bayesian_statistics/naive-bayes-spam-lab/datasets_test/easy_ham/2328.da7bcb9a3752151e475ed0b137f3e863...\n",
      "Replacing bad words in ./course_dump/week08/day1_intro_to_bayesian_statistics/naive-bayes-spam-lab/datasets_test/easy_ham/foo2212.1f18dd012ff40c3be511acf583b72ad6...\n",
      "Replacing bad words in ./course_dump/week08/day1_intro_to_bayesian_statistics/naive-bayes-spam-lab/datasets_test/easy_ham/foo2278.4b1725f297a28cc4201e126b5cc0802f...\n",
      "Replacing bad words in ./course_dump/week08/day1_intro_to_bayesian_statistics/naive-bayes-spam-lab/datasets_test/easy_ham/foo0590.163e32d267b894e61f0386e879cde23b...\n",
      "Replacing bad words in ./course_dump/week08/day1_intro_to_bayesian_statistics/naive-bayes-spam-lab/datasets_test/easy_ham/0714.7f83c20969cae40090108707e0bd7cef...\n"
     ]
    },
    {
     "name": "stderr",
     "output_type": "stream",
     "text": [
      "119it [00:00, 1079.62it/s]\n",
      "39it [00:00, 1329.88it/s]\n",
      "139it [00:00, 1404.63it/s]\n",
      "63it [00:00, 1645.99it/s]\n",
      "0it [00:00, ?it/s]"
     ]
    },
    {
     "name": "stdout",
     "output_type": "stream",
     "text": [
      "Replacing bad words in ./course_dump/week08/day1_intro_to_bayesian_statistics/naive-bayes-spam-lab/datasets_test/easy_ham/foo1957.0fd661cae9ba750c8d2005ca5f5f2075...\n",
      "Replacing bad words in ./course_dump/week08/day1_intro_to_bayesian_statistics/naive-bayes-spam-lab/datasets_test/easy_ham/0978.3abc52be262e3631f31cd4aee5a1b901...\n",
      "Replacing bad words in ./course_dump/week08/day1_intro_to_bayesian_statistics/naive-bayes-spam-lab/datasets_test/easy_ham/0131.b715566061ab90d0f8745ce0ac010832...\n",
      "Replacing bad words in ./course_dump/week08/day1_intro_to_bayesian_statistics/naive-bayes-spam-lab/datasets_test/easy_ham/foo1125.32b3964c09cb6a90f69b0631171283e3...\n"
     ]
    },
    {
     "name": "stderr",
     "output_type": "stream",
     "text": [
      "148it [00:00, 1619.39it/s]\n",
      "125it [00:00, 1470.17it/s]\n",
      "86it [00:00, 1776.43it/s]\n",
      "51it [00:00, 1243.17it/s]\n",
      "0it [00:00, ?it/s]"
     ]
    },
    {
     "name": "stdout",
     "output_type": "stream",
     "text": [
      "Replacing bad words in ./course_dump/week08/day1_intro_to_bayesian_statistics/naive-bayes-spam-lab/datasets_test/easy_ham/0681.a0c682a61d47a58820ffa73d5555f3fb...\n",
      "Replacing bad words in ./course_dump/week08/day1_intro_to_bayesian_statistics/naive-bayes-spam-lab/datasets_test/easy_ham/foo1678.a3c22194f3f334941d900a4bbf249f96...\n",
      "Replacing bad words in ./course_dump/week08/day1_intro_to_bayesian_statistics/naive-bayes-spam-lab/datasets_test/easy_ham/foo1815.c20d5899b4b27415389a10cd4f400019...\n",
      "Replacing bad words in ./course_dump/week08/day1_intro_to_bayesian_statistics/naive-bayes-spam-lab/datasets_test/easy_ham/1149.68dbf497c1a8748757b6acc50fb74ed0...\n"
     ]
    },
    {
     "name": "stderr",
     "output_type": "stream",
     "text": [
      "105it [00:00, 1495.41it/s]\n",
      "131it [00:00, 1432.70it/s]\n",
      "57it [00:00, 1603.35it/s]\n",
      "32it [00:00, 1080.82it/s]\n",
      "0it [00:00, ?it/s]"
     ]
    },
    {
     "name": "stdout",
     "output_type": "stream",
     "text": [
      "Replacing bad words in ./course_dump/week08/day1_intro_to_bayesian_statistics/naive-bayes-spam-lab/datasets_test/easy_ham/foo0946.eb5e7c2de78b6fec81e509923689a7a4...\n",
      "Replacing bad words in ./course_dump/week08/day1_intro_to_bayesian_statistics/naive-bayes-spam-lab/datasets_test/easy_ham/1401.2d453d45aa06dec5a5a98bba8d81fdc5...\n",
      "Replacing bad words in ./course_dump/week08/day1_intro_to_bayesian_statistics/naive-bayes-spam-lab/datasets_test/easy_ham/2281.ce69a29fc23c4a9990ccc723e4da6898...\n",
      "Replacing bad words in ./course_dump/week08/day1_intro_to_bayesian_statistics/naive-bayes-spam-lab/datasets_test/easy_ham/0517.a379a642533f85c04e63d9f3a0813b63...\n"
     ]
    },
    {
     "name": "stderr",
     "output_type": "stream",
     "text": [
      "67it [00:00, 1378.98it/s]\n",
      "117it [00:00, 1293.30it/s]\n",
      "112it [00:00, 1890.03it/s]\n",
      "0it [00:00, ?it/s]"
     ]
    },
    {
     "name": "stdout",
     "output_type": "stream",
     "text": [
      "Replacing bad words in ./course_dump/week08/day1_intro_to_bayesian_statistics/naive-bayes-spam-lab/datasets_test/easy_ham/0545.f3614ca8b5095f9b69b7a3ff336d5aac...\n",
      "Replacing bad words in ./course_dump/week08/day1_intro_to_bayesian_statistics/naive-bayes-spam-lab/datasets_test/easy_ham/foo0955.aeb04c1ac6bb728a6561da1da8b73995...\n",
      "Replacing bad words in ./course_dump/week08/day1_intro_to_bayesian_statistics/naive-bayes-spam-lab/datasets_test/easy_ham/1656.2c519e6e148cca3020e50c723bbc200e...\n"
     ]
    },
    {
     "name": "stderr",
     "output_type": "stream",
     "text": [
      "103it [00:00, 1428.84it/s]\n",
      "89it [00:00, 1279.12it/s]\n",
      "165it [00:00, 1644.34it/s]"
     ]
    },
    {
     "name": "stdout",
     "output_type": "stream",
     "text": [
      "Replacing bad words in ./course_dump/week08/day1_intro_to_bayesian_statistics/naive-bayes-spam-lab/datasets_test/easy_ham/0500.26e81584fd9c739be4898acd4870143e...\n",
      "Replacing bad words in ./course_dump/week08/day1_intro_to_bayesian_statistics/naive-bayes-spam-lab/datasets_test/easy_ham/0605.0b692301193854c686d6c257203c9976...\n"
     ]
    },
    {
     "name": "stderr",
     "output_type": "stream",
     "text": [
      "254it [00:00, 1660.82it/s]\n",
      "77it [00:00, 1439.25it/s]\n",
      "33it [00:00, 1396.75it/s]\n",
      "30it [00:00, 1249.56it/s]\n",
      "62it [00:00, 1385.25it/s]\n",
      "65it [00:00, 1484.31it/s]"
     ]
    },
    {
     "name": "stdout",
     "output_type": "stream",
     "text": [
      "Replacing bad words in ./course_dump/week08/day1_intro_to_bayesian_statistics/naive-bayes-spam-lab/datasets_test/easy_ham/0080.7c3a836baaa732cd915546442c0fef1a...\n",
      "Replacing bad words in ./course_dump/week08/day1_intro_to_bayesian_statistics/naive-bayes-spam-lab/datasets_test/easy_ham/foo2482.67146ca47d2cb5e4657d54c66bf68a69...\n",
      "Replacing bad words in ./course_dump/week08/day1_intro_to_bayesian_statistics/naive-bayes-spam-lab/datasets_test/easy_ham/2219.a6bcfc52346ca02a2add2951167549c5...\n",
      "Replacing bad words in ./course_dump/week08/day1_intro_to_bayesian_statistics/naive-bayes-spam-lab/datasets_test/easy_ham/0969.c872e57098d18f1588a9e0b1307cee42...\n",
      "Replacing bad words in ./course_dump/week08/day1_intro_to_bayesian_statistics/naive-bayes-spam-lab/datasets_test/easy_ham/0847.00a64e95e9b26dd792571a8213a90c78...\n"
     ]
    },
    {
     "name": "stderr",
     "output_type": "stream",
     "text": [
      "\n",
      "24it [00:00, 1175.07it/s]\n",
      "99it [00:00, 1489.19it/s]\n",
      "96it [00:00, 1622.95it/s]\n",
      "30it [00:00, 1601.82it/s]\n",
      "0it [00:00, ?it/s]"
     ]
    },
    {
     "name": "stdout",
     "output_type": "stream",
     "text": [
      "Replacing bad words in ./course_dump/week08/day1_intro_to_bayesian_statistics/naive-bayes-spam-lab/datasets_test/easy_ham/foo1755.864cc509960bb627696e65943038856e...\n",
      "Replacing bad words in ./course_dump/week08/day1_intro_to_bayesian_statistics/naive-bayes-spam-lab/datasets_test/easy_ham/foofoo1228.0e851b082d2c4200347accef882549eb...\n",
      "Replacing bad words in ./course_dump/week08/day1_intro_to_bayesian_statistics/naive-bayes-spam-lab/datasets_test/easy_ham/1119.ce22f4a2ffbc03cd2625cb10ba561058...\n",
      "Replacing bad words in ./course_dump/week08/day1_intro_to_bayesian_statistics/naive-bayes-spam-lab/datasets_test/easy_ham/2201.eefdaf79beaca1667b7067ebbf9df781...\n",
      "Replacing bad words in ./course_dump/week08/day1_intro_to_bayesian_statistics/naive-bayes-spam-lab/datasets_test/easy_ham/foo1544.011827fa2f89828e83bae7f6995576df...\n"
     ]
    },
    {
     "name": "stderr",
     "output_type": "stream",
     "text": [
      "125it [00:00, 1466.57it/s]\n",
      "75it [00:00, 1593.32it/s]\n",
      "94it [00:00, 1543.45it/s]\n",
      "76it [00:00, 1628.89it/s]\n",
      "39it [00:00, 1434.43it/s]\n",
      "0it [00:00, ?it/s]"
     ]
    },
    {
     "name": "stdout",
     "output_type": "stream",
     "text": [
      "Replacing bad words in ./course_dump/week08/day1_intro_to_bayesian_statistics/naive-bayes-spam-lab/datasets_test/easy_ham/0722.8aba37e84c5a58cdfe72fc9ed03089ae...\n",
      "Replacing bad words in ./course_dump/week08/day1_intro_to_bayesian_statistics/naive-bayes-spam-lab/datasets_test/easy_ham/1415.92155ef4a4f97a787d636892dd1a0219...\n",
      "Replacing bad words in ./course_dump/week08/day1_intro_to_bayesian_statistics/naive-bayes-spam-lab/datasets_test/easy_ham/0893.535c68823a7692562371ccebf36fb7b7...\n",
      "Replacing bad words in ./course_dump/week08/day1_intro_to_bayesian_statistics/naive-bayes-spam-lab/datasets_test/easy_ham/foo2302.8d02dcc517d6da5c30cea81337abbb4b...\n",
      "Replacing bad words in ./course_dump/week08/day1_intro_to_bayesian_statistics/naive-bayes-spam-lab/datasets_test/easy_ham/1179.2cebdef3b31479afbfdb2c230046f84b...\n"
     ]
    },
    {
     "name": "stderr",
     "output_type": "stream",
     "text": [
      "80it [00:00, 1595.32it/s]\n",
      "29it [00:00, 1360.10it/s]\n",
      "30it [00:00, 1656.85it/s]\n",
      "73it [00:00, 1437.09it/s]\n",
      "143it [00:00, 1800.16it/s]\n",
      "0it [00:00, ?it/s]"
     ]
    },
    {
     "name": "stdout",
     "output_type": "stream",
     "text": [
      "Replacing bad words in ./course_dump/week08/day1_intro_to_bayesian_statistics/naive-bayes-spam-lab/datasets_test/easy_ham/2123.434d5b6c8f3e861ae0d04a9db749e734...\n",
      "Replacing bad words in ./course_dump/week08/day1_intro_to_bayesian_statistics/naive-bayes-spam-lab/datasets_test/easy_ham/foo2204.10ad821cb53a4ab7f04e6cce9a711874...\n",
      "Replacing bad words in ./course_dump/week08/day1_intro_to_bayesian_statistics/naive-bayes-spam-lab/datasets_test/easy_ham/0298.fb2fe4458efbd24753b011bf6db2deab...\n",
      "Replacing bad words in ./course_dump/week08/day1_intro_to_bayesian_statistics/naive-bayes-spam-lab/datasets_test/easy_ham/0478.41ae16e74ab25e02113c5da21efd2804...\n",
      "Replacing bad words in ./course_dump/week08/day1_intro_to_bayesian_statistics/naive-bayes-spam-lab/datasets_test/easy_ham/1460.8ad306210b1538d37993a51b69544e5b...\n"
     ]
    },
    {
     "name": "stderr",
     "output_type": "stream",
     "text": [
      "72it [00:00, 1724.74it/s]\n",
      "72it [00:00, 1627.74it/s]\n",
      "31it [00:00, 1532.70it/s]\n",
      "65it [00:00, 1443.06it/s]\n",
      "63it [00:00, 2042.98it/s]\n",
      "0it [00:00, ?it/s]"
     ]
    },
    {
     "name": "stdout",
     "output_type": "stream",
     "text": [
      "Replacing bad words in ./course_dump/week08/day1_intro_to_bayesian_statistics/naive-bayes-spam-lab/datasets_test/easy_ham/1894.feeadafed8d22fbefccef31f2a2eb74a...\n",
      "Replacing bad words in ./course_dump/week08/day1_intro_to_bayesian_statistics/naive-bayes-spam-lab/datasets_test/easy_ham/1982.896a7f0768d957cb97d487b7c4525683...\n",
      "Replacing bad words in ./course_dump/week08/day1_intro_to_bayesian_statistics/naive-bayes-spam-lab/datasets_test/easy_ham/0990.7c68a426e051d8f04aa42d1c2d2e6cf4...\n",
      "Replacing bad words in ./course_dump/week08/day1_intro_to_bayesian_statistics/naive-bayes-spam-lab/datasets_test/easy_ham/foo0089.8b3fea141f5b2f2e5b66a9f12148b7d0...\n",
      "Replacing bad words in ./course_dump/week08/day1_intro_to_bayesian_statistics/naive-bayes-spam-lab/datasets_test/easy_ham/1238.af17c6dc01076c3f5fd80b0aaf13b70a...\n"
     ]
    },
    {
     "name": "stderr",
     "output_type": "stream",
     "text": [
      "98it [00:00, 1603.58it/s]\n",
      "77it [00:00, 1696.72it/s]\n",
      "59it [00:00, 1677.82it/s]\n",
      "164it [00:00, 1358.43it/s]"
     ]
    },
    {
     "name": "stdout",
     "output_type": "stream",
     "text": [
      "Replacing bad words in ./course_dump/week08/day1_intro_to_bayesian_statistics/naive-bayes-spam-lab/datasets_test/easy_ham/0412.a141da0849f5295c2a6230fd3ed9647c...\n",
      "Replacing bad words in ./course_dump/week08/day1_intro_to_bayesian_statistics/naive-bayes-spam-lab/datasets_test/easy_ham/0542.9a7c09acf3e7748e4ae90a48959e731f...\n",
      "Replacing bad words in ./course_dump/week08/day1_intro_to_bayesian_statistics/naive-bayes-spam-lab/datasets_test/easy_ham/0224.17430432fb67f4f3278eac9cba4714aa...\n"
     ]
    },
    {
     "name": "stderr",
     "output_type": "stream",
     "text": [
      "\n",
      "114it [00:00, 1551.77it/s]\n",
      "34it [00:00, 1474.88it/s]\n",
      "70it [00:00, 1553.40it/s]\n",
      "0it [00:00, ?it/s]"
     ]
    },
    {
     "name": "stdout",
     "output_type": "stream",
     "text": [
      "Replacing bad words in ./course_dump/week08/day1_intro_to_bayesian_statistics/naive-bayes-spam-lab/datasets_test/easy_ham/1625.08690a3d25fcaacc8929c31657f85c8f...\n",
      "Replacing bad words in ./course_dump/week08/day1_intro_to_bayesian_statistics/naive-bayes-spam-lab/datasets_test/easy_ham/2239.cc8e1bac692f0485c46475711ea6b0a2...\n",
      "Replacing bad words in ./course_dump/week08/day1_intro_to_bayesian_statistics/naive-bayes-spam-lab/datasets_test/easy_ham/0711.27203d4f43e71f7e1ced0cdd7f8685c8...\n",
      "Replacing bad words in ./course_dump/week08/day1_intro_to_bayesian_statistics/naive-bayes-spam-lab/datasets_test/easy_ham/foo1436.b6274330d7d8fd92eb9cfc2f999555cb...\n"
     ]
    },
    {
     "name": "stderr",
     "output_type": "stream",
     "text": [
      "103it [00:00, 1426.14it/s]\n",
      "83it [00:00, 1598.08it/s]\n",
      "26it [00:00, 1448.27it/s]\n",
      "31it [00:00, 1554.52it/s]\n",
      "30it [00:00, 1429.63it/s]\n",
      "82it [00:00, 1511.10it/s]\n",
      "33it [00:00, 1650.10it/s]"
     ]
    },
    {
     "name": "stdout",
     "output_type": "stream",
     "text": [
      "Replacing bad words in ./course_dump/week08/day1_intro_to_bayesian_statistics/naive-bayes-spam-lab/datasets_test/easy_ham/foo0569.ef10ce803ff212d76f9dd6148b84a823...\n",
      "Replacing bad words in ./course_dump/week08/day1_intro_to_bayesian_statistics/naive-bayes-spam-lab/datasets_test/easy_ham/foo0181.d16658bb110eb37495081efa07319db1...\n",
      "Replacing bad words in ./course_dump/week08/day1_intro_to_bayesian_statistics/naive-bayes-spam-lab/datasets_test/easy_ham/foo2146.c87b60b5d82b08ad158555b96a042b7a...\n",
      "Replacing bad words in ./course_dump/week08/day1_intro_to_bayesian_statistics/naive-bayes-spam-lab/datasets_test/easy_ham/2263.cdbea6cbb8b91203226eeaef8b251ad1...\n",
      "Replacing bad words in ./course_dump/week08/day1_intro_to_bayesian_statistics/naive-bayes-spam-lab/datasets_test/easy_ham/0610.77f0b010c4ee1f527c40a320223e5e3d...\n",
      "Replacing bad words in ./course_dump/week08/day1_intro_to_bayesian_statistics/naive-bayes-spam-lab/datasets_test/easy_ham/foo1976.e5cc37d360e7f0720c6bc1a6f658c11d...\n"
     ]
    },
    {
     "name": "stderr",
     "output_type": "stream",
     "text": [
      "\n",
      "158it [00:00, 1434.25it/s]\n",
      "92it [00:00, 1553.35it/s]\n",
      "34it [00:00, 1761.05it/s]"
     ]
    },
    {
     "name": "stdout",
     "output_type": "stream",
     "text": [
      "Replacing bad words in ./course_dump/week08/day1_intro_to_bayesian_statistics/naive-bayes-spam-lab/datasets_test/easy_ham/foo1128.03b2776407c0cc561ab9fa6bb46bd9ef...\n",
      "Replacing bad words in ./course_dump/week08/day1_intro_to_bayesian_statistics/naive-bayes-spam-lab/datasets_test/easy_ham/0426.9239b06238f5128c209bbdd252e0fb8f...\n",
      "Replacing bad words in ./course_dump/week08/day1_intro_to_bayesian_statistics/naive-bayes-spam-lab/datasets_test/easy_ham/foo2456.1b028dbafc21c1169e554a1ca612743f...\n"
     ]
    },
    {
     "name": "stderr",
     "output_type": "stream",
     "text": [
      "\n",
      "38it [00:00, 1366.43it/s]\n",
      "38it [00:00, 1550.74it/s]\n",
      "31it [00:00, 1247.97it/s]\n",
      "95it [00:00, 1299.69it/s]\n",
      "0it [00:00, ?it/s]"
     ]
    },
    {
     "name": "stdout",
     "output_type": "stream",
     "text": [
      "Replacing bad words in ./course_dump/week08/day1_intro_to_bayesian_statistics/naive-bayes-spam-lab/datasets_test/easy_ham/foo2234.2aa8e92a3a3cef678437167df6b0afec...\n",
      "Replacing bad words in ./course_dump/week08/day1_intro_to_bayesian_statistics/naive-bayes-spam-lab/datasets_test/easy_ham/foo2006.65d9202fe457e8c8eb1510926632d148...\n",
      "Replacing bad words in ./course_dump/week08/day1_intro_to_bayesian_statistics/naive-bayes-spam-lab/datasets_test/easy_ham/2473.2d70d3fac740804c6a280009e0418f13...\n",
      "Replacing bad words in ./course_dump/week08/day1_intro_to_bayesian_statistics/naive-bayes-spam-lab/datasets_test/easy_ham/foo1357.c307e11b21bba14e568cd03731de0119...\n",
      "Replacing bad words in ./course_dump/week08/day1_intro_to_bayesian_statistics/naive-bayes-spam-lab/datasets_test/easy_ham/1088.3386ac349cead5b5be4f4fad8ed998c1...\n"
     ]
    },
    {
     "name": "stderr",
     "output_type": "stream",
     "text": [
      "85it [00:00, 1564.52it/s]\n",
      "26it [00:00, 1690.20it/s]\n",
      "83it [00:00, 1487.73it/s]\n",
      "59it [00:00, 1493.00it/s]\n",
      "80it [00:00, 1667.81it/s]\n",
      "0it [00:00, ?it/s]"
     ]
    },
    {
     "name": "stdout",
     "output_type": "stream",
     "text": [
      "Replacing bad words in ./course_dump/week08/day1_intro_to_bayesian_statistics/naive-bayes-spam-lab/datasets_test/easy_ham/foo0187.3e01234a92697a2a414ed394ad7177ed...\n",
      "Replacing bad words in ./course_dump/week08/day1_intro_to_bayesian_statistics/naive-bayes-spam-lab/datasets_test/easy_ham/1007.b3eb1e8894835634935873cecdb4e845...\n",
      "Replacing bad words in ./course_dump/week08/day1_intro_to_bayesian_statistics/naive-bayes-spam-lab/datasets_test/easy_ham/foo0621.feb00fa392669a54bc5602f927fbae12...\n",
      "Replacing bad words in ./course_dump/week08/day1_intro_to_bayesian_statistics/naive-bayes-spam-lab/datasets_test/easy_ham/foo0677.16c583f992f1c13c9f2eb2aa58f84214...\n",
      "Replacing bad words in ./course_dump/week08/day1_intro_to_bayesian_statistics/naive-bayes-spam-lab/datasets_test/easy_ham/foo2462.5ae37f6f0ec68fd1c2dbcec70b6413c9...\n"
     ]
    },
    {
     "name": "stderr",
     "output_type": "stream",
     "text": [
      "39it [00:00, 1379.00it/s]\n",
      "45it [00:00, 1251.61it/s]\n",
      "68it [00:00, 1366.57it/s]\n",
      "125it [00:00, 1249.30it/s]"
     ]
    },
    {
     "name": "stdout",
     "output_type": "stream",
     "text": [
      "Replacing bad words in ./course_dump/week08/day1_intro_to_bayesian_statistics/naive-bayes-spam-lab/datasets_test/easy_ham/2061.19ee158fcad270f48386e9a54e903dac...\n",
      "Replacing bad words in ./course_dump/week08/day1_intro_to_bayesian_statistics/naive-bayes-spam-lab/datasets_test/easy_ham/foo0532.0a4c127cb659ebad1f4366cf3eb93b83...\n",
      "Replacing bad words in ./course_dump/week08/day1_intro_to_bayesian_statistics/naive-bayes-spam-lab/datasets_test/easy_ham/0869.3974462c46476759fb788a0b354a0f3a...\n"
     ]
    },
    {
     "name": "stderr",
     "output_type": "stream",
     "text": [
      "303it [00:00, 1352.88it/s]\n",
      "90it [00:00, 1220.00it/s]\n",
      "41it [00:00, 1089.76it/s]\n",
      "31it [00:00, 1022.98it/s]\n",
      "29it [00:00, 1659.48it/s]\n",
      "34it [00:00, 1836.50it/s]"
     ]
    },
    {
     "name": "stdout",
     "output_type": "stream",
     "text": [
      "Replacing bad words in ./course_dump/week08/day1_intro_to_bayesian_statistics/naive-bayes-spam-lab/datasets_test/easy_ham/1126.b707ed79d4930e8b4fda1eb0dcd5add8...\n",
      "Replacing bad words in ./course_dump/week08/day1_intro_to_bayesian_statistics/naive-bayes-spam-lab/datasets_test/easy_ham/foo1998.25f428334e65c83e59f238ef6e90ab85...\n",
      "Replacing bad words in ./course_dump/week08/day1_intro_to_bayesian_statistics/naive-bayes-spam-lab/datasets_test/easy_ham/foo2487.68761726d5f3f00dca1dded48e089e68...\n",
      "Replacing bad words in ./course_dump/week08/day1_intro_to_bayesian_statistics/naive-bayes-spam-lab/datasets_test/easy_ham/1849.06fb7b96d18dae121abb94e8a7624f4b...\n",
      "Replacing bad words in ./course_dump/week08/day1_intro_to_bayesian_statistics/naive-bayes-spam-lab/datasets_test/easy_ham/foo2025.d02c808f704b98db9eff4b691ad7265d...\n"
     ]
    },
    {
     "name": "stderr",
     "output_type": "stream",
     "text": [
      "\n",
      "131it [00:00, 1818.18it/s]\n",
      "146it [00:00, 1403.37it/s]\n",
      "0it [00:00, ?it/s]"
     ]
    },
    {
     "name": "stdout",
     "output_type": "stream",
     "text": [
      "Replacing bad words in ./course_dump/week08/day1_intro_to_bayesian_statistics/naive-bayes-spam-lab/datasets_test/easy_ham/0946.eb5e7c2de78b6fec81e509923689a7a4...\n",
      "Replacing bad words in ./course_dump/week08/day1_intro_to_bayesian_statistics/naive-bayes-spam-lab/datasets_test/easy_ham/0654.e2ac2ca047fa228203d83f0f094cc529...\n",
      "Replacing bad words in ./course_dump/week08/day1_intro_to_bayesian_statistics/naive-bayes-spam-lab/datasets_test/easy_ham/foo1971.1967681a51fd3f560ba230b4f1f010e2...\n"
     ]
    },
    {
     "name": "stderr",
     "output_type": "stream",
     "text": [
      "52it [00:00, 1180.00it/s]\n",
      "81it [00:00, 1374.85it/s]\n",
      "160it [00:00, 1523.31it/s]\n",
      "30it [00:00, 1572.10it/s]\n",
      "0it [00:00, ?it/s]"
     ]
    },
    {
     "name": "stdout",
     "output_type": "stream",
     "text": [
      "Replacing bad words in ./course_dump/week08/day1_intro_to_bayesian_statistics/naive-bayes-spam-lab/datasets_test/easy_ham/1173.097a84308fc696d14a7063aecfe489d2...\n",
      "Replacing bad words in ./course_dump/week08/day1_intro_to_bayesian_statistics/naive-bayes-spam-lab/datasets_test/easy_ham/0028.54cf7aa229456fb33194b3a12a713e3e...\n",
      "Replacing bad words in ./course_dump/week08/day1_intro_to_bayesian_statistics/naive-bayes-spam-lab/datasets_test/easy_ham/foo2231.e445a726e4506b0f12a314345e57f4a0...\n",
      "Replacing bad words in ./course_dump/week08/day1_intro_to_bayesian_statistics/naive-bayes-spam-lab/datasets_test/easy_ham/foo1247.b5d92ac3d2ae89f0edc14514ca366207...\n"
     ]
    },
    {
     "name": "stderr",
     "output_type": "stream",
     "text": [
      "119it [00:00, 1658.62it/s]\n",
      "77it [00:00, 1528.90it/s]\n",
      "43it [00:00, 1442.07it/s]\n",
      "30it [00:00, 1532.32it/s]\n",
      "78it [00:00, 1470.75it/s]\n",
      "30it [00:00, 1556.67it/s]\n",
      "0it [00:00, ?it/s]"
     ]
    },
    {
     "name": "stdout",
     "output_type": "stream",
     "text": [
      "Replacing bad words in ./course_dump/week08/day1_intro_to_bayesian_statistics/naive-bayes-spam-lab/datasets_test/easy_ham/0706.ef90d85cf26d95101f9f5071ac457a81...\n",
      "Replacing bad words in ./course_dump/week08/day1_intro_to_bayesian_statistics/naive-bayes-spam-lab/datasets_test/easy_ham/foo1843.22ff82ab4b9265075924f41abe0460f7...\n",
      "Replacing bad words in ./course_dump/week08/day1_intro_to_bayesian_statistics/naive-bayes-spam-lab/datasets_test/easy_ham/2493.67725941996521d187945dfaa2f19ed4...\n",
      "Replacing bad words in ./course_dump/week08/day1_intro_to_bayesian_statistics/naive-bayes-spam-lab/datasets_test/easy_ham/1295.0a074d85f629ec018959632659ee31ee...\n",
      "Replacing bad words in ./course_dump/week08/day1_intro_to_bayesian_statistics/naive-bayes-spam-lab/datasets_test/easy_ham/foo2491.7b6a8fff32b29e04a8638dbb67cd85b9...\n",
      "Replacing bad words in ./course_dump/week08/day1_intro_to_bayesian_statistics/naive-bayes-spam-lab/datasets_test/easy_ham/foo0732.63667434e8712ed16361596f40c468ed...\n"
     ]
    },
    {
     "name": "stderr",
     "output_type": "stream",
     "text": [
      "96it [00:00, 1602.04it/s]\n",
      "84it [00:00, 1529.08it/s]\n",
      "36it [00:00, 1459.51it/s]\n",
      "112it [00:00, 1623.06it/s]\n",
      "0it [00:00, ?it/s]"
     ]
    },
    {
     "name": "stdout",
     "output_type": "stream",
     "text": [
      "Replacing bad words in ./course_dump/week08/day1_intro_to_bayesian_statistics/naive-bayes-spam-lab/datasets_test/easy_ham/1559.ed17f96c32605795f5d5f88af0c79093...\n",
      "Replacing bad words in ./course_dump/week08/day1_intro_to_bayesian_statistics/naive-bayes-spam-lab/datasets_test/easy_ham/foo2036.6d6802d956648b98383d9188257a364f...\n",
      "Replacing bad words in ./course_dump/week08/day1_intro_to_bayesian_statistics/naive-bayes-spam-lab/datasets_test/easy_ham/1330.2e2ec961c9022cd26a555e4779726a05...\n",
      "Replacing bad words in ./course_dump/week08/day1_intro_to_bayesian_statistics/naive-bayes-spam-lab/datasets_test/easy_ham/foo0118.4ebb343d73a83dc935197850e507aad6...\n"
     ]
    },
    {
     "name": "stderr",
     "output_type": "stream",
     "text": [
      "165it [00:00, 1514.15it/s]\n",
      "67it [00:00, 1560.91it/s]\n",
      "44it [00:00, 1616.03it/s]\n",
      "127it [00:00, 1603.11it/s]\n",
      "0it [00:00, ?it/s]"
     ]
    },
    {
     "name": "stdout",
     "output_type": "stream",
     "text": [
      "Replacing bad words in ./course_dump/week08/day1_intro_to_bayesian_statistics/naive-bayes-spam-lab/datasets_test/easy_ham/foo0887.95cafbddb7fce33aada0e9d9bb329aa5...\n",
      "Replacing bad words in ./course_dump/week08/day1_intro_to_bayesian_statistics/naive-bayes-spam-lab/datasets_test/easy_ham/foo2018.92f706785305106c82198f4df443cb30...\n",
      "Replacing bad words in ./course_dump/week08/day1_intro_to_bayesian_statistics/naive-bayes-spam-lab/datasets_test/easy_ham/foo0161.5703ef6933a7f189ab48da12a925f5e4...\n",
      "Replacing bad words in ./course_dump/week08/day1_intro_to_bayesian_statistics/naive-bayes-spam-lab/datasets_test/easy_ham/foo1520.227b74e7890079e47c5c8890d64c1383...\n"
     ]
    },
    {
     "name": "stderr",
     "output_type": "stream",
     "text": [
      "87it [00:00, 1593.12it/s]\n",
      "68it [00:00, 1486.71it/s]\n",
      "87it [00:00, 1320.30it/s]\n",
      "21it [00:00, 1175.19it/s]\n",
      "56it [00:00, 1145.00it/s]"
     ]
    },
    {
     "name": "stdout",
     "output_type": "stream",
     "text": [
      "Replacing bad words in ./course_dump/week08/day1_intro_to_bayesian_statistics/naive-bayes-spam-lab/datasets_test/easy_ham/foo0736.0c8647e849c1d900b6af3a6c7024752d...\n",
      "Replacing bad words in ./course_dump/week08/day1_intro_to_bayesian_statistics/naive-bayes-spam-lab/datasets_test/easy_ham/foo0767.da57f04c8030dce67142b9480e532b30...\n",
      "Replacing bad words in ./course_dump/week08/day1_intro_to_bayesian_statistics/naive-bayes-spam-lab/datasets_test/easy_ham/foo1861.ace2433031b3ea150e728b34850cdceb...\n",
      "Replacing bad words in ./course_dump/week08/day1_intro_to_bayesian_statistics/naive-bayes-spam-lab/datasets_test/easy_ham/foo0895.22cf8120994972bcbe9125e842cb27ff...\n"
     ]
    },
    {
     "name": "stderr",
     "output_type": "stream",
     "text": [
      "\n",
      "96it [00:00, 1131.28it/s]\n",
      "82it [00:00, 1125.83it/s]\n",
      "39it [00:00, 1828.97it/s]\n",
      "0it [00:00, ?it/s]"
     ]
    },
    {
     "name": "stdout",
     "output_type": "stream",
     "text": [
      "Replacing bad words in ./course_dump/week08/day1_intro_to_bayesian_statistics/naive-bayes-spam-lab/datasets_test/easy_ham/1645.60a80c94ae8fec2ef1f1ef0915445400...\n",
      "Replacing bad words in ./course_dump/week08/day1_intro_to_bayesian_statistics/naive-bayes-spam-lab/datasets_test/easy_ham/1569.5a4e7eeca40257722ccbe4dee1d636fa...\n",
      "Replacing bad words in ./course_dump/week08/day1_intro_to_bayesian_statistics/naive-bayes-spam-lab/datasets_test/easy_ham/foo2544.1a95794a767c776e71893fda91f59efb...\n",
      "Replacing bad words in ./course_dump/week08/day1_intro_to_bayesian_statistics/naive-bayes-spam-lab/datasets_test/easy_ham/0059.b3b1b1d95976b70d9bbd6c39c6b8d5d2...\n"
     ]
    },
    {
     "name": "stderr",
     "output_type": "stream",
     "text": [
      "69it [00:00, 1359.11it/s]\n",
      "184it [00:00, 1324.28it/s]\n",
      "0it [00:00, ?it/s]"
     ]
    },
    {
     "name": "stdout",
     "output_type": "stream",
     "text": [
      "Replacing bad words in ./course_dump/week08/day1_intro_to_bayesian_statistics/naive-bayes-spam-lab/datasets_test/easy_ham/foo0541.ab739b149f085a5830ec76c633db2850...\n",
      "Replacing bad words in ./course_dump/week08/day1_intro_to_bayesian_statistics/naive-bayes-spam-lab/datasets_test/easy_ham/1668.c077f4f038fbdccf01f1d37a3db6f2e4...\n"
     ]
    },
    {
     "name": "stderr",
     "output_type": "stream",
     "text": [
      "121it [00:00, 1279.89it/s]\n",
      "34it [00:00, 1185.53it/s]\n",
      "78it [00:00, 1088.72it/s]\n",
      "0it [00:00, ?it/s]"
     ]
    },
    {
     "name": "stdout",
     "output_type": "stream",
     "text": [
      "Replacing bad words in ./course_dump/week08/day1_intro_to_bayesian_statistics/naive-bayes-spam-lab/datasets_test/easy_ham/foo2163.0ccb16a07546a6528885233e0a7ddfd3...\n",
      "Replacing bad words in ./course_dump/week08/day1_intro_to_bayesian_statistics/naive-bayes-spam-lab/datasets_test/easy_ham/foo1320.9e1add26a777cd027f1c9cc94d4980c8...\n",
      "Replacing bad words in ./course_dump/week08/day1_intro_to_bayesian_statistics/naive-bayes-spam-lab/datasets_test/easy_ham/foo0047.5c3e049737a2813d4ac6f13f02362fb1...\n"
     ]
    },
    {
     "name": "stderr",
     "output_type": "stream",
     "text": [
      "128it [00:00, 1093.18it/s]\n",
      "43it [00:00, 1063.01it/s]\n",
      "46it [00:00, 1119.82it/s]\n",
      "57it [00:00, 1203.39it/s]\n",
      "0it [00:00, ?it/s]"
     ]
    },
    {
     "name": "stdout",
     "output_type": "stream",
     "text": [
      "Replacing bad words in ./course_dump/week08/day1_intro_to_bayesian_statistics/naive-bayes-spam-lab/datasets_test/easy_ham/foofoo1843.22ff82ab4b9265075924f41abe0460f7...\n",
      "Replacing bad words in ./course_dump/week08/day1_intro_to_bayesian_statistics/naive-bayes-spam-lab/datasets_test/easy_ham/2483.9eb471e8645403dda2bd70c08b463faf...\n",
      "Replacing bad words in ./course_dump/week08/day1_intro_to_bayesian_statistics/naive-bayes-spam-lab/datasets_test/easy_ham/0074.78000652dcb19856e85ff9637f0e52dd...\n",
      "Replacing bad words in ./course_dump/week08/day1_intro_to_bayesian_statistics/naive-bayes-spam-lab/datasets_test/easy_ham/0389.1fe03acd5f135ac67ed7a7f35c4b3347...\n"
     ]
    },
    {
     "name": "stderr",
     "output_type": "stream",
     "text": [
      "67it [00:00, 1113.38it/s]\n",
      "27it [00:00, 1143.02it/s]\n",
      "113it [00:00, 1343.33it/s]\n",
      "74it [00:00, 1349.17it/s]\n",
      "31it [00:00, 1439.25it/s]\n"
     ]
    },
    {
     "name": "stdout",
     "output_type": "stream",
     "text": [
      "Replacing bad words in ./course_dump/week08/day1_intro_to_bayesian_statistics/naive-bayes-spam-lab/datasets_test/easy_ham/foo0068.f1c604a78739e4f966253d762c972dde...\n",
      "Replacing bad words in ./course_dump/week08/day1_intro_to_bayesian_statistics/naive-bayes-spam-lab/datasets_test/easy_ham/foo1657.41457c98e0009a99d917acfbc8f229cd...\n",
      "Replacing bad words in ./course_dump/week08/day1_intro_to_bayesian_statistics/naive-bayes-spam-lab/datasets_test/easy_ham/0884.f4a7181c5337229d1e70c587cbae9567...\n",
      "Replacing bad words in ./course_dump/week08/day1_intro_to_bayesian_statistics/naive-bayes-spam-lab/datasets_test/easy_ham/2208.77129b5469360a31de10a9f23fd7a64c...\n",
      "Replacing bad words in ./course_dump/week08/day1_intro_to_bayesian_statistics/naive-bayes-spam-lab/datasets_test/easy_ham/2179.8f1ee5b4ce8900e6d9992fa232c9286b...\n"
     ]
    },
    {
     "name": "stderr",
     "output_type": "stream",
     "text": [
      "35it [00:00, 1096.69it/s]\n",
      "42it [00:00, 1360.70it/s]\n",
      "67it [00:00, 1207.89it/s]\n",
      "94it [00:00, 1176.36it/s]\n",
      "0it [00:00, ?it/s]"
     ]
    },
    {
     "name": "stdout",
     "output_type": "stream",
     "text": [
      "Replacing bad words in ./course_dump/week08/day1_intro_to_bayesian_statistics/naive-bayes-spam-lab/datasets_test/easy_ham/foo1750.c5afcba50538a5f49d6e261f6bcfed40...\n",
      "Replacing bad words in ./course_dump/week08/day1_intro_to_bayesian_statistics/naive-bayes-spam-lab/datasets_test/easy_ham/0987.4ad8a98bfcc3968dfae0f8c4f1821d2c...\n",
      "Replacing bad words in ./course_dump/week08/day1_intro_to_bayesian_statistics/naive-bayes-spam-lab/datasets_test/easy_ham/1474.3de55dbbe581bcc06d4f5e2aa0f7b8c3...\n",
      "Replacing bad words in ./course_dump/week08/day1_intro_to_bayesian_statistics/naive-bayes-spam-lab/datasets_test/easy_ham/1930.0965a4aa5ecfe3ab06526520f7eae63a...\n"
     ]
    },
    {
     "name": "stderr",
     "output_type": "stream",
     "text": [
      "45it [00:00, 1118.71it/s]\n",
      "29it [00:00, 1398.84it/s]\n",
      "31it [00:00, 966.65it/s]\n",
      "42it [00:00, 1313.49it/s]\n",
      "0it [00:00, ?it/s]"
     ]
    },
    {
     "name": "stdout",
     "output_type": "stream",
     "text": [
      "Replacing bad words in ./course_dump/week08/day1_intro_to_bayesian_statistics/naive-bayes-spam-lab/datasets_test/easy_ham/2066.dce0718b87da2153138f0037c89fb38a...\n",
      "Replacing bad words in ./course_dump/week08/day1_intro_to_bayesian_statistics/naive-bayes-spam-lab/datasets_test/easy_ham/foo2297.8d74f69a4188439b893c12936837707d...\n",
      "Replacing bad words in ./course_dump/week08/day1_intro_to_bayesian_statistics/naive-bayes-spam-lab/datasets_test/easy_ham/foofoo1750.c5afcba50538a5f49d6e261f6bcfed40...\n",
      "Replacing bad words in ./course_dump/week08/day1_intro_to_bayesian_statistics/naive-bayes-spam-lab/datasets_test/easy_ham/0376.c0225fd19682f7ac58d090b6528af380...\n"
     ]
    },
    {
     "name": "stderr",
     "output_type": "stream",
     "text": [
      "175it [00:00, 1410.98it/s]\n",
      "56it [00:00, 1310.38it/s]\n",
      "78it [00:00, 1407.31it/s]\n",
      "44it [00:00, 1589.82it/s]\n",
      "85it [00:00, 1680.09it/s]\n",
      "19it [00:00, 1454.10it/s]\n"
     ]
    },
    {
     "name": "stdout",
     "output_type": "stream",
     "text": [
      "Replacing bad words in ./course_dump/week08/day1_intro_to_bayesian_statistics/naive-bayes-spam-lab/datasets_test/easy_ham/foo1783.3c26c587b4fe3b681981c38f90593e02...\n",
      "Replacing bad words in ./course_dump/week08/day1_intro_to_bayesian_statistics/naive-bayes-spam-lab/datasets_test/easy_ham/1288.9235f568fa35fd2fcda2c067543fbd0e...\n",
      "Replacing bad words in ./course_dump/week08/day1_intro_to_bayesian_statistics/naive-bayes-spam-lab/datasets_test/easy_ham/1778.5e3a4fdad399e2557d6921d7e938faef...\n",
      "Replacing bad words in ./course_dump/week08/day1_intro_to_bayesian_statistics/naive-bayes-spam-lab/datasets_test/easy_ham/1275.7f5370e380b5cedb37bad38bb1ea1484...\n",
      "Replacing bad words in ./course_dump/week08/day1_intro_to_bayesian_statistics/naive-bayes-spam-lab/datasets_test/easy_ham/1794.6057cf5e982869286b4742cee5639a4b...\n",
      "Replacing bad words in ./course_dump/week08/day1_intro_to_bayesian_statistics/naive-bayes-spam-lab/datasets_test/easy_ham/foo1833.3d930e2d4968f325cc6a773df09e8969...\n"
     ]
    },
    {
     "name": "stderr",
     "output_type": "stream",
     "text": [
      "28it [00:00, 1646.60it/s]\n",
      "121it [00:00, 1404.27it/s]\n",
      "29it [00:00, 1533.37it/s]\n",
      "150it [00:00, 1486.22it/s]"
     ]
    },
    {
     "name": "stdout",
     "output_type": "stream",
     "text": [
      "Replacing bad words in ./course_dump/week08/day1_intro_to_bayesian_statistics/naive-bayes-spam-lab/datasets_test/easy_ham/1284.bacf47285c3f6a514443b4d013d5736a...\n",
      "Replacing bad words in ./course_dump/week08/day1_intro_to_bayesian_statistics/naive-bayes-spam-lab/datasets_test/easy_ham/foo2224.07aac9706fc57ce094f3cd93cb05cd0d...\n",
      "Replacing bad words in ./course_dump/week08/day1_intro_to_bayesian_statistics/naive-bayes-spam-lab/datasets_test/easy_ham/0278.11523c7a537578530720c5a697c916c7...\n"
     ]
    },
    {
     "name": "stderr",
     "output_type": "stream",
     "text": [
      "167it [00:00, 1471.89it/s]\n",
      "85it [00:00, 1779.47it/s]\n",
      "82it [00:00, 1686.79it/s]\n",
      "100it [00:00, 1533.12it/s]\n",
      "0it [00:00, ?it/s]"
     ]
    },
    {
     "name": "stdout",
     "output_type": "stream",
     "text": [
      "Replacing bad words in ./course_dump/week08/day1_intro_to_bayesian_statistics/naive-bayes-spam-lab/datasets_test/easy_ham/foo1915.893a0df57d80ba1af2d3af1c591ea66b...\n",
      "Replacing bad words in ./course_dump/week08/day1_intro_to_bayesian_statistics/naive-bayes-spam-lab/datasets_test/easy_ham/1687.e69fa74557118313b26108f91a9cd6fa...\n",
      "Replacing bad words in ./course_dump/week08/day1_intro_to_bayesian_statistics/naive-bayes-spam-lab/datasets_test/easy_ham/foo0614.b5bf667c7ffd59fca7f26a8ca1f8deea...\n",
      "Replacing bad words in ./course_dump/week08/day1_intro_to_bayesian_statistics/naive-bayes-spam-lab/datasets_test/easy_ham/foo1069.7e96836785285547e3c01a6db4daa9d0...\n"
     ]
    },
    {
     "name": "stderr",
     "output_type": "stream",
     "text": [
      "119it [00:00, 1693.12it/s]\n",
      "81it [00:00, 1502.94it/s]\n",
      "247it [00:00, 1783.81it/s]\n"
     ]
    },
    {
     "name": "stdout",
     "output_type": "stream",
     "text": [
      "Replacing bad words in ./course_dump/week08/day1_intro_to_bayesian_statistics/naive-bayes-spam-lab/datasets_test/easy_ham/foo1592.e024e5de503dcf463bad5cd5c8c64210...\n",
      "Replacing bad words in ./course_dump/week08/day1_intro_to_bayesian_statistics/naive-bayes-spam-lab/datasets_test/easy_ham/foo1038.4a0af891d4474c608eb6a3ffedeb8ada...\n",
      "Replacing bad words in ./course_dump/week08/day1_intro_to_bayesian_statistics/naive-bayes-spam-lab/datasets_test/easy_ham/foo1994.229d82d8a3ec1e099e6c8904faaaa32a...\n"
     ]
    },
    {
     "name": "stderr",
     "output_type": "stream",
     "text": [
      "35it [00:00, 1675.29it/s]\n",
      "103it [00:00, 1591.61it/s]\n",
      "82it [00:00, 1205.21it/s]\n",
      "0it [00:00, ?it/s]"
     ]
    },
    {
     "name": "stdout",
     "output_type": "stream",
     "text": [
      "Replacing bad words in ./course_dump/week08/day1_intro_to_bayesian_statistics/naive-bayes-spam-lab/datasets_test/easy_ham/foo1040.0975203bad39968cfceadfcd68a9242b...\n",
      "Replacing bad words in ./course_dump/week08/day1_intro_to_bayesian_statistics/naive-bayes-spam-lab/datasets_test/easy_ham/foo1524.d18213f1cf68518e719dccd3717e4255...\n",
      "Replacing bad words in ./course_dump/week08/day1_intro_to_bayesian_statistics/naive-bayes-spam-lab/datasets_test/easy_ham/1545.f12974e0310c366731631a0a62980b5c...\n"
     ]
    },
    {
     "name": "stderr",
     "output_type": "stream",
     "text": [
      "95it [00:00, 1110.93it/s]\n",
      "78it [00:00, 1719.55it/s]\n",
      "93it [00:00, 1451.27it/s]\n",
      "30it [00:00, 1501.13it/s]\n",
      "78it [00:00, 1542.95it/s]\n",
      "25it [00:00, 1560.47it/s]"
     ]
    },
    {
     "name": "stdout",
     "output_type": "stream",
     "text": [
      "Replacing bad words in ./course_dump/week08/day1_intro_to_bayesian_statistics/naive-bayes-spam-lab/datasets_test/easy_ham/1734.8ce5e8ddf445f56cb18afa778b07df0b...\n",
      "Replacing bad words in ./course_dump/week08/day1_intro_to_bayesian_statistics/naive-bayes-spam-lab/datasets_test/easy_ham/1201.ecb357d3156544c58b58b4552635629d...\n",
      "Replacing bad words in ./course_dump/week08/day1_intro_to_bayesian_statistics/naive-bayes-spam-lab/datasets_test/easy_ham/foo2383.eb56138ab20d3747c95e7e0dc4e07158...\n",
      "Replacing bad words in ./course_dump/week08/day1_intro_to_bayesian_statistics/naive-bayes-spam-lab/datasets_test/easy_ham/foo1136.b12b9479134d3bab39dd5101720b062f...\n",
      "Replacing bad words in ./course_dump/week08/day1_intro_to_bayesian_statistics/naive-bayes-spam-lab/datasets_test/easy_ham/foofoo1793.c20b0ff2930d9b36d7aa70e54939d12c...\n"
     ]
    },
    {
     "name": "stderr",
     "output_type": "stream",
     "text": [
      "\n",
      "51it [00:00, 1351.21it/s]\n",
      "60it [00:00, 1345.87it/s]\n",
      "80it [00:00, 1318.22it/s]\n",
      "73it [00:00, 1640.84it/s]"
     ]
    },
    {
     "name": "stdout",
     "output_type": "stream",
     "text": [
      "Replacing bad words in ./course_dump/week08/day1_intro_to_bayesian_statistics/naive-bayes-spam-lab/datasets_test/easy_ham/2021.adcaa7be43b7bdc9828ada336c0eb7ec...\n",
      "Replacing bad words in ./course_dump/week08/day1_intro_to_bayesian_statistics/naive-bayes-spam-lab/datasets_test/easy_ham/0263.ffa4db454754b3c66fd025e92912941e...\n",
      "Replacing bad words in ./course_dump/week08/day1_intro_to_bayesian_statistics/naive-bayes-spam-lab/datasets_test/easy_ham/0026.6baf1aea162ccb9a6e9f142c0715ceb4...\n",
      "Replacing bad words in ./course_dump/week08/day1_intro_to_bayesian_statistics/naive-bayes-spam-lab/datasets_test/easy_ham/1348.79cf2ab14db2301670710f9d1feaddda...\n"
     ]
    },
    {
     "name": "stderr",
     "output_type": "stream",
     "text": [
      "\n",
      "90it [00:00, 1565.62it/s]\n",
      "97it [00:00, 1470.53it/s]\n",
      "30it [00:00, 1782.31it/s]\n",
      "35it [00:00, 1425.19it/s]\n",
      "29it [00:00, 1502.63it/s]\n",
      "37it [00:00, 1582.09it/s]\n",
      "0it [00:00, ?it/s]"
     ]
    },
    {
     "name": "stdout",
     "output_type": "stream",
     "text": [
      "Replacing bad words in ./course_dump/week08/day1_intro_to_bayesian_statistics/naive-bayes-spam-lab/datasets_test/easy_ham/0313.6668b975a285edaaecc0aac3b36d3fa8...\n",
      "Replacing bad words in ./course_dump/week08/day1_intro_to_bayesian_statistics/naive-bayes-spam-lab/datasets_test/easy_ham/foo1206.c2cc53dbf20904a052845fd3db08b072...\n",
      "Replacing bad words in ./course_dump/week08/day1_intro_to_bayesian_statistics/naive-bayes-spam-lab/datasets_test/easy_ham/0176.bd5ef61e0c89ec035829f06f3fe5c7f8...\n",
      "Replacing bad words in ./course_dump/week08/day1_intro_to_bayesian_statistics/naive-bayes-spam-lab/datasets_test/easy_ham/foo2009.9f155332772871c05e2b980a153ff31e...\n",
      "Replacing bad words in ./course_dump/week08/day1_intro_to_bayesian_statistics/naive-bayes-spam-lab/datasets_test/easy_ham/2102.3e4d0d62c48f88848cae23194ca6f859...\n",
      "Replacing bad words in ./course_dump/week08/day1_intro_to_bayesian_statistics/naive-bayes-spam-lab/datasets_test/easy_ham/foo1797.5bae1500a6c23344cde8b81dd95a2dd7...\n",
      "Replacing bad words in ./course_dump/week08/day1_intro_to_bayesian_statistics/naive-bayes-spam-lab/datasets_test/easy_ham/foo1394.3ed871ba71edd281c9dbf0d5db738842...\n"
     ]
    },
    {
     "name": "stderr",
     "output_type": "stream",
     "text": [
      "176it [00:00, 1604.10it/s]\n",
      "81it [00:00, 1420.90it/s]\n",
      "51it [00:00, 1296.22it/s]\n",
      "0it [00:00, ?it/s]"
     ]
    },
    {
     "name": "stdout",
     "output_type": "stream",
     "text": [
      "Replacing bad words in ./course_dump/week08/day1_intro_to_bayesian_statistics/naive-bayes-spam-lab/datasets_test/easy_ham/1283.15624a2ea079397d2638caa74f8bd17d...\n",
      "Replacing bad words in ./course_dump/week08/day1_intro_to_bayesian_statistics/naive-bayes-spam-lab/datasets_test/easy_ham/foofoo2021.adcaa7be43b7bdc9828ada336c0eb7ec...\n",
      "Replacing bad words in ./course_dump/week08/day1_intro_to_bayesian_statistics/naive-bayes-spam-lab/datasets_test/easy_ham/foo1043.701d8a6b948c0e1406a85fc621497237...\n"
     ]
    },
    {
     "name": "stderr",
     "output_type": "stream",
     "text": [
      "188it [00:00, 1482.85it/s]\n",
      "84it [00:00, 1407.32it/s]\n",
      "40it [00:00, 1594.61it/s]\n",
      "43it [00:00, 1305.50it/s]\n",
      "37it [00:00, 1570.03it/s]\n",
      "0it [00:00, ?it/s]"
     ]
    },
    {
     "name": "stdout",
     "output_type": "stream",
     "text": [
      "Replacing bad words in ./course_dump/week08/day1_intro_to_bayesian_statistics/naive-bayes-spam-lab/datasets_test/easy_ham/0670.4d4f5d10e1bcf26a5438defe1188dc57...\n",
      "Replacing bad words in ./course_dump/week08/day1_intro_to_bayesian_statistics/naive-bayes-spam-lab/datasets_test/easy_ham/foo2529.c3856b9d7d098309eb71e3ed1993aa31...\n",
      "Replacing bad words in ./course_dump/week08/day1_intro_to_bayesian_statistics/naive-bayes-spam-lab/datasets_test/easy_ham/1744.af4f10c1dad2aea2637aa8cd093adc34...\n",
      "Replacing bad words in ./course_dump/week08/day1_intro_to_bayesian_statistics/naive-bayes-spam-lab/datasets_test/easy_ham/1797.5bae1500a6c23344cde8b81dd95a2dd7...\n",
      "Replacing bad words in ./course_dump/week08/day1_intro_to_bayesian_statistics/naive-bayes-spam-lab/datasets_test/easy_ham/foo0749.63721d934e13093d300263cb31da380b...\n"
     ]
    },
    {
     "name": "stderr",
     "output_type": "stream",
     "text": [
      "68it [00:00, 1682.46it/s]\n",
      "132it [00:00, 1596.96it/s]\n",
      "93it [00:00, 1431.68it/s]\n",
      "0it [00:00, ?it/s]"
     ]
    },
    {
     "name": "stdout",
     "output_type": "stream",
     "text": [
      "Replacing bad words in ./course_dump/week08/day1_intro_to_bayesian_statistics/naive-bayes-spam-lab/datasets_test/easy_ham/foo0573.afc1bc63378e7961549e4bf789461719...\n",
      "Replacing bad words in ./course_dump/week08/day1_intro_to_bayesian_statistics/naive-bayes-spam-lab/datasets_test/easy_ham/1073.3c644d088e1e9201208b906f0f062c48...\n",
      "Replacing bad words in ./course_dump/week08/day1_intro_to_bayesian_statistics/naive-bayes-spam-lab/datasets_test/easy_ham/0264.a1183a59e4f0a71e80378d9404a3212f...\n"
     ]
    },
    {
     "name": "stderr",
     "output_type": "stream",
     "text": [
      "65it [00:00, 1354.10it/s]\n",
      "30it [00:00, 1139.52it/s]\n",
      "64it [00:00, 1501.57it/s]\n",
      "66it [00:00, 1559.09it/s]\n",
      "71it [00:00, 1370.16it/s]\n",
      "0it [00:00, ?it/s]"
     ]
    },
    {
     "name": "stdout",
     "output_type": "stream",
     "text": [
      "Replacing bad words in ./course_dump/week08/day1_intro_to_bayesian_statistics/naive-bayes-spam-lab/datasets_test/easy_ham/foo0179.dee566fc951284d1d3bd3a0fdae63f4d...\n",
      "Replacing bad words in ./course_dump/week08/day1_intro_to_bayesian_statistics/naive-bayes-spam-lab/datasets_test/easy_ham/foo0212.28ec74e3e60f9ea866ee8ef8e429254b...\n",
      "Replacing bad words in ./course_dump/week08/day1_intro_to_bayesian_statistics/naive-bayes-spam-lab/datasets_test/easy_ham/foo0937.48b048dffa327b97d0ca68cd19d254ea...\n",
      "Replacing bad words in ./course_dump/week08/day1_intro_to_bayesian_statistics/naive-bayes-spam-lab/datasets_test/easy_ham/foo0493.5517cd8d833b17156176a79149073a46...\n",
      "Replacing bad words in ./course_dump/week08/day1_intro_to_bayesian_statistics/naive-bayes-spam-lab/datasets_test/easy_ham/foo1410.8a6f57da7baff41f04a9d273a8dcf8c6...\n"
     ]
    },
    {
     "name": "stderr",
     "output_type": "stream",
     "text": [
      "100it [00:00, 1547.17it/s]\n",
      "99it [00:00, 1896.51it/s]\n",
      "56it [00:00, 1684.39it/s]\n",
      "73it [00:00, 1715.54it/s]\n",
      "38it [00:00, 1451.26it/s]\n",
      "55it [00:00, 1659.37it/s]"
     ]
    },
    {
     "name": "stdout",
     "output_type": "stream",
     "text": [
      "Replacing bad words in ./course_dump/week08/day1_intro_to_bayesian_statistics/naive-bayes-spam-lab/datasets_test/easy_ham/0688.0c95af46930f4b1c6917030045619a50...\n",
      "Replacing bad words in ./course_dump/week08/day1_intro_to_bayesian_statistics/naive-bayes-spam-lab/datasets_test/easy_ham/foo0674.491042298959b1aed91c95ae2beaece2...\n",
      "Replacing bad words in ./course_dump/week08/day1_intro_to_bayesian_statistics/naive-bayes-spam-lab/datasets_test/easy_ham/foo0002.b3120c4bcbf3101e661161ee7efcb8bf...\n",
      "Replacing bad words in ./course_dump/week08/day1_intro_to_bayesian_statistics/naive-bayes-spam-lab/datasets_test/easy_ham/foo2414.9762e257ad9e6b6633dba8432ffb90de...\n",
      "Replacing bad words in ./course_dump/week08/day1_intro_to_bayesian_statistics/naive-bayes-spam-lab/datasets_test/easy_ham/2120.81c9273dfa6150205f929cd334593818...\n"
     ]
    },
    {
     "name": "stderr",
     "output_type": "stream",
     "text": [
      "\n",
      "100it [00:00, 1449.75it/s]\n",
      "80it [00:00, 1549.24it/s]\n",
      "33it [00:00, 1334.95it/s]\n",
      "0it [00:00, ?it/s]"
     ]
    },
    {
     "name": "stdout",
     "output_type": "stream",
     "text": [
      "Replacing bad words in ./course_dump/week08/day1_intro_to_bayesian_statistics/naive-bayes-spam-lab/datasets_test/easy_ham/foo0933.60c6d3ae44d1762d461652d5d0ccb285...\n",
      "Replacing bad words in ./course_dump/week08/day1_intro_to_bayesian_statistics/naive-bayes-spam-lab/datasets_test/easy_ham/foo0170.154c82ae0e1ccc4c9290aa1fa4de7b43...\n",
      "Replacing bad words in ./course_dump/week08/day1_intro_to_bayesian_statistics/naive-bayes-spam-lab/datasets_test/easy_ham/2188.1443da009610f008935853cd3473f1dd...\n",
      "Replacing bad words in ./course_dump/week08/day1_intro_to_bayesian_statistics/naive-bayes-spam-lab/datasets_test/easy_ham/foo1269.7820a9dc465e4d9eb8b2184d98fb9b3b...\n"
     ]
    },
    {
     "name": "stderr",
     "output_type": "stream",
     "text": [
      "151it [00:00, 1160.52it/s]\n",
      "118it [00:00, 1510.36it/s]\n",
      "78it [00:00, 1476.35it/s]\n",
      "0it [00:00, ?it/s]"
     ]
    },
    {
     "name": "stdout",
     "output_type": "stream",
     "text": [
      "Replacing bad words in ./course_dump/week08/day1_intro_to_bayesian_statistics/naive-bayes-spam-lab/datasets_test/easy_ham/1030.9a38ec315e2e8926085a560e36f977b8...\n",
      "Replacing bad words in ./course_dump/week08/day1_intro_to_bayesian_statistics/naive-bayes-spam-lab/datasets_test/easy_ham/0004.e8d5727378ddde5c3be181df593f1712...\n",
      "Replacing bad words in ./course_dump/week08/day1_intro_to_bayesian_statistics/naive-bayes-spam-lab/datasets_test/easy_ham/foo1228.0e851b082d2c4200347accef882549eb...\n"
     ]
    },
    {
     "name": "stderr",
     "output_type": "stream",
     "text": [
      "99it [00:00, 1427.07it/s]\n",
      "66it [00:00, 1425.09it/s]\n",
      "81it [00:00, 1559.29it/s]\n",
      "68it [00:00, 1418.83it/s]\n",
      "72it [00:00, 1570.66it/s]"
     ]
    },
    {
     "name": "stdout",
     "output_type": "stream",
     "text": [
      "Replacing bad words in ./course_dump/week08/day1_intro_to_bayesian_statistics/naive-bayes-spam-lab/datasets_test/easy_ham/foo0464.9699fdf835af939a7e52e229a2d62d8d...\n",
      "Replacing bad words in ./course_dump/week08/day1_intro_to_bayesian_statistics/naive-bayes-spam-lab/datasets_test/easy_ham/1305.079d27bad970916d43f450d17afb2be2...\n",
      "Replacing bad words in ./course_dump/week08/day1_intro_to_bayesian_statistics/naive-bayes-spam-lab/datasets_test/easy_ham/0015.a9ff8d7550759f6ab62cc200bdf156e7...\n",
      "Replacing bad words in ./course_dump/week08/day1_intro_to_bayesian_statistics/naive-bayes-spam-lab/datasets_test/easy_ham/foo1919.cf8a285d68ba4ce64b50b5b463a80808...\n"
     ]
    },
    {
     "name": "stderr",
     "output_type": "stream",
     "text": [
      "\n",
      "31it [00:00, 1540.45it/s]\n",
      "81it [00:00, 1653.09it/s]\n",
      "77it [00:00, 1405.17it/s]\n",
      "61it [00:00, 1656.60it/s]\n",
      "0it [00:00, ?it/s]"
     ]
    },
    {
     "name": "stdout",
     "output_type": "stream",
     "text": [
      "Replacing bad words in ./course_dump/week08/day1_intro_to_bayesian_statistics/naive-bayes-spam-lab/datasets_test/easy_ham/2506.7acaf086619d33409b90223fe066589a...\n",
      "Replacing bad words in ./course_dump/week08/day1_intro_to_bayesian_statistics/naive-bayes-spam-lab/datasets_test/easy_ham/foo1194.ee628dd00ae3eea31232d0e78a39c9b2...\n",
      "Replacing bad words in ./course_dump/week08/day1_intro_to_bayesian_statistics/naive-bayes-spam-lab/datasets_test/easy_ham/0563.cc76540c47ac49aa8dcbe801e8380b36...\n",
      "Replacing bad words in ./course_dump/week08/day1_intro_to_bayesian_statistics/naive-bayes-spam-lab/datasets_test/easy_ham/0704.f62f0ee295a7f648249c8104a8e45843...\n",
      "Replacing bad words in ./course_dump/week08/day1_intro_to_bayesian_statistics/naive-bayes-spam-lab/datasets_test/easy_ham/foo1704.98026ace6376f17790b5fa811ed10d34...\n"
     ]
    },
    {
     "name": "stderr",
     "output_type": "stream",
     "text": [
      "73it [00:00, 1385.48it/s]\n",
      "31it [00:00, 1468.28it/s]\n",
      "154it [00:00, 1546.58it/s]\n",
      "77it [00:00, 1574.19it/s]\n",
      "0it [00:00, ?it/s]"
     ]
    },
    {
     "name": "stdout",
     "output_type": "stream",
     "text": [
      "Replacing bad words in ./course_dump/week08/day1_intro_to_bayesian_statistics/naive-bayes-spam-lab/datasets_test/easy_ham/foo2136.a8504a5e292f715028c581ae28f1186d...\n",
      "Replacing bad words in ./course_dump/week08/day1_intro_to_bayesian_statistics/naive-bayes-spam-lab/datasets_test/easy_ham/foo1246.30234e4c9aedace42e5472e1a21aaf64...\n",
      "Replacing bad words in ./course_dump/week08/day1_intro_to_bayesian_statistics/naive-bayes-spam-lab/datasets_test/easy_ham/1446.bc3115f3d75b0ce0461b74a9c136831b...\n",
      "Replacing bad words in ./course_dump/week08/day1_intro_to_bayesian_statistics/naive-bayes-spam-lab/datasets_test/easy_ham/1554.879f87b39484ac517e0950eeb5f7e0e8...\n"
     ]
    },
    {
     "name": "stderr",
     "output_type": "stream",
     "text": [
      "143it [00:00, 1735.52it/s]\n",
      "75it [00:00, 1654.14it/s]\n",
      "99it [00:00, 1476.52it/s]\n",
      "33it [00:00, 1801.72it/s]\n",
      "0it [00:00, ?it/s]"
     ]
    },
    {
     "name": "stdout",
     "output_type": "stream",
     "text": [
      "Replacing bad words in ./course_dump/week08/day1_intro_to_bayesian_statistics/naive-bayes-spam-lab/datasets_test/easy_ham/1874.465e3ebd33979810b218e99812b4cb72...\n",
      "Replacing bad words in ./course_dump/week08/day1_intro_to_bayesian_statistics/naive-bayes-spam-lab/datasets_test/easy_ham/foo1004.5929fd886f8e9544a98c383b41f554bb...\n",
      "Replacing bad words in ./course_dump/week08/day1_intro_to_bayesian_statistics/naive-bayes-spam-lab/datasets_test/easy_ham/foo2191.7e6d60764803b91bc8811ea198a3b80d...\n",
      "Replacing bad words in ./course_dump/week08/day1_intro_to_bayesian_statistics/naive-bayes-spam-lab/datasets_test/easy_ham/1036.8c6e8c189738f671c5fd1cb2b1791317...\n"
     ]
    },
    {
     "name": "stderr",
     "output_type": "stream",
     "text": [
      "174it [00:00, 1736.91it/s]\n",
      "26it [00:00, 1510.90it/s]\n",
      "17it [00:00, 1348.98it/s]\n",
      "90it [00:00, 1594.59it/s]\n",
      "85it [00:00, 1505.04it/s]\n",
      "0it [00:00, ?it/s]"
     ]
    },
    {
     "name": "stdout",
     "output_type": "stream",
     "text": [
      "Replacing bad words in ./course_dump/week08/day1_intro_to_bayesian_statistics/naive-bayes-spam-lab/datasets_test/easy_ham/foo1754.7cafcb2d9dcaadd665afabc65c267f36...\n",
      "Replacing bad words in ./course_dump/week08/day1_intro_to_bayesian_statistics/naive-bayes-spam-lab/datasets_test/easy_ham/1792.f3dfa7db118b7738bcdaa1cd81a0f1e2...\n",
      "Replacing bad words in ./course_dump/week08/day1_intro_to_bayesian_statistics/naive-bayes-spam-lab/datasets_test/easy_ham/foo1590.8d27eaf596403ade34f593db10eb8f28...\n",
      "Replacing bad words in ./course_dump/week08/day1_intro_to_bayesian_statistics/naive-bayes-spam-lab/datasets_test/easy_ham/0408.3e476c9b90944c3b5fccdb2055bce897...\n",
      "Replacing bad words in ./course_dump/week08/day1_intro_to_bayesian_statistics/naive-bayes-spam-lab/datasets_test/easy_ham/foo1421.de48021cb7ef96adfb4ead44c1f0f37e...\n"
     ]
    },
    {
     "name": "stderr",
     "output_type": "stream",
     "text": [
      "62it [00:00, 1525.59it/s]\n",
      "133it [00:00, 1544.86it/s]\n",
      "128it [00:00, 1784.11it/s]\n",
      "51it [00:00, 1531.27it/s]\n"
     ]
    },
    {
     "name": "stdout",
     "output_type": "stream",
     "text": [
      "Replacing bad words in ./course_dump/week08/day1_intro_to_bayesian_statistics/naive-bayes-spam-lab/datasets_test/easy_ham/1166.8a9dbee6ac67226f58a80c0993a700e2...\n",
      "Replacing bad words in ./course_dump/week08/day1_intro_to_bayesian_statistics/naive-bayes-spam-lab/datasets_test/easy_ham/foo1234.30168dbefeafcbbd7649c9153a182482...\n",
      "Replacing bad words in ./course_dump/week08/day1_intro_to_bayesian_statistics/naive-bayes-spam-lab/datasets_test/easy_ham/foo2021.adcaa7be43b7bdc9828ada336c0eb7ec...\n"
     ]
    },
    {
     "name": "stderr",
     "output_type": "stream",
     "text": [
      "31it [00:00, 1530.89it/s]\n",
      "39it [00:00, 1981.39it/s]\n",
      "54it [00:00, 1495.83it/s]\n",
      "104it [00:00, 1657.08it/s]\n",
      "0it [00:00, ?it/s]"
     ]
    },
    {
     "name": "stdout",
     "output_type": "stream",
     "text": [
      "Replacing bad words in ./course_dump/week08/day1_intro_to_bayesian_statistics/naive-bayes-spam-lab/datasets_test/easy_ham/2172.356c6cdae52c866f32e0e62ab082801c...\n",
      "Replacing bad words in ./course_dump/week08/day1_intro_to_bayesian_statistics/naive-bayes-spam-lab/datasets_test/easy_ham/2532.8b61e23f6e94d8b2303554395d0374e5...\n",
      "Replacing bad words in ./course_dump/week08/day1_intro_to_bayesian_statistics/naive-bayes-spam-lab/datasets_test/easy_ham/foofoo2278.4b1725f297a28cc4201e126b5cc0802f...\n",
      "Replacing bad words in ./course_dump/week08/day1_intro_to_bayesian_statistics/naive-bayes-spam-lab/datasets_test/easy_ham/0701.d1b59654f45ee3ccfcc3c6fe257daaf8...\n",
      "Replacing bad words in ./course_dump/week08/day1_intro_to_bayesian_statistics/naive-bayes-spam-lab/datasets_test/easy_ham/0611.4a47b06e83edee6c61ba37d1be2a09d0...\n"
     ]
    },
    {
     "name": "stderr",
     "output_type": "stream",
     "text": [
      "184it [00:00, 1594.29it/s]\n",
      "31it [00:00, 1205.43it/s]\n",
      "67it [00:00, 1577.56it/s]\n",
      "29it [00:00, 1584.86it/s]\n",
      "61it [00:00, 1644.38it/s]\n",
      "0it [00:00, ?it/s]"
     ]
    },
    {
     "name": "stdout",
     "output_type": "stream",
     "text": [
      "Replacing bad words in ./course_dump/week08/day1_intro_to_bayesian_statistics/naive-bayes-spam-lab/datasets_test/easy_ham/foo2122.687e20ef89e6c2fb7f6a3ce98970de3e...\n",
      "Replacing bad words in ./course_dump/week08/day1_intro_to_bayesian_statistics/naive-bayes-spam-lab/datasets_test/easy_ham/1012.71b3b80343e48636bae04ff93a4446bf...\n",
      "Replacing bad words in ./course_dump/week08/day1_intro_to_bayesian_statistics/naive-bayes-spam-lab/datasets_test/easy_ham/2226.e9d405fa9921c5adcce9436a26f5bff4...\n",
      "Replacing bad words in ./course_dump/week08/day1_intro_to_bayesian_statistics/naive-bayes-spam-lab/datasets_test/easy_ham/foo0107.2447a90f32ab7642ff8309d41c242db2...\n",
      "Replacing bad words in ./course_dump/week08/day1_intro_to_bayesian_statistics/naive-bayes-spam-lab/datasets_test/easy_ham/1590.8d27eaf596403ade34f593db10eb8f28...\n"
     ]
    },
    {
     "name": "stderr",
     "output_type": "stream",
     "text": [
      "90it [00:00, 1567.12it/s]\n",
      "74it [00:00, 1266.59it/s]\n",
      "80it [00:00, 1531.03it/s]\n",
      "120it [00:00, 1532.58it/s]\n",
      "0it [00:00, ?it/s]"
     ]
    },
    {
     "name": "stdout",
     "output_type": "stream",
     "text": [
      "Replacing bad words in ./course_dump/week08/day1_intro_to_bayesian_statistics/naive-bayes-spam-lab/datasets_test/easy_ham/0071.75403094cab986a246c1e7ce3460e827...\n",
      "Replacing bad words in ./course_dump/week08/day1_intro_to_bayesian_statistics/naive-bayes-spam-lab/datasets_test/easy_ham/foo1692.56e3001bcfb5d947babc892cda37ab3d...\n",
      "Replacing bad words in ./course_dump/week08/day1_intro_to_bayesian_statistics/naive-bayes-spam-lab/datasets_test/easy_ham/1530.fda9cfd3e1881b3e8c823a35b618f897...\n",
      "Replacing bad words in ./course_dump/week08/day1_intro_to_bayesian_statistics/naive-bayes-spam-lab/datasets_test/easy_ham/foo0635.9df0cec793507fcd3cab877c7d7616be...\n"
     ]
    },
    {
     "name": "stderr",
     "output_type": "stream",
     "text": [
      "80it [00:00, 1075.52it/s]\n",
      "95it [00:00, 1349.17it/s]\n",
      "98it [00:00, 1541.80it/s]\n",
      "32it [00:00, 1564.16it/s]\n",
      "0it [00:00, ?it/s]"
     ]
    },
    {
     "name": "stdout",
     "output_type": "stream",
     "text": [
      "Replacing bad words in ./course_dump/week08/day1_intro_to_bayesian_statistics/naive-bayes-spam-lab/datasets_test/easy_ham/0195.9805aa7e0cec44d00677990ad4db450d...\n",
      "Replacing bad words in ./course_dump/week08/day1_intro_to_bayesian_statistics/naive-bayes-spam-lab/datasets_test/easy_ham/foo1144.105b5e507aa84b76d4b580be8b0bcd90...\n",
      "Replacing bad words in ./course_dump/week08/day1_intro_to_bayesian_statistics/naive-bayes-spam-lab/datasets_test/easy_ham/2134.6cdd3f522ea2e84ddbc75ad2d594b3a5...\n",
      "Replacing bad words in ./course_dump/week08/day1_intro_to_bayesian_statistics/naive-bayes-spam-lab/datasets_test/easy_ham/1048.8944cf897b72c824c5a144378cd0c4b3...\n"
     ]
    },
    {
     "name": "stderr",
     "output_type": "stream",
     "text": [
      "145it [00:00, 1570.28it/s]\n",
      "182it [00:00, 1542.19it/s]\n",
      "100it [00:00, 1631.75it/s]\n",
      "0it [00:00, ?it/s]"
     ]
    },
    {
     "name": "stdout",
     "output_type": "stream",
     "text": [
      "Replacing bad words in ./course_dump/week08/day1_intro_to_bayesian_statistics/naive-bayes-spam-lab/datasets_test/easy_ham/0841.c178b14279ed5f5f9e5be2abac186b3c...\n",
      "Replacing bad words in ./course_dump/week08/day1_intro_to_bayesian_statistics/naive-bayes-spam-lab/datasets_test/easy_ham/foofoo0933.60c6d3ae44d1762d461652d5d0ccb285...\n",
      "Replacing bad words in ./course_dump/week08/day1_intro_to_bayesian_statistics/naive-bayes-spam-lab/datasets_test/easy_ham/foo1732.f90c4a8e1ef88d4802f7fc139a85fc13...\n"
     ]
    },
    {
     "name": "stderr",
     "output_type": "stream",
     "text": [
      "119it [00:00, 1515.04it/s]\n",
      "27it [00:00, 1809.25it/s]\n",
      "78it [00:00, 1539.78it/s]\n",
      "68it [00:00, 1378.25it/s]\n",
      "33it [00:00, 1535.27it/s]\n",
      "0it [00:00, ?it/s]"
     ]
    },
    {
     "name": "stdout",
     "output_type": "stream",
     "text": [
      "Replacing bad words in ./course_dump/week08/day1_intro_to_bayesian_statistics/naive-bayes-spam-lab/datasets_test/easy_ham/1860.994c77afc8d6fb072d8b95ccfdf09627...\n",
      "Replacing bad words in ./course_dump/week08/day1_intro_to_bayesian_statistics/naive-bayes-spam-lab/datasets_test/easy_ham/1141.42ab0fa28e1e4653f538879dcf15a368...\n",
      "Replacing bad words in ./course_dump/week08/day1_intro_to_bayesian_statistics/naive-bayes-spam-lab/datasets_test/easy_ham/0815.a212f32e210b815e2663ca5fd624aa58...\n",
      "Replacing bad words in ./course_dump/week08/day1_intro_to_bayesian_statistics/naive-bayes-spam-lab/datasets_test/easy_ham/foo1841.780eecf7f0db1db00bd0a6248de51260...\n",
      "Replacing bad words in ./course_dump/week08/day1_intro_to_bayesian_statistics/naive-bayes-spam-lab/datasets_test/easy_ham/foo0522.19fc2c700f36b246f3e1fb0807ce03fa...\n"
     ]
    },
    {
     "name": "stderr",
     "output_type": "stream",
     "text": [
      "104it [00:00, 1535.63it/s]\n",
      "142it [00:00, 1610.32it/s]\n",
      "68it [00:00, 1675.69it/s]\n",
      "61it [00:00, 1385.23it/s]\n",
      "0it [00:00, ?it/s]"
     ]
    },
    {
     "name": "stdout",
     "output_type": "stream",
     "text": [
      "Replacing bad words in ./course_dump/week08/day1_intro_to_bayesian_statistics/naive-bayes-spam-lab/datasets_test/easy_ham/1374.58a88abf493ddcd871bafea6b40fee7d...\n",
      "Replacing bad words in ./course_dump/week08/day1_intro_to_bayesian_statistics/naive-bayes-spam-lab/datasets_test/easy_ham/foo0152.10d3220188413990b1deb862c509c818...\n",
      "Replacing bad words in ./course_dump/week08/day1_intro_to_bayesian_statistics/naive-bayes-spam-lab/datasets_test/easy_ham/foo0117.fbc79c02a2c13d6c9b36f9ba38a09170...\n",
      "Replacing bad words in ./course_dump/week08/day1_intro_to_bayesian_statistics/naive-bayes-spam-lab/datasets_test/easy_ham/foo2481.03fe35f728922f8cf6d9b69771da462e...\n"
     ]
    },
    {
     "name": "stderr",
     "output_type": "stream",
     "text": [
      "34it [00:00, 1591.09it/s]\n",
      "71it [00:00, 1536.65it/s]\n",
      "100it [00:00, 1691.58it/s]\n",
      "38it [00:00, 1542.84it/s]\n",
      "0it [00:00, ?it/s]"
     ]
    },
    {
     "name": "stdout",
     "output_type": "stream",
     "text": [
      "Replacing bad words in ./course_dump/week08/day1_intro_to_bayesian_statistics/naive-bayes-spam-lab/datasets_test/easy_ham/foo1600.7d1caa5855ff06f37269178401aff693...\n",
      "Replacing bad words in ./course_dump/week08/day1_intro_to_bayesian_statistics/naive-bayes-spam-lab/datasets_test/easy_ham/0922.a8294319249f0b1dc50067de2cf937db...\n",
      "Replacing bad words in ./course_dump/week08/day1_intro_to_bayesian_statistics/naive-bayes-spam-lab/datasets_test/easy_ham/foo2533.ba0ac203656046766a368dbc29cf36a6...\n",
      "Replacing bad words in ./course_dump/week08/day1_intro_to_bayesian_statistics/naive-bayes-spam-lab/datasets_test/easy_ham/1586.f2032491ca27076af18575e9ab78abcb...\n"
     ]
    },
    {
     "name": "stderr",
     "output_type": "stream",
     "text": [
      "78it [00:00, 1487.36it/s]\n",
      "34it [00:00, 1528.96it/s]\n",
      "127it [00:00, 1694.19it/s]\n",
      "113it [00:00, 1611.43it/s]\n",
      "0it [00:00, ?it/s]"
     ]
    },
    {
     "name": "stdout",
     "output_type": "stream",
     "text": [
      "Replacing bad words in ./course_dump/week08/day1_intro_to_bayesian_statistics/naive-bayes-spam-lab/datasets_test/easy_ham/foo2308.8b4818fe0a951cd1c03cfad294778951...\n",
      "Replacing bad words in ./course_dump/week08/day1_intro_to_bayesian_statistics/naive-bayes-spam-lab/datasets_test/easy_ham/foo0444.58dd409fb0fc0d853c6b9042560c6ae1...\n",
      "Replacing bad words in ./course_dump/week08/day1_intro_to_bayesian_statistics/naive-bayes-spam-lab/datasets_test/easy_ham/foo0221.32f8ba14e3285ddafb44327f88a70aa5...\n",
      "Replacing bad words in ./course_dump/week08/day1_intro_to_bayesian_statistics/naive-bayes-spam-lab/datasets_test/easy_ham/0887.95cafbddb7fce33aada0e9d9bb329aa5...\n"
     ]
    },
    {
     "name": "stderr",
     "output_type": "stream",
     "text": [
      "67it [00:00, 1640.75it/s]\n",
      "59it [00:00, 1373.99it/s]\n",
      "114it [00:00, 1624.82it/s]\n",
      "0it [00:00, ?it/s]"
     ]
    },
    {
     "name": "stdout",
     "output_type": "stream",
     "text": [
      "Replacing bad words in ./course_dump/week08/day1_intro_to_bayesian_statistics/naive-bayes-spam-lab/datasets_test/easy_ham/foo2045.23236c16f102098247b10ca305a9a6b5...\n",
      "Replacing bad words in ./course_dump/week08/day1_intro_to_bayesian_statistics/naive-bayes-spam-lab/datasets_test/easy_ham/foo1913.7cd33343ce0d77f610058bb8d3ff6863...\n",
      "Replacing bad words in ./course_dump/week08/day1_intro_to_bayesian_statistics/naive-bayes-spam-lab/datasets_test/easy_ham/0277.43d8f575fabb051cc7041c02c9f002a8...\n"
     ]
    },
    {
     "name": "stderr",
     "output_type": "stream",
     "text": [
      "146it [00:00, 1161.30it/s]\n",
      "97it [00:00, 1163.52it/s]\n",
      "67it [00:00, 1196.70it/s]\n",
      "0it [00:00, ?it/s]"
     ]
    },
    {
     "name": "stdout",
     "output_type": "stream",
     "text": [
      "Replacing bad words in ./course_dump/week08/day1_intro_to_bayesian_statistics/naive-bayes-spam-lab/datasets_test/easy_ham/1206.c2cc53dbf20904a052845fd3db08b072...\n",
      "Replacing bad words in ./course_dump/week08/day1_intro_to_bayesian_statistics/naive-bayes-spam-lab/datasets_test/easy_ham/foo0035.50b257408356cfcfce8cf2afe9fd7959...\n",
      "Replacing bad words in ./course_dump/week08/day1_intro_to_bayesian_statistics/naive-bayes-spam-lab/datasets_test/easy_ham/1782.e027f2af78c05f8498f09d7979cd127d...\n"
     ]
    },
    {
     "name": "stderr",
     "output_type": "stream",
     "text": [
      "123it [00:00, 1229.36it/s]\n",
      "97it [00:00, 1401.83it/s]\n",
      "41it [00:00, 1514.63it/s]\n",
      "31it [00:00, 1309.40it/s]\n",
      "67it [00:00, 1467.28it/s]\n",
      "0it [00:00, ?it/s]"
     ]
    },
    {
     "name": "stdout",
     "output_type": "stream",
     "text": [
      "Replacing bad words in ./course_dump/week08/day1_intro_to_bayesian_statistics/naive-bayes-spam-lab/datasets_test/easy_ham/1335.57112a05c5a5ba633707ed3fdecfd88c...\n",
      "Replacing bad words in ./course_dump/week08/day1_intro_to_bayesian_statistics/naive-bayes-spam-lab/datasets_test/easy_ham/foo0049.bda43370915afa1f557f7edab6913e04...\n",
      "Replacing bad words in ./course_dump/week08/day1_intro_to_bayesian_statistics/naive-bayes-spam-lab/datasets_test/easy_ham/2104.1e0b700ebc0d9500c4aaea23a9bd8c10...\n",
      "Replacing bad words in ./course_dump/week08/day1_intro_to_bayesian_statistics/naive-bayes-spam-lab/datasets_test/easy_ham/foo0255.98492176173fd6951086bb7af9e0008a...\n",
      "Replacing bad words in ./course_dump/week08/day1_intro_to_bayesian_statistics/naive-bayes-spam-lab/datasets_test/easy_ham/2161.044851c0caf13b43b3c1ba4acee6ea8d...\n"
     ]
    },
    {
     "name": "stderr",
     "output_type": "stream",
     "text": [
      "35it [00:00, 1379.56it/s]\n",
      "126it [00:00, 1670.10it/s]\n",
      "181it [00:00, 1569.43it/s]\n",
      "24it [00:00, 1430.02it/s]\n"
     ]
    },
    {
     "name": "stdout",
     "output_type": "stream",
     "text": [
      "Replacing bad words in ./course_dump/week08/day1_intro_to_bayesian_statistics/naive-bayes-spam-lab/datasets_test/easy_ham/foo0534.a2b4731ea39251d3db3b433ed81b1087...\n",
      "Replacing bad words in ./course_dump/week08/day1_intro_to_bayesian_statistics/naive-bayes-spam-lab/datasets_test/easy_ham/0708.fe13d44640fb0f6e7d9d6a50c813a01f...\n",
      "Replacing bad words in ./course_dump/week08/day1_intro_to_bayesian_statistics/naive-bayes-spam-lab/datasets_test/easy_ham/1755.864cc509960bb627696e65943038856e...\n"
     ]
    },
    {
     "name": "stderr",
     "output_type": "stream",
     "text": [
      "60it [00:00, 1528.21it/s]\n",
      "87it [00:00, 1602.80it/s]\n",
      "31it [00:00, 1265.79it/s]\n",
      "104it [00:00, 1605.12it/s]\n",
      "30it [00:00, 1656.34it/s]\n",
      "0it [00:00, ?it/s]"
     ]
    },
    {
     "name": "stdout",
     "output_type": "stream",
     "text": [
      "Replacing bad words in ./course_dump/week08/day1_intro_to_bayesian_statistics/naive-bayes-spam-lab/datasets_test/easy_ham/foo0263.ffa4db454754b3c66fd025e92912941e...\n",
      "Replacing bad words in ./course_dump/week08/day1_intro_to_bayesian_statistics/naive-bayes-spam-lab/datasets_test/easy_ham/foo0918.2de8c6d8251d30c06be407bd701bb412...\n",
      "Replacing bad words in ./course_dump/week08/day1_intro_to_bayesian_statistics/naive-bayes-spam-lab/datasets_test/easy_ham/foo2186.9dc59321a95e53d5e0ebaf3524858913...\n",
      "Replacing bad words in ./course_dump/week08/day1_intro_to_bayesian_statistics/naive-bayes-spam-lab/datasets_test/easy_ham/0522.19fc2c700f36b246f3e1fb0807ce03fa...\n",
      "Replacing bad words in ./course_dump/week08/day1_intro_to_bayesian_statistics/naive-bayes-spam-lab/datasets_test/easy_ham/foo2117.d0ce36a8b096fff94266db762fe0dc7f...\n",
      "Replacing bad words in ./course_dump/week08/day1_intro_to_bayesian_statistics/naive-bayes-spam-lab/datasets_test/easy_ham/0380.7479693323d404f78e18d20d3b677e14...\n"
     ]
    },
    {
     "name": "stderr",
     "output_type": "stream",
     "text": [
      "290it [00:00, 1602.20it/s]\n",
      "146it [00:00, 1375.55it/s]\n",
      "139it [00:00, 1638.52it/s]\n",
      "28it [00:00, 1685.33it/s]"
     ]
    },
    {
     "name": "stdout",
     "output_type": "stream",
     "text": [
      "Replacing bad words in ./course_dump/week08/day1_intro_to_bayesian_statistics/naive-bayes-spam-lab/datasets_test/easy_ham/0073.cd29b8202a4b05db3c6f0d71b72a3260...\n",
      "Replacing bad words in ./course_dump/week08/day1_intro_to_bayesian_statistics/naive-bayes-spam-lab/datasets_test/easy_ham/1035.a3cdb2fe04945379483b12640bdb19d4...\n",
      "Replacing bad words in ./course_dump/week08/day1_intro_to_bayesian_statistics/naive-bayes-spam-lab/datasets_test/easy_ham/foo1768.e849ebd7ee95f02a6f4d937acb7575e2...\n"
     ]
    },
    {
     "name": "stderr",
     "output_type": "stream",
     "text": [
      "\n",
      "83it [00:00, 1653.43it/s]\n",
      "84it [00:00, 1047.29it/s]\n",
      "0it [00:00, ?it/s]"
     ]
    },
    {
     "name": "stdout",
     "output_type": "stream",
     "text": [
      "Replacing bad words in ./course_dump/week08/day1_intro_to_bayesian_statistics/naive-bayes-spam-lab/datasets_test/easy_ham/foo0604.5ce333fc713b6c6f85386d8be149c1b4...\n",
      "Replacing bad words in ./course_dump/week08/day1_intro_to_bayesian_statistics/naive-bayes-spam-lab/datasets_test/easy_ham/foo0388.c91d0f2ec4ba6d7647a48ebe7cf2f736...\n",
      "Replacing bad words in ./course_dump/week08/day1_intro_to_bayesian_statistics/naive-bayes-spam-lab/datasets_test/easy_ham/0370.de5338e5d218cbd21c5eab37794b3d47...\n"
     ]
    },
    {
     "name": "stderr",
     "output_type": "stream",
     "text": [
      "100it [00:00, 1054.57it/s]\n",
      "31it [00:00, 1089.93it/s]\n",
      "133it [00:00, 1375.86it/s]\n",
      "36it [00:00, 1917.71it/s]\n",
      "57it [00:00, 1795.39it/s]\n",
      "0it [00:00, ?it/s]"
     ]
    },
    {
     "name": "stdout",
     "output_type": "stream",
     "text": [
      "Replacing bad words in ./course_dump/week08/day1_intro_to_bayesian_statistics/naive-bayes-spam-lab/datasets_test/easy_ham/foo2113.b1a292a55bfb009ad4b70518d7399249...\n",
      "Replacing bad words in ./course_dump/week08/day1_intro_to_bayesian_statistics/naive-bayes-spam-lab/datasets_test/easy_ham/foo0108.e6e9cb097a3b5e37d94a7ff29bc4412a...\n",
      "Replacing bad words in ./course_dump/week08/day1_intro_to_bayesian_statistics/naive-bayes-spam-lab/datasets_test/easy_ham/foofoo2036.6d6802d956648b98383d9188257a364f...\n",
      "Replacing bad words in ./course_dump/week08/day1_intro_to_bayesian_statistics/naive-bayes-spam-lab/datasets_test/easy_ham/1627.6e01ae785063460c6a1227465ae3c85b...\n",
      "Replacing bad words in ./course_dump/week08/day1_intro_to_bayesian_statistics/naive-bayes-spam-lab/datasets_test/easy_ham/1397.75ebdbdb545c2376e9869203c0c612a8...\n"
     ]
    },
    {
     "name": "stderr",
     "output_type": "stream",
     "text": [
      "94it [00:00, 1718.76it/s]\n",
      "122it [00:00, 1553.74it/s]\n",
      "17it [00:00, 1373.57it/s]\n",
      "110it [00:00, 1576.03it/s]\n",
      "0it [00:00, ?it/s]"
     ]
    },
    {
     "name": "stdout",
     "output_type": "stream",
     "text": [
      "Replacing bad words in ./course_dump/week08/day1_intro_to_bayesian_statistics/naive-bayes-spam-lab/datasets_test/easy_ham/1570.a0b2e109e4f244de9538fed3b472f1db...\n",
      "Replacing bad words in ./course_dump/week08/day1_intro_to_bayesian_statistics/naive-bayes-spam-lab/datasets_test/easy_ham/foo1792.f3dfa7db118b7738bcdaa1cd81a0f1e2...\n",
      "Replacing bad words in ./course_dump/week08/day1_intro_to_bayesian_statistics/naive-bayes-spam-lab/datasets_test/easy_ham/1416.651cdba6e04f9c3593f6d634a70312e8...\n",
      "Replacing bad words in ./course_dump/week08/day1_intro_to_bayesian_statistics/naive-bayes-spam-lab/datasets_test/easy_ham/0755.c0a93a818f6d7b78583dfecb6a2a5ea9...\n"
     ]
    },
    {
     "name": "stderr",
     "output_type": "stream",
     "text": [
      "65it [00:00, 1425.16it/s]\n",
      "31it [00:00, 1531.81it/s]\n",
      "72it [00:00, 1433.61it/s]\n",
      "31it [00:00, 1678.11it/s]\n",
      "76it [00:00, 1466.69it/s]\n",
      "0it [00:00, ?it/s]"
     ]
    },
    {
     "name": "stdout",
     "output_type": "stream",
     "text": [
      "Replacing bad words in ./course_dump/week08/day1_intro_to_bayesian_statistics/naive-bayes-spam-lab/datasets_test/easy_ham/foo2282.0d102fad2c79a83bef590c669666f298...\n",
      "Replacing bad words in ./course_dump/week08/day1_intro_to_bayesian_statistics/naive-bayes-spam-lab/datasets_test/easy_ham/0679.0395351a76c9b311808536a2bfa5961c...\n",
      "Replacing bad words in ./course_dump/week08/day1_intro_to_bayesian_statistics/naive-bayes-spam-lab/datasets_test/easy_ham/foo1953.cd45102de667a9e4d0374f45875c91a5...\n",
      "Replacing bad words in ./course_dump/week08/day1_intro_to_bayesian_statistics/naive-bayes-spam-lab/datasets_test/easy_ham/foo1003.c7f304574ba9fc075adee3caff7d770c...\n",
      "Replacing bad words in ./course_dump/week08/day1_intro_to_bayesian_statistics/naive-bayes-spam-lab/datasets_test/easy_ham/0937.48b048dffa327b97d0ca68cd19d254ea...\n"
     ]
    },
    {
     "name": "stderr",
     "output_type": "stream",
     "text": [
      "66it [00:00, 1498.04it/s]\n",
      "25it [00:00, 1590.68it/s]\n",
      "29it [00:00, 1107.13it/s]\n",
      "57it [00:00, 1473.64it/s]\n",
      "31it [00:00, 1431.05it/s]\n",
      "0it [00:00, ?it/s]"
     ]
    },
    {
     "name": "stdout",
     "output_type": "stream",
     "text": [
      "Replacing bad words in ./course_dump/week08/day1_intro_to_bayesian_statistics/naive-bayes-spam-lab/datasets_test/easy_ham/foo1793.c20b0ff2930d9b36d7aa70e54939d12c...\n",
      "Replacing bad words in ./course_dump/week08/day1_intro_to_bayesian_statistics/naive-bayes-spam-lab/datasets_test/easy_ham/2211.36674c8f8ad0cccd398909c857bdde50...\n",
      "Replacing bad words in ./course_dump/week08/day1_intro_to_bayesian_statistics/naive-bayes-spam-lab/datasets_test/easy_ham/foo1972.e109de76776dd3dffa5b5c34ae93b531...\n",
      "Replacing bad words in ./course_dump/week08/day1_intro_to_bayesian_statistics/naive-bayes-spam-lab/datasets_test/easy_ham/2335.3d993d80cc19564416e607f82b4a6422...\n",
      "Replacing bad words in ./course_dump/week08/day1_intro_to_bayesian_statistics/naive-bayes-spam-lab/datasets_test/easy_ham/foo0473.c16661c43da07d0a3a9baaca5e14292d...\n"
     ]
    },
    {
     "name": "stderr",
     "output_type": "stream",
     "text": [
      "143it [00:00, 1462.42it/s]\n",
      "112it [00:00, 1692.08it/s]\n",
      "70it [00:00, 1507.09it/s]\n",
      "66it [00:00, 1612.09it/s]\n",
      "0it [00:00, ?it/s]"
     ]
    },
    {
     "name": "stdout",
     "output_type": "stream",
     "text": [
      "Replacing bad words in ./course_dump/week08/day1_intro_to_bayesian_statistics/naive-bayes-spam-lab/datasets_test/easy_ham/1485.466b9731651b090d2ecee034e696cda1...\n",
      "Replacing bad words in ./course_dump/week08/day1_intro_to_bayesian_statistics/naive-bayes-spam-lab/datasets_test/easy_ham/foo0685.1658351aa8cc515f74fb3eee7418d143...\n",
      "Replacing bad words in ./course_dump/week08/day1_intro_to_bayesian_statistics/naive-bayes-spam-lab/datasets_test/easy_ham/foo0721.9798746ace52b039545cfcb5dd5df9fa...\n",
      "Replacing bad words in ./course_dump/week08/day1_intro_to_bayesian_statistics/naive-bayes-spam-lab/datasets_test/easy_ham/foo1031.cfbae64b0894abd4ef88ddbf253fa704...\n"
     ]
    },
    {
     "name": "stderr",
     "output_type": "stream",
     "text": [
      "98it [00:00, 1454.11it/s]\n",
      "13it [00:00, 2086.80it/s]\n",
      "116it [00:00, 1694.32it/s]\n",
      "76it [00:00, 1503.90it/s]\n",
      "68it [00:00, 1469.77it/s]\n",
      "30it [00:00, 1352.17it/s]"
     ]
    },
    {
     "name": "stdout",
     "output_type": "stream",
     "text": [
      "Replacing bad words in ./course_dump/week08/day1_intro_to_bayesian_statistics/naive-bayes-spam-lab/datasets_test/easy_ham/foo1795.3349a6670b58d2a39307e87ae0012294...\n",
      "Replacing bad words in ./course_dump/week08/day1_intro_to_bayesian_statistics/naive-bayes-spam-lab/datasets_test/easy_ham/foo1268.0a4d5ea5ca61460fc95b01dff4224767...\n",
      "Replacing bad words in ./course_dump/week08/day1_intro_to_bayesian_statistics/naive-bayes-spam-lab/datasets_test/easy_ham/0954.fadb0b68f0246b3aafcc1ff134ff1065...\n",
      "Replacing bad words in ./course_dump/week08/day1_intro_to_bayesian_statistics/naive-bayes-spam-lab/datasets_test/easy_ham/1338.6656824f5801ca79629b3374e834ad04...\n",
      "Replacing bad words in ./course_dump/week08/day1_intro_to_bayesian_statistics/naive-bayes-spam-lab/datasets_test/easy_ham/foo2112.6e75ea06b30797027470e19c65ecd4d8...\n"
     ]
    },
    {
     "name": "stderr",
     "output_type": "stream",
     "text": [
      "\n",
      "31it [00:00, 1152.01it/s]\n",
      "69it [00:00, 1526.50it/s]\n",
      "167it [00:00, 1660.63it/s]"
     ]
    },
    {
     "name": "stdout",
     "output_type": "stream",
     "text": [
      "Replacing bad words in ./course_dump/week08/day1_intro_to_bayesian_statistics/naive-bayes-spam-lab/datasets_test/easy_ham/foo1954.5e99943978d64989611d5bd4814126ab...\n",
      "Replacing bad words in ./course_dump/week08/day1_intro_to_bayesian_statistics/naive-bayes-spam-lab/datasets_test/easy_ham/foo0744.8148cbab42e9b5a4f31f22017b3eccc4...\n",
      "Replacing bad words in ./course_dump/week08/day1_intro_to_bayesian_statistics/naive-bayes-spam-lab/datasets_test/easy_ham/0956.fb35140cb684b750a0b652251bf9f7df...\n"
     ]
    },
    {
     "name": "stderr",
     "output_type": "stream",
     "text": [
      "367it [00:00, 1361.06it/s]\n",
      "127it [00:00, 1216.66it/s]\n",
      "66it [00:00, 1212.92it/s]\n",
      "0it [00:00, ?it/s]"
     ]
    },
    {
     "name": "stdout",
     "output_type": "stream",
     "text": [
      "Replacing bad words in ./course_dump/week08/day1_intro_to_bayesian_statistics/naive-bayes-spam-lab/datasets_test/easy_ham/foo1237.4bb6dda7449161c5c971565261b5bf22...\n",
      "Replacing bad words in ./course_dump/week08/day1_intro_to_bayesian_statistics/naive-bayes-spam-lab/datasets_test/easy_ham/0559.2c60829e4147cdc981cf7131088b851d...\n",
      "Replacing bad words in ./course_dump/week08/day1_intro_to_bayesian_statistics/naive-bayes-spam-lab/datasets_test/easy_ham/0989.5c5812e631227a1a0873bc3fc9455c10...\n"
     ]
    },
    {
     "name": "stderr",
     "output_type": "stream",
     "text": [
      "65it [00:00, 1467.19it/s]\n",
      "55it [00:00, 1390.95it/s]\n",
      "26it [00:00, 1678.19it/s]\n",
      "27it [00:00, 1500.41it/s]\n",
      "29it [00:00, 1688.69it/s]\n",
      "30it [00:00, 1352.30it/s]\n",
      "0it [00:00, ?it/s]"
     ]
    },
    {
     "name": "stdout",
     "output_type": "stream",
     "text": [
      "Replacing bad words in ./course_dump/week08/day1_intro_to_bayesian_statistics/naive-bayes-spam-lab/datasets_test/easy_ham/1918.e1d8a7c0bcef6834bba337b0d13078ba...\n",
      "Replacing bad words in ./course_dump/week08/day1_intro_to_bayesian_statistics/naive-bayes-spam-lab/datasets_test/easy_ham/foo1836.7b8c9da065dd15894b0c6f851ac461e8...\n",
      "Replacing bad words in ./course_dump/week08/day1_intro_to_bayesian_statistics/naive-bayes-spam-lab/datasets_test/easy_ham/foo0182.6a44fa290eebac4c52eb17292623b630...\n",
      "Replacing bad words in ./course_dump/week08/day1_intro_to_bayesian_statistics/naive-bayes-spam-lab/datasets_test/easy_ham/foo2215.a3624a6a4e9a63e73a4bece8302538bb...\n",
      "Replacing bad words in ./course_dump/week08/day1_intro_to_bayesian_statistics/naive-bayes-spam-lab/datasets_test/easy_ham/2332.d3e1169779b1313070c82de262c30635...\n",
      "Replacing bad words in ./course_dump/week08/day1_intro_to_bayesian_statistics/naive-bayes-spam-lab/datasets_test/easy_ham/0194.1f268aec480b5dcc15dcfd1b3ba5f005...\n"
     ]
    },
    {
     "name": "stderr",
     "output_type": "stream",
     "text": [
      "174it [00:00, 1709.08it/s]\n",
      "31it [00:00, 1735.71it/s]\n",
      "30it [00:00, 1848.39it/s]\n",
      "73it [00:00, 1465.66it/s]\n",
      "31it [00:00, 1223.44it/s]\n",
      "86it [00:00, 1397.68it/s]\n",
      "0it [00:00, ?it/s]"
     ]
    },
    {
     "name": "stdout",
     "output_type": "stream",
     "text": [
      "Replacing bad words in ./course_dump/week08/day1_intro_to_bayesian_statistics/naive-bayes-spam-lab/datasets_test/easy_ham/1966.a6ad55fc6cdaf28e047c333dd5a55b7e...\n",
      "Replacing bad words in ./course_dump/week08/day1_intro_to_bayesian_statistics/naive-bayes-spam-lab/datasets_test/easy_ham/2089.3ee44b35315e3e3c58807d125acaccd9...\n",
      "Replacing bad words in ./course_dump/week08/day1_intro_to_bayesian_statistics/naive-bayes-spam-lab/datasets_test/easy_ham/1889.07ff07f84507a0b2be0bd27b091736d8...\n",
      "Replacing bad words in ./course_dump/week08/day1_intro_to_bayesian_statistics/naive-bayes-spam-lab/datasets_test/easy_ham/foo2313.bb42a208d00004e3e915fbb9e098585d...\n",
      "Replacing bad words in ./course_dump/week08/day1_intro_to_bayesian_statistics/naive-bayes-spam-lab/datasets_test/easy_ham/1169.b4991cd8416f8f9c29bf9e5359f667f5...\n",
      "Replacing bad words in ./course_dump/week08/day1_intro_to_bayesian_statistics/naive-bayes-spam-lab/datasets_test/easy_ham/0034.4be53f8dac3bd651ace83a38b6313c45...\n"
     ]
    },
    {
     "name": "stderr",
     "output_type": "stream",
     "text": [
      "113it [00:00, 1415.21it/s]\n",
      "31it [00:00, 1407.80it/s]\n",
      "95it [00:00, 1517.72it/s]\n",
      "81it [00:00, 1659.86it/s]\n",
      "0it [00:00, ?it/s]"
     ]
    },
    {
     "name": "stdout",
     "output_type": "stream",
     "text": [
      "Replacing bad words in ./course_dump/week08/day1_intro_to_bayesian_statistics/naive-bayes-spam-lab/datasets_test/easy_ham/foofoo2313.bb42a208d00004e3e915fbb9e098585d...\n",
      "Replacing bad words in ./course_dump/week08/day1_intro_to_bayesian_statistics/naive-bayes-spam-lab/datasets_test/easy_ham/1877.3b830d0451dd084e5c125436ac07871e...\n",
      "Replacing bad words in ./course_dump/week08/day1_intro_to_bayesian_statistics/naive-bayes-spam-lab/datasets_test/easy_ham/foo1548.009504211e34b42d8b878b5c5aec5926...\n",
      "Replacing bad words in ./course_dump/week08/day1_intro_to_bayesian_statistics/naive-bayes-spam-lab/datasets_test/easy_ham/foo1056.40e105e66c28374d4fffa209a7176959...\n"
     ]
    },
    {
     "name": "stderr",
     "output_type": "stream",
     "text": [
      "87it [00:00, 1317.43it/s]\n",
      "155it [00:00, 1607.28it/s]\n",
      "74it [00:00, 1576.66it/s]\n",
      "0it [00:00, ?it/s]"
     ]
    },
    {
     "name": "stdout",
     "output_type": "stream",
     "text": [
      "Replacing bad words in ./course_dump/week08/day1_intro_to_bayesian_statistics/naive-bayes-spam-lab/datasets_test/easy_ham/foo0474.0b5f82aa1324baf9cf718849c48d679e...\n",
      "Replacing bad words in ./course_dump/week08/day1_intro_to_bayesian_statistics/naive-bayes-spam-lab/datasets_test/easy_ham/0425.bc356b284544c185e4ac9e11f4ec1d4a...\n",
      "Replacing bad words in ./course_dump/week08/day1_intro_to_bayesian_statistics/naive-bayes-spam-lab/datasets_test/easy_ham/0219.c885fbe9fa7e255d6f589b373c8608e3...\n"
     ]
    },
    {
     "name": "stderr",
     "output_type": "stream",
     "text": [
      "132it [00:00, 1455.02it/s]\n",
      "30it [00:00, 1475.67it/s]\n",
      "140it [00:00, 1572.07it/s]\n",
      "129it [00:00, 1706.50it/s]\n",
      "0it [00:00, ?it/s]"
     ]
    },
    {
     "name": "stdout",
     "output_type": "stream",
     "text": [
      "Replacing bad words in ./course_dump/week08/day1_intro_to_bayesian_statistics/naive-bayes-spam-lab/datasets_test/easy_ham/foo2370.798d5a7c04b417c51bc86de7509e4503...\n",
      "Replacing bad words in ./course_dump/week08/day1_intro_to_bayesian_statistics/naive-bayes-spam-lab/datasets_test/easy_ham/foo1567.eeb0beaf2f749c8281d93d1536cce247...\n",
      "Replacing bad words in ./course_dump/week08/day1_intro_to_bayesian_statistics/naive-bayes-spam-lab/datasets_test/easy_ham/foo2034.84e8945b5bf480a2ebef1961a64b8060...\n",
      "Replacing bad words in ./course_dump/week08/day1_intro_to_bayesian_statistics/naive-bayes-spam-lab/datasets_test/easy_ham/0324.d425c24d444091807e283e66449853b0...\n"
     ]
    },
    {
     "name": "stderr",
     "output_type": "stream",
     "text": [
      "103it [00:00, 1628.63it/s]\n",
      "109it [00:00, 1345.84it/s]\n",
      "29it [00:00, 1552.22it/s]\n",
      "118it [00:00, 1809.78it/s]\n",
      "0it [00:00, ?it/s]"
     ]
    },
    {
     "name": "stdout",
     "output_type": "stream",
     "text": [
      "Replacing bad words in ./course_dump/week08/day1_intro_to_bayesian_statistics/naive-bayes-spam-lab/datasets_test/easy_ham/foo0303.e334b6aaad7609a7613e33bb21cc9636...\n",
      "Replacing bad words in ./course_dump/week08/day1_intro_to_bayesian_statistics/naive-bayes-spam-lab/datasets_test/easy_ham/foo2068.2f532eee36ce04932cb6293ae3ec41d6...\n",
      "Replacing bad words in ./course_dump/week08/day1_intro_to_bayesian_statistics/naive-bayes-spam-lab/datasets_test/easy_ham/0332.daed28f33b65dd9f1c91fa3737d21340...\n",
      "Replacing bad words in ./course_dump/week08/day1_intro_to_bayesian_statistics/naive-bayes-spam-lab/datasets_test/easy_ham/0632.5a55cc359e591b1264cefa42b228df98...\n"
     ]
    },
    {
     "name": "stderr",
     "output_type": "stream",
     "text": [
      "59it [00:00, 1611.25it/s]\n",
      "99it [00:00, 1623.24it/s]\n",
      "98it [00:00, 1445.28it/s]\n",
      "33it [00:00, 1491.16it/s]\n",
      "0it [00:00, ?it/s]"
     ]
    },
    {
     "name": "stdout",
     "output_type": "stream",
     "text": [
      "Replacing bad words in ./course_dump/week08/day1_intro_to_bayesian_statistics/naive-bayes-spam-lab/datasets_test/easy_ham/foo1037.1285e23706448e51cb9be399cd0546ed...\n",
      "Replacing bad words in ./course_dump/week08/day1_intro_to_bayesian_statistics/naive-bayes-spam-lab/datasets_test/easy_ham/0385.86c7c23ec4e9892f6bbfa377760fd303...\n",
      "Replacing bad words in ./course_dump/week08/day1_intro_to_bayesian_statistics/naive-bayes-spam-lab/datasets_test/easy_ham/1787.94ca5ccaec9be05c252bf32961a86a3d...\n",
      "Replacing bad words in ./course_dump/week08/day1_intro_to_bayesian_statistics/naive-bayes-spam-lab/datasets_test/easy_ham/foo1158.99fa7ccbe31c36e259370ffbb2789c82...\n"
     ]
    },
    {
     "name": "stderr",
     "output_type": "stream",
     "text": [
      "124it [00:00, 1519.30it/s]\n",
      "159it [00:00, 1814.69it/s]\n",
      "95it [00:00, 1679.34it/s]\n",
      "0it [00:00, ?it/s]"
     ]
    },
    {
     "name": "stdout",
     "output_type": "stream",
     "text": [
      "Replacing bad words in ./course_dump/week08/day1_intro_to_bayesian_statistics/naive-bayes-spam-lab/datasets_test/easy_ham/foo1212.b8a6ce9e2f0d2075ace38710d356c7af...\n",
      "Replacing bad words in ./course_dump/week08/day1_intro_to_bayesian_statistics/naive-bayes-spam-lab/datasets_test/easy_ham/0782.03d024d74f36ef492a9d8d5de300fb94...\n",
      "Replacing bad words in ./course_dump/week08/day1_intro_to_bayesian_statistics/naive-bayes-spam-lab/datasets_test/easy_ham/1667.aa251c5e7789a550ed91cdacb0d58649...\n"
     ]
    },
    {
     "name": "stderr",
     "output_type": "stream",
     "text": [
      "111it [00:00, 1472.98it/s]\n",
      "67it [00:00, 1433.15it/s]\n",
      "51it [00:00, 1582.48it/s]\n",
      "84it [00:00, 1563.43it/s]\n",
      "0it [00:00, ?it/s]"
     ]
    },
    {
     "name": "stdout",
     "output_type": "stream",
     "text": [
      "Replacing bad words in ./course_dump/week08/day1_intro_to_bayesian_statistics/naive-bayes-spam-lab/datasets_test/easy_ham/foo0845.eb2eb66b172d250b0b35f971bab702c4...\n",
      "Replacing bad words in ./course_dump/week08/day1_intro_to_bayesian_statistics/naive-bayes-spam-lab/datasets_test/easy_ham/foo1890.ef9fda5365db0f817f62d6934b14ab77...\n",
      "Replacing bad words in ./course_dump/week08/day1_intro_to_bayesian_statistics/naive-bayes-spam-lab/datasets_test/easy_ham/foo0325.2de3d7f6cb27edcb0bcc965b3353a5ed...\n",
      "Replacing bad words in ./course_dump/week08/day1_intro_to_bayesian_statistics/naive-bayes-spam-lab/datasets_test/easy_ham/1477.c0b267d577c674023fec3244f351df06...\n"
     ]
    },
    {
     "name": "stderr",
     "output_type": "stream",
     "text": [
      "92it [00:00, 1630.87it/s]\n",
      "53it [00:00, 1575.52it/s]\n",
      "65it [00:00, 1338.72it/s]\n",
      "86it [00:00, 1597.02it/s]\n",
      "30it [00:00, 1565.19it/s]\n",
      "36it [00:00, 1550.78it/s]\n",
      "0it [00:00, ?it/s]"
     ]
    },
    {
     "name": "stdout",
     "output_type": "stream",
     "text": [
      "Replacing bad words in ./course_dump/week08/day1_intro_to_bayesian_statistics/naive-bayes-spam-lab/datasets_test/easy_ham/1934.8e30ec46365bab9766f9d4ad5bfc88f8...\n",
      "Replacing bad words in ./course_dump/week08/day1_intro_to_bayesian_statistics/naive-bayes-spam-lab/datasets_test/easy_ham/0700.5a134a606e773c40b71ec59a599e61ad...\n",
      "Replacing bad words in ./course_dump/week08/day1_intro_to_bayesian_statistics/naive-bayes-spam-lab/datasets_test/easy_ham/1167.9006901f5178e82edffb4f9167f7c586...\n",
      "Replacing bad words in ./course_dump/week08/day1_intro_to_bayesian_statistics/naive-bayes-spam-lab/datasets_test/easy_ham/2055.bf3873bdfb04c1fc4b4e88f4794f8260...\n",
      "Replacing bad words in ./course_dump/week08/day1_intro_to_bayesian_statistics/naive-bayes-spam-lab/datasets_test/easy_ham/2440.041d0de1683ab08bbd1c626e7d0d3beb...\n",
      "Replacing bad words in ./course_dump/week08/day1_intro_to_bayesian_statistics/naive-bayes-spam-lab/datasets_test/easy_ham/0247.98ed5d80f80da3915b5a1d10ee19c50a...\n"
     ]
    },
    {
     "name": "stderr",
     "output_type": "stream",
     "text": [
      "63it [00:00, 1398.82it/s]\n",
      "75it [00:00, 1586.98it/s]\n",
      "87it [00:00, 1670.36it/s]\n",
      "29it [00:00, 1433.70it/s]\n",
      "0it [00:00, ?it/s]"
     ]
    },
    {
     "name": "stdout",
     "output_type": "stream",
     "text": [
      "Replacing bad words in ./course_dump/week08/day1_intro_to_bayesian_statistics/naive-bayes-spam-lab/datasets_test/easy_ham/foo0511.7c59aca5d737ae0f1a94b8e08d5def67...\n",
      "Replacing bad words in ./course_dump/week08/day1_intro_to_bayesian_statistics/naive-bayes-spam-lab/datasets_test/easy_ham/1897.91a261359b5537a465fa0164ec1d95c6...\n",
      "Replacing bad words in ./course_dump/week08/day1_intro_to_bayesian_statistics/naive-bayes-spam-lab/datasets_test/easy_ham/2240.fd1d72c726b2e17528622fde97fc0377...\n",
      "Replacing bad words in ./course_dump/week08/day1_intro_to_bayesian_statistics/naive-bayes-spam-lab/datasets_test/easy_ham/foofoo1269.7820a9dc465e4d9eb8b2184d98fb9b3b...\n"
     ]
    },
    {
     "name": "stderr",
     "output_type": "stream",
     "text": [
      "151it [00:00, 1435.94it/s]\n",
      "113it [00:00, 1572.04it/s]\n",
      "30it [00:00, 1541.87it/s]\n",
      "0it [00:00, ?it/s]"
     ]
    },
    {
     "name": "stdout",
     "output_type": "stream",
     "text": [
      "Replacing bad words in ./course_dump/week08/day1_intro_to_bayesian_statistics/naive-bayes-spam-lab/datasets_test/easy_ham/0288.3ae040d2c993ea997470df41f31aebcb...\n",
      "Replacing bad words in ./course_dump/week08/day1_intro_to_bayesian_statistics/naive-bayes-spam-lab/datasets_test/easy_ham/2262.e4636c98650a8e9b6f53c193cbd5180c...\n",
      "Replacing bad words in ./course_dump/week08/day1_intro_to_bayesian_statistics/naive-bayes-spam-lab/datasets_test/easy_ham/0473.c16661c43da07d0a3a9baaca5e14292d...\n"
     ]
    },
    {
     "name": "stderr",
     "output_type": "stream",
     "text": [
      "143it [00:00, 1392.67it/s]\n",
      "30it [00:00, 1510.83it/s]\n",
      "51it [00:00, 1546.78it/s]\n",
      "70it [00:00, 1552.10it/s]\n",
      "91it [00:00, 1494.31it/s]\n",
      "19it [00:00, 1726.39it/s]\n",
      "0it [00:00, ?it/s]"
     ]
    },
    {
     "name": "stdout",
     "output_type": "stream",
     "text": [
      "Replacing bad words in ./course_dump/week08/day1_intro_to_bayesian_statistics/naive-bayes-spam-lab/datasets_test/easy_ham/2452.462af6aad417a792d50847cddb590f90...\n",
      "Replacing bad words in ./course_dump/week08/day1_intro_to_bayesian_statistics/naive-bayes-spam-lab/datasets_test/easy_ham/foo2527.fad44667449822628022a95a7cf83ac0...\n",
      "Replacing bad words in ./course_dump/week08/day1_intro_to_bayesian_statistics/naive-bayes-spam-lab/datasets_test/easy_ham/0427.0a5cdbfdb46be2bfac7cff1cae89dc25...\n",
      "Replacing bad words in ./course_dump/week08/day1_intro_to_bayesian_statistics/naive-bayes-spam-lab/datasets_test/easy_ham/foo1644.ba26918a1837fcadae2327adc12a797d...\n",
      "Replacing bad words in ./course_dump/week08/day1_intro_to_bayesian_statistics/naive-bayes-spam-lab/datasets_test/easy_ham/1828.80327e3b2580e1e277165899b2532871...\n",
      "Replacing bad words in ./course_dump/week08/day1_intro_to_bayesian_statistics/naive-bayes-spam-lab/datasets_test/easy_ham/foo0818.c7f83ef6692e7bcec3fc31d04880f51f...\n"
     ]
    },
    {
     "name": "stderr",
     "output_type": "stream",
     "text": [
      "74it [00:00, 1374.16it/s]\n",
      "88it [00:00, 1398.51it/s]\n",
      "44it [00:00, 1353.00it/s]\n",
      "35it [00:00, 1204.76it/s]\n",
      "52it [00:00, 1585.41it/s]\n",
      "0it [00:00, ?it/s]"
     ]
    },
    {
     "name": "stdout",
     "output_type": "stream",
     "text": [
      "Replacing bad words in ./course_dump/week08/day1_intro_to_bayesian_statistics/naive-bayes-spam-lab/datasets_test/easy_ham/foo1405.d33d54d33d52ebf10870baeb7a03999c...\n",
      "Replacing bad words in ./course_dump/week08/day1_intro_to_bayesian_statistics/naive-bayes-spam-lab/datasets_test/easy_ham/foo1778.5e3a4fdad399e2557d6921d7e938faef...\n",
      "Replacing bad words in ./course_dump/week08/day1_intro_to_bayesian_statistics/naive-bayes-spam-lab/datasets_test/easy_ham/foo2317.16836d0298c740b64ec1d2f2d834dcbd...\n",
      "Replacing bad words in ./course_dump/week08/day1_intro_to_bayesian_statistics/naive-bayes-spam-lab/datasets_test/easy_ham/1875.dbed554328b768bf307fecf3b4491ce2...\n",
      "Replacing bad words in ./course_dump/week08/day1_intro_to_bayesian_statistics/naive-bayes-spam-lab/datasets_test/easy_ham/0724.789e078e8d5286dcb7da0df2f47e6886...\n"
     ]
    },
    {
     "name": "stderr",
     "output_type": "stream",
     "text": [
      "74it [00:00, 1420.77it/s]\n",
      "134it [00:00, 1594.97it/s]\n",
      "90it [00:00, 1579.41it/s]\n",
      "0it [00:00, ?it/s]"
     ]
    },
    {
     "name": "stdout",
     "output_type": "stream",
     "text": [
      "Replacing bad words in ./course_dump/week08/day1_intro_to_bayesian_statistics/naive-bayes-spam-lab/datasets_test/easy_ham/foo1267.3641b74038e9f1bc91bbf8318572ffd1...\n",
      "Replacing bad words in ./course_dump/week08/day1_intro_to_bayesian_statistics/naive-bayes-spam-lab/datasets_test/easy_ham/0538.59939f403bfb0f553e02f77abfb38846...\n",
      "Replacing bad words in ./course_dump/week08/day1_intro_to_bayesian_statistics/naive-bayes-spam-lab/datasets_test/easy_ham/1732.f90c4a8e1ef88d4802f7fc139a85fc13...\n"
     ]
    },
    {
     "name": "stderr",
     "output_type": "stream",
     "text": [
      "119it [00:00, 1549.39it/s]\n",
      "78it [00:00, 1469.33it/s]\n",
      "122it [00:00, 1650.65it/s]\n",
      "29it [00:00, 1381.19it/s]\n",
      "35it [00:00, 1643.52it/s]\n",
      "26it [00:00, 1410.34it/s]"
     ]
    },
    {
     "name": "stdout",
     "output_type": "stream",
     "text": [
      "Replacing bad words in ./course_dump/week08/day1_intro_to_bayesian_statistics/naive-bayes-spam-lab/datasets_test/easy_ham/foo0394.1c86a541cac55ed69e47b32b325352cb...\n",
      "Replacing bad words in ./course_dump/week08/day1_intro_to_bayesian_statistics/naive-bayes-spam-lab/datasets_test/easy_ham/foo0044.f1db2c76854ee58bc73d0c85ca6a86d2...\n",
      "Replacing bad words in ./course_dump/week08/day1_intro_to_bayesian_statistics/naive-bayes-spam-lab/datasets_test/easy_ham/foo2046.3f95a61d81925dfddbb0fb1de0a1caf4...\n",
      "Replacing bad words in ./course_dump/week08/day1_intro_to_bayesian_statistics/naive-bayes-spam-lab/datasets_test/easy_ham/foo1743.75e754f7e80ce9c9e26898513069d35f...\n",
      "Replacing bad words in ./course_dump/week08/day1_intro_to_bayesian_statistics/naive-bayes-spam-lab/datasets_test/easy_ham/foo0188.a7f061d0c2c0395922993a874d534dcb...\n"
     ]
    },
    {
     "name": "stderr",
     "output_type": "stream",
     "text": [
      "\n",
      "36it [00:00, 1271.09it/s]\n",
      "82it [00:00, 1356.61it/s]\n",
      "29it [00:00, 1574.78it/s]\n",
      "118it [00:00, 1714.66it/s]\n",
      "0it [00:00, ?it/s]"
     ]
    },
    {
     "name": "stdout",
     "output_type": "stream",
     "text": [
      "Replacing bad words in ./course_dump/week08/day1_intro_to_bayesian_statistics/naive-bayes-spam-lab/datasets_test/easy_ham/2155.9febcd6b448dba76de404c1c57f8d239...\n",
      "Replacing bad words in ./course_dump/week08/day1_intro_to_bayesian_statistics/naive-bayes-spam-lab/datasets_test/easy_ham/foo1182.3156d66c268869ee74f080a7c7523be8...\n",
      "Replacing bad words in ./course_dump/week08/day1_intro_to_bayesian_statistics/naive-bayes-spam-lab/datasets_test/easy_ham/foo2216.bb6066e5acc2a423eb7515a665dc1a64...\n",
      "Replacing bad words in ./course_dump/week08/day1_intro_to_bayesian_statistics/naive-bayes-spam-lab/datasets_test/easy_ham/1258.2cc28fb57d46ea73e9b1842f2c427e21...\n",
      "Replacing bad words in ./course_dump/week08/day1_intro_to_bayesian_statistics/naive-bayes-spam-lab/datasets_test/easy_ham/foo1149.68dbf497c1a8748757b6acc50fb74ed0...\n"
     ]
    },
    {
     "name": "stderr",
     "output_type": "stream",
     "text": [
      "105it [00:00, 1592.40it/s]\n",
      "55it [00:00, 1471.72it/s]\n",
      "34it [00:00, 1388.96it/s]\n",
      "53it [00:00, 1724.85it/s]\n",
      "120it [00:00, 1921.75it/s]\n",
      "0it [00:00, ?it/s]"
     ]
    },
    {
     "name": "stdout",
     "output_type": "stream",
     "text": [
      "Replacing bad words in ./course_dump/week08/day1_intro_to_bayesian_statistics/naive-bayes-spam-lab/datasets_test/easy_ham/foo0042.7ef6c72f88de15d72b1c0d9c164ccb78...\n",
      "Replacing bad words in ./course_dump/week08/day1_intro_to_bayesian_statistics/naive-bayes-spam-lab/datasets_test/easy_ham/2127.215dcd2e641c5baa6ea7d056ebd3461d...\n",
      "Replacing bad words in ./course_dump/week08/day1_intro_to_bayesian_statistics/naive-bayes-spam-lab/datasets_test/easy_ham/1932.e94c6220cb5e6a61437ac4ebf873b68f...\n",
      "Replacing bad words in ./course_dump/week08/day1_intro_to_bayesian_statistics/naive-bayes-spam-lab/datasets_test/easy_ham/foo0843.6e5323ee268f72a690f5e5af60643e73...\n",
      "Replacing bad words in ./course_dump/week08/day1_intro_to_bayesian_statistics/naive-bayes-spam-lab/datasets_test/easy_ham/foo0432.4428728444aeb681db1d4382bfeb8d02...\n"
     ]
    },
    {
     "name": "stderr",
     "output_type": "stream",
     "text": [
      "63it [00:00, 1663.27it/s]\n",
      "35it [00:00, 1394.20it/s]\n",
      "81it [00:00, 1806.90it/s]\n",
      "154it [00:00, 1753.21it/s]\n",
      "0it [00:00, ?it/s]"
     ]
    },
    {
     "name": "stdout",
     "output_type": "stream",
     "text": [
      "Replacing bad words in ./course_dump/week08/day1_intro_to_bayesian_statistics/naive-bayes-spam-lab/datasets_test/easy_ham/foo2161.044851c0caf13b43b3c1ba4acee6ea8d...\n",
      "Replacing bad words in ./course_dump/week08/day1_intro_to_bayesian_statistics/naive-bayes-spam-lab/datasets_test/easy_ham/1720.b17e78a9a5d7145aa8deffc671ace997...\n",
      "Replacing bad words in ./course_dump/week08/day1_intro_to_bayesian_statistics/naive-bayes-spam-lab/datasets_test/easy_ham/foofoo1246.30234e4c9aedace42e5472e1a21aaf64...\n",
      "Replacing bad words in ./course_dump/week08/day1_intro_to_bayesian_statistics/naive-bayes-spam-lab/datasets_test/easy_ham/foo1359.a4f9b2b4bbae9e1d2ab34ba5fec9eb35...\n"
     ]
    },
    {
     "name": "stderr",
     "output_type": "stream",
     "text": [
      "92it [00:00, 1423.83it/s]\n",
      "51it [00:00, 1675.21it/s]\n",
      "69it [00:00, 1441.19it/s]\n",
      "37it [00:00, 1367.07it/s]\n",
      "101it [00:00, 1520.29it/s]\n",
      "0it [00:00, ?it/s]"
     ]
    },
    {
     "name": "stdout",
     "output_type": "stream",
     "text": [
      "Replacing bad words in ./course_dump/week08/day1_intro_to_bayesian_statistics/naive-bayes-spam-lab/datasets_test/easy_ham/1901.5fb290d69c23e53e5e299ad81af93e8b...\n",
      "Replacing bad words in ./course_dump/week08/day1_intro_to_bayesian_statistics/naive-bayes-spam-lab/datasets_test/easy_ham/foo1133.4b5a4ac1c2bd770e63cc85059145ebe1...\n",
      "Replacing bad words in ./course_dump/week08/day1_intro_to_bayesian_statistics/naive-bayes-spam-lab/datasets_test/easy_ham/2406.6c1c9cb7a7c4ef856b8890a99866dfa3...\n",
      "Replacing bad words in ./course_dump/week08/day1_intro_to_bayesian_statistics/naive-bayes-spam-lab/datasets_test/easy_ham/foo0608.ee46655dde2d5d95579711e1a849cb34...\n",
      "Replacing bad words in ./course_dump/week08/day1_intro_to_bayesian_statistics/naive-bayes-spam-lab/datasets_test/easy_ham/2426.ba29d4b97bc1e42b7b12f678cf41d981...\n"
     ]
    },
    {
     "name": "stderr",
     "output_type": "stream",
     "text": [
      "36it [00:00, 1314.41it/s]\n",
      "112it [00:00, 1480.07it/s]\n",
      "159it [00:00, 1478.59it/s]\n",
      "0it [00:00, ?it/s]"
     ]
    },
    {
     "name": "stdout",
     "output_type": "stream",
     "text": [
      "Replacing bad words in ./course_dump/week08/day1_intro_to_bayesian_statistics/naive-bayes-spam-lab/datasets_test/easy_ham/1050.d80975f7f6f0f55faea4dc84c938f415...\n",
      "Replacing bad words in ./course_dump/week08/day1_intro_to_bayesian_statistics/naive-bayes-spam-lab/datasets_test/easy_ham/foo0598.1ac8a662753f1bba429f52eb184ba794...\n",
      "Replacing bad words in ./course_dump/week08/day1_intro_to_bayesian_statistics/naive-bayes-spam-lab/datasets_test/easy_ham/0889.19010d78004033878d170ffbcd3b1053...\n"
     ]
    },
    {
     "name": "stderr",
     "output_type": "stream",
     "text": [
      "136it [00:00, 1439.92it/s]\n",
      "78it [00:00, 1479.99it/s]\n",
      "89it [00:00, 1697.07it/s]\n",
      "77it [00:00, 1535.43it/s]\n",
      "0it [00:00, ?it/s]"
     ]
    },
    {
     "name": "stdout",
     "output_type": "stream",
     "text": [
      "Replacing bad words in ./course_dump/week08/day1_intro_to_bayesian_statistics/naive-bayes-spam-lab/datasets_test/easy_ham/0521.56b24a33e65cd045de37e6bec5ec30e3...\n",
      "Replacing bad words in ./course_dump/week08/day1_intro_to_bayesian_statistics/naive-bayes-spam-lab/datasets_test/easy_ham/1807.7f2b82a41322fa94c43a0dbb75472ff4...\n",
      "Replacing bad words in ./course_dump/week08/day1_intro_to_bayesian_statistics/naive-bayes-spam-lab/datasets_test/easy_ham/foo0157.18c5e181c72acfc3a501a82907e58a59...\n",
      "Replacing bad words in ./course_dump/week08/day1_intro_to_bayesian_statistics/naive-bayes-spam-lab/datasets_test/easy_ham/foo0437.b5837ab1d2b764157464b0557b4aad93...\n"
     ]
    },
    {
     "name": "stderr",
     "output_type": "stream",
     "text": [
      "186it [00:00, 1419.00it/s]\n",
      "12it [00:00, 1355.44it/s]\n",
      "158it [00:00, 1478.49it/s]\n",
      "76it [00:00, 1589.27it/s]\n",
      "0it [00:00, ?it/s]"
     ]
    },
    {
     "name": "stdout",
     "output_type": "stream",
     "text": [
      "Replacing bad words in ./course_dump/week08/day1_intro_to_bayesian_statistics/naive-bayes-spam-lab/datasets_test/easy_ham/1812.f25ce16131a4a1e9b4eb4e04f748509a...\n",
      "Replacing bad words in ./course_dump/week08/day1_intro_to_bayesian_statistics/naive-bayes-spam-lab/datasets_test/easy_ham/0461.7609029b07acf65f40bd93882aa35887...\n",
      "Replacing bad words in ./course_dump/week08/day1_intro_to_bayesian_statistics/naive-bayes-spam-lab/datasets_test/easy_ham/foo0970.f10c0a8d0caea18d4fe49bef77099b7e...\n",
      "Replacing bad words in ./course_dump/week08/day1_intro_to_bayesian_statistics/naive-bayes-spam-lab/datasets_test/easy_ham/foo2494.ad5de9e5dc49e51155a6d444e772b671...\n"
     ]
    },
    {
     "name": "stderr",
     "output_type": "stream",
     "text": [
      "41it [00:00, 1390.62it/s]\n",
      "130it [00:00, 1579.33it/s]\n",
      "91it [00:00, 1585.48it/s]\n",
      "38it [00:00, 1641.52it/s]\n",
      "30it [00:00, 1427.18it/s]\n",
      "0it [00:00, ?it/s]"
     ]
    },
    {
     "name": "stdout",
     "output_type": "stream",
     "text": [
      "Replacing bad words in ./course_dump/week08/day1_intro_to_bayesian_statistics/naive-bayes-spam-lab/datasets_test/easy_ham/foo0938.f0908eafe6ec23a6f3067e2f19432fb2...\n",
      "Replacing bad words in ./course_dump/week08/day1_intro_to_bayesian_statistics/naive-bayes-spam-lab/datasets_test/easy_ham/foo1157.c9a61837e0193ee50609b6412cac5bdf...\n",
      "Replacing bad words in ./course_dump/week08/day1_intro_to_bayesian_statistics/naive-bayes-spam-lab/datasets_test/easy_ham/2550.963956a866a2e00b3d5b353ecc9216ae...\n",
      "Replacing bad words in ./course_dump/week08/day1_intro_to_bayesian_statistics/naive-bayes-spam-lab/datasets_test/easy_ham/2501.36311f6ceac129fa31540555ffe3cc97...\n",
      "Replacing bad words in ./course_dump/week08/day1_intro_to_bayesian_statistics/naive-bayes-spam-lab/datasets_test/easy_ham/foo1427.db4dce8eaebc4a3d836d2328137c7ac0...\n"
     ]
    },
    {
     "name": "stderr",
     "output_type": "stream",
     "text": [
      "51it [00:00, 1300.84it/s]\n",
      "61it [00:00, 1432.56it/s]\n",
      "174it [00:00, 1549.71it/s]\n",
      "0it [00:00, ?it/s]"
     ]
    },
    {
     "name": "stdout",
     "output_type": "stream",
     "text": [
      "Replacing bad words in ./course_dump/week08/day1_intro_to_bayesian_statistics/naive-bayes-spam-lab/datasets_test/easy_ham/foo0393.0b4def24fd1835de40d83f2a8e43bd7d...\n",
      "Replacing bad words in ./course_dump/week08/day1_intro_to_bayesian_statistics/naive-bayes-spam-lab/datasets_test/easy_ham/foo0194.1f268aec480b5dcc15dcfd1b3ba5f005...\n",
      "Replacing bad words in ./course_dump/week08/day1_intro_to_bayesian_statistics/naive-bayes-spam-lab/datasets_test/easy_ham/foo2495.8adeb962ec89dedb809a2a314b8a9fef...\n"
     ]
    },
    {
     "name": "stderr",
     "output_type": "stream",
     "text": [
      "51it [00:00, 1354.51it/s]\n",
      "38it [00:00, 1597.97it/s]\n",
      "123it [00:00, 1608.87it/s]\n",
      "84it [00:00, 1587.21it/s]\n",
      "0it [00:00, ?it/s]"
     ]
    },
    {
     "name": "stdout",
     "output_type": "stream",
     "text": [
      "Replacing bad words in ./course_dump/week08/day1_intro_to_bayesian_statistics/naive-bayes-spam-lab/datasets_test/easy_ham/foo1746.e3c2e047714a395c583f80730acd3762...\n",
      "Replacing bad words in ./course_dump/week08/day1_intro_to_bayesian_statistics/naive-bayes-spam-lab/datasets_test/easy_ham/1111.682637cab441c4614d42314d8c82c2c6...\n",
      "Replacing bad words in ./course_dump/week08/day1_intro_to_bayesian_statistics/naive-bayes-spam-lab/datasets_test/easy_ham/1347.b74ed7bb44086b2b4721bce965ac8273...\n",
      "Replacing bad words in ./course_dump/week08/day1_intro_to_bayesian_statistics/naive-bayes-spam-lab/datasets_test/easy_ham/0252.274e70cd31fb5c72b9e7aee909c53cb1...\n"
     ]
    },
    {
     "name": "stderr",
     "output_type": "stream",
     "text": [
      "57it [00:00, 1574.09it/s]\n",
      "179it [00:00, 1662.58it/s]\n",
      "86it [00:00, 1526.69it/s]\n",
      "0it [00:00, ?it/s]"
     ]
    },
    {
     "name": "stdout",
     "output_type": "stream",
     "text": [
      "Replacing bad words in ./course_dump/week08/day1_intro_to_bayesian_statistics/naive-bayes-spam-lab/datasets_test/easy_ham/0808.426e30e31a3d3fab634e31e8aeb30c34...\n",
      "Replacing bad words in ./course_dump/week08/day1_intro_to_bayesian_statistics/naive-bayes-spam-lab/datasets_test/easy_ham/1396.70a22c019be6a7cb4949e015fedb8bf0...\n",
      "Replacing bad words in ./course_dump/week08/day1_intro_to_bayesian_statistics/naive-bayes-spam-lab/datasets_test/easy_ham/1171.0e43e655cee3e8aa703995f8f929b9f1...\n"
     ]
    },
    {
     "name": "stderr",
     "output_type": "stream",
     "text": [
      "74it [00:00, 1510.20it/s]\n",
      "111it [00:00, 1612.43it/s]\n",
      "47it [00:00, 1430.98it/s]\n",
      "88it [00:00, 1527.75it/s]\n",
      "66it [00:00, 1589.65it/s]"
     ]
    },
    {
     "name": "stdout",
     "output_type": "stream",
     "text": [
      "Replacing bad words in ./course_dump/week08/day1_intro_to_bayesian_statistics/naive-bayes-spam-lab/datasets_test/easy_ham/1430.340721c84f45f79eeef6fcae18c82f20...\n",
      "Replacing bad words in ./course_dump/week08/day1_intro_to_bayesian_statistics/naive-bayes-spam-lab/datasets_test/easy_ham/2520.554ec4788bbcc1ed13c453719c8d698e...\n",
      "Replacing bad words in ./course_dump/week08/day1_intro_to_bayesian_statistics/naive-bayes-spam-lab/datasets_test/easy_ham/0008.20bc0b4ba2d99aae1c7098069f611a9b...\n",
      "Replacing bad words in ./course_dump/week08/day1_intro_to_bayesian_statistics/naive-bayes-spam-lab/datasets_test/easy_ham/foo1508.334b2eb6c70ba66605ebefc97924e7b3...\n"
     ]
    },
    {
     "name": "stderr",
     "output_type": "stream",
     "text": [
      "\n",
      "94it [00:00, 1346.06it/s]\n",
      "56it [00:00, 1452.90it/s]\n",
      "86it [00:00, 1532.19it/s]\n",
      "0it [00:00, ?it/s]"
     ]
    },
    {
     "name": "stdout",
     "output_type": "stream",
     "text": [
      "Replacing bad words in ./course_dump/week08/day1_intro_to_bayesian_statistics/naive-bayes-spam-lab/datasets_test/easy_ham/foo1313.921e45a5265e4d5d55f1245fe4399824...\n",
      "Replacing bad words in ./course_dump/week08/day1_intro_to_bayesian_statistics/naive-bayes-spam-lab/datasets_test/easy_ham/foo1925.7a2a85df917680fae73bb7ea68c0027a...\n",
      "Replacing bad words in ./course_dump/week08/day1_intro_to_bayesian_statistics/naive-bayes-spam-lab/datasets_test/easy_ham/foo0968.0be9064c59a1e2ff57a88a6254fc5c27...\n",
      "Replacing bad words in ./course_dump/week08/day1_intro_to_bayesian_statistics/naive-bayes-spam-lab/datasets_test/easy_ham/0474.0b5f82aa1324baf9cf718849c48d679e...\n"
     ]
    },
    {
     "name": "stderr",
     "output_type": "stream",
     "text": [
      "155it [00:00, 1611.27it/s]\n",
      "86it [00:00, 1562.79it/s]\n",
      "102it [00:00, 1571.55it/s]\n",
      "92it [00:00, 1524.98it/s]\n",
      "0it [00:00, ?it/s]"
     ]
    },
    {
     "name": "stdout",
     "output_type": "stream",
     "text": [
      "Replacing bad words in ./course_dump/week08/day1_intro_to_bayesian_statistics/naive-bayes-spam-lab/datasets_test/easy_ham/foo1331.6ad39d03e006435853139ea69757b8f4...\n",
      "Replacing bad words in ./course_dump/week08/day1_intro_to_bayesian_statistics/naive-bayes-spam-lab/datasets_test/easy_ham/0816.b3fb75007d4e83784b06dc8202028bbf...\n",
      "Replacing bad words in ./course_dump/week08/day1_intro_to_bayesian_statistics/naive-bayes-spam-lab/datasets_test/easy_ham/foo1419.21567426907fe2711bcb2cbff50a46e8...\n",
      "Replacing bad words in ./course_dump/week08/day1_intro_to_bayesian_statistics/naive-bayes-spam-lab/datasets_test/easy_ham/0396.0922332b5ca3f934481ab4c275a79001...\n"
     ]
    },
    {
     "name": "stderr",
     "output_type": "stream",
     "text": [
      "81it [00:00, 1277.08it/s]\n",
      "57it [00:00, 1165.16it/s]\n",
      "76it [00:00, 1406.24it/s]\n",
      "82it [00:00, 1478.42it/s]\n",
      "48it [00:00, 1605.27it/s]"
     ]
    },
    {
     "name": "stdout",
     "output_type": "stream",
     "text": [
      "Replacing bad words in ./course_dump/week08/day1_intro_to_bayesian_statistics/naive-bayes-spam-lab/datasets_test/easy_ham/1690.0b46c8163c389f96d88717fcbe93684c...\n",
      "Replacing bad words in ./course_dump/week08/day1_intro_to_bayesian_statistics/naive-bayes-spam-lab/datasets_test/easy_ham/foo0893.535c68823a7692562371ccebf36fb7b7...\n",
      "Replacing bad words in ./course_dump/week08/day1_intro_to_bayesian_statistics/naive-bayes-spam-lab/datasets_test/easy_ham/0562.7dea96e851b897ea041ea242a9d3c119...\n",
      "Replacing bad words in ./course_dump/week08/day1_intro_to_bayesian_statistics/naive-bayes-spam-lab/datasets_test/easy_ham/foo1751.7758ab9d9eb224bcb73e0e8e803e92c9...\n"
     ]
    },
    {
     "name": "stderr",
     "output_type": "stream",
     "text": [
      "\n",
      "122it [00:00, 1526.22it/s]\n",
      "67it [00:00, 1480.98it/s]\n",
      "0it [00:00, ?it/s]"
     ]
    },
    {
     "name": "stdout",
     "output_type": "stream",
     "text": [
      "Replacing bad words in ./course_dump/week08/day1_intro_to_bayesian_statistics/naive-bayes-spam-lab/datasets_test/easy_ham/0044.f1db2c76854ee58bc73d0c85ca6a86d2...\n",
      "Replacing bad words in ./course_dump/week08/day1_intro_to_bayesian_statistics/naive-bayes-spam-lab/datasets_test/easy_ham/0867.bd08bc5bff86a732422082ed7861416b...\n",
      "Replacing bad words in ./course_dump/week08/day1_intro_to_bayesian_statistics/naive-bayes-spam-lab/datasets_test/easy_ham/1308.f86cade0799b6d8cf98818a1bc598f7d...\n"
     ]
    },
    {
     "name": "stderr",
     "output_type": "stream",
     "text": [
      "93it [00:00, 1363.78it/s]\n",
      "30it [00:00, 1288.78it/s]\n",
      "181it [00:00, 1835.48it/s]\n",
      "102it [00:00, 1464.73it/s]\n"
     ]
    },
    {
     "name": "stdout",
     "output_type": "stream",
     "text": [
      "Replacing bad words in ./course_dump/week08/day1_intro_to_bayesian_statistics/naive-bayes-spam-lab/datasets_test/easy_ham/2171.a86d3fc0e0dbc1d4a829381e554fce82...\n",
      "Replacing bad words in ./course_dump/week08/day1_intro_to_bayesian_statistics/naive-bayes-spam-lab/datasets_test/easy_ham/foo1658.5668754ea9f7c62c42b2555e0ca7cdac...\n",
      "Replacing bad words in ./course_dump/week08/day1_intro_to_bayesian_statistics/naive-bayes-spam-lab/datasets_test/easy_ham/foo1266.52a2bf88987e97b6f4d5a743e353d50a...\n",
      "Replacing bad words in ./course_dump/week08/day1_intro_to_bayesian_statistics/naive-bayes-spam-lab/datasets_test/easy_ham/foo0655.62691c84d110fdfa26e8579cd00c1a68...\n"
     ]
    },
    {
     "name": "stderr",
     "output_type": "stream",
     "text": [
      "111it [00:00, 1504.99it/s]\n",
      "63it [00:00, 1546.36it/s]\n",
      "54it [00:00, 1562.07it/s]\n",
      "82it [00:00, 1496.23it/s]\n",
      "101it [00:00, 1554.63it/s]"
     ]
    },
    {
     "name": "stdout",
     "output_type": "stream",
     "text": [
      "Replacing bad words in ./course_dump/week08/day1_intro_to_bayesian_statistics/naive-bayes-spam-lab/datasets_test/easy_ham/foo0096.0446f3ed63b550a8622c8671d8ae9a9c...\n",
      "Replacing bad words in ./course_dump/week08/day1_intro_to_bayesian_statistics/naive-bayes-spam-lab/datasets_test/easy_ham/0471.55f1c6122fd60d151c2c42182ecb734a...\n",
      "Replacing bad words in ./course_dump/week08/day1_intro_to_bayesian_statistics/naive-bayes-spam-lab/datasets_test/easy_ham/foo0536.ba3a7bb7f4797867867494246c8f6dec...\n",
      "Replacing bad words in ./course_dump/week08/day1_intro_to_bayesian_statistics/naive-bayes-spam-lab/datasets_test/easy_ham/1505.7cc0d1e500937105c1503d63bd0b5161...\n"
     ]
    },
    {
     "name": "stderr",
     "output_type": "stream",
     "text": [
      "\n",
      "100it [00:00, 1716.06it/s]\n",
      "73it [00:00, 1680.01it/s]\n",
      "62it [00:00, 1770.52it/s]\n",
      "51it [00:00, 1435.85it/s]\n",
      "0it [00:00, ?it/s]"
     ]
    },
    {
     "name": "stdout",
     "output_type": "stream",
     "text": [
      "Replacing bad words in ./course_dump/week08/day1_intro_to_bayesian_statistics/naive-bayes-spam-lab/datasets_test/easy_ham/0614.b5bf667c7ffd59fca7f26a8ca1f8deea...\n",
      "Replacing bad words in ./course_dump/week08/day1_intro_to_bayesian_statistics/naive-bayes-spam-lab/datasets_test/easy_ham/foo1165.aadda731590fa41de3e8c5926bb5744b...\n",
      "Replacing bad words in ./course_dump/week08/day1_intro_to_bayesian_statistics/naive-bayes-spam-lab/datasets_test/easy_ham/0173.3898127723ae4ac964f41c1a555c6ecb...\n",
      "Replacing bad words in ./course_dump/week08/day1_intro_to_bayesian_statistics/naive-bayes-spam-lab/datasets_test/easy_ham/1815.c20d5899b4b27415389a10cd4f400019...\n",
      "Replacing bad words in ./course_dump/week08/day1_intro_to_bayesian_statistics/naive-bayes-spam-lab/datasets_test/easy_ham/0201.9381ed9aa6cd60f2111acb409240a00b...\n"
     ]
    },
    {
     "name": "stderr",
     "output_type": "stream",
     "text": [
      "89it [00:00, 1700.56it/s]\n",
      "60it [00:00, 1478.01it/s]\n",
      "70it [00:00, 1393.20it/s]\n",
      "0it [00:00, ?it/s]"
     ]
    },
    {
     "name": "stdout",
     "output_type": "stream",
     "text": [
      "Replacing bad words in ./course_dump/week08/day1_intro_to_bayesian_statistics/naive-bayes-spam-lab/datasets_test/easy_ham/foo0567.41bb1a0c6c8c5584844c6baa2612ede2...\n",
      "Replacing bad words in ./course_dump/week08/day1_intro_to_bayesian_statistics/naive-bayes-spam-lab/datasets_test/easy_ham/0839.12075b1a4eb499ff6a0d7fd0e9d776db...\n",
      "Replacing bad words in ./course_dump/week08/day1_intro_to_bayesian_statistics/naive-bayes-spam-lab/datasets_test/easy_ham/foo1562.6aca6138ec917241b64782a98697c17f...\n"
     ]
    },
    {
     "name": "stderr",
     "output_type": "stream",
     "text": [
      "174it [00:00, 1130.86it/s]\n",
      "130it [00:00, 1031.13it/s]\n",
      "93it [00:00, 1815.93it/s]\n",
      "0it [00:00, ?it/s]"
     ]
    },
    {
     "name": "stdout",
     "output_type": "stream",
     "text": [
      "Replacing bad words in ./course_dump/week08/day1_intro_to_bayesian_statistics/naive-bayes-spam-lab/datasets_test/easy_ham/foo1070.08b260e66ee072ebac13b66969730352...\n",
      "Replacing bad words in ./course_dump/week08/day1_intro_to_bayesian_statistics/naive-bayes-spam-lab/datasets_test/easy_ham/foo0752.17c76022e66852f8a3cff5745f5937d4...\n",
      "Replacing bad words in ./course_dump/week08/day1_intro_to_bayesian_statistics/naive-bayes-spam-lab/datasets_test/easy_ham/0757.c32bb650e588ceb29f2256b012caabae...\n"
     ]
    },
    {
     "name": "stderr",
     "output_type": "stream",
     "text": [
      "68it [00:00, 1483.39it/s]\n",
      "67it [00:00, 1134.47it/s]\n",
      "136it [00:00, 1526.68it/s]\n",
      "0it [00:00, ?it/s]"
     ]
    },
    {
     "name": "stdout",
     "output_type": "stream",
     "text": [
      "Replacing bad words in ./course_dump/week08/day1_intro_to_bayesian_statistics/naive-bayes-spam-lab/datasets_test/easy_ham/foo0579.1220a78a48fabb67052c021782ae7720...\n",
      "Replacing bad words in ./course_dump/week08/day1_intro_to_bayesian_statistics/naive-bayes-spam-lab/datasets_test/easy_ham/foo0889.19010d78004033878d170ffbcd3b1053...\n",
      "Replacing bad words in ./course_dump/week08/day1_intro_to_bayesian_statistics/naive-bayes-spam-lab/datasets_test/easy_ham/foo1156.526d3b7c28d6e06d2672f8d9058d5e93...\n"
     ]
    },
    {
     "name": "stderr",
     "output_type": "stream",
     "text": [
      "97it [00:00, 1285.67it/s]\n",
      "119it [00:00, 1309.06it/s]\n",
      "26it [00:00, 1418.95it/s]\n",
      "73it [00:00, 1495.33it/s]\n",
      "0it [00:00, ?it/s]"
     ]
    },
    {
     "name": "stdout",
     "output_type": "stream",
     "text": [
      "Replacing bad words in ./course_dump/week08/day1_intro_to_bayesian_statistics/naive-bayes-spam-lab/datasets_test/easy_ham/0286.25aefc468274fe144edb1ee788d6c999...\n",
      "Replacing bad words in ./course_dump/week08/day1_intro_to_bayesian_statistics/naive-bayes-spam-lab/datasets_test/easy_ham/foofoo0181.d16658bb110eb37495081efa07319db1...\n",
      "Replacing bad words in ./course_dump/week08/day1_intro_to_bayesian_statistics/naive-bayes-spam-lab/datasets_test/easy_ham/0267.218a528c448166d39f853cf75d8890dd...\n",
      "Replacing bad words in ./course_dump/week08/day1_intro_to_bayesian_statistics/naive-bayes-spam-lab/datasets_test/easy_ham/foo0260.b68400a28ee29cb2f24149a03db1fd9e...\n"
     ]
    },
    {
     "name": "stderr",
     "output_type": "stream",
     "text": [
      "61it [00:00, 1602.09it/s]\n",
      "38it [00:00, 1402.90it/s]\n",
      "67it [00:00, 1456.66it/s]\n",
      "30it [00:00, 1536.32it/s]\n",
      "39it [00:00, 1419.40it/s]\n",
      "78it [00:00, 1425.27it/s]\n",
      "31it [00:00, 1308.90it/s]"
     ]
    },
    {
     "name": "stdout",
     "output_type": "stream",
     "text": [
      "Replacing bad words in ./course_dump/week08/day1_intro_to_bayesian_statistics/naive-bayes-spam-lab/datasets_test/easy_ham/2539.466ecd08a54bf64e857522423a33108a...\n",
      "Replacing bad words in ./course_dump/week08/day1_intro_to_bayesian_statistics/naive-bayes-spam-lab/datasets_test/easy_ham/foo1883.c01cf3c82533724234cb1e6ae871027d...\n",
      "Replacing bad words in ./course_dump/week08/day1_intro_to_bayesian_statistics/naive-bayes-spam-lab/datasets_test/easy_ham/2370.798d5a7c04b417c51bc86de7509e4503...\n",
      "Replacing bad words in ./course_dump/week08/day1_intro_to_bayesian_statistics/naive-bayes-spam-lab/datasets_test/easy_ham/2030.24e53d05c56b58c3de6ef15c92140c10...\n",
      "Replacing bad words in ./course_dump/week08/day1_intro_to_bayesian_statistics/naive-bayes-spam-lab/datasets_test/easy_ham/foo1295.0a074d85f629ec018959632659ee31ee...\n",
      "Replacing bad words in ./course_dump/week08/day1_intro_to_bayesian_statistics/naive-bayes-spam-lab/datasets_test/easy_ham/2100.df0d7bf93b86d3cb7795c3dbd3f0200d...\n"
     ]
    },
    {
     "name": "stderr",
     "output_type": "stream",
     "text": [
      "\n",
      "108it [00:00, 1540.39it/s]\n",
      "30it [00:00, 1222.13it/s]\n",
      "79it [00:00, 1160.77it/s]\n",
      "29it [00:00, 1056.88it/s]"
     ]
    },
    {
     "name": "stdout",
     "output_type": "stream",
     "text": [
      "Replacing bad words in ./course_dump/week08/day1_intro_to_bayesian_statistics/naive-bayes-spam-lab/datasets_test/easy_ham/foo1155.08c63446a38f2603d099ae25aff92c55...\n",
      "Replacing bad words in ./course_dump/week08/day1_intro_to_bayesian_statistics/naive-bayes-spam-lab/datasets_test/easy_ham/2078.9bb650992dad02cef6105da91f7cf807...\n",
      "Replacing bad words in ./course_dump/week08/day1_intro_to_bayesian_statistics/naive-bayes-spam-lab/datasets_test/easy_ham/1187.e5fee75dd86128e81186369567522f61...\n",
      "Replacing bad words in ./course_dump/week08/day1_intro_to_bayesian_statistics/naive-bayes-spam-lab/datasets_test/easy_ham/foo2267.816224149ebb21f829d9e39f8ad00f4e...\n"
     ]
    },
    {
     "name": "stderr",
     "output_type": "stream",
     "text": [
      "\n",
      "184it [00:00, 1228.31it/s]\n",
      "29it [00:00, 1288.08it/s]\n",
      "0it [00:00, ?it/s]"
     ]
    },
    {
     "name": "stdout",
     "output_type": "stream",
     "text": [
      "Replacing bad words in ./course_dump/week08/day1_intro_to_bayesian_statistics/naive-bayes-spam-lab/datasets_test/easy_ham/0541.ab739b149f085a5830ec76c633db2850...\n",
      "Replacing bad words in ./course_dump/week08/day1_intro_to_bayesian_statistics/naive-bayes-spam-lab/datasets_test/easy_ham/foo2126.44971810848293faf930b319d2be68bb...\n",
      "Replacing bad words in ./course_dump/week08/day1_intro_to_bayesian_statistics/naive-bayes-spam-lab/datasets_test/easy_ham/1573.2fa3928a9828d1c51517565a833b9f18...\n"
     ]
    },
    {
     "name": "stderr",
     "output_type": "stream",
     "text": [
      "83it [00:00, 1205.31it/s]\n",
      "28it [00:00, 1344.34it/s]\n",
      "66it [00:00, 1022.84it/s]\n",
      "125it [00:00, 1246.39it/s]"
     ]
    },
    {
     "name": "stdout",
     "output_type": "stream",
     "text": [
      "Replacing bad words in ./course_dump/week08/day1_intro_to_bayesian_statistics/naive-bayes-spam-lab/datasets_test/easy_ham/1833.3d930e2d4968f325cc6a773df09e8969...\n",
      "Replacing bad words in ./course_dump/week08/day1_intro_to_bayesian_statistics/naive-bayes-spam-lab/datasets_test/easy_ham/foo0363.52461bc133cd3bf0b95a4e40ddb28a7e...\n",
      "Replacing bad words in ./course_dump/week08/day1_intro_to_bayesian_statistics/naive-bayes-spam-lab/datasets_test/easy_ham/foo0375.54d0a570b81851127b73cebb8741a2df...\n"
     ]
    },
    {
     "name": "stderr",
     "output_type": "stream",
     "text": [
      "132it [00:00, 1210.61it/s]\n",
      "103it [00:00, 1377.11it/s]\n",
      "159it [00:00, 1738.01it/s]\n",
      "0it [00:00, ?it/s]"
     ]
    },
    {
     "name": "stdout",
     "output_type": "stream",
     "text": [
      "Replacing bad words in ./course_dump/week08/day1_intro_to_bayesian_statistics/naive-bayes-spam-lab/datasets_test/easy_ham/1072.f4f42529de5e15b3a123e5ec89f4dc49...\n",
      "Replacing bad words in ./course_dump/week08/day1_intro_to_bayesian_statistics/naive-bayes-spam-lab/datasets_test/easy_ham/0799.eb9fe164fe9541253b4ab806626ab171...\n",
      "Replacing bad words in ./course_dump/week08/day1_intro_to_bayesian_statistics/naive-bayes-spam-lab/datasets_test/easy_ham/foofoo1237.4bb6dda7449161c5c971565261b5bf22...\n"
     ]
    },
    {
     "name": "stderr",
     "output_type": "stream",
     "text": [
      "127it [00:00, 1777.11it/s]\n",
      "100it [00:00, 1130.27it/s]\n",
      "74it [00:00, 1136.62it/s]\n",
      "0it [00:00, ?it/s]"
     ]
    },
    {
     "name": "stdout",
     "output_type": "stream",
     "text": [
      "Replacing bad words in ./course_dump/week08/day1_intro_to_bayesian_statistics/naive-bayes-spam-lab/datasets_test/easy_ham/0323.d28819c84ee48388f5a58021028385dc...\n",
      "Replacing bad words in ./course_dump/week08/day1_intro_to_bayesian_statistics/naive-bayes-spam-lab/datasets_test/easy_ham/1312.cb81f191343dc4f26a8a601cf73d790f...\n",
      "Replacing bad words in ./course_dump/week08/day1_intro_to_bayesian_statistics/naive-bayes-spam-lab/datasets_test/easy_ham/1685.cd6b27de2307413e47e0212f8d4fc9bb...\n"
     ]
    },
    {
     "name": "stderr",
     "output_type": "stream",
     "text": [
      "126it [00:00, 1320.21it/s]\n",
      "105it [00:00, 1265.24it/s]\n",
      "30it [00:00, 1103.56it/s]\n",
      "0it [00:00, ?it/s]"
     ]
    },
    {
     "name": "stdout",
     "output_type": "stream",
     "text": [
      "Replacing bad words in ./course_dump/week08/day1_intro_to_bayesian_statistics/naive-bayes-spam-lab/datasets_test/easy_ham/foo0147.16b764c5bd3e419cc5b6d0145b2d8145...\n",
      "Replacing bad words in ./course_dump/week08/day1_intro_to_bayesian_statistics/naive-bayes-spam-lab/datasets_test/easy_ham/2218.4627a0ebd744927f2957e7e014fb82fe...\n",
      "Replacing bad words in ./course_dump/week08/day1_intro_to_bayesian_statistics/naive-bayes-spam-lab/datasets_test/easy_ham/0100.1728f45047ff2a1601d4e3ee91f26a00...\n"
     ]
    },
    {
     "name": "stderr",
     "output_type": "stream",
     "text": [
      "98it [00:00, 1251.28it/s]\n",
      "33it [00:00, 1030.84it/s]\n",
      "86it [00:00, 1016.88it/s]\n",
      "70it [00:00, 1136.37it/s]\n",
      "0it [00:00, ?it/s]"
     ]
    },
    {
     "name": "stdout",
     "output_type": "stream",
     "text": [
      "Replacing bad words in ./course_dump/week08/day1_intro_to_bayesian_statistics/naive-bayes-spam-lab/datasets_test/easy_ham/foo1789.146b27f3890e3350b0e596b42e18a985...\n",
      "Replacing bad words in ./course_dump/week08/day1_intro_to_bayesian_statistics/naive-bayes-spam-lab/datasets_test/easy_ham/0158.05f321b3cb42b6b62bc8a250a7bad59f...\n",
      "Replacing bad words in ./course_dump/week08/day1_intro_to_bayesian_statistics/naive-bayes-spam-lab/datasets_test/easy_ham/0928.bb2dbf50d5b36b5f621764e2ed1cf417...\n",
      "Replacing bad words in ./course_dump/week08/day1_intro_to_bayesian_statistics/naive-bayes-spam-lab/datasets_test/easy_ham/foo0932.13ae6a0c179018c3e955c626b48fd069...\n"
     ]
    },
    {
     "name": "stderr",
     "output_type": "stream",
     "text": [
      "80it [00:00, 1066.73it/s]\n",
      "91it [00:00, 1329.54it/s]\n",
      "87it [00:00, 1390.72it/s]\n",
      "0it [00:00, ?it/s]"
     ]
    },
    {
     "name": "stdout",
     "output_type": "stream",
     "text": [
      "Replacing bad words in ./course_dump/week08/day1_intro_to_bayesian_statistics/naive-bayes-spam-lab/datasets_test/easy_ham/0760.15302b8ee38651c2da6e4df6a7358c98...\n",
      "Replacing bad words in ./course_dump/week08/day1_intro_to_bayesian_statistics/naive-bayes-spam-lab/datasets_test/easy_ham/foofoo1520.227b74e7890079e47c5c8890d64c1383...\n",
      "Replacing bad words in ./course_dump/week08/day1_intro_to_bayesian_statistics/naive-bayes-spam-lab/datasets_test/easy_ham/foo0684.f0f0e8e9d0c203b93278c58447e3ce88...\n"
     ]
    },
    {
     "name": "stderr",
     "output_type": "stream",
     "text": [
      "74it [00:00, 1317.86it/s]\n",
      "35it [00:00, 1121.17it/s]\n",
      "93it [00:00, 1503.66it/s]\n",
      "113it [00:00, 1574.66it/s]\n",
      "0it [00:00, ?it/s]"
     ]
    },
    {
     "name": "stdout",
     "output_type": "stream",
     "text": [
      "Replacing bad words in ./course_dump/week08/day1_intro_to_bayesian_statistics/naive-bayes-spam-lab/datasets_test/easy_ham/foo1955.29f186d81a38a1a4a249c7d84182bb90...\n",
      "Replacing bad words in ./course_dump/week08/day1_intro_to_bayesian_statistics/naive-bayes-spam-lab/datasets_test/easy_ham/1202.f08961f34260e8c17e28d788641f21c5...\n",
      "Replacing bad words in ./course_dump/week08/day1_intro_to_bayesian_statistics/naive-bayes-spam-lab/datasets_test/easy_ham/foo1450.c0ce160e1b285899424541ccd82b71b1...\n",
      "Replacing bad words in ./course_dump/week08/day1_intro_to_bayesian_statistics/naive-bayes-spam-lab/datasets_test/easy_ham/foo2152.d8dd8a2810797c245f91ae73868e72c8...\n"
     ]
    },
    {
     "name": "stderr",
     "output_type": "stream",
     "text": [
      "33it [00:00, 1319.40it/s]\n",
      "30it [00:00, 1450.00it/s]\n",
      "59it [00:00, 1356.67it/s]\n",
      "29it [00:00, 1348.40it/s]\n",
      "52it [00:00, 1283.62it/s]\n",
      "0it [00:00, ?it/s]"
     ]
    },
    {
     "name": "stdout",
     "output_type": "stream",
     "text": [
      "Replacing bad words in ./course_dump/week08/day1_intro_to_bayesian_statistics/naive-bayes-spam-lab/datasets_test/easy_ham/2205.de62f007c5cc4e08cae87d1c81b24937...\n",
      "Replacing bad words in ./course_dump/week08/day1_intro_to_bayesian_statistics/naive-bayes-spam-lab/datasets_test/easy_ham/foo0542.9a7c09acf3e7748e4ae90a48959e731f...\n",
      "Replacing bad words in ./course_dump/week08/day1_intro_to_bayesian_statistics/naive-bayes-spam-lab/datasets_test/easy_ham/foo2333.4632abb5df000cd505ca4516b2dba0cf...\n",
      "Replacing bad words in ./course_dump/week08/day1_intro_to_bayesian_statistics/naive-bayes-spam-lab/datasets_test/easy_ham/foo0390.d1ecb44eef90f33245ee0835d94e80ad...\n",
      "Replacing bad words in ./course_dump/week08/day1_intro_to_bayesian_statistics/naive-bayes-spam-lab/datasets_test/easy_ham/1377.b6f9379076911dc30e73da8e76893923...\n"
     ]
    },
    {
     "name": "stderr",
     "output_type": "stream",
     "text": [
      "126it [00:00, 1603.43it/s]\n",
      "57it [00:00, 1456.91it/s]\n",
      "71it [00:00, 1309.99it/s]\n",
      "73it [00:00, 1451.49it/s]\n",
      "0it [00:00, ?it/s]"
     ]
    },
    {
     "name": "stdout",
     "output_type": "stream",
     "text": [
      "Replacing bad words in ./course_dump/week08/day1_intro_to_bayesian_statistics/naive-bayes-spam-lab/datasets_test/easy_ham/foo1995.fa031be950098e730d0c0c1cbaf756e7...\n",
      "Replacing bad words in ./course_dump/week08/day1_intro_to_bayesian_statistics/naive-bayes-spam-lab/datasets_test/easy_ham/0540.e0eb7ff6a98c054571e07addde3cc4de...\n",
      "Replacing bad words in ./course_dump/week08/day1_intro_to_bayesian_statistics/naive-bayes-spam-lab/datasets_test/easy_ham/0914.77308dfba976d8491bad00bb7e616166...\n",
      "Replacing bad words in ./course_dump/week08/day1_intro_to_bayesian_statistics/naive-bayes-spam-lab/datasets_test/easy_ham/0296.42216a75e0256510b216eaba6893d40d...\n"
     ]
    },
    {
     "name": "stderr",
     "output_type": "stream",
     "text": [
      "79it [00:00, 1665.26it/s]\n",
      "53it [00:00, 1421.36it/s]\n",
      "93it [00:00, 1481.16it/s]\n",
      "79it [00:00, 1545.93it/s]\n",
      "31it [00:00, 1649.94it/s]\n",
      "0it [00:00, ?it/s]"
     ]
    },
    {
     "name": "stdout",
     "output_type": "stream",
     "text": [
      "Replacing bad words in ./course_dump/week08/day1_intro_to_bayesian_statistics/naive-bayes-spam-lab/datasets_test/easy_ham/foo1932.e94c6220cb5e6a61437ac4ebf873b68f...\n",
      "Replacing bad words in ./course_dump/week08/day1_intro_to_bayesian_statistics/naive-bayes-spam-lab/datasets_test/easy_ham/1251.6ea8eef15987f10def40abffda965da9...\n",
      "Replacing bad words in ./course_dump/week08/day1_intro_to_bayesian_statistics/naive-bayes-spam-lab/datasets_test/easy_ham/foo0016.d82758030e304d41fb3f4ebbb7d9dd91...\n",
      "Replacing bad words in ./course_dump/week08/day1_intro_to_bayesian_statistics/naive-bayes-spam-lab/datasets_test/easy_ham/2400.49e310283d53c6a1d475fafb88e0e424...\n",
      "Replacing bad words in ./course_dump/week08/day1_intro_to_bayesian_statistics/naive-bayes-spam-lab/datasets_test/easy_ham/foo0896.cf28f52e82954eb5d05ed5f17df4262f...\n"
     ]
    },
    {
     "name": "stderr",
     "output_type": "stream",
     "text": [
      "190it [00:00, 1576.81it/s]\n",
      "70it [00:00, 1693.92it/s]\n",
      "97it [00:00, 1671.53it/s]\n",
      "80it [00:00, 1335.91it/s]\n",
      "14it [00:00, 1458.02it/s]\n",
      "0it [00:00, ?it/s]"
     ]
    },
    {
     "name": "stdout",
     "output_type": "stream",
     "text": [
      "Replacing bad words in ./course_dump/week08/day1_intro_to_bayesian_statistics/naive-bayes-spam-lab/datasets_test/easy_ham/foo1577.da07880d399d5552771d328aea473928...\n",
      "Replacing bad words in ./course_dump/week08/day1_intro_to_bayesian_statistics/naive-bayes-spam-lab/datasets_test/easy_ham/1064.cc185e02744782aa86371b064d602e62...\n",
      "Replacing bad words in ./course_dump/week08/day1_intro_to_bayesian_statistics/naive-bayes-spam-lab/datasets_test/easy_ham/foo0026.6baf1aea162ccb9a6e9f142c0715ceb4...\n",
      "Replacing bad words in ./course_dump/week08/day1_intro_to_bayesian_statistics/naive-bayes-spam-lab/datasets_test/easy_ham/1509.dd0b9717ec7e25f4adb5a5aefa204ba1...\n",
      "Replacing bad words in ./course_dump/week08/day1_intro_to_bayesian_statistics/naive-bayes-spam-lab/datasets_test/easy_ham/2220.47fdcb48672a1f836c88bb76344fae46...\n"
     ]
    },
    {
     "name": "stderr",
     "output_type": "stream",
     "text": [
      "30it [00:00, 1499.14it/s]\n",
      "74it [00:00, 1598.00it/s]\n",
      "72it [00:00, 1556.74it/s]\n",
      "71it [00:00, 1565.02it/s]\n",
      "72it [00:00, 1516.34it/s]\n"
     ]
    },
    {
     "name": "stdout",
     "output_type": "stream",
     "text": [
      "Replacing bad words in ./course_dump/week08/day1_intro_to_bayesian_statistics/naive-bayes-spam-lab/datasets_test/easy_ham/foo0921.5a4eee7f38a1451abb6054901280b699...\n",
      "Replacing bad words in ./course_dump/week08/day1_intro_to_bayesian_statistics/naive-bayes-spam-lab/datasets_test/easy_ham/0666.d26ea575aa017100f7caa40a0462fcc4...\n",
      "Replacing bad words in ./course_dump/week08/day1_intro_to_bayesian_statistics/naive-bayes-spam-lab/datasets_test/easy_ham/1600.7d1caa5855ff06f37269178401aff693...\n",
      "Replacing bad words in ./course_dump/week08/day1_intro_to_bayesian_statistics/naive-bayes-spam-lab/datasets_test/easy_ham/0750.afa51a5a148c9744496447cf28d7483c...\n"
     ]
    },
    {
     "name": "stderr",
     "output_type": "stream",
     "text": [
      "114it [00:00, 1569.17it/s]\n",
      "130it [00:00, 1586.39it/s]\n",
      "0it [00:00, ?it/s]"
     ]
    },
    {
     "name": "stdout",
     "output_type": "stream",
     "text": [
      "Replacing bad words in ./course_dump/week08/day1_intro_to_bayesian_statistics/naive-bayes-spam-lab/datasets_test/easy_ham/foo1129.50af16cc80052d1d25f28edcd3d1f439...\n",
      "Replacing bad words in ./course_dump/week08/day1_intro_to_bayesian_statistics/naive-bayes-spam-lab/datasets_test/easy_ham/1257.955825e253f61831ee071109a66f0fe9...\n",
      "Replacing bad words in ./course_dump/week08/day1_intro_to_bayesian_statistics/naive-bayes-spam-lab/datasets_test/easy_ham/foo0251.f9d83ac9ced9eab63df7da2bccb83bc8...\n"
     ]
    },
    {
     "name": "stderr",
     "output_type": "stream",
     "text": [
      "71it [00:00, 1197.68it/s]\n",
      "54it [00:00, 925.08it/s]\n",
      "36it [00:00, 1005.53it/s]\n",
      "96it [00:00, 1185.83it/s]\n",
      "0it [00:00, ?it/s]"
     ]
    },
    {
     "name": "stdout",
     "output_type": "stream",
     "text": [
      "Replacing bad words in ./course_dump/week08/day1_intro_to_bayesian_statistics/naive-bayes-spam-lab/datasets_test/easy_ham/foo0403.1e5eeaca6a82f4eeccc65c179efe2c7c...\n",
      "Replacing bad words in ./course_dump/week08/day1_intro_to_bayesian_statistics/naive-bayes-spam-lab/datasets_test/easy_ham/2470.e2f55eaf9c7aed2b85c4b4ca65781d3d...\n",
      "Replacing bad words in ./course_dump/week08/day1_intro_to_bayesian_statistics/naive-bayes-spam-lab/datasets_test/easy_ham/foo1119.ce22f4a2ffbc03cd2625cb10ba561058...\n",
      "Replacing bad words in ./course_dump/week08/day1_intro_to_bayesian_statistics/naive-bayes-spam-lab/datasets_test/easy_ham/0140.009d880f185eca560c8496da54b447ae...\n"
     ]
    },
    {
     "name": "stderr",
     "output_type": "stream",
     "text": [
      "73it [00:00, 1030.85it/s]\n",
      "101it [00:00, 1724.65it/s]\n",
      "31it [00:00, 1269.28it/s]\n",
      "34it [00:00, 1676.12it/s]\n",
      "51it [00:00, 1708.21it/s]\n",
      "0it [00:00, ?it/s]"
     ]
    },
    {
     "name": "stdout",
     "output_type": "stream",
     "text": [
      "Replacing bad words in ./course_dump/week08/day1_intro_to_bayesian_statistics/naive-bayes-spam-lab/datasets_test/easy_ham/foo1500.2e6e497d8947d6125050b838efe4cf1f...\n",
      "Replacing bad words in ./course_dump/week08/day1_intro_to_bayesian_statistics/naive-bayes-spam-lab/datasets_test/easy_ham/foo1951.c2e97ca6bd086d1944332980c1f64b65...\n",
      "Replacing bad words in ./course_dump/week08/day1_intro_to_bayesian_statistics/naive-bayes-spam-lab/datasets_test/easy_ham/foo2418.6ac869fbb6afa9c38fbcf48e1e49ad3a...\n",
      "Replacing bad words in ./course_dump/week08/day1_intro_to_bayesian_statistics/naive-bayes-spam-lab/datasets_test/easy_ham/1886.bfb82bb59d7af53e18c36ad736c7d99b...\n",
      "Replacing bad words in ./course_dump/week08/day1_intro_to_bayesian_statistics/naive-bayes-spam-lab/datasets_test/easy_ham/foo0659.81f1a5072ceecb246d133ec78a8e33eb...\n"
     ]
    },
    {
     "name": "stderr",
     "output_type": "stream",
     "text": [
      "84it [00:00, 1470.99it/s]\n",
      "61it [00:00, 1325.85it/s]\n",
      "63it [00:00, 1491.75it/s]\n",
      "72it [00:00, 1366.98it/s]\n",
      "55it [00:00, 1454.69it/s]\n",
      "0it [00:00, ?it/s]"
     ]
    },
    {
     "name": "stdout",
     "output_type": "stream",
     "text": [
      "Replacing bad words in ./course_dump/week08/day1_intro_to_bayesian_statistics/naive-bayes-spam-lab/datasets_test/easy_ham/foo0099.9f54be08406e67fd8944f2f1d0fbdd90...\n",
      "Replacing bad words in ./course_dump/week08/day1_intro_to_bayesian_statistics/naive-bayes-spam-lab/datasets_test/easy_ham/0549.59f3057eef31f2b8ebb02446556a3f37...\n",
      "Replacing bad words in ./course_dump/week08/day1_intro_to_bayesian_statistics/naive-bayes-spam-lab/datasets_test/easy_ham/foo0084.e84ff95488fab22c26801bcd5bae337e...\n",
      "Replacing bad words in ./course_dump/week08/day1_intro_to_bayesian_statistics/naive-bayes-spam-lab/datasets_test/easy_ham/2166.1b4ee93f256355cb32c60aaddc07e90a...\n",
      "Replacing bad words in ./course_dump/week08/day1_intro_to_bayesian_statistics/naive-bayes-spam-lab/datasets_test/easy_ham/0751.58282452f1adc8ad703ddc4cf12c2e37...\n"
     ]
    },
    {
     "name": "stderr",
     "output_type": "stream",
     "text": [
      "71it [00:00, 1495.85it/s]\n",
      "184it [00:00, 1950.66it/s]\n",
      "41it [00:00, 1512.46it/s]\n",
      "65it [00:00, 1450.91it/s]\n",
      "0it [00:00, ?it/s]"
     ]
    },
    {
     "name": "stdout",
     "output_type": "stream",
     "text": [
      "Replacing bad words in ./course_dump/week08/day1_intro_to_bayesian_statistics/naive-bayes-spam-lab/datasets_test/easy_ham/foo1445.57f9856f348cda1656331372731701eb...\n",
      "Replacing bad words in ./course_dump/week08/day1_intro_to_bayesian_statistics/naive-bayes-spam-lab/datasets_test/easy_ham/0049.bda43370915afa1f557f7edab6913e04...\n",
      "Replacing bad words in ./course_dump/week08/day1_intro_to_bayesian_statistics/naive-bayes-spam-lab/datasets_test/easy_ham/0900.b7895454aeb2924c3d6aabf1dc5d16dd...\n",
      "Replacing bad words in ./course_dump/week08/day1_intro_to_bayesian_statistics/naive-bayes-spam-lab/datasets_test/easy_ham/foo1534.9422e1b77d4239d246fc1d8a79d62d07...\n"
     ]
    },
    {
     "name": "stderr",
     "output_type": "stream",
     "text": [
      "107it [00:00, 1324.17it/s]\n",
      "93it [00:00, 1498.78it/s]\n",
      "60it [00:00, 1362.55it/s]\n",
      "93it [00:00, 1519.34it/s]\n",
      "38it [00:00, 1708.91it/s]"
     ]
    },
    {
     "name": "stdout",
     "output_type": "stream",
     "text": [
      "Replacing bad words in ./course_dump/week08/day1_intro_to_bayesian_statistics/naive-bayes-spam-lab/datasets_test/easy_ham/foo1221.a0bef61f14f60b8a74f76f6a20651731...\n",
      "Replacing bad words in ./course_dump/week08/day1_intro_to_bayesian_statistics/naive-bayes-spam-lab/datasets_test/easy_ham/2455.a8172ce70c990c52ba73c2f2cb17b5f2...\n",
      "Replacing bad words in ./course_dump/week08/day1_intro_to_bayesian_statistics/naive-bayes-spam-lab/datasets_test/easy_ham/0713.cef5181b3dfde07e06fd81c8cfc7d39e...\n",
      "Replacing bad words in ./course_dump/week08/day1_intro_to_bayesian_statistics/naive-bayes-spam-lab/datasets_test/easy_ham/foofoo2414.9762e257ad9e6b6633dba8432ffb90de...\n"
     ]
    },
    {
     "name": "stderr",
     "output_type": "stream",
     "text": [
      "\n",
      "75it [00:00, 1548.00it/s]\n",
      "29it [00:00, 1366.93it/s]\n",
      "34it [00:00, 1465.23it/s]\n",
      "77it [00:00, 1675.22it/s]\n",
      "0it [00:00, ?it/s]"
     ]
    },
    {
     "name": "stdout",
     "output_type": "stream",
     "text": [
      "Replacing bad words in ./course_dump/week08/day1_intro_to_bayesian_statistics/naive-bayes-spam-lab/datasets_test/easy_ham/foo0678.98548de034832af64015d60cec0d69c6...\n",
      "Replacing bad words in ./course_dump/week08/day1_intro_to_bayesian_statistics/naive-bayes-spam-lab/datasets_test/easy_ham/2129.3d86d3c841fb61e241b77634c774c7fa...\n",
      "Replacing bad words in ./course_dump/week08/day1_intro_to_bayesian_statistics/naive-bayes-spam-lab/datasets_test/easy_ham/foo2008.104cbf95bca77edcf27dd90b2b74b1b8...\n",
      "Replacing bad words in ./course_dump/week08/day1_intro_to_bayesian_statistics/naive-bayes-spam-lab/datasets_test/easy_ham/foo0581.b249b5db741f2691a42653eab71795fe...\n",
      "Replacing bad words in ./course_dump/week08/day1_intro_to_bayesian_statistics/naive-bayes-spam-lab/datasets_test/easy_ham/foo0584.f667c1b60fb4a592ef72138de5ec4c00...\n"
     ]
    },
    {
     "name": "stderr",
     "output_type": "stream",
     "text": [
      "219it [00:00, 1893.73it/s]\n",
      "87it [00:00, 1521.70it/s]\n",
      "29it [00:00, 1317.12it/s]\n",
      "95it [00:00, 1463.58it/s]\n",
      "0it [00:00, ?it/s]"
     ]
    },
    {
     "name": "stdout",
     "output_type": "stream",
     "text": [
      "Replacing bad words in ./course_dump/week08/day1_intro_to_bayesian_statistics/naive-bayes-spam-lab/datasets_test/easy_ham/1150.7c0819a67445e3b16a94c43e003d74db...\n",
      "Replacing bad words in ./course_dump/week08/day1_intro_to_bayesian_statistics/naive-bayes-spam-lab/datasets_test/easy_ham/2261.db40430b71ffa3e8f18a564181567788...\n",
      "Replacing bad words in ./course_dump/week08/day1_intro_to_bayesian_statistics/naive-bayes-spam-lab/datasets_test/easy_ham/foo0451.91577b6958781643d55de1d239570131...\n",
      "Replacing bad words in ./course_dump/week08/day1_intro_to_bayesian_statistics/naive-bayes-spam-lab/datasets_test/easy_ham/foo1563.4869bc6713ad6960f9b607c03dfa1c23...\n"
     ]
    },
    {
     "name": "stderr",
     "output_type": "stream",
     "text": [
      "140it [00:00, 1537.44it/s]\n",
      "78it [00:00, 1652.42it/s]\n",
      "68it [00:00, 1475.55it/s]\n",
      "76it [00:00, 1458.49it/s]\n",
      "44it [00:00, 1459.81it/s]\n",
      "0it [00:00, ?it/s]"
     ]
    },
    {
     "name": "stdout",
     "output_type": "stream",
     "text": [
      "Replacing bad words in ./course_dump/week08/day1_intro_to_bayesian_statistics/naive-bayes-spam-lab/datasets_test/easy_ham/1148.78b528d4233a8f6f6e43fdd6e7e97a53...\n",
      "Replacing bad words in ./course_dump/week08/day1_intro_to_bayesian_statistics/naive-bayes-spam-lab/datasets_test/easy_ham/foofoo0532.0a4c127cb659ebad1f4366cf3eb93b83...\n",
      "Replacing bad words in ./course_dump/week08/day1_intro_to_bayesian_statistics/naive-bayes-spam-lab/datasets_test/easy_ham/foo0803.87956a6c8c2637ad52cb670a5385faf2...\n",
      "Replacing bad words in ./course_dump/week08/day1_intro_to_bayesian_statistics/naive-bayes-spam-lab/datasets_test/easy_ham/2041.4b394c6659275d7d2a0b8b9b1c997d8c...\n",
      "Replacing bad words in ./course_dump/week08/day1_intro_to_bayesian_statistics/naive-bayes-spam-lab/datasets_test/easy_ham/foo0713.cef5181b3dfde07e06fd81c8cfc7d39e...\n"
     ]
    },
    {
     "name": "stderr",
     "output_type": "stream",
     "text": [
      "93it [00:00, 1419.43it/s]\n",
      "65it [00:00, 1396.95it/s]\n",
      "80it [00:00, 1596.33it/s]\n",
      "71it [00:00, 1619.04it/s]\n",
      "0it [00:00, ?it/s]"
     ]
    },
    {
     "name": "stdout",
     "output_type": "stream",
     "text": [
      "Replacing bad words in ./course_dump/week08/day1_intro_to_bayesian_statistics/naive-bayes-spam-lab/datasets_test/easy_ham/foo0768.42d3db0f0b763a75183afd06f5db8ce5...\n",
      "Replacing bad words in ./course_dump/week08/day1_intro_to_bayesian_statistics/naive-bayes-spam-lab/datasets_test/easy_ham/foo0514.ddb5b986101b81aa277dda7a6032019c...\n",
      "Replacing bad words in ./course_dump/week08/day1_intro_to_bayesian_statistics/naive-bayes-spam-lab/datasets_test/easy_ham/1900.73b47a5794b96f4bdf4fc4cabee59637...\n",
      "Replacing bad words in ./course_dump/week08/day1_intro_to_bayesian_statistics/naive-bayes-spam-lab/datasets_test/easy_ham/foo1101.746ef58163a737e92d65d20b0e928120...\n"
     ]
    },
    {
     "name": "stderr",
     "output_type": "stream",
     "text": [
      "118it [00:00, 1537.11it/s]\n",
      "30it [00:00, 1579.80it/s]\n",
      "76it [00:00, 1599.59it/s]\n",
      "120it [00:00, 1414.82it/s]\n",
      "0it [00:00, ?it/s]"
     ]
    },
    {
     "name": "stdout",
     "output_type": "stream",
     "text": [
      "Replacing bad words in ./course_dump/week08/day1_intro_to_bayesian_statistics/naive-bayes-spam-lab/datasets_test/easy_ham/2098.9d58021c6b424395a17fabfc0cf0cfca...\n",
      "Replacing bad words in ./course_dump/week08/day1_intro_to_bayesian_statistics/naive-bayes-spam-lab/datasets_test/easy_ham/foo1368.3293e84198b7ac13250a63da9437e2e3...\n",
      "Replacing bad words in ./course_dump/week08/day1_intro_to_bayesian_statistics/naive-bayes-spam-lab/datasets_test/easy_ham/1005.aaca009bb6cf75da8456c570bad6ad08...\n",
      "Replacing bad words in ./course_dump/week08/day1_intro_to_bayesian_statistics/naive-bayes-spam-lab/datasets_test/easy_ham/2045.23236c16f102098247b10ca305a9a6b5...\n"
     ]
    },
    {
     "name": "stderr",
     "output_type": "stream",
     "text": [
      "59it [00:00, 1444.70it/s]\n",
      "66it [00:00, 1145.30it/s]\n",
      "173it [00:00, 1432.99it/s]\n",
      "0it [00:00, ?it/s]"
     ]
    },
    {
     "name": "stdout",
     "output_type": "stream",
     "text": [
      "Replacing bad words in ./course_dump/week08/day1_intro_to_bayesian_statistics/naive-bayes-spam-lab/datasets_test/easy_ham/0411.315b5c32101916ae2192760585b71763...\n",
      "Replacing bad words in ./course_dump/week08/day1_intro_to_bayesian_statistics/naive-bayes-spam-lab/datasets_test/easy_ham/foo1018.2533f2c820fcf490638969e5504102dd...\n",
      "Replacing bad words in ./course_dump/week08/day1_intro_to_bayesian_statistics/naive-bayes-spam-lab/datasets_test/easy_ham/0843.6e5323ee268f72a690f5e5af60643e73...\n"
     ]
    },
    {
     "name": "stderr",
     "output_type": "stream",
     "text": [
      "120it [00:00, 1406.89it/s]\n",
      "29it [00:00, 1383.72it/s]\n",
      "68it [00:00, 1479.24it/s]\n",
      "62it [00:00, 1318.01it/s]\n",
      "102it [00:00, 1808.35it/s]\n",
      "0it [00:00, ?it/s]"
     ]
    },
    {
     "name": "stdout",
     "output_type": "stream",
     "text": [
      "Replacing bad words in ./course_dump/week08/day1_intro_to_bayesian_statistics/naive-bayes-spam-lab/datasets_test/easy_ham/foo2256.192fda174ac98dde837f5e2651bb07f1...\n",
      "Replacing bad words in ./course_dump/week08/day1_intro_to_bayesian_statistics/naive-bayes-spam-lab/datasets_test/easy_ham/0119.98b90763eec7b4e91c06939eea2d2361...\n",
      "Replacing bad words in ./course_dump/week08/day1_intro_to_bayesian_statistics/naive-bayes-spam-lab/datasets_test/easy_ham/foo0317.6db6d4e89fecd143caaf99e030792bd1...\n",
      "Replacing bad words in ./course_dump/week08/day1_intro_to_bayesian_statistics/naive-bayes-spam-lab/datasets_test/easy_ham/foo0150.69bb21344f49b27cec7373599b6e433d...\n",
      "Replacing bad words in ./course_dump/week08/day1_intro_to_bayesian_statistics/naive-bayes-spam-lab/datasets_test/easy_ham/0921.5a4eee7f38a1451abb6054901280b699...\n"
     ]
    },
    {
     "name": "stderr",
     "output_type": "stream",
     "text": [
      "74it [00:00, 1487.58it/s]\n",
      "30it [00:00, 1311.13it/s]\n",
      "88it [00:00, 1440.87it/s]\n",
      "87it [00:00, 1523.62it/s]\n",
      "0it [00:00, ?it/s]"
     ]
    },
    {
     "name": "stdout",
     "output_type": "stream",
     "text": [
      "Replacing bad words in ./course_dump/week08/day1_intro_to_bayesian_statistics/naive-bayes-spam-lab/datasets_test/easy_ham/foo2325.cc16427dcac808a8d7e9c7aeaa6dc684...\n",
      "Replacing bad words in ./course_dump/week08/day1_intro_to_bayesian_statistics/naive-bayes-spam-lab/datasets_test/easy_ham/0424.607e8523fa3516a6dc513c8a20682fc3...\n",
      "Replacing bad words in ./course_dump/week08/day1_intro_to_bayesian_statistics/naive-bayes-spam-lab/datasets_test/easy_ham/1677.0a982c2dd05563772b84243adbe8a720...\n",
      "Replacing bad words in ./course_dump/week08/day1_intro_to_bayesian_statistics/naive-bayes-spam-lab/datasets_test/easy_ham/1612.17083808deba0447726df856cbb574aa...\n"
     ]
    },
    {
     "name": "stderr",
     "output_type": "stream",
     "text": [
      "104it [00:00, 1619.20it/s]\n",
      "49it [00:00, 1585.16it/s]\n",
      "130it [00:00, 1824.85it/s]\n",
      "71it [00:00, 1534.43it/s]\n",
      "68it [00:00, 1809.23it/s]\n",
      "0it [00:00, ?it/s]"
     ]
    },
    {
     "name": "stdout",
     "output_type": "stream",
     "text": [
      "Replacing bad words in ./course_dump/week08/day1_intro_to_bayesian_statistics/naive-bayes-spam-lab/datasets_test/easy_ham/foo2164.1a46ee8b5542d762cb2f364fe48207ae...\n",
      "Replacing bad words in ./course_dump/week08/day1_intro_to_bayesian_statistics/naive-bayes-spam-lab/datasets_test/easy_ham/1054.4f64b125bf2f8a6657780878d455a859...\n",
      "Replacing bad words in ./course_dump/week08/day1_intro_to_bayesian_statistics/naive-bayes-spam-lab/datasets_test/easy_ham/1185.b83ac460b08616796da67d3bc57b76df...\n",
      "Replacing bad words in ./course_dump/week08/day1_intro_to_bayesian_statistics/naive-bayes-spam-lab/datasets_test/easy_ham/foo0312.d17a25919e7985a270c6fdee37a8f83e...\n",
      "Replacing bad words in ./course_dump/week08/day1_intro_to_bayesian_statistics/naive-bayes-spam-lab/datasets_test/easy_ham/foo0872.b39e14fc64a28f30b5c413d51ed9dea1...\n"
     ]
    },
    {
     "name": "stderr",
     "output_type": "stream",
     "text": [
      "152it [00:00, 1648.78it/s]\n",
      "41it [00:00, 1644.79it/s]\n",
      "95it [00:00, 1710.19it/s]\n",
      "101it [00:00, 1697.99it/s]\n",
      "33it [00:00, 1435.91it/s]\n",
      "0it [00:00, ?it/s]"
     ]
    },
    {
     "name": "stdout",
     "output_type": "stream",
     "text": [
      "Replacing bad words in ./course_dump/week08/day1_intro_to_bayesian_statistics/naive-bayes-spam-lab/datasets_test/easy_ham/2408.9d2e0a6592738da2aad3f0657d436895...\n",
      "Replacing bad words in ./course_dump/week08/day1_intro_to_bayesian_statistics/naive-bayes-spam-lab/datasets_test/easy_ham/foo1877.3b830d0451dd084e5c125436ac07871e...\n",
      "Replacing bad words in ./course_dump/week08/day1_intro_to_bayesian_statistics/naive-bayes-spam-lab/datasets_test/easy_ham/foo0129.00f1783f1c15a77f1c5ec212f5bcf1d1...\n",
      "Replacing bad words in ./course_dump/week08/day1_intro_to_bayesian_statistics/naive-bayes-spam-lab/datasets_test/easy_ham/foo1774.572d5d58699f0b03e959bbdc6ee14e83...\n",
      "Replacing bad words in ./course_dump/week08/day1_intro_to_bayesian_statistics/naive-bayes-spam-lab/datasets_test/easy_ham/foo2412.07ac8dd0d5031b11cf24b9f8949fe5f0...\n"
     ]
    },
    {
     "name": "stderr",
     "output_type": "stream",
     "text": [
      "30it [00:00, 1274.32it/s]\n",
      "42it [00:00, 1391.55it/s]\n",
      "30it [00:00, 1353.90it/s]\n",
      "99it [00:00, 1537.55it/s]\n",
      "75it [00:00, 1414.45it/s]\n",
      "0it [00:00, ?it/s]"
     ]
    },
    {
     "name": "stdout",
     "output_type": "stream",
     "text": [
      "Replacing bad words in ./course_dump/week08/day1_intro_to_bayesian_statistics/naive-bayes-spam-lab/datasets_test/easy_ham/1947.711930fb110762620017cee7cdb93a1a...\n",
      "Replacing bad words in ./course_dump/week08/day1_intro_to_bayesian_statistics/naive-bayes-spam-lab/datasets_test/easy_ham/foo2422.92290ec1e364f69c42ee8b867601b9fc...\n",
      "Replacing bad words in ./course_dump/week08/day1_intro_to_bayesian_statistics/naive-bayes-spam-lab/datasets_test/easy_ham/1384.0791f1d9a72262517deabbf25a2de75a...\n",
      "Replacing bad words in ./course_dump/week08/day1_intro_to_bayesian_statistics/naive-bayes-spam-lab/datasets_test/easy_ham/0852.cab2623799815a32681d15c6c82a41c5...\n",
      "Replacing bad words in ./course_dump/week08/day1_intro_to_bayesian_statistics/naive-bayes-spam-lab/datasets_test/easy_ham/1237.4bb6dda7449161c5c971565261b5bf22...\n"
     ]
    },
    {
     "name": "stderr",
     "output_type": "stream",
     "text": [
      "127it [00:00, 1708.75it/s]\n",
      "29it [00:00, 1332.09it/s]\n",
      "78it [00:00, 1528.97it/s]\n",
      "82it [00:00, 1516.24it/s]\n",
      "95it [00:00, 1397.58it/s]"
     ]
    },
    {
     "name": "stdout",
     "output_type": "stream",
     "text": [
      "Replacing bad words in ./course_dump/week08/day1_intro_to_bayesian_statistics/naive-bayes-spam-lab/datasets_test/easy_ham/2256.192fda174ac98dde837f5e2651bb07f1...\n",
      "Replacing bad words in ./course_dump/week08/day1_intro_to_bayesian_statistics/naive-bayes-spam-lab/datasets_test/easy_ham/1593.de7504b4655691f11b3e807e42a2b82c...\n",
      "Replacing bad words in ./course_dump/week08/day1_intro_to_bayesian_statistics/naive-bayes-spam-lab/datasets_test/easy_ham/foo1686.4b992ea5041794476920fc2199b18ac9...\n",
      "Replacing bad words in ./course_dump/week08/day1_intro_to_bayesian_statistics/naive-bayes-spam-lab/datasets_test/easy_ham/foo0965.ba396065e5cc872d89cb197e4773f372...\n"
     ]
    },
    {
     "name": "stderr",
     "output_type": "stream",
     "text": [
      "\n",
      "31it [00:00, 990.87it/s]\n",
      "69it [00:00, 1304.56it/s]\n",
      "155it [00:00, 1133.17it/s]"
     ]
    },
    {
     "name": "stdout",
     "output_type": "stream",
     "text": [
      "Replacing bad words in ./course_dump/week08/day1_intro_to_bayesian_statistics/naive-bayes-spam-lab/datasets_test/easy_ham/2421.aa75fb78c4f596e7ee91808fbdc34ab8...\n",
      "Replacing bad words in ./course_dump/week08/day1_intro_to_bayesian_statistics/naive-bayes-spam-lab/datasets_test/easy_ham/1921.fa34fb56fd0a04ce46ac71d176e6ec55...\n",
      "Replacing bad words in ./course_dump/week08/day1_intro_to_bayesian_statistics/naive-bayes-spam-lab/datasets_test/easy_ham/0539.6430d7b1bde02782a28fef081b4224fc...\n"
     ]
    },
    {
     "name": "stderr",
     "output_type": "stream",
     "text": [
      "\n",
      "60it [00:00, 1084.45it/s]\n",
      "22it [00:00, 1113.08it/s]\n",
      "75it [00:00, 1270.66it/s]\n",
      "30it [00:00, 1542.14it/s]\n",
      "0it [00:00, ?it/s]"
     ]
    },
    {
     "name": "stdout",
     "output_type": "stream",
     "text": [
      "Replacing bad words in ./course_dump/week08/day1_intro_to_bayesian_statistics/naive-bayes-spam-lab/datasets_test/easy_ham/0775.380d5908cc272338fc163b1d1a748e8c...\n",
      "Replacing bad words in ./course_dump/week08/day1_intro_to_bayesian_statistics/naive-bayes-spam-lab/datasets_test/easy_ham/foo1777.6bb054bf786bfbfeacc78dd1918ffbfa...\n",
      "Replacing bad words in ./course_dump/week08/day1_intro_to_bayesian_statistics/naive-bayes-spam-lab/datasets_test/easy_ham/0817.bcee0d97a59953c5e6086df74d4ed665...\n",
      "Replacing bad words in ./course_dump/week08/day1_intro_to_bayesian_statistics/naive-bayes-spam-lab/datasets_test/easy_ham/foo2207.cd15ad8e0e79e05ea58995dcb9d84eec...\n",
      "Replacing bad words in ./course_dump/week08/day1_intro_to_bayesian_statistics/naive-bayes-spam-lab/datasets_test/easy_ham/0606.246043a69d2c710dde0e67eedb1fd853...\n"
     ]
    },
    {
     "name": "stderr",
     "output_type": "stream",
     "text": [
      "132it [00:00, 1134.40it/s]\n",
      "95it [00:00, 1252.64it/s]\n",
      "92it [00:00, 1496.93it/s]\n",
      "0it [00:00, ?it/s]"
     ]
    },
    {
     "name": "stdout",
     "output_type": "stream",
     "text": [
      "Replacing bad words in ./course_dump/week08/day1_intro_to_bayesian_statistics/naive-bayes-spam-lab/datasets_test/easy_ham/foo1181.e94c4c98963c99b42be08be341418d57...\n",
      "Replacing bad words in ./course_dump/week08/day1_intro_to_bayesian_statistics/naive-bayes-spam-lab/datasets_test/easy_ham/0214.2d5f01a083341062ac55f45a123f2dcd...\n",
      "Replacing bad words in ./course_dump/week08/day1_intro_to_bayesian_statistics/naive-bayes-spam-lab/datasets_test/easy_ham/0373.24b5313473b0c23decb6632ca5e22237...\n"
     ]
    },
    {
     "name": "stderr",
     "output_type": "stream",
     "text": [
      "150it [00:00, 1664.16it/s]\n",
      "31it [00:00, 1363.54it/s]\n",
      "31it [00:00, 1335.63it/s]\n",
      "82it [00:00, 1313.24it/s]\n",
      "60it [00:00, 1273.59it/s]\n",
      "0it [00:00, ?it/s]"
     ]
    },
    {
     "name": "stdout",
     "output_type": "stream",
     "text": [
      "Replacing bad words in ./course_dump/week08/day1_intro_to_bayesian_statistics/naive-bayes-spam-lab/datasets_test/easy_ham/1970.43fa8f1222f87f472c94d1c11cbaf36e...\n",
      "Replacing bad words in ./course_dump/week08/day1_intro_to_bayesian_statistics/naive-bayes-spam-lab/datasets_test/easy_ham/2136.a8504a5e292f715028c581ae28f1186d...\n",
      "Replacing bad words in ./course_dump/week08/day1_intro_to_bayesian_statistics/naive-bayes-spam-lab/datasets_test/easy_ham/foo0003.acfc5ad94bbd27118a0d8685d18c89dd...\n",
      "Replacing bad words in ./course_dump/week08/day1_intro_to_bayesian_statistics/naive-bayes-spam-lab/datasets_test/easy_ham/1747.77c7add87dfb454c2bcc8ce9f60482bd...\n",
      "Replacing bad words in ./course_dump/week08/day1_intro_to_bayesian_statistics/naive-bayes-spam-lab/datasets_test/easy_ham/foo1209.8d537f01328f65ebd018e0e4e77ebc10...\n"
     ]
    },
    {
     "name": "stderr",
     "output_type": "stream",
     "text": [
      "170it [00:00, 1652.41it/s]\n",
      "104it [00:00, 1680.40it/s]\n",
      "84it [00:00, 1817.07it/s]\n",
      "139it [00:00, 1772.98it/s]\n",
      "0it [00:00, ?it/s]"
     ]
    },
    {
     "name": "stdout",
     "output_type": "stream",
     "text": [
      "Replacing bad words in ./course_dump/week08/day1_intro_to_bayesian_statistics/naive-bayes-spam-lab/datasets_test/easy_ham/1650.3d76995e778ef56fcf4ff76b02d485ed...\n",
      "Replacing bad words in ./course_dump/week08/day1_intro_to_bayesian_statistics/naive-bayes-spam-lab/datasets_test/easy_ham/1217.df546955abccc6542862dfdf365d4d0f...\n",
      "Replacing bad words in ./course_dump/week08/day1_intro_to_bayesian_statistics/naive-bayes-spam-lab/datasets_test/easy_ham/foo1666.822fe7bdc3780066edfa4847f6399477...\n",
      "Replacing bad words in ./course_dump/week08/day1_intro_to_bayesian_statistics/naive-bayes-spam-lab/datasets_test/easy_ham/0052.40794e238104d6b01f36b0f4d5145175...\n"
     ]
    },
    {
     "name": "stderr",
     "output_type": "stream",
     "text": [
      "69it [00:00, 1714.27it/s]\n",
      "88it [00:00, 1356.18it/s]\n",
      "112it [00:00, 1586.96it/s]\n",
      "30it [00:00, 1507.86it/s]\n",
      "0it [00:00, ?it/s]"
     ]
    },
    {
     "name": "stdout",
     "output_type": "stream",
     "text": [
      "Replacing bad words in ./course_dump/week08/day1_intro_to_bayesian_statistics/naive-bayes-spam-lab/datasets_test/easy_ham/foo1664.e67aee25046de6fd0243b8c6fec81c5b...\n",
      "Replacing bad words in ./course_dump/week08/day1_intro_to_bayesian_statistics/naive-bayes-spam-lab/datasets_test/easy_ham/foo0576.f32636c8fb4d4f4fde3c891f9fdee39c...\n",
      "Replacing bad words in ./course_dump/week08/day1_intro_to_bayesian_statistics/naive-bayes-spam-lab/datasets_test/easy_ham/2368.b0434248d8b7f5b7d4c0572541f37832...\n",
      "Replacing bad words in ./course_dump/week08/day1_intro_to_bayesian_statistics/naive-bayes-spam-lab/datasets_test/easy_ham/foo0483.fd69b8130b575cf7522607fc37d2549c...\n"
     ]
    },
    {
     "name": "stderr",
     "output_type": "stream",
     "text": [
      "81it [00:00, 1484.82it/s]\n",
      "82it [00:00, 1501.82it/s]\n",
      "68it [00:00, 1558.67it/s]\n",
      "0it [00:00, ?it/s]"
     ]
    },
    {
     "name": "stdout",
     "output_type": "stream",
     "text": [
      "Replacing bad words in ./course_dump/week08/day1_intro_to_bayesian_statistics/naive-bayes-spam-lab/datasets_test/easy_ham/foo1507.381db954fc6fe8df9646172b53db92ad...\n",
      "Replacing bad words in ./course_dump/week08/day1_intro_to_bayesian_statistics/naive-bayes-spam-lab/datasets_test/easy_ham/1350.e386afc23b51f446e2f6779c1ade0a68...\n",
      "Replacing bad words in ./course_dump/week08/day1_intro_to_bayesian_statistics/naive-bayes-spam-lab/datasets_test/easy_ham/1079.3d222257b98d7d58a0f970d101be3ad7...\n"
     ]
    },
    {
     "name": "stderr",
     "output_type": "stream",
     "text": [
      "131it [00:00, 1431.99it/s]\n",
      "135it [00:00, 1682.50it/s]\n",
      "159it [00:00, 1579.64it/s]"
     ]
    },
    {
     "name": "stdout",
     "output_type": "stream",
     "text": [
      "Replacing bad words in ./course_dump/week08/day1_intro_to_bayesian_statistics/naive-bayes-spam-lab/datasets_test/easy_ham/foo0083.e506d3273b3dde9ae2d340cb0197a2a0...\n",
      "Replacing bad words in ./course_dump/week08/day1_intro_to_bayesian_statistics/naive-bayes-spam-lab/datasets_test/easy_ham/1358.d784d0be4e4e9b4267e6a1165929b762...\n"
     ]
    },
    {
     "name": "stderr",
     "output_type": "stream",
     "text": [
      "189it [00:00, 1606.12it/s]\n",
      "99it [00:00, 1546.49it/s]\n",
      "52it [00:00, 1582.46it/s]\n",
      "32it [00:00, 1559.15it/s]\n",
      "29it [00:00, 1559.76it/s]\n",
      "0it [00:00, ?it/s]"
     ]
    },
    {
     "name": "stdout",
     "output_type": "stream",
     "text": [
      "Replacing bad words in ./course_dump/week08/day1_intro_to_bayesian_statistics/naive-bayes-spam-lab/datasets_test/easy_ham/1228.0e851b082d2c4200347accef882549eb...\n",
      "Replacing bad words in ./course_dump/week08/day1_intro_to_bayesian_statistics/naive-bayes-spam-lab/datasets_test/easy_ham/1971.1967681a51fd3f560ba230b4f1f010e2...\n",
      "Replacing bad words in ./course_dump/week08/day1_intro_to_bayesian_statistics/naive-bayes-spam-lab/datasets_test/easy_ham/foo1820.7b6864b6307973a30ec24e69fc4a466a...\n",
      "Replacing bad words in ./course_dump/week08/day1_intro_to_bayesian_statistics/naive-bayes-spam-lab/datasets_test/easy_ham/foo2275.4f027f6ea3b77c8691bc80bd28d14159...\n",
      "Replacing bad words in ./course_dump/week08/day1_intro_to_bayesian_statistics/naive-bayes-spam-lab/datasets_test/easy_ham/1089.8c0c02d20cf78372808b29860b4e406a...\n"
     ]
    },
    {
     "name": "stderr",
     "output_type": "stream",
     "text": [
      "103it [00:00, 1475.85it/s]\n",
      "116it [00:00, 1532.67it/s]\n",
      "63it [00:00, 1663.22it/s]\n",
      "72it [00:00, 1481.42it/s]\n",
      "0it [00:00, ?it/s]"
     ]
    },
    {
     "name": "stdout",
     "output_type": "stream",
     "text": [
      "Replacing bad words in ./course_dump/week08/day1_intro_to_bayesian_statistics/naive-bayes-spam-lab/datasets_test/easy_ham/foo1086.b51953361efc50df363334b72a566863...\n",
      "Replacing bad words in ./course_dump/week08/day1_intro_to_bayesian_statistics/naive-bayes-spam-lab/datasets_test/easy_ham/0096.0446f3ed63b550a8622c8671d8ae9a9c...\n",
      "Replacing bad words in ./course_dump/week08/day1_intro_to_bayesian_statistics/naive-bayes-spam-lab/datasets_test/easy_ham/foo1522.3f4e272c9d12eb60b890f0dd065e650b...\n",
      "Replacing bad words in ./course_dump/week08/day1_intro_to_bayesian_statistics/naive-bayes-spam-lab/datasets_test/easy_ham/foo1147.744811b2ba3a95401f70b17e9fade217...\n"
     ]
    },
    {
     "name": "stderr",
     "output_type": "stream",
     "text": [
      "88it [00:00, 1411.67it/s]\n",
      "54it [00:00, 1185.32it/s]\n",
      "71it [00:00, 1411.94it/s]\n",
      "66it [00:00, 1298.83it/s]\n",
      "31it [00:00, 761.31it/s]"
     ]
    },
    {
     "name": "stdout",
     "output_type": "stream",
     "text": [
      "Replacing bad words in ./course_dump/week08/day1_intro_to_bayesian_statistics/naive-bayes-spam-lab/datasets_test/easy_ham/2306.286dad51732ff19316bdef986cab29f5...\n",
      "Replacing bad words in ./course_dump/week08/day1_intro_to_bayesian_statistics/naive-bayes-spam-lab/datasets_test/easy_ham/foo0038.f2ffa1197c969d067be4d01c26fa9b5e...\n",
      "Replacing bad words in ./course_dump/week08/day1_intro_to_bayesian_statistics/naive-bayes-spam-lab/datasets_test/easy_ham/foo0999.693cdb369d548fedfd9ad794b8b6b882...\n",
      "Replacing bad words in ./course_dump/week08/day1_intro_to_bayesian_statistics/naive-bayes-spam-lab/datasets_test/easy_ham/2019.c804962e51245b7ec2353667b9171d7b...\n"
     ]
    },
    {
     "name": "stderr",
     "output_type": "stream",
     "text": [
      "\n",
      "166it [00:00, 1222.86it/s]\n",
      "30it [00:00, 1582.58it/s]\n",
      "0it [00:00, ?it/s]"
     ]
    },
    {
     "name": "stdout",
     "output_type": "stream",
     "text": [
      "Replacing bad words in ./course_dump/week08/day1_intro_to_bayesian_statistics/naive-bayes-spam-lab/datasets_test/easy_ham/0454.c215b0f3f009fca9e6f019a5cbd00765...\n",
      "Replacing bad words in ./course_dump/week08/day1_intro_to_bayesian_statistics/naive-bayes-spam-lab/datasets_test/easy_ham/2169.8b7b5f65ef9511d96214e3648d3956b0...\n",
      "Replacing bad words in ./course_dump/week08/day1_intro_to_bayesian_statistics/naive-bayes-spam-lab/datasets_test/easy_ham/foo0281.b12d42ee9c0659d41d852c277bff8cde...\n"
     ]
    },
    {
     "name": "stderr",
     "output_type": "stream",
     "text": [
      "76it [00:00, 1466.55it/s]\n",
      "83it [00:00, 1577.81it/s]\n",
      "65it [00:00, 1504.13it/s]\n",
      "93it [00:00, 1399.62it/s]\n",
      "0it [00:00, ?it/s]"
     ]
    },
    {
     "name": "stdout",
     "output_type": "stream",
     "text": [
      "Replacing bad words in ./course_dump/week08/day1_intro_to_bayesian_statistics/naive-bayes-spam-lab/datasets_test/easy_ham/1523.59e3f881f7536e0a90d98797f6c509e3...\n",
      "Replacing bad words in ./course_dump/week08/day1_intro_to_bayesian_statistics/naive-bayes-spam-lab/datasets_test/easy_ham/foo1637.d9ae62cb17b80f3ae47d18a6d7100c51...\n",
      "Replacing bad words in ./course_dump/week08/day1_intro_to_bayesian_statistics/naive-bayes-spam-lab/datasets_test/easy_ham/foo1201.ecb357d3156544c58b58b4552635629d...\n",
      "Replacing bad words in ./course_dump/week08/day1_intro_to_bayesian_statistics/naive-bayes-spam-lab/datasets_test/easy_ham/foo0540.e0eb7ff6a98c054571e07addde3cc4de...\n"
     ]
    },
    {
     "name": "stderr",
     "output_type": "stream",
     "text": [
      "71it [00:00, 1445.88it/s]\n",
      "83it [00:00, 1358.66it/s]\n",
      "65it [00:00, 1249.96it/s]\n",
      "0it [00:00, ?it/s]"
     ]
    },
    {
     "name": "stdout",
     "output_type": "stream",
     "text": [
      "Replacing bad words in ./course_dump/week08/day1_intro_to_bayesian_statistics/naive-bayes-spam-lab/datasets_test/easy_ham/foo0524.1276996048a3e02ffbed1e2df5d13848...\n",
      "Replacing bad words in ./course_dump/week08/day1_intro_to_bayesian_statistics/naive-bayes-spam-lab/datasets_test/easy_ham/0415.6dfea45b8aef7d6ef6a462974d61ce3e...\n",
      "Replacing bad words in ./course_dump/week08/day1_intro_to_bayesian_statistics/naive-bayes-spam-lab/datasets_test/easy_ham/foo0307.d7beae100d2ee2557b7fed18b6050a49...\n"
     ]
    },
    {
     "name": "stderr",
     "output_type": "stream",
     "text": [
      "127it [00:00, 1483.84it/s]\n",
      "30it [00:00, 1541.72it/s]\n",
      "74it [00:00, 1396.70it/s]\n",
      "62it [00:00, 1569.46it/s]\n",
      "0it [00:00, ?it/s]"
     ]
    },
    {
     "name": "stdout",
     "output_type": "stream",
     "text": [
      "Replacing bad words in ./course_dump/week08/day1_intro_to_bayesian_statistics/naive-bayes-spam-lab/datasets_test/easy_ham/foo2397.9491b18b38e40aa651c7ef9b6291222d...\n",
      "Replacing bad words in ./course_dump/week08/day1_intro_to_bayesian_statistics/naive-bayes-spam-lab/datasets_test/easy_ham/1632.eda28ab249a9f3dcad3f7a343e6b76fb...\n",
      "Replacing bad words in ./course_dump/week08/day1_intro_to_bayesian_statistics/naive-bayes-spam-lab/datasets_test/easy_ham/foo0491.4d902a53799cc4c52b72c0c41367a96b...\n",
      "Replacing bad words in ./course_dump/week08/day1_intro_to_bayesian_statistics/naive-bayes-spam-lab/datasets_test/easy_ham/1476.003708da8e0f35d91264c7aa737031a4...\n"
     ]
    },
    {
     "name": "stderr",
     "output_type": "stream",
     "text": [
      "113it [00:00, 1385.66it/s]\n",
      "93it [00:00, 1514.05it/s]\n",
      "178it [00:00, 1738.15it/s]\n",
      "0it [00:00, ?it/s]"
     ]
    },
    {
     "name": "stdout",
     "output_type": "stream",
     "text": [
      "Replacing bad words in ./course_dump/week08/day1_intro_to_bayesian_statistics/naive-bayes-spam-lab/datasets_test/easy_ham/1461.7a96cf16c999d9db5e0cf0369203866d...\n",
      "Replacing bad words in ./course_dump/week08/day1_intro_to_bayesian_statistics/naive-bayes-spam-lab/datasets_test/easy_ham/1334.2c9c592fd955e975f86e536b6ac5cadd...\n",
      "Replacing bad words in ./course_dump/week08/day1_intro_to_bayesian_statistics/naive-bayes-spam-lab/datasets_test/easy_ham/1140.58310046747fc9cf38a43349d2461870...\n"
     ]
    },
    {
     "name": "stderr",
     "output_type": "stream",
     "text": [
      "93it [00:00, 1420.67it/s]\n",
      "126it [00:00, 1373.56it/s]\n",
      "129it [00:00, 1597.09it/s]\n",
      "0it [00:00, ?it/s]"
     ]
    },
    {
     "name": "stdout",
     "output_type": "stream",
     "text": [
      "Replacing bad words in ./course_dump/week08/day1_intro_to_bayesian_statistics/naive-bayes-spam-lab/datasets_test/easy_ham/foo1691.dc18b18697ac2c2d7e5024eb8be84ecb...\n",
      "Replacing bad words in ./course_dump/week08/day1_intro_to_bayesian_statistics/naive-bayes-spam-lab/datasets_test/easy_ham/foo0045.910fa2e79f96c646f1b6c987c65cbe3f...\n",
      "Replacing bad words in ./course_dump/week08/day1_intro_to_bayesian_statistics/naive-bayes-spam-lab/datasets_test/easy_ham/1578.0c18da688c1ae54f27a3a4eb27d4005b...\n"
     ]
    },
    {
     "name": "stderr",
     "output_type": "stream",
     "text": [
      "85it [00:00, 1515.01it/s]\n",
      "71it [00:00, 1587.10it/s]\n",
      "56it [00:00, 1268.48it/s]\n",
      "78it [00:00, 1406.01it/s]\n",
      "56it [00:00, 1606.06it/s]\n",
      "0it [00:00, ?it/s]"
     ]
    },
    {
     "name": "stdout",
     "output_type": "stream",
     "text": [
      "Replacing bad words in ./course_dump/week08/day1_intro_to_bayesian_statistics/naive-bayes-spam-lab/datasets_test/easy_ham/0486.62b08ccbd58add2e635494c114f1173b...\n",
      "Replacing bad words in ./course_dump/week08/day1_intro_to_bayesian_statistics/naive-bayes-spam-lab/datasets_test/easy_ham/foo0113.55a6bf6a4534d447af2060b174c0d70a...\n",
      "Replacing bad words in ./course_dump/week08/day1_intro_to_bayesian_statistics/naive-bayes-spam-lab/datasets_test/easy_ham/foo0328.dd38a12b955002695e7a0ec81129b043...\n",
      "Replacing bad words in ./course_dump/week08/day1_intro_to_bayesian_statistics/naive-bayes-spam-lab/datasets_test/easy_ham/1765.4257318f87e53aa246882d00e42c67d5...\n",
      "Replacing bad words in ./course_dump/week08/day1_intro_to_bayesian_statistics/naive-bayes-spam-lab/datasets_test/easy_ham/1705.d042ec093f873897ebf5146274dc2a20...\n"
     ]
    },
    {
     "name": "stderr",
     "output_type": "stream",
     "text": [
      "132it [00:00, 1315.46it/s]\n",
      "37it [00:00, 1125.47it/s]\n",
      "30it [00:00, 1454.52it/s]\n",
      "39it [00:00, 1186.97it/s]\n",
      "31it [00:00, 1162.23it/s]\n",
      "21it [00:00, 1226.42it/s]\n",
      "0it [00:00, ?it/s]"
     ]
    },
    {
     "name": "stdout",
     "output_type": "stream",
     "text": [
      "Replacing bad words in ./course_dump/week08/day1_intro_to_bayesian_statistics/naive-bayes-spam-lab/datasets_test/easy_ham/foo2509.96e57ee2a1f9741a7d09e431f59bb049...\n",
      "Replacing bad words in ./course_dump/week08/day1_intro_to_bayesian_statistics/naive-bayes-spam-lab/datasets_test/easy_ham/foofoo2117.d0ce36a8b096fff94266db762fe0dc7f...\n",
      "Replacing bad words in ./course_dump/week08/day1_intro_to_bayesian_statistics/naive-bayes-spam-lab/datasets_test/easy_ham/2407.c9318bb61b808a141780fa5067d53a05...\n",
      "Replacing bad words in ./course_dump/week08/day1_intro_to_bayesian_statistics/naive-bayes-spam-lab/datasets_test/easy_ham/0175.dd1831e0f3322282d3efa5da7aec74f9...\n",
      "Replacing bad words in ./course_dump/week08/day1_intro_to_bayesian_statistics/naive-bayes-spam-lab/datasets_test/easy_ham/foo1837.e1c6a4364e0762f323cd69d23e030fc8...\n",
      "Replacing bad words in ./course_dump/week08/day1_intro_to_bayesian_statistics/naive-bayes-spam-lab/datasets_test/easy_ham/1214.1a66983fafc885a13fb7301e76d9af04...\n"
     ]
    },
    {
     "name": "stderr",
     "output_type": "stream",
     "text": [
      "160it [00:00, 1613.52it/s]\n",
      "114it [00:00, 1181.73it/s]\n",
      "79it [00:00, 1419.11it/s]\n",
      "31it [00:00, 1508.03it/s]\n",
      "57it [00:00, 1365.23it/s]"
     ]
    },
    {
     "name": "stdout",
     "output_type": "stream",
     "text": [
      "Replacing bad words in ./course_dump/week08/day1_intro_to_bayesian_statistics/naive-bayes-spam-lab/datasets_test/easy_ham/foo0986.1e2f19247a82ecf9458801167232ee0a...\n",
      "Replacing bad words in ./course_dump/week08/day1_intro_to_bayesian_statistics/naive-bayes-spam-lab/datasets_test/easy_ham/foo1617.75b61ae83ecff7b45a80cac6cc8c9192...\n",
      "Replacing bad words in ./course_dump/week08/day1_intro_to_bayesian_statistics/naive-bayes-spam-lab/datasets_test/easy_ham/foo2103.9b9673343881a5e554364e75ea4ebb33...\n",
      "Replacing bad words in ./course_dump/week08/day1_intro_to_bayesian_statistics/naive-bayes-spam-lab/datasets_test/easy_ham/0551.5bdfb0c299c60e442e39346dc08bad68...\n"
     ]
    },
    {
     "name": "stderr",
     "output_type": "stream",
     "text": [
      "\n",
      "76it [00:00, 1236.29it/s]\n",
      "30it [00:00, 963.47it/s]\n",
      "92it [00:00, 1537.34it/s]\n",
      "0it [00:00, ?it/s]"
     ]
    },
    {
     "name": "stdout",
     "output_type": "stream",
     "text": [
      "Replacing bad words in ./course_dump/week08/day1_intro_to_bayesian_statistics/naive-bayes-spam-lab/datasets_test/easy_ham/foo0954.fadb0b68f0246b3aafcc1ff134ff1065...\n",
      "Replacing bad words in ./course_dump/week08/day1_intro_to_bayesian_statistics/naive-bayes-spam-lab/datasets_test/easy_ham/foo2236.c7f35929d21a2a8b4a41dd13d756c964...\n",
      "Replacing bad words in ./course_dump/week08/day1_intro_to_bayesian_statistics/naive-bayes-spam-lab/datasets_test/easy_ham/1718.dd3ab0a21ff132982fbde9b8712d5258...\n",
      "Replacing bad words in ./course_dump/week08/day1_intro_to_bayesian_statistics/naive-bayes-spam-lab/datasets_test/easy_ham/foo1684.925bdc970b65949bf11a0aea4a853b03...\n"
     ]
    },
    {
     "name": "stderr",
     "output_type": "stream",
     "text": [
      "191it [00:00, 1450.21it/s]\n",
      "60it [00:00, 1397.30it/s]\n",
      "43it [00:00, 1527.01it/s]\n",
      "70it [00:00, 1279.63it/s]\n",
      "37it [00:00, 1603.49it/s]\n",
      "0it [00:00, ?it/s]"
     ]
    },
    {
     "name": "stdout",
     "output_type": "stream",
     "text": [
      "Replacing bad words in ./course_dump/week08/day1_intro_to_bayesian_statistics/naive-bayes-spam-lab/datasets_test/easy_ham/foo1863.bfe819f6abc823642064dc200a54be39...\n",
      "Replacing bad words in ./course_dump/week08/day1_intro_to_bayesian_statistics/naive-bayes-spam-lab/datasets_test/easy_ham/2524.c06019b7e085875e69ff55f43defeb83...\n",
      "Replacing bad words in ./course_dump/week08/day1_intro_to_bayesian_statistics/naive-bayes-spam-lab/datasets_test/easy_ham/foo0439.44081ab02df438a46002b412aee32fbc...\n",
      "Replacing bad words in ./course_dump/week08/day1_intro_to_bayesian_statistics/naive-bayes-spam-lab/datasets_test/easy_ham/foo2441.8b6ac53af9cab970afa13ff99ecaf8da...\n",
      "Replacing bad words in ./course_dump/week08/day1_intro_to_bayesian_statistics/naive-bayes-spam-lab/datasets_test/easy_ham/foo1885.e0fe9e7b4cc8d708983598de04545ed5...\n"
     ]
    },
    {
     "name": "stderr",
     "output_type": "stream",
     "text": [
      "65it [00:00, 1639.49it/s]\n",
      "101it [00:00, 1436.33it/s]\n",
      "66it [00:00, 1321.71it/s]\n",
      "38it [00:00, 1625.32it/s]\n",
      "0it [00:00, ?it/s]"
     ]
    },
    {
     "name": "stdout",
     "output_type": "stream",
     "text": [
      "Replacing bad words in ./course_dump/week08/day1_intro_to_bayesian_statistics/naive-bayes-spam-lab/datasets_test/easy_ham/0781.cbbfe78e21c332b56c7e3630aeaa9585...\n",
      "Replacing bad words in ./course_dump/week08/day1_intro_to_bayesian_statistics/naive-bayes-spam-lab/datasets_test/easy_ham/1922.b0fed0fd3b2a0044158514836a172732...\n",
      "Replacing bad words in ./course_dump/week08/day1_intro_to_bayesian_statistics/naive-bayes-spam-lab/datasets_test/easy_ham/foo2548.b2259f104edd1ecbc9dc0327df387147...\n",
      "Replacing bad words in ./course_dump/week08/day1_intro_to_bayesian_statistics/naive-bayes-spam-lab/datasets_test/easy_ham/foo1468.b214bf3ffdffb1c95702580a58ae9aea...\n"
     ]
    },
    {
     "name": "stderr",
     "output_type": "stream",
     "text": [
      "138it [00:00, 1503.18it/s]\n",
      "70it [00:00, 1422.44it/s]\n",
      "32it [00:00, 1422.30it/s]\n",
      "30it [00:00, 1070.03it/s]\n",
      "35it [00:00, 1124.70it/s]\n",
      "0it [00:00, ?it/s]"
     ]
    },
    {
     "name": "stdout",
     "output_type": "stream",
     "text": [
      "Replacing bad words in ./course_dump/week08/day1_intro_to_bayesian_statistics/naive-bayes-spam-lab/datasets_test/easy_ham/foo0315.15b9ae14057d961ba4ccec2283b8d90a...\n",
      "Replacing bad words in ./course_dump/week08/day1_intro_to_bayesian_statistics/naive-bayes-spam-lab/datasets_test/easy_ham/foo2269.30cbe052ffb57936e490009a23adf3eb...\n",
      "Replacing bad words in ./course_dump/week08/day1_intro_to_bayesian_statistics/naive-bayes-spam-lab/datasets_test/easy_ham/foo2077.eba992ea7cedb65c1fddbf9ea01484f3...\n",
      "Replacing bad words in ./course_dump/week08/day1_intro_to_bayesian_statistics/naive-bayes-spam-lab/datasets_test/easy_ham/foo2151.a6512282aa9e19567fed4acac9b7273a...\n",
      "Replacing bad words in ./course_dump/week08/day1_intro_to_bayesian_statistics/naive-bayes-spam-lab/datasets_test/easy_ham/0698.a99cb214459f43d26a20d34eec3f0b45...\n"
     ]
    },
    {
     "name": "stderr",
     "output_type": "stream",
     "text": [
      "143it [00:00, 1694.19it/s]\n",
      "65it [00:00, 1581.06it/s]\n",
      "31it [00:00, 1287.78it/s]\n",
      "88it [00:00, 1311.90it/s]\n",
      "78it [00:00, 1636.59it/s]\n",
      "0it [00:00, ?it/s]"
     ]
    },
    {
     "name": "stdout",
     "output_type": "stream",
     "text": [
      "Replacing bad words in ./course_dump/week08/day1_intro_to_bayesian_statistics/naive-bayes-spam-lab/datasets_test/easy_ham/0245.39190ace43266b978a8561863c8841c0...\n",
      "Replacing bad words in ./course_dump/week08/day1_intro_to_bayesian_statistics/naive-bayes-spam-lab/datasets_test/easy_ham/foofoo2297.8d74f69a4188439b893c12936837707d...\n",
      "Replacing bad words in ./course_dump/week08/day1_intro_to_bayesian_statistics/naive-bayes-spam-lab/datasets_test/easy_ham/foo0929.78a3fcddf914132d873019c8925b0669...\n",
      "Replacing bad words in ./course_dump/week08/day1_intro_to_bayesian_statistics/naive-bayes-spam-lab/datasets_test/easy_ham/foo1367.924aa29f6473628504527f28ec2fcf3b...\n",
      "Replacing bad words in ./course_dump/week08/day1_intro_to_bayesian_statistics/naive-bayes-spam-lab/datasets_test/easy_ham/foo0004.e8d5727378ddde5c3be181df593f1712...\n"
     ]
    },
    {
     "name": "stderr",
     "output_type": "stream",
     "text": [
      "78it [00:00, 1520.75it/s]\n",
      "31it [00:00, 1550.11it/s]\n",
      "92it [00:00, 1168.98it/s]\n",
      "61it [00:00, 1182.73it/s]\n",
      "0it [00:00, ?it/s]"
     ]
    },
    {
     "name": "stdout",
     "output_type": "stream",
     "text": [
      "Replacing bad words in ./course_dump/week08/day1_intro_to_bayesian_statistics/naive-bayes-spam-lab/datasets_test/easy_ham/foofoo1953.cd45102de667a9e4d0374f45875c91a5...\n",
      "Replacing bad words in ./course_dump/week08/day1_intro_to_bayesian_statistics/naive-bayes-spam-lab/datasets_test/easy_ham/2040.d3f0b94750bc5473a3c103ad037bbc22...\n",
      "Replacing bad words in ./course_dump/week08/day1_intro_to_bayesian_statistics/naive-bayes-spam-lab/datasets_test/easy_ham/foo0834.36dab5acc512c15f3d6840b44e958b2a...\n",
      "Replacing bad words in ./course_dump/week08/day1_intro_to_bayesian_statistics/naive-bayes-spam-lab/datasets_test/easy_ham/0532.0a4c127cb659ebad1f4366cf3eb93b83...\n"
     ]
    },
    {
     "name": "stderr",
     "output_type": "stream",
     "text": [
      "68it [00:00, 1508.08it/s]\n",
      "59it [00:00, 1190.78it/s]\n",
      "104it [00:00, 1599.85it/s]\n",
      "23it [00:00, 1484.48it/s]\n",
      "0it [00:00, ?it/s]"
     ]
    },
    {
     "name": "stdout",
     "output_type": "stream",
     "text": [
      "Replacing bad words in ./course_dump/week08/day1_intro_to_bayesian_statistics/naive-bayes-spam-lab/datasets_test/easy_ham/foofoo2045.23236c16f102098247b10ca305a9a6b5...\n",
      "Replacing bad words in ./course_dump/week08/day1_intro_to_bayesian_statistics/naive-bayes-spam-lab/datasets_test/easy_ham/foo0600.5c058c763f0c2053e70d2a6ddd5afd1e...\n",
      "Replacing bad words in ./course_dump/week08/day1_intro_to_bayesian_statistics/naive-bayes-spam-lab/datasets_test/easy_ham/1845.e5c02ab6101d2a7759f059da0e6385ca...\n",
      "Replacing bad words in ./course_dump/week08/day1_intro_to_bayesian_statistics/naive-bayes-spam-lab/datasets_test/easy_ham/foo0046.05e8a863eaf20f90374d0a15427d9a16...\n"
     ]
    },
    {
     "name": "stderr",
     "output_type": "stream",
     "text": [
      "52it [00:00, 1010.47it/s]\n",
      "35it [00:00, 1178.46it/s]\n",
      "94it [00:00, 1273.33it/s]\n",
      "79it [00:00, 1561.20it/s]\n",
      "0it [00:00, ?it/s]"
     ]
    },
    {
     "name": "stdout",
     "output_type": "stream",
     "text": [
      "Replacing bad words in ./course_dump/week08/day1_intro_to_bayesian_statistics/naive-bayes-spam-lab/datasets_test/easy_ham/foofoo2009.9f155332772871c05e2b980a153ff31e...\n",
      "Replacing bad words in ./course_dump/week08/day1_intro_to_bayesian_statistics/naive-bayes-spam-lab/datasets_test/easy_ham/0650.98f5c18e05ccd24028b10fa7317d67e8...\n",
      "Replacing bad words in ./course_dump/week08/day1_intro_to_bayesian_statistics/naive-bayes-spam-lab/datasets_test/easy_ham/1391.9cf584eba8880793c405082f2dbab06f...\n",
      "Replacing bad words in ./course_dump/week08/day1_intro_to_bayesian_statistics/naive-bayes-spam-lab/datasets_test/easy_ham/foo1462.ef8fdbd441dade85c95fa014b058b896...\n"
     ]
    },
    {
     "name": "stderr",
     "output_type": "stream",
     "text": [
      "106it [00:00, 1434.46it/s]\n",
      "83it [00:00, 1642.45it/s]\n",
      "121it [00:00, 1272.05it/s]\n",
      "21it [00:00, 1191.26it/s]\n",
      "0it [00:00, ?it/s]"
     ]
    },
    {
     "name": "stdout",
     "output_type": "stream",
     "text": [
      "Replacing bad words in ./course_dump/week08/day1_intro_to_bayesian_statistics/naive-bayes-spam-lab/datasets_test/easy_ham/0495.5c4fb5aab57f610e00c4d3b951216f16...\n",
      "Replacing bad words in ./course_dump/week08/day1_intro_to_bayesian_statistics/naive-bayes-spam-lab/datasets_test/easy_ham/0014.532e0a17d0674ba7a9baa7b0afe5fb52...\n",
      "Replacing bad words in ./course_dump/week08/day1_intro_to_bayesian_statistics/naive-bayes-spam-lab/datasets_test/easy_ham/foofoo1861.ace2433031b3ea150e728b34850cdceb...\n",
      "Replacing bad words in ./course_dump/week08/day1_intro_to_bayesian_statistics/naive-bayes-spam-lab/datasets_test/easy_ham/foo0991.f273a70df275a44e46f4544897eaee23...\n"
     ]
    },
    {
     "name": "stderr",
     "output_type": "stream",
     "text": [
      "72it [00:00, 1529.48it/s]\n",
      "75it [00:00, 1338.86it/s]\n",
      "75it [00:00, 1021.50it/s]\n",
      "62it [00:00, 1456.30it/s]\n",
      "0it [00:00, ?it/s]"
     ]
    },
    {
     "name": "stdout",
     "output_type": "stream",
     "text": [
      "Replacing bad words in ./course_dump/week08/day1_intro_to_bayesian_statistics/naive-bayes-spam-lab/datasets_test/easy_ham/foo0503.5364d68940343b854595410487aaa1ba...\n",
      "Replacing bad words in ./course_dump/week08/day1_intro_to_bayesian_statistics/naive-bayes-spam-lab/datasets_test/easy_ham/0306.7e8d58915713dcad975ed5591b31bdf4...\n",
      "Replacing bad words in ./course_dump/week08/day1_intro_to_bayesian_statistics/naive-bayes-spam-lab/datasets_test/easy_ham/0944.17f20b8ad4ea51e366873fa551ad20da...\n",
      "Replacing bad words in ./course_dump/week08/day1_intro_to_bayesian_statistics/naive-bayes-spam-lab/datasets_test/easy_ham/foo0880.6aa461d079bb0762af5c94d9af8487ec...\n"
     ]
    },
    {
     "name": "stderr",
     "output_type": "stream",
     "text": [
      "89it [00:00, 1624.22it/s]\n",
      "31it [00:00, 1712.84it/s]\n",
      "80it [00:00, 1451.28it/s]\n",
      "71it [00:00, 1394.84it/s]\n",
      "30it [00:00, 1568.71it/s]\n",
      "0it [00:00, ?it/s]"
     ]
    },
    {
     "name": "stdout",
     "output_type": "stream",
     "text": [
      "Replacing bad words in ./course_dump/week08/day1_intro_to_bayesian_statistics/naive-bayes-spam-lab/datasets_test/easy_ham/foo2170.78c282a5e417d6d231dc75aa8588ebb7...\n",
      "Replacing bad words in ./course_dump/week08/day1_intro_to_bayesian_statistics/naive-bayes-spam-lab/datasets_test/easy_ham/1337.eb38bf81b8a24991252e451208c24ecd...\n",
      "Replacing bad words in ./course_dump/week08/day1_intro_to_bayesian_statistics/naive-bayes-spam-lab/datasets_test/easy_ham/1131.7f31a18433046205b44e6b46f9677f9a...\n",
      "Replacing bad words in ./course_dump/week08/day1_intro_to_bayesian_statistics/naive-bayes-spam-lab/datasets_test/easy_ham/foo2425.9cef8b6162d888cdb9d7af1f21e788f2...\n",
      "Replacing bad words in ./course_dump/week08/day1_intro_to_bayesian_statistics/naive-bayes-spam-lab/datasets_test/easy_ham/foo1170.c4b2c469732c9fb5366078ecfc5c5823...\n"
     ]
    },
    {
     "name": "stderr",
     "output_type": "stream",
     "text": [
      "79it [00:00, 1432.92it/s]\n",
      "85it [00:00, 1172.06it/s]\n",
      "96it [00:00, 1605.80it/s]\n",
      "0it [00:00, ?it/s]"
     ]
    },
    {
     "name": "stdout",
     "output_type": "stream",
     "text": [
      "Replacing bad words in ./course_dump/week08/day1_intro_to_bayesian_statistics/naive-bayes-spam-lab/datasets_test/easy_ham/foo1403.344e5c5b7eb1469d645c1840552a3bf7...\n",
      "Replacing bad words in ./course_dump/week08/day1_intro_to_bayesian_statistics/naive-bayes-spam-lab/datasets_test/easy_ham/foo0515.7c5179be4289820f5b060e1ff2a38ab3...\n",
      "Replacing bad words in ./course_dump/week08/day1_intro_to_bayesian_statistics/naive-bayes-spam-lab/datasets_test/easy_ham/foo0878.24186e5267a8ec179a2e07f2da013932...\n"
     ]
    },
    {
     "name": "stderr",
     "output_type": "stream",
     "text": [
      "90it [00:00, 1415.85it/s]\n",
      "99it [00:00, 1534.35it/s]\n",
      "112it [00:00, 1642.29it/s]\n",
      "64it [00:00, 1312.36it/s]\n",
      "0it [00:00, ?it/s]"
     ]
    },
    {
     "name": "stdout",
     "output_type": "stream",
     "text": [
      "Replacing bad words in ./course_dump/week08/day1_intro_to_bayesian_statistics/naive-bayes-spam-lab/datasets_test/easy_ham/foo1521.692de69e480a819f6d32578f93fca74b...\n",
      "Replacing bad words in ./course_dump/week08/day1_intro_to_bayesian_statistics/naive-bayes-spam-lab/datasets_test/easy_ham/foo1414.c9aa0ebdc370411948a0c8bf4a7e6b14...\n",
      "Replacing bad words in ./course_dump/week08/day1_intro_to_bayesian_statistics/naive-bayes-spam-lab/datasets_test/easy_ham/foo0628.731724cb11140a651d8ad58451ea5c79...\n",
      "Replacing bad words in ./course_dump/week08/day1_intro_to_bayesian_statistics/naive-bayes-spam-lab/datasets_test/easy_ham/0117.fbc79c02a2c13d6c9b36f9ba38a09170...\n"
     ]
    },
    {
     "name": "stderr",
     "output_type": "stream",
     "text": [
      "61it [00:00, 1383.14it/s]\n",
      "94it [00:00, 1319.12it/s]\n",
      "47it [00:00, 1564.39it/s]\n",
      "0it [00:00, ?it/s]"
     ]
    },
    {
     "name": "stdout",
     "output_type": "stream",
     "text": [
      "Replacing bad words in ./course_dump/week08/day1_intro_to_bayesian_statistics/naive-bayes-spam-lab/datasets_test/easy_ham/0746.eb20a810f43c9bd9663c0da5e553ccc4...\n",
      "Replacing bad words in ./course_dump/week08/day1_intro_to_bayesian_statistics/naive-bayes-spam-lab/datasets_test/easy_ham/foo1997.3153cb4a5f2bc8052891b6d9e8bfceee...\n",
      "Replacing bad words in ./course_dump/week08/day1_intro_to_bayesian_statistics/naive-bayes-spam-lab/datasets_test/easy_ham/foo0428.de24142d3236bb96f3ef6542c7dd98e8...\n"
     ]
    },
    {
     "name": "stderr",
     "output_type": "stream",
     "text": [
      "185it [00:00, 1365.23it/s]\n",
      "69it [00:00, 1426.83it/s]\n",
      "89it [00:00, 1280.72it/s]\n",
      "0it [00:00, ?it/s]"
     ]
    },
    {
     "name": "stdout",
     "output_type": "stream",
     "text": [
      "Replacing bad words in ./course_dump/week08/day1_intro_to_bayesian_statistics/naive-bayes-spam-lab/datasets_test/easy_ham/0365.5351f6327efeedb441147904b04bd96a...\n",
      "Replacing bad words in ./course_dump/week08/day1_intro_to_bayesian_statistics/naive-bayes-spam-lab/datasets_test/easy_ham/0644.465fabd80d5659bce12a75942fc62c06...\n",
      "Replacing bad words in ./course_dump/week08/day1_intro_to_bayesian_statistics/naive-bayes-spam-lab/datasets_test/easy_ham/0807.f71b636c06421f0cddb167eed4c0be82...\n"
     ]
    },
    {
     "name": "stderr",
     "output_type": "stream",
     "text": [
      "272it [00:00, 1424.63it/s]\n",
      "75it [00:00, 1618.66it/s]\n",
      "103it [00:00, 1445.99it/s]\n",
      "30it [00:00, 1409.20it/s]\n",
      "64it [00:00, 1334.17it/s]\n"
     ]
    },
    {
     "name": "stdout",
     "output_type": "stream",
     "text": [
      "Replacing bad words in ./course_dump/week08/day1_intro_to_bayesian_statistics/naive-bayes-spam-lab/datasets_test/easy_ham/foo0054.a6fa82d1b26c7772829e54ec41a1fbd3...\n",
      "Replacing bad words in ./course_dump/week08/day1_intro_to_bayesian_statistics/naive-bayes-spam-lab/datasets_test/easy_ham/foo1273.eb9f0b877dc669691c45314b5b6ff605...\n",
      "Replacing bad words in ./course_dump/week08/day1_intro_to_bayesian_statistics/naive-bayes-spam-lab/datasets_test/easy_ham/foo2085.989d3abd458840ebc7d859721a34c40a...\n",
      "Replacing bad words in ./course_dump/week08/day1_intro_to_bayesian_statistics/naive-bayes-spam-lab/datasets_test/easy_ham/foo0814.1d2d3dedc0e3e216225f4af0e9323fb5...\n",
      "Replacing bad words in ./course_dump/week08/day1_intro_to_bayesian_statistics/naive-bayes-spam-lab/datasets_test/easy_ham/foofoo0049.bda43370915afa1f557f7edab6913e04...\n"
     ]
    },
    {
     "name": "stderr",
     "output_type": "stream",
     "text": [
      "41it [00:00, 1139.56it/s]\n",
      "71it [00:00, 1590.01it/s]\n",
      "113it [00:00, 1546.96it/s]\n",
      "86it [00:00, 1619.18it/s]\n",
      "0it [00:00, ?it/s]"
     ]
    },
    {
     "name": "stdout",
     "output_type": "stream",
     "text": [
      "Replacing bad words in ./course_dump/week08/day1_intro_to_bayesian_statistics/naive-bayes-spam-lab/datasets_test/easy_ham/foo0821.479ffdea3cc5f259f453afe16dd27e4a...\n",
      "Replacing bad words in ./course_dump/week08/day1_intro_to_bayesian_statistics/naive-bayes-spam-lab/datasets_test/easy_ham/1260.ed1791f5738995cd9420a9fc169be0d1...\n",
      "Replacing bad words in ./course_dump/week08/day1_intro_to_bayesian_statistics/naive-bayes-spam-lab/datasets_test/easy_ham/1331.6ad39d03e006435853139ea69757b8f4...\n",
      "Replacing bad words in ./course_dump/week08/day1_intro_to_bayesian_statistics/naive-bayes-spam-lab/datasets_test/easy_ham/foo1278.d6395388e0e11e622c6c348603c4ef74...\n"
     ]
    },
    {
     "name": "stderr",
     "output_type": "stream",
     "text": [
      "88it [00:00, 1333.18it/s]\n",
      "82it [00:00, 1486.60it/s]\n",
      "31it [00:00, 1395.73it/s]\n",
      "123it [00:00, 1583.78it/s]\n",
      "0it [00:00, ?it/s]"
     ]
    },
    {
     "name": "stdout",
     "output_type": "stream",
     "text": [
      "Replacing bad words in ./course_dump/week08/day1_intro_to_bayesian_statistics/naive-bayes-spam-lab/datasets_test/easy_ham/foo0810.0b45692b95f22dd7373a9f464e96a518...\n",
      "Replacing bad words in ./course_dump/week08/day1_intro_to_bayesian_statistics/naive-bayes-spam-lab/datasets_test/easy_ham/foo2402.f17c22d527836faa1f808a37f22f1b46...\n",
      "Replacing bad words in ./course_dump/week08/day1_intro_to_bayesian_statistics/naive-bayes-spam-lab/datasets_test/easy_ham/0348.3b405d7ce51b88004e6106862f9e3ac4...\n",
      "Replacing bad words in ./course_dump/week08/day1_intro_to_bayesian_statistics/naive-bayes-spam-lab/datasets_test/easy_ham/foo0296.42216a75e0256510b216eaba6893d40d...\n"
     ]
    },
    {
     "name": "stderr",
     "output_type": "stream",
     "text": [
      "79it [00:00, 1745.70it/s]\n",
      "67it [00:00, 1621.23it/s]\n",
      "171it [00:00, 1650.84it/s]\n",
      "0it [00:00, ?it/s]"
     ]
    },
    {
     "name": "stdout",
     "output_type": "stream",
     "text": [
      "Replacing bad words in ./course_dump/week08/day1_intro_to_bayesian_statistics/naive-bayes-spam-lab/datasets_test/easy_ham/foo0898.7ae0747c5a557c5362ba43b0fbfef22c...\n",
      "Replacing bad words in ./course_dump/week08/day1_intro_to_bayesian_statistics/naive-bayes-spam-lab/datasets_test/easy_ham/foo1471.2aa0881a829097828a279ffd6ff20ed3...\n",
      "Replacing bad words in ./course_dump/week08/day1_intro_to_bayesian_statistics/naive-bayes-spam-lab/datasets_test/easy_ham/0860.891fbb986b6531d3390a1e9035d571e1...\n"
     ]
    },
    {
     "name": "stderr",
     "output_type": "stream",
     "text": [
      "121it [00:00, 1292.34it/s]\n",
      "147it [00:00, 1350.73it/s]\n",
      "111it [00:00, 1543.55it/s]\n",
      "0it [00:00, ?it/s]"
     ]
    },
    {
     "name": "stdout",
     "output_type": "stream",
     "text": [
      "Replacing bad words in ./course_dump/week08/day1_intro_to_bayesian_statistics/naive-bayes-spam-lab/datasets_test/easy_ham/1721.2f654b5e99867bebf86ebb0280fb8e48...\n",
      "Replacing bad words in ./course_dump/week08/day1_intro_to_bayesian_statistics/naive-bayes-spam-lab/datasets_test/easy_ham/foo1667.aa251c5e7789a550ed91cdacb0d58649...\n",
      "Replacing bad words in ./course_dump/week08/day1_intro_to_bayesian_statistics/naive-bayes-spam-lab/datasets_test/easy_ham/0342.16612b49bb48a41b6bdba8dff6bb2399...\n"
     ]
    },
    {
     "name": "stderr",
     "output_type": "stream",
     "text": [
      "76it [00:00, 1292.54it/s]\n",
      "41it [00:00, 1338.46it/s]\n",
      "101it [00:00, 1509.93it/s]\n",
      "121it [00:00, 1648.43it/s]\n",
      "0it [00:00, ?it/s]"
     ]
    },
    {
     "name": "stdout",
     "output_type": "stream",
     "text": [
      "Replacing bad words in ./course_dump/week08/day1_intro_to_bayesian_statistics/naive-bayes-spam-lab/datasets_test/easy_ham/1753.f51bd31e8f0e63be278c22d7a4d2bf10...\n",
      "Replacing bad words in ./course_dump/week08/day1_intro_to_bayesian_statistics/naive-bayes-spam-lab/datasets_test/easy_ham/foo1505.7cc0d1e500937105c1503d63bd0b5161...\n",
      "Replacing bad words in ./course_dump/week08/day1_intro_to_bayesian_statistics/naive-bayes-spam-lab/datasets_test/easy_ham/1808.54f25b5c3ce8b81c56da0ef6693c5ffb...\n",
      "Replacing bad words in ./course_dump/week08/day1_intro_to_bayesian_statistics/naive-bayes-spam-lab/datasets_test/easy_ham/0220.1cca495dc30f98fc43adb00683029dbf...\n"
     ]
    },
    {
     "name": "stderr",
     "output_type": "stream",
     "text": [
      "94it [00:00, 1372.65it/s]\n",
      "40it [00:00, 1061.51it/s]\n",
      "26it [00:00, 1118.27it/s]\n",
      "149it [00:00, 1656.65it/s]\n",
      "0it [00:00, ?it/s]"
     ]
    },
    {
     "name": "stdout",
     "output_type": "stream",
     "text": [
      "Replacing bad words in ./course_dump/week08/day1_intro_to_bayesian_statistics/naive-bayes-spam-lab/datasets_test/easy_ham/foo2416.77fd4434a9abdaed5b53307fa16a7e2a...\n",
      "Replacing bad words in ./course_dump/week08/day1_intro_to_bayesian_statistics/naive-bayes-spam-lab/datasets_test/easy_ham/foo0185.2ed7f65beefa89e31abb4fbc75c18956...\n",
      "Replacing bad words in ./course_dump/week08/day1_intro_to_bayesian_statistics/naive-bayes-spam-lab/datasets_test/easy_ham/1696.7e22fd3302271b7e8cb745edb9254c71...\n",
      "Replacing bad words in ./course_dump/week08/day1_intro_to_bayesian_statistics/naive-bayes-spam-lab/datasets_test/easy_ham/foo0112.b6c2ea75f9f7efcd3d0e4c43a751479c...\n"
     ]
    },
    {
     "name": "stderr",
     "output_type": "stream",
     "text": [
      "83it [00:00, 1370.43it/s]\n",
      "76it [00:00, 1496.77it/s]\n",
      "121it [00:00, 1522.15it/s]\n",
      "0it [00:00, ?it/s]"
     ]
    },
    {
     "name": "stdout",
     "output_type": "stream",
     "text": [
      "Replacing bad words in ./course_dump/week08/day1_intro_to_bayesian_statistics/naive-bayes-spam-lab/datasets_test/easy_ham/1852.da79f6e9c4f07174e5dec173c9481b99...\n",
      "Replacing bad words in ./course_dump/week08/day1_intro_to_bayesian_statistics/naive-bayes-spam-lab/datasets_test/easy_ham/foo1808.54f25b5c3ce8b81c56da0ef6693c5ffb...\n",
      "Replacing bad words in ./course_dump/week08/day1_intro_to_bayesian_statistics/naive-bayes-spam-lab/datasets_test/easy_ham/foo0069.7173de1d2da14306c5a20e8abda7a6e2...\n"
     ]
    },
    {
     "name": "stderr",
     "output_type": "stream",
     "text": [
      "113it [00:00, 1402.80it/s]\n",
      "85it [00:00, 1502.38it/s]\n",
      "71it [00:00, 1701.96it/s]\n",
      "69it [00:00, 1506.06it/s]\n",
      "28it [00:00, 1450.98it/s]\n",
      "0it [00:00, ?it/s]"
     ]
    },
    {
     "name": "stdout",
     "output_type": "stream",
     "text": [
      "Replacing bad words in ./course_dump/week08/day1_intro_to_bayesian_statistics/naive-bayes-spam-lab/datasets_test/easy_ham/foo1385.be576b43bd3da84b5752402ef0acf1d4...\n",
      "Replacing bad words in ./course_dump/week08/day1_intro_to_bayesian_statistics/naive-bayes-spam-lab/datasets_test/easy_ham/0920.cad45fa889324a42667e6da8d3a8006f...\n",
      "Replacing bad words in ./course_dump/week08/day1_intro_to_bayesian_statistics/naive-bayes-spam-lab/datasets_test/easy_ham/1133.4b5a4ac1c2bd770e63cc85059145ebe1...\n",
      "Replacing bad words in ./course_dump/week08/day1_intro_to_bayesian_statistics/naive-bayes-spam-lab/datasets_test/easy_ham/foofoo1768.e849ebd7ee95f02a6f4d937acb7575e2...\n",
      "Replacing bad words in ./course_dump/week08/day1_intro_to_bayesian_statistics/naive-bayes-spam-lab/datasets_test/easy_ham/0354.297d496266df9171aace690c7483f35c...\n"
     ]
    },
    {
     "name": "stderr",
     "output_type": "stream",
     "text": [
      "78it [00:00, 1279.45it/s]\n",
      "82it [00:00, 1521.39it/s]\n",
      "47it [00:00, 1288.96it/s]\n",
      "146it [00:00, 1492.98it/s]\n",
      "0it [00:00, ?it/s]"
     ]
    },
    {
     "name": "stdout",
     "output_type": "stream",
     "text": [
      "Replacing bad words in ./course_dump/week08/day1_intro_to_bayesian_statistics/naive-bayes-spam-lab/datasets_test/easy_ham/1715.7e47339df52b3d0c131273f1c58ba4eb...\n",
      "Replacing bad words in ./course_dump/week08/day1_intro_to_bayesian_statistics/naive-bayes-spam-lab/datasets_test/easy_ham/2364.3e4ea188baa5301f26758bee4aeeae57...\n",
      "Replacing bad words in ./course_dump/week08/day1_intro_to_bayesian_statistics/naive-bayes-spam-lab/datasets_test/easy_ham/foo0053.71bcb179e702d98e88fd0bc081ba0f52...\n",
      "Replacing bad words in ./course_dump/week08/day1_intro_to_bayesian_statistics/naive-bayes-spam-lab/datasets_test/easy_ham/foo2457.5fba5a23aa428e3201526f7c978c88c6...\n"
     ]
    },
    {
     "name": "stderr",
     "output_type": "stream",
     "text": [
      "46it [00:00, 1590.44it/s]\n",
      "176it [00:00, 1589.69it/s]\n",
      "100it [00:00, 1413.37it/s]\n",
      "0it [00:00, ?it/s]"
     ]
    },
    {
     "name": "stdout",
     "output_type": "stream",
     "text": [
      "Replacing bad words in ./course_dump/week08/day1_intro_to_bayesian_statistics/naive-bayes-spam-lab/datasets_test/easy_ham/foofoo1394.3ed871ba71edd281c9dbf0d5db738842...\n",
      "Replacing bad words in ./course_dump/week08/day1_intro_to_bayesian_statistics/naive-bayes-spam-lab/datasets_test/easy_ham/foo0691.bdcd311a789b4002c5f1afd663aaa1df...\n",
      "Replacing bad words in ./course_dump/week08/day1_intro_to_bayesian_statistics/naive-bayes-spam-lab/datasets_test/easy_ham/1553.057f1ee3da7c975523f475fc0c4fae71...\n"
     ]
    },
    {
     "name": "stderr",
     "output_type": "stream",
     "text": [
      "88it [00:00, 1535.63it/s]\n",
      "30it [00:00, 1505.93it/s]\n",
      "31it [00:00, 1377.97it/s]\n",
      "29it [00:00, 1187.63it/s]\n",
      "85it [00:00, 1612.38it/s]\n",
      "66it [00:00, 1598.56it/s]\n",
      "0it [00:00, ?it/s]"
     ]
    },
    {
     "name": "stdout",
     "output_type": "stream",
     "text": [
      "Replacing bad words in ./course_dump/week08/day1_intro_to_bayesian_statistics/naive-bayes-spam-lab/datasets_test/easy_ham/2095.c0d4fbeea4942b5c55a59655694bdb9e...\n",
      "Replacing bad words in ./course_dump/week08/day1_intro_to_bayesian_statistics/naive-bayes-spam-lab/datasets_test/easy_ham/2133.d3d4f15eb898bffe360f99678d9cae2c...\n",
      "Replacing bad words in ./course_dump/week08/day1_intro_to_bayesian_statistics/naive-bayes-spam-lab/datasets_test/easy_ham/2291.3560a8bef18a21ce572bab2c364571d7...\n",
      "Replacing bad words in ./course_dump/week08/day1_intro_to_bayesian_statistics/naive-bayes-spam-lab/datasets_test/easy_ham/0294.145bbce5c541610ee520838637d2e112...\n",
      "Replacing bad words in ./course_dump/week08/day1_intro_to_bayesian_statistics/naive-bayes-spam-lab/datasets_test/easy_ham/foo0270.5a7d9b20e00fc24d6c929c198718f5a3...\n",
      "Replacing bad words in ./course_dump/week08/day1_intro_to_bayesian_statistics/naive-bayes-spam-lab/datasets_test/easy_ham/1425.7ed3569c34399b07b158eaead1c85cc8...\n"
     ]
    },
    {
     "name": "stderr",
     "output_type": "stream",
     "text": [
      "63it [00:00, 1530.00it/s]\n",
      "94it [00:00, 1416.36it/s]\n",
      "88it [00:00, 1498.14it/s]\n",
      "0it [00:00, ?it/s]"
     ]
    },
    {
     "name": "stdout",
     "output_type": "stream",
     "text": [
      "Replacing bad words in ./course_dump/week08/day1_intro_to_bayesian_statistics/naive-bayes-spam-lab/datasets_test/easy_ham/foo1415.92155ef4a4f97a787d636892dd1a0219...\n",
      "Replacing bad words in ./course_dump/week08/day1_intro_to_bayesian_statistics/naive-bayes-spam-lab/datasets_test/easy_ham/foo1276.833510ba5d9158c1172f5edf1277d41c...\n",
      "Replacing bad words in ./course_dump/week08/day1_intro_to_bayesian_statistics/naive-bayes-spam-lab/datasets_test/easy_ham/1022.73ab70b91862d709897cfe3dd5bb22a0...\n"
     ]
    },
    {
     "name": "stderr",
     "output_type": "stream",
     "text": [
      "391it [00:00, 1299.16it/s]\n"
     ]
    },
    {
     "ename": "KeyboardInterrupt",
     "evalue": "",
     "output_type": "error",
     "traceback": [
      "\u001b[0;31m----------------------------------------------------------\u001b[0m",
      "\u001b[0;31mKeyboardInterrupt\u001b[0m        Traceback (most recent call last)",
      "\u001b[0;32m<ipython-input-48-6348b7576705>\u001b[0m in \u001b[0;36m<module>\u001b[0;34m()\u001b[0m\n\u001b[1;32m     12\u001b[0m         \u001b[0;32mfor\u001b[0m \u001b[0mname\u001b[0m \u001b[0;32min\u001b[0m \u001b[0mfiles\u001b[0m\u001b[0;34m:\u001b[0m\u001b[0;34m\u001b[0m\u001b[0m\n\u001b[1;32m     13\u001b[0m \u001b[0;31m#             if i < 2:\u001b[0m\u001b[0;34m\u001b[0m\u001b[0;34m\u001b[0m\u001b[0m\n\u001b[0;32m---> 14\u001b[0;31m             \u001b[0mmyFinder\u001b[0m\u001b[0;34m.\u001b[0m\u001b[0merase_shit\u001b[0m\u001b[0;34m(\u001b[0m\u001b[0mroot\u001b[0m\u001b[0;34m+\u001b[0m\u001b[0;34m'/'\u001b[0m\u001b[0;34m+\u001b[0m\u001b[0mname\u001b[0m\u001b[0;34m,\u001b[0m \u001b[0mroot\u001b[0m\u001b[0;34m+\u001b[0m\u001b[0;34m'/'\u001b[0m\u001b[0;34m+\u001b[0m\u001b[0;34m'foo'\u001b[0m\u001b[0;34m+\u001b[0m\u001b[0mname\u001b[0m\u001b[0;34m,\u001b[0m \u001b[0mmy_badwords\u001b[0m\u001b[0;34m)\u001b[0m\u001b[0;34m\u001b[0m\u001b[0m\n\u001b[0m\u001b[1;32m     15\u001b[0m \u001b[0;31m#                 i += 1\u001b[0m\u001b[0;34m\u001b[0m\u001b[0;34m\u001b[0m\u001b[0m\n",
      "\u001b[0;32m<ipython-input-46-d458b2a054f8>\u001b[0m in \u001b[0;36merase_shit\u001b[0;34m(self, input_file, output_file, bad_words)\u001b[0m\n\u001b[1;32m     57\u001b[0m                 \u001b[0mshit_dict\u001b[0m \u001b[0;34m=\u001b[0m \u001b[0;34m{\u001b[0m\u001b[0;34m}\u001b[0m\u001b[0;34m\u001b[0m\u001b[0m\n\u001b[1;32m     58\u001b[0m                 \u001b[0;32mfor\u001b[0m \u001b[0mcontent\u001b[0m \u001b[0;32min\u001b[0m \u001b[0mtqdm\u001b[0m\u001b[0;34m(\u001b[0m\u001b[0minfile\u001b[0m\u001b[0;34m)\u001b[0m\u001b[0;34m:\u001b[0m\u001b[0;34m\u001b[0m\u001b[0m\n\u001b[0;32m---> 59\u001b[0;31m                     \u001b[0;32mif\u001b[0m \u001b[0mlen\u001b[0m\u001b[0;34m(\u001b[0m\u001b[0mre\u001b[0m\u001b[0;34m.\u001b[0m\u001b[0mfindall\u001b[0m\u001b[0;34m(\u001b[0m\u001b[0mself\u001b[0m\u001b[0;34m.\u001b[0m\u001b[0m__makeRegex__\u001b[0m\u001b[0;34m(\u001b[0m\u001b[0mbad_words\u001b[0m\u001b[0;34m)\u001b[0m\u001b[0;34m,\u001b[0m \u001b[0mcontent\u001b[0m\u001b[0;34m)\u001b[0m\u001b[0;34m)\u001b[0m \u001b[0;34m>\u001b[0m \u001b[0;36m0\u001b[0m\u001b[0;34m:\u001b[0m\u001b[0;34m\u001b[0m\u001b[0m\n\u001b[0m\u001b[1;32m     60\u001b[0m         \u001b[0;31m#                 print('Replacing {}...'.format(re.findall(self.__makeRegex__(bad_words), content)[0]))\u001b[0m\u001b[0;34m\u001b[0m\u001b[0;34m\u001b[0m\u001b[0m\n\u001b[1;32m     61\u001b[0m                         \u001b[0;32mif\u001b[0m \u001b[0mre\u001b[0m\u001b[0;34m.\u001b[0m\u001b[0mfindall\u001b[0m\u001b[0;34m(\u001b[0m\u001b[0mself\u001b[0m\u001b[0;34m.\u001b[0m\u001b[0m__makeRegex__\u001b[0m\u001b[0;34m(\u001b[0m\u001b[0mbad_words\u001b[0m\u001b[0;34m)\u001b[0m\u001b[0;34m,\u001b[0m \u001b[0mcontent\u001b[0m\u001b[0;34m)\u001b[0m\u001b[0;34m[\u001b[0m\u001b[0;36m0\u001b[0m\u001b[0;34m]\u001b[0m \u001b[0;32min\u001b[0m \u001b[0mshit_dict\u001b[0m\u001b[0;34m:\u001b[0m\u001b[0;34m\u001b[0m\u001b[0m\n",
      "\u001b[0;32m<ipython-input-46-d458b2a054f8>\u001b[0m in \u001b[0;36m__makeRegex__\u001b[0;34m(self, shitToFind)\u001b[0m\n\u001b[1;32m     26\u001b[0m             \u001b[0;31m# case insensitive (?i) has deprecation warning:\u001b[0m\u001b[0;34m\u001b[0m\u001b[0;34m\u001b[0m\u001b[0m\n\u001b[1;32m     27\u001b[0m             \u001b[0;31m# https://github.com/bottlepy/bottle/issues/949\u001b[0m\u001b[0;34m\u001b[0m\u001b[0;34m\u001b[0m\u001b[0m\n\u001b[0;32m---> 28\u001b[0;31m             \u001b[0mshitString\u001b[0m \u001b[0;34m+=\u001b[0m \u001b[0;34mr\"(?i)\\b\"\u001b[0m \u001b[0;34m+\u001b[0m \u001b[0mword\u001b[0m \u001b[0;34m+\u001b[0m \u001b[0;34mr\"\\b|\"\u001b[0m\u001b[0;34m\u001b[0m\u001b[0m\n\u001b[0m\u001b[1;32m     29\u001b[0m         \u001b[0;32mreturn\u001b[0m \u001b[0mshitString\u001b[0m\u001b[0;34m[\u001b[0m\u001b[0;34m:\u001b[0m\u001b[0;34m-\u001b[0m\u001b[0;36m1\u001b[0m\u001b[0;34m]\u001b[0m\u001b[0;34m\u001b[0m\u001b[0m\n\u001b[1;32m     30\u001b[0m \u001b[0;34m\u001b[0m\u001b[0m\n",
      "\u001b[0;31mKeyboardInterrupt\u001b[0m: "
     ]
    }
   ],
   "source": [
    "# I need to merge this into the main class probabry\n",
    "\n",
    "root_paths = [\n",
    "    './course_dump/week08/day1_intro_to_bayesian_statistics/naive-bayes-spam-lab/datasets_test/easy_ham',\n",
    "    './course_dump/week08/day1_intro_to_bayesian_statistics/naive-bayes-spam-lab/datasets_test/hard_ham',\n",
    "    './course_dump/week08/day1_intro_to_bayesian_statistics/naive-bayes-spam-lab/datasets_test/spam'\n",
    "]\n",
    "for root_path in root_paths:\n",
    "#     i = 0\n",
    "    for (root, dirs, files) in os.walk(root_path):\n",
    "        # prints files but not directories\n",
    "        for name in files:\n",
    "#             if i < 2:\n",
    "            myFinder.erase_shit(root+'/'+name, root+'/'+'foo'+name, my_badwords)\n",
    "#                 i += 1"
   ]
  },
  {
   "cell_type": "code",
   "execution_count": 95,
   "metadata": {},
   "outputs": [
    {
     "name": "stderr",
     "output_type": "stream",
     "text": [
      "117it [00:00, 1340.94it/s]"
     ]
    },
    {
     "name": "stdout",
     "output_type": "stream",
     "text": [
      "Replacing bad words in ./course_dump/week08/day1_intro_to_bayesian_statistics/naive-bayes-spam-lab/datasets_two//0107.f1d4194b57840ea6587b9a73ed88e075...\n",
      "overwriting ./course_dump/week08/day1_intro_to_bayesian_statistics/naive-bayes-spam-lab/datasets_two//0107.f1d4194b57840ea6587b9a73ed88e075.tmp with ./course_dump/week08/day1_intro_to_bayesian_statistics/naive-bayes-spam-lab/datasets_two//0107.f1d4194b57840ea6587b9a73ed88e075new_\n"
     ]
    },
    {
     "name": "stderr",
     "output_type": "stream",
     "text": [
      "\n"
     ]
    }
   ],
   "source": [
    "myFinder.erase_shit_test(['./course_dump/week08/day1_intro_to_bayesian_statistics/naive-bayes-spam-lab/datasets_two/'], postfix='new_', bad_words=my_badwords)"
   ]
  }
 ],
 "metadata": {
  "kernelspec": {
   "display_name": "Python 3",
   "language": "python",
   "name": "python3"
  },
  "language_info": {
   "codemirror_mode": {
    "name": "ipython",
    "version": 3
   },
   "file_extension": ".py",
   "mimetype": "text/x-python",
   "name": "python",
   "nbconvert_exporter": "python",
   "pygments_lexer": "ipython3",
   "version": "3.6.6"
  },
  "toc": {
   "nav_menu": {},
   "number_sections": true,
   "sideBar": true,
   "skip_h1_title": false,
   "title_cell": "Table of Contents",
   "title_sidebar": "Contents",
   "toc_cell": false,
   "toc_position": {},
   "toc_section_display": true,
   "toc_window_display": false
  }
 },
 "nbformat": 4,
 "nbformat_minor": 2
}
